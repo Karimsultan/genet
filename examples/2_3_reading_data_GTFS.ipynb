{
 "cells": [
  {
   "cell_type": "markdown",
   "metadata": {},
   "source": [
    "# 2.3. Reading data: GTFS\n",
    "\n",
    "This page goes through methods for reading in GTFS ([General Transit Feed Specification](https://developers.google.com/transit/gtfs)). \n",
    "[Here](https://developers.google.com/transit/gtfs/reference) is the reference page for the schema of GTFS data.\n",
    "\n",
    "GeNet ingests zipped or unzipped GTFS feeds. The following files are required in the unzipped folder, or inside the zip file:\n",
    "- `calendar.txt`\n",
    "- `stop_times.txt`\n",
    "- `stops.txt`\n",
    "- `trips.txt`\n",
    "- `routes.txt`\n",
    "\n",
    "When reading a GTFS feed, GeNet expects a date in `YYYYMMDD` format. It will raise an error if the selected date yields no services.\n",
    "\n",
    "GeNet does support extraction of services/routes/stops in the output `genet.Schedule` object based on a geographical area (Methods: `services_on_spatial_condition`, `routes_on_spatial_condition`, `stops_on_spatial_condition`, more information in notebook on using genet Network), but you might like to use [gtfs-lib](https://github.com/conveyal/gtfs-lib) prior to ingestion in GeNet.\n",
    "\n",
    "The user assumes responsibility for the quality of their input GTFS feed. \n",
    "There are various validation tools that can be used with GTFS feeds before using with GeNet, see [this page](https://gtfs.org/testing/) for a summary of validation tools."
   ]
  },
  {
   "cell_type": "code",
   "execution_count": 1,
   "metadata": {
    "ExecuteTime": {
     "end_time": "2022-07-14T14:27:50.728277Z",
     "start_time": "2022-07-14T14:27:44.115090Z"
    },
    "execution": {
     "iopub.execute_input": "2023-09-22T15:39:05.926734Z",
     "iopub.status.busy": "2023-09-22T15:39:05.926574Z",
     "iopub.status.idle": "2023-09-22T15:39:09.312664Z",
     "shell.execute_reply": "2023-09-22T15:39:09.312091Z"
    }
   },
   "outputs": [],
   "source": [
    "from genet import read_gtfs"
   ]
  },
  {
   "cell_type": "markdown",
   "metadata": {},
   "source": [
    "We initiate an empty `Schedule`"
   ]
  },
  {
   "cell_type": "code",
   "execution_count": 2,
   "metadata": {
    "ExecuteTime": {
     "end_time": "2022-07-14T14:27:51.182294Z",
     "start_time": "2022-07-14T14:27:50.736071Z"
    },
    "execution": {
     "iopub.execute_input": "2023-09-22T15:39:09.316254Z",
     "iopub.status.busy": "2023-09-22T15:39:09.315729Z",
     "iopub.status.idle": "2023-09-22T15:39:09.381983Z",
     "shell.execute_reply": "2023-09-22T15:39:09.381578Z"
    }
   },
   "outputs": [
    {
     "name": "stderr",
     "output_type": "stream",
     "text": [
      "2023-09-22 16:39:09,317 - Reading GTFS from example_data/example_gtfs\n"
     ]
    },
    {
     "name": "stderr",
     "output_type": "stream",
     "text": [
      "2023-09-22 16:39:09,318 - Reading the calendar for GTFS\n"
     ]
    },
    {
     "name": "stderr",
     "output_type": "stream",
     "text": [
      "2023-09-22 16:39:09,321 - Reading GTFS data into usable format\n"
     ]
    },
    {
     "name": "stderr",
     "output_type": "stream",
     "text": [
      "2023-09-22 16:39:09,321 - Reading stop times\n"
     ]
    },
    {
     "name": "stderr",
     "output_type": "stream",
     "text": [
      "2023-09-22 16:39:09,325 - Reading trips\n"
     ]
    },
    {
     "name": "stderr",
     "output_type": "stream",
     "text": [
      "2023-09-22 16:39:09,327 - Reading stops\n"
     ]
    },
    {
     "name": "stderr",
     "output_type": "stream",
     "text": [
      "2023-09-22 16:39:09,329 - Reading routes\n"
     ]
    }
   ],
   "source": [
    "s = read_gtfs(\"example_data/example_gtfs\", \"20190603\")"
   ]
  },
  {
   "cell_type": "markdown",
   "metadata": {},
   "source": [
    "GTFS is assumed to be in `epsg:4326`, you need to project the Schedule to projection you require."
   ]
  },
  {
   "cell_type": "code",
   "execution_count": 3,
   "metadata": {
    "ExecuteTime": {
     "end_time": "2022-07-14T14:27:51.290606Z",
     "start_time": "2022-07-14T14:27:51.190367Z"
    },
    "execution": {
     "iopub.execute_input": "2023-09-22T15:39:09.389178Z",
     "iopub.status.busy": "2023-09-22T15:39:09.388905Z",
     "iopub.status.idle": "2023-09-22T15:39:09.411681Z",
     "shell.execute_reply": "2023-09-22T15:39:09.411159Z"
    }
   },
   "outputs": [],
   "source": [
    "s.reproject(\"epsg:27700\")"
   ]
  },
  {
   "cell_type": "code",
   "execution_count": 4,
   "metadata": {
    "ExecuteTime": {
     "end_time": "2022-07-14T14:27:51.332958Z",
     "start_time": "2022-07-14T14:27:51.312080Z"
    },
    "execution": {
     "iopub.execute_input": "2023-09-22T15:39:09.414020Z",
     "iopub.status.busy": "2023-09-22T15:39:09.413823Z",
     "iopub.status.idle": "2023-09-22T15:39:09.416873Z",
     "shell.execute_reply": "2023-09-22T15:39:09.416503Z"
    }
   },
   "outputs": [
    {
     "name": "stdout",
     "output_type": "stream",
     "text": [
      "Schedule:\n",
      "Number of services: 2\n",
      "Number of routes: 2\n",
      "Number of stops: 4\n"
     ]
    }
   ],
   "source": [
    "s.print()"
   ]
  },
  {
   "cell_type": "code",
   "execution_count": 5,
   "metadata": {
    "ExecuteTime": {
     "end_time": "2022-07-14T14:27:51.401968Z",
     "start_time": "2022-07-14T14:27:51.361366Z"
    },
    "execution": {
     "iopub.execute_input": "2023-09-22T15:39:09.418928Z",
     "iopub.status.busy": "2023-09-22T15:39:09.418742Z",
     "iopub.status.idle": "2023-09-22T15:39:09.421272Z",
     "shell.execute_reply": "2023-09-22T15:39:09.420834Z"
    }
   },
   "outputs": [],
   "source": [
    "# s.plot()"
   ]
  }
 ],
 "metadata": {
  "kernelspec": {
   "display_name": "genet",
   "language": "python",
   "name": "genet"
  },
  "language_info": {
   "codemirror_mode": {
    "name": "ipython",
    "version": 3
   },
   "file_extension": ".py",
   "mimetype": "text/x-python",
   "name": "python",
   "nbconvert_exporter": "python",
   "pygments_lexer": "ipython3",
   "version": "3.11.5"
  },
  "latex_envs": {
   "LaTeX_envs_menu_present": true,
   "autoclose": true,
   "autocomplete": true,
   "bibliofile": "biblio.bib",
   "cite_by": "apalike",
   "current_citInitial": 1,
   "eqLabelWithNumbers": true,
   "eqNumInitial": 1,
   "hotkeys": {
    "equation": "Ctrl-E",
    "itemize": "Ctrl-I"
   },
   "labels_anchors": false,
   "latex_user_defs": false,
   "report_style_numbering": false,
   "user_envs_cfg": false
  },
  "toc": {
   "base_numbering": 1,
   "nav_menu": {},
   "number_sections": true,
   "sideBar": true,
   "skip_h1_title": false,
   "title_cell": "Table of Contents",
   "title_sidebar": "Contents",
   "toc_cell": false,
   "toc_position": {},
   "toc_section_display": true,
   "toc_window_display": false
  },
  "varInspector": {
   "cols": {
    "lenName": 16,
    "lenType": 16,
    "lenVar": 40
   },
   "kernels_config": {
    "python": {
     "delete_cmd_postfix": "",
     "delete_cmd_prefix": "del ",
     "library": "var_list.py",
     "varRefreshCmd": "print(var_dic_list())"
    },
    "r": {
     "delete_cmd_postfix": ") ",
     "delete_cmd_prefix": "rm(",
     "library": "var_list.r",
     "varRefreshCmd": "cat(var_dic_list()) "
    }
   },
   "types_to_exclude": [
    "module",
    "function",
    "builtin_function_or_method",
    "instance",
    "_Feature"
   ],
   "window_display": false
  }
 },
 "nbformat": 4,
 "nbformat_minor": 2
}
