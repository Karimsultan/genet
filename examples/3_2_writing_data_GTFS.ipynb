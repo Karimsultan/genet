{
 "cells": [
  {
   "cell_type": "markdown",
   "metadata": {},
   "source": [
    "# 3.2. Writing data: GTFS\n",
    "Available as a jupyter notebook or wiki page.\n",
    "\n",
    "GeNet can generate CSV or text files in GTFS-like format based on a `Schedule` object. It will return the following file\n",
    "- `calendar.txt`\n",
    "- `stop_times.txt`\n",
    "- `stops.txt`\n",
    "- `trips.txt`\n",
    "- `routes.txt`\n",
    "(or .csv depending on the method used)\n",
    "\n",
    "When reading a GTFS feed, GeNet expects a date in `YYYYMMDD` format. It does not retain this information. You are required to pass this GTFS day when exporting to GTFS. `Schedule` object does not contain a lot of the optional GTFS data  point (a lot more is retained if the Schedule was created through GeNet). In particular, if using MATSim files as input, your Schedule will mostly contain only the required fields. Other important remarks:\n",
    "- list of network link IDs associated with the transit routes as the path and the relation of stops to network link IDs is not exported.\n",
    "- `agency.txt` is not generated\n",
    "- `service_id` is generated from Service objects. If the Schedule object is generated from GTFS through GeNet, those service IDs are based off of the `route_id` field in GTFS. This means the two fields in output GTFS are the same. The transit route split of services (based on ordered chain of stops) is lost when exporting to GTFS.\n",
    "- you can pass you own `mode_to_route_type` dictionary that will map modes in the Schedule to the `route_type` codes you want. Otherwise it will default to\n",
    "```\n",
    "{\n",
    "    \"tram\": 0, \"subway\": 1, \"rail\": 2, \"bus\": 3, \"ferry\": 4, \"cablecar\": 5, \"gondola\": 6, \"funicular\": 7\n",
    "}\n",
    "```\n",
    "based on [this](https://developers.google.com/transit/gtfs/reference#routestxt). **Caveat** - if you have read Schedule from GTFS, the `route_type` codes are retained and will not be changed.\n",
    "\n",
    "[Here](https://developers.google.com/transit/gtfs/reference) is the reference page for the schema of GTFS data."
   ]
  },
  {
   "cell_type": "code",
   "execution_count": 1,
   "metadata": {
    "ExecuteTime": {
     "end_time": "2022-07-14T14:32:41.107262Z",
     "start_time": "2022-07-14T14:32:36.177397Z"
    },
    "execution": {
     "iopub.execute_input": "2023-09-22T15:38:48.188807Z",
     "iopub.status.busy": "2023-09-22T15:38:48.188484Z",
     "iopub.status.idle": "2023-09-22T15:38:52.072983Z",
     "shell.execute_reply": "2023-09-22T15:38:52.072540Z"
    }
   },
   "outputs": [
    {
     "name": "stderr",
     "output_type": "stream",
     "text": [
      "2023-09-22 16:38:51,957 - Reading GTFS from example_data/example_gtfs\n"
     ]
    },
    {
     "name": "stderr",
     "output_type": "stream",
     "text": [
      "2023-09-22 16:38:51,957 - Reading the calendar for GTFS\n"
     ]
    },
    {
     "name": "stderr",
     "output_type": "stream",
     "text": [
      "2023-09-22 16:38:51,980 - Reading GTFS data into usable format\n"
     ]
    },
    {
     "name": "stderr",
     "output_type": "stream",
     "text": [
      "2023-09-22 16:38:51,981 - Reading stop times\n"
     ]
    },
    {
     "name": "stderr",
     "output_type": "stream",
     "text": [
      "2023-09-22 16:38:51,989 - Reading trips\n"
     ]
    },
    {
     "name": "stderr",
     "output_type": "stream",
     "text": [
      "2023-09-22 16:38:51,995 - Reading stops\n"
     ]
    },
    {
     "name": "stderr",
     "output_type": "stream",
     "text": [
      "2023-09-22 16:38:52,007 - Reading routes\n"
     ]
    },
    {
     "data": {
      "text/plain": [
       "<Schedule instance at 11107971088: with 2 services>"
      ]
     },
     "execution_count": 1,
     "metadata": {},
     "output_type": "execute_result"
    }
   ],
   "source": [
    "from genet import read_gtfs\n",
    "\n",
    "s = read_gtfs(\"example_data/example_gtfs\", \"20190603\")\n",
    "s"
   ]
  },
  {
   "cell_type": "markdown",
   "metadata": {},
   "source": [
    "You can export `Schedule` straight to files:"
   ]
  },
  {
   "cell_type": "code",
   "execution_count": 2,
   "metadata": {
    "ExecuteTime": {
     "end_time": "2022-07-14T14:32:41.236081Z",
     "start_time": "2022-07-14T14:32:41.109864Z"
    },
    "execution": {
     "iopub.execute_input": "2023-09-22T15:38:52.076803Z",
     "iopub.status.busy": "2023-09-22T15:38:52.076569Z",
     "iopub.status.idle": "2023-09-22T15:38:52.151516Z",
     "shell.execute_reply": "2023-09-22T15:38:52.151011Z"
    }
   },
   "outputs": [
    {
     "name": "stderr",
     "output_type": "stream",
     "text": [
      "2023-09-22 16:38:52,078 - Saving Schedule to GTFS csv in example_data/outputs/gtfs\n"
     ]
    },
    {
     "name": "stderr",
     "output_type": "stream",
     "text": [
      "2023-09-22 16:38:52,108 - Saving example_data/outputs/gtfs/stops.csv\n"
     ]
    },
    {
     "name": "stderr",
     "output_type": "stream",
     "text": [
      "2023-09-22 16:38:52,126 - Saving example_data/outputs/gtfs/routes.csv\n"
     ]
    },
    {
     "name": "stderr",
     "output_type": "stream",
     "text": [
      "2023-09-22 16:38:52,131 - Saving example_data/outputs/gtfs/trips.csv\n"
     ]
    },
    {
     "name": "stderr",
     "output_type": "stream",
     "text": [
      "2023-09-22 16:38:52,136 - Saving example_data/outputs/gtfs/stop_times.csv\n"
     ]
    },
    {
     "name": "stderr",
     "output_type": "stream",
     "text": [
      "2023-09-22 16:38:52,141 - Saving example_data/outputs/gtfs/calendar.csv\n"
     ]
    }
   ],
   "source": [
    "s.write_to_csv(\"example_data/outputs/gtfs\", \"20190603\")"
   ]
  },
  {
   "cell_type": "code",
   "execution_count": 3,
   "metadata": {
    "ExecuteTime": {
     "end_time": "2022-07-14T14:32:41.322485Z",
     "start_time": "2022-07-14T14:32:41.240497Z"
    },
    "execution": {
     "iopub.execute_input": "2023-09-22T15:38:52.154164Z",
     "iopub.status.busy": "2023-09-22T15:38:52.153928Z",
     "iopub.status.idle": "2023-09-22T15:38:52.220133Z",
     "shell.execute_reply": "2023-09-22T15:38:52.219108Z"
    }
   },
   "outputs": [
    {
     "name": "stderr",
     "output_type": "stream",
     "text": [
      "2023-09-22 16:38:52,155 - Saving Schedule to GTFS txt in example_data/outputs/gtfs\n"
     ]
    },
    {
     "name": "stderr",
     "output_type": "stream",
     "text": [
      "2023-09-22 16:38:52,184 - Saving example_data/outputs/gtfs/stops.txt\n"
     ]
    },
    {
     "name": "stderr",
     "output_type": "stream",
     "text": [
      "2023-09-22 16:38:52,194 - Saving example_data/outputs/gtfs/routes.txt\n"
     ]
    },
    {
     "name": "stderr",
     "output_type": "stream",
     "text": [
      "2023-09-22 16:38:52,197 - Saving example_data/outputs/gtfs/trips.txt\n"
     ]
    },
    {
     "name": "stderr",
     "output_type": "stream",
     "text": [
      "2023-09-22 16:38:52,200 - Saving example_data/outputs/gtfs/stop_times.txt\n"
     ]
    },
    {
     "name": "stderr",
     "output_type": "stream",
     "text": [
      "2023-09-22 16:38:52,202 - Saving example_data/outputs/gtfs/calendar.txt\n"
     ]
    }
   ],
   "source": [
    "s.write_to_gtfs(\"example_data/outputs/gtfs\", \"20190603\")"
   ]
  },
  {
   "cell_type": "markdown",
   "metadata": {},
   "source": [
    "Or generate `pandas.DataFrame` GTFS tables:"
   ]
  },
  {
   "cell_type": "code",
   "execution_count": 4,
   "metadata": {
    "ExecuteTime": {
     "end_time": "2022-07-14T14:32:41.390541Z",
     "start_time": "2022-07-14T14:32:41.326365Z"
    },
    "execution": {
     "iopub.execute_input": "2023-09-22T15:38:52.230479Z",
     "iopub.status.busy": "2023-09-22T15:38:52.230251Z",
     "iopub.status.idle": "2023-09-22T15:38:52.262866Z",
     "shell.execute_reply": "2023-09-22T15:38:52.262399Z"
    }
   },
   "outputs": [],
   "source": [
    "gtfs = s.to_gtfs(\"20190603\")"
   ]
  },
  {
   "cell_type": "code",
   "execution_count": 5,
   "metadata": {
    "ExecuteTime": {
     "end_time": "2022-07-14T14:32:41.398962Z",
     "start_time": "2022-07-14T14:32:41.393034Z"
    },
    "execution": {
     "iopub.execute_input": "2023-09-22T15:38:52.265091Z",
     "iopub.status.busy": "2023-09-22T15:38:52.264923Z",
     "iopub.status.idle": "2023-09-22T15:38:52.268240Z",
     "shell.execute_reply": "2023-09-22T15:38:52.267894Z"
    }
   },
   "outputs": [
    {
     "data": {
      "text/plain": [
       "dict_keys(['stops', 'routes', 'trips', 'stop_times', 'calendar'])"
      ]
     },
     "execution_count": 5,
     "metadata": {},
     "output_type": "execute_result"
    }
   ],
   "source": [
    "gtfs.keys()"
   ]
  },
  {
   "cell_type": "code",
   "execution_count": 6,
   "metadata": {
    "ExecuteTime": {
     "end_time": "2022-07-14T14:32:41.418347Z",
     "start_time": "2022-07-14T14:32:41.402203Z"
    },
    "execution": {
     "iopub.execute_input": "2023-09-22T15:38:52.270256Z",
     "iopub.status.busy": "2023-09-22T15:38:52.270083Z",
     "iopub.status.idle": "2023-09-22T15:38:52.283785Z",
     "shell.execute_reply": "2023-09-22T15:38:52.283419Z"
    }
   },
   "outputs": [
    {
     "data": {
      "text/html": [
       "<div>\n",
       "<style scoped>\n",
       "    .dataframe tbody tr th:only-of-type {\n",
       "        vertical-align: middle;\n",
       "    }\n",
       "\n",
       "    .dataframe tbody tr th {\n",
       "        vertical-align: top;\n",
       "    }\n",
       "\n",
       "    .dataframe thead th {\n",
       "        text-align: right;\n",
       "    }\n",
       "</style>\n",
       "<table border=\"1\" class=\"dataframe\">\n",
       "  <thead>\n",
       "    <tr style=\"text-align: right;\">\n",
       "      <th></th>\n",
       "      <th>stop_id</th>\n",
       "      <th>stop_name</th>\n",
       "      <th>stop_lat</th>\n",
       "      <th>stop_lon</th>\n",
       "      <th>stop_code</th>\n",
       "      <th>stop_desc</th>\n",
       "      <th>zone_id</th>\n",
       "      <th>stop_url</th>\n",
       "      <th>location_type</th>\n",
       "      <th>parent_station</th>\n",
       "      <th>stop_timezone</th>\n",
       "      <th>wheelchair_boarding</th>\n",
       "      <th>level_id</th>\n",
       "      <th>platform_code</th>\n",
       "    </tr>\n",
       "  </thead>\n",
       "  <tbody>\n",
       "    <tr>\n",
       "      <th>RSN</th>\n",
       "      <td>RSN</td>\n",
       "      <td>Rail Stop snap to node</td>\n",
       "      <td>51.523134</td>\n",
       "      <td>-0.141095</td>\n",
       "      <td>NaN</td>\n",
       "      <td>NaN</td>\n",
       "      <td>NaN</td>\n",
       "      <td>NaN</td>\n",
       "      <td>0.0</td>\n",
       "      <td>210G430</td>\n",
       "      <td>NaN</td>\n",
       "      <td>NaN</td>\n",
       "      <td>NaN</td>\n",
       "      <td>NaN</td>\n",
       "    </tr>\n",
       "    <tr>\n",
       "      <th>RSE</th>\n",
       "      <td>RSE</td>\n",
       "      <td>Rail Stop snap to edge</td>\n",
       "      <td>51.519261</td>\n",
       "      <td>-0.142159</td>\n",
       "      <td>NaN</td>\n",
       "      <td>NaN</td>\n",
       "      <td>NaN</td>\n",
       "      <td>NaN</td>\n",
       "      <td>0.0</td>\n",
       "      <td>210G431</td>\n",
       "      <td>NaN</td>\n",
       "      <td>NaN</td>\n",
       "      <td>NaN</td>\n",
       "      <td>NaN</td>\n",
       "    </tr>\n",
       "    <tr>\n",
       "      <th>BSN</th>\n",
       "      <td>BSN</td>\n",
       "      <td>Bus Stop snap to node</td>\n",
       "      <td>51.521620</td>\n",
       "      <td>-0.140053</td>\n",
       "      <td>NaN</td>\n",
       "      <td>NaN</td>\n",
       "      <td>NaN</td>\n",
       "      <td>NaN</td>\n",
       "      <td>0.0</td>\n",
       "      <td>210G432</td>\n",
       "      <td>NaN</td>\n",
       "      <td>NaN</td>\n",
       "      <td>NaN</td>\n",
       "      <td>NaN</td>\n",
       "    </tr>\n",
       "    <tr>\n",
       "      <th>BSE</th>\n",
       "      <td>BSE</td>\n",
       "      <td>Bus Stop snap to edge</td>\n",
       "      <td>51.522686</td>\n",
       "      <td>-0.141362</td>\n",
       "      <td>NaN</td>\n",
       "      <td>NaN</td>\n",
       "      <td>NaN</td>\n",
       "      <td>NaN</td>\n",
       "      <td>0.0</td>\n",
       "      <td>210G433</td>\n",
       "      <td>NaN</td>\n",
       "      <td>NaN</td>\n",
       "      <td>NaN</td>\n",
       "      <td>NaN</td>\n",
       "    </tr>\n",
       "  </tbody>\n",
       "</table>\n",
       "</div>"
      ],
      "text/plain": [
       "    stop_id               stop_name   stop_lat  stop_lon  stop_code stop_desc  \\\n",
       "RSN     RSN  Rail Stop snap to node  51.523134 -0.141095        NaN       NaN   \n",
       "RSE     RSE  Rail Stop snap to edge  51.519261 -0.142159        NaN       NaN   \n",
       "BSN     BSN   Bus Stop snap to node  51.521620 -0.140053        NaN       NaN   \n",
       "BSE     BSE   Bus Stop snap to edge  51.522686 -0.141362        NaN       NaN   \n",
       "\n",
       "    zone_id stop_url  location_type parent_station  stop_timezone  \\\n",
       "RSN     NaN      NaN            0.0        210G430            NaN   \n",
       "RSE     NaN      NaN            0.0        210G431            NaN   \n",
       "BSN     NaN      NaN            0.0        210G432            NaN   \n",
       "BSE     NaN      NaN            0.0        210G433            NaN   \n",
       "\n",
       "     wheelchair_boarding level_id  platform_code  \n",
       "RSN                  NaN      NaN            NaN  \n",
       "RSE                  NaN      NaN            NaN  \n",
       "BSN                  NaN      NaN            NaN  \n",
       "BSE                  NaN      NaN            NaN  "
      ]
     },
     "execution_count": 6,
     "metadata": {},
     "output_type": "execute_result"
    }
   ],
   "source": [
    "gtfs[\"stops\"].head()"
   ]
  }
 ],
 "metadata": {
  "kernelspec": {
   "display_name": "genet",
   "language": "python",
   "name": "genet"
  },
  "language_info": {
   "codemirror_mode": {
    "name": "ipython",
    "version": 3
   },
   "file_extension": ".py",
   "mimetype": "text/x-python",
   "name": "python",
   "nbconvert_exporter": "python",
   "pygments_lexer": "ipython3",
   "version": "3.11.5"
  },
  "latex_envs": {
   "LaTeX_envs_menu_present": true,
   "autoclose": true,
   "autocomplete": true,
   "bibliofile": "biblio.bib",
   "cite_by": "apalike",
   "current_citInitial": 1,
   "eqLabelWithNumbers": true,
   "eqNumInitial": 1,
   "hotkeys": {
    "equation": "Ctrl-E",
    "itemize": "Ctrl-I"
   },
   "labels_anchors": false,
   "latex_user_defs": false,
   "report_style_numbering": false,
   "user_envs_cfg": false
  },
  "toc": {
   "base_numbering": 1,
   "nav_menu": {},
   "number_sections": true,
   "sideBar": true,
   "skip_h1_title": false,
   "title_cell": "Table of Contents",
   "title_sidebar": "Contents",
   "toc_cell": false,
   "toc_position": {},
   "toc_section_display": true,
   "toc_window_display": false
  },
  "varInspector": {
   "cols": {
    "lenName": 16,
    "lenType": 16,
    "lenVar": 40
   },
   "kernels_config": {
    "python": {
     "delete_cmd_postfix": "",
     "delete_cmd_prefix": "del ",
     "library": "var_list.py",
     "varRefreshCmd": "print(var_dic_list())"
    },
    "r": {
     "delete_cmd_postfix": ") ",
     "delete_cmd_prefix": "rm(",
     "library": "var_list.r",
     "varRefreshCmd": "cat(var_dic_list()) "
    }
   },
   "types_to_exclude": [
    "module",
    "function",
    "builtin_function_or_method",
    "instance",
    "_Feature"
   ],
   "window_display": false
  }
 },
 "nbformat": 4,
 "nbformat_minor": 2
}
