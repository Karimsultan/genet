{
 "cells": [
  {
   "cell_type": "markdown",
   "metadata": {},
   "source": [
    "# 3.4. Writing data: JSON & GeoJSON\n",
    "Available as a jupyter notebook or wiki page."
   ]
  },
  {
   "cell_type": "code",
   "execution_count": 1,
   "metadata": {
    "ExecuteTime": {
     "end_time": "2022-07-14T14:38:02.008110Z",
     "start_time": "2022-07-14T14:37:54.256656Z"
    },
    "execution": {
     "iopub.execute_input": "2023-09-22T15:38:53.671350Z",
     "iopub.status.busy": "2023-09-22T15:38:53.670921Z",
     "iopub.status.idle": "2023-09-22T15:38:58.701630Z",
     "shell.execute_reply": "2023-09-22T15:38:58.700130Z"
    }
   },
   "outputs": [
    {
     "name": "stdout",
     "output_type": "stream",
     "text": [
      "Graph info: MultiDiGraph with 1662 nodes and 3166 edges \n",
      "Schedule info: Schedule:\n",
      "Number of services: 9\n",
      "Number of routes: 68\n",
      "Number of stops: 118\n"
     ]
    }
   ],
   "source": [
    "import os\n",
    "\n",
    "from genet import read_matsim\n",
    "\n",
    "path_to_matsim_network = \"example_data/pt2matsim_network\"\n",
    "\n",
    "network = os.path.join(path_to_matsim_network, \"network.xml\")\n",
    "schedule = os.path.join(path_to_matsim_network, \"schedule.xml\")\n",
    "vehicles = os.path.join(path_to_matsim_network, \"vehicles.xml\")\n",
    "n = read_matsim(\n",
    "    path_to_network=network, epsg=\"epsg:27700\", path_to_schedule=schedule, path_to_vehicles=vehicles\n",
    ")\n",
    "# you don't need to read the vehicles file, but doing so ensures all vehicles\n",
    "# in the schedule are of the expected type and the definition of the vehicle\n",
    "# is preserved\n",
    "n.print()"
   ]
  },
  {
   "cell_type": "markdown",
   "metadata": {},
   "source": [
    "You can write the Network and it's Schedule (if applicable) to JSON:"
   ]
  },
  {
   "cell_type": "code",
   "execution_count": 2,
   "metadata": {
    "ExecuteTime": {
     "end_time": "2022-07-14T14:38:04.017783Z",
     "start_time": "2022-07-14T14:38:02.010639Z"
    },
    "execution": {
     "iopub.execute_input": "2023-09-22T15:38:58.710226Z",
     "iopub.status.busy": "2023-09-22T15:38:58.709290Z",
     "iopub.status.idle": "2023-09-22T15:38:59.986696Z",
     "shell.execute_reply": "2023-09-22T15:38:59.986230Z"
    }
   },
   "outputs": [
    {
     "name": "stderr",
     "output_type": "stream",
     "text": [
      "2023-09-22 16:38:58,712 - Saving Network to JSON in example_data/outputs/json\n"
     ]
    },
    {
     "name": "stderr",
     "output_type": "stream",
     "text": [
      "2023-09-22 16:38:59,908 - Saving Schedule to JSON in example_data/outputs/json\n"
     ]
    }
   ],
   "source": [
    "n.write_to_json(\"example_data/outputs/json\")"
   ]
  },
  {
   "cell_type": "markdown",
   "metadata": {},
   "source": [
    "Writing the Network to JSON preserves all of the Network data - unlike writing the Network to CSV or MATSim format. For limitations of those formats head over to Sections/Notebooks:\n",
    "- Writing CSV data\n",
    "- Writing MATSim data"
   ]
  },
  {
   "cell_type": "markdown",
   "metadata": {},
   "source": [
    "You can also choose to write the network to GeoJSON. This will produce spatial representation of the Network graph and the Schedule graph. \n",
    "\n",
    "- The main diference for the Network graph outputs is that the link geometry is a `LINESTRING`, whereas in the JSON outputs, this geometry is an encoded polyline.\n",
    "- The biggest difference is for the Schedule graph. With JSON output you get the entire Schedule data saved to file. With GeoJSON you get only the spatial representation of the graph, nodes and edges, where nodes are the Stops in the Schedule and edges are the connections between Stops as defined by the Route and Service objects which use those Stops.  It does not include any information about the vehicles, their IDs or modes, vehicle definitions or network routes (the edges are straight lines between the Stops)"
   ]
  },
  {
   "cell_type": "code",
   "execution_count": 3,
   "metadata": {
    "ExecuteTime": {
     "end_time": "2022-07-14T14:38:07.075412Z",
     "start_time": "2022-07-14T14:38:04.020356Z"
    },
    "execution": {
     "iopub.execute_input": "2023-09-22T15:38:59.989384Z",
     "iopub.status.busy": "2023-09-22T15:38:59.989206Z",
     "iopub.status.idle": "2023-09-22T15:39:01.413410Z",
     "shell.execute_reply": "2023-09-22T15:39:01.413001Z"
    }
   },
   "outputs": [
    {
     "name": "stderr",
     "output_type": "stream",
     "text": [
      "2023-09-22 16:39:00,584 - Saving Network to GeoJSON in example_data/outputs/geojson\n"
     ]
    },
    {
     "name": "stderr",
     "output_type": "stream",
     "text": [
      "2023-09-22 16:39:01,343 - Saving Schedule to GeoJSON in example_data/outputs/geojson\n"
     ]
    }
   ],
   "source": [
    "n.write_to_geojson(\"example_data/outputs/geojson\")"
   ]
  }
 ],
 "metadata": {
  "kernelspec": {
   "display_name": "genet",
   "language": "python",
   "name": "python3"
  },
  "language_info": {
   "codemirror_mode": {
    "name": "ipython",
    "version": 3
   },
   "file_extension": ".py",
   "mimetype": "text/x-python",
   "name": "python",
   "nbconvert_exporter": "python",
   "pygments_lexer": "ipython3",
   "version": "3.11.5"
  },
  "latex_envs": {
   "LaTeX_envs_menu_present": true,
   "autoclose": true,
   "autocomplete": true,
   "bibliofile": "biblio.bib",
   "cite_by": "apalike",
   "current_citInitial": 1,
   "eqLabelWithNumbers": true,
   "eqNumInitial": 1,
   "hotkeys": {
    "equation": "Ctrl-E",
    "itemize": "Ctrl-I"
   },
   "labels_anchors": false,
   "latex_user_defs": false,
   "report_style_numbering": false,
   "user_envs_cfg": false
  },
  "toc": {
   "base_numbering": 1,
   "nav_menu": {},
   "number_sections": true,
   "sideBar": true,
   "skip_h1_title": false,
   "title_cell": "Table of Contents",
   "title_sidebar": "Contents",
   "toc_cell": false,
   "toc_position": {},
   "toc_section_display": true,
   "toc_window_display": false
  },
  "varInspector": {
   "cols": {
    "lenName": 16,
    "lenType": 16,
    "lenVar": 40
   },
   "kernels_config": {
    "python": {
     "delete_cmd_postfix": "",
     "delete_cmd_prefix": "del ",
     "library": "var_list.py",
     "varRefreshCmd": "print(var_dic_list())"
    },
    "r": {
     "delete_cmd_postfix": ") ",
     "delete_cmd_prefix": "rm(",
     "library": "var_list.r",
     "varRefreshCmd": "cat(var_dic_list()) "
    }
   },
   "types_to_exclude": [
    "module",
    "function",
    "builtin_function_or_method",
    "instance",
    "_Feature"
   ],
   "window_display": false
  }
 },
 "nbformat": 4,
 "nbformat_minor": 2
}
