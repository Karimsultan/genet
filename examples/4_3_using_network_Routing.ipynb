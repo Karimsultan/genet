{
 "cells": [
  {
   "cell_type": "markdown",
   "metadata": {},
   "source": [
    "# 4.3. Using the `Network` object: Routing\n",
    "\n",
    "This page goes through GeNet's capability in routing on the Network graph. Available as a jupyter notebook or wiki page.\n",
    "\n",
    "You can find shortest path between two nodes in the graph, using a modal subgraph or otherwise."
   ]
  },
  {
   "cell_type": "code",
   "execution_count": 1,
   "metadata": {
    "ExecuteTime": {
     "end_time": "2022-07-14T14:40:37.293160Z",
     "start_time": "2022-07-14T14:40:27.819521Z"
    },
    "execution": {
     "iopub.execute_input": "2023-09-22T15:39:03.167198Z",
     "iopub.status.busy": "2023-09-22T15:39:03.167013Z",
     "iopub.status.idle": "2023-09-22T15:39:07.729555Z",
     "shell.execute_reply": "2023-09-22T15:39:07.728956Z"
    }
   },
   "outputs": [
    {
     "name": "stdout",
     "output_type": "stream",
     "text": [
      "Graph info: MultiDiGraph with 1662 nodes and 3166 edges \n",
      "Schedule info: Schedule:\n",
      "Number of services: 9\n",
      "Number of routes: 68\n",
      "Number of stops: 118\n"
     ]
    }
   ],
   "source": [
    "import os\n",
    "\n",
    "from genet import read_matsim\n",
    "\n",
    "path_to_matsim_network = \"example_data/pt2matsim_network\"\n",
    "\n",
    "network = os.path.join(path_to_matsim_network, \"network.xml\")\n",
    "schedule = os.path.join(path_to_matsim_network, \"schedule.xml\")\n",
    "vehicles = os.path.join(path_to_matsim_network, \"vehicles.xml\")\n",
    "n = read_matsim(\n",
    "    path_to_network=network, epsg=\"epsg:27700\", path_to_schedule=schedule, path_to_vehicles=vehicles\n",
    ")\n",
    "# you don't need to read the vehicles file, but doing so ensures all vehicles\n",
    "# in the schedule are of the expected type and the definition of the vehicle\n",
    "# is preserved\n",
    "n.print()"
   ]
  },
  {
   "cell_type": "code",
   "execution_count": 2,
   "metadata": {
    "ExecuteTime": {
     "end_time": "2022-07-14T14:40:37.304125Z",
     "start_time": "2022-07-14T14:40:37.300088Z"
    },
    "execution": {
     "iopub.execute_input": "2023-09-22T15:39:07.732679Z",
     "iopub.status.busy": "2023-09-22T15:39:07.732277Z",
     "iopub.status.idle": "2023-09-22T15:39:07.735587Z",
     "shell.execute_reply": "2023-09-22T15:39:07.735075Z"
    }
   },
   "outputs": [],
   "source": [
    "from_node = \"101982\"\n",
    "to_node = \"101991\""
   ]
  },
  {
   "cell_type": "markdown",
   "metadata": {},
   "source": [
    "The following will use the whole graph disregarding modes."
   ]
  },
  {
   "cell_type": "code",
   "execution_count": 3,
   "metadata": {
    "ExecuteTime": {
     "end_time": "2022-07-14T14:40:37.341171Z",
     "start_time": "2022-07-14T14:40:37.307628Z"
    },
    "execution": {
     "iopub.execute_input": "2023-09-22T15:39:07.738114Z",
     "iopub.status.busy": "2023-09-22T15:39:07.737921Z",
     "iopub.status.idle": "2023-09-22T15:39:07.744109Z",
     "shell.execute_reply": "2023-09-22T15:39:07.743592Z"
    }
   },
   "outputs": [
    {
     "data": {
      "text/plain": [
       "['2030', '2453', '296', '3147', '3287']"
      ]
     },
     "execution_count": 3,
     "metadata": {},
     "output_type": "execute_result"
    }
   ],
   "source": [
    "n.find_shortest_path(from_node, to_node)"
   ]
  },
  {
   "cell_type": "markdown",
   "metadata": {},
   "source": [
    "The following will compute a modal subgraph and use it for routing. You can also pass a list e.g. `['bike', 'walk']`. "
   ]
  },
  {
   "cell_type": "code",
   "execution_count": 4,
   "metadata": {
    "ExecuteTime": {
     "end_time": "2022-07-14T14:40:37.549258Z",
     "start_time": "2022-07-14T14:40:37.351469Z"
    },
    "execution": {
     "iopub.execute_input": "2023-09-22T15:39:07.746512Z",
     "iopub.status.busy": "2023-09-22T15:39:07.746301Z",
     "iopub.status.idle": "2023-09-22T15:39:07.811136Z",
     "shell.execute_reply": "2023-09-22T15:39:07.810759Z"
    }
   },
   "outputs": [
    {
     "data": {
      "text/plain": [
       "['2030', '2453', '296', '3147', '3287']"
      ]
     },
     "execution_count": 4,
     "metadata": {},
     "output_type": "execute_result"
    }
   ],
   "source": [
    "n.find_shortest_path(from_node, to_node, modes=\"car\")"
   ]
  },
  {
   "cell_type": "markdown",
   "metadata": {},
   "source": [
    "If you have many node pairs to process, it may be beneficial to compute the modal subgraph of interest first and pass that to the method."
   ]
  },
  {
   "cell_type": "code",
   "execution_count": 5,
   "metadata": {
    "ExecuteTime": {
     "end_time": "2022-07-14T14:40:37.651611Z",
     "start_time": "2022-07-14T14:40:37.553169Z"
    },
    "execution": {
     "iopub.execute_input": "2023-09-22T15:39:07.813202Z",
     "iopub.status.busy": "2023-09-22T15:39:07.813015Z",
     "iopub.status.idle": "2023-09-22T15:39:07.938636Z",
     "shell.execute_reply": "2023-09-22T15:39:07.938199Z"
    }
   },
   "outputs": [
    {
     "data": {
      "text/plain": [
       "['2030', '2453', '296', '3147', '3287']"
      ]
     },
     "execution_count": 5,
     "metadata": {},
     "output_type": "execute_result"
    }
   ],
   "source": [
    "car_g = n.modal_subgraph(\"car\")\n",
    "n.find_shortest_path(from_node, to_node, subgraph=car_g)"
   ]
  },
  {
   "cell_type": "markdown",
   "metadata": {
    "ExecuteTime": {
     "end_time": "2020-12-17T15:37:26.108849Z",
     "start_time": "2020-12-17T15:37:26.099791Z"
    }
   },
   "source": [
    "Specifying `'modes'` on top of giving the `subgraph` will also use given modes for preferential treatment if there is\n",
    "ambiguity in which link should be chosen for the route (remember, there can be several links between the same two \n",
    "nodes). For example, if using mode `'bus'` and there are two links to choose from, one with modes: `['car', 'bus']` and\n",
    "the other with just `['bus']`, preference will be given to the link dedicated to that mode. Otherwise, preference\n",
    "will be given to links with higher `freespeed`."
   ]
  },
  {
   "cell_type": "code",
   "execution_count": 6,
   "metadata": {
    "ExecuteTime": {
     "end_time": "2022-07-14T14:40:37.665454Z",
     "start_time": "2022-07-14T14:40:37.654849Z"
    },
    "execution": {
     "iopub.execute_input": "2023-09-22T15:39:07.941005Z",
     "iopub.status.busy": "2023-09-22T15:39:07.940816Z",
     "iopub.status.idle": "2023-09-22T15:39:07.944742Z",
     "shell.execute_reply": "2023-09-22T15:39:07.944356Z"
    }
   },
   "outputs": [
    {
     "data": {
      "text/plain": [
       "['2030', '2453', '296', '3147', '3287']"
      ]
     },
     "execution_count": 6,
     "metadata": {},
     "output_type": "execute_result"
    }
   ],
   "source": [
    "n.find_shortest_path(from_node, to_node, subgraph=car_g, modes=[\"bus\"])"
   ]
  },
  {
   "cell_type": "markdown",
   "metadata": {},
   "source": [
    "The anser is the same because this network does not have multiple bus only links.\n",
    "\n",
    "You can also choose to return the chain of nodes instead:"
   ]
  },
  {
   "cell_type": "code",
   "execution_count": 7,
   "metadata": {
    "ExecuteTime": {
     "end_time": "2022-07-14T14:40:37.675911Z",
     "start_time": "2022-07-14T14:40:37.667770Z"
    },
    "execution": {
     "iopub.execute_input": "2023-09-22T15:39:07.946943Z",
     "iopub.status.busy": "2023-09-22T15:39:07.946797Z",
     "iopub.status.idle": "2023-09-22T15:39:07.950686Z",
     "shell.execute_reply": "2023-09-22T15:39:07.950229Z"
    }
   },
   "outputs": [
    {
     "data": {
      "text/plain": [
       "['101982', '1611082208', '2489433555', '25495406', '1514726033', '101991']"
      ]
     },
     "execution_count": 7,
     "metadata": {},
     "output_type": "execute_result"
    }
   ],
   "source": [
    "n.find_shortest_path(from_node, to_node, return_nodes=True)"
   ]
  },
  {
   "cell_type": "markdown",
   "metadata": {},
   "source": [
    "If you are looking to route a PT service in the `Network`'s `Schedule` you have a few methods to choose from.\n",
    "\n",
    "If the `Network` graph or the data on your graph has changed and you want to reroute a service that was previously snapped to the netowrk and routed you can use the `reroute` method. You can pass either a service or route ID, they should be unique and will be handled appropriately. You can specify `additional_modes`, e.g. `car` mode that will allow buses to use the links that allow the car mode as well as the route's own mode `bus`. Following this, the mode on the used links will be updated with the mode `bus`."
   ]
  },
  {
   "cell_type": "code",
   "execution_count": 8,
   "metadata": {
    "ExecuteTime": {
     "end_time": "2022-07-14T14:40:37.787974Z",
     "start_time": "2022-07-14T14:40:37.679269Z"
    },
    "execution": {
     "iopub.execute_input": "2023-09-22T15:39:07.953029Z",
     "iopub.status.busy": "2023-09-22T15:39:07.952822Z",
     "iopub.status.idle": "2023-09-22T15:39:08.020859Z",
     "shell.execute_reply": "2023-09-22T15:39:08.020518Z"
    }
   },
   "outputs": [
    {
     "name": "stderr",
     "output_type": "stream",
     "text": [
      "2023-09-22 16:39:07,954 - Checking `linkRefId`s of the Route: `VJ375a660d47a2aa570aa20a8568012da8497ffecf` are present in the graph\n"
     ]
    },
    {
     "name": "stderr",
     "output_type": "stream",
     "text": [
      "2023-09-22 16:39:07,954 - Rerouting Route `VJ375a660d47a2aa570aa20a8568012da8497ffecf`\n"
     ]
    },
    {
     "name": "stderr",
     "output_type": "stream",
     "text": [
      "2023-09-22 16:39:08,018 - Changed Route attributes for 1 routes\n"
     ]
    }
   ],
   "source": [
    "n.reroute(\"VJ375a660d47a2aa570aa20a8568012da8497ffecf\", additional_modes={\"car\"})"
   ]
  },
  {
   "cell_type": "markdown",
   "metadata": {},
   "source": [
    "It could happen that the snapping of a route or service is no longer valid after the changes, or you want to add something completely new. In this case you can use the `route_service` method which will find new links to snap and route the service on the network. You will need to have a solver set up, e.g. [CBC](https://projects.coin-or.org/Cbc). Again, you can specify `additional_modes` as in the method above. There are other parameters you can make use of, more details can be found in 5.2 which talks about modifying Schedules."
   ]
  },
  {
   "cell_type": "code",
   "execution_count": 9,
   "metadata": {
    "ExecuteTime": {
     "end_time": "2022-07-14T14:40:41.611185Z",
     "start_time": "2022-07-14T14:40:37.789827Z"
    },
    "execution": {
     "iopub.execute_input": "2023-09-22T15:39:08.022883Z",
     "iopub.status.busy": "2023-09-22T15:39:08.022691Z",
     "iopub.status.idle": "2023-09-22T15:39:09.274523Z",
     "shell.execute_reply": "2023-09-22T15:39:09.274095Z"
    }
   },
   "outputs": [
    {
     "name": "stderr",
     "output_type": "stream",
     "text": [
      "2023-09-22 16:39:09,028 - Routing Service 20274 with modes = {'bus'}\n"
     ]
    },
    {
     "name": "stderr",
     "output_type": "stream",
     "text": [
      "2023-09-22 16:39:09,053 - Building Maximum Stable Set for PT graph with 8 stops and 6 edges\n"
     ]
    },
    {
     "name": "stderr",
     "output_type": "stream",
     "text": [
      "/Users/bryn.pickering/Repos/arup-group/genet/genet/max_stable_set.py:63: FutureWarning: The `op` parameter is deprecated and will be removed in a future release. Please use the `predicate` parameter instead.\n",
      "  nodes = self.cast_catchment(\n",
      "2023-09-22 16:39:09,135 - Passing problem to solver\n"
     ]
    },
    {
     "name": "stderr",
     "output_type": "stream",
     "text": [
      "2023-09-22 16:39:09,136 - Initializing ordered Set vertices with a fundamentally unordered data source (type: set).  This WILL potentially lead to nondeterministic behavior in Pyomo\n"
     ]
    },
    {
     "name": "stderr",
     "output_type": "stream",
     "text": [
      "2023-09-22 16:39:09,138 - Passing problem to solver\n"
     ]
    },
    {
     "name": "stderr",
     "output_type": "stream",
     "text": [
      "2023-09-22 16:39:09,258 - Stop ID changes detected for Routes: {'VJ375a660d47a2aa570aa20a8568012da8497ffecf', 'VJ6c64ab7b477e201cae950efde5bd0cb4e2e8888e', 'VJ812fad65e7fa418645b57b446f00cba573f2cdaf'}\n"
     ]
    },
    {
     "name": "stderr",
     "output_type": "stream",
     "text": [
      "2023-09-22 16:39:09,261 - Changed Route attributes for 3 routes\n"
     ]
    },
    {
     "name": "stderr",
     "output_type": "stream",
     "text": [
      "2023-09-22 16:39:09,269 - Changed Link attributes for 41 links\n"
     ]
    }
   ],
   "source": [
    "n.route_service(\"20274\", additional_modes={\"car\"})"
   ]
  },
  {
   "cell_type": "markdown",
   "metadata": {},
   "source": [
    "If you are creating a `Network` and want to snap and route the entire `Schedule`, or a larger number of services, the method `route_schedule` is advised. Bear in mind though that it will struggle with large networks and big and complicated schedules. Similar parameters apply to this method as the one abov"
   ]
  },
  {
   "cell_type": "code",
   "execution_count": 10,
   "metadata": {
    "ExecuteTime": {
     "end_time": "2022-07-14T14:40:45.391177Z",
     "start_time": "2022-07-14T14:40:41.613379Z"
    },
    "execution": {
     "iopub.execute_input": "2023-09-22T15:39:09.282712Z",
     "iopub.status.busy": "2023-09-22T15:39:09.282484Z",
     "iopub.status.idle": "2023-09-22T15:39:10.622249Z",
     "shell.execute_reply": "2023-09-22T15:39:10.621796Z"
    }
   },
   "outputs": [
    {
     "name": "stderr",
     "output_type": "stream",
     "text": [
      "2023-09-22 16:39:09,284 - Building Spatial Tree\n"
     ]
    },
    {
     "name": "stderr",
     "output_type": "stream",
     "text": [
      "2023-09-22 16:39:10,190 - Extracting Modal SubTree for modes: {'bus'}\n"
     ]
    },
    {
     "name": "stderr",
     "output_type": "stream",
     "text": [
      "2023-09-22 16:39:10,212 - Routing Service 20274 with modes = {'bus'}\n"
     ]
    },
    {
     "name": "stderr",
     "output_type": "stream",
     "text": [
      "2023-09-22 16:39:10,213 - Building Maximum Stable Set for PT graph with 8 stops and 6 edges\n"
     ]
    },
    {
     "name": "stderr",
     "output_type": "stream",
     "text": [
      "/Users/bryn.pickering/Repos/arup-group/genet/genet/max_stable_set.py:63: FutureWarning: The `op` parameter is deprecated and will be removed in a future release. Please use the `predicate` parameter instead.\n",
      "  nodes = self.cast_catchment(\n",
      "2023-09-22 16:39:10,263 - Passing problem to solver\n"
     ]
    },
    {
     "name": "stderr",
     "output_type": "stream",
     "text": [
      "2023-09-22 16:39:10,264 - Initializing ordered Set vertices with a fundamentally unordered data source (type: set).  This WILL potentially lead to nondeterministic behavior in Pyomo\n"
     ]
    },
    {
     "name": "stderr",
     "output_type": "stream",
     "text": [
      "2023-09-22 16:39:10,265 - Passing problem to solver\n"
     ]
    },
    {
     "name": "stderr",
     "output_type": "stream",
     "text": [
      "2023-09-22 16:39:10,333 - Routing Service 15660 with modes = {'bus'}\n"
     ]
    },
    {
     "name": "stderr",
     "output_type": "stream",
     "text": [
      "2023-09-22 16:39:10,334 - Building Maximum Stable Set for PT graph with 5 stops and 3 edges\n"
     ]
    },
    {
     "name": "stderr",
     "output_type": "stream",
     "text": [
      "/Users/bryn.pickering/Repos/arup-group/genet/genet/max_stable_set.py:63: FutureWarning: The `op` parameter is deprecated and will be removed in a future release. Please use the `predicate` parameter instead.\n",
      "  nodes = self.cast_catchment(\n",
      "/Users/bryn.pickering/Repos/arup-group/genet/genet/max_stable_set.py:70: FutureWarning: The `op` parameter is deprecated and will be removed in a future release. Please use the `predicate` parameter instead.\n",
      "  _df = self.cast_catchment(\n",
      "/Users/bryn.pickering/Repos/arup-group/genet/genet/max_stable_set.py:70: FutureWarning: The `op` parameter is deprecated and will be removed in a future release. Please use the `predicate` parameter instead.\n",
      "  _df = self.cast_catchment(\n",
      "2023-09-22 16:39:10,397 - This Maximum Stable Set Problem is partially viable.\n"
     ]
    },
    {
     "name": "stderr",
     "output_type": "stream",
     "text": [
      "2023-09-22 16:39:10,397 - Maximum Stable Set problem to snap the PT graph to the network is partially viable, meaning not all stops have found a link to snap to within the distance_threshold.Partial snapping is ON, this problem will proceed to the solver.\n"
     ]
    },
    {
     "name": "stderr",
     "output_type": "stream",
     "text": [
      "2023-09-22 16:39:10,398 - Passing problem to solver\n"
     ]
    },
    {
     "name": "stderr",
     "output_type": "stream",
     "text": [
      "2023-09-22 16:39:10,398 - Initializing ordered Set vertices with a fundamentally unordered data source (type: set).  This WILL potentially lead to nondeterministic behavior in Pyomo\n"
     ]
    },
    {
     "name": "stderr",
     "output_type": "stream",
     "text": [
      "2023-09-22 16:39:10,399 - Passing problem to solver\n"
     ]
    },
    {
     "name": "stderr",
     "output_type": "stream",
     "text": [
      "2023-09-22 16:39:10,452 - Successfully snapped 4 stops to network links.\n"
     ]
    },
    {
     "name": "stderr",
     "output_type": "stream",
     "text": [
      "2023-09-22 16:39:10,462 - Stop ID changes detected for Routes: {'VJ375a660d47a2aa570aa20a8568012da8497ffecf', 'VJ6c64ab7b477e201cae950efde5bd0cb4e2e8888e', 'VJ1cf651142378958b52229bfe1fa552e49136e60e', 'VJ812fad65e7fa418645b57b446f00cba573f2cdaf', 'VJf2e0de4f5dad68cb03064e6064e372dde52cc678', 'VJ3716910ec59c370d9f5c69137df7276b68cf0a08'}\n"
     ]
    },
    {
     "name": "stderr",
     "output_type": "stream",
     "text": [
      "2023-09-22 16:39:10,469 - Changed Route attributes for 6 routes\n"
     ]
    },
    {
     "name": "stderr",
     "output_type": "stream",
     "text": [
      "2023-09-22 16:39:10,472 - Added 1 nodes\n"
     ]
    },
    {
     "name": "stderr",
     "output_type": "stream",
     "text": [
      "2023-09-22 16:39:10,607 - Generated 0 link ids.\n"
     ]
    },
    {
     "name": "stderr",
     "output_type": "stream",
     "text": [
      "2023-09-22 16:39:10,610 - Added 2 links\n"
     ]
    },
    {
     "name": "stderr",
     "output_type": "stream",
     "text": [
      "2023-09-22 16:39:10,617 - Changed Link attributes for 53 links\n"
     ]
    }
   ],
   "source": [
    "unsnapped_service_ids = n.route_schedule(services=[\"20274\", \"15660\"])"
   ]
  },
  {
   "cell_type": "markdown",
   "metadata": {},
   "source": [
    "Some services may fail to snap. Method above returns IDs of the services which failed. It is worth re-running these, with the same or different parameters. Failing that, a service can also be teleported using the following method. If the stops are already snapped (i.e. have a `linkRefId`), those links will still be used as references, unless the link is no longer in the network."
   ]
  },
  {
   "cell_type": "code",
   "execution_count": 11,
   "metadata": {
    "ExecuteTime": {
     "end_time": "2022-07-14T14:40:45.878052Z",
     "start_time": "2022-07-14T14:40:45.407253Z"
    },
    "execution": {
     "iopub.execute_input": "2023-09-22T15:39:10.625034Z",
     "iopub.status.busy": "2023-09-22T15:39:10.624781Z",
     "iopub.status.idle": "2023-09-22T15:39:10.699528Z",
     "shell.execute_reply": "2023-09-22T15:39:10.699200Z"
    }
   },
   "outputs": [
    {
     "name": "stderr",
     "output_type": "stream",
     "text": [
      "2023-09-22 16:39:10,633 - Added 0 nodes\n"
     ]
    },
    {
     "name": "stderr",
     "output_type": "stream",
     "text": [
      "2023-09-22 16:39:10,690 - Generated 0 link ids.\n"
     ]
    },
    {
     "name": "stderr",
     "output_type": "stream",
     "text": [
      "2023-09-22 16:39:10,694 - Added 8 links\n"
     ]
    },
    {
     "name": "stderr",
     "output_type": "stream",
     "text": [
      "2023-09-22 16:39:10,696 - Changed Stop attributes for 10 stops\n"
     ]
    },
    {
     "name": "stderr",
     "output_type": "stream",
     "text": [
      "2023-09-22 16:39:10,697 - Changed Route attributes for 2 routes\n"
     ]
    }
   ],
   "source": [
    "n.teleport_service(service_ids=\"17732\")"
   ]
  },
  {
   "cell_type": "code",
   "execution_count": 12,
   "metadata": {
    "ExecuteTime": {
     "end_time": "2022-07-14T14:40:45.899364Z",
     "start_time": "2022-07-14T14:40:45.893576Z"
    },
    "execution": {
     "iopub.execute_input": "2023-09-22T15:39:10.710538Z",
     "iopub.status.busy": "2023-09-22T15:39:10.710348Z",
     "iopub.status.idle": "2023-09-22T15:39:10.713275Z",
     "shell.execute_reply": "2023-09-22T15:39:10.712883Z"
    }
   },
   "outputs": [
    {
     "name": "stdout",
     "output_type": "stream",
     "text": [
      "Stop ID: 490004695A.link:3017\n",
      "Projection: epsg:27700\n",
      "Lat, Lon: 51.51434059, -0.12975275\n",
      "linkRefId: 3017\n"
     ]
    }
   ],
   "source": [
    "n.schedule.stop(\"490004695A.link:3017\").print()"
   ]
  },
  {
   "cell_type": "code",
   "execution_count": 13,
   "metadata": {
    "ExecuteTime": {
     "end_time": "2022-07-14T14:40:45.923517Z",
     "start_time": "2022-07-14T14:40:45.914081Z"
    },
    "execution": {
     "iopub.execute_input": "2023-09-22T15:39:10.715766Z",
     "iopub.status.busy": "2023-09-22T15:39:10.715552Z",
     "iopub.status.idle": "2023-09-22T15:39:10.724903Z",
     "shell.execute_reply": "2023-09-22T15:39:10.724378Z"
    }
   },
   "outputs": [
    {
     "data": {
      "text/plain": [
       "['490004695A.link:3017',\n",
       " '490000235C.link:3068',\n",
       " '490000089A.link:823',\n",
       " '490000252X.link:86',\n",
       " '490000078Q.link:1239']"
      ]
     },
     "execution_count": 13,
     "metadata": {},
     "output_type": "execute_result"
    }
   ],
   "source": [
    "list(n.schedule[\"17732\"].routes())[0].ordered_stops"
   ]
  },
  {
   "cell_type": "code",
   "execution_count": 14,
   "metadata": {
    "ExecuteTime": {
     "end_time": "2022-07-14T14:40:45.967389Z",
     "start_time": "2022-07-14T14:40:45.940304Z"
    },
    "execution": {
     "iopub.execute_input": "2023-09-22T15:39:10.726977Z",
     "iopub.status.busy": "2023-09-22T15:39:10.726779Z",
     "iopub.status.idle": "2023-09-22T15:39:10.730884Z",
     "shell.execute_reply": "2023-09-22T15:39:10.730398Z"
    }
   },
   "outputs": [
    {
     "data": {
      "text/plain": [
       "['3017',\n",
       " 'artificial_link===from:21665081===to:5434424322',\n",
       " '3068',\n",
       " 'artificial_link===from:3519133221===to:108045',\n",
       " '823',\n",
       " 'artificial_link===from:3079462268===to:4543005956',\n",
       " '86',\n",
       " 'artificial_link===from:25714232===to:4543005959',\n",
       " '1239']"
      ]
     },
     "execution_count": 14,
     "metadata": {},
     "output_type": "execute_result"
    }
   ],
   "source": [
    "list(n.schedule[\"17732\"].routes())[0].route"
   ]
  }
 ],
 "metadata": {
  "kernelspec": {
   "display_name": "genet",
   "language": "python",
   "name": "genet"
  },
  "language_info": {
   "codemirror_mode": {
    "name": "ipython",
    "version": 3
   },
   "file_extension": ".py",
   "mimetype": "text/x-python",
   "name": "python",
   "nbconvert_exporter": "python",
   "pygments_lexer": "ipython3",
   "version": "3.11.5"
  },
  "latex_envs": {
   "LaTeX_envs_menu_present": true,
   "autoclose": true,
   "autocomplete": true,
   "bibliofile": "biblio.bib",
   "cite_by": "apalike",
   "current_citInitial": 1,
   "eqLabelWithNumbers": true,
   "eqNumInitial": 1,
   "hotkeys": {
    "equation": "Ctrl-E",
    "itemize": "Ctrl-I"
   },
   "labels_anchors": false,
   "latex_user_defs": false,
   "report_style_numbering": false,
   "user_envs_cfg": false
  },
  "toc": {
   "base_numbering": 1,
   "nav_menu": {},
   "number_sections": true,
   "sideBar": true,
   "skip_h1_title": false,
   "title_cell": "Table of Contents",
   "title_sidebar": "Contents",
   "toc_cell": false,
   "toc_position": {},
   "toc_section_display": true,
   "toc_window_display": false
  },
  "varInspector": {
   "cols": {
    "lenName": 16,
    "lenType": 16,
    "lenVar": 40
   },
   "kernels_config": {
    "python": {
     "delete_cmd_postfix": "",
     "delete_cmd_prefix": "del ",
     "library": "var_list.py",
     "varRefreshCmd": "print(var_dic_list())"
    },
    "r": {
     "delete_cmd_postfix": ") ",
     "delete_cmd_prefix": "rm(",
     "library": "var_list.r",
     "varRefreshCmd": "cat(var_dic_list()) "
    }
   },
   "types_to_exclude": [
    "module",
    "function",
    "builtin_function_or_method",
    "instance",
    "_Feature"
   ],
   "window_display": false
  }
 },
 "nbformat": 4,
 "nbformat_minor": 2
}
