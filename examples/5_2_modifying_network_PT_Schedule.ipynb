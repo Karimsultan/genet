{
 "cells": [
  {
   "cell_type": "markdown",
   "metadata": {},
   "source": [
    "# 5.2. Modifying the `Network` object: Public transport schedules\n",
    "\n",
    "GeNet has a number of methods to change the Schedule objects. Available as a jupyter notebook or wiki page. Make sure you validate the end result."
   ]
  },
  {
   "cell_type": "code",
   "execution_count": 1,
   "metadata": {
    "ExecuteTime": {
     "end_time": "2022-07-14T14:49:53.489272Z",
     "start_time": "2022-07-14T14:49:42.845621Z"
    },
    "execution": {
     "iopub.execute_input": "2023-09-22T15:39:12.416886Z",
     "iopub.status.busy": "2023-09-22T15:39:12.416642Z",
     "iopub.status.idle": "2023-09-22T15:39:17.999820Z",
     "shell.execute_reply": "2023-09-22T15:39:17.999323Z"
    }
   },
   "outputs": [
    {
     "name": "stdout",
     "output_type": "stream",
     "text": [
      "Graph info: MultiDiGraph with 1662 nodes and 3166 edges \n",
      "Schedule info: Schedule:\n",
      "Number of services: 9\n",
      "Number of routes: 68\n",
      "Number of stops: 118\n"
     ]
    }
   ],
   "source": [
    "# read example network\n",
    "import os\n",
    "\n",
    "from genet import Route, Service, Stop, read_matsim\n",
    "\n",
    "path_to_matsim_network = \"example_data/pt2matsim_network\"\n",
    "\n",
    "network = os.path.join(path_to_matsim_network, \"network.xml\")\n",
    "schedule = os.path.join(path_to_matsim_network, \"schedule.xml\")\n",
    "vehicles = os.path.join(path_to_matsim_network, \"vehicles.xml\")\n",
    "n = read_matsim(\n",
    "    path_to_network=network, epsg=\"epsg:27700\", path_to_schedule=schedule, path_to_vehicles=vehicles\n",
    ")\n",
    "# you don't need to read the vehicles file, but doing so ensures all vehicles\n",
    "# in the schedule are of the expected type and the definition of the vehicle\n",
    "# is preserved\n",
    "n.print()"
   ]
  },
  {
   "cell_type": "markdown",
   "metadata": {},
   "source": [
    "## Adding Routes, Services\n",
    "\n",
    "You can add `Route`s and `Service`s. To add a `Route`, you need to identify which existing `Service` it should come under.\n",
    "\n",
    "You can make Routes by specifying a headway parameter, that will generate explicit trips for you:"
   ]
  },
  {
   "cell_type": "code",
   "execution_count": 2,
   "metadata": {
    "ExecuteTime": {
     "end_time": "2022-07-14T14:49:53.578735Z",
     "start_time": "2022-07-14T14:49:53.492843Z"
    },
    "execution": {
     "iopub.execute_input": "2023-09-22T15:39:18.004416Z",
     "iopub.status.busy": "2023-09-22T15:39:18.003917Z",
     "iopub.status.idle": "2023-09-22T15:39:18.035539Z",
     "shell.execute_reply": "2023-09-22T15:39:18.035120Z"
    }
   },
   "outputs": [],
   "source": [
    "route = Route(\n",
    "    route_short_name=\"N55\",\n",
    "    mode=\"bus\",\n",
    "    headway_spec={(\"07:00:00\", \"08:00:00\"): 15},\n",
    "    arrival_offsets=[\"00:00:00\", \"00:02:00\", \"00:04:00\", \"00:06:00\"],\n",
    "    departure_offsets=[\"00:00:00\", \"00:02:00\", \"00:04:00\", \"00:06:00\"],\n",
    "    id=\"new_route\",\n",
    "    #    route= ['834', '1573', '3139', '3141', '574', '3154', '979', '980', '981'],\n",
    "    await_departure=[True, True, True, True],\n",
    "    stops=[\n",
    "        n.schedule.stop(\"490000235X\"),\n",
    "        Stop(id=\"new_stop\", x=529500, y=181300, name=\"New Stop\", epsg=\"epsg:27700\"),\n",
    "        Stop(id=\"other_new_stop\", x=529502, y=181302, name=\"Other New Stop\", epsg=\"epsg:27700\"),\n",
    "        n.schedule.stop(\"490010689KB\"),\n",
    "    ],\n",
    ")"
   ]
  },
  {
   "cell_type": "code",
   "execution_count": 3,
   "metadata": {
    "ExecuteTime": {
     "end_time": "2022-07-14T14:49:53.590461Z",
     "start_time": "2022-07-14T14:49:53.582611Z"
    },
    "execution": {
     "iopub.execute_input": "2023-09-22T15:39:18.039141Z",
     "iopub.status.busy": "2023-09-22T15:39:18.038975Z",
     "iopub.status.idle": "2023-09-22T15:39:18.044718Z",
     "shell.execute_reply": "2023-09-22T15:39:18.044281Z"
    }
   },
   "outputs": [
    {
     "data": {
      "text/plain": [
       "{'trip_id': ['new_route_07:00:00',\n",
       "  'new_route_07:15:00',\n",
       "  'new_route_07:30:00',\n",
       "  'new_route_07:45:00',\n",
       "  'new_route_08:00:00'],\n",
       " 'trip_departure_time': ['07:00:00',\n",
       "  '07:15:00',\n",
       "  '07:30:00',\n",
       "  '07:45:00',\n",
       "  '08:00:00'],\n",
       " 'vehicle_id': ['veh_bus_new_route_07:00:00',\n",
       "  'veh_bus_new_route_07:15:00',\n",
       "  'veh_bus_new_route_07:30:00',\n",
       "  'veh_bus_new_route_07:45:00',\n",
       "  'veh_bus_new_route_08:00:00']}"
      ]
     },
     "execution_count": 3,
     "metadata": {},
     "output_type": "execute_result"
    }
   ],
   "source": [
    "route.trips"
   ]
  },
  {
   "cell_type": "markdown",
   "metadata": {},
   "source": [
    "Or you can use provide the exact trips and vehicles on this route:"
   ]
  },
  {
   "cell_type": "code",
   "execution_count": 4,
   "metadata": {
    "ExecuteTime": {
     "end_time": "2022-07-14T14:49:53.656413Z",
     "start_time": "2022-07-14T14:49:53.599424Z"
    },
    "execution": {
     "iopub.execute_input": "2023-09-22T15:39:18.050752Z",
     "iopub.status.busy": "2023-09-22T15:39:18.050559Z",
     "iopub.status.idle": "2023-09-22T15:39:18.083281Z",
     "shell.execute_reply": "2023-09-22T15:39:18.082754Z"
    }
   },
   "outputs": [],
   "source": [
    "route = Route(\n",
    "    route_short_name=\"N55\",\n",
    "    mode=\"bus\",\n",
    "    trips={\n",
    "        \"trip_id\": [\"fun_trip_1\", \"fun_trip_2\"],\n",
    "        \"trip_departure_time\": [\"03:53:00\", \"16:23:00\"],\n",
    "        \"vehicle_id\": [\"fun_bus_1\", \"fun_bus_2\"],\n",
    "    },\n",
    "    arrival_offsets=[\"00:00:00\", \"00:02:00\", \"00:04:00\", \"00:06:00\"],\n",
    "    departure_offsets=[\"00:00:00\", \"00:02:00\", \"00:04:00\", \"00:06:00\"],\n",
    "    id=\"new_route\",\n",
    "    #    route= ['834', '1573', '3139', '3141', '574', '3154', '979', '980', '981'],\n",
    "    await_departure=[True, True, True, True],\n",
    "    stops=[\n",
    "        n.schedule.stop(\"490000235X\"),\n",
    "        Stop(id=\"new_stop\", x=529500, y=181300, name=\"New Stop\", epsg=\"epsg:27700\"),\n",
    "        Stop(id=\"other_new_stop\", x=529502, y=181302, name=\"Other New Stop\", epsg=\"epsg:27700\"),\n",
    "        n.schedule.stop(\"490010689KB\"),\n",
    "    ],\n",
    ")"
   ]
  },
  {
   "cell_type": "markdown",
   "metadata": {},
   "source": [
    "You can create and add a new `Service`, or add the route to an existing Service"
   ]
  },
  {
   "cell_type": "code",
   "execution_count": 5,
   "metadata": {
    "ExecuteTime": {
     "end_time": "2022-07-14T14:49:53.667233Z",
     "start_time": "2022-07-14T14:49:53.658998Z"
    },
    "execution": {
     "iopub.execute_input": "2023-09-22T15:39:18.085946Z",
     "iopub.status.busy": "2023-09-22T15:39:18.085740Z",
     "iopub.status.idle": "2023-09-22T15:39:18.090371Z",
     "shell.execute_reply": "2023-09-22T15:39:18.089995Z"
    }
   },
   "outputs": [
    {
     "name": "stdout",
     "output_type": "stream",
     "text": [
      "Service ID: new_service\n",
      "Name: N55\n",
      "Number of routes: 1\n",
      "Number of stops: 4\n"
     ]
    }
   ],
   "source": [
    "new_service = Service(id=\"new_service\", routes=[route])\n",
    "new_service.print()"
   ]
  },
  {
   "cell_type": "code",
   "execution_count": 6,
   "metadata": {
    "ExecuteTime": {
     "end_time": "2022-07-14T14:49:54.006637Z",
     "start_time": "2022-07-14T14:49:53.670392Z"
    },
    "execution": {
     "iopub.execute_input": "2023-09-22T15:39:18.092419Z",
     "iopub.status.busy": "2023-09-22T15:39:18.092262Z",
     "iopub.status.idle": "2023-09-22T15:39:18.296170Z",
     "shell.execute_reply": "2023-09-22T15:39:18.295720Z"
    }
   },
   "outputs": [
    {
     "name": "stderr",
     "output_type": "stream",
     "text": [
      "2023-09-22 16:39:18,096 - Added Services with IDs `['new_service']` and Routes: [['new_route']]\n"
     ]
    }
   ],
   "source": [
    "n.schedule.add_service(Service(id=\"new_service\", routes=[route]))"
   ]
  },
  {
   "cell_type": "code",
   "execution_count": 7,
   "metadata": {
    "ExecuteTime": {
     "end_time": "2022-07-14T14:49:54.241933Z",
     "start_time": "2022-07-14T14:49:54.008644Z"
    },
    "execution": {
     "iopub.execute_input": "2023-09-22T15:39:18.298795Z",
     "iopub.status.busy": "2023-09-22T15:39:18.298585Z",
     "iopub.status.idle": "2023-09-22T15:39:18.458083Z",
     "shell.execute_reply": "2023-09-22T15:39:18.456993Z"
    }
   },
   "outputs": [
    {
     "name": "stderr",
     "output_type": "stream",
     "text": [
      "2023-09-22 16:39:18,300 - Route with ID `new_route` for Service 20274 within already exists in the Schedule. This Route will be reindexed to `20274_4`\n"
     ]
    },
    {
     "name": "stderr",
     "output_type": "stream",
     "text": [
      "2023-09-22 16:39:18,301 - Reindexed Route from new_route to 20274_4\n"
     ]
    },
    {
     "name": "stderr",
     "output_type": "stream",
     "text": [
      "2023-09-22 16:39:18,302 - Added Routes with IDs ['20274_4'], to Services `['20274']` within the Schedule\n"
     ]
    },
    {
     "name": "stderr",
     "output_type": "stream",
     "text": [
      "/Users/bryn.pickering/Repos/arup-group/genet/genet/schedule_elements.py:1804: UserWarning: DataFrame columns are not unique, some columns will be omitted.\n",
      "  self.vehicles = {**df.T.to_dict(), **self.vehicles}\n"
     ]
    }
   ],
   "source": [
    "n.schedule.add_route(\"20274\", route)"
   ]
  },
  {
   "cell_type": "code",
   "execution_count": 8,
   "metadata": {
    "ExecuteTime": {
     "end_time": "2022-07-14T14:49:54.250961Z",
     "start_time": "2022-07-14T14:49:54.246694Z"
    },
    "execution": {
     "iopub.execute_input": "2023-09-22T15:39:18.460847Z",
     "iopub.status.busy": "2023-09-22T15:39:18.460633Z",
     "iopub.status.idle": "2023-09-22T15:39:18.467383Z",
     "shell.execute_reply": "2023-09-22T15:39:18.466875Z"
    }
   },
   "outputs": [
    {
     "name": "stdout",
     "output_type": "stream",
     "text": [
      "Service ID: new_service\n",
      "Name: N55\n",
      "Number of routes: 1\n",
      "Number of stops: 4\n"
     ]
    }
   ],
   "source": [
    "n.schedule[\"new_service\"].print()"
   ]
  },
  {
   "cell_type": "code",
   "execution_count": 9,
   "metadata": {
    "ExecuteTime": {
     "end_time": "2022-07-14T14:49:54.262867Z",
     "start_time": "2022-07-14T14:49:54.255368Z"
    },
    "execution": {
     "iopub.execute_input": "2023-09-22T15:39:18.479847Z",
     "iopub.status.busy": "2023-09-22T15:39:18.479602Z",
     "iopub.status.idle": "2023-09-22T15:39:18.505477Z",
     "shell.execute_reply": "2023-09-22T15:39:18.504979Z"
    }
   },
   "outputs": [
    {
     "data": {
      "text/plain": [
       "['490000235X', 'new_stop', 'other_new_stop', '490010689KB']"
      ]
     },
     "execution_count": 9,
     "metadata": {},
     "output_type": "execute_result"
    }
   ],
   "source": [
    "n.schedule.route(\"20274_4\").ordered_stops"
   ]
  },
  {
   "cell_type": "markdown",
   "metadata": {},
   "source": [
    "You can also refer to existing stops in the `Schedule` when creating a`Route` to be added. You can either just pass Stop IDs as strings or use a stop method on the schedule to take and use that stop object. Note that in the case of the former (passing ID strings), the route will not have the spatial information for those stops until it is added to the Schedule."
   ]
  },
  {
   "cell_type": "code",
   "execution_count": 10,
   "metadata": {
    "ExecuteTime": {
     "end_time": "2022-07-14T14:49:54.272000Z",
     "start_time": "2022-07-14T14:49:54.265017Z"
    },
    "execution": {
     "iopub.execute_input": "2023-09-22T15:39:18.509324Z",
     "iopub.status.busy": "2023-09-22T15:39:18.509087Z",
     "iopub.status.idle": "2023-09-22T15:39:18.518864Z",
     "shell.execute_reply": "2023-09-22T15:39:18.517693Z"
    }
   },
   "outputs": [],
   "source": [
    "r = Route(\n",
    "    route_short_name=\"N55\",\n",
    "    mode=\"bus\",\n",
    "    trips={\n",
    "        \"trip_id\": [\"some_trip_1\"],\n",
    "        \"trip_departure_time\": [\"16:23:00\"],\n",
    "        \"vehicle_id\": [\"some_bus_2\"],\n",
    "    },\n",
    "    arrival_offsets=[\"00:00:00\", \"00:06:00\"],\n",
    "    departure_offsets=[\"00:00:00\", \"00:06:00\"],\n",
    "    id=\"another_new_route\",\n",
    "    #    route= ['834', '1573', '3139', '3141', '574', '3154', '979', '980', '981'],\n",
    "    await_departure=[True, True],\n",
    "    stops=[\"490000235X.link:834\", \"490010689KB.link:981\"],\n",
    ")"
   ]
  },
  {
   "cell_type": "code",
   "execution_count": 11,
   "metadata": {
    "ExecuteTime": {
     "end_time": "2022-07-14T14:49:54.279740Z",
     "start_time": "2022-07-14T14:49:54.274110Z"
    },
    "execution": {
     "iopub.execute_input": "2023-09-22T15:39:18.524828Z",
     "iopub.status.busy": "2023-09-22T15:39:18.524548Z",
     "iopub.status.idle": "2023-09-22T15:39:18.531879Z",
     "shell.execute_reply": "2023-09-22T15:39:18.531226Z"
    }
   },
   "outputs": [
    {
     "data": {
      "text/plain": [
       "{'routes': {'another_new_route'}}"
      ]
     },
     "execution_count": 11,
     "metadata": {},
     "output_type": "execute_result"
    }
   ],
   "source": [
    "r.graph().nodes[\"490000235X.link:834\"]"
   ]
  },
  {
   "cell_type": "code",
   "execution_count": 12,
   "metadata": {
    "ExecuteTime": {
     "end_time": "2022-07-14T14:49:54.573187Z",
     "start_time": "2022-07-14T14:49:54.281764Z"
    },
    "execution": {
     "iopub.execute_input": "2023-09-22T15:39:18.535744Z",
     "iopub.status.busy": "2023-09-22T15:39:18.535038Z",
     "iopub.status.idle": "2023-09-22T15:39:18.676427Z",
     "shell.execute_reply": "2023-09-22T15:39:18.675498Z"
    }
   },
   "outputs": [
    {
     "name": "stderr",
     "output_type": "stream",
     "text": [
      "2023-09-22 16:39:18,539 - Added Routes with IDs ['another_new_route'], to Services `['20274']` within the Schedule\n"
     ]
    },
    {
     "name": "stderr",
     "output_type": "stream",
     "text": [
      "/Users/bryn.pickering/Repos/arup-group/genet/genet/schedule_elements.py:1804: UserWarning: DataFrame columns are not unique, some columns will be omitted.\n",
      "  self.vehicles = {**df.T.to_dict(), **self.vehicles}\n"
     ]
    }
   ],
   "source": [
    "n.schedule.add_route(\"20274\", r)"
   ]
  },
  {
   "cell_type": "code",
   "execution_count": 13,
   "metadata": {
    "ExecuteTime": {
     "end_time": "2022-07-14T14:49:54.593063Z",
     "start_time": "2022-07-14T14:49:54.575639Z"
    },
    "execution": {
     "iopub.execute_input": "2023-09-22T15:39:18.683388Z",
     "iopub.status.busy": "2023-09-22T15:39:18.683143Z",
     "iopub.status.idle": "2023-09-22T15:39:18.691239Z",
     "shell.execute_reply": "2023-09-22T15:39:18.690712Z"
    }
   },
   "outputs": [
    {
     "data": {
      "text/plain": [
       "{'services': {'14134', '18853', '20274'},\n",
       " 'routes': {'VJ12ba6089dfb2733e29c415a1a0015fef30fd5305',\n",
       "  'VJ256e98df611ff48afe737ddc81cbcde82e4e81c8',\n",
       "  'VJ2aba67e3ed98f2ed5f5966c1ac394cbf6d1943d7',\n",
       "  'VJ375a660d47a2aa570aa20a8568012da8497ffecf',\n",
       "  'VJ4e2b897edf0e7b8a8e3b5516ab43ce56f72c5cff',\n",
       "  'VJa7f37392e276aeac26c7e73bbc05e6a71af38dba',\n",
       "  'VJd78967364a302cf232c5139d40622dcb6c238c9e',\n",
       "  'VJdf3936da1a51eb33db594ef99738802c14b19995',\n",
       "  'VJf3e316e5e605bb512147dee2a989be5a82ef1b5f',\n",
       "  'VJf9a22035ae6f25bb420df833474943ad76065c89',\n",
       "  'another_new_route'},\n",
       " 'id': '490000235X.link:834',\n",
       " 'x': 529981.7958802709,\n",
       " 'y': 181412.0975758662,\n",
       " 'epsg': 'epsg:27700',\n",
       " 'name': 'Tottenham Court Road Station (Stop X)',\n",
       " 'lon': -0.12807067447704024,\n",
       " 'lat': 51.51668665008945,\n",
       " 's2_id': 5221390722025615077,\n",
       " 'linkRefId': '834',\n",
       " 'isBlocking': 'false'}"
      ]
     },
     "execution_count": 13,
     "metadata": {},
     "output_type": "execute_result"
    }
   ],
   "source": [
    "r.graph().nodes[\"490000235X.link:834\"]"
   ]
  },
  {
   "cell_type": "code",
   "execution_count": 14,
   "metadata": {
    "ExecuteTime": {
     "end_time": "2022-07-14T14:49:54.845494Z",
     "start_time": "2022-07-14T14:49:54.596510Z"
    },
    "execution": {
     "iopub.execute_input": "2023-09-22T15:39:18.695367Z",
     "iopub.status.busy": "2023-09-22T15:39:18.695119Z",
     "iopub.status.idle": "2023-09-22T15:39:18.964624Z",
     "shell.execute_reply": "2023-09-22T15:39:18.963525Z"
    }
   },
   "outputs": [
    {
     "name": "stderr",
     "output_type": "stream",
     "text": [
      "2023-09-22 16:39:18,713 - Added Routes with IDs ['another_new_route_2'], to Services `['20274']` within the Schedule\n"
     ]
    },
    {
     "name": "stderr",
     "output_type": "stream",
     "text": [
      "/Users/bryn.pickering/Repos/arup-group/genet/genet/schedule_elements.py:1804: UserWarning: DataFrame columns are not unique, some columns will be omitted.\n",
      "  self.vehicles = {**df.T.to_dict(), **self.vehicles}\n"
     ]
    }
   ],
   "source": [
    "r = Route(\n",
    "    route_short_name=\"N55\",\n",
    "    mode=\"bus\",\n",
    "    trips={\n",
    "        \"trip_id\": [\"some_trip_1\"],\n",
    "        \"trip_departure_time\": [\"16:23:00\"],\n",
    "        \"vehicle_id\": [\"some_bus_2\"],\n",
    "    },\n",
    "    arrival_offsets=[\"00:00:00\", \"00:06:00\"],\n",
    "    departure_offsets=[\"00:00:00\", \"00:06:00\"],\n",
    "    id=\"another_new_route_2\",\n",
    "    #    route= ['834', '1573', '3139', '3141', '574', '3154', '979', '980', '981'],\n",
    "    await_departure=[True, True],\n",
    "    stops=[n.schedule.stop(\"490000235X.link:834\"), n.schedule.stop(\"490010689KB.link:981\")],\n",
    ")\n",
    "n.schedule.add_route(\"20274\", r)"
   ]
  },
  {
   "cell_type": "markdown",
   "metadata": {},
   "source": [
    "Note that for a Schedule to be a valid MATSim network, each stop referred to by a route needs a `linkRefId` attribute which links the stop to the `Network`.\n",
    "\n",
    "Trying to add Stops with IDs already in the Schedule will result in an error, unless the `force=True` is set. The added route/service will inherit the data stored under those stops. The idea is that you can either specify the Stops in the route/service to be added correctly, or if they are to be changed, you use a dedicated method - check section 'Modifying data' below."
   ]
  },
  {
   "cell_type": "code",
   "execution_count": 15,
   "metadata": {
    "ExecuteTime": {
     "end_time": "2022-07-14T14:49:55.171427Z",
     "start_time": "2022-07-14T14:49:54.847831Z"
    },
    "execution": {
     "iopub.execute_input": "2023-09-22T15:39:18.967987Z",
     "iopub.status.busy": "2023-09-22T15:39:18.967407Z",
     "iopub.status.idle": "2023-09-22T15:39:19.243356Z",
     "shell.execute_reply": "2023-09-22T15:39:19.242820Z"
    }
   },
   "outputs": [
    {
     "name": "stderr",
     "output_type": "stream",
     "text": [
      "2023-09-22 16:39:19,102 - The following stops will inherit the data currently stored under those Stop IDs in the Schedule: ['490000235X.link:834', '490010689KB.link:981'].\n"
     ]
    },
    {
     "name": "stderr",
     "output_type": "stream",
     "text": [
      "2023-09-22 16:39:19,104 - Added Routes with IDs ['another_new_route_3'], to Services `['20274']` within the Schedule\n"
     ]
    },
    {
     "name": "stderr",
     "output_type": "stream",
     "text": [
      "/Users/bryn.pickering/Repos/arup-group/genet/genet/schedule_elements.py:1804: UserWarning: DataFrame columns are not unique, some columns will be omitted.\n",
      "  self.vehicles = {**df.T.to_dict(), **self.vehicles}\n"
     ]
    }
   ],
   "source": [
    "route = Route(\n",
    "    route_short_name=\"N55\",\n",
    "    mode=\"bus\",\n",
    "    trips={\n",
    "        \"trip_id\": [\"fun_trip_1\", \"fun_trip_2\"],\n",
    "        \"trip_departure_time\": [\"03:53:00\", \"16:23:00\"],\n",
    "        \"vehicle_id\": [\"fun_bus_1\", \"fun_bus_2\"],\n",
    "    },\n",
    "    arrival_offsets=[\"00:00:00\", \"00:02:00\", \"00:04:00\", \"00:06:00\"],\n",
    "    departure_offsets=[\"00:00:00\", \"00:02:00\", \"00:04:00\", \"00:06:00\"],\n",
    "    id=\"another_new_route_3\",\n",
    "    #    route= ['834', '1573', '3139', '3141', '574', '3154', '979', '980', '981'],\n",
    "    await_departure=[True, True, True, True],\n",
    "    stops=[\n",
    "        Stop(id=\"490000235X.link:834\", x=529981, y=181412, epsg=\"epsg:27700\"),\n",
    "        Stop(id=\"new_stop\", x=529500, y=181300, epsg=\"epsg:27700\", name=\"New Stop\"),\n",
    "        Stop(id=\"other_new_stop\", x=529502, y=181302, epsg=\"epsg:27700\", name=\"Other New Stop\"),\n",
    "        Stop(id=\"490010689KB.link:981\", x=529166, y=181256, epsg=\"epsg:27700\"),\n",
    "    ],\n",
    ")\n",
    "\n",
    "n.schedule.add_route(\"20274\", route, force=True)"
   ]
  },
  {
   "cell_type": "markdown",
   "metadata": {},
   "source": [
    "Note the message above: `The following stops will inherit the data currently stored under those Stop IDs in the Schedule: ['490000235X.link:834', '490010689KB.link:981'].`\n",
    "\n",
    "NOTE: adding routes and services results in new vehicles (unless you reuse the ones already in the Schedule---beware that the same vehicle cannot service multiple trips at the same time, genet does not currently have checks for this, the user needs to be mindful of the physics of shared vehicles). New vehicles need definitions, you can add them yourself to `schedule.vehicles['vehicle_id'] = {'type': 'bus'}` ensuring this vehicle type is defined in `schedule.vehicle_types['bus']`, or you can use a genet method to generate those vehicles, the type will be derived from the mode of the route. Then you can check if all of the types that vehicles are referring to have definitions."
   ]
  },
  {
   "cell_type": "code",
   "execution_count": 16,
   "metadata": {
    "ExecuteTime": {
     "end_time": "2022-07-14T14:49:55.182363Z",
     "start_time": "2022-07-14T14:49:55.173462Z"
    },
    "execution": {
     "iopub.execute_input": "2023-09-22T15:39:19.246087Z",
     "iopub.status.busy": "2023-09-22T15:39:19.245878Z",
     "iopub.status.idle": "2023-09-22T15:39:19.249924Z",
     "shell.execute_reply": "2023-09-22T15:39:19.249435Z"
    }
   },
   "outputs": [
    {
     "data": {
      "text/plain": [
       "1566"
      ]
     },
     "execution_count": 16,
     "metadata": {},
     "output_type": "execute_result"
    }
   ],
   "source": [
    "len(n.schedule.vehicles)"
   ]
  },
  {
   "cell_type": "code",
   "execution_count": 17,
   "metadata": {
    "ExecuteTime": {
     "end_time": "2022-07-14T14:49:55.567426Z",
     "start_time": "2022-07-14T14:49:55.186816Z"
    },
    "execution": {
     "iopub.execute_input": "2023-09-22T15:39:19.254646Z",
     "iopub.status.busy": "2023-09-22T15:39:19.254404Z",
     "iopub.status.idle": "2023-09-22T15:39:19.396087Z",
     "shell.execute_reply": "2023-09-22T15:39:19.395466Z"
    }
   },
   "outputs": [
    {
     "name": "stderr",
     "output_type": "stream",
     "text": [
      "/Users/bryn.pickering/Repos/arup-group/genet/genet/schedule_elements.py:1804: UserWarning: DataFrame columns are not unique, some columns will be omitted.\n",
      "  self.vehicles = {**df.T.to_dict(), **self.vehicles}\n"
     ]
    }
   ],
   "source": [
    "n.schedule.generate_vehicles()"
   ]
  },
  {
   "cell_type": "code",
   "execution_count": 18,
   "metadata": {
    "ExecuteTime": {
     "end_time": "2022-07-14T14:49:55.597838Z",
     "start_time": "2022-07-14T14:49:55.570080Z"
    },
    "execution": {
     "iopub.execute_input": "2023-09-22T15:39:19.399070Z",
     "iopub.status.busy": "2023-09-22T15:39:19.398828Z",
     "iopub.status.idle": "2023-09-22T15:39:19.406219Z",
     "shell.execute_reply": "2023-09-22T15:39:19.405184Z"
    }
   },
   "outputs": [
    {
     "name": "stderr",
     "output_type": "stream",
     "text": [
      "2023-09-22 16:39:19,402 - The following vehicle types are missing from the `vehicle_types`  attribute: {'bus'}\n"
     ]
    },
    {
     "name": "stderr",
     "output_type": "stream",
     "text": [
      "2023-09-22 16:39:19,402 - Vehicles affected by missing vehicle types: {'fun_bus_1': {'type': 'bus'}, 'fun_bus_2': {'type': 'bus'}, 'some_bus_2': {'type': 'bus'}}\n"
     ]
    },
    {
     "data": {
      "text/plain": [
       "False"
      ]
     },
     "execution_count": 18,
     "metadata": {},
     "output_type": "execute_result"
    }
   ],
   "source": [
    "n.schedule.validate_vehicle_definitions()"
   ]
  },
  {
   "cell_type": "code",
   "execution_count": 19,
   "metadata": {
    "ExecuteTime": {
     "end_time": "2022-07-14T14:49:55.608986Z",
     "start_time": "2022-07-14T14:49:55.600765Z"
    },
    "execution": {
     "iopub.execute_input": "2023-09-22T15:39:19.416624Z",
     "iopub.status.busy": "2023-09-22T15:39:19.416268Z",
     "iopub.status.idle": "2023-09-22T15:39:19.420827Z",
     "shell.execute_reply": "2023-09-22T15:39:19.420325Z"
    }
   },
   "outputs": [
    {
     "data": {
      "text/plain": [
       "1566"
      ]
     },
     "execution_count": 19,
     "metadata": {},
     "output_type": "execute_result"
    }
   ],
   "source": [
    "len(n.schedule.vehicles)"
   ]
  },
  {
   "cell_type": "code",
   "execution_count": 20,
   "metadata": {
    "ExecuteTime": {
     "end_time": "2022-07-14T14:49:55.634353Z",
     "start_time": "2022-07-14T14:49:55.611182Z"
    },
    "execution": {
     "iopub.execute_input": "2023-09-22T15:39:19.424329Z",
     "iopub.status.busy": "2023-09-22T15:39:19.424074Z",
     "iopub.status.idle": "2023-09-22T15:39:19.446293Z",
     "shell.execute_reply": "2023-09-22T15:39:19.445554Z"
    }
   },
   "outputs": [
    {
     "data": {
      "text/html": [
       "<div>\n",
       "<style scoped>\n",
       "    .dataframe tbody tr th:only-of-type {\n",
       "        vertical-align: middle;\n",
       "    }\n",
       "\n",
       "    .dataframe tbody tr th {\n",
       "        vertical-align: top;\n",
       "    }\n",
       "\n",
       "    .dataframe thead th {\n",
       "        text-align: right;\n",
       "    }\n",
       "</style>\n",
       "<table border=\"1\" class=\"dataframe\">\n",
       "  <thead>\n",
       "    <tr style=\"text-align: right;\">\n",
       "      <th></th>\n",
       "      <th>timestamp</th>\n",
       "      <th>change_event</th>\n",
       "      <th>object_type</th>\n",
       "      <th>old_id</th>\n",
       "      <th>new_id</th>\n",
       "      <th>old_attributes</th>\n",
       "      <th>new_attributes</th>\n",
       "      <th>diff</th>\n",
       "    </tr>\n",
       "  </thead>\n",
       "  <tbody>\n",
       "    <tr>\n",
       "      <th>0</th>\n",
       "      <td>2023-09-22 16:39:18</td>\n",
       "      <td>add</td>\n",
       "      <td>service</td>\n",
       "      <td>None</td>\n",
       "      <td>new_service</td>\n",
       "      <td>None</td>\n",
       "      <td>{'id': 'new_service', 'name': 'N55'}</td>\n",
       "      <td>[(add, , [('id', 'new_service'), ('name', 'N55...</td>\n",
       "    </tr>\n",
       "    <tr>\n",
       "      <th>1</th>\n",
       "      <td>2023-09-22 16:39:18</td>\n",
       "      <td>add</td>\n",
       "      <td>route</td>\n",
       "      <td>None</td>\n",
       "      <td>20274_4</td>\n",
       "      <td>None</td>\n",
       "      <td>{'route_short_name': 'N55', 'mode': 'bus', 'ar...</td>\n",
       "      <td>[(add, , [('route_short_name', 'N55'), ('mode'...</td>\n",
       "    </tr>\n",
       "    <tr>\n",
       "      <th>2</th>\n",
       "      <td>2023-09-22 16:39:18</td>\n",
       "      <td>add</td>\n",
       "      <td>route</td>\n",
       "      <td>None</td>\n",
       "      <td>another_new_route</td>\n",
       "      <td>None</td>\n",
       "      <td>{'route_short_name': 'N55', 'mode': 'bus', 'ar...</td>\n",
       "      <td>[(add, , [('route_short_name', 'N55'), ('mode'...</td>\n",
       "    </tr>\n",
       "    <tr>\n",
       "      <th>3</th>\n",
       "      <td>2023-09-22 16:39:18</td>\n",
       "      <td>add</td>\n",
       "      <td>route</td>\n",
       "      <td>None</td>\n",
       "      <td>another_new_route_2</td>\n",
       "      <td>None</td>\n",
       "      <td>{'route_short_name': 'N55', 'mode': 'bus', 'ar...</td>\n",
       "      <td>[(add, , [('route_short_name', 'N55'), ('mode'...</td>\n",
       "    </tr>\n",
       "    <tr>\n",
       "      <th>4</th>\n",
       "      <td>2023-09-22 16:39:19</td>\n",
       "      <td>add</td>\n",
       "      <td>route</td>\n",
       "      <td>None</td>\n",
       "      <td>another_new_route_3</td>\n",
       "      <td>None</td>\n",
       "      <td>{'route_short_name': 'N55', 'mode': 'bus', 'ar...</td>\n",
       "      <td>[(add, , [('route_short_name', 'N55'), ('mode'...</td>\n",
       "    </tr>\n",
       "  </tbody>\n",
       "</table>\n",
       "</div>"
      ],
      "text/plain": [
       "             timestamp change_event object_type old_id               new_id  \\\n",
       "0  2023-09-22 16:39:18          add     service   None          new_service   \n",
       "1  2023-09-22 16:39:18          add       route   None              20274_4   \n",
       "2  2023-09-22 16:39:18          add       route   None    another_new_route   \n",
       "3  2023-09-22 16:39:18          add       route   None  another_new_route_2   \n",
       "4  2023-09-22 16:39:19          add       route   None  another_new_route_3   \n",
       "\n",
       "  old_attributes                                     new_attributes  \\\n",
       "0           None               {'id': 'new_service', 'name': 'N55'}   \n",
       "1           None  {'route_short_name': 'N55', 'mode': 'bus', 'ar...   \n",
       "2           None  {'route_short_name': 'N55', 'mode': 'bus', 'ar...   \n",
       "3           None  {'route_short_name': 'N55', 'mode': 'bus', 'ar...   \n",
       "4           None  {'route_short_name': 'N55', 'mode': 'bus', 'ar...   \n",
       "\n",
       "                                                diff  \n",
       "0  [(add, , [('id', 'new_service'), ('name', 'N55...  \n",
       "1  [(add, , [('route_short_name', 'N55'), ('mode'...  \n",
       "2  [(add, , [('route_short_name', 'N55'), ('mode'...  \n",
       "3  [(add, , [('route_short_name', 'N55'), ('mode'...  \n",
       "4  [(add, , [('route_short_name', 'N55'), ('mode'...  "
      ]
     },
     "execution_count": 20,
     "metadata": {},
     "output_type": "execute_result"
    }
   ],
   "source": [
    "n.schedule.change_log().tail()"
   ]
  },
  {
   "cell_type": "markdown",
   "metadata": {},
   "source": [
    "There are no methods to add `Stop` objects on their own. They are added to the Schedule with `Route` and `Service` objects."
   ]
  },
  {
   "cell_type": "markdown",
   "metadata": {},
   "source": [
    "### Routing added Services/Routes\n",
    "\n",
    "You can use methods in GeNet to relate the Stops of PT services and find network routes between them. First you need to know the ID of the Service you want to snap (you can also snap the entire schedule, but depending on the size and complexity of your network and schedule it might take a long time). GeNet will then relate all stops in that service to a link in the Network graph and route all of the `Route`s of the `Service` object. It will do this for directed subsets (subgraphs) of the Service (e.g. if you have a Northbound and Southboud service, the stops may have to find different links in the graph)\n",
    "\n",
    "There are a lot of different parameters you can add to this method, that give you a bit more control. \n",
    "- `solver`: You can specify different mathematical solvers. For example GLPK, an open source solver which can be found here: https://www.gnu.org/software/glpk/. Another good open source choice is CBC: https://projects.coin-or.org/Cbc. You specify it as a string e.g. 'glpk', 'cbc', 'gurobi'. The solver needs to support MILP - mixed integer linear programming\n",
    "- `allow_partial`: Sometimes there isn't a link available for snapping within threshold for all stops. If allowed (default) an artificial self-loop link will be created as well as any connecting links to that unsnapped stop, under modal conditions. If set to False and the problem is partial, it will raise PartialMaxStableSetProblem error instead.\n",
    "- `distance_threshold`, `step_size`: You can vary the threshold for snapping stops to links. There are two parameters, the overall threshold and a step size; when snapping, the search area for links increases in steps until some links are found, we don't use the threshold right away because we don't want to have too many choices for snapping (makes it a little less heavy computationally)).\n",
    "- `additional_modes`: You can specify additional modes (when snapping, genet will consider a modal subset of the network that matches the pt service, e.g. bus, but you might want to use links that allow cars too).\n",
    "- `allow_directional_split`: You can opt for splitting the problem of snapping by direction. GeNet will then solve a series of problems for subgraphs (disjoint w.r.t. edges) of the Service. This is useful for rail type services that might share the same stop regardless of direction (in comparison to buses which have distinct bus stops, depending on which way they're travelling).\n",
    "\n",
    "Check the methods' doc strings for up to date details."
   ]
  },
  {
   "cell_type": "code",
   "execution_count": 21,
   "metadata": {
    "ExecuteTime": {
     "end_time": "2022-07-14T14:49:55.648137Z",
     "start_time": "2022-07-14T14:49:55.636694Z"
    },
    "execution": {
     "iopub.execute_input": "2023-09-22T15:39:19.450007Z",
     "iopub.status.busy": "2023-09-22T15:39:19.449736Z",
     "iopub.status.idle": "2023-09-22T15:39:19.454177Z",
     "shell.execute_reply": "2023-09-22T15:39:19.453709Z"
    }
   },
   "outputs": [
    {
     "data": {
      "text/plain": [
       "[]"
      ]
     },
     "execution_count": 21,
     "metadata": {},
     "output_type": "execute_result"
    }
   ],
   "source": [
    "n.schedule[\"new_service\"].route(\"new_route\").route"
   ]
  },
  {
   "cell_type": "code",
   "execution_count": 22,
   "metadata": {
    "ExecuteTime": {
     "end_time": "2022-07-14T14:49:55.662064Z",
     "start_time": "2022-07-14T14:49:55.650793Z"
    },
    "execution": {
     "iopub.execute_input": "2023-09-22T15:39:19.457453Z",
     "iopub.status.busy": "2023-09-22T15:39:19.457180Z",
     "iopub.status.idle": "2023-09-22T15:39:19.461327Z",
     "shell.execute_reply": "2023-09-22T15:39:19.460888Z"
    }
   },
   "outputs": [
    {
     "data": {
      "text/plain": [
       "['490000235X', 'new_stop', 'other_new_stop', '490010689KB']"
      ]
     },
     "execution_count": 22,
     "metadata": {},
     "output_type": "execute_result"
    }
   ],
   "source": [
    "n.schedule[\"new_service\"].route(\"new_route\").ordered_stops"
   ]
  },
  {
   "cell_type": "code",
   "execution_count": 23,
   "metadata": {
    "ExecuteTime": {
     "end_time": "2022-07-14T14:49:58.530189Z",
     "start_time": "2022-07-14T14:49:55.681690Z"
    },
    "execution": {
     "iopub.execute_input": "2023-09-22T15:39:19.463884Z",
     "iopub.status.busy": "2023-09-22T15:39:19.463682Z",
     "iopub.status.idle": "2023-09-22T15:39:20.784460Z",
     "shell.execute_reply": "2023-09-22T15:39:20.783979Z"
    }
   },
   "outputs": [
    {
     "name": "stderr",
     "output_type": "stream",
     "text": [
      "2023-09-22 16:39:20,542 - Routing Service new_service with modes = {'bus'}\n"
     ]
    },
    {
     "name": "stderr",
     "output_type": "stream",
     "text": [
      "2023-09-22 16:39:20,564 - Building Maximum Stable Set for PT graph with 4 stops and 3 edges\n"
     ]
    },
    {
     "name": "stderr",
     "output_type": "stream",
     "text": [
      "/Users/bryn.pickering/Repos/arup-group/genet/genet/max_stable_set.py:63: FutureWarning: The `op` parameter is deprecated and will be removed in a future release. Please use the `predicate` parameter instead.\n",
      "  nodes = self.cast_catchment(\n",
      "/Users/bryn.pickering/Repos/arup-group/genet/genet/max_stable_set.py:70: FutureWarning: The `op` parameter is deprecated and will be removed in a future release. Please use the `predicate` parameter instead.\n",
      "  _df = self.cast_catchment(\n",
      "2023-09-22 16:39:20,618 - This Maximum Stable Set Problem is partially viable.\n"
     ]
    },
    {
     "name": "stderr",
     "output_type": "stream",
     "text": [
      "2023-09-22 16:39:20,619 - Maximum Stable Set problem to snap the PT graph to the network is partially viable, meaning not all stops have found a link to snap to within the distance_threshold.Partial snapping is ON, this problem will proceed to the solver.\n"
     ]
    },
    {
     "name": "stderr",
     "output_type": "stream",
     "text": [
      "2023-09-22 16:39:20,619 - Passing problem to solver\n"
     ]
    },
    {
     "name": "stderr",
     "output_type": "stream",
     "text": [
      "2023-09-22 16:39:20,620 - Initializing ordered Set vertices with a fundamentally unordered data source (type: set).  This WILL potentially lead to nondeterministic behavior in Pyomo\n"
     ]
    },
    {
     "name": "stderr",
     "output_type": "stream",
     "text": [
      "2023-09-22 16:39:20,622 - Passing problem to solver\n"
     ]
    },
    {
     "name": "stderr",
     "output_type": "stream",
     "text": [
      "2023-09-22 16:39:20,701 - Successfully snapped 3 stops to network links.\n"
     ]
    },
    {
     "name": "stderr",
     "output_type": "stream",
     "text": [
      "2023-09-22 16:39:20,709 - Stop ID changes detected for Routes: {'new_route'}\n"
     ]
    },
    {
     "name": "stderr",
     "output_type": "stream",
     "text": [
      "2023-09-22 16:39:20,711 - Changed Route attributes for 1 routes\n"
     ]
    },
    {
     "name": "stderr",
     "output_type": "stream",
     "text": [
      "2023-09-22 16:39:20,714 - Added 1 nodes\n"
     ]
    },
    {
     "name": "stderr",
     "output_type": "stream",
     "text": [
      "2023-09-22 16:39:20,775 - Generated 0 link ids.\n"
     ]
    },
    {
     "name": "stderr",
     "output_type": "stream",
     "text": [
      "2023-09-22 16:39:20,778 - Added 2 links\n"
     ]
    },
    {
     "name": "stderr",
     "output_type": "stream",
     "text": [
      "2023-09-22 16:39:20,779 - Changed Link attributes for 4 links\n"
     ]
    }
   ],
   "source": [
    "n.route_service(\"new_service\")"
   ]
  },
  {
   "cell_type": "code",
   "execution_count": 24,
   "metadata": {
    "ExecuteTime": {
     "end_time": "2022-07-14T14:49:58.545034Z",
     "start_time": "2022-07-14T14:49:58.540036Z"
    },
    "execution": {
     "iopub.execute_input": "2023-09-22T15:39:20.787111Z",
     "iopub.status.busy": "2023-09-22T15:39:20.786876Z",
     "iopub.status.idle": "2023-09-22T15:39:20.791399Z",
     "shell.execute_reply": "2023-09-22T15:39:20.790966Z"
    }
   },
   "outputs": [
    {
     "data": {
      "text/plain": [
       "['artificial_link===from:490000235X===to:490000235X',\n",
       " 'artificial_link===from:490000235X===to:9521035',\n",
       " '3154',\n",
       " '979',\n",
       " '980',\n",
       " '981']"
      ]
     },
     "execution_count": 24,
     "metadata": {},
     "output_type": "execute_result"
    }
   ],
   "source": [
    "n.schedule[\"new_service\"].route(\"new_route\").route"
   ]
  },
  {
   "cell_type": "code",
   "execution_count": 25,
   "metadata": {
    "ExecuteTime": {
     "end_time": "2022-07-14T14:49:58.557902Z",
     "start_time": "2022-07-14T14:49:58.548400Z"
    },
    "execution": {
     "iopub.execute_input": "2023-09-22T15:39:20.793584Z",
     "iopub.status.busy": "2023-09-22T15:39:20.793395Z",
     "iopub.status.idle": "2023-09-22T15:39:20.796923Z",
     "shell.execute_reply": "2023-09-22T15:39:20.796486Z"
    }
   },
   "outputs": [
    {
     "data": {
      "text/plain": [
       "['490000235X.link:artificial_link===from:490000235X===to:490000235X',\n",
       " 'new_stop.link:3154',\n",
       " 'other_new_stop.link:3154',\n",
       " '490010689KB.link:981']"
      ]
     },
     "execution_count": 25,
     "metadata": {},
     "output_type": "execute_result"
    }
   ],
   "source": [
    "n.schedule[\"new_service\"].route(\"new_route\").ordered_stops"
   ]
  },
  {
   "cell_type": "markdown",
   "metadata": {},
   "source": [
    "## Reindexing"
   ]
  },
  {
   "cell_type": "code",
   "execution_count": 26,
   "metadata": {
    "ExecuteTime": {
     "end_time": "2022-07-14T14:49:58.568956Z",
     "start_time": "2022-07-14T14:49:58.559879Z"
    },
    "execution": {
     "iopub.execute_input": "2023-09-22T15:39:20.799461Z",
     "iopub.status.busy": "2023-09-22T15:39:20.799275Z",
     "iopub.status.idle": "2023-09-22T15:39:20.804106Z",
     "shell.execute_reply": "2023-09-22T15:39:20.803622Z"
    }
   },
   "outputs": [
    {
     "name": "stderr",
     "output_type": "stream",
     "text": [
      "2023-09-22 16:39:20,802 - Reindexed Service from new_service to more_appropriate_id\n"
     ]
    }
   ],
   "source": [
    "n.schedule[\"new_service\"].reindex(new_id=\"more_appropriate_id\")"
   ]
  },
  {
   "cell_type": "code",
   "execution_count": 27,
   "metadata": {
    "ExecuteTime": {
     "end_time": "2022-07-14T14:49:58.590476Z",
     "start_time": "2022-07-14T14:49:58.571758Z"
    },
    "execution": {
     "iopub.execute_input": "2023-09-22T15:39:20.806488Z",
     "iopub.status.busy": "2023-09-22T15:39:20.806287Z",
     "iopub.status.idle": "2023-09-22T15:39:20.811291Z",
     "shell.execute_reply": "2023-09-22T15:39:20.810909Z"
    }
   },
   "outputs": [
    {
     "name": "stderr",
     "output_type": "stream",
     "text": [
      "2023-09-22 16:39:20,809 - Reindexed Route from new_route to more_appropriate_route_id\n"
     ]
    }
   ],
   "source": [
    "n.schedule.route(\"new_route\").reindex(new_id=\"more_appropriate_route_id\")"
   ]
  },
  {
   "cell_type": "code",
   "execution_count": 28,
   "metadata": {
    "ExecuteTime": {
     "end_time": "2022-07-14T14:49:58.618270Z",
     "start_time": "2022-07-14T14:49:58.597273Z"
    },
    "execution": {
     "iopub.execute_input": "2023-09-22T15:39:20.813306Z",
     "iopub.status.busy": "2023-09-22T15:39:20.813117Z",
     "iopub.status.idle": "2023-09-22T15:39:20.826199Z",
     "shell.execute_reply": "2023-09-22T15:39:20.825717Z"
    }
   },
   "outputs": [
    {
     "data": {
      "text/html": [
       "<div>\n",
       "<style scoped>\n",
       "    .dataframe tbody tr th:only-of-type {\n",
       "        vertical-align: middle;\n",
       "    }\n",
       "\n",
       "    .dataframe tbody tr th {\n",
       "        vertical-align: top;\n",
       "    }\n",
       "\n",
       "    .dataframe thead th {\n",
       "        text-align: right;\n",
       "    }\n",
       "</style>\n",
       "<table border=\"1\" class=\"dataframe\">\n",
       "  <thead>\n",
       "    <tr style=\"text-align: right;\">\n",
       "      <th></th>\n",
       "      <th>timestamp</th>\n",
       "      <th>change_event</th>\n",
       "      <th>object_type</th>\n",
       "      <th>old_id</th>\n",
       "      <th>new_id</th>\n",
       "      <th>old_attributes</th>\n",
       "      <th>new_attributes</th>\n",
       "      <th>diff</th>\n",
       "    </tr>\n",
       "  </thead>\n",
       "  <tbody>\n",
       "    <tr>\n",
       "      <th>3</th>\n",
       "      <td>2023-09-22 16:39:18</td>\n",
       "      <td>add</td>\n",
       "      <td>route</td>\n",
       "      <td>None</td>\n",
       "      <td>another_new_route_2</td>\n",
       "      <td>None</td>\n",
       "      <td>{'route_short_name': 'N55', 'mode': 'bus', 'ar...</td>\n",
       "      <td>[(add, , [('route_short_name', 'N55'), ('mode'...</td>\n",
       "    </tr>\n",
       "    <tr>\n",
       "      <th>4</th>\n",
       "      <td>2023-09-22 16:39:19</td>\n",
       "      <td>add</td>\n",
       "      <td>route</td>\n",
       "      <td>None</td>\n",
       "      <td>another_new_route_3</td>\n",
       "      <td>None</td>\n",
       "      <td>{'route_short_name': 'N55', 'mode': 'bus', 'ar...</td>\n",
       "      <td>[(add, , [('route_short_name', 'N55'), ('mode'...</td>\n",
       "    </tr>\n",
       "    <tr>\n",
       "      <th>5</th>\n",
       "      <td>2023-09-22 16:39:20</td>\n",
       "      <td>modify</td>\n",
       "      <td>route</td>\n",
       "      <td>new_route</td>\n",
       "      <td>new_route</td>\n",
       "      <td>{'route_short_name': 'N55', 'mode': 'bus', 'ar...</td>\n",
       "      <td>{'route_short_name': 'N55', 'mode': 'bus', 'ar...</td>\n",
       "      <td>[(add, route, [(0, 'artificial_link===from:490...</td>\n",
       "    </tr>\n",
       "    <tr>\n",
       "      <th>6</th>\n",
       "      <td>2023-09-22 16:39:20</td>\n",
       "      <td>modify</td>\n",
       "      <td>service</td>\n",
       "      <td>new_service</td>\n",
       "      <td>more_appropriate_id</td>\n",
       "      <td>{'id': 'new_service'}</td>\n",
       "      <td>{'id': 'more_appropriate_id'}</td>\n",
       "      <td>[(change, id, (new_service, more_appropriate_i...</td>\n",
       "    </tr>\n",
       "    <tr>\n",
       "      <th>7</th>\n",
       "      <td>2023-09-22 16:39:20</td>\n",
       "      <td>modify</td>\n",
       "      <td>route</td>\n",
       "      <td>new_route</td>\n",
       "      <td>more_appropriate_route_id</td>\n",
       "      <td>{'id': 'new_route'}</td>\n",
       "      <td>{'id': 'more_appropriate_route_id'}</td>\n",
       "      <td>[(change, id, (new_route, more_appropriate_rou...</td>\n",
       "    </tr>\n",
       "  </tbody>\n",
       "</table>\n",
       "</div>"
      ],
      "text/plain": [
       "             timestamp change_event object_type       old_id  \\\n",
       "3  2023-09-22 16:39:18          add       route         None   \n",
       "4  2023-09-22 16:39:19          add       route         None   \n",
       "5  2023-09-22 16:39:20       modify       route    new_route   \n",
       "6  2023-09-22 16:39:20       modify     service  new_service   \n",
       "7  2023-09-22 16:39:20       modify       route    new_route   \n",
       "\n",
       "                      new_id  \\\n",
       "3        another_new_route_2   \n",
       "4        another_new_route_3   \n",
       "5                  new_route   \n",
       "6        more_appropriate_id   \n",
       "7  more_appropriate_route_id   \n",
       "\n",
       "                                      old_attributes  \\\n",
       "3                                               None   \n",
       "4                                               None   \n",
       "5  {'route_short_name': 'N55', 'mode': 'bus', 'ar...   \n",
       "6                              {'id': 'new_service'}   \n",
       "7                                {'id': 'new_route'}   \n",
       "\n",
       "                                      new_attributes  \\\n",
       "3  {'route_short_name': 'N55', 'mode': 'bus', 'ar...   \n",
       "4  {'route_short_name': 'N55', 'mode': 'bus', 'ar...   \n",
       "5  {'route_short_name': 'N55', 'mode': 'bus', 'ar...   \n",
       "6                      {'id': 'more_appropriate_id'}   \n",
       "7                {'id': 'more_appropriate_route_id'}   \n",
       "\n",
       "                                                diff  \n",
       "3  [(add, , [('route_short_name', 'N55'), ('mode'...  \n",
       "4  [(add, , [('route_short_name', 'N55'), ('mode'...  \n",
       "5  [(add, route, [(0, 'artificial_link===from:490...  \n",
       "6  [(change, id, (new_service, more_appropriate_i...  \n",
       "7  [(change, id, (new_route, more_appropriate_rou...  "
      ]
     },
     "execution_count": 28,
     "metadata": {},
     "output_type": "execute_result"
    }
   ],
   "source": [
    "n.schedule.change_log().tail()"
   ]
  },
  {
   "cell_type": "markdown",
   "metadata": {},
   "source": [
    "## Removing Stops, Routes, Services"
   ]
  },
  {
   "cell_type": "code",
   "execution_count": 29,
   "metadata": {
    "ExecuteTime": {
     "end_time": "2022-07-14T14:49:58.903579Z",
     "start_time": "2022-07-14T14:49:58.620488Z"
    },
    "execution": {
     "iopub.execute_input": "2023-09-22T15:39:20.828247Z",
     "iopub.status.busy": "2023-09-22T15:39:20.828080Z",
     "iopub.status.idle": "2023-09-22T15:39:20.963121Z",
     "shell.execute_reply": "2023-09-22T15:39:20.962756Z"
    }
   },
   "outputs": [
    {
     "name": "stderr",
     "output_type": "stream",
     "text": [
      "/Users/bryn.pickering/Repos/arup-group/genet/genet/schedule_elements.py:1804: UserWarning: DataFrame columns are not unique, some columns will be omitted.\n",
      "  self.vehicles = {**df.T.to_dict(), **self.vehicles}\n"
     ]
    },
    {
     "name": "stderr",
     "output_type": "stream",
     "text": [
      "2023-09-22 16:39:20,961 - Removed Services with IDs `more_appropriate_id`, and Routes: {'more_appropriate_route_id'}\n"
     ]
    }
   ],
   "source": [
    "n.schedule.remove_service(\"more_appropriate_id\")"
   ]
  },
  {
   "cell_type": "code",
   "execution_count": 30,
   "metadata": {
    "ExecuteTime": {
     "end_time": "2022-07-14T14:49:59.898749Z",
     "start_time": "2022-07-14T14:49:58.907320Z"
    },
    "execution": {
     "iopub.execute_input": "2023-09-22T15:39:20.965248Z",
     "iopub.status.busy": "2023-09-22T15:39:20.965063Z",
     "iopub.status.idle": "2023-09-22T15:39:21.426000Z",
     "shell.execute_reply": "2023-09-22T15:39:21.425552Z"
    }
   },
   "outputs": [
    {
     "name": "stderr",
     "output_type": "stream",
     "text": [
      "/Users/bryn.pickering/Repos/arup-group/genet/genet/schedule_elements.py:1804: UserWarning: DataFrame columns are not unique, some columns will be omitted.\n",
      "  self.vehicles = {**df.T.to_dict(), **self.vehicles}\n",
      "2023-09-22 16:39:21,097 - Removed Routes with IDs ['another_new_route_3'], to Services `20274`.\n"
     ]
    },
    {
     "name": "stderr",
     "output_type": "stream",
     "text": [
      "2023-09-22 16:39:21,229 - Removed Routes with IDs ['another_new_route'], to Services `20274`.\n"
     ]
    },
    {
     "name": "stderr",
     "output_type": "stream",
     "text": [
      "2023-09-22 16:39:21,423 - Removed Routes with IDs ['another_new_route_2'], to Services `20274`.\n"
     ]
    }
   ],
   "source": [
    "for route_id in {\"another_new_route\", \"another_new_route_2\", \"another_new_route_3\"}:\n",
    "    n.schedule.remove_route(route_id)"
   ]
  },
  {
   "cell_type": "code",
   "execution_count": 31,
   "metadata": {
    "ExecuteTime": {
     "end_time": "2022-07-14T14:49:59.932732Z",
     "start_time": "2022-07-14T14:49:59.909440Z"
    },
    "execution": {
     "iopub.execute_input": "2023-09-22T15:39:21.428130Z",
     "iopub.status.busy": "2023-09-22T15:39:21.427950Z",
     "iopub.status.idle": "2023-09-22T15:39:21.438771Z",
     "shell.execute_reply": "2023-09-22T15:39:21.438319Z"
    }
   },
   "outputs": [
    {
     "data": {
      "text/html": [
       "<div>\n",
       "<style scoped>\n",
       "    .dataframe tbody tr th:only-of-type {\n",
       "        vertical-align: middle;\n",
       "    }\n",
       "\n",
       "    .dataframe tbody tr th {\n",
       "        vertical-align: top;\n",
       "    }\n",
       "\n",
       "    .dataframe thead th {\n",
       "        text-align: right;\n",
       "    }\n",
       "</style>\n",
       "<table border=\"1\" class=\"dataframe\">\n",
       "  <thead>\n",
       "    <tr style=\"text-align: right;\">\n",
       "      <th></th>\n",
       "      <th>timestamp</th>\n",
       "      <th>change_event</th>\n",
       "      <th>object_type</th>\n",
       "      <th>old_id</th>\n",
       "      <th>new_id</th>\n",
       "      <th>old_attributes</th>\n",
       "      <th>new_attributes</th>\n",
       "      <th>diff</th>\n",
       "    </tr>\n",
       "  </thead>\n",
       "  <tbody>\n",
       "    <tr>\n",
       "      <th>7</th>\n",
       "      <td>2023-09-22 16:39:20</td>\n",
       "      <td>modify</td>\n",
       "      <td>route</td>\n",
       "      <td>new_route</td>\n",
       "      <td>more_appropriate_route_id</td>\n",
       "      <td>{'id': 'new_route'}</td>\n",
       "      <td>{'id': 'more_appropriate_route_id'}</td>\n",
       "      <td>[(change, id, (new_route, more_appropriate_rou...</td>\n",
       "    </tr>\n",
       "    <tr>\n",
       "      <th>8</th>\n",
       "      <td>2023-09-22 16:39:20</td>\n",
       "      <td>remove</td>\n",
       "      <td>service</td>\n",
       "      <td>more_appropriate_id</td>\n",
       "      <td>None</td>\n",
       "      <td>{'id': 'more_appropriate_id', 'name': 'N55'}</td>\n",
       "      <td>None</td>\n",
       "      <td>[(remove, , [('id', 'more_appropriate_id'), ('...</td>\n",
       "    </tr>\n",
       "    <tr>\n",
       "      <th>9</th>\n",
       "      <td>2023-09-22 16:39:20</td>\n",
       "      <td>remove</td>\n",
       "      <td>route</td>\n",
       "      <td>another_new_route_3</td>\n",
       "      <td>None</td>\n",
       "      <td>{'route_short_name': 'N55', 'mode': 'bus', 'ar...</td>\n",
       "      <td>None</td>\n",
       "      <td>[(remove, , [('route_short_name', 'N55'), ('mo...</td>\n",
       "    </tr>\n",
       "    <tr>\n",
       "      <th>10</th>\n",
       "      <td>2023-09-22 16:39:21</td>\n",
       "      <td>remove</td>\n",
       "      <td>route</td>\n",
       "      <td>another_new_route</td>\n",
       "      <td>None</td>\n",
       "      <td>{'route_short_name': 'N55', 'mode': 'bus', 'ar...</td>\n",
       "      <td>None</td>\n",
       "      <td>[(remove, , [('route_short_name', 'N55'), ('mo...</td>\n",
       "    </tr>\n",
       "    <tr>\n",
       "      <th>11</th>\n",
       "      <td>2023-09-22 16:39:21</td>\n",
       "      <td>remove</td>\n",
       "      <td>route</td>\n",
       "      <td>another_new_route_2</td>\n",
       "      <td>None</td>\n",
       "      <td>{'route_short_name': 'N55', 'mode': 'bus', 'ar...</td>\n",
       "      <td>None</td>\n",
       "      <td>[(remove, , [('route_short_name', 'N55'), ('mo...</td>\n",
       "    </tr>\n",
       "  </tbody>\n",
       "</table>\n",
       "</div>"
      ],
      "text/plain": [
       "              timestamp change_event object_type               old_id  \\\n",
       "7   2023-09-22 16:39:20       modify       route            new_route   \n",
       "8   2023-09-22 16:39:20       remove     service  more_appropriate_id   \n",
       "9   2023-09-22 16:39:20       remove       route  another_new_route_3   \n",
       "10  2023-09-22 16:39:21       remove       route    another_new_route   \n",
       "11  2023-09-22 16:39:21       remove       route  another_new_route_2   \n",
       "\n",
       "                       new_id  \\\n",
       "7   more_appropriate_route_id   \n",
       "8                        None   \n",
       "9                        None   \n",
       "10                       None   \n",
       "11                       None   \n",
       "\n",
       "                                       old_attributes  \\\n",
       "7                                 {'id': 'new_route'}   \n",
       "8        {'id': 'more_appropriate_id', 'name': 'N55'}   \n",
       "9   {'route_short_name': 'N55', 'mode': 'bus', 'ar...   \n",
       "10  {'route_short_name': 'N55', 'mode': 'bus', 'ar...   \n",
       "11  {'route_short_name': 'N55', 'mode': 'bus', 'ar...   \n",
       "\n",
       "                         new_attributes  \\\n",
       "7   {'id': 'more_appropriate_route_id'}   \n",
       "8                                  None   \n",
       "9                                  None   \n",
       "10                                 None   \n",
       "11                                 None   \n",
       "\n",
       "                                                 diff  \n",
       "7   [(change, id, (new_route, more_appropriate_rou...  \n",
       "8   [(remove, , [('id', 'more_appropriate_id'), ('...  \n",
       "9   [(remove, , [('route_short_name', 'N55'), ('mo...  \n",
       "10  [(remove, , [('route_short_name', 'N55'), ('mo...  \n",
       "11  [(remove, , [('route_short_name', 'N55'), ('mo...  "
      ]
     },
     "execution_count": 31,
     "metadata": {},
     "output_type": "execute_result"
    }
   ],
   "source": [
    "n.schedule.change_log().tail()"
   ]
  },
  {
   "cell_type": "markdown",
   "metadata": {},
   "source": [
    "You can also remove `Stop`s. This will disconnect `Route`s and `Service`s using that `Stop`s and likely render them invalid. The method will warn you which `Route`s and `Servce`s are affected."
   ]
  },
  {
   "cell_type": "code",
   "execution_count": 32,
   "metadata": {
    "ExecuteTime": {
     "end_time": "2022-07-14T14:49:59.956906Z",
     "start_time": "2022-07-14T14:49:59.944175Z"
    },
    "execution": {
     "iopub.execute_input": "2023-09-22T15:39:21.441196Z",
     "iopub.status.busy": "2023-09-22T15:39:21.441008Z",
     "iopub.status.idle": "2023-09-22T15:39:21.444690Z",
     "shell.execute_reply": "2023-09-22T15:39:21.444343Z"
    }
   },
   "outputs": [
    {
     "name": "stderr",
     "output_type": "stream",
     "text": [
      "2023-09-22 16:39:21,443 - Removed Stops with indices `['new_stop']`.Routes affected: {'20274_4'}. Services affected: {'20274'}.\n"
     ]
    }
   ],
   "source": [
    "n.schedule.remove_stop(\"new_stop\")"
   ]
  },
  {
   "cell_type": "markdown",
   "metadata": {},
   "source": [
    "You can also remove `Stop`s. This will disconnect `Route`s and `Service`s using that `Stop`s and likely render them invalid. The method will warn you which `Route`s and `Servce`s are affected."
   ]
  },
  {
   "cell_type": "code",
   "execution_count": 33,
   "metadata": {
    "ExecuteTime": {
     "end_time": "2022-07-14T14:49:59.998807Z",
     "start_time": "2022-07-14T14:49:59.965468Z"
    },
    "execution": {
     "iopub.execute_input": "2023-09-22T15:39:21.446593Z",
     "iopub.status.busy": "2023-09-22T15:39:21.446429Z",
     "iopub.status.idle": "2023-09-22T15:39:21.450720Z",
     "shell.execute_reply": "2023-09-22T15:39:21.450408Z"
    }
   },
   "outputs": [
    {
     "name": "stderr",
     "output_type": "stream",
     "text": [
      "2023-09-22 16:39:21,449 - Removed Stops with indices `['9400ZZLURGP2', '490019675D', '9400ZZLUTCR1', '9400ZZLUOXC3', 'new_stop.link:3154', '9400ZZLUOXC5', '9400ZZLUGPS2', '490011126K', '490000356NE', '9400ZZLUOXC2', '490000235W1', '9400ZZLUWRR3', '490000091F', '9400ZZLUGDG1', '9400ZZLUTCR4', '9400ZZLUWRR2', '490000252R', '9400ZZLUTCR3', '9400ZZLUOXC6', '490015196R', '9400ZZLUOXC4', '490000252S', '9400ZZLUOXC1', 'other_new_stop.link:3154', '490013600C', '9400ZZLURGP1', '9400ZZLUESQ2', '490000091E', '490000235N', '9400ZZLUWRR4', '490010198W', '490015196N', '9400ZZLUWRR1', '9400ZZLUESQ1', '490000173RD', '490000235X.link:artificial_link===from:490000235X===to:490000235X', '490000173RF']`.Routes affected: set(). Services affected: set().\n"
     ]
    }
   ],
   "source": [
    "n.schedule.remove_unused_stops()"
   ]
  },
  {
   "cell_type": "markdown",
   "metadata": {},
   "source": [
    "## Modifying data stored for Stops, Routes, Services\n",
    "\n",
    "### Applying known or pre-computed changes\n",
    "Applying changes or new attributes to Services, Routes and Stops can be done via Schedule level methods. They all work with a dictionary where the keys are the object IDs and the values are dictionaries holding attribute names and values. The method to extract a DataFrame on attributes comes in handy here. E.g."
   ]
  },
  {
   "cell_type": "code",
   "execution_count": 34,
   "metadata": {
    "ExecuteTime": {
     "end_time": "2022-07-14T14:50:00.047679Z",
     "start_time": "2022-07-14T14:50:00.023286Z"
    },
    "execution": {
     "iopub.execute_input": "2023-09-22T15:39:21.452696Z",
     "iopub.status.busy": "2023-09-22T15:39:21.452404Z",
     "iopub.status.idle": "2023-09-22T15:39:21.457136Z",
     "shell.execute_reply": "2023-09-22T15:39:21.456743Z"
    }
   },
   "outputs": [
    {
     "data": {
      "text/html": [
       "<div>\n",
       "<style scoped>\n",
       "    .dataframe tbody tr th:only-of-type {\n",
       "        vertical-align: middle;\n",
       "    }\n",
       "\n",
       "    .dataframe tbody tr th {\n",
       "        vertical-align: top;\n",
       "    }\n",
       "\n",
       "    .dataframe thead th {\n",
       "        text-align: right;\n",
       "    }\n",
       "</style>\n",
       "<table border=\"1\" class=\"dataframe\">\n",
       "  <thead>\n",
       "    <tr style=\"text-align: right;\">\n",
       "      <th></th>\n",
       "      <th>name</th>\n",
       "    </tr>\n",
       "  </thead>\n",
       "  <tbody>\n",
       "    <tr>\n",
       "      <th>20274</th>\n",
       "      <td>N55</td>\n",
       "    </tr>\n",
       "    <tr>\n",
       "      <th>17732</th>\n",
       "      <td>N20</td>\n",
       "    </tr>\n",
       "    <tr>\n",
       "      <th>14134</th>\n",
       "      <td>98</td>\n",
       "    </tr>\n",
       "    <tr>\n",
       "      <th>12430</th>\n",
       "      <td>205</td>\n",
       "    </tr>\n",
       "    <tr>\n",
       "      <th>14073</th>\n",
       "      <td>94</td>\n",
       "    </tr>\n",
       "  </tbody>\n",
       "</table>\n",
       "</div>"
      ],
      "text/plain": [
       "      name\n",
       "20274  N55\n",
       "17732  N20\n",
       "14134   98\n",
       "12430  205\n",
       "14073   94"
      ]
     },
     "execution_count": 34,
     "metadata": {},
     "output_type": "execute_result"
    }
   ],
   "source": [
    "df = n.schedule.service_attribute_data(keys=\"name\")\n",
    "df.head()"
   ]
  },
  {
   "cell_type": "markdown",
   "metadata": {},
   "source": [
    "DataFrames are easy to work with. Youcould for exmaple manipulate the names or use other data to change these. For demonstration here, let's just set the names to something easy."
   ]
  },
  {
   "cell_type": "code",
   "execution_count": 35,
   "metadata": {
    "ExecuteTime": {
     "end_time": "2022-07-14T14:50:00.071422Z",
     "start_time": "2022-07-14T14:50:00.060060Z"
    },
    "execution": {
     "iopub.execute_input": "2023-09-22T15:39:21.459553Z",
     "iopub.status.busy": "2023-09-22T15:39:21.459389Z",
     "iopub.status.idle": "2023-09-22T15:39:21.464276Z",
     "shell.execute_reply": "2023-09-22T15:39:21.463925Z"
    }
   },
   "outputs": [
    {
     "data": {
      "text/html": [
       "<div>\n",
       "<style scoped>\n",
       "    .dataframe tbody tr th:only-of-type {\n",
       "        vertical-align: middle;\n",
       "    }\n",
       "\n",
       "    .dataframe tbody tr th {\n",
       "        vertical-align: top;\n",
       "    }\n",
       "\n",
       "    .dataframe thead th {\n",
       "        text-align: right;\n",
       "    }\n",
       "</style>\n",
       "<table border=\"1\" class=\"dataframe\">\n",
       "  <thead>\n",
       "    <tr style=\"text-align: right;\">\n",
       "      <th></th>\n",
       "      <th>name</th>\n",
       "    </tr>\n",
       "  </thead>\n",
       "  <tbody>\n",
       "    <tr>\n",
       "      <th>20274</th>\n",
       "      <td>Service_N55</td>\n",
       "    </tr>\n",
       "    <tr>\n",
       "      <th>17732</th>\n",
       "      <td>Service_N20</td>\n",
       "    </tr>\n",
       "    <tr>\n",
       "      <th>14134</th>\n",
       "      <td>Service_98</td>\n",
       "    </tr>\n",
       "    <tr>\n",
       "      <th>12430</th>\n",
       "      <td>Service_205</td>\n",
       "    </tr>\n",
       "    <tr>\n",
       "      <th>14073</th>\n",
       "      <td>Service_94</td>\n",
       "    </tr>\n",
       "  </tbody>\n",
       "</table>\n",
       "</div>"
      ],
      "text/plain": [
       "              name\n",
       "20274  Service_N55\n",
       "17732  Service_N20\n",
       "14134   Service_98\n",
       "12430  Service_205\n",
       "14073   Service_94"
      ]
     },
     "execution_count": 35,
     "metadata": {},
     "output_type": "execute_result"
    }
   ],
   "source": [
    "df[\"name\"] = df[\"name\"].apply(lambda x: f\"Service_{x}\")\n",
    "df.head()"
   ]
  },
  {
   "cell_type": "markdown",
   "metadata": {},
   "source": [
    "You can then convert this to a dictionary and pass it to the `apply_attributes_to_services` method."
   ]
  },
  {
   "cell_type": "code",
   "execution_count": 36,
   "metadata": {
    "ExecuteTime": {
     "end_time": "2022-07-14T14:50:00.090242Z",
     "start_time": "2022-07-14T14:50:00.075896Z"
    },
    "execution": {
     "iopub.execute_input": "2023-09-22T15:39:21.466314Z",
     "iopub.status.busy": "2023-09-22T15:39:21.466150Z",
     "iopub.status.idle": "2023-09-22T15:39:21.473925Z",
     "shell.execute_reply": "2023-09-22T15:39:21.473546Z"
    }
   },
   "outputs": [
    {
     "name": "stderr",
     "output_type": "stream",
     "text": [
      "2023-09-22 16:39:21,472 - Changed Service attributes for 9 services\n"
     ]
    }
   ],
   "source": [
    "n.schedule.apply_attributes_to_services(df.T.to_dict())"
   ]
  },
  {
   "cell_type": "code",
   "execution_count": 37,
   "metadata": {
    "ExecuteTime": {
     "end_time": "2022-07-14T14:50:00.117708Z",
     "start_time": "2022-07-14T14:50:00.097915Z"
    },
    "execution": {
     "iopub.execute_input": "2023-09-22T15:39:21.476102Z",
     "iopub.status.busy": "2023-09-22T15:39:21.475914Z",
     "iopub.status.idle": "2023-09-22T15:39:21.485080Z",
     "shell.execute_reply": "2023-09-22T15:39:21.484731Z"
    }
   },
   "outputs": [
    {
     "data": {
      "text/html": [
       "<div>\n",
       "<style scoped>\n",
       "    .dataframe tbody tr th:only-of-type {\n",
       "        vertical-align: middle;\n",
       "    }\n",
       "\n",
       "    .dataframe tbody tr th {\n",
       "        vertical-align: top;\n",
       "    }\n",
       "\n",
       "    .dataframe thead th {\n",
       "        text-align: right;\n",
       "    }\n",
       "</style>\n",
       "<table border=\"1\" class=\"dataframe\">\n",
       "  <thead>\n",
       "    <tr style=\"text-align: right;\">\n",
       "      <th></th>\n",
       "      <th>timestamp</th>\n",
       "      <th>change_event</th>\n",
       "      <th>object_type</th>\n",
       "      <th>old_id</th>\n",
       "      <th>new_id</th>\n",
       "      <th>old_attributes</th>\n",
       "      <th>new_attributes</th>\n",
       "      <th>diff</th>\n",
       "    </tr>\n",
       "  </thead>\n",
       "  <tbody>\n",
       "    <tr>\n",
       "      <th>54</th>\n",
       "      <td>2023-09-22 16:39:21</td>\n",
       "      <td>modify</td>\n",
       "      <td>service</td>\n",
       "      <td>14073</td>\n",
       "      <td>14073</td>\n",
       "      <td>{'id': '14073', 'name': '94'}</td>\n",
       "      <td>{'id': '14073', 'name': 'Service_94'}</td>\n",
       "      <td>[(change, name, (94, Service_94))]</td>\n",
       "    </tr>\n",
       "    <tr>\n",
       "      <th>55</th>\n",
       "      <td>2023-09-22 16:39:21</td>\n",
       "      <td>modify</td>\n",
       "      <td>service</td>\n",
       "      <td>18915</td>\n",
       "      <td>18915</td>\n",
       "      <td>{'id': '18915', 'name': 'N5'}</td>\n",
       "      <td>{'id': '18915', 'name': 'Service_N5'}</td>\n",
       "      <td>[(change, name, (N5, Service_N5))]</td>\n",
       "    </tr>\n",
       "    <tr>\n",
       "      <th>56</th>\n",
       "      <td>2023-09-22 16:39:21</td>\n",
       "      <td>modify</td>\n",
       "      <td>service</td>\n",
       "      <td>18853</td>\n",
       "      <td>18853</td>\n",
       "      <td>{'id': '18853', 'name': 'N8'}</td>\n",
       "      <td>{'id': '18853', 'name': 'Service_N8'}</td>\n",
       "      <td>[(change, name, (N8, Service_N8))]</td>\n",
       "    </tr>\n",
       "    <tr>\n",
       "      <th>57</th>\n",
       "      <td>2023-09-22 16:39:21</td>\n",
       "      <td>modify</td>\n",
       "      <td>service</td>\n",
       "      <td>15660</td>\n",
       "      <td>15660</td>\n",
       "      <td>{'id': '15660', 'name': '113'}</td>\n",
       "      <td>{'id': '15660', 'name': 'Service_113'}</td>\n",
       "      <td>[(change, name, (113, Service_113))]</td>\n",
       "    </tr>\n",
       "    <tr>\n",
       "      <th>58</th>\n",
       "      <td>2023-09-22 16:39:21</td>\n",
       "      <td>modify</td>\n",
       "      <td>service</td>\n",
       "      <td>15234</td>\n",
       "      <td>15234</td>\n",
       "      <td>{'id': '15234', 'name': '134'}</td>\n",
       "      <td>{'id': '15234', 'name': 'Service_134'}</td>\n",
       "      <td>[(change, name, (134, Service_134))]</td>\n",
       "    </tr>\n",
       "  </tbody>\n",
       "</table>\n",
       "</div>"
      ],
      "text/plain": [
       "              timestamp change_event object_type old_id new_id  \\\n",
       "54  2023-09-22 16:39:21       modify     service  14073  14073   \n",
       "55  2023-09-22 16:39:21       modify     service  18915  18915   \n",
       "56  2023-09-22 16:39:21       modify     service  18853  18853   \n",
       "57  2023-09-22 16:39:21       modify     service  15660  15660   \n",
       "58  2023-09-22 16:39:21       modify     service  15234  15234   \n",
       "\n",
       "                    old_attributes                          new_attributes  \\\n",
       "54   {'id': '14073', 'name': '94'}   {'id': '14073', 'name': 'Service_94'}   \n",
       "55   {'id': '18915', 'name': 'N5'}   {'id': '18915', 'name': 'Service_N5'}   \n",
       "56   {'id': '18853', 'name': 'N8'}   {'id': '18853', 'name': 'Service_N8'}   \n",
       "57  {'id': '15660', 'name': '113'}  {'id': '15660', 'name': 'Service_113'}   \n",
       "58  {'id': '15234', 'name': '134'}  {'id': '15234', 'name': 'Service_134'}   \n",
       "\n",
       "                                    diff  \n",
       "54    [(change, name, (94, Service_94))]  \n",
       "55    [(change, name, (N5, Service_N5))]  \n",
       "56    [(change, name, (N8, Service_N8))]  \n",
       "57  [(change, name, (113, Service_113))]  \n",
       "58  [(change, name, (134, Service_134))]  "
      ]
     },
     "execution_count": 37,
     "metadata": {},
     "output_type": "execute_result"
    }
   ],
   "source": [
    "n.schedule.change_log().tail()"
   ]
  },
  {
   "cell_type": "markdown",
   "metadata": {},
   "source": [
    "You can do the same for `Routes` and `Stops`. Your dictionaries cannot however hold changes to indices. You will encounter an error and should use `reindex` methods for such operations."
   ]
  },
  {
   "cell_type": "code",
   "execution_count": 38,
   "metadata": {
    "ExecuteTime": {
     "end_time": "2022-07-14T14:50:00.137648Z",
     "start_time": "2022-07-14T14:50:00.122854Z"
    },
    "execution": {
     "iopub.execute_input": "2023-09-22T15:39:21.487006Z",
     "iopub.status.busy": "2023-09-22T15:39:21.486844Z",
     "iopub.status.idle": "2023-09-22T15:39:21.490702Z",
     "shell.execute_reply": "2023-09-22T15:39:21.490276Z"
    }
   },
   "outputs": [
    {
     "name": "stderr",
     "output_type": "stream",
     "text": [
      "2023-09-22 16:39:21,489 - Changed Route attributes for 1 routes\n"
     ]
    }
   ],
   "source": [
    "n.schedule.apply_attributes_to_routes(\n",
    "    {\n",
    "        \"VJ375a660d47a2aa570aa20a8568012da8497ffecf\": {\n",
    "            \"name\": \"my_favourite_route\",\n",
    "            \"mode\": \"piggyback\",\n",
    "        }\n",
    "    }\n",
    ")"
   ]
  },
  {
   "cell_type": "code",
   "execution_count": 39,
   "metadata": {
    "ExecuteTime": {
     "end_time": "2022-07-14T14:50:00.153725Z",
     "start_time": "2022-07-14T14:50:00.142330Z"
    },
    "execution": {
     "iopub.execute_input": "2023-09-22T15:39:21.492626Z",
     "iopub.status.busy": "2023-09-22T15:39:21.492464Z",
     "iopub.status.idle": "2023-09-22T15:39:21.496175Z",
     "shell.execute_reply": "2023-09-22T15:39:21.495811Z"
    }
   },
   "outputs": [
    {
     "name": "stderr",
     "output_type": "stream",
     "text": [
      "2023-09-22 16:39:21,494 - Changed Stop attributes for 1 stops\n"
     ]
    }
   ],
   "source": [
    "n.schedule.apply_attributes_to_stops({\"490000235YB.link:574\": {\"new_attribute\": \"hello!\"}})"
   ]
  },
  {
   "cell_type": "code",
   "execution_count": 40,
   "metadata": {
    "ExecuteTime": {
     "end_time": "2022-07-14T14:50:00.178653Z",
     "start_time": "2022-07-14T14:50:00.158201Z"
    },
    "execution": {
     "iopub.execute_input": "2023-09-22T15:39:21.498438Z",
     "iopub.status.busy": "2023-09-22T15:39:21.498252Z",
     "iopub.status.idle": "2023-09-22T15:39:21.507950Z",
     "shell.execute_reply": "2023-09-22T15:39:21.507591Z"
    }
   },
   "outputs": [
    {
     "data": {
      "text/html": [
       "<div>\n",
       "<style scoped>\n",
       "    .dataframe tbody tr th:only-of-type {\n",
       "        vertical-align: middle;\n",
       "    }\n",
       "\n",
       "    .dataframe tbody tr th {\n",
       "        vertical-align: top;\n",
       "    }\n",
       "\n",
       "    .dataframe thead th {\n",
       "        text-align: right;\n",
       "    }\n",
       "</style>\n",
       "<table border=\"1\" class=\"dataframe\">\n",
       "  <thead>\n",
       "    <tr style=\"text-align: right;\">\n",
       "      <th></th>\n",
       "      <th>timestamp</th>\n",
       "      <th>change_event</th>\n",
       "      <th>object_type</th>\n",
       "      <th>old_id</th>\n",
       "      <th>new_id</th>\n",
       "      <th>old_attributes</th>\n",
       "      <th>new_attributes</th>\n",
       "      <th>diff</th>\n",
       "    </tr>\n",
       "  </thead>\n",
       "  <tbody>\n",
       "    <tr>\n",
       "      <th>56</th>\n",
       "      <td>2023-09-22 16:39:21</td>\n",
       "      <td>modify</td>\n",
       "      <td>service</td>\n",
       "      <td>18853</td>\n",
       "      <td>18853</td>\n",
       "      <td>{'id': '18853', 'name': 'N8'}</td>\n",
       "      <td>{'id': '18853', 'name': 'Service_N8'}</td>\n",
       "      <td>[(change, name, (N8, Service_N8))]</td>\n",
       "    </tr>\n",
       "    <tr>\n",
       "      <th>57</th>\n",
       "      <td>2023-09-22 16:39:21</td>\n",
       "      <td>modify</td>\n",
       "      <td>service</td>\n",
       "      <td>15660</td>\n",
       "      <td>15660</td>\n",
       "      <td>{'id': '15660', 'name': '113'}</td>\n",
       "      <td>{'id': '15660', 'name': 'Service_113'}</td>\n",
       "      <td>[(change, name, (113, Service_113))]</td>\n",
       "    </tr>\n",
       "    <tr>\n",
       "      <th>58</th>\n",
       "      <td>2023-09-22 16:39:21</td>\n",
       "      <td>modify</td>\n",
       "      <td>service</td>\n",
       "      <td>15234</td>\n",
       "      <td>15234</td>\n",
       "      <td>{'id': '15234', 'name': '134'}</td>\n",
       "      <td>{'id': '15234', 'name': 'Service_134'}</td>\n",
       "      <td>[(change, name, (134, Service_134))]</td>\n",
       "    </tr>\n",
       "    <tr>\n",
       "      <th>59</th>\n",
       "      <td>2023-09-22 16:39:21</td>\n",
       "      <td>modify</td>\n",
       "      <td>route</td>\n",
       "      <td>VJ375a660d47a2aa570aa20a8568012da8497ffecf</td>\n",
       "      <td>VJ375a660d47a2aa570aa20a8568012da8497ffecf</td>\n",
       "      <td>{'route_short_name': 'N55', 'mode': 'bus', 'ar...</td>\n",
       "      <td>{'route_short_name': 'N55', 'mode': 'piggyback...</td>\n",
       "      <td>[(change, mode, (bus, piggyback)), (add, , [('...</td>\n",
       "    </tr>\n",
       "    <tr>\n",
       "      <th>60</th>\n",
       "      <td>2023-09-22 16:39:21</td>\n",
       "      <td>modify</td>\n",
       "      <td>stop</td>\n",
       "      <td>490000235YB.link:574</td>\n",
       "      <td>490000235YB.link:574</td>\n",
       "      <td>{'services': {'14134', '20274', '18853'}, 'rou...</td>\n",
       "      <td>{'services': {'14134', '20274', '18853'}, 'rou...</td>\n",
       "      <td>[(add, , [('new_attribute', 'hello!')])]</td>\n",
       "    </tr>\n",
       "  </tbody>\n",
       "</table>\n",
       "</div>"
      ],
      "text/plain": [
       "              timestamp change_event object_type  \\\n",
       "56  2023-09-22 16:39:21       modify     service   \n",
       "57  2023-09-22 16:39:21       modify     service   \n",
       "58  2023-09-22 16:39:21       modify     service   \n",
       "59  2023-09-22 16:39:21       modify       route   \n",
       "60  2023-09-22 16:39:21       modify        stop   \n",
       "\n",
       "                                        old_id  \\\n",
       "56                                       18853   \n",
       "57                                       15660   \n",
       "58                                       15234   \n",
       "59  VJ375a660d47a2aa570aa20a8568012da8497ffecf   \n",
       "60                        490000235YB.link:574   \n",
       "\n",
       "                                        new_id  \\\n",
       "56                                       18853   \n",
       "57                                       15660   \n",
       "58                                       15234   \n",
       "59  VJ375a660d47a2aa570aa20a8568012da8497ffecf   \n",
       "60                        490000235YB.link:574   \n",
       "\n",
       "                                       old_attributes  \\\n",
       "56                      {'id': '18853', 'name': 'N8'}   \n",
       "57                     {'id': '15660', 'name': '113'}   \n",
       "58                     {'id': '15234', 'name': '134'}   \n",
       "59  {'route_short_name': 'N55', 'mode': 'bus', 'ar...   \n",
       "60  {'services': {'14134', '20274', '18853'}, 'rou...   \n",
       "\n",
       "                                       new_attributes  \\\n",
       "56              {'id': '18853', 'name': 'Service_N8'}   \n",
       "57             {'id': '15660', 'name': 'Service_113'}   \n",
       "58             {'id': '15234', 'name': 'Service_134'}   \n",
       "59  {'route_short_name': 'N55', 'mode': 'piggyback...   \n",
       "60  {'services': {'14134', '20274', '18853'}, 'rou...   \n",
       "\n",
       "                                                 diff  \n",
       "56                 [(change, name, (N8, Service_N8))]  \n",
       "57               [(change, name, (113, Service_113))]  \n",
       "58               [(change, name, (134, Service_134))]  \n",
       "59  [(change, mode, (bus, piggyback)), (add, , [('...  \n",
       "60           [(add, , [('new_attribute', 'hello!')])]  "
      ]
     },
     "execution_count": 40,
     "metadata": {},
     "output_type": "execute_result"
    }
   ],
   "source": [
    "n.schedule.change_log().tail()"
   ]
  },
  {
   "cell_type": "markdown",
   "metadata": {},
   "source": [
    "#### Trip and vehicle changes\n",
    "\n",
    "You can use `trips_to_dataframe` to extract all of the trips, their departures and vehicle IDs associated with the trips in the schedule. Trip ids need not be unique, route IDs provide a secondary index. Associated service IDs are also given for convenience."
   ]
  },
  {
   "cell_type": "code",
   "execution_count": 41,
   "metadata": {
    "ExecuteTime": {
     "end_time": "2022-07-14T14:50:00.233711Z",
     "start_time": "2022-07-14T14:50:00.183515Z"
    },
    "execution": {
     "iopub.execute_input": "2023-09-22T15:39:21.509931Z",
     "iopub.status.busy": "2023-09-22T15:39:21.509766Z",
     "iopub.status.idle": "2023-09-22T15:39:21.530371Z",
     "shell.execute_reply": "2023-09-22T15:39:21.529989Z"
    }
   },
   "outputs": [],
   "source": [
    "trips = n.schedule.trips_to_dataframe(gtfs_day=\"20210101\")"
   ]
  },
  {
   "cell_type": "code",
   "execution_count": 42,
   "metadata": {
    "ExecuteTime": {
     "end_time": "2022-07-14T14:50:00.269102Z",
     "start_time": "2022-07-14T14:50:00.253021Z"
    },
    "execution": {
     "iopub.execute_input": "2023-09-22T15:39:21.532655Z",
     "iopub.status.busy": "2023-09-22T15:39:21.532469Z",
     "iopub.status.idle": "2023-09-22T15:39:21.538757Z",
     "shell.execute_reply": "2023-09-22T15:39:21.538367Z"
    }
   },
   "outputs": [
    {
     "data": {
      "text/html": [
       "<div>\n",
       "<style scoped>\n",
       "    .dataframe tbody tr th:only-of-type {\n",
       "        vertical-align: middle;\n",
       "    }\n",
       "\n",
       "    .dataframe tbody tr th {\n",
       "        vertical-align: top;\n",
       "    }\n",
       "\n",
       "    .dataframe thead th {\n",
       "        text-align: right;\n",
       "    }\n",
       "</style>\n",
       "<table border=\"1\" class=\"dataframe\">\n",
       "  <thead>\n",
       "    <tr style=\"text-align: right;\">\n",
       "      <th></th>\n",
       "      <th>mode</th>\n",
       "      <th>route_id</th>\n",
       "      <th>service_id</th>\n",
       "      <th>trip_id</th>\n",
       "      <th>trip_departure_time</th>\n",
       "      <th>vehicle_id</th>\n",
       "    </tr>\n",
       "  </thead>\n",
       "  <tbody>\n",
       "    <tr>\n",
       "      <th>0</th>\n",
       "      <td>bus</td>\n",
       "      <td>VJe18efadf172576fea7989ec1f233f26854c0f66a</td>\n",
       "      <td>14073</td>\n",
       "      <td>VJ27a53634d88f96faa97026d6bd7b62cf685b23f8_01:...</td>\n",
       "      <td>2021-01-01 01:05:00</td>\n",
       "      <td>veh_831_bus</td>\n",
       "    </tr>\n",
       "    <tr>\n",
       "      <th>1</th>\n",
       "      <td>bus</td>\n",
       "      <td>VJe18efadf172576fea7989ec1f233f26854c0f66a</td>\n",
       "      <td>14073</td>\n",
       "      <td>VJ306c9365d1f02e53ee0b59b1b058ba5efa32a580_02:...</td>\n",
       "      <td>2021-01-01 02:02:00</td>\n",
       "      <td>veh_832_bus</td>\n",
       "    </tr>\n",
       "    <tr>\n",
       "      <th>2</th>\n",
       "      <td>bus</td>\n",
       "      <td>VJe18efadf172576fea7989ec1f233f26854c0f66a</td>\n",
       "      <td>14073</td>\n",
       "      <td>VJ5b7330809d3c07a330b1ef6e2623f89c9fca8a22_01:...</td>\n",
       "      <td>2021-01-01 01:34:00</td>\n",
       "      <td>veh_833_bus</td>\n",
       "    </tr>\n",
       "    <tr>\n",
       "      <th>3</th>\n",
       "      <td>bus</td>\n",
       "      <td>VJe18efadf172576fea7989ec1f233f26854c0f66a</td>\n",
       "      <td>14073</td>\n",
       "      <td>VJ710332b1c05c07b488b27f8286583ad6baffc26d_03:...</td>\n",
       "      <td>2021-01-01 03:31:00</td>\n",
       "      <td>veh_834_bus</td>\n",
       "    </tr>\n",
       "    <tr>\n",
       "      <th>4</th>\n",
       "      <td>bus</td>\n",
       "      <td>VJe18efadf172576fea7989ec1f233f26854c0f66a</td>\n",
       "      <td>14073</td>\n",
       "      <td>VJ9657ec79fcf62a93ccbf38dfd3d50facc74e0781_04:...</td>\n",
       "      <td>2021-01-01 04:01:00</td>\n",
       "      <td>veh_835_bus</td>\n",
       "    </tr>\n",
       "  </tbody>\n",
       "</table>\n",
       "</div>"
      ],
      "text/plain": [
       "  mode                                    route_id service_id  \\\n",
       "0  bus  VJe18efadf172576fea7989ec1f233f26854c0f66a      14073   \n",
       "1  bus  VJe18efadf172576fea7989ec1f233f26854c0f66a      14073   \n",
       "2  bus  VJe18efadf172576fea7989ec1f233f26854c0f66a      14073   \n",
       "3  bus  VJe18efadf172576fea7989ec1f233f26854c0f66a      14073   \n",
       "4  bus  VJe18efadf172576fea7989ec1f233f26854c0f66a      14073   \n",
       "\n",
       "                                             trip_id trip_departure_time  \\\n",
       "0  VJ27a53634d88f96faa97026d6bd7b62cf685b23f8_01:... 2021-01-01 01:05:00   \n",
       "1  VJ306c9365d1f02e53ee0b59b1b058ba5efa32a580_02:... 2021-01-01 02:02:00   \n",
       "2  VJ5b7330809d3c07a330b1ef6e2623f89c9fca8a22_01:... 2021-01-01 01:34:00   \n",
       "3  VJ710332b1c05c07b488b27f8286583ad6baffc26d_03:... 2021-01-01 03:31:00   \n",
       "4  VJ9657ec79fcf62a93ccbf38dfd3d50facc74e0781_04:... 2021-01-01 04:01:00   \n",
       "\n",
       "    vehicle_id  \n",
       "0  veh_831_bus  \n",
       "1  veh_832_bus  \n",
       "2  veh_833_bus  \n",
       "3  veh_834_bus  \n",
       "4  veh_835_bus  "
      ]
     },
     "execution_count": 42,
     "metadata": {},
     "output_type": "execute_result"
    }
   ],
   "source": [
    "trips.head()"
   ]
  },
  {
   "cell_type": "markdown",
   "metadata": {},
   "source": [
    "Let's change all of the trip ids to something shorter"
   ]
  },
  {
   "cell_type": "code",
   "execution_count": 43,
   "metadata": {
    "ExecuteTime": {
     "end_time": "2022-07-14T14:50:00.321143Z",
     "start_time": "2022-07-14T14:50:00.277615Z"
    },
    "execution": {
     "iopub.execute_input": "2023-09-22T15:39:21.540848Z",
     "iopub.status.busy": "2023-09-22T15:39:21.540680Z",
     "iopub.status.idle": "2023-09-22T15:39:21.547486Z",
     "shell.execute_reply": "2023-09-22T15:39:21.547131Z"
    }
   },
   "outputs": [
    {
     "data": {
      "text/html": [
       "<div>\n",
       "<style scoped>\n",
       "    .dataframe tbody tr th:only-of-type {\n",
       "        vertical-align: middle;\n",
       "    }\n",
       "\n",
       "    .dataframe tbody tr th {\n",
       "        vertical-align: top;\n",
       "    }\n",
       "\n",
       "    .dataframe thead th {\n",
       "        text-align: right;\n",
       "    }\n",
       "</style>\n",
       "<table border=\"1\" class=\"dataframe\">\n",
       "  <thead>\n",
       "    <tr style=\"text-align: right;\">\n",
       "      <th></th>\n",
       "      <th>mode</th>\n",
       "      <th>route_id</th>\n",
       "      <th>service_id</th>\n",
       "      <th>trip_id</th>\n",
       "      <th>trip_departure_time</th>\n",
       "      <th>vehicle_id</th>\n",
       "    </tr>\n",
       "  </thead>\n",
       "  <tbody>\n",
       "    <tr>\n",
       "      <th>0</th>\n",
       "      <td>bus</td>\n",
       "      <td>VJe18efadf172576fea7989ec1f233f26854c0f66a</td>\n",
       "      <td>14073</td>\n",
       "      <td>trip_0</td>\n",
       "      <td>2021-01-01 01:05:00</td>\n",
       "      <td>veh_831_bus</td>\n",
       "    </tr>\n",
       "    <tr>\n",
       "      <th>1</th>\n",
       "      <td>bus</td>\n",
       "      <td>VJe18efadf172576fea7989ec1f233f26854c0f66a</td>\n",
       "      <td>14073</td>\n",
       "      <td>trip_1</td>\n",
       "      <td>2021-01-01 02:02:00</td>\n",
       "      <td>veh_832_bus</td>\n",
       "    </tr>\n",
       "    <tr>\n",
       "      <th>2</th>\n",
       "      <td>bus</td>\n",
       "      <td>VJe18efadf172576fea7989ec1f233f26854c0f66a</td>\n",
       "      <td>14073</td>\n",
       "      <td>trip_2</td>\n",
       "      <td>2021-01-01 01:34:00</td>\n",
       "      <td>veh_833_bus</td>\n",
       "    </tr>\n",
       "    <tr>\n",
       "      <th>3</th>\n",
       "      <td>bus</td>\n",
       "      <td>VJe18efadf172576fea7989ec1f233f26854c0f66a</td>\n",
       "      <td>14073</td>\n",
       "      <td>trip_3</td>\n",
       "      <td>2021-01-01 03:31:00</td>\n",
       "      <td>veh_834_bus</td>\n",
       "    </tr>\n",
       "    <tr>\n",
       "      <th>4</th>\n",
       "      <td>bus</td>\n",
       "      <td>VJe18efadf172576fea7989ec1f233f26854c0f66a</td>\n",
       "      <td>14073</td>\n",
       "      <td>trip_4</td>\n",
       "      <td>2021-01-01 04:01:00</td>\n",
       "      <td>veh_835_bus</td>\n",
       "    </tr>\n",
       "  </tbody>\n",
       "</table>\n",
       "</div>"
      ],
      "text/plain": [
       "  mode                                    route_id service_id trip_id  \\\n",
       "0  bus  VJe18efadf172576fea7989ec1f233f26854c0f66a      14073  trip_0   \n",
       "1  bus  VJe18efadf172576fea7989ec1f233f26854c0f66a      14073  trip_1   \n",
       "2  bus  VJe18efadf172576fea7989ec1f233f26854c0f66a      14073  trip_2   \n",
       "3  bus  VJe18efadf172576fea7989ec1f233f26854c0f66a      14073  trip_3   \n",
       "4  bus  VJe18efadf172576fea7989ec1f233f26854c0f66a      14073  trip_4   \n",
       "\n",
       "  trip_departure_time   vehicle_id  \n",
       "0 2021-01-01 01:05:00  veh_831_bus  \n",
       "1 2021-01-01 02:02:00  veh_832_bus  \n",
       "2 2021-01-01 01:34:00  veh_833_bus  \n",
       "3 2021-01-01 03:31:00  veh_834_bus  \n",
       "4 2021-01-01 04:01:00  veh_835_bus  "
      ]
     },
     "execution_count": 43,
     "metadata": {},
     "output_type": "execute_result"
    }
   ],
   "source": [
    "trips[\"trip_id\"] = \"trip_\" + trips.index.to_series().astype(str)\n",
    "trips.head()"
   ]
  },
  {
   "cell_type": "markdown",
   "metadata": {},
   "source": [
    "You can `set_trips_dataframe` which takes this dataframe and applies changes to all route trips based on the data in the dataframe. This means you can generate this DataFrame as shown below, manipulate trips (delete them, add new ones), change their departure times or change their vehicle ids to be shared for differnt trips, perhaps on some temporal logic and as long as the dataframe has the same schema, you can use it to set new trips in the schedule. This will appear in the changelog as a route level modify event.\n",
    "\n",
    "Nb removing all trips of the same route from the dataframe will have no effect when being applied. If there is data in the dataframe for a route, all of its trips will be replaced by the data in the dataframe, and if there is no data for a route in the frame, no changes will be applied to that route (i.e. the trips attribute for routes missing from the dataframe will not be set as empty)."
   ]
  },
  {
   "cell_type": "code",
   "execution_count": 44,
   "metadata": {
    "ExecuteTime": {
     "end_time": "2022-07-14T14:50:00.551854Z",
     "start_time": "2022-07-14T14:50:00.359702Z"
    },
    "execution": {
     "iopub.execute_input": "2023-09-22T15:39:21.549607Z",
     "iopub.status.busy": "2023-09-22T15:39:21.549431Z",
     "iopub.status.idle": "2023-09-22T15:39:21.606431Z",
     "shell.execute_reply": "2023-09-22T15:39:21.605932Z"
    }
   },
   "outputs": [
    {
     "name": "stderr",
     "output_type": "stream",
     "text": [
      "2023-09-22 16:39:21,600 - Changed Route attributes for 69 routes\n"
     ]
    },
    {
     "data": {
      "text/html": [
       "<div>\n",
       "<style scoped>\n",
       "    .dataframe tbody tr th:only-of-type {\n",
       "        vertical-align: middle;\n",
       "    }\n",
       "\n",
       "    .dataframe tbody tr th {\n",
       "        vertical-align: top;\n",
       "    }\n",
       "\n",
       "    .dataframe thead th {\n",
       "        text-align: right;\n",
       "    }\n",
       "</style>\n",
       "<table border=\"1\" class=\"dataframe\">\n",
       "  <thead>\n",
       "    <tr style=\"text-align: right;\">\n",
       "      <th></th>\n",
       "      <th>trips::trip_id</th>\n",
       "    </tr>\n",
       "  </thead>\n",
       "  <tbody>\n",
       "    <tr>\n",
       "      <th>VJe18efadf172576fea7989ec1f233f26854c0f66a</th>\n",
       "      <td>[trip_0, trip_1, trip_2, trip_3, trip_4, trip_...</td>\n",
       "    </tr>\n",
       "    <tr>\n",
       "      <th>VJef7f20c3a9bf1419f6401e1e9131fe2c634bcb9a</th>\n",
       "      <td>[trip_8, trip_9, trip_10, trip_11, trip_12, tr...</td>\n",
       "    </tr>\n",
       "    <tr>\n",
       "      <th>VJd4cbfb092a104ac6a3164a86e9765f68734fdfcf</th>\n",
       "      <td>[trip_23, trip_24, trip_25, trip_26, trip_27, ...</td>\n",
       "    </tr>\n",
       "    <tr>\n",
       "      <th>VJc8cdbd902dadeebeeb4dbd7332b564ee2e4b00ce</th>\n",
       "      <td>[trip_38, trip_39, trip_40, trip_41, trip_42, ...</td>\n",
       "    </tr>\n",
       "    <tr>\n",
       "      <th>VJ3d50b96792ae8495dbe5a5e372849a60c48b2279</th>\n",
       "      <td>[trip_50, trip_51, trip_52, trip_53, trip_54, ...</td>\n",
       "    </tr>\n",
       "  </tbody>\n",
       "</table>\n",
       "</div>"
      ],
      "text/plain": [
       "                                                                               trips::trip_id\n",
       "VJe18efadf172576fea7989ec1f233f26854c0f66a  [trip_0, trip_1, trip_2, trip_3, trip_4, trip_...\n",
       "VJef7f20c3a9bf1419f6401e1e9131fe2c634bcb9a  [trip_8, trip_9, trip_10, trip_11, trip_12, tr...\n",
       "VJd4cbfb092a104ac6a3164a86e9765f68734fdfcf  [trip_23, trip_24, trip_25, trip_26, trip_27, ...\n",
       "VJc8cdbd902dadeebeeb4dbd7332b564ee2e4b00ce  [trip_38, trip_39, trip_40, trip_41, trip_42, ...\n",
       "VJ3d50b96792ae8495dbe5a5e372849a60c48b2279  [trip_50, trip_51, trip_52, trip_53, trip_54, ..."
      ]
     },
     "execution_count": 44,
     "metadata": {},
     "output_type": "execute_result"
    }
   ],
   "source": [
    "n.schedule.set_trips_dataframe(trips)\n",
    "n.schedule.route_attribute_data(keys=[{\"trips\": \"trip_id\"}]).head()"
   ]
  },
  {
   "cell_type": "markdown",
   "metadata": {},
   "source": [
    "#### Generating new trips using headway information\n",
    "\n",
    "You can replace old trips using headway information. This is useful when creating scenario networks. You can do it to a Route or Service (by specifying the route ID to be changed within) objects."
   ]
  },
  {
   "cell_type": "code",
   "execution_count": 45,
   "metadata": {
    "ExecuteTime": {
     "end_time": "2022-07-14T14:50:00.565931Z",
     "start_time": "2022-07-14T14:50:00.557725Z"
    },
    "execution": {
     "iopub.execute_input": "2023-09-22T15:39:21.608841Z",
     "iopub.status.busy": "2023-09-22T15:39:21.608623Z",
     "iopub.status.idle": "2023-09-22T15:39:21.612680Z",
     "shell.execute_reply": "2023-09-22T15:39:21.612301Z"
    }
   },
   "outputs": [
    {
     "data": {
      "text/plain": [
       "{'trip_id': ['trip_162', 'trip_163'],\n",
       " 'trip_departure_time': ['07:51:00', '22:50:00'],\n",
       " 'vehicle_id': ['veh_887_bus', 'veh_888_bus']}"
      ]
     },
     "execution_count": 45,
     "metadata": {},
     "output_type": "execute_result"
    }
   ],
   "source": [
    "route_id = \"VJ6cf76a4c03cca468cb6954db7f7aad5ae189df13\"\n",
    "\n",
    "n.schedule.route(route_id).trips"
   ]
  },
  {
   "cell_type": "code",
   "execution_count": 46,
   "metadata": {
    "ExecuteTime": {
     "end_time": "2022-07-14T14:50:00.586878Z",
     "start_time": "2022-07-14T14:50:00.568948Z"
    },
    "execution": {
     "iopub.execute_input": "2023-09-22T15:39:21.614855Z",
     "iopub.status.busy": "2023-09-22T15:39:21.614641Z",
     "iopub.status.idle": "2023-09-22T15:39:21.621248Z",
     "shell.execute_reply": "2023-09-22T15:39:21.620841Z"
    }
   },
   "outputs": [
    {
     "name": "stderr",
     "output_type": "stream",
     "text": [
      "2023-09-22 16:39:21,619 - Changed Route attributes for 1 routes\n"
     ]
    }
   ],
   "source": [
    "n.schedule.generate_trips_from_headway(\n",
    "    route_id=route_id, headway_spec={(\"07:51:00\", \"22:50:00\"): 120}\n",
    ")  # headway in minutes"
   ]
  },
  {
   "cell_type": "code",
   "execution_count": 47,
   "metadata": {
    "ExecuteTime": {
     "end_time": "2022-07-14T14:50:00.605014Z",
     "start_time": "2022-07-14T14:50:00.595410Z"
    },
    "execution": {
     "iopub.execute_input": "2023-09-22T15:39:21.623298Z",
     "iopub.status.busy": "2023-09-22T15:39:21.623129Z",
     "iopub.status.idle": "2023-09-22T15:39:21.627140Z",
     "shell.execute_reply": "2023-09-22T15:39:21.626772Z"
    }
   },
   "outputs": [
    {
     "data": {
      "text/plain": [
       "{'trip_id': ['VJ6cf76a4c03cca468cb6954db7f7aad5ae189df13_07:51:00',\n",
       "  'VJ6cf76a4c03cca468cb6954db7f7aad5ae189df13_09:51:00',\n",
       "  'VJ6cf76a4c03cca468cb6954db7f7aad5ae189df13_11:51:00',\n",
       "  'VJ6cf76a4c03cca468cb6954db7f7aad5ae189df13_13:51:00',\n",
       "  'VJ6cf76a4c03cca468cb6954db7f7aad5ae189df13_15:51:00',\n",
       "  'VJ6cf76a4c03cca468cb6954db7f7aad5ae189df13_17:51:00',\n",
       "  'VJ6cf76a4c03cca468cb6954db7f7aad5ae189df13_19:51:00',\n",
       "  'VJ6cf76a4c03cca468cb6954db7f7aad5ae189df13_21:51:00'],\n",
       " 'trip_departure_time': ['07:51:00',\n",
       "  '09:51:00',\n",
       "  '11:51:00',\n",
       "  '13:51:00',\n",
       "  '15:51:00',\n",
       "  '17:51:00',\n",
       "  '19:51:00',\n",
       "  '21:51:00'],\n",
       " 'vehicle_id': ['veh_Bus_VJ6cf76a4c03cca468cb6954db7f7aad5ae189df13_07:51:00',\n",
       "  'veh_Bus_VJ6cf76a4c03cca468cb6954db7f7aad5ae189df13_09:51:00',\n",
       "  'veh_Bus_VJ6cf76a4c03cca468cb6954db7f7aad5ae189df13_11:51:00',\n",
       "  'veh_Bus_VJ6cf76a4c03cca468cb6954db7f7aad5ae189df13_13:51:00',\n",
       "  'veh_Bus_VJ6cf76a4c03cca468cb6954db7f7aad5ae189df13_15:51:00',\n",
       "  'veh_Bus_VJ6cf76a4c03cca468cb6954db7f7aad5ae189df13_17:51:00',\n",
       "  'veh_Bus_VJ6cf76a4c03cca468cb6954db7f7aad5ae189df13_19:51:00',\n",
       "  'veh_Bus_VJ6cf76a4c03cca468cb6954db7f7aad5ae189df13_21:51:00']}"
      ]
     },
     "execution_count": 47,
     "metadata": {},
     "output_type": "execute_result"
    }
   ],
   "source": [
    "n.schedule.route(route_id).trips"
   ]
  },
  {
   "cell_type": "markdown",
   "metadata": {},
   "source": [
    "### Applying changes using functions or dictionary mappings\n",
    "\n",
    "If you have some logic that can be written into a function of object's attributes, you can pass this to `apply_function_to_x` methods. You need to select `location`, which refers to the name of the attribute the result should be stored under. It can already exist and be overwritten. The function passed, is not expected to work with all objects. It will fail silently, only evaluating and generating outputs where possible."
   ]
  },
  {
   "cell_type": "code",
   "execution_count": 48,
   "metadata": {
    "ExecuteTime": {
     "end_time": "2022-07-14T14:50:00.629813Z",
     "start_time": "2022-07-14T14:50:00.607929Z"
    },
    "execution": {
     "iopub.execute_input": "2023-09-22T15:39:21.629119Z",
     "iopub.status.busy": "2023-09-22T15:39:21.628980Z",
     "iopub.status.idle": "2023-09-22T15:39:21.641638Z",
     "shell.execute_reply": "2023-09-22T15:39:21.641137Z"
    }
   },
   "outputs": [
    {
     "name": "stderr",
     "output_type": "stream",
     "text": [
      "2023-09-22 16:39:21,639 - Changed Stop attributes for 85 stops\n"
     ]
    }
   ],
   "source": [
    "from shapely.geometry import Point\n",
    "\n",
    "\n",
    "def add_shapely_geometry_points(stop_attribs):\n",
    "    return Point(stop_attribs[\"x\"], stop_attribs[\"y\"])\n",
    "\n",
    "\n",
    "n.schedule.apply_function_to_stops(add_shapely_geometry_points, location=\"geometry\")"
   ]
  },
  {
   "cell_type": "code",
   "execution_count": 49,
   "metadata": {
    "ExecuteTime": {
     "end_time": "2022-07-14T14:50:00.648911Z",
     "start_time": "2022-07-14T14:50:00.634579Z"
    },
    "execution": {
     "iopub.execute_input": "2023-09-22T15:39:21.643999Z",
     "iopub.status.busy": "2023-09-22T15:39:21.643787Z",
     "iopub.status.idle": "2023-09-22T15:39:21.651222Z",
     "shell.execute_reply": "2023-09-22T15:39:21.650808Z"
    }
   },
   "outputs": [
    {
     "data": {
      "text/html": [
       "<div>\n",
       "<style scoped>\n",
       "    .dataframe tbody tr th:only-of-type {\n",
       "        vertical-align: middle;\n",
       "    }\n",
       "\n",
       "    .dataframe tbody tr th {\n",
       "        vertical-align: top;\n",
       "    }\n",
       "\n",
       "    .dataframe thead th {\n",
       "        text-align: right;\n",
       "    }\n",
       "</style>\n",
       "<table border=\"1\" class=\"dataframe\">\n",
       "  <thead>\n",
       "    <tr style=\"text-align: right;\">\n",
       "      <th></th>\n",
       "      <th>timestamp</th>\n",
       "      <th>change_event</th>\n",
       "      <th>object_type</th>\n",
       "      <th>old_id</th>\n",
       "      <th>new_id</th>\n",
       "      <th>old_attributes</th>\n",
       "      <th>new_attributes</th>\n",
       "      <th>diff</th>\n",
       "    </tr>\n",
       "  </thead>\n",
       "  <tbody>\n",
       "    <tr>\n",
       "      <th>214</th>\n",
       "      <td>2023-09-22 16:39:21</td>\n",
       "      <td>modify</td>\n",
       "      <td>stop</td>\n",
       "      <td>490015196OF</td>\n",
       "      <td>490015196OF</td>\n",
       "      <td>{'id': '490015196OF', 'x': 528832.7597702648, ...</td>\n",
       "      <td>{'id': '490015196OF', 'x': 528832.7597702648, ...</td>\n",
       "      <td>[(add, , [('geometry', &lt;POINT (528832.76 18119...</td>\n",
       "    </tr>\n",
       "    <tr>\n",
       "      <th>215</th>\n",
       "      <td>2023-09-22 16:39:21</td>\n",
       "      <td>modify</td>\n",
       "      <td>stop</td>\n",
       "      <td>other_new_stop</td>\n",
       "      <td>other_new_stop</td>\n",
       "      <td>{'services': {'20274'}, 'routes': {'20274_4'},...</td>\n",
       "      <td>{'services': {'20274'}, 'routes': {'20274_4'},...</td>\n",
       "      <td>[(add, , [('geometry', &lt;POINT (529502 181302)&gt;...</td>\n",
       "    </tr>\n",
       "  </tbody>\n",
       "</table>\n",
       "</div>"
      ],
      "text/plain": [
       "               timestamp change_event object_type          old_id  \\\n",
       "214  2023-09-22 16:39:21       modify        stop     490015196OF   \n",
       "215  2023-09-22 16:39:21       modify        stop  other_new_stop   \n",
       "\n",
       "             new_id                                     old_attributes  \\\n",
       "214     490015196OF  {'id': '490015196OF', 'x': 528832.7597702648, ...   \n",
       "215  other_new_stop  {'services': {'20274'}, 'routes': {'20274_4'},...   \n",
       "\n",
       "                                        new_attributes  \\\n",
       "214  {'id': '490015196OF', 'x': 528832.7597702648, ...   \n",
       "215  {'services': {'20274'}, 'routes': {'20274_4'},...   \n",
       "\n",
       "                                                  diff  \n",
       "214  [(add, , [('geometry', <POINT (528832.76 18119...  \n",
       "215  [(add, , [('geometry', <POINT (529502 181302)>...  "
      ]
     },
     "execution_count": 49,
     "metadata": {},
     "output_type": "execute_result"
    }
   ],
   "source": [
    "n.schedule.change_log().tail(2)"
   ]
  },
  {
   "cell_type": "code",
   "execution_count": 50,
   "metadata": {
    "ExecuteTime": {
     "end_time": "2022-07-14T14:50:00.676299Z",
     "start_time": "2022-07-14T14:50:00.658751Z"
    },
    "execution": {
     "iopub.execute_input": "2023-09-22T15:39:21.653462Z",
     "iopub.status.busy": "2023-09-22T15:39:21.653266Z",
     "iopub.status.idle": "2023-09-22T15:39:21.661382Z",
     "shell.execute_reply": "2023-09-22T15:39:21.660981Z"
    }
   },
   "outputs": [
    {
     "data": {
      "text/html": [
       "<div>\n",
       "<style scoped>\n",
       "    .dataframe tbody tr th:only-of-type {\n",
       "        vertical-align: middle;\n",
       "    }\n",
       "\n",
       "    .dataframe tbody tr th {\n",
       "        vertical-align: top;\n",
       "    }\n",
       "\n",
       "    .dataframe thead th {\n",
       "        text-align: right;\n",
       "    }\n",
       "</style>\n",
       "<table border=\"1\" class=\"dataframe\">\n",
       "  <thead>\n",
       "    <tr style=\"text-align: right;\">\n",
       "      <th></th>\n",
       "      <th>name</th>\n",
       "      <th>x</th>\n",
       "      <th>y</th>\n",
       "      <th>geometry</th>\n",
       "    </tr>\n",
       "  </thead>\n",
       "  <tbody>\n",
       "    <tr>\n",
       "      <th>490000235X.link:834</th>\n",
       "      <td>Tottenham Court Road Station (Stop X)</td>\n",
       "      <td>529981.795880</td>\n",
       "      <td>181412.097576</td>\n",
       "      <td>POINT (529981.7958802709 181412.0975758662)</td>\n",
       "    </tr>\n",
       "    <tr>\n",
       "      <th>490000235YB.link:574</th>\n",
       "      <td>Oxford Street  Soho Street (Stop YB)</td>\n",
       "      <td>529570.781323</td>\n",
       "      <td>181336.281593</td>\n",
       "      <td>POINT (529570.7813227688 181336.2815925331)</td>\n",
       "    </tr>\n",
       "    <tr>\n",
       "      <th>490014214HE.link:3154</th>\n",
       "      <td>Wardour Street (Stop OM)</td>\n",
       "      <td>529477.750156</td>\n",
       "      <td>181314.437043</td>\n",
       "      <td>POINT (529477.7501560802 181314.43704307207)</td>\n",
       "    </tr>\n",
       "    <tr>\n",
       "      <th>490010689KB.link:981</th>\n",
       "      <td>Great Titchfield Street  Oxford Circus Station...</td>\n",
       "      <td>529166.734973</td>\n",
       "      <td>181256.336723</td>\n",
       "      <td>POINT (529166.7349732723 181256.33672284335)</td>\n",
       "    </tr>\n",
       "    <tr>\n",
       "      <th>490010689OJ.link:1787</th>\n",
       "      <td>Great Titchfield Street  Oxford Circus Station...</td>\n",
       "      <td>529227.773057</td>\n",
       "      <td>181280.477507</td>\n",
       "      <td>POINT (529227.7730568129 181280.47750718985)</td>\n",
       "    </tr>\n",
       "  </tbody>\n",
       "</table>\n",
       "</div>"
      ],
      "text/plain": [
       "                                                                    name  \\\n",
       "490000235X.link:834                Tottenham Court Road Station (Stop X)   \n",
       "490000235YB.link:574                Oxford Street  Soho Street (Stop YB)   \n",
       "490014214HE.link:3154                           Wardour Street (Stop OM)   \n",
       "490010689KB.link:981   Great Titchfield Street  Oxford Circus Station...   \n",
       "490010689OJ.link:1787  Great Titchfield Street  Oxford Circus Station...   \n",
       "\n",
       "                                   x              y  \\\n",
       "490000235X.link:834    529981.795880  181412.097576   \n",
       "490000235YB.link:574   529570.781323  181336.281593   \n",
       "490014214HE.link:3154  529477.750156  181314.437043   \n",
       "490010689KB.link:981   529166.734973  181256.336723   \n",
       "490010689OJ.link:1787  529227.773057  181280.477507   \n",
       "\n",
       "                                                           geometry  \n",
       "490000235X.link:834     POINT (529981.7958802709 181412.0975758662)  \n",
       "490000235YB.link:574    POINT (529570.7813227688 181336.2815925331)  \n",
       "490014214HE.link:3154  POINT (529477.7501560802 181314.43704307207)  \n",
       "490010689KB.link:981   POINT (529166.7349732723 181256.33672284335)  \n",
       "490010689OJ.link:1787  POINT (529227.7730568129 181280.47750718985)  "
      ]
     },
     "execution_count": 50,
     "metadata": {},
     "output_type": "execute_result"
    }
   ],
   "source": [
    "n.schedule.stop_attribute_data(keys=[\"name\", \"x\", \"y\", \"geometry\"]).head()"
   ]
  },
  {
   "cell_type": "code",
   "execution_count": 51,
   "metadata": {
    "ExecuteTime": {
     "end_time": "2022-07-14T14:50:00.875036Z",
     "start_time": "2022-07-14T14:50:00.683426Z"
    },
    "execution": {
     "iopub.execute_input": "2023-09-22T15:39:21.663443Z",
     "iopub.status.busy": "2023-09-22T15:39:21.663271Z",
     "iopub.status.idle": "2023-09-22T15:39:21.795537Z",
     "shell.execute_reply": "2023-09-22T15:39:21.795089Z"
    }
   },
   "outputs": [
    {
     "data": {
      "text/plain": [
       "<Axes: >"
      ]
     },
     "execution_count": 51,
     "metadata": {},
     "output_type": "execute_result"
    },
    {
     "data": {
      "image/png": "[encoded data removed]",
      "text/plain": [
       "<Figure size 640x480 with 1 Axes>"
      ]
     },
     "metadata": {},
     "output_type": "display_data"
    }
   ],
   "source": [
    "from geopandas import GeoDataFrame\n",
    "\n",
    "GeoDataFrame(n.schedule.stop_attribute_data(keys=\"geometry\")).plot()"
   ]
  },
  {
   "cell_type": "code",
   "execution_count": 52,
   "metadata": {
    "ExecuteTime": {
     "end_time": "2022-07-14T14:50:00.891205Z",
     "start_time": "2022-07-14T14:50:00.884999Z"
    },
    "execution": {
     "iopub.execute_input": "2023-09-22T15:39:21.797764Z",
     "iopub.status.busy": "2023-09-22T15:39:21.797585Z",
     "iopub.status.idle": "2023-09-22T15:39:21.801695Z",
     "shell.execute_reply": "2023-09-22T15:39:21.801254Z"
    }
   },
   "outputs": [
    {
     "data": {
      "text/plain": [
       "{'id': '490000235YB.link:574',\n",
       " 'x': 529570.7813227688,\n",
       " 'y': 181336.2815925331,\n",
       " 'epsg': 'epsg:27700',\n",
       " 'name': 'Oxford Street  Soho Street (Stop YB)',\n",
       " 'lat': 51.51609962502822,\n",
       " 'lon': -0.13401877849253999,\n",
       " 's2_id': 5221390696959957651,\n",
       " 'linkRefId': '574',\n",
       " 'isBlocking': 'false',\n",
       " 'new_attribute': 'hello!',\n",
       " 'geometry': <POINT (529570.781 181336.282)>}"
      ]
     },
     "execution_count": 52,
     "metadata": {},
     "output_type": "execute_result"
    }
   ],
   "source": [
    "n.schedule.stop(\"490000235YB.link:574\").__dict__"
   ]
  },
  {
   "cell_type": "markdown",
   "metadata": {},
   "source": [
    "For this let's say we want to reduce the number of trips. For simplicity of demonstration we don't have about which trips we delete, but logic around timings of trips can be added in this function, as the trips are saved as one of routes attributes (check out the summary methods)"
   ]
  },
  {
   "cell_type": "code",
   "execution_count": 53,
   "metadata": {
    "ExecuteTime": {
     "end_time": "2022-07-14T14:50:00.929074Z",
     "start_time": "2022-07-14T14:50:00.894254Z"
    },
    "execution": {
     "iopub.execute_input": "2023-09-22T15:39:21.803575Z",
     "iopub.status.busy": "2023-09-22T15:39:21.803419Z",
     "iopub.status.idle": "2023-09-22T15:39:21.826527Z",
     "shell.execute_reply": "2023-09-22T15:39:21.826074Z"
    }
   },
   "outputs": [
    {
     "name": "stderr",
     "output_type": "stream",
     "text": [
      "2023-09-22 16:39:21,804 - `route_trips_to_dataframe` method is deprecated and will be replaced by `trips_to_dataframe`in later versions.\n"
     ]
    },
    {
     "data": {
      "text/plain": [
       "1570"
      ]
     },
     "execution_count": 53,
     "metadata": {},
     "output_type": "execute_result"
    }
   ],
   "source": [
    "# before\n",
    "len(n.schedule.route_trips_to_dataframe())"
   ]
  },
  {
   "cell_type": "code",
   "execution_count": 54,
   "metadata": {
    "ExecuteTime": {
     "end_time": "2022-07-14T14:50:00.962183Z",
     "start_time": "2022-07-14T14:50:00.931896Z"
    },
    "execution": {
     "iopub.execute_input": "2023-09-22T15:39:21.828848Z",
     "iopub.status.busy": "2023-09-22T15:39:21.828664Z",
     "iopub.status.idle": "2023-09-22T15:39:21.853749Z",
     "shell.execute_reply": "2023-09-22T15:39:21.853379Z"
    }
   },
   "outputs": [
    {
     "name": "stderr",
     "output_type": "stream",
     "text": [
      "2023-09-22 16:39:21,851 - Changed Route attributes for 69 routes\n"
     ]
    }
   ],
   "source": [
    "def reduce_trips(attribs):\n",
    "    # just delete any other trip\n",
    "    attribs[\"trips\"][\"trip_id\"] = attribs[\"trips\"][\"trip_id\"][::2]\n",
    "    attribs[\"trips\"][\"trip_departure_time\"] = attribs[\"trips\"][\"trip_departure_time\"][::2]\n",
    "    attribs[\"trips\"][\"vehicle_id\"] = attribs[\"trips\"][\"vehicle_id\"][::2]\n",
    "    return attribs[\"trips\"]\n",
    "\n",
    "\n",
    "n.schedule.apply_function_to_routes(reduce_trips, \"trips\")"
   ]
  },
  {
   "cell_type": "code",
   "execution_count": 55,
   "metadata": {
    "ExecuteTime": {
     "end_time": "2022-07-14T14:50:00.990477Z",
     "start_time": "2022-07-14T14:50:00.964421Z"
    },
    "execution": {
     "iopub.execute_input": "2023-09-22T15:39:21.855953Z",
     "iopub.status.busy": "2023-09-22T15:39:21.855676Z",
     "iopub.status.idle": "2023-09-22T15:39:21.871377Z",
     "shell.execute_reply": "2023-09-22T15:39:21.870989Z"
    }
   },
   "outputs": [
    {
     "name": "stderr",
     "output_type": "stream",
     "text": [
      "2023-09-22 16:39:21,856 - `route_trips_to_dataframe` method is deprecated and will be replaced by `trips_to_dataframe`in later versions.\n"
     ]
    },
    {
     "data": {
      "text/plain": [
       "796"
      ]
     },
     "execution_count": 55,
     "metadata": {},
     "output_type": "execute_result"
    }
   ],
   "source": [
    "# after\n",
    "len(n.schedule.route_trips_to_dataframe())"
   ]
  },
  {
   "cell_type": "markdown",
   "metadata": {},
   "source": [
    "Note, this could also be done using the `route_trips_to_dataframe` and `set_route_trips_dataframe` mentioned above.\n",
    "\n",
    "Let's give an example of using a mapping. We can re-use the service name DataFrame we generated above."
   ]
  },
  {
   "cell_type": "code",
   "execution_count": 56,
   "metadata": {
    "ExecuteTime": {
     "end_time": "2022-07-14T14:50:01.002528Z",
     "start_time": "2022-07-14T14:50:00.993182Z"
    },
    "execution": {
     "iopub.execute_input": "2023-09-22T15:39:21.873698Z",
     "iopub.status.busy": "2023-09-22T15:39:21.873503Z",
     "iopub.status.idle": "2023-09-22T15:39:21.878807Z",
     "shell.execute_reply": "2023-09-22T15:39:21.878400Z"
    }
   },
   "outputs": [
    {
     "data": {
      "text/html": [
       "<div>\n",
       "<style scoped>\n",
       "    .dataframe tbody tr th:only-of-type {\n",
       "        vertical-align: middle;\n",
       "    }\n",
       "\n",
       "    .dataframe tbody tr th {\n",
       "        vertical-align: top;\n",
       "    }\n",
       "\n",
       "    .dataframe thead th {\n",
       "        text-align: right;\n",
       "    }\n",
       "</style>\n",
       "<table border=\"1\" class=\"dataframe\">\n",
       "  <thead>\n",
       "    <tr style=\"text-align: right;\">\n",
       "      <th></th>\n",
       "      <th>name</th>\n",
       "      <th>new_name</th>\n",
       "    </tr>\n",
       "  </thead>\n",
       "  <tbody>\n",
       "    <tr>\n",
       "      <th>20274</th>\n",
       "      <td>Service_N55</td>\n",
       "      <td>Brand_new_nameService_N55</td>\n",
       "    </tr>\n",
       "    <tr>\n",
       "      <th>17732</th>\n",
       "      <td>Service_N20</td>\n",
       "      <td>Brand_new_nameService_N20</td>\n",
       "    </tr>\n",
       "    <tr>\n",
       "      <th>14134</th>\n",
       "      <td>Service_98</td>\n",
       "      <td>Brand_new_nameService_98</td>\n",
       "    </tr>\n",
       "    <tr>\n",
       "      <th>12430</th>\n",
       "      <td>Service_205</td>\n",
       "      <td>Brand_new_nameService_205</td>\n",
       "    </tr>\n",
       "    <tr>\n",
       "      <th>14073</th>\n",
       "      <td>Service_94</td>\n",
       "      <td>Brand_new_nameService_94</td>\n",
       "    </tr>\n",
       "  </tbody>\n",
       "</table>\n",
       "</div>"
      ],
      "text/plain": [
       "              name                   new_name\n",
       "20274  Service_N55  Brand_new_nameService_N55\n",
       "17732  Service_N20  Brand_new_nameService_N20\n",
       "14134   Service_98   Brand_new_nameService_98\n",
       "12430  Service_205  Brand_new_nameService_205\n",
       "14073   Service_94   Brand_new_nameService_94"
      ]
     },
     "execution_count": 56,
     "metadata": {},
     "output_type": "execute_result"
    }
   ],
   "source": [
    "df[\"new_name\"] = \"Brand_new_name\" + df[\"name\"]\n",
    "df.head()"
   ]
  },
  {
   "cell_type": "code",
   "execution_count": 57,
   "metadata": {
    "ExecuteTime": {
     "end_time": "2022-07-14T14:50:01.011001Z",
     "start_time": "2022-07-14T14:50:01.004799Z"
    },
    "execution": {
     "iopub.execute_input": "2023-09-22T15:39:21.881059Z",
     "iopub.status.busy": "2023-09-22T15:39:21.880894Z",
     "iopub.status.idle": "2023-09-22T15:39:21.884547Z",
     "shell.execute_reply": "2023-09-22T15:39:21.884174Z"
    }
   },
   "outputs": [
    {
     "data": {
      "text/plain": [
       "{'Service_N55': 'Brand_new_nameService_N55',\n",
       " 'Service_N20': 'Brand_new_nameService_N20',\n",
       " 'Service_98': 'Brand_new_nameService_98',\n",
       " 'Service_205': 'Brand_new_nameService_205',\n",
       " 'Service_94': 'Brand_new_nameService_94',\n",
       " 'Service_N5': 'Brand_new_nameService_N5',\n",
       " 'Service_N8': 'Brand_new_nameService_N8',\n",
       " 'Service_113': 'Brand_new_nameService_113',\n",
       " 'Service_134': 'Brand_new_nameService_134'}"
      ]
     },
     "execution_count": 57,
     "metadata": {},
     "output_type": "execute_result"
    }
   ],
   "source": [
    "name_map = dict(zip(df[\"name\"], df[\"new_name\"]))\n",
    "name_map"
   ]
  },
  {
   "cell_type": "markdown",
   "metadata": {},
   "source": [
    "In this case, `location` refers to the attribute to be mapped."
   ]
  },
  {
   "cell_type": "code",
   "execution_count": 58,
   "metadata": {
    "ExecuteTime": {
     "end_time": "2022-07-14T14:50:01.021064Z",
     "start_time": "2022-07-14T14:50:01.013559Z"
    },
    "execution": {
     "iopub.execute_input": "2023-09-22T15:39:21.886585Z",
     "iopub.status.busy": "2023-09-22T15:39:21.886392Z",
     "iopub.status.idle": "2023-09-22T15:39:21.890480Z",
     "shell.execute_reply": "2023-09-22T15:39:21.890088Z"
    }
   },
   "outputs": [
    {
     "name": "stderr",
     "output_type": "stream",
     "text": [
      "2023-09-22 16:39:21,888 - Changed Service attributes for 9 services\n"
     ]
    }
   ],
   "source": [
    "n.schedule.apply_function_to_services(name_map, location=\"name\")"
   ]
  },
  {
   "cell_type": "code",
   "execution_count": 59,
   "metadata": {
    "ExecuteTime": {
     "end_time": "2022-07-14T14:50:01.037453Z",
     "start_time": "2022-07-14T14:50:01.023203Z"
    },
    "execution": {
     "iopub.execute_input": "2023-09-22T15:39:21.892513Z",
     "iopub.status.busy": "2023-09-22T15:39:21.892344Z",
     "iopub.status.idle": "2023-09-22T15:39:21.901630Z",
     "shell.execute_reply": "2023-09-22T15:39:21.901213Z"
    }
   },
   "outputs": [
    {
     "data": {
      "text/html": [
       "<div>\n",
       "<style scoped>\n",
       "    .dataframe tbody tr th:only-of-type {\n",
       "        vertical-align: middle;\n",
       "    }\n",
       "\n",
       "    .dataframe tbody tr th {\n",
       "        vertical-align: top;\n",
       "    }\n",
       "\n",
       "    .dataframe thead th {\n",
       "        text-align: right;\n",
       "    }\n",
       "</style>\n",
       "<table border=\"1\" class=\"dataframe\">\n",
       "  <thead>\n",
       "    <tr style=\"text-align: right;\">\n",
       "      <th></th>\n",
       "      <th>timestamp</th>\n",
       "      <th>change_event</th>\n",
       "      <th>object_type</th>\n",
       "      <th>old_id</th>\n",
       "      <th>new_id</th>\n",
       "      <th>old_attributes</th>\n",
       "      <th>new_attributes</th>\n",
       "      <th>diff</th>\n",
       "    </tr>\n",
       "  </thead>\n",
       "  <tbody>\n",
       "    <tr>\n",
       "      <th>289</th>\n",
       "      <td>2023-09-22 16:39:21</td>\n",
       "      <td>modify</td>\n",
       "      <td>service</td>\n",
       "      <td>14073</td>\n",
       "      <td>14073</td>\n",
       "      <td>{'id': '14073', 'name': 'Service_94'}</td>\n",
       "      <td>{'id': '14073', 'name': 'Brand_new_nameService...</td>\n",
       "      <td>[(change, name, (Service_94, Brand_new_nameSer...</td>\n",
       "    </tr>\n",
       "    <tr>\n",
       "      <th>290</th>\n",
       "      <td>2023-09-22 16:39:21</td>\n",
       "      <td>modify</td>\n",
       "      <td>service</td>\n",
       "      <td>18915</td>\n",
       "      <td>18915</td>\n",
       "      <td>{'id': '18915', 'name': 'Service_N5'}</td>\n",
       "      <td>{'id': '18915', 'name': 'Brand_new_nameService...</td>\n",
       "      <td>[(change, name, (Service_N5, Brand_new_nameSer...</td>\n",
       "    </tr>\n",
       "    <tr>\n",
       "      <th>291</th>\n",
       "      <td>2023-09-22 16:39:21</td>\n",
       "      <td>modify</td>\n",
       "      <td>service</td>\n",
       "      <td>18853</td>\n",
       "      <td>18853</td>\n",
       "      <td>{'id': '18853', 'name': 'Service_N8'}</td>\n",
       "      <td>{'id': '18853', 'name': 'Brand_new_nameService...</td>\n",
       "      <td>[(change, name, (Service_N8, Brand_new_nameSer...</td>\n",
       "    </tr>\n",
       "    <tr>\n",
       "      <th>292</th>\n",
       "      <td>2023-09-22 16:39:21</td>\n",
       "      <td>modify</td>\n",
       "      <td>service</td>\n",
       "      <td>15660</td>\n",
       "      <td>15660</td>\n",
       "      <td>{'id': '15660', 'name': 'Service_113'}</td>\n",
       "      <td>{'id': '15660', 'name': 'Brand_new_nameService...</td>\n",
       "      <td>[(change, name, (Service_113, Brand_new_nameSe...</td>\n",
       "    </tr>\n",
       "    <tr>\n",
       "      <th>293</th>\n",
       "      <td>2023-09-22 16:39:21</td>\n",
       "      <td>modify</td>\n",
       "      <td>service</td>\n",
       "      <td>15234</td>\n",
       "      <td>15234</td>\n",
       "      <td>{'id': '15234', 'name': 'Service_134'}</td>\n",
       "      <td>{'id': '15234', 'name': 'Brand_new_nameService...</td>\n",
       "      <td>[(change, name, (Service_134, Brand_new_nameSe...</td>\n",
       "    </tr>\n",
       "  </tbody>\n",
       "</table>\n",
       "</div>"
      ],
      "text/plain": [
       "               timestamp change_event object_type old_id new_id  \\\n",
       "289  2023-09-22 16:39:21       modify     service  14073  14073   \n",
       "290  2023-09-22 16:39:21       modify     service  18915  18915   \n",
       "291  2023-09-22 16:39:21       modify     service  18853  18853   \n",
       "292  2023-09-22 16:39:21       modify     service  15660  15660   \n",
       "293  2023-09-22 16:39:21       modify     service  15234  15234   \n",
       "\n",
       "                             old_attributes  \\\n",
       "289   {'id': '14073', 'name': 'Service_94'}   \n",
       "290   {'id': '18915', 'name': 'Service_N5'}   \n",
       "291   {'id': '18853', 'name': 'Service_N8'}   \n",
       "292  {'id': '15660', 'name': 'Service_113'}   \n",
       "293  {'id': '15234', 'name': 'Service_134'}   \n",
       "\n",
       "                                        new_attributes  \\\n",
       "289  {'id': '14073', 'name': 'Brand_new_nameService...   \n",
       "290  {'id': '18915', 'name': 'Brand_new_nameService...   \n",
       "291  {'id': '18853', 'name': 'Brand_new_nameService...   \n",
       "292  {'id': '15660', 'name': 'Brand_new_nameService...   \n",
       "293  {'id': '15234', 'name': 'Brand_new_nameService...   \n",
       "\n",
       "                                                  diff  \n",
       "289  [(change, name, (Service_94, Brand_new_nameSer...  \n",
       "290  [(change, name, (Service_N5, Brand_new_nameSer...  \n",
       "291  [(change, name, (Service_N8, Brand_new_nameSer...  \n",
       "292  [(change, name, (Service_113, Brand_new_nameSe...  \n",
       "293  [(change, name, (Service_134, Brand_new_nameSe...  "
      ]
     },
     "execution_count": 59,
     "metadata": {},
     "output_type": "execute_result"
    }
   ],
   "source": [
    "n.schedule.change_log().tail()"
   ]
  },
  {
   "cell_type": "code",
   "execution_count": 60,
   "metadata": {
    "ExecuteTime": {
     "end_time": "2022-07-14T14:50:01.055025Z",
     "start_time": "2022-07-14T14:50:01.046509Z"
    },
    "execution": {
     "iopub.execute_input": "2023-09-22T15:39:21.903894Z",
     "iopub.status.busy": "2023-09-22T15:39:21.903703Z",
     "iopub.status.idle": "2023-09-22T15:39:21.908323Z",
     "shell.execute_reply": "2023-09-22T15:39:21.907950Z"
    }
   },
   "outputs": [
    {
     "data": {
      "text/plain": [
       "{'Brand_new_nameService_113',\n",
       " 'Brand_new_nameService_134',\n",
       " 'Brand_new_nameService_205',\n",
       " 'Brand_new_nameService_94',\n",
       " 'Brand_new_nameService_98',\n",
       " 'Brand_new_nameService_N20',\n",
       " 'Brand_new_nameService_N5',\n",
       " 'Brand_new_nameService_N55',\n",
       " 'Brand_new_nameService_N8'}"
      ]
     },
     "execution_count": 60,
     "metadata": {},
     "output_type": "execute_result"
    }
   ],
   "source": [
    "{s.name for s in n.schedule.services()}"
   ]
  },
  {
   "cell_type": "markdown",
   "metadata": {},
   "source": [
    "## Subsetting\n",
    "\n",
    "You can subset the Schedule object using Service IDs."
   ]
  },
  {
   "cell_type": "code",
   "execution_count": 61,
   "metadata": {
    "ExecuteTime": {
     "end_time": "2022-07-14T14:50:01.066022Z",
     "start_time": "2022-07-14T14:50:01.057285Z"
    },
    "execution": {
     "iopub.execute_input": "2023-09-22T15:39:21.910356Z",
     "iopub.status.busy": "2023-09-22T15:39:21.910180Z",
     "iopub.status.idle": "2023-09-22T15:39:21.913751Z",
     "shell.execute_reply": "2023-09-22T15:39:21.913372Z"
    }
   },
   "outputs": [
    {
     "data": {
      "text/plain": [
       "2"
      ]
     },
     "execution_count": 61,
     "metadata": {},
     "output_type": "execute_result"
    }
   ],
   "source": [
    "services = n.schedule.extract_service_ids_on_attributes(\n",
    "    {\"name\": [\"Brand_new_nameService_134\", \"Brand_new_nameService_98\"]}\n",
    ")\n",
    "len(services)"
   ]
  },
  {
   "cell_type": "code",
   "execution_count": 62,
   "metadata": {
    "ExecuteTime": {
     "end_time": "2022-07-14T14:50:01.076183Z",
     "start_time": "2022-07-14T14:50:01.068587Z"
    },
    "execution": {
     "iopub.execute_input": "2023-09-22T15:39:21.915649Z",
     "iopub.status.busy": "2023-09-22T15:39:21.915483Z",
     "iopub.status.idle": "2023-09-22T15:39:21.918248Z",
     "shell.execute_reply": "2023-09-22T15:39:21.917819Z"
    }
   },
   "outputs": [
    {
     "name": "stdout",
     "output_type": "stream",
     "text": [
      "Schedule:\n",
      "Number of services: 9\n",
      "Number of routes: 69\n",
      "Number of stops: 85\n"
     ]
    }
   ],
   "source": [
    "n.schedule.print()"
   ]
  },
  {
   "cell_type": "code",
   "execution_count": 63,
   "metadata": {
    "ExecuteTime": {
     "end_time": "2022-07-14T14:50:02.090803Z",
     "start_time": "2022-07-14T14:50:01.082246Z"
    },
    "execution": {
     "iopub.execute_input": "2023-09-22T15:39:21.920359Z",
     "iopub.status.busy": "2023-09-22T15:39:21.920183Z",
     "iopub.status.idle": "2023-09-22T15:39:22.410285Z",
     "shell.execute_reply": "2023-09-22T15:39:22.409859Z"
    }
   },
   "outputs": [
    {
     "name": "stderr",
     "output_type": "stream",
     "text": [
      "2023-09-22 16:39:22,021 - The following vehicle types are missing from the `vehicle_types`  attribute: {'piggyback'}\n"
     ]
    },
    {
     "name": "stderr",
     "output_type": "stream",
     "text": [
      "2023-09-22 16:39:22,022 - Vehicles affected by missing vehicle types: {'veh_2331_bus': {'type': 'piggyback'}, 'veh_2333_bus': {'type': 'piggyback'}, 'veh_2335_bus': {'type': 'piggyback'}, 'veh_2337_bus': {'type': 'piggyback'}, 'veh_2339_bus': {'type': 'piggyback'}}\n"
     ]
    },
    {
     "name": "stderr",
     "output_type": "stream",
     "text": [
      "2023-09-22 16:39:22,096 - Removed Services with IDs `20274`, and Routes: {'VJ6c64ab7b477e201cae950efde5bd0cb4e2e8888e', '20274_4', 'VJ375a660d47a2aa570aa20a8568012da8497ffecf', 'VJ812fad65e7fa418645b57b446f00cba573f2cdaf'}\n"
     ]
    },
    {
     "name": "stderr",
     "output_type": "stream",
     "text": [
      "2023-09-22 16:39:22,171 - Removed Services with IDs `17732`, and Routes: {'VJ0cb60de3ed229c1413abac506e770b6ab8a7c49a', 'VJ85c23573d670bab5485618b0c5fddff3314efc89'}\n"
     ]
    },
    {
     "name": "stderr",
     "output_type": "stream",
     "text": [
      "2023-09-22 16:39:22,234 - Removed Services with IDs `12430`, and Routes: {'VJ0f3c08222de16c2e278be0a1bf0f9ea47370774e', 'VJ06420fdab0dfe5c8e7f2f9504df05cf6289cd7d3', 'VJ95b4c534d7c903d76ec0340025aa88b81dba3ce4', 'VJeb72539d69ddf8e29f1adf74d43953def196ae41', 'VJ948e8caa0f08b9c6bf6330927893942c474b5100', 'VJ235c8fca539cf931b3c673f9b056606384aff950', 'VJ06cd41dcd58d947097df4a8f33234ef423210154', 'VJ8f9aea7491080b0137d3092706f53dc11f7dba45', 'VJef7f20c3a9bf1419f6401e1e9131fe2c634bcb9a', 'VJf8e38a73359b6cf743d8e35ee64ef1f7b7914daa', 'VJ15419796737689e742962a625abcf3fd5b3d58b1', 'VJeae6e634f8479e0b6712780d5728f0afca964e64'}\n"
     ]
    },
    {
     "name": "stderr",
     "output_type": "stream",
     "text": [
      "2023-09-22 16:39:22,284 - Removed Services with IDs `14073`, and Routes: {'VJe8cffad09738ff7b9698b333e3247918d5c45358', 'VJd132b905afc6c0e8e8a994142e301ca5c0f70e22', 'VJfc35884fc4f11dc408a209c19f56f3b60f634daf', 'VJ24fe211d801738b556a39f815256d7f6bc544ec5', 'VJe18efadf172576fea7989ec1f233f26854c0f66a', 'VJf6055fdf9ef0dd6d0500b6c11adcfdd4d10655dc', 'VJea6046f64f85febf1854290fb8f76e921e3ac96b', 'VJ6cf76a4c03cca468cb6954db7f7aad5ae189df13', 'VJ93d8207ae8540b4ff59d47c9ee1ec5689084522d', 'VJe6ba07ef9f19ae40517261ad626bf34dd656491a', 'VJd9dbeefeca6d74ef2594a17514ebc08ee2d503b2', 'VJb4309b7a9598539ab9942ea1bcadc60a91b978ba', 'VJaa5ee0daec7529d7668c81fe7fac0c4ff545daea', 'VJc8cdbd902dadeebeeb4dbd7332b564ee2e4b00ce', 'VJdbc280077e505b4f8d66586ca51751a125cb4ef0'}\n"
     ]
    },
    {
     "name": "stderr",
     "output_type": "stream",
     "text": [
      "2023-09-22 16:39:22,331 - Removed Services with IDs `18915`, and Routes: {'VJ520ec0c0ca58a849349fa614b5cf9270ac5c93da', 'VJ0d304b95d39f4bce48e6ff26ddd73a9c06f17f4f', 'VJb08f8a2de01a4ef99d3b7fefd9022117ac307531', 'VJ8a4b1ca7dfd0a130abd1de9f55f3b756617dd4ca', 'VJ887921c00645929c5402ac46592e57c368ea63a1'}\n"
     ]
    },
    {
     "name": "stderr",
     "output_type": "stream",
     "text": [
      "2023-09-22 16:39:22,374 - Removed Services with IDs `18853`, and Routes: {'VJfc4917783c2ca3227789fa7c532c9adf47702095', 'VJf3e316e5e605bb512147dee2a989be5a82ef1b5f', 'VJ8cacca9a6722c497c413005568182ecf4d50b160'}\n"
     ]
    },
    {
     "name": "stderr",
     "output_type": "stream",
     "text": [
      "2023-09-22 16:39:22,407 - Removed Services with IDs `15660`, and Routes: {'VJ3716910ec59c370d9f5c69137df7276b68cf0a08', 'VJf2e0de4f5dad68cb03064e6064e372dde52cc678', 'VJ1cf651142378958b52229bfe1fa552e49136e60e'}\n"
     ]
    },
    {
     "name": "stderr",
     "output_type": "stream",
     "text": [
      "2023-09-22 16:39:22,408 - Removed Stops with indices `['other_new_stop', '490000173JB.link:1663']`.Routes affected: set(). Services affected: set().\n"
     ]
    }
   ],
   "source": [
    "sub_s = n.schedule.subschedule(service_ids=services)"
   ]
  },
  {
   "cell_type": "code",
   "execution_count": 64,
   "metadata": {
    "ExecuteTime": {
     "end_time": "2022-07-14T14:50:02.098708Z",
     "start_time": "2022-07-14T14:50:02.094150Z"
    },
    "execution": {
     "iopub.execute_input": "2023-09-22T15:39:22.412588Z",
     "iopub.status.busy": "2023-09-22T15:39:22.412444Z",
     "iopub.status.idle": "2023-09-22T15:39:22.415630Z",
     "shell.execute_reply": "2023-09-22T15:39:22.415116Z"
    }
   },
   "outputs": [
    {
     "name": "stdout",
     "output_type": "stream",
     "text": [
      "Schedule:\n",
      "Number of services: 2\n",
      "Number of routes: 25\n",
      "Number of stops: 83\n"
     ]
    }
   ],
   "source": [
    "sub_s.print()"
   ]
  },
  {
   "cell_type": "markdown",
   "metadata": {},
   "source": [
    "### Spatial Subsetting\n",
    "\n",
    "There is a convenience method to extract a subset schedule using spatial conditions - refer to Using Schedule notebook or docs to learn more about what spatial inputs are supported."
   ]
  },
  {
   "cell_type": "code",
   "execution_count": 65,
   "metadata": {
    "ExecuteTime": {
     "end_time": "2022-07-14T14:50:02.106257Z",
     "start_time": "2022-07-14T14:50:02.101983Z"
    },
    "execution": {
     "iopub.execute_input": "2023-09-22T15:39:22.417798Z",
     "iopub.status.busy": "2023-09-22T15:39:22.417601Z",
     "iopub.status.idle": "2023-09-22T15:39:22.420541Z",
     "shell.execute_reply": "2023-09-22T15:39:22.420156Z"
    }
   },
   "outputs": [],
   "source": [
    "# pop it in https://s2.sidewalklabs.com/ to see it\n",
    "region = \"48761ad0b14,48761ad0b3,48761ad0b5,48761ad0b7,48761ad0b84,48761ad0d,48761ad0e04,48761ad11f4,48761ad11fc,48761ad13,48761ad145fc,48761ad147,48761ad14c,48761ad153,48761ad41df,48761ad41e4,48761ad41fc,48761ad421,48761ad427,48761ad429,48761ad42b,48761ad5d5,48761ad5d7,48761ad5d9,48761ad5df,48761ad5e1,48761ad5e3,48761ad64,48761ad6c,48761ad71,48761ad73,48761ad744,48761ad74c,48761ad751,48761ad753,48761ad757554,48761ad75c,48761ad77,48761ad79,48761ad7b,48761ad7d,48761ad7e4,48761ad7ec,48761ad7f4,48761ad7f9,48761ad7fb,48761ad7fd,48761ad827,48761ad829,48761ad82b,48761ad9d5,48761ad9d7,48761ad9d84,48761b2802c,48761b2817,48761b281c,48761b283,48761b2847fc,48761b2849,48761b284b,48761b29b5,48761b29b7,48761b29b9,48761b29d,48761b29e4,48761b29e9,48761b29ea4,48761b29ef,48761b29fb4,48761b29fd\""
   ]
  },
  {
   "cell_type": "code",
   "execution_count": 66,
   "metadata": {
    "ExecuteTime": {
     "end_time": "2022-07-14T14:50:04.556941Z",
     "start_time": "2022-07-14T14:50:02.109786Z"
    },
    "execution": {
     "iopub.execute_input": "2023-09-22T15:39:22.422855Z",
     "iopub.status.busy": "2023-09-22T15:39:22.422658Z",
     "iopub.status.idle": "2023-09-22T15:39:23.852263Z",
     "shell.execute_reply": "2023-09-22T15:39:23.851752Z"
    }
   },
   "outputs": [
    {
     "name": "stderr",
     "output_type": "stream",
     "text": [
      "2023-09-22 16:39:23,248 - Subsetting a Network will likely result in a disconnected network graph. A cleaner will be ran that will remove links to make the resulting Network strongly connected for modes: car, walk, bike.\n"
     ]
    },
    {
     "name": "stderr",
     "output_type": "stream",
     "text": [
      "2023-09-22 16:39:23,297 - Schedule will be subsetted using given services: ['12430']. Links pertaining to their network routes will also be retained.\n"
     ]
    },
    {
     "name": "stderr",
     "output_type": "stream",
     "text": [
      "2023-09-22 16:39:23,401 - The following vehicle types are missing from the `vehicle_types`  attribute: {'piggyback'}\n"
     ]
    },
    {
     "name": "stderr",
     "output_type": "stream",
     "text": [
      "2023-09-22 16:39:23,401 - Vehicles affected by missing vehicle types: {'veh_2331_bus': {'type': 'piggyback'}, 'veh_2333_bus': {'type': 'piggyback'}, 'veh_2335_bus': {'type': 'piggyback'}, 'veh_2337_bus': {'type': 'piggyback'}, 'veh_2339_bus': {'type': 'piggyback'}}\n"
     ]
    },
    {
     "name": "stderr",
     "output_type": "stream",
     "text": [
      "2023-09-22 16:39:23,477 - Removed Services with IDs `20274`, and Routes: {'VJ6c64ab7b477e201cae950efde5bd0cb4e2e8888e', '20274_4', 'VJ375a660d47a2aa570aa20a8568012da8497ffecf', 'VJ812fad65e7fa418645b57b446f00cba573f2cdaf'}\n"
     ]
    },
    {
     "name": "stderr",
     "output_type": "stream",
     "text": [
      "2023-09-22 16:39:23,547 - Removed Services with IDs `17732`, and Routes: {'VJ0cb60de3ed229c1413abac506e770b6ab8a7c49a', 'VJ85c23573d670bab5485618b0c5fddff3314efc89'}\n"
     ]
    },
    {
     "name": "stderr",
     "output_type": "stream",
     "text": [
      "2023-09-22 16:39:23,607 - Removed Services with IDs `14134`, and Routes: {'VJd78967364a302cf232c5139d40622dcb6c238c9e', 'VJb93a17a405fe502c5b3a2d6544105b0311da9fe2', 'VJ4e311a625836374adf4cfaa841224840dbeb7619', 'VJ2aba67e3ed98f2ed5f5966c1ac394cbf6d1943d7', 'VJ12ba6089dfb2733e29c415a1a0015fef30fd5305', 'VJ4c6fa387b0d4be94a6c3679b94790b183e2558ca', 'VJdf3936da1a51eb33db594ef99738802c14b19995', 'VJ4e2b897edf0e7b8a8e3b5516ab43ce56f72c5cff', 'VJf9a22035ae6f25bb420df833474943ad76065c89', 'VJ256e98df611ff48afe737ddc81cbcde82e4e81c8', 'VJ26095b8f9f9db92ca2e53d4c086a7dcd82a13be9', 'VJ5909ba51575a9459eb0013fbd31c8205455ca2fd', 'VJdb0c128567fcbcc063d554ae1c95851cee41b909', 'VJa7f37392e276aeac26c7e73bbc05e6a71af38dba', 'VJ2c87b2a59184888f3175b55bde7b02d024ea8607', 'VJ323d02e117552af1565f2ff1273a612655c829c4'}\n"
     ]
    },
    {
     "name": "stderr",
     "output_type": "stream",
     "text": [
      "2023-09-22 16:39:23,653 - Removed Services with IDs `14073`, and Routes: {'VJe8cffad09738ff7b9698b333e3247918d5c45358', 'VJd132b905afc6c0e8e8a994142e301ca5c0f70e22', 'VJfc35884fc4f11dc408a209c19f56f3b60f634daf', 'VJ24fe211d801738b556a39f815256d7f6bc544ec5', 'VJe18efadf172576fea7989ec1f233f26854c0f66a', 'VJf6055fdf9ef0dd6d0500b6c11adcfdd4d10655dc', 'VJea6046f64f85febf1854290fb8f76e921e3ac96b', 'VJ6cf76a4c03cca468cb6954db7f7aad5ae189df13', 'VJ93d8207ae8540b4ff59d47c9ee1ec5689084522d', 'VJe6ba07ef9f19ae40517261ad626bf34dd656491a', 'VJd9dbeefeca6d74ef2594a17514ebc08ee2d503b2', 'VJb4309b7a9598539ab9942ea1bcadc60a91b978ba', 'VJaa5ee0daec7529d7668c81fe7fac0c4ff545daea', 'VJc8cdbd902dadeebeeb4dbd7332b564ee2e4b00ce', 'VJdbc280077e505b4f8d66586ca51751a125cb4ef0'}\n"
     ]
    },
    {
     "name": "stderr",
     "output_type": "stream",
     "text": [
      "2023-09-22 16:39:23,700 - Removed Services with IDs `18915`, and Routes: {'VJ520ec0c0ca58a849349fa614b5cf9270ac5c93da', 'VJ0d304b95d39f4bce48e6ff26ddd73a9c06f17f4f', 'VJb08f8a2de01a4ef99d3b7fefd9022117ac307531', 'VJ8a4b1ca7dfd0a130abd1de9f55f3b756617dd4ca', 'VJ887921c00645929c5402ac46592e57c368ea63a1'}\n"
     ]
    },
    {
     "name": "stderr",
     "output_type": "stream",
     "text": [
      "2023-09-22 16:39:23,744 - Removed Services with IDs `18853`, and Routes: {'VJfc4917783c2ca3227789fa7c532c9adf47702095', 'VJf3e316e5e605bb512147dee2a989be5a82ef1b5f', 'VJ8cacca9a6722c497c413005568182ecf4d50b160'}\n"
     ]
    },
    {
     "name": "stderr",
     "output_type": "stream",
     "text": [
      "2023-09-22 16:39:23,775 - Removed Services with IDs `15660`, and Routes: {'VJ3716910ec59c370d9f5c69137df7276b68cf0a08', 'VJf2e0de4f5dad68cb03064e6064e372dde52cc678', 'VJ1cf651142378958b52229bfe1fa552e49136e60e'}\n"
     ]
    },
    {
     "name": "stderr",
     "output_type": "stream",
     "text": [
      "2023-09-22 16:39:23,793 - Removed Services with IDs `15234`, and Routes: {'VJ3d50b96792ae8495dbe5a5e372849a60c48b2279', 'VJ5b511605b1e07428c2e0a7d676d301c6c40dcca6', 'VJ652c769bc42361cc0308dff59a1fdcf0949bdade', 'VJ1a8cc306354fdc322d739ae644eb73444341d08d', 'VJ8ccf92aa0f351b2e31f1a078b968dff4c2505c02', 'VJbf9d4fdb976223e6a026c0c669ed290418abefee', 'VJ28a8a6a4ab02807a4fdfd199e5c2ca0622d34d0c', 'VJd4cbfb092a104ac6a3164a86e9765f68734fdfcf', 'VJ9b58a59e3d74941586a5bca7726a8aa624da67fc'}\n"
     ]
    },
    {
     "name": "stderr",
     "output_type": "stream",
     "text": [
      "2023-09-22 16:39:23,794 - Removed Stops with indices `['other_new_stop', '490000173JB.link:1663']`.Routes affected: set(). Services affected: set().\n"
     ]
    },
    {
     "name": "stderr",
     "output_type": "stream",
     "text": [
      "2023-09-22 16:39:23,812 - Param: strongly_connected_modes is defaulting to `{'car', 'walk', 'bike'}` You can change this behaviour by passing the parameter.\n"
     ]
    },
    {
     "name": "stderr",
     "output_type": "stream",
     "text": [
      "2023-09-22 16:39:23,818 - The graph for mode car is not strongly connected. The largest 1 connected components will be extracted.\n"
     ]
    },
    {
     "name": "stderr",
     "output_type": "stream",
     "text": [
      "2023-09-22 16:39:23,827 - Extracting largest connected components resulted in mode: car being deleted from 82 edges\n"
     ]
    },
    {
     "name": "stderr",
     "output_type": "stream",
     "text": [
      "/Users/bryn.pickering/Repos/arup-group/genet/genet/core.py:675: UserWarning: Boolean Series key will be reindexed to match DataFrame index.\n",
      "  df = df.loc[list(links.intersection(df.index))][df[\"modes\"].apply(lambda x: bool(mode & x))]\n",
      "2023-09-22 16:39:23,842 - Changed Link attributes for 82 links\n"
     ]
    },
    {
     "name": "stderr",
     "output_type": "stream",
     "text": [
      "2023-09-22 16:39:23,846 - Removed 56 links\n"
     ]
    },
    {
     "name": "stderr",
     "output_type": "stream",
     "text": [
      "2023-09-22 16:39:23,847 - The graph for modes: walk does not have any connected components. This method returns True because if the graph is empty for this mode there is no reason to fail this check.\n"
     ]
    },
    {
     "name": "stderr",
     "output_type": "stream",
     "text": [
      "2023-09-22 16:39:23,848 - The graph for modes: bike does not have any connected components. This method returns True because if the graph is empty for this mode there is no reason to fail this check.\n"
     ]
    },
    {
     "name": "stderr",
     "output_type": "stream",
     "text": [
      "2023-09-22 16:39:23,848 - Subsetted Network is ready - do not forget to validate and visualise your subset!\n"
     ]
    },
    {
     "data": {
      "text/plain": [
       "<Network instance at 6418336400: with \n",
       "graph: MultiDiGraph with 156 nodes and 203 edges and \n",
       "schedule Schedule:\n",
       "Number of services: 1\n",
       "Number of routes: 12\n",
       "Number of stops: 83"
      ]
     },
     "execution_count": 66,
     "metadata": {},
     "output_type": "execute_result"
    }
   ],
   "source": [
    "n.subnetwork_on_spatial_condition(region, how=\"intersect\")"
   ]
  }
 ],
 "metadata": {
  "kernelspec": {
   "display_name": "genet",
   "language": "python",
   "name": "genet"
  },
  "language_info": {
   "codemirror_mode": {
    "name": "ipython",
    "version": 3
   },
   "file_extension": ".py",
   "mimetype": "text/x-python",
   "name": "python",
   "nbconvert_exporter": "python",
   "pygments_lexer": "ipython3",
   "version": "3.11.5"
  },
  "latex_envs": {
   "LaTeX_envs_menu_present": true,
   "autoclose": true,
   "autocomplete": true,
   "bibliofile": "biblio.bib",
   "cite_by": "apalike",
   "current_citInitial": 1,
   "eqLabelWithNumbers": true,
   "eqNumInitial": 1,
   "hotkeys": {
    "equation": "Ctrl-E",
    "itemize": "Ctrl-I"
   },
   "labels_anchors": false,
   "latex_user_defs": false,
   "report_style_numbering": false,
   "user_envs_cfg": false
  },
  "toc": {
   "base_numbering": 1,
   "nav_menu": {},
   "number_sections": true,
   "sideBar": true,
   "skip_h1_title": false,
   "title_cell": "Table of Contents",
   "title_sidebar": "Contents",
   "toc_cell": false,
   "toc_position": {},
   "toc_section_display": true,
   "toc_window_display": false
  },
  "varInspector": {
   "cols": {
    "lenName": 16,
    "lenType": 16,
    "lenVar": 40
   },
   "kernels_config": {
    "python": {
     "delete_cmd_postfix": "",
     "delete_cmd_prefix": "del ",
     "library": "var_list.py",
     "varRefreshCmd": "print(var_dic_list())"
    },
    "r": {
     "delete_cmd_postfix": ") ",
     "delete_cmd_prefix": "rm(",
     "library": "var_list.r",
     "varRefreshCmd": "cat(var_dic_list()) "
    }
   },
   "types_to_exclude": [
    "module",
    "function",
    "builtin_function_or_method",
    "instance",
    "_Feature"
   ],
   "window_display": false
  }
 },
 "nbformat": 4,
 "nbformat_minor": 2
}
