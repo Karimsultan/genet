{
 "cells": [
  {
   "cell_type": "code",
   "execution_count": 93,
   "metadata": {
    "ExecuteTime": {
     "end_time": "2020-05-20T13:55:25.614512Z",
     "start_time": "2020-05-20T13:55:25.404941Z"
    }
   },
   "outputs": [],
   "source": [
    "from genet.core import Network\n",
    "import networkx as nx\n",
    "from tqdm import tqdm\n",
    "from lxml import etree as et\n",
    "from lxml.etree import Element, SubElement"
   ]
  },
  {
   "cell_type": "code",
   "execution_count": 2,
   "metadata": {
    "ExecuteTime": {
     "end_time": "2020-05-20T13:55:25.624316Z",
     "start_time": "2020-05-20T13:55:25.616730Z"
    }
   },
   "outputs": [],
   "source": [
    "n = Network()"
   ]
  },
  {
   "cell_type": "code",
   "execution_count": 3,
   "metadata": {
    "ExecuteTime": {
     "end_time": "2020-05-20T13:55:25.635127Z",
     "start_time": "2020-05-20T13:55:25.629942Z"
    }
   },
   "outputs": [],
   "source": [
    "pt_net_path = '/Users/alex.andrey/Documents/city_modelling/ireland/network.xml'\n",
    "# pt_sch_path = '/Users/kasia.kozlowska/PycharmProjects/ABM/genet/example_data/pt2matsim_network/schedule.xml'"
   ]
  },
  {
   "cell_type": "code",
   "execution_count": 4,
   "metadata": {
    "ExecuteTime": {
     "end_time": "2020-05-20T13:55:26.141711Z",
     "start_time": "2020-05-20T13:55:25.638306Z"
    }
   },
   "outputs": [
    {
     "name": "stderr",
     "output_type": "stream",
     "text": [
      "/Users/alex.andrey/Library/Python/3.6/lib/python/site-packages/pyproj/crs/crs.py:53: FutureWarning: '+init=<authority>:<code>' syntax is deprecated. '<authority>:<code>' is the preferred initialization method. When making the change, be mindful of axis order changes: https://pyproj4.github.io/pyproj/stable/gotchas.html#axis-order-changes-in-proj-6\n",
      "  return _prepare_from_string(\" \".join(pjargs))\n",
      "/Users/alex.andrey/Library/Python/3.6/lib/python/site-packages/pyproj/crs/crs.py:294: FutureWarning: '+init=<authority>:<code>' syntax is deprecated. '<authority>:<code>' is the preferred initialization method. When making the change, be mindful of axis order changes: https://pyproj4.github.io/pyproj/stable/gotchas.html#axis-order-changes-in-proj-6\n",
      "  projstring = _prepare_from_string(\" \".join((projstring, projkwargs)))\n",
      "/Users/alex.andrey/Library/Python/3.6/lib/python/site-packages/pyproj/crs/crs.py:53: FutureWarning: '+init=<authority>:<code>' syntax is deprecated. '<authority>:<code>' is the preferred initialization method. When making the change, be mindful of axis order changes: https://pyproj4.github.io/pyproj/stable/gotchas.html#axis-order-changes-in-proj-6\n",
      "  return _prepare_from_string(\" \".join(pjargs))\n",
      "/Users/alex.andrey/Library/Python/3.6/lib/python/site-packages/pyproj/crs/crs.py:294: FutureWarning: '+init=<authority>:<code>' syntax is deprecated. '<authority>:<code>' is the preferred initialization method. When making the change, be mindful of axis order changes: https://pyproj4.github.io/pyproj/stable/gotchas.html#axis-order-changes-in-proj-6\n",
      "  projstring = _prepare_from_string(\" \".join((projstring, projkwargs)))\n"
     ]
    }
   ],
   "source": [
    "n.read_matsim_network(pt_net_path, epsg='epsg:27700')"
   ]
  },
  {
   "cell_type": "code",
   "execution_count": 5,
   "metadata": {
    "ExecuteTime": {
     "end_time": "2020-05-20T13:55:26.321939Z",
     "start_time": "2020-05-20T13:55:26.295651Z"
    }
   },
   "outputs": [
    {
     "data": {
      "text/plain": [
       "'Name: \\nType: MultiDiGraph\\nNumber of nodes: 382256\\nNumber of edges: 857068\\nAverage in degree:   2.2421\\nAverage out degree:   2.2421'"
      ]
     },
     "execution_count": 5,
     "metadata": {},
     "output_type": "execute_result"
    }
   ],
   "source": [
    "nx.info(n.graph)"
   ]
  },
  {
   "cell_type": "markdown",
   "metadata": {},
   "source": [
    "### Load the OSM way ids of the toll links"
   ]
  },
  {
   "cell_type": "code",
   "execution_count": 14,
   "metadata": {},
   "outputs": [],
   "source": [
    "osm_ids_path = '/Users/alex.andrey/Documents/city_modelling/ireland/osm_toll_way_ids'"
   ]
  },
  {
   "cell_type": "code",
   "execution_count": 73,
   "metadata": {},
   "outputs": [],
   "source": [
    "with open(osm_ids_path,'r') as f:\n",
    "    osm_way_ids = [line.rstrip('\\n') for line in f]"
   ]
  },
  {
   "cell_type": "code",
   "execution_count": 90,
   "metadata": {},
   "outputs": [],
   "source": [
    "osm_way_ids = list(set(osm_way_ids)) # remove duplicates"
   ]
  },
  {
   "cell_type": "markdown",
   "metadata": {},
   "source": [
    "### Extract all edges from network.xml  whose `['attributes']['osm:way:id']['text']` is present in `osm_way_ids`"
   ]
  },
  {
   "cell_type": "code",
   "execution_count": 78,
   "metadata": {},
   "outputs": [
    {
     "name": "stderr",
     "output_type": "stream",
     "text": [
      "224824835it [00:27, 8171884.73it/s]    \n"
     ]
    }
   ],
   "source": [
    "network_toll_ids = []\n",
    "edge_osm_ids = []\n",
    "\n",
    "for edge_dict in n.edges():\n",
    "    for key in n.edges(edge_dict):\n",
    "\n",
    "        if 'attributes' in n.edges(edge_dict)[key].keys():\n",
    "\n",
    "            edge_osm_id = n.edges(edge_dict)[key]['attributes']['osm:way:id']['text']        \n",
    "\n",
    "            if edge_osm_id in osm_way_ids:\n",
    "                network_toll_ids.append(\n",
    "                    n.edges(edge_dict)[key]['id']\n",
    "                )\n",
    "\n",
    "                edge_osm_ids.append(edge_osm_id)\n",
    "\n",
    "\n",
    "    edge_osm_ids = list(set(edge_osm_ids))\n",
    "    if edge_osm_ids == osm_way_ids:\n",
    "        break\n"
   ]
  },
  {
   "cell_type": "code",
   "execution_count": 85,
   "metadata": {},
   "outputs": [
    {
     "name": "stdout",
     "output_type": "stream",
     "text": [
      "614  network ids identified as matching OSM toll ids\n"
     ]
    }
   ],
   "source": [
    "print(len(network_toll_ids), ' network ids identified as matching OSM toll ids')"
   ]
  },
  {
   "cell_type": "code",
   "execution_count": 91,
   "metadata": {},
   "outputs": [
    {
     "name": "stdout",
     "output_type": "stream",
     "text": [
      "2  OSM toll ids not found in network.xml\n"
     ]
    }
   ],
   "source": [
    "print(len(osm_way_ids)-len(edge_osm_ids),' OSM toll ids not found in network.xml')"
   ]
  },
  {
   "cell_type": "code",
   "execution_count": 92,
   "metadata": {},
   "outputs": [
    {
     "data": {
      "text/plain": [
       "['760065900', '760065899']"
      ]
     },
     "execution_count": 92,
     "metadata": {},
     "output_type": "execute_result"
    }
   ],
   "source": [
    "missing_osm_ways = [item for item in osm_way_ids if item not in edge_osm_ids]\n",
    "missing_osm_ways"
   ]
  },
  {
   "cell_type": "markdown",
   "metadata": {},
   "source": [
    "User can investigate the missing links using [OpenStreetMap web interface](https://www.openstreetmap.org/way/760065899#map=13/53.2934/-8.3791)"
   ]
  },
  {
   "cell_type": "markdown",
   "metadata": {},
   "source": [
    "## Build XML"
   ]
  },
  {
   "cell_type": "markdown",
   "metadata": {},
   "source": [
    "for now, build Road Pricing scheme [Cordon Count](https://www.matsim.org/apidocs/core/0.4.0/org/matsim/roadpricing/package-summary.html)"
   ]
  },
  {
   "cell_type": "code",
   "execution_count": null,
   "metadata": {},
   "outputs": [],
   "source": [
    "out_path = '/Users/alex.andrey/Documents/city_modelling/ireland/roadpricing-file.xml'"
   ]
  },
  {
   "cell_type": "code",
   "execution_count": 94,
   "metadata": {},
   "outputs": [],
   "source": [
    "def write_xml(root, path):\n",
    "        \"\"\"\n",
    "        Write config to given xml path.\n",
    "        :param path: pathlib.Path\n",
    "        :return: None\n",
    "        \"\"\"\n",
    "        # if isinstance(path, str):\n",
    "        #     path = Path(path)\n",
    "        # root = self.build_xml()\n",
    "        tree = et.tostring(root,\n",
    "                           pretty_print=True,\n",
    "                           xml_declaration=False,\n",
    "                           encoding='UTF-8')\n",
    "        with open(path, 'wb') as file:\n",
    "            file.write(b'<?xml version=\"1.0\" ?>\\n')\n",
    "            file.write(b'<!DOCTYPE roadpricing SYSTEM \"http://matsim.org/files/dtd/roadpricing_v1.dtd\">\\n')\n",
    "            file.write(tree)"
   ]
  },
  {
   "cell_type": "code",
   "execution_count": 103,
   "metadata": {},
   "outputs": [],
   "source": [
    "# creat ETree root\n",
    "roadpricing = Element(\"roadpricing\", type=\"cordon\", name=\"cordon-toll\")\n",
    "# <description\n",
    "description = SubElement(roadpricing, \"description\")\n",
    "description.text = \"A simple cordon toll scheme for the Ireland network\""
   ]
  },
  {
   "cell_type": "code",
   "execution_count": 104,
   "metadata": {},
   "outputs": [],
   "source": [
    "links = SubElement(roadpricing, \"links\")\n",
    "\n",
    "for link_id in network_toll_ids: \n",
    "    SubElement(links, \"link\", id=link_id)"
   ]
  },
  {
   "cell_type": "code",
   "execution_count": 105,
   "metadata": {},
   "outputs": [
    {
     "data": {
      "text/plain": [
       "<Element cost at 0x22dcfbfc8>"
      ]
     },
     "execution_count": 105,
     "metadata": {},
     "output_type": "execute_result"
    }
   ],
   "source": [
    "# apply same cost to all links, regardless of vehicle type\n",
    "SubElement(roadpricing, \"cost\", start_time=\"00:00\", end_time=\"23:59\", amount=\"2.00\")"
   ]
  },
  {
   "cell_type": "code",
   "execution_count": 106,
   "metadata": {},
   "outputs": [],
   "source": [
    "write_xml(roadpricing, out_path)"
   ]
  }
 ],
 "metadata": {
  "kernelspec": {
   "display_name": "genet-env",
   "language": "python",
   "name": "genet-env"
  },
  "language_info": {
   "codemirror_mode": {
    "name": "ipython",
    "version": 3
   },
   "file_extension": ".py",
   "mimetype": "text/x-python",
   "name": "python",
   "nbconvert_exporter": "python",
   "pygments_lexer": "ipython3",
   "version": "3.6.7"
  },
  "latex_envs": {
   "LaTeX_envs_menu_present": true,
   "autoclose": true,
   "autocomplete": true,
   "bibliofile": "biblio.bib",
   "cite_by": "apalike",
   "current_citInitial": 1,
   "eqLabelWithNumbers": true,
   "eqNumInitial": 1,
   "hotkeys": {
    "equation": "Ctrl-E",
    "itemize": "Ctrl-I"
   },
   "labels_anchors": false,
   "latex_user_defs": false,
   "report_style_numbering": false,
   "user_envs_cfg": false
  },
  "toc": {
   "base_numbering": 1,
   "nav_menu": {},
   "number_sections": true,
   "sideBar": true,
   "skip_h1_title": false,
   "title_cell": "Table of Contents",
   "title_sidebar": "Contents",
   "toc_cell": false,
   "toc_position": {},
   "toc_section_display": true,
   "toc_window_display": false
  },
  "varInspector": {
   "cols": {
    "lenName": 16,
    "lenType": 16,
    "lenVar": 40
   },
   "kernels_config": {
    "python": {
     "delete_cmd_postfix": "",
     "delete_cmd_prefix": "del ",
     "library": "var_list.py",
     "varRefreshCmd": "print(var_dic_list())"
    },
    "r": {
     "delete_cmd_postfix": ") ",
     "delete_cmd_prefix": "rm(",
     "library": "var_list.r",
     "varRefreshCmd": "cat(var_dic_list()) "
    }
   },
   "types_to_exclude": [
    "module",
    "function",
    "builtin_function_or_method",
    "instance",
    "_Feature"
   ],
   "window_display": false
  }
 },
 "nbformat": 4,
 "nbformat_minor": 2
}
