{
 "cells": [
  {
   "cell_type": "markdown",
   "metadata": {},
   "source": [
    "# Modifying the `Schedule` object\n",
    "\n",
    "GeNet has a number of methods to change the Schedule objects. Make sure you validate the end result."
   ]
  },
  {
   "cell_type": "code",
   "execution_count": 1,
   "metadata": {
    "ExecuteTime": {
     "end_time": "2021-04-13T15:48:31.287936Z",
     "start_time": "2021-04-13T15:48:26.378578Z"
    }
   },
   "outputs": [
    {
     "data": {
      "text/plain": [
       "<Network instance at 4569151920: with \n",
       "graph: Name: Network graph\n",
       "Type: MultiDiGraph\n",
       "Number of nodes: 1662\n",
       "Number of edges: 3166\n",
       "Average in degree:   1.9049\n",
       "Average out degree:   1.9049 and \n",
       "schedule Schedule:\n",
       "Number of services: 9\n",
       "Number of routes: 68\n",
       "Number of stops: 118"
      ]
     },
     "execution_count": 1,
     "metadata": {},
     "output_type": "execute_result"
    }
   ],
   "source": [
    "# read example network\n",
    "import pandas as pd\n",
    "from genet import Network, Stop, Route, Service\n",
    "import os\n",
    "\n",
    "n = Network('epsg:27700')\n",
    "path_to_matsim_network = '../example_data/pt2matsim_network'\n",
    "n.read_matsim_network(os.path.join(path_to_matsim_network, 'network.xml'))\n",
    "# you don't need to read the vehicles file, but doing so ensures all vehicles\n",
    "# in the schedule are of the expected type and the definition of the vehicle\n",
    "# is preserved\n",
    "n.read_matsim_schedule(\n",
    "    os.path.join(path_to_matsim_network, 'schedule.xml'),\n",
    "    os.path.join(path_to_matsim_network, 'vehicles.xml')\n",
    ")\n",
    "n"
   ]
  },
  {
   "cell_type": "markdown",
   "metadata": {},
   "source": [
    "## Adding Routes, Services\n",
    "\n",
    "You can add `Route`s and `Service`s. To add a `Route`, you need to identify which existing `Service` it should come under."
   ]
  },
  {
   "cell_type": "code",
   "execution_count": 2,
   "metadata": {
    "ExecuteTime": {
     "end_time": "2021-04-13T15:48:32.159317Z",
     "start_time": "2021-04-13T15:48:31.294338Z"
    }
   },
   "outputs": [],
   "source": [
    "route = Route(\n",
    "    route_short_name='N55',\n",
    "    mode='bus',\n",
    "    trips={'trip_id': ['fun_trip_1', 'fun_trip_2'], \n",
    "           'trip_departure_time': ['03:53:00', '16:23:00'], \n",
    "           'vehicle_id': ['fun_bus_1', 'fun_bus_2']},\n",
    "   arrival_offsets=['00:00:00', '00:02:00', '00:04:00', '00:06:00'],\n",
    "   departure_offsets=['00:00:00', '00:02:00', '00:04:00', '00:06:00'],\n",
    "   id='new_route',\n",
    "#    route= ['834', '1573', '3139', '3141', '574', '3154', '979', '980', '981'],\n",
    "   await_departure= [True, True, True, True],\n",
    "   stops=[n.schedule.stop('490000235X'),\n",
    "          Stop(id='new_stop', x=529500, y=181300,\n",
    "            name='New Stop', epsg='epsg:27700'),\n",
    "          Stop(id='other_new_stop', x=529502, y=181302,\n",
    "            name='Other New Stop', epsg='epsg:27700'),\n",
    "          n.schedule.stop('490010689KB')]\n",
    ")"
   ]
  },
  {
   "cell_type": "markdown",
   "metadata": {},
   "source": [
    "You can create and add a new `Service`, or add te route to an existing Service"
   ]
  },
  {
   "cell_type": "code",
   "execution_count": 3,
   "metadata": {
    "ExecuteTime": {
     "end_time": "2021-04-13T15:48:32.458657Z",
     "start_time": "2021-04-13T15:48:32.162256Z"
    }
   },
   "outputs": [
    {
     "name": "stderr",
     "output_type": "stream",
     "text": [
      "/Users/kasia.kozlowska/pycharm_venvs/genet/lib/python3.7/site-packages/pyproj/crs/crs.py:53: FutureWarning: '+init=<authority>:<code>' syntax is deprecated. '<authority>:<code>' is the preferred initialization method. When making the change, be mindful of axis order changes: https://pyproj4.github.io/pyproj/stable/gotchas.html#axis-order-changes-in-proj-6\n",
      "  return _prepare_from_string(\" \".join(pjargs))\n",
      "/Users/kasia.kozlowska/pycharm_venvs/genet/lib/python3.7/site-packages/pyproj/crs/crs.py:53: FutureWarning: '+init=<authority>:<code>' syntax is deprecated. '<authority>:<code>' is the preferred initialization method. When making the change, be mindful of axis order changes: https://pyproj4.github.io/pyproj/stable/gotchas.html#axis-order-changes-in-proj-6\n",
      "  return _prepare_from_string(\" \".join(pjargs))\n",
      "/Users/kasia.kozlowska/pycharm_venvs/genet/lib/python3.7/site-packages/osmnx/utils_graph.py:56: FutureWarning: Assigning CRS to a GeoDataFrame without a geometry column is now deprecated and will not be supported in the future.\n",
      "  gdf_nodes = gpd.GeoDataFrame(data, index=nodes, crs=crs)\n"
     ]
    },
    {
     "data": {
      "image/png": "[encoded data removed]",
      "text/plain": [
       "<Figure size 576x576 with 1 Axes>"
      ]
     },
     "metadata": {},
     "output_type": "display_data"
    },
    {
     "data": {
      "text/plain": [
       "(<Figure size 576x576 with 1 Axes>,\n",
       " <matplotlib.axes._subplots.AxesSubplot at 0x12029b2e8>)"
      ]
     },
     "execution_count": 3,
     "metadata": {},
     "output_type": "execute_result"
    }
   ],
   "source": [
    "new_service = Service(id='new_service', routes=[route])\n",
    "new_service.plot()"
   ]
  },
  {
   "cell_type": "code",
   "execution_count": 4,
   "metadata": {
    "ExecuteTime": {
     "end_time": "2021-04-13T15:48:32.500382Z",
     "start_time": "2021-04-13T15:48:32.470216Z"
    }
   },
   "outputs": [
    {
     "name": "stderr",
     "output_type": "stream",
     "text": [
      "2021-04-13 16:48:32,496 - Added Service with index `new_service`, data={'id': 'new_service', 'name': 'N55'} and Routes: ['new_route']\n"
     ]
    },
    {
     "data": {
      "text/plain": [
       "<Service instance at 4837757168: with 1 routes>"
      ]
     },
     "execution_count": 4,
     "metadata": {},
     "output_type": "execute_result"
    }
   ],
   "source": [
    "n.schedule.add_service(Service(id='new_service', routes=[route]))"
   ]
  },
  {
   "cell_type": "code",
   "execution_count": 5,
   "metadata": {
    "ExecuteTime": {
     "end_time": "2021-04-13T15:48:32.537948Z",
     "start_time": "2021-04-13T15:48:32.502217Z"
    }
   },
   "outputs": [
    {
     "name": "stderr",
     "output_type": "stream",
     "text": [
      "2021-04-13 16:48:32,503 - Route with ID `new_route` within already exists in the Schedule. This Route will be reindexed to `20274_4`\n",
      "2021-04-13 16:48:32,518 - Reindexed Route from new_route to 20274_4\n",
      "2021-04-13 16:48:32,530 - Added Route with index `20274_4`, data={'route_short_name': 'N55', 'mode': 'bus', 'trips': {'trip_id': ['fun_trip_1', 'fun_trip_2'], 'trip_departure_time': ['03:53:00', '16:23:00'], 'vehicle_id': ['fun_bus_1', 'fun_bus_2']}, 'arrival_offsets': ['00:00:00', '00:02:00', '00:04:00', '00:06:00'], 'departure_offsets': ['00:00:00', '00:02:00', '00:04:00', '00:06:00'], 'route_long_name': '', 'id': '20274_4', 'route': [], 'await_departure': [True, True, True, True], 'ordered_stops': ['490000235X', 'new_stop', 'other_new_stop', '490010689KB']} to Service `20274` within the Schedule\n"
     ]
    },
    {
     "data": {
      "text/plain": [
       "<Route instance at 4834511392: with 4 stops and 2 trips>"
      ]
     },
     "execution_count": 5,
     "metadata": {},
     "output_type": "execute_result"
    }
   ],
   "source": [
    "n.schedule.add_route('20274', route)"
   ]
  },
  {
   "cell_type": "code",
   "execution_count": 6,
   "metadata": {
    "ExecuteTime": {
     "end_time": "2021-04-13T15:48:32.723736Z",
     "start_time": "2021-04-13T15:48:32.540119Z"
    }
   },
   "outputs": [
    {
     "name": "stderr",
     "output_type": "stream",
     "text": [
      "/Users/kasia.kozlowska/pycharm_venvs/genet/lib/python3.7/site-packages/pyproj/crs/crs.py:53: FutureWarning: '+init=<authority>:<code>' syntax is deprecated. '<authority>:<code>' is the preferred initialization method. When making the change, be mindful of axis order changes: https://pyproj4.github.io/pyproj/stable/gotchas.html#axis-order-changes-in-proj-6\n",
      "  return _prepare_from_string(\" \".join(pjargs))\n",
      "/Users/kasia.kozlowska/pycharm_venvs/genet/lib/python3.7/site-packages/osmnx/utils_graph.py:56: FutureWarning: Assigning CRS to a GeoDataFrame without a geometry column is now deprecated and will not be supported in the future.\n",
      "  gdf_nodes = gpd.GeoDataFrame(data, index=nodes, crs=crs)\n"
     ]
    },
    {
     "data": {
      "image/png": "[encoded data removed]",
      "text/plain": [
       "<Figure size 576x576 with 1 Axes>"
      ]
     },
     "metadata": {},
     "output_type": "display_data"
    },
    {
     "data": {
      "text/plain": [
       "(<Figure size 576x576 with 1 Axes>,\n",
       " <matplotlib.axes._subplots.AxesSubplot at 0x120205d68>)"
      ]
     },
     "execution_count": 6,
     "metadata": {},
     "output_type": "execute_result"
    }
   ],
   "source": [
    "n.schedule['new_service'].plot()"
   ]
  },
  {
   "cell_type": "code",
   "execution_count": 7,
   "metadata": {
    "ExecuteTime": {
     "end_time": "2021-04-13T15:48:32.900536Z",
     "start_time": "2021-04-13T15:48:32.725665Z"
    }
   },
   "outputs": [
    {
     "name": "stderr",
     "output_type": "stream",
     "text": [
      "/Users/kasia.kozlowska/pycharm_venvs/genet/lib/python3.7/site-packages/pyproj/crs/crs.py:53: FutureWarning: '+init=<authority>:<code>' syntax is deprecated. '<authority>:<code>' is the preferred initialization method. When making the change, be mindful of axis order changes: https://pyproj4.github.io/pyproj/stable/gotchas.html#axis-order-changes-in-proj-6\n",
      "  return _prepare_from_string(\" \".join(pjargs))\n",
      "/Users/kasia.kozlowska/pycharm_venvs/genet/lib/python3.7/site-packages/osmnx/utils_graph.py:56: FutureWarning: Assigning CRS to a GeoDataFrame without a geometry column is now deprecated and will not be supported in the future.\n",
      "  gdf_nodes = gpd.GeoDataFrame(data, index=nodes, crs=crs)\n"
     ]
    },
    {
     "data": {
      "image/png": "[encoded data removed]",
      "text/plain": [
       "<Figure size 576x576 with 1 Axes>"
      ]
     },
     "metadata": {},
     "output_type": "display_data"
    },
    {
     "data": {
      "text/plain": [
       "(<Figure size 576x576 with 1 Axes>,\n",
       " <matplotlib.axes._subplots.AxesSubplot at 0x1201758d0>)"
      ]
     },
     "execution_count": 7,
     "metadata": {},
     "output_type": "execute_result"
    }
   ],
   "source": [
    "n.schedule.route('20274_4').plot()"
   ]
  },
  {
   "cell_type": "markdown",
   "metadata": {},
   "source": [
    "You can also refer to existing stops in the `Schedule` when creating a`Route` to be added. You can either just pass Stop IDs as strings or use a stop method on the schedule to take and use that stop object. Note that in the case of the former (passing ID strings), the route will not have the spatial information for those stops until it is added to the Schedule."
   ]
  },
  {
   "cell_type": "code",
   "execution_count": 8,
   "metadata": {
    "ExecuteTime": {
     "end_time": "2021-04-13T15:48:32.916308Z",
     "start_time": "2021-04-13T15:48:32.906685Z"
    }
   },
   "outputs": [],
   "source": [
    "r = Route(\n",
    "    route_short_name='N55',\n",
    "    mode='bus',\n",
    "    trips={'trip_id': ['some_trip_1'], \n",
    "           'trip_departure_time': ['16:23:00'], \n",
    "           'vehicle_id': ['some_bus_2']},\n",
    "   arrival_offsets=['00:00:00', '00:06:00'],\n",
    "   departure_offsets=['00:00:00', '00:06:00'],\n",
    "   id='another_new_route',\n",
    "#    route= ['834', '1573', '3139', '3141', '574', '3154', '979', '980', '981'],\n",
    "   await_departure= [True, True],\n",
    "   stops=['490000235X.link:834', \n",
    "          '490010689KB.link:981']\n",
    ")"
   ]
  },
  {
   "cell_type": "code",
   "execution_count": 9,
   "metadata": {
    "ExecuteTime": {
     "end_time": "2021-04-13T15:48:32.929191Z",
     "start_time": "2021-04-13T15:48:32.920972Z"
    }
   },
   "outputs": [
    {
     "data": {
      "text/plain": [
       "{'routes': {'another_new_route'}}"
      ]
     },
     "execution_count": 9,
     "metadata": {},
     "output_type": "execute_result"
    }
   ],
   "source": [
    "r.graph().nodes['490000235X.link:834']"
   ]
  },
  {
   "cell_type": "code",
   "execution_count": 10,
   "metadata": {
    "ExecuteTime": {
     "end_time": "2021-04-13T15:48:32.968353Z",
     "start_time": "2021-04-13T15:48:32.932297Z"
    }
   },
   "outputs": [
    {
     "name": "stderr",
     "output_type": "stream",
     "text": [
      "2021-04-13 16:48:32,947 - Added Route with index `another_new_route`, data={'route_short_name': 'N55', 'mode': 'bus', 'trips': {'trip_id': ['some_trip_1'], 'trip_departure_time': ['16:23:00'], 'vehicle_id': ['some_bus_2']}, 'arrival_offsets': ['00:00:00', '00:06:00'], 'departure_offsets': ['00:00:00', '00:06:00'], 'route_long_name': '', 'id': 'another_new_route', 'route': [], 'await_departure': [True, True], 'ordered_stops': ['490000235X.link:834', '490010689KB.link:981']} to Service `20274` within the Schedule\n"
     ]
    },
    {
     "data": {
      "text/plain": [
       "<Route instance at 4832910920: with 2 stops and 1 trips>"
      ]
     },
     "execution_count": 10,
     "metadata": {},
     "output_type": "execute_result"
    }
   ],
   "source": [
    "n.schedule.add_route('20274', r)"
   ]
  },
  {
   "cell_type": "code",
   "execution_count": 11,
   "metadata": {
    "ExecuteTime": {
     "end_time": "2021-04-13T15:48:32.987506Z",
     "start_time": "2021-04-13T15:48:32.975377Z"
    }
   },
   "outputs": [
    {
     "data": {
      "text/plain": [
       "{'services': {'14134', '18853', '20274'},\n",
       " 'routes': {'VJ12ba6089dfb2733e29c415a1a0015fef30fd5305',\n",
       "  'VJ256e98df611ff48afe737ddc81cbcde82e4e81c8',\n",
       "  'VJ2aba67e3ed98f2ed5f5966c1ac394cbf6d1943d7',\n",
       "  'VJ375a660d47a2aa570aa20a8568012da8497ffecf',\n",
       "  'VJ4e2b897edf0e7b8a8e3b5516ab43ce56f72c5cff',\n",
       "  'VJa7f37392e276aeac26c7e73bbc05e6a71af38dba',\n",
       "  'VJd78967364a302cf232c5139d40622dcb6c238c9e',\n",
       "  'VJdf3936da1a51eb33db594ef99738802c14b19995',\n",
       "  'VJf3e316e5e605bb512147dee2a989be5a82ef1b5f',\n",
       "  'VJf9a22035ae6f25bb420df833474943ad76065c89',\n",
       "  'another_new_route'},\n",
       " 'id': '490000235X.link:834',\n",
       " 'x': 529981.7958802709,\n",
       " 'y': 181412.0975758662,\n",
       " 'epsg': 'epsg:27700',\n",
       " 'name': 'Tottenham Court Road Station (Stop X)',\n",
       " 'lon': 51.51668503324075,\n",
       " 'lat': -0.12809598708996447,\n",
       " 's2_id': 2507584377443783851,\n",
       " 'additional_attributes': {'isBlocking', 'linkRefId', 'name'},\n",
       " 'linkRefId': '834',\n",
       " 'isBlocking': 'false'}"
      ]
     },
     "execution_count": 11,
     "metadata": {},
     "output_type": "execute_result"
    }
   ],
   "source": [
    "r.graph().nodes['490000235X.link:834']"
   ]
  },
  {
   "cell_type": "code",
   "execution_count": 12,
   "metadata": {
    "ExecuteTime": {
     "end_time": "2021-04-13T15:48:33.019180Z",
     "start_time": "2021-04-13T15:48:32.992206Z"
    }
   },
   "outputs": [
    {
     "name": "stderr",
     "output_type": "stream",
     "text": [
      "2021-04-13 16:48:33,010 - Added Route with index `another_new_route_2`, data={'route_short_name': 'N55', 'mode': 'bus', 'trips': {'trip_id': ['some_trip_1'], 'trip_departure_time': ['16:23:00'], 'vehicle_id': ['some_bus_2']}, 'arrival_offsets': ['00:00:00', '00:06:00'], 'departure_offsets': ['00:00:00', '00:06:00'], 'route_long_name': '', 'id': 'another_new_route_2', 'route': [], 'await_departure': [True, True], 'ordered_stops': ['490000235X.link:834', '490010689KB.link:981']} to Service `20274` within the Schedule\n"
     ]
    },
    {
     "data": {
      "text/plain": [
       "<Route instance at 4832703936: with 2 stops and 1 trips>"
      ]
     },
     "execution_count": 12,
     "metadata": {},
     "output_type": "execute_result"
    }
   ],
   "source": [
    "r = Route(\n",
    "    route_short_name='N55',\n",
    "    mode='bus',\n",
    "    trips={'trip_id': ['some_trip_1'], \n",
    "           'trip_departure_time': ['16:23:00'], \n",
    "           'vehicle_id': ['some_bus_2']},\n",
    "   arrival_offsets=['00:00:00', '00:06:00'],\n",
    "   departure_offsets=['00:00:00', '00:06:00'],\n",
    "   id='another_new_route_2',\n",
    "#    route= ['834', '1573', '3139', '3141', '574', '3154', '979', '980', '981'],\n",
    "   await_departure= [True, True],\n",
    "   stops=[n.schedule.stop('490000235X.link:834'), \n",
    "          n.schedule.stop('490010689KB.link:981')]\n",
    ")\n",
    "n.schedule.add_route('20274', r)"
   ]
  },
  {
   "cell_type": "markdown",
   "metadata": {},
   "source": [
    "Note that for a Schedule to be a valid MATSim network, each stop referred to by a route needs a `linkRefId` attribute which links the stop to the `Network`.\n",
    "\n",
    "Trying to add Stops with IDs already in the Schedule will result in an error, unless the `force=True` is set. The added route/service will inherit the data stored under those stops. The idea is that you can either specify the Stops in the route/service to be added correctly, or if they are to be changed, you use a dedicated method - check section 'Modifying data' below."
   ]
  },
  {
   "cell_type": "code",
   "execution_count": 13,
   "metadata": {
    "ExecuteTime": {
     "end_time": "2021-04-13T15:48:33.908883Z",
     "start_time": "2021-04-13T15:48:33.028781Z"
    }
   },
   "outputs": [
    {
     "name": "stderr",
     "output_type": "stream",
     "text": [
      "2021-04-13 16:48:33,897 - The following stops will inherit the data currently stored under those Stop IDs in the Schedule: ['490000235X.link:834', '490010689KB.link:981'].\n",
      "2021-04-13 16:48:33,903 - Added Route with index `another_new_route_3`, data={'route_short_name': 'N55', 'mode': 'bus', 'trips': {'trip_id': ['fun_trip_1', 'fun_trip_2'], 'trip_departure_time': ['03:53:00', '16:23:00'], 'vehicle_id': ['fun_bus_1', 'fun_bus_2']}, 'arrival_offsets': ['00:00:00', '00:02:00', '00:04:00', '00:06:00'], 'departure_offsets': ['00:00:00', '00:02:00', '00:04:00', '00:06:00'], 'route_long_name': '', 'id': 'another_new_route_3', 'route': [], 'await_departure': [True, True, True, True], 'ordered_stops': ['490000235X.link:834', 'new_stop', 'other_new_stop', '490010689KB.link:981']} to Service `20274` within the Schedule\n"
     ]
    },
    {
     "data": {
      "text/plain": [
       "<Route instance at 4832681040: with 4 stops and 2 trips>"
      ]
     },
     "execution_count": 13,
     "metadata": {},
     "output_type": "execute_result"
    }
   ],
   "source": [
    "route = Route(\n",
    "    route_short_name='N55',\n",
    "    mode='bus',\n",
    "    trips={'trip_id': ['fun_trip_1', 'fun_trip_2'], \n",
    "           'trip_departure_time': ['03:53:00', '16:23:00'], \n",
    "           'vehicle_id': ['fun_bus_1', 'fun_bus_2']},\n",
    "   arrival_offsets=['00:00:00', '00:02:00', '00:04:00', '00:06:00'],\n",
    "   departure_offsets=['00:00:00', '00:02:00', '00:04:00', '00:06:00'],\n",
    "   id='another_new_route_3',\n",
    "#    route= ['834', '1573', '3139', '3141', '574', '3154', '979', '980', '981'],\n",
    "   await_departure= [True, True, True, True],\n",
    "   stops=[\n",
    "       Stop(id='490000235X.link:834', x=529981, y=181412, epsg='epsg:27700'),\n",
    "       Stop(id='new_stop', x=529500, y=181300, epsg='epsg:27700', name='New Stop'),\n",
    "       Stop(id='other_new_stop', x=529502, y=181302, epsg='epsg:27700', name='Other New Stop'),\n",
    "       Stop(id='490010689KB.link:981', x=529166, y=181256, epsg='epsg:27700')\n",
    "   ]\n",
    ")\n",
    "\n",
    "n.schedule.add_route('20274', route, force=True)"
   ]
  },
  {
   "cell_type": "markdown",
   "metadata": {},
   "source": [
    "Note the message above: `The following stops will inherit the data currently stored under those Stop IDs in the Schedule: ['490000235X.link:834', '490010689KB.link:981'].`\n",
    "\n",
    "NOTE: adding routes and services results in new vehicles (unless you reuse the ones already in the Schedule---beware that the same vehicle cannot service multiple trips at the same time, genet does not currently have checks for this, the user needs to be mindful of the physics of shared vehicles). New vehicles need definitions, you can add them yourself to `schedule.vehicles['vehicle_id'] = {'type': 'bus'}` ensuring this vehicle type is defined in `schedule.vehicle_types['bus']`, or you can use a genet method to generate those vehicles, the type will be derived from the mode of the route. Then you can check if all of the types that vehicles are referring to have definitions."
   ]
  },
  {
   "cell_type": "code",
   "execution_count": 14,
   "metadata": {
    "ExecuteTime": {
     "end_time": "2021-04-13T15:48:33.917161Z",
     "start_time": "2021-04-13T15:48:33.912688Z"
    }
   },
   "outputs": [
    {
     "data": {
      "text/plain": [
       "13290"
      ]
     },
     "execution_count": 14,
     "metadata": {},
     "output_type": "execute_result"
    }
   ],
   "source": [
    "len(n.schedule.vehicles)"
   ]
  },
  {
   "cell_type": "code",
   "execution_count": 15,
   "metadata": {
    "ExecuteTime": {
     "end_time": "2021-04-13T15:48:34.330117Z",
     "start_time": "2021-04-13T15:48:33.923569Z"
    }
   },
   "outputs": [
    {
     "name": "stderr",
     "output_type": "stream",
     "text": [
      "/Users/kasia.kozlowska/PycharmProjects/ABM/genet/genet/schedule_elements.py:1232: UserWarning: DataFrame columns are not unique, some columns will be omitted.\n",
      "  self.vehicles = {**df.T.to_dict(), **self.vehicles}\n"
     ]
    }
   ],
   "source": [
    "n.schedule.generate_vehicles()"
   ]
  },
  {
   "cell_type": "code",
   "execution_count": 16,
   "metadata": {
    "ExecuteTime": {
     "end_time": "2021-04-13T15:48:34.367939Z",
     "start_time": "2021-04-13T15:48:34.336890Z"
    }
   },
   "outputs": [
    {
     "data": {
      "text/plain": [
       "True"
      ]
     },
     "execution_count": 16,
     "metadata": {},
     "output_type": "execute_result"
    }
   ],
   "source": [
    "n.schedule.validate_vehicle_definitions()"
   ]
  },
  {
   "cell_type": "code",
   "execution_count": 17,
   "metadata": {
    "ExecuteTime": {
     "end_time": "2021-04-13T15:48:34.378681Z",
     "start_time": "2021-04-13T15:48:34.370762Z"
    }
   },
   "outputs": [
    {
     "data": {
      "text/plain": [
       "13293"
      ]
     },
     "execution_count": 17,
     "metadata": {},
     "output_type": "execute_result"
    }
   ],
   "source": [
    "len(n.schedule.vehicles)"
   ]
  },
  {
   "cell_type": "code",
   "execution_count": 18,
   "metadata": {
    "ExecuteTime": {
     "end_time": "2021-04-13T15:48:34.415725Z",
     "start_time": "2021-04-13T15:48:34.388697Z"
    }
   },
   "outputs": [
    {
     "data": {
      "text/html": [
       "<div>\n",
       "<style scoped>\n",
       "    .dataframe tbody tr th:only-of-type {\n",
       "        vertical-align: middle;\n",
       "    }\n",
       "\n",
       "    .dataframe tbody tr th {\n",
       "        vertical-align: top;\n",
       "    }\n",
       "\n",
       "    .dataframe thead th {\n",
       "        text-align: right;\n",
       "    }\n",
       "</style>\n",
       "<table border=\"1\" class=\"dataframe\">\n",
       "  <thead>\n",
       "    <tr style=\"text-align: right;\">\n",
       "      <th></th>\n",
       "      <th>timestamp</th>\n",
       "      <th>change_event</th>\n",
       "      <th>object_type</th>\n",
       "      <th>old_id</th>\n",
       "      <th>new_id</th>\n",
       "      <th>old_attributes</th>\n",
       "      <th>new_attributes</th>\n",
       "      <th>diff</th>\n",
       "    </tr>\n",
       "  </thead>\n",
       "  <tbody>\n",
       "    <tr>\n",
       "      <th>0</th>\n",
       "      <td>2021-04-13 16:48:32</td>\n",
       "      <td>add</td>\n",
       "      <td>service</td>\n",
       "      <td>None</td>\n",
       "      <td>new_service</td>\n",
       "      <td>None</td>\n",
       "      <td>{'id': 'new_service', 'name': 'N55'}</td>\n",
       "      <td>[(add, , [('id', 'new_service'), ('name', 'N55...</td>\n",
       "    </tr>\n",
       "    <tr>\n",
       "      <th>1</th>\n",
       "      <td>2021-04-13 16:48:32</td>\n",
       "      <td>add</td>\n",
       "      <td>route</td>\n",
       "      <td>None</td>\n",
       "      <td>20274_4</td>\n",
       "      <td>None</td>\n",
       "      <td>{'route_short_name': 'N55', 'mode': 'bus', 'tr...</td>\n",
       "      <td>[(add, , [('route_short_name', 'N55'), ('mode'...</td>\n",
       "    </tr>\n",
       "    <tr>\n",
       "      <th>2</th>\n",
       "      <td>2021-04-13 16:48:32</td>\n",
       "      <td>add</td>\n",
       "      <td>route</td>\n",
       "      <td>None</td>\n",
       "      <td>another_new_route</td>\n",
       "      <td>None</td>\n",
       "      <td>{'route_short_name': 'N55', 'mode': 'bus', 'tr...</td>\n",
       "      <td>[(add, , [('route_short_name', 'N55'), ('mode'...</td>\n",
       "    </tr>\n",
       "    <tr>\n",
       "      <th>3</th>\n",
       "      <td>2021-04-13 16:48:32</td>\n",
       "      <td>add</td>\n",
       "      <td>route</td>\n",
       "      <td>None</td>\n",
       "      <td>another_new_route_2</td>\n",
       "      <td>None</td>\n",
       "      <td>{'route_short_name': 'N55', 'mode': 'bus', 'tr...</td>\n",
       "      <td>[(add, , [('route_short_name', 'N55'), ('mode'...</td>\n",
       "    </tr>\n",
       "    <tr>\n",
       "      <th>4</th>\n",
       "      <td>2021-04-13 16:48:33</td>\n",
       "      <td>add</td>\n",
       "      <td>route</td>\n",
       "      <td>None</td>\n",
       "      <td>another_new_route_3</td>\n",
       "      <td>None</td>\n",
       "      <td>{'route_short_name': 'N55', 'mode': 'bus', 'tr...</td>\n",
       "      <td>[(add, , [('route_short_name', 'N55'), ('mode'...</td>\n",
       "    </tr>\n",
       "  </tbody>\n",
       "</table>\n",
       "</div>"
      ],
      "text/plain": [
       "             timestamp change_event object_type old_id               new_id  \\\n",
       "0  2021-04-13 16:48:32          add     service   None          new_service   \n",
       "1  2021-04-13 16:48:32          add       route   None              20274_4   \n",
       "2  2021-04-13 16:48:32          add       route   None    another_new_route   \n",
       "3  2021-04-13 16:48:32          add       route   None  another_new_route_2   \n",
       "4  2021-04-13 16:48:33          add       route   None  another_new_route_3   \n",
       "\n",
       "  old_attributes                                     new_attributes  \\\n",
       "0           None               {'id': 'new_service', 'name': 'N55'}   \n",
       "1           None  {'route_short_name': 'N55', 'mode': 'bus', 'tr...   \n",
       "2           None  {'route_short_name': 'N55', 'mode': 'bus', 'tr...   \n",
       "3           None  {'route_short_name': 'N55', 'mode': 'bus', 'tr...   \n",
       "4           None  {'route_short_name': 'N55', 'mode': 'bus', 'tr...   \n",
       "\n",
       "                                                diff  \n",
       "0  [(add, , [('id', 'new_service'), ('name', 'N55...  \n",
       "1  [(add, , [('route_short_name', 'N55'), ('mode'...  \n",
       "2  [(add, , [('route_short_name', 'N55'), ('mode'...  \n",
       "3  [(add, , [('route_short_name', 'N55'), ('mode'...  \n",
       "4  [(add, , [('route_short_name', 'N55'), ('mode'...  "
      ]
     },
     "execution_count": 18,
     "metadata": {},
     "output_type": "execute_result"
    }
   ],
   "source": [
    "n.schedule.change_log().tail()"
   ]
  },
  {
   "cell_type": "markdown",
   "metadata": {},
   "source": [
    "There are no methods to add `Stop` objects on their own. They are added to the Schedule with `Route` and `Service` objects."
   ]
  },
  {
   "cell_type": "markdown",
   "metadata": {},
   "source": [
    "### Routing added Services/Routes\n",
    "\n",
    "You can use a method in GeNet to relate the Stops of PT services and find network routes between them. First you need to know the ID of the Service you want to snap (you can also snap the entire schedule, but depending on the size and complexity of your network and schedule it might take a long time). GeNet will then relate all stops in that service to a link in the Network graph and route all of the `Route`s of the `Service` object. It will do this for directed subsets (subgraphs) of the Service (e.g. if you have a Northbound and Southboud service, the stops may have to find different links in the graph)"
   ]
  },
  {
   "cell_type": "code",
   "execution_count": 19,
   "metadata": {
    "ExecuteTime": {
     "end_time": "2021-04-13T15:48:34.440913Z",
     "start_time": "2021-04-13T15:48:34.417595Z"
    }
   },
   "outputs": [
    {
     "data": {
      "text/plain": [
       "[]"
      ]
     },
     "execution_count": 19,
     "metadata": {},
     "output_type": "execute_result"
    }
   ],
   "source": [
    "n.schedule['new_service'].route('new_route').route"
   ]
  },
  {
   "cell_type": "code",
   "execution_count": 20,
   "metadata": {
    "ExecuteTime": {
     "end_time": "2021-04-13T15:48:34.460651Z",
     "start_time": "2021-04-13T15:48:34.448481Z"
    }
   },
   "outputs": [
    {
     "data": {
      "text/plain": [
       "NodeView(('490010689KB', '490000235X', 'other_new_stop', 'new_stop'))"
      ]
     },
     "execution_count": 20,
     "metadata": {},
     "output_type": "execute_result"
    }
   ],
   "source": [
    "n.schedule['new_service'].route('new_route').graph().nodes()"
   ]
  },
  {
   "cell_type": "code",
   "execution_count": 21,
   "metadata": {
    "ExecuteTime": {
     "end_time": "2021-04-13T15:48:39.267604Z",
     "start_time": "2021-04-13T15:48:34.463726Z"
    }
   },
   "outputs": [
    {
     "name": "stderr",
     "output_type": "stream",
     "text": [
      "/Users/kasia.kozlowska/pycharm_venvs/genet/lib/python3.7/site-packages/pyproj/crs/crs.py:53: FutureWarning: '+init=<authority>:<code>' syntax is deprecated. '<authority>:<code>' is the preferred initialization method. When making the change, be mindful of axis order changes: https://pyproj4.github.io/pyproj/stable/gotchas.html#axis-order-changes-in-proj-6\n",
      "  return _prepare_from_string(\" \".join(pjargs))\n",
      "2021-04-13 16:48:36,587 - Building Maximum Stable Set for PT graph with 4 stops and 3 edges\n",
      "2021-04-13 16:48:38,412 - This Maximum Stable Set Problem is partially viable.\n",
      "2021-04-13 16:48:38,413 - Maximum Stable Set problem to snap the PT graph to the network is partially viable, meaning not all stops have found a link to snap to within the distance_threshold.Partial snapping is ON, this problem will proceed to the solver.\n",
      "2021-04-13 16:48:38,413 - Passing problem to solver\n",
      "2021-04-13 16:48:38,415 - Initializing ordered Set vertices with a fundamentally unordered data source (type: set).  This WILL potentially lead to nondeterministic behavior in Pyomo\n",
      "2021-04-13 16:48:38,420 - Passing problem to solver\n",
      "2021-04-13 16:48:38,941 - Successfully snapped 3 stops to network links.\n",
      "/Users/kasia.kozlowska/PycharmProjects/ABM/genet/genet/max_stable_set.py:410: SettingWithCopyWarning: \n",
      "A value is trying to be set on a copy of a slice from a DataFrame.\n",
      "Try using .loc[row_indexer,col_indexer] = value instead\n",
      "\n",
      "See the caveats in the documentation: https://pandas.pydata.org/pandas-docs/stable/user_guide/indexing.html#returning-a-view-versus-a-copy\n",
      "  lambda x: max_stable_set.routed_path(x))\n",
      "/Users/kasia.kozlowska/PycharmProjects/ABM/genet/genet/max_stable_set.py:413: SettingWithCopyWarning: \n",
      "A value is trying to be set on a copy of a slice from a DataFrame.\n",
      "Try using .loc[row_indexer,col_indexer] = value instead\n",
      "\n",
      "See the caveats in the documentation: https://pandas.pydata.org/pandas-docs/stable/user_guide/indexing.html#returning-a-view-versus-a-copy\n",
      "  lambda x: [map[stop] for stop in x])\n",
      "2021-04-13 16:48:38,963 - Stop ID changes detected for Routes: {'new_route'}\n",
      "2021-04-13 16:48:38,966 - Changed Route attributes for 1 routes\n",
      "2021-04-13 16:48:38,973 - Added 1 nodes\n",
      "2021-04-13 16:48:39,238 - Generated 0 link ids.\n",
      "2021-04-13 16:48:39,245 - Added 2 links\n",
      "2021-04-13 16:48:39,251 - Changed Link attributes for 4 links\n"
     ]
    }
   ],
   "source": [
    "n.route_service('new_service')"
   ]
  },
  {
   "cell_type": "code",
   "execution_count": 22,
   "metadata": {
    "ExecuteTime": {
     "end_time": "2021-04-13T15:48:39.278860Z",
     "start_time": "2021-04-13T15:48:39.269417Z"
    }
   },
   "outputs": [
    {
     "data": {
      "text/plain": [
       "['artificial_link===from:490000235X===to:490000235X',\n",
       " 'artificial_link===from:490000235X===to:9521035',\n",
       " '3154',\n",
       " '979',\n",
       " '980',\n",
       " '981']"
      ]
     },
     "execution_count": 22,
     "metadata": {},
     "output_type": "execute_result"
    }
   ],
   "source": [
    "n.schedule['new_service'].route('new_route').route"
   ]
  },
  {
   "cell_type": "markdown",
   "metadata": {},
   "source": [
    "There are a lot of other parameters you can add to this method, that give you a bit more control. For example you can vary the threshold for snapping stops to links (there are two parameters, the overall threshold and a step size; when snapping, the search area for links increases in steps until some links are found, we don't use the threshold right away because we don't want to have too many choices for snapping (makes it a little less heavy computationally)), or specify additional modes (when snapping, genet will consider a modal subset of the network that matches the pt service, e.g. bus, but you might want to use links that allow cars too). \n",
    "\n",
    "Check the method's doc string for up to date details."
   ]
  },
  {
   "cell_type": "markdown",
   "metadata": {},
   "source": [
    "## Reindexing"
   ]
  },
  {
   "cell_type": "code",
   "execution_count": 23,
   "metadata": {
    "ExecuteTime": {
     "end_time": "2021-04-13T15:48:39.294472Z",
     "start_time": "2021-04-13T15:48:39.284157Z"
    }
   },
   "outputs": [
    {
     "name": "stderr",
     "output_type": "stream",
     "text": [
      "2021-04-13 16:48:39,291 - Reindexed Service from new_service to more_appropriate_id\n"
     ]
    }
   ],
   "source": [
    "n.schedule['new_service'].reindex(new_id='more_appropriate_id')"
   ]
  },
  {
   "cell_type": "code",
   "execution_count": 24,
   "metadata": {
    "ExecuteTime": {
     "end_time": "2021-04-13T15:48:39.308100Z",
     "start_time": "2021-04-13T15:48:39.299317Z"
    }
   },
   "outputs": [
    {
     "name": "stderr",
     "output_type": "stream",
     "text": [
      "2021-04-13 16:48:39,306 - Reindexed Route from new_route to more_appropriate_route_id\n"
     ]
    }
   ],
   "source": [
    "n.schedule.route('new_route').reindex(new_id='more_appropriate_route_id')"
   ]
  },
  {
   "cell_type": "code",
   "execution_count": 25,
   "metadata": {
    "ExecuteTime": {
     "end_time": "2021-04-13T15:48:39.330074Z",
     "start_time": "2021-04-13T15:48:39.311873Z"
    }
   },
   "outputs": [
    {
     "data": {
      "text/html": [
       "<div>\n",
       "<style scoped>\n",
       "    .dataframe tbody tr th:only-of-type {\n",
       "        vertical-align: middle;\n",
       "    }\n",
       "\n",
       "    .dataframe tbody tr th {\n",
       "        vertical-align: top;\n",
       "    }\n",
       "\n",
       "    .dataframe thead th {\n",
       "        text-align: right;\n",
       "    }\n",
       "</style>\n",
       "<table border=\"1\" class=\"dataframe\">\n",
       "  <thead>\n",
       "    <tr style=\"text-align: right;\">\n",
       "      <th></th>\n",
       "      <th>timestamp</th>\n",
       "      <th>change_event</th>\n",
       "      <th>object_type</th>\n",
       "      <th>old_id</th>\n",
       "      <th>new_id</th>\n",
       "      <th>old_attributes</th>\n",
       "      <th>new_attributes</th>\n",
       "      <th>diff</th>\n",
       "    </tr>\n",
       "  </thead>\n",
       "  <tbody>\n",
       "    <tr>\n",
       "      <th>3</th>\n",
       "      <td>2021-04-13 16:48:32</td>\n",
       "      <td>add</td>\n",
       "      <td>route</td>\n",
       "      <td>None</td>\n",
       "      <td>another_new_route_2</td>\n",
       "      <td>None</td>\n",
       "      <td>{'route_short_name': 'N55', 'mode': 'bus', 'tr...</td>\n",
       "      <td>[(add, , [('route_short_name', 'N55'), ('mode'...</td>\n",
       "    </tr>\n",
       "    <tr>\n",
       "      <th>4</th>\n",
       "      <td>2021-04-13 16:48:33</td>\n",
       "      <td>add</td>\n",
       "      <td>route</td>\n",
       "      <td>None</td>\n",
       "      <td>another_new_route_3</td>\n",
       "      <td>None</td>\n",
       "      <td>{'route_short_name': 'N55', 'mode': 'bus', 'tr...</td>\n",
       "      <td>[(add, , [('route_short_name', 'N55'), ('mode'...</td>\n",
       "    </tr>\n",
       "    <tr>\n",
       "      <th>5</th>\n",
       "      <td>2021-04-13 16:48:38</td>\n",
       "      <td>modify</td>\n",
       "      <td>route</td>\n",
       "      <td>new_route</td>\n",
       "      <td>new_route</td>\n",
       "      <td>{'route_short_name': 'N55', 'mode': 'bus', 'tr...</td>\n",
       "      <td>{'route_short_name': 'N55', 'mode': 'bus', 'tr...</td>\n",
       "      <td>[(add, route, [(0, 'artificial_link===from:490...</td>\n",
       "    </tr>\n",
       "    <tr>\n",
       "      <th>6</th>\n",
       "      <td>2021-04-13 16:48:39</td>\n",
       "      <td>modify</td>\n",
       "      <td>service</td>\n",
       "      <td>new_service</td>\n",
       "      <td>more_appropriate_id</td>\n",
       "      <td>{'id': 'new_service'}</td>\n",
       "      <td>{'id': 'more_appropriate_id'}</td>\n",
       "      <td>[(change, id, (new_service, more_appropriate_i...</td>\n",
       "    </tr>\n",
       "    <tr>\n",
       "      <th>7</th>\n",
       "      <td>2021-04-13 16:48:39</td>\n",
       "      <td>modify</td>\n",
       "      <td>route</td>\n",
       "      <td>new_route</td>\n",
       "      <td>more_appropriate_route_id</td>\n",
       "      <td>{'id': 'new_route'}</td>\n",
       "      <td>{'id': 'more_appropriate_route_id'}</td>\n",
       "      <td>[(change, id, (new_route, more_appropriate_rou...</td>\n",
       "    </tr>\n",
       "  </tbody>\n",
       "</table>\n",
       "</div>"
      ],
      "text/plain": [
       "             timestamp change_event object_type       old_id  \\\n",
       "3  2021-04-13 16:48:32          add       route         None   \n",
       "4  2021-04-13 16:48:33          add       route         None   \n",
       "5  2021-04-13 16:48:38       modify       route    new_route   \n",
       "6  2021-04-13 16:48:39       modify     service  new_service   \n",
       "7  2021-04-13 16:48:39       modify       route    new_route   \n",
       "\n",
       "                      new_id  \\\n",
       "3        another_new_route_2   \n",
       "4        another_new_route_3   \n",
       "5                  new_route   \n",
       "6        more_appropriate_id   \n",
       "7  more_appropriate_route_id   \n",
       "\n",
       "                                      old_attributes  \\\n",
       "3                                               None   \n",
       "4                                               None   \n",
       "5  {'route_short_name': 'N55', 'mode': 'bus', 'tr...   \n",
       "6                              {'id': 'new_service'}   \n",
       "7                                {'id': 'new_route'}   \n",
       "\n",
       "                                      new_attributes  \\\n",
       "3  {'route_short_name': 'N55', 'mode': 'bus', 'tr...   \n",
       "4  {'route_short_name': 'N55', 'mode': 'bus', 'tr...   \n",
       "5  {'route_short_name': 'N55', 'mode': 'bus', 'tr...   \n",
       "6                      {'id': 'more_appropriate_id'}   \n",
       "7                {'id': 'more_appropriate_route_id'}   \n",
       "\n",
       "                                                diff  \n",
       "3  [(add, , [('route_short_name', 'N55'), ('mode'...  \n",
       "4  [(add, , [('route_short_name', 'N55'), ('mode'...  \n",
       "5  [(add, route, [(0, 'artificial_link===from:490...  \n",
       "6  [(change, id, (new_service, more_appropriate_i...  \n",
       "7  [(change, id, (new_route, more_appropriate_rou...  "
      ]
     },
     "execution_count": 25,
     "metadata": {},
     "output_type": "execute_result"
    }
   ],
   "source": [
    "n.schedule.change_log().tail()"
   ]
  },
  {
   "cell_type": "markdown",
   "metadata": {},
   "source": [
    "## Removing Stops, Routes, Services"
   ]
  },
  {
   "cell_type": "code",
   "execution_count": 26,
   "metadata": {
    "ExecuteTime": {
     "end_time": "2021-04-13T15:48:39.346834Z",
     "start_time": "2021-04-13T15:48:39.332046Z"
    }
   },
   "outputs": [
    {
     "name": "stderr",
     "output_type": "stream",
     "text": [
      "2021-04-13 16:48:39,344 - Removed Service with index `more_appropriate_id`, data={'id': 'more_appropriate_id', 'name': 'N55'} and Routes: {'more_appropriate_route_id'}\n"
     ]
    }
   ],
   "source": [
    "n.schedule.remove_service('more_appropriate_id')"
   ]
  },
  {
   "cell_type": "code",
   "execution_count": 27,
   "metadata": {
    "ExecuteTime": {
     "end_time": "2021-04-13T15:48:39.374663Z",
     "start_time": "2021-04-13T15:48:39.352816Z"
    }
   },
   "outputs": [
    {
     "name": "stderr",
     "output_type": "stream",
     "text": [
      "2021-04-13 16:48:39,360 - Removed Route with index `another_new_route_3`, data={'route_short_name': 'N55', 'mode': 'bus', 'trips': {'trip_id': ['fun_trip_1', 'fun_trip_2'], 'trip_departure_time': ['03:53:00', '16:23:00'], 'vehicle_id': ['fun_bus_1', 'fun_bus_2']}, 'arrival_offsets': ['00:00:00', '00:02:00', '00:04:00', '00:06:00'], 'departure_offsets': ['00:00:00', '00:02:00', '00:04:00', '00:06:00'], 'route_long_name': '', 'id': 'another_new_route_3', 'route': [], 'await_departure': [True, True, True, True], 'ordered_stops': ['490000235X.link:834', 'new_stop', 'other_new_stop', '490010689KB.link:981']}. It was linked to Service `20274`.\n",
      "2021-04-13 16:48:39,365 - Removed Route with index `another_new_route`, data={'route_short_name': 'N55', 'mode': 'bus', 'trips': {'trip_id': ['some_trip_1'], 'trip_departure_time': ['16:23:00'], 'vehicle_id': ['some_bus_2']}, 'arrival_offsets': ['00:00:00', '00:06:00'], 'departure_offsets': ['00:00:00', '00:06:00'], 'route_long_name': '', 'id': 'another_new_route', 'route': [], 'await_departure': [True, True], 'ordered_stops': ['490000235X.link:834', '490010689KB.link:981']}. It was linked to Service `20274`.\n",
      "2021-04-13 16:48:39,372 - Removed Route with index `another_new_route_2`, data={'route_short_name': 'N55', 'mode': 'bus', 'trips': {'trip_id': ['some_trip_1'], 'trip_departure_time': ['16:23:00'], 'vehicle_id': ['some_bus_2']}, 'arrival_offsets': ['00:00:00', '00:06:00'], 'departure_offsets': ['00:00:00', '00:06:00'], 'route_long_name': '', 'id': 'another_new_route_2', 'route': [], 'await_departure': [True, True], 'ordered_stops': ['490000235X.link:834', '490010689KB.link:981']}. It was linked to Service `20274`.\n"
     ]
    }
   ],
   "source": [
    "for route_id in {'another_new_route', 'another_new_route_2', 'another_new_route_3'}:\n",
    "    n.schedule.remove_route(route_id)"
   ]
  },
  {
   "cell_type": "code",
   "execution_count": 28,
   "metadata": {
    "ExecuteTime": {
     "end_time": "2021-04-13T15:48:39.403808Z",
     "start_time": "2021-04-13T15:48:39.376183Z"
    }
   },
   "outputs": [
    {
     "data": {
      "text/html": [
       "<div>\n",
       "<style scoped>\n",
       "    .dataframe tbody tr th:only-of-type {\n",
       "        vertical-align: middle;\n",
       "    }\n",
       "\n",
       "    .dataframe tbody tr th {\n",
       "        vertical-align: top;\n",
       "    }\n",
       "\n",
       "    .dataframe thead th {\n",
       "        text-align: right;\n",
       "    }\n",
       "</style>\n",
       "<table border=\"1\" class=\"dataframe\">\n",
       "  <thead>\n",
       "    <tr style=\"text-align: right;\">\n",
       "      <th></th>\n",
       "      <th>timestamp</th>\n",
       "      <th>change_event</th>\n",
       "      <th>object_type</th>\n",
       "      <th>old_id</th>\n",
       "      <th>new_id</th>\n",
       "      <th>old_attributes</th>\n",
       "      <th>new_attributes</th>\n",
       "      <th>diff</th>\n",
       "    </tr>\n",
       "  </thead>\n",
       "  <tbody>\n",
       "    <tr>\n",
       "      <th>7</th>\n",
       "      <td>2021-04-13 16:48:39</td>\n",
       "      <td>modify</td>\n",
       "      <td>route</td>\n",
       "      <td>new_route</td>\n",
       "      <td>more_appropriate_route_id</td>\n",
       "      <td>{'id': 'new_route'}</td>\n",
       "      <td>{'id': 'more_appropriate_route_id'}</td>\n",
       "      <td>[(change, id, (new_route, more_appropriate_rou...</td>\n",
       "    </tr>\n",
       "    <tr>\n",
       "      <th>8</th>\n",
       "      <td>2021-04-13 16:48:39</td>\n",
       "      <td>remove</td>\n",
       "      <td>service</td>\n",
       "      <td>more_appropriate_id</td>\n",
       "      <td>None</td>\n",
       "      <td>{'id': 'more_appropriate_id', 'name': 'N55'}</td>\n",
       "      <td>None</td>\n",
       "      <td>[(remove, , [('id', 'more_appropriate_id'), ('...</td>\n",
       "    </tr>\n",
       "    <tr>\n",
       "      <th>9</th>\n",
       "      <td>2021-04-13 16:48:39</td>\n",
       "      <td>remove</td>\n",
       "      <td>route</td>\n",
       "      <td>another_new_route_3</td>\n",
       "      <td>None</td>\n",
       "      <td>{'route_short_name': 'N55', 'mode': 'bus', 'tr...</td>\n",
       "      <td>None</td>\n",
       "      <td>[(remove, , [('route_short_name', 'N55'), ('mo...</td>\n",
       "    </tr>\n",
       "    <tr>\n",
       "      <th>10</th>\n",
       "      <td>2021-04-13 16:48:39</td>\n",
       "      <td>remove</td>\n",
       "      <td>route</td>\n",
       "      <td>another_new_route</td>\n",
       "      <td>None</td>\n",
       "      <td>{'route_short_name': 'N55', 'mode': 'bus', 'tr...</td>\n",
       "      <td>None</td>\n",
       "      <td>[(remove, , [('route_short_name', 'N55'), ('mo...</td>\n",
       "    </tr>\n",
       "    <tr>\n",
       "      <th>11</th>\n",
       "      <td>2021-04-13 16:48:39</td>\n",
       "      <td>remove</td>\n",
       "      <td>route</td>\n",
       "      <td>another_new_route_2</td>\n",
       "      <td>None</td>\n",
       "      <td>{'route_short_name': 'N55', 'mode': 'bus', 'tr...</td>\n",
       "      <td>None</td>\n",
       "      <td>[(remove, , [('route_short_name', 'N55'), ('mo...</td>\n",
       "    </tr>\n",
       "  </tbody>\n",
       "</table>\n",
       "</div>"
      ],
      "text/plain": [
       "              timestamp change_event object_type               old_id  \\\n",
       "7   2021-04-13 16:48:39       modify       route            new_route   \n",
       "8   2021-04-13 16:48:39       remove     service  more_appropriate_id   \n",
       "9   2021-04-13 16:48:39       remove       route  another_new_route_3   \n",
       "10  2021-04-13 16:48:39       remove       route    another_new_route   \n",
       "11  2021-04-13 16:48:39       remove       route  another_new_route_2   \n",
       "\n",
       "                       new_id  \\\n",
       "7   more_appropriate_route_id   \n",
       "8                        None   \n",
       "9                        None   \n",
       "10                       None   \n",
       "11                       None   \n",
       "\n",
       "                                       old_attributes  \\\n",
       "7                                 {'id': 'new_route'}   \n",
       "8        {'id': 'more_appropriate_id', 'name': 'N55'}   \n",
       "9   {'route_short_name': 'N55', 'mode': 'bus', 'tr...   \n",
       "10  {'route_short_name': 'N55', 'mode': 'bus', 'tr...   \n",
       "11  {'route_short_name': 'N55', 'mode': 'bus', 'tr...   \n",
       "\n",
       "                         new_attributes  \\\n",
       "7   {'id': 'more_appropriate_route_id'}   \n",
       "8                                  None   \n",
       "9                                  None   \n",
       "10                                 None   \n",
       "11                                 None   \n",
       "\n",
       "                                                 diff  \n",
       "7   [(change, id, (new_route, more_appropriate_rou...  \n",
       "8   [(remove, , [('id', 'more_appropriate_id'), ('...  \n",
       "9   [(remove, , [('route_short_name', 'N55'), ('mo...  \n",
       "10  [(remove, , [('route_short_name', 'N55'), ('mo...  \n",
       "11  [(remove, , [('route_short_name', 'N55'), ('mo...  "
      ]
     },
     "execution_count": 28,
     "metadata": {},
     "output_type": "execute_result"
    }
   ],
   "source": [
    "n.schedule.change_log().tail()"
   ]
  },
  {
   "cell_type": "markdown",
   "metadata": {},
   "source": [
    "You can also remove `Stop`s. This will disconnect `Route`s and `Service`s using that `Stop`s and likely render them invalid. The method will warn you which `Route`s and `Servce`s are affected."
   ]
  },
  {
   "cell_type": "code",
   "execution_count": 29,
   "metadata": {
    "ExecuteTime": {
     "end_time": "2021-04-13T15:48:39.448350Z",
     "start_time": "2021-04-13T15:48:39.414192Z"
    }
   },
   "outputs": [
    {
     "name": "stderr",
     "output_type": "stream",
     "text": [
      "2021-04-13 16:48:39,432 - Removed Stop with index `new_stop`, data={'id': 'new_stop', 'x': 529500.0, 'y': 181300.0, 'epsg': 'epsg:27700', 'name': 'New Stop', 'lon': -0.1350768098744082, 'lat': 51.51578819710296, 's2_id': 5221390696585158415, 'additional_attributes': set()}. Routes affected: {'20274_4'}. Services affected: {'20274'}.\n"
     ]
    }
   ],
   "source": [
    "n.schedule.remove_stop('new_stop')"
   ]
  },
  {
   "cell_type": "markdown",
   "metadata": {},
   "source": [
    "You can also remove `Stop`s. This will disconnect `Route`s and `Service`s using that `Stop`s and likely render them invalid. The method will warn you which `Route`s and `Servce`s are affected."
   ]
  },
  {
   "cell_type": "code",
   "execution_count": 30,
   "metadata": {
    "ExecuteTime": {
     "end_time": "2021-04-13T15:48:39.913985Z",
     "start_time": "2021-04-13T15:48:39.459786Z"
    }
   },
   "outputs": [
    {
     "name": "stderr",
     "output_type": "stream",
     "text": [
      "2021-04-13 16:48:39,469 - Removed Stop with index `490011126K`, data={'id': '490011126K', 'x': 528774.7671302322, 'y': 181814.3378378136, 'name': 'Portland Place (Stop K)', 'isBlocking': 'false', 'epsg': 'epsg:27700'}. Routes affected: set(). Services affected: set().\n",
      "2021-04-13 16:48:39,486 - Removed Stop with index `490000173RD`, data={'id': '490000173RD', 'x': 528966.7250584327, 'y': 181417.2797308719, 'name': 'Margaret Street Oxford Circus (Stop RD)', 'isBlocking': 'false', 'epsg': 'epsg:27700'}. Routes affected: set(). Services affected: set().\n",
      "2021-04-13 16:48:39,496 - Removed Stop with index `490000235N`, data={'id': '490000235N', 'x': 529940.7342809836, 'y': 181337.27121022658, 'name': 'Tottenham Court Road Station (Stop T)', 'isBlocking': 'false', 'epsg': 'epsg:27700'}. Routes affected: set(). Services affected: set().\n",
      "2021-04-13 16:48:39,510 - Removed Stop with index `9400ZZLUGPS2`, data={'id': '9400ZZLUGPS2', 'x': 528862.3135234541, 'y': 182194.44889770175, 'name': 'Great Portland Street Underground Station', 'stopAreaId': '940GZZLUGPS', 'isBlocking': 'false', 'epsg': 'epsg:27700'}. Routes affected: set(). Services affected: set().\n",
      "2021-04-13 16:48:39,522 - Removed Stop with index `9400ZZLUWRR4`, data={'id': '9400ZZLUWRR4', 'x': 529225.7792770677, 'y': 182210.46930065827, 'name': 'Warren Street Underground Station', 'stopAreaId': '940GZZLUWRR', 'isBlocking': 'false', 'epsg': 'epsg:27700'}. Routes affected: set(). Services affected: set().\n",
      "2021-04-13 16:48:39,528 - Removed Stop with index `9400ZZLURGP1`, data={'id': '9400ZZLURGP1', 'x': 528702.7858144796, 'y': 182099.04783399682, 'name': \"Regent's Park Underground Station\", 'stopAreaId': '940GZZLURGP', 'isBlocking': 'false', 'epsg': 'epsg:27700'}. Routes affected: set(). Services affected: set().\n",
      "2021-04-13 16:48:39,537 - Removed Stop with index `9400ZZLUOXC1`, data={'id': '9400ZZLUOXC1', 'x': 529066.7447596977, 'y': 181243.22498975584, 'name': 'Oxford Circus Underground Station', 'stopAreaId': '940GZZLUOXC', 'isBlocking': 'false', 'epsg': 'epsg:27700'}. Routes affected: set(). Services affected: set().\n",
      "2021-04-13 16:48:39,544 - Removed Stop with index `9400ZZLUTCR1`, data={'id': '9400ZZLUTCR1', 'x': 529744.7467207713, 'y': 181375.10469678615, 'name': 'Tottenham Court Road Underground Station', 'stopAreaId': '940GZZLUTCR', 'isBlocking': 'false', 'epsg': 'epsg:27700'}. Routes affected: set(). Services affected: set().\n",
      "2021-04-13 16:48:39,552 - Removed Stop with index `490000252S`, data={'id': '490000252S', 'x': 529222.7900227709, 'y': 182423.4864806903, 'name': 'Drummond Street (Stop S)', 'isBlocking': 'false', 'epsg': 'epsg:27700'}. Routes affected: set(). Services affected: set().\n",
      "2021-04-13 16:48:39,561 - Removed Stop with index `9400ZZLUTCR4`, data={'id': '9400ZZLUTCR4', 'x': 529825.787229313, 'y': 181325.43110254267, 'name': 'Tottenham Court Road Underground Station', 'stopAreaId': '940GZZLUTCR', 'isBlocking': 'false', 'epsg': 'epsg:27700'}. Routes affected: set(). Services affected: set().\n",
      "2021-04-13 16:48:39,573 - Removed Stop with index `490000091F`, data={'id': '490000091F', 'x': 528839.7441194298, 'y': 182137.34852809936, 'name': 'Great Portland Street (Stop F)', 'isBlocking': 'false', 'epsg': 'epsg:27700'}. Routes affected: set(). Services affected: set().\n",
      "2021-04-13 16:48:39,578 - Removed Stop with index `9400ZZLUOXC2`, data={'id': '9400ZZLUOXC2', 'x': 529002.7357932694, 'y': 181284.1068964149, 'name': 'Oxford Circus Underground Station', 'stopAreaId': '940GZZLUOXC', 'isBlocking': 'false', 'epsg': 'epsg:27700'}. Routes affected: set(). Services affected: set().\n",
      "2021-04-13 16:48:39,589 - Removed Stop with index `9400ZZLURGP2`, data={'id': '9400ZZLURGP2', 'x': 528704.7613223545, 'y': 182092.31008630985, 'name': \"Regent's Park Underground Station\", 'stopAreaId': '940GZZLURGP', 'isBlocking': 'false', 'epsg': 'epsg:27700'}. Routes affected: set(). Services affected: set().\n",
      "2021-04-13 16:48:39,595 - Removed Stop with index `9400ZZLUGDG1`, data={'id': '9400ZZLUGDG1', 'x': 529528.7432046565, 'y': 181844.18614713819, 'name': 'Goodge Street Underground Station', 'stopAreaId': '940GZZLUGDG', 'isBlocking': 'false', 'epsg': 'epsg:27700'}. Routes affected: set(). Services affected: set().\n",
      "2021-04-13 16:48:39,607 - Removed Stop with index `9400ZZLUWRR2`, data={'id': '9400ZZLUWRR2', 'x': 529291.753302556, 'y': 182239.29925111524, 'name': 'Warren Street Underground Station', 'stopAreaId': '940GZZLUWRR', 'isBlocking': 'false', 'epsg': 'epsg:27700'}. Routes affected: set(). Services affected: set().\n",
      "2021-04-13 16:48:39,621 - Removed Stop with index `490015196N`, data={'id': '490015196N', 'x': 528843.7492656803, 'y': 181232.00244975724, 'name': 'Holles Street', 'isBlocking': 'false', 'epsg': 'epsg:27700'}. Routes affected: set(). Services affected: set().\n",
      "2021-04-13 16:48:39,628 - Removed Stop with index `490013600C`, data={'id': '490013600C', 'x': 528826.7311023801, 'y': 182237.16642831545, 'name': 'Albany Street (Stop C)', 'isBlocking': 'false', 'epsg': 'epsg:27700'}. Routes affected: set(). Services affected: set().\n",
      "2021-04-13 16:48:39,711 - Removed Stop with index `9400ZZLUOXC4`, data={'id': '9400ZZLUOXC4', 'x': 529004.7147708246, 'y': 181277.2580580855, 'name': 'Oxford Circus Underground Station', 'stopAreaId': '940GZZLUOXC', 'isBlocking': 'false', 'epsg': 'epsg:27700'}. Routes affected: set(). Services affected: set().\n",
      "2021-04-13 16:48:39,731 - Removed Stop with index `9400ZZLUTCR3`, data={'id': '9400ZZLUTCR3', 'x': 529825.7592661118, 'y': 181321.09061689116, 'name': 'Tottenham Court Road Underground Station', 'stopAreaId': '940GZZLUTCR', 'isBlocking': 'false', 'epsg': 'epsg:27700'}. Routes affected: set(). Services affected: set().\n",
      "2021-04-13 16:48:39,747 - Removed Stop with index `490015196R`, data={'id': '490015196R', 'x': 528793.7718335354, 'y': 181171.3145886244, 'name': 'Oxford Street  John Lewis (Stop OR)', 'isBlocking': 'false', 'epsg': 'epsg:27700'}. Routes affected: set(). Services affected: set().\n",
      "2021-04-13 16:48:39,786 - Removed Stop with index `9400ZZLUESQ2`, data={'id': '9400ZZLUESQ2', 'x': 529453.7521920939, 'y': 182392.42343129055, 'name': 'Euston Square Underground Station', 'stopAreaId': '940GZZLUESQ', 'isBlocking': 'false', 'epsg': 'epsg:27700'}. Routes affected: set(). Services affected: set().\n",
      "2021-04-13 16:48:39,801 - Removed Stop with index `9400ZZLUOXC3`, data={'id': '9400ZZLUOXC3', 'x': 529015.7510730226, 'y': 181280.097575391, 'name': 'Oxford Circus Underground Station', 'stopAreaId': '940GZZLUOXC', 'isBlocking': 'false', 'epsg': 'epsg:27700'}. Routes affected: set(). Services affected: set().\n",
      "2021-04-13 16:48:39,810 - Removed Stop with index `490000091E`, data={'id': '490000091E', 'x': 528867.770390693, 'y': 182083.31184164743, 'name': 'Great Portland Street (Stop E)', 'isBlocking': 'false', 'epsg': 'epsg:27700'}. Routes affected: set(). Services affected: set().\n",
      "2021-04-13 16:48:39,819 - Removed Stop with index `9400ZZLUESQ1`, data={'id': '9400ZZLUESQ1', 'x': 529457.8023702999, 'y': 182394.19578770327, 'name': 'Euston Square Underground Station', 'stopAreaId': '940GZZLUESQ', 'isBlocking': 'false', 'epsg': 'epsg:27700'}. Routes affected: set(). Services affected: set().\n",
      "2021-04-13 16:48:39,828 - Removed Stop with index `490000356NE`, data={'id': '490000356NE', 'x': 529854.787997603, 'y': 181481.06861471198, 'name': 'Tottenham Court Road  Great Russell Street', 'isBlocking': 'false', 'epsg': 'epsg:27700'}. Routes affected: set(). Services affected: set().\n",
      "2021-04-13 16:48:39,838 - Removed Stop with index `9400ZZLUOXC5`, data={'id': '9400ZZLUOXC5', 'x': 529074.7706163004, 'y': 181244.31904206856, 'name': 'Oxford Circus Underground Station', 'stopAreaId': '940GZZLUOXC', 'isBlocking': 'false', 'epsg': 'epsg:27700'}. Routes affected: set(). Services affected: set().\n",
      "2021-04-13 16:48:39,846 - Removed Stop with index `490000252R`, data={'id': '490000252R', 'x': 529239.7661155101, 'y': 182400.10532104305, 'name': 'Warren Street Stn  Euston Rd (Stop R)', 'isBlocking': 'false', 'epsg': 'epsg:27700'}. Routes affected: set(). Services affected: set().\n",
      "2021-04-13 16:48:39,857 - Removed Stop with index `490010198W`, data={'id': '490010198W', 'x': 528880.7296578337, 'y': 181739.3543585685, 'name': 'New Cavendish Street', 'isBlocking': 'false', 'epsg': 'epsg:27700'}. Routes affected: set(). Services affected: set().\n"
     ]
    },
    {
     "name": "stderr",
     "output_type": "stream",
     "text": [
      "2021-04-13 16:48:39,864 - Removed Stop with index `9400ZZLUWRR3`, data={'id': '9400ZZLUWRR3', 'x': 529227.7798224052, 'y': 182216.41780797765, 'name': 'Warren Street Underground Station', 'stopAreaId': '940GZZLUWRR', 'isBlocking': 'false', 'epsg': 'epsg:27700'}. Routes affected: set(). Services affected: set().\n",
      "2021-04-13 16:48:39,872 - Removed Stop with index `490000235W1`, data={'id': '490000235W1', 'x': 529959.771919372, 'y': 181285.1243656829, 'name': 'Tottenham Court Road Station (Stop S)', 'isBlocking': 'false', 'epsg': 'epsg:27700'}. Routes affected: set(). Services affected: set().\n",
      "2021-04-13 16:48:39,880 - Removed Stop with index `new_stop.link:3154`, data={'id': 'new_stop.link:3154', 'x': 529500.0, 'y': 181300.0, 'epsg': 'epsg:27700', 'name': 'New Stop', 'lon': -0.1350768098744082, 'lat': 51.51578819710296, 's2_id': 5221390696585158415, 'additional_attributes': set(), 'linkRefId': '3154', 'stop_id': 'new_stop'}. Routes affected: set(). Services affected: set().\n",
      "2021-04-13 16:48:39,887 - Removed Stop with index `490019675D`, data={'id': '490019675D', 'x': 528848.77991065, 'y': 182331.19702162553, 'name': 'Euston Road (Stop D)', 'isBlocking': 'false', 'epsg': 'epsg:27700'}. Routes affected: set(). Services affected: set().\n",
      "2021-04-13 16:48:39,895 - Removed Stop with index `9400ZZLUOXC6`, data={'id': '9400ZZLUOXC6', 'x': 529013.7410255029, 'y': 181288.1696510841, 'name': 'Oxford Circus Underground Station', 'stopAreaId': '940GZZLUOXC', 'isBlocking': 'false', 'epsg': 'epsg:27700'}. Routes affected: set(). Services affected: set().\n",
      "2021-04-13 16:48:39,902 - Removed Stop with index `9400ZZLUWRR1`, data={'id': '9400ZZLUWRR1', 'x': 529289.7996926662, 'y': 182245.1471524262, 'name': 'Warren Street Underground Station', 'stopAreaId': '940GZZLUWRR', 'isBlocking': 'false', 'epsg': 'epsg:27700'}. Routes affected: set(). Services affected: set().\n",
      "2021-04-13 16:48:39,909 - Removed Stop with index `490000173RF`, data={'id': '490000173RF', 'x': 529005.768975204, 'y': 181304.1022004814, 'name': 'Oxford Circus Stn Margaret St (Stop RF)', 'isBlocking': 'false', 'epsg': 'epsg:27700'}. Routes affected: set(). Services affected: set().\n",
      "2021-04-13 16:48:39,910 - Removed Stops with indecies `{'490011126K', '490000173RD', '490000235N', '9400ZZLUGPS2', '9400ZZLUWRR4', '9400ZZLURGP1', '9400ZZLUOXC1', '9400ZZLUTCR1', '490000252S', '9400ZZLUTCR4', '490000091F', '9400ZZLUOXC2', '9400ZZLURGP2', '9400ZZLUGDG1', '9400ZZLUWRR2', '490015196N', '490013600C', '9400ZZLUOXC4', '9400ZZLUTCR3', '490015196R', '9400ZZLUESQ2', '9400ZZLUOXC3', '490000091E', '9400ZZLUESQ1', '490000356NE', '9400ZZLUOXC5', '490000252R', '490010198W', '9400ZZLUWRR3', '490000235W1', 'new_stop.link:3154', '490019675D', '9400ZZLUOXC6', '9400ZZLUWRR1', '490000173RF'}` which were not used by any Routes or part of minimal transfer times.\n"
     ]
    }
   ],
   "source": [
    "n.schedule.remove_unsused_stops()"
   ]
  },
  {
   "cell_type": "markdown",
   "metadata": {},
   "source": [
    "## Modifying data stored for Stops, Routes, Services\n",
    "\n",
    "### Applying known or pre-computed changes\n",
    "Applying changes or new attributes to Services, Routes and Stops can be done via Schedule level methods. They all work with a dictionary where the keys are the object IDs and the values are dictionaries holding attribute names and values. The method to extract a DataFrame on attributes comes in handy here. E.g."
   ]
  },
  {
   "cell_type": "code",
   "execution_count": 31,
   "metadata": {
    "ExecuteTime": {
     "end_time": "2021-04-13T15:48:39.926429Z",
     "start_time": "2021-04-13T15:48:39.915786Z"
    }
   },
   "outputs": [
    {
     "data": {
      "text/html": [
       "<div>\n",
       "<style scoped>\n",
       "    .dataframe tbody tr th:only-of-type {\n",
       "        vertical-align: middle;\n",
       "    }\n",
       "\n",
       "    .dataframe tbody tr th {\n",
       "        vertical-align: top;\n",
       "    }\n",
       "\n",
       "    .dataframe thead th {\n",
       "        text-align: right;\n",
       "    }\n",
       "</style>\n",
       "<table border=\"1\" class=\"dataframe\">\n",
       "  <thead>\n",
       "    <tr style=\"text-align: right;\">\n",
       "      <th></th>\n",
       "      <th>name</th>\n",
       "    </tr>\n",
       "  </thead>\n",
       "  <tbody>\n",
       "    <tr>\n",
       "      <th>12430</th>\n",
       "      <td>205</td>\n",
       "    </tr>\n",
       "    <tr>\n",
       "      <th>15234</th>\n",
       "      <td>134</td>\n",
       "    </tr>\n",
       "    <tr>\n",
       "      <th>15660</th>\n",
       "      <td>113</td>\n",
       "    </tr>\n",
       "    <tr>\n",
       "      <th>20274</th>\n",
       "      <td>N55</td>\n",
       "    </tr>\n",
       "    <tr>\n",
       "      <th>14073</th>\n",
       "      <td>94</td>\n",
       "    </tr>\n",
       "  </tbody>\n",
       "</table>\n",
       "</div>"
      ],
      "text/plain": [
       "      name\n",
       "12430  205\n",
       "15234  134\n",
       "15660  113\n",
       "20274  N55\n",
       "14073   94"
      ]
     },
     "execution_count": 31,
     "metadata": {},
     "output_type": "execute_result"
    }
   ],
   "source": [
    "df = n.schedule.service_attribute_data(keys='name')\n",
    "df.head()"
   ]
  },
  {
   "cell_type": "markdown",
   "metadata": {},
   "source": [
    "DataFrames are easy to work with. Youcould for exmaple manipulate the names or use other data to change these. For demonstration here, let's just set the names to something easy."
   ]
  },
  {
   "cell_type": "code",
   "execution_count": 32,
   "metadata": {
    "ExecuteTime": {
     "end_time": "2021-04-13T15:48:39.967335Z",
     "start_time": "2021-04-13T15:48:39.943151Z"
    }
   },
   "outputs": [
    {
     "data": {
      "text/html": [
       "<div>\n",
       "<style scoped>\n",
       "    .dataframe tbody tr th:only-of-type {\n",
       "        vertical-align: middle;\n",
       "    }\n",
       "\n",
       "    .dataframe tbody tr th {\n",
       "        vertical-align: top;\n",
       "    }\n",
       "\n",
       "    .dataframe thead th {\n",
       "        text-align: right;\n",
       "    }\n",
       "</style>\n",
       "<table border=\"1\" class=\"dataframe\">\n",
       "  <thead>\n",
       "    <tr style=\"text-align: right;\">\n",
       "      <th></th>\n",
       "      <th>name</th>\n",
       "    </tr>\n",
       "  </thead>\n",
       "  <tbody>\n",
       "    <tr>\n",
       "      <th>12430</th>\n",
       "      <td>Service_205</td>\n",
       "    </tr>\n",
       "    <tr>\n",
       "      <th>15234</th>\n",
       "      <td>Service_134</td>\n",
       "    </tr>\n",
       "    <tr>\n",
       "      <th>15660</th>\n",
       "      <td>Service_113</td>\n",
       "    </tr>\n",
       "    <tr>\n",
       "      <th>20274</th>\n",
       "      <td>Service_N55</td>\n",
       "    </tr>\n",
       "    <tr>\n",
       "      <th>14073</th>\n",
       "      <td>Service_94</td>\n",
       "    </tr>\n",
       "  </tbody>\n",
       "</table>\n",
       "</div>"
      ],
      "text/plain": [
       "              name\n",
       "12430  Service_205\n",
       "15234  Service_134\n",
       "15660  Service_113\n",
       "20274  Service_N55\n",
       "14073   Service_94"
      ]
     },
     "execution_count": 32,
     "metadata": {},
     "output_type": "execute_result"
    }
   ],
   "source": [
    "df['name'] = df['name'].apply(lambda x: f'Service_{x}')\n",
    "df.head()"
   ]
  },
  {
   "cell_type": "markdown",
   "metadata": {},
   "source": [
    "You can then convert this to a dictionary and pass it to the `apply_attributes_to_services` method."
   ]
  },
  {
   "cell_type": "code",
   "execution_count": 33,
   "metadata": {
    "ExecuteTime": {
     "end_time": "2021-04-13T15:48:39.993392Z",
     "start_time": "2021-04-13T15:48:39.977450Z"
    }
   },
   "outputs": [
    {
     "name": "stderr",
     "output_type": "stream",
     "text": [
      "2021-04-13 16:48:39,989 - Changed Service attributes for 9 services\n"
     ]
    }
   ],
   "source": [
    "n.schedule.apply_attributes_to_services(df.T.to_dict())"
   ]
  },
  {
   "cell_type": "code",
   "execution_count": 34,
   "metadata": {
    "ExecuteTime": {
     "end_time": "2021-04-13T15:48:40.021189Z",
     "start_time": "2021-04-13T15:48:39.995262Z"
    }
   },
   "outputs": [
    {
     "data": {
      "text/html": [
       "<div>\n",
       "<style scoped>\n",
       "    .dataframe tbody tr th:only-of-type {\n",
       "        vertical-align: middle;\n",
       "    }\n",
       "\n",
       "    .dataframe tbody tr th {\n",
       "        vertical-align: top;\n",
       "    }\n",
       "\n",
       "    .dataframe thead th {\n",
       "        text-align: right;\n",
       "    }\n",
       "</style>\n",
       "<table border=\"1\" class=\"dataframe\">\n",
       "  <thead>\n",
       "    <tr style=\"text-align: right;\">\n",
       "      <th></th>\n",
       "      <th>timestamp</th>\n",
       "      <th>change_event</th>\n",
       "      <th>object_type</th>\n",
       "      <th>old_id</th>\n",
       "      <th>new_id</th>\n",
       "      <th>old_attributes</th>\n",
       "      <th>new_attributes</th>\n",
       "      <th>diff</th>\n",
       "    </tr>\n",
       "  </thead>\n",
       "  <tbody>\n",
       "    <tr>\n",
       "      <th>52</th>\n",
       "      <td>2021-04-13 16:48:39</td>\n",
       "      <td>modify</td>\n",
       "      <td>service</td>\n",
       "      <td>14073</td>\n",
       "      <td>14073</td>\n",
       "      <td>{'id': '14073', 'name': '94'}</td>\n",
       "      <td>{'id': '14073', 'name': 'Service_94'}</td>\n",
       "      <td>[(change, name, (94, Service_94))]</td>\n",
       "    </tr>\n",
       "    <tr>\n",
       "      <th>53</th>\n",
       "      <td>2021-04-13 16:48:39</td>\n",
       "      <td>modify</td>\n",
       "      <td>service</td>\n",
       "      <td>18853</td>\n",
       "      <td>18853</td>\n",
       "      <td>{'id': '18853', 'name': 'N8'}</td>\n",
       "      <td>{'id': '18853', 'name': 'Service_N8'}</td>\n",
       "      <td>[(change, name, (N8, Service_N8))]</td>\n",
       "    </tr>\n",
       "    <tr>\n",
       "      <th>54</th>\n",
       "      <td>2021-04-13 16:48:39</td>\n",
       "      <td>modify</td>\n",
       "      <td>service</td>\n",
       "      <td>17732</td>\n",
       "      <td>17732</td>\n",
       "      <td>{'id': '17732', 'name': 'N20'}</td>\n",
       "      <td>{'id': '17732', 'name': 'Service_N20'}</td>\n",
       "      <td>[(change, name, (N20, Service_N20))]</td>\n",
       "    </tr>\n",
       "    <tr>\n",
       "      <th>55</th>\n",
       "      <td>2021-04-13 16:48:39</td>\n",
       "      <td>modify</td>\n",
       "      <td>service</td>\n",
       "      <td>14134</td>\n",
       "      <td>14134</td>\n",
       "      <td>{'id': '14134', 'name': '98'}</td>\n",
       "      <td>{'id': '14134', 'name': 'Service_98'}</td>\n",
       "      <td>[(change, name, (98, Service_98))]</td>\n",
       "    </tr>\n",
       "    <tr>\n",
       "      <th>56</th>\n",
       "      <td>2021-04-13 16:48:39</td>\n",
       "      <td>modify</td>\n",
       "      <td>service</td>\n",
       "      <td>18915</td>\n",
       "      <td>18915</td>\n",
       "      <td>{'id': '18915', 'name': 'N5'}</td>\n",
       "      <td>{'id': '18915', 'name': 'Service_N5'}</td>\n",
       "      <td>[(change, name, (N5, Service_N5))]</td>\n",
       "    </tr>\n",
       "  </tbody>\n",
       "</table>\n",
       "</div>"
      ],
      "text/plain": [
       "              timestamp change_event object_type old_id new_id  \\\n",
       "52  2021-04-13 16:48:39       modify     service  14073  14073   \n",
       "53  2021-04-13 16:48:39       modify     service  18853  18853   \n",
       "54  2021-04-13 16:48:39       modify     service  17732  17732   \n",
       "55  2021-04-13 16:48:39       modify     service  14134  14134   \n",
       "56  2021-04-13 16:48:39       modify     service  18915  18915   \n",
       "\n",
       "                    old_attributes                          new_attributes  \\\n",
       "52   {'id': '14073', 'name': '94'}   {'id': '14073', 'name': 'Service_94'}   \n",
       "53   {'id': '18853', 'name': 'N8'}   {'id': '18853', 'name': 'Service_N8'}   \n",
       "54  {'id': '17732', 'name': 'N20'}  {'id': '17732', 'name': 'Service_N20'}   \n",
       "55   {'id': '14134', 'name': '98'}   {'id': '14134', 'name': 'Service_98'}   \n",
       "56   {'id': '18915', 'name': 'N5'}   {'id': '18915', 'name': 'Service_N5'}   \n",
       "\n",
       "                                    diff  \n",
       "52    [(change, name, (94, Service_94))]  \n",
       "53    [(change, name, (N8, Service_N8))]  \n",
       "54  [(change, name, (N20, Service_N20))]  \n",
       "55    [(change, name, (98, Service_98))]  \n",
       "56    [(change, name, (N5, Service_N5))]  "
      ]
     },
     "execution_count": 34,
     "metadata": {},
     "output_type": "execute_result"
    }
   ],
   "source": [
    "n.schedule.change_log().tail()"
   ]
  },
  {
   "cell_type": "markdown",
   "metadata": {},
   "source": [
    "You can do the same for `Routes` and `Stops`. Your dictionaries cannot however hold changes to indices. You will encounter an error and should use `reindex` methods for such operations."
   ]
  },
  {
   "cell_type": "code",
   "execution_count": 35,
   "metadata": {
    "ExecuteTime": {
     "end_time": "2021-04-13T15:48:40.034258Z",
     "start_time": "2021-04-13T15:48:40.023934Z"
    }
   },
   "outputs": [
    {
     "name": "stderr",
     "output_type": "stream",
     "text": [
      "2021-04-13 16:48:40,030 - Changed Route attributes for 1 routes\n"
     ]
    }
   ],
   "source": [
    "n.schedule.apply_attributes_to_routes(\n",
    "    {'VJ375a660d47a2aa570aa20a8568012da8497ffecf': {\n",
    "        'name': 'my_favourite_route', \n",
    "        'mode': 'piggyback'\n",
    "    }}\n",
    ")"
   ]
  },
  {
   "cell_type": "code",
   "execution_count": 36,
   "metadata": {
    "ExecuteTime": {
     "end_time": "2021-04-13T15:48:40.044674Z",
     "start_time": "2021-04-13T15:48:40.036086Z"
    }
   },
   "outputs": [
    {
     "name": "stderr",
     "output_type": "stream",
     "text": [
      "2021-04-13 16:48:40,041 - Changed Stop attributes for 1 stops\n"
     ]
    }
   ],
   "source": [
    "n.schedule.apply_attributes_to_stops(\n",
    "    {'490000235YB.link:574': {'new_attribute': 'hello!'}}\n",
    ")"
   ]
  },
  {
   "cell_type": "code",
   "execution_count": 37,
   "metadata": {
    "ExecuteTime": {
     "end_time": "2021-04-13T15:48:40.098056Z",
     "start_time": "2021-04-13T15:48:40.047694Z"
    }
   },
   "outputs": [
    {
     "data": {
      "text/html": [
       "<div>\n",
       "<style scoped>\n",
       "    .dataframe tbody tr th:only-of-type {\n",
       "        vertical-align: middle;\n",
       "    }\n",
       "\n",
       "    .dataframe tbody tr th {\n",
       "        vertical-align: top;\n",
       "    }\n",
       "\n",
       "    .dataframe thead th {\n",
       "        text-align: right;\n",
       "    }\n",
       "</style>\n",
       "<table border=\"1\" class=\"dataframe\">\n",
       "  <thead>\n",
       "    <tr style=\"text-align: right;\">\n",
       "      <th></th>\n",
       "      <th>timestamp</th>\n",
       "      <th>change_event</th>\n",
       "      <th>object_type</th>\n",
       "      <th>old_id</th>\n",
       "      <th>new_id</th>\n",
       "      <th>old_attributes</th>\n",
       "      <th>new_attributes</th>\n",
       "      <th>diff</th>\n",
       "    </tr>\n",
       "  </thead>\n",
       "  <tbody>\n",
       "    <tr>\n",
       "      <th>54</th>\n",
       "      <td>2021-04-13 16:48:39</td>\n",
       "      <td>modify</td>\n",
       "      <td>service</td>\n",
       "      <td>17732</td>\n",
       "      <td>17732</td>\n",
       "      <td>{'id': '17732', 'name': 'N20'}</td>\n",
       "      <td>{'id': '17732', 'name': 'Service_N20'}</td>\n",
       "      <td>[(change, name, (N20, Service_N20))]</td>\n",
       "    </tr>\n",
       "    <tr>\n",
       "      <th>55</th>\n",
       "      <td>2021-04-13 16:48:39</td>\n",
       "      <td>modify</td>\n",
       "      <td>service</td>\n",
       "      <td>14134</td>\n",
       "      <td>14134</td>\n",
       "      <td>{'id': '14134', 'name': '98'}</td>\n",
       "      <td>{'id': '14134', 'name': 'Service_98'}</td>\n",
       "      <td>[(change, name, (98, Service_98))]</td>\n",
       "    </tr>\n",
       "    <tr>\n",
       "      <th>56</th>\n",
       "      <td>2021-04-13 16:48:39</td>\n",
       "      <td>modify</td>\n",
       "      <td>service</td>\n",
       "      <td>18915</td>\n",
       "      <td>18915</td>\n",
       "      <td>{'id': '18915', 'name': 'N5'}</td>\n",
       "      <td>{'id': '18915', 'name': 'Service_N5'}</td>\n",
       "      <td>[(change, name, (N5, Service_N5))]</td>\n",
       "    </tr>\n",
       "    <tr>\n",
       "      <th>57</th>\n",
       "      <td>2021-04-13 16:48:40</td>\n",
       "      <td>modify</td>\n",
       "      <td>route</td>\n",
       "      <td>VJ375a660d47a2aa570aa20a8568012da8497ffecf</td>\n",
       "      <td>VJ375a660d47a2aa570aa20a8568012da8497ffecf</td>\n",
       "      <td>{'route_short_name': 'N55', 'mode': 'bus', 'tr...</td>\n",
       "      <td>{'route_short_name': 'N55', 'mode': 'piggyback...</td>\n",
       "      <td>[(change, mode, (bus, piggyback)), (add, , [('...</td>\n",
       "    </tr>\n",
       "    <tr>\n",
       "      <th>58</th>\n",
       "      <td>2021-04-13 16:48:40</td>\n",
       "      <td>modify</td>\n",
       "      <td>stop</td>\n",
       "      <td>490000235YB.link:574</td>\n",
       "      <td>490000235YB.link:574</td>\n",
       "      <td>{'services': {'14134', '18853', '20274'}, 'rou...</td>\n",
       "      <td>{'services': {'14134', '18853', '20274'}, 'rou...</td>\n",
       "      <td>[(add, , [('new_attribute', 'hello!')])]</td>\n",
       "    </tr>\n",
       "  </tbody>\n",
       "</table>\n",
       "</div>"
      ],
      "text/plain": [
       "              timestamp change_event object_type  \\\n",
       "54  2021-04-13 16:48:39       modify     service   \n",
       "55  2021-04-13 16:48:39       modify     service   \n",
       "56  2021-04-13 16:48:39       modify     service   \n",
       "57  2021-04-13 16:48:40       modify       route   \n",
       "58  2021-04-13 16:48:40       modify        stop   \n",
       "\n",
       "                                        old_id  \\\n",
       "54                                       17732   \n",
       "55                                       14134   \n",
       "56                                       18915   \n",
       "57  VJ375a660d47a2aa570aa20a8568012da8497ffecf   \n",
       "58                        490000235YB.link:574   \n",
       "\n",
       "                                        new_id  \\\n",
       "54                                       17732   \n",
       "55                                       14134   \n",
       "56                                       18915   \n",
       "57  VJ375a660d47a2aa570aa20a8568012da8497ffecf   \n",
       "58                        490000235YB.link:574   \n",
       "\n",
       "                                       old_attributes  \\\n",
       "54                     {'id': '17732', 'name': 'N20'}   \n",
       "55                      {'id': '14134', 'name': '98'}   \n",
       "56                      {'id': '18915', 'name': 'N5'}   \n",
       "57  {'route_short_name': 'N55', 'mode': 'bus', 'tr...   \n",
       "58  {'services': {'14134', '18853', '20274'}, 'rou...   \n",
       "\n",
       "                                       new_attributes  \\\n",
       "54             {'id': '17732', 'name': 'Service_N20'}   \n",
       "55              {'id': '14134', 'name': 'Service_98'}   \n",
       "56              {'id': '18915', 'name': 'Service_N5'}   \n",
       "57  {'route_short_name': 'N55', 'mode': 'piggyback...   \n",
       "58  {'services': {'14134', '18853', '20274'}, 'rou...   \n",
       "\n",
       "                                                 diff  \n",
       "54               [(change, name, (N20, Service_N20))]  \n",
       "55                 [(change, name, (98, Service_98))]  \n",
       "56                 [(change, name, (N5, Service_N5))]  \n",
       "57  [(change, mode, (bus, piggyback)), (add, , [('...  \n",
       "58           [(add, , [('new_attribute', 'hello!')])]  "
      ]
     },
     "execution_count": 37,
     "metadata": {},
     "output_type": "execute_result"
    }
   ],
   "source": [
    "n.schedule.change_log().tail()"
   ]
  },
  {
   "cell_type": "markdown",
   "metadata": {},
   "source": [
    "You can use `route_trips_to_dataframe` to extract all of the trips, their departures and vehicle IDs associated with the trips in the schedule. Trip ids need not be unique, route IDs provide a secondary index. Associated service IDs are also given for convenience."
   ]
  },
  {
   "cell_type": "code",
   "execution_count": 38,
   "metadata": {
    "ExecuteTime": {
     "end_time": "2021-04-13T15:48:40.206190Z",
     "start_time": "2021-04-13T15:48:40.101122Z"
    }
   },
   "outputs": [],
   "source": [
    "trips = n.schedule.route_trips_to_dataframe(gtfs_day='20210101')"
   ]
  },
  {
   "cell_type": "code",
   "execution_count": 39,
   "metadata": {
    "ExecuteTime": {
     "end_time": "2021-04-13T15:48:40.226236Z",
     "start_time": "2021-04-13T15:48:40.209144Z"
    }
   },
   "outputs": [
    {
     "data": {
      "text/html": [
       "<div>\n",
       "<style scoped>\n",
       "    .dataframe tbody tr th:only-of-type {\n",
       "        vertical-align: middle;\n",
       "    }\n",
       "\n",
       "    .dataframe tbody tr th {\n",
       "        vertical-align: top;\n",
       "    }\n",
       "\n",
       "    .dataframe thead th {\n",
       "        text-align: right;\n",
       "    }\n",
       "</style>\n",
       "<table border=\"1\" class=\"dataframe\">\n",
       "  <thead>\n",
       "    <tr style=\"text-align: right;\">\n",
       "      <th></th>\n",
       "      <th>route_id</th>\n",
       "      <th>service_id</th>\n",
       "      <th>trip_id</th>\n",
       "      <th>trip_departure_time</th>\n",
       "      <th>vehicle_id</th>\n",
       "    </tr>\n",
       "  </thead>\n",
       "  <tbody>\n",
       "    <tr>\n",
       "      <th>0</th>\n",
       "      <td>VJ0d304b95d39f4bce48e6ff26ddd73a9c06f17f4f</td>\n",
       "      <td>18915</td>\n",
       "      <td>VJ0d304b95d39f4bce48e6ff26ddd73a9c06f17f4f_01:...</td>\n",
       "      <td>2021-01-01 01:39:30</td>\n",
       "      <td>veh_2235_bus</td>\n",
       "    </tr>\n",
       "    <tr>\n",
       "      <th>1</th>\n",
       "      <td>VJ0d304b95d39f4bce48e6ff26ddd73a9c06f17f4f</td>\n",
       "      <td>18915</td>\n",
       "      <td>VJ63e8b6b73bf0511c99c98c148cd8d81a99d980b3_01:...</td>\n",
       "      <td>2021-01-01 01:09:30</td>\n",
       "      <td>veh_2236_bus</td>\n",
       "    </tr>\n",
       "    <tr>\n",
       "      <th>2</th>\n",
       "      <td>VJ0d304b95d39f4bce48e6ff26ddd73a9c06f17f4f</td>\n",
       "      <td>18915</td>\n",
       "      <td>VJ8d4b92bb6c4d3c8ae053c76eee7b28c8a9f3c96b_00:...</td>\n",
       "      <td>2021-01-01 00:39:30</td>\n",
       "      <td>veh_2237_bus</td>\n",
       "    </tr>\n",
       "    <tr>\n",
       "      <th>3</th>\n",
       "      <td>VJ0d304b95d39f4bce48e6ff26ddd73a9c06f17f4f</td>\n",
       "      <td>18915</td>\n",
       "      <td>VJaf30d54b0eb1b9388069da33de80486d0b13b14c_02:...</td>\n",
       "      <td>2021-01-01 02:09:30</td>\n",
       "      <td>veh_2238_bus</td>\n",
       "    </tr>\n",
       "    <tr>\n",
       "      <th>4</th>\n",
       "      <td>VJ0cb60de3ed229c1413abac506e770b6ab8a7c49a</td>\n",
       "      <td>17732</td>\n",
       "      <td>VJ0b0180c7b6bcef5834ec857e9b5a94254803694f_03:...</td>\n",
       "      <td>2021-01-01 03:48:00</td>\n",
       "      <td>veh_2160_bus</td>\n",
       "    </tr>\n",
       "  </tbody>\n",
       "</table>\n",
       "</div>"
      ],
      "text/plain": [
       "                                     route_id service_id  \\\n",
       "0  VJ0d304b95d39f4bce48e6ff26ddd73a9c06f17f4f      18915   \n",
       "1  VJ0d304b95d39f4bce48e6ff26ddd73a9c06f17f4f      18915   \n",
       "2  VJ0d304b95d39f4bce48e6ff26ddd73a9c06f17f4f      18915   \n",
       "3  VJ0d304b95d39f4bce48e6ff26ddd73a9c06f17f4f      18915   \n",
       "4  VJ0cb60de3ed229c1413abac506e770b6ab8a7c49a      17732   \n",
       "\n",
       "                                             trip_id trip_departure_time  \\\n",
       "0  VJ0d304b95d39f4bce48e6ff26ddd73a9c06f17f4f_01:... 2021-01-01 01:39:30   \n",
       "1  VJ63e8b6b73bf0511c99c98c148cd8d81a99d980b3_01:... 2021-01-01 01:09:30   \n",
       "2  VJ8d4b92bb6c4d3c8ae053c76eee7b28c8a9f3c96b_00:... 2021-01-01 00:39:30   \n",
       "3  VJaf30d54b0eb1b9388069da33de80486d0b13b14c_02:... 2021-01-01 02:09:30   \n",
       "4  VJ0b0180c7b6bcef5834ec857e9b5a94254803694f_03:... 2021-01-01 03:48:00   \n",
       "\n",
       "     vehicle_id  \n",
       "0  veh_2235_bus  \n",
       "1  veh_2236_bus  \n",
       "2  veh_2237_bus  \n",
       "3  veh_2238_bus  \n",
       "4  veh_2160_bus  "
      ]
     },
     "execution_count": 39,
     "metadata": {},
     "output_type": "execute_result"
    }
   ],
   "source": [
    "trips.head()"
   ]
  },
  {
   "cell_type": "markdown",
   "metadata": {},
   "source": [
    "Let's change all of the trip ids to something shorter"
   ]
  },
  {
   "cell_type": "code",
   "execution_count": 40,
   "metadata": {
    "ExecuteTime": {
     "end_time": "2021-04-13T15:48:40.250526Z",
     "start_time": "2021-04-13T15:48:40.228148Z"
    }
   },
   "outputs": [
    {
     "data": {
      "text/html": [
       "<div>\n",
       "<style scoped>\n",
       "    .dataframe tbody tr th:only-of-type {\n",
       "        vertical-align: middle;\n",
       "    }\n",
       "\n",
       "    .dataframe tbody tr th {\n",
       "        vertical-align: top;\n",
       "    }\n",
       "\n",
       "    .dataframe thead th {\n",
       "        text-align: right;\n",
       "    }\n",
       "</style>\n",
       "<table border=\"1\" class=\"dataframe\">\n",
       "  <thead>\n",
       "    <tr style=\"text-align: right;\">\n",
       "      <th></th>\n",
       "      <th>route_id</th>\n",
       "      <th>service_id</th>\n",
       "      <th>trip_id</th>\n",
       "      <th>trip_departure_time</th>\n",
       "      <th>vehicle_id</th>\n",
       "    </tr>\n",
       "  </thead>\n",
       "  <tbody>\n",
       "    <tr>\n",
       "      <th>0</th>\n",
       "      <td>VJ0d304b95d39f4bce48e6ff26ddd73a9c06f17f4f</td>\n",
       "      <td>18915</td>\n",
       "      <td>trip_0</td>\n",
       "      <td>2021-01-01 01:39:30</td>\n",
       "      <td>veh_2235_bus</td>\n",
       "    </tr>\n",
       "    <tr>\n",
       "      <th>1</th>\n",
       "      <td>VJ0d304b95d39f4bce48e6ff26ddd73a9c06f17f4f</td>\n",
       "      <td>18915</td>\n",
       "      <td>trip_1</td>\n",
       "      <td>2021-01-01 01:09:30</td>\n",
       "      <td>veh_2236_bus</td>\n",
       "    </tr>\n",
       "    <tr>\n",
       "      <th>2</th>\n",
       "      <td>VJ0d304b95d39f4bce48e6ff26ddd73a9c06f17f4f</td>\n",
       "      <td>18915</td>\n",
       "      <td>trip_2</td>\n",
       "      <td>2021-01-01 00:39:30</td>\n",
       "      <td>veh_2237_bus</td>\n",
       "    </tr>\n",
       "    <tr>\n",
       "      <th>3</th>\n",
       "      <td>VJ0d304b95d39f4bce48e6ff26ddd73a9c06f17f4f</td>\n",
       "      <td>18915</td>\n",
       "      <td>trip_3</td>\n",
       "      <td>2021-01-01 02:09:30</td>\n",
       "      <td>veh_2238_bus</td>\n",
       "    </tr>\n",
       "    <tr>\n",
       "      <th>4</th>\n",
       "      <td>VJ0cb60de3ed229c1413abac506e770b6ab8a7c49a</td>\n",
       "      <td>17732</td>\n",
       "      <td>trip_4</td>\n",
       "      <td>2021-01-01 03:48:00</td>\n",
       "      <td>veh_2160_bus</td>\n",
       "    </tr>\n",
       "  </tbody>\n",
       "</table>\n",
       "</div>"
      ],
      "text/plain": [
       "                                     route_id service_id trip_id  \\\n",
       "0  VJ0d304b95d39f4bce48e6ff26ddd73a9c06f17f4f      18915  trip_0   \n",
       "1  VJ0d304b95d39f4bce48e6ff26ddd73a9c06f17f4f      18915  trip_1   \n",
       "2  VJ0d304b95d39f4bce48e6ff26ddd73a9c06f17f4f      18915  trip_2   \n",
       "3  VJ0d304b95d39f4bce48e6ff26ddd73a9c06f17f4f      18915  trip_3   \n",
       "4  VJ0cb60de3ed229c1413abac506e770b6ab8a7c49a      17732  trip_4   \n",
       "\n",
       "  trip_departure_time    vehicle_id  \n",
       "0 2021-01-01 01:39:30  veh_2235_bus  \n",
       "1 2021-01-01 01:09:30  veh_2236_bus  \n",
       "2 2021-01-01 00:39:30  veh_2237_bus  \n",
       "3 2021-01-01 02:09:30  veh_2238_bus  \n",
       "4 2021-01-01 03:48:00  veh_2160_bus  "
      ]
     },
     "execution_count": 40,
     "metadata": {},
     "output_type": "execute_result"
    }
   ],
   "source": [
    "trips['trip_id'] = 'trip_' + trips.index.to_series().astype(str)\n",
    "trips.head()"
   ]
  },
  {
   "cell_type": "markdown",
   "metadata": {},
   "source": [
    "You can `set_route_trips_dataframe` which takes this dataframe and applies changes to all route trips based on the data in the dataframe. This means you can generate this DataFrame as shown below, manipulate trips (delete them, add new ones), change their departure times or change their vehicle ids to be shared for differnt trips, perhaps on some temporal logic and as long as the dataframe has the same schema, you can use it to set new trips in the schedule. This will appear in the changelog as a route level modify event.\n",
    "\n",
    "Nb removing all trips of the same route from the dataframe will have no effect when being applied. If there is data in the dataframe for a route, all of its trips will be replaced by the data in the dataframe, and if there is no data for a route in the frame, no changes will be applied to that route (i.e. the trips attribute for routes missing from the dataframe will not be set as empty)."
   ]
  },
  {
   "cell_type": "code",
   "execution_count": 41,
   "metadata": {
    "ExecuteTime": {
     "end_time": "2021-04-13T15:48:40.432434Z",
     "start_time": "2021-04-13T15:48:40.253771Z"
    }
   },
   "outputs": [
    {
     "name": "stderr",
     "output_type": "stream",
     "text": [
      "2021-04-13 16:48:40,408 - Changed Route attributes for 69 routes\n"
     ]
    },
    {
     "data": {
      "text/html": [
       "<div>\n",
       "<style scoped>\n",
       "    .dataframe tbody tr th:only-of-type {\n",
       "        vertical-align: middle;\n",
       "    }\n",
       "\n",
       "    .dataframe tbody tr th {\n",
       "        vertical-align: top;\n",
       "    }\n",
       "\n",
       "    .dataframe thead th {\n",
       "        text-align: right;\n",
       "    }\n",
       "</style>\n",
       "<table border=\"1\" class=\"dataframe\">\n",
       "  <thead>\n",
       "    <tr style=\"text-align: right;\">\n",
       "      <th></th>\n",
       "      <th>trips::trip_id</th>\n",
       "    </tr>\n",
       "  </thead>\n",
       "  <tbody>\n",
       "    <tr>\n",
       "      <th>VJ0d304b95d39f4bce48e6ff26ddd73a9c06f17f4f</th>\n",
       "      <td>[trip_0, trip_1, trip_2, trip_3]</td>\n",
       "    </tr>\n",
       "    <tr>\n",
       "      <th>VJ0cb60de3ed229c1413abac506e770b6ab8a7c49a</th>\n",
       "      <td>[trip_4, trip_5, trip_6, trip_7, trip_8, trip_...</td>\n",
       "    </tr>\n",
       "    <tr>\n",
       "      <th>VJdbc280077e505b4f8d66586ca51751a125cb4ef0</th>\n",
       "      <td>[trip_16, trip_17, trip_18, trip_19, trip_20, ...</td>\n",
       "    </tr>\n",
       "    <tr>\n",
       "      <th>VJ8a4b1ca7dfd0a130abd1de9f55f3b756617dd4ca</th>\n",
       "      <td>[trip_45, trip_46, trip_47, trip_48, trip_49, ...</td>\n",
       "    </tr>\n",
       "    <tr>\n",
       "      <th>VJ520ec0c0ca58a849349fa614b5cf9270ac5c93da</th>\n",
       "      <td>[trip_53, trip_54]</td>\n",
       "    </tr>\n",
       "    <tr>\n",
       "      <th>...</th>\n",
       "      <td>...</td>\n",
       "    </tr>\n",
       "    <tr>\n",
       "      <th>VJd9dbeefeca6d74ef2594a17514ebc08ee2d503b2</th>\n",
       "      <td>[trip_1509, trip_1510, trip_1511, trip_1512, t...</td>\n",
       "    </tr>\n",
       "    <tr>\n",
       "      <th>VJeae6e634f8479e0b6712780d5728f0afca964e64</th>\n",
       "      <td>[trip_1524, trip_1525, trip_1526, trip_1527, t...</td>\n",
       "    </tr>\n",
       "    <tr>\n",
       "      <th>VJ887921c00645929c5402ac46592e57c368ea63a1</th>\n",
       "      <td>[trip_1546, trip_1547, trip_1548, trip_1549, t...</td>\n",
       "    </tr>\n",
       "    <tr>\n",
       "      <th>VJ8cacca9a6722c497c413005568182ecf4d50b160</th>\n",
       "      <td>[trip_1552, trip_1553, trip_1554, trip_1555, t...</td>\n",
       "    </tr>\n",
       "    <tr>\n",
       "      <th>VJb08f8a2de01a4ef99d3b7fefd9022117ac307531</th>\n",
       "      <td>[trip_1560, trip_1561, trip_1562, trip_1563]</td>\n",
       "    </tr>\n",
       "  </tbody>\n",
       "</table>\n",
       "<p>69 rows × 1 columns</p>\n",
       "</div>"
      ],
      "text/plain": [
       "                                                                               trips::trip_id\n",
       "VJ0d304b95d39f4bce48e6ff26ddd73a9c06f17f4f                   [trip_0, trip_1, trip_2, trip_3]\n",
       "VJ0cb60de3ed229c1413abac506e770b6ab8a7c49a  [trip_4, trip_5, trip_6, trip_7, trip_8, trip_...\n",
       "VJdbc280077e505b4f8d66586ca51751a125cb4ef0  [trip_16, trip_17, trip_18, trip_19, trip_20, ...\n",
       "VJ8a4b1ca7dfd0a130abd1de9f55f3b756617dd4ca  [trip_45, trip_46, trip_47, trip_48, trip_49, ...\n",
       "VJ520ec0c0ca58a849349fa614b5cf9270ac5c93da                                 [trip_53, trip_54]\n",
       "...                                                                                       ...\n",
       "VJd9dbeefeca6d74ef2594a17514ebc08ee2d503b2  [trip_1509, trip_1510, trip_1511, trip_1512, t...\n",
       "VJeae6e634f8479e0b6712780d5728f0afca964e64  [trip_1524, trip_1525, trip_1526, trip_1527, t...\n",
       "VJ887921c00645929c5402ac46592e57c368ea63a1  [trip_1546, trip_1547, trip_1548, trip_1549, t...\n",
       "VJ8cacca9a6722c497c413005568182ecf4d50b160  [trip_1552, trip_1553, trip_1554, trip_1555, t...\n",
       "VJb08f8a2de01a4ef99d3b7fefd9022117ac307531       [trip_1560, trip_1561, trip_1562, trip_1563]\n",
       "\n",
       "[69 rows x 1 columns]"
      ]
     },
     "execution_count": 41,
     "metadata": {},
     "output_type": "execute_result"
    }
   ],
   "source": [
    "n.schedule.set_route_trips_dataframe(trips)\n",
    "n.schedule.route_attribute_data(keys=[{'trips': 'trip_id'}])"
   ]
  },
  {
   "cell_type": "markdown",
   "metadata": {},
   "source": [
    "### Applying changes using functions or dictionary mappings\n",
    "\n",
    "If you have some logic that can be written into a function of object's attributes, you can pass this to `apply_function_to_x` methods. You need to select `location`, which refers to the name of the attribute the result should be stored under. It can already exist and be overwritten. The function passed, is not expected to work with all objects. It will fail silently, only evaluating and generating outputs where possible."
   ]
  },
  {
   "cell_type": "code",
   "execution_count": 42,
   "metadata": {
    "ExecuteTime": {
     "end_time": "2021-04-13T15:48:40.465167Z",
     "start_time": "2021-04-13T15:48:40.434353Z"
    }
   },
   "outputs": [
    {
     "name": "stderr",
     "output_type": "stream",
     "text": [
      "2021-04-13 16:48:40,462 - Changed Stop attributes for 87 stops\n"
     ]
    }
   ],
   "source": [
    "from shapely.geometry import Point\n",
    "\n",
    "def add_shapely_geometry_points(stop_attribs):\n",
    "    return Point(stop_attribs['x'], stop_attribs['y'])\n",
    "\n",
    "n.schedule.apply_function_to_stops(add_shapely_geometry_points, location='geometry')"
   ]
  },
  {
   "cell_type": "code",
   "execution_count": 43,
   "metadata": {
    "ExecuteTime": {
     "end_time": "2021-04-13T15:48:40.491886Z",
     "start_time": "2021-04-13T15:48:40.466948Z"
    }
   },
   "outputs": [
    {
     "data": {
      "text/html": [
       "<div>\n",
       "<style scoped>\n",
       "    .dataframe tbody tr th:only-of-type {\n",
       "        vertical-align: middle;\n",
       "    }\n",
       "\n",
       "    .dataframe tbody tr th {\n",
       "        vertical-align: top;\n",
       "    }\n",
       "\n",
       "    .dataframe thead th {\n",
       "        text-align: right;\n",
       "    }\n",
       "</style>\n",
       "<table border=\"1\" class=\"dataframe\">\n",
       "  <thead>\n",
       "    <tr style=\"text-align: right;\">\n",
       "      <th></th>\n",
       "      <th>timestamp</th>\n",
       "      <th>change_event</th>\n",
       "      <th>object_type</th>\n",
       "      <th>old_id</th>\n",
       "      <th>new_id</th>\n",
       "      <th>old_attributes</th>\n",
       "      <th>new_attributes</th>\n",
       "      <th>diff</th>\n",
       "    </tr>\n",
       "  </thead>\n",
       "  <tbody>\n",
       "    <tr>\n",
       "      <th>213</th>\n",
       "      <td>2021-04-13 16:48:40</td>\n",
       "      <td>modify</td>\n",
       "      <td>stop</td>\n",
       "      <td>other_new_stop.link:3154</td>\n",
       "      <td>other_new_stop.link:3154</td>\n",
       "      <td>{'services': set(), 'routes': set(), 'id': 'ot...</td>\n",
       "      <td>{'services': set(), 'routes': set(), 'id': 'ot...</td>\n",
       "      <td>[(add, , [('geometry', &lt;shapely.geometry.point...</td>\n",
       "    </tr>\n",
       "    <tr>\n",
       "      <th>214</th>\n",
       "      <td>2021-04-13 16:48:40</td>\n",
       "      <td>modify</td>\n",
       "      <td>stop</td>\n",
       "      <td>490000235X.link:artificial_link===from:4900002...</td>\n",
       "      <td>490000235X.link:artificial_link===from:4900002...</td>\n",
       "      <td>{'id': '490000235X.link:artificial_link===from...</td>\n",
       "      <td>{'id': '490000235X.link:artificial_link===from...</td>\n",
       "      <td>[(add, , [('geometry', &lt;shapely.geometry.point...</td>\n",
       "    </tr>\n",
       "  </tbody>\n",
       "</table>\n",
       "</div>"
      ],
      "text/plain": [
       "               timestamp change_event object_type  \\\n",
       "213  2021-04-13 16:48:40       modify        stop   \n",
       "214  2021-04-13 16:48:40       modify        stop   \n",
       "\n",
       "                                                old_id  \\\n",
       "213                           other_new_stop.link:3154   \n",
       "214  490000235X.link:artificial_link===from:4900002...   \n",
       "\n",
       "                                                new_id  \\\n",
       "213                           other_new_stop.link:3154   \n",
       "214  490000235X.link:artificial_link===from:4900002...   \n",
       "\n",
       "                                        old_attributes  \\\n",
       "213  {'services': set(), 'routes': set(), 'id': 'ot...   \n",
       "214  {'id': '490000235X.link:artificial_link===from...   \n",
       "\n",
       "                                        new_attributes  \\\n",
       "213  {'services': set(), 'routes': set(), 'id': 'ot...   \n",
       "214  {'id': '490000235X.link:artificial_link===from...   \n",
       "\n",
       "                                                  diff  \n",
       "213  [(add, , [('geometry', <shapely.geometry.point...  \n",
       "214  [(add, , [('geometry', <shapely.geometry.point...  "
      ]
     },
     "execution_count": 43,
     "metadata": {},
     "output_type": "execute_result"
    }
   ],
   "source": [
    "n.schedule.change_log().tail(2)"
   ]
  },
  {
   "cell_type": "code",
   "execution_count": 44,
   "metadata": {
    "ExecuteTime": {
     "end_time": "2021-04-13T15:48:40.542182Z",
     "start_time": "2021-04-13T15:48:40.495580Z"
    }
   },
   "outputs": [
    {
     "data": {
      "text/html": [
       "<div>\n",
       "<style scoped>\n",
       "    .dataframe tbody tr th:only-of-type {\n",
       "        vertical-align: middle;\n",
       "    }\n",
       "\n",
       "    .dataframe tbody tr th {\n",
       "        vertical-align: top;\n",
       "    }\n",
       "\n",
       "    .dataframe thead th {\n",
       "        text-align: right;\n",
       "    }\n",
       "</style>\n",
       "<table border=\"1\" class=\"dataframe\">\n",
       "  <thead>\n",
       "    <tr style=\"text-align: right;\">\n",
       "      <th></th>\n",
       "      <th>name</th>\n",
       "      <th>x</th>\n",
       "      <th>y</th>\n",
       "      <th>geometry</th>\n",
       "    </tr>\n",
       "  </thead>\n",
       "  <tbody>\n",
       "    <tr>\n",
       "      <th>490000235X.link:834</th>\n",
       "      <td>Tottenham Court Road Station (Stop X)</td>\n",
       "      <td>529981.795880</td>\n",
       "      <td>181412.097576</td>\n",
       "      <td>POINT (529981.7958802709 181412.0975758662)</td>\n",
       "    </tr>\n",
       "    <tr>\n",
       "      <th>490000235YB.link:574</th>\n",
       "      <td>Oxford Street  Soho Street (Stop YB)</td>\n",
       "      <td>529570.781323</td>\n",
       "      <td>181336.281593</td>\n",
       "      <td>POINT (529570.7813227688 181336.2815925331)</td>\n",
       "    </tr>\n",
       "    <tr>\n",
       "      <th>490014214HE.link:3154</th>\n",
       "      <td>Wardour Street (Stop OM)</td>\n",
       "      <td>529477.750156</td>\n",
       "      <td>181314.437043</td>\n",
       "      <td>POINT (529477.7501560802 181314.4370430721)</td>\n",
       "    </tr>\n",
       "    <tr>\n",
       "      <th>490010689KB.link:981</th>\n",
       "      <td>Great Titchfield Street  Oxford Circus Station...</td>\n",
       "      <td>529166.734973</td>\n",
       "      <td>181256.336723</td>\n",
       "      <td>POINT (529166.7349732723 181256.3367228433)</td>\n",
       "    </tr>\n",
       "    <tr>\n",
       "      <th>490010689OJ.link:1787</th>\n",
       "      <td>Great Titchfield Street  Oxford Circus Station...</td>\n",
       "      <td>529227.773057</td>\n",
       "      <td>181280.477507</td>\n",
       "      <td>POINT (529227.7730568129 181280.4775071898)</td>\n",
       "    </tr>\n",
       "  </tbody>\n",
       "</table>\n",
       "</div>"
      ],
      "text/plain": [
       "                                                                    name  \\\n",
       "490000235X.link:834                Tottenham Court Road Station (Stop X)   \n",
       "490000235YB.link:574                Oxford Street  Soho Street (Stop YB)   \n",
       "490014214HE.link:3154                           Wardour Street (Stop OM)   \n",
       "490010689KB.link:981   Great Titchfield Street  Oxford Circus Station...   \n",
       "490010689OJ.link:1787  Great Titchfield Street  Oxford Circus Station...   \n",
       "\n",
       "                                   x              y  \\\n",
       "490000235X.link:834    529981.795880  181412.097576   \n",
       "490000235YB.link:574   529570.781323  181336.281593   \n",
       "490014214HE.link:3154  529477.750156  181314.437043   \n",
       "490010689KB.link:981   529166.734973  181256.336723   \n",
       "490010689OJ.link:1787  529227.773057  181280.477507   \n",
       "\n",
       "                                                          geometry  \n",
       "490000235X.link:834    POINT (529981.7958802709 181412.0975758662)  \n",
       "490000235YB.link:574   POINT (529570.7813227688 181336.2815925331)  \n",
       "490014214HE.link:3154  POINT (529477.7501560802 181314.4370430721)  \n",
       "490010689KB.link:981   POINT (529166.7349732723 181256.3367228433)  \n",
       "490010689OJ.link:1787  POINT (529227.7730568129 181280.4775071898)  "
      ]
     },
     "execution_count": 44,
     "metadata": {},
     "output_type": "execute_result"
    }
   ],
   "source": [
    "n.schedule.stop_attribute_data(keys=['name', 'x', 'y', 'geometry']).head()"
   ]
  },
  {
   "cell_type": "code",
   "execution_count": 45,
   "metadata": {
    "ExecuteTime": {
     "end_time": "2021-04-13T15:48:40.791319Z",
     "start_time": "2021-04-13T15:48:40.550726Z"
    }
   },
   "outputs": [
    {
     "data": {
      "text/plain": [
       "<matplotlib.axes._subplots.AxesSubplot at 0x1200b7978>"
      ]
     },
     "execution_count": 45,
     "metadata": {},
     "output_type": "execute_result"
    },
    {
     "data": {
      "image/png": "[encoded data removed]",
      "text/plain": [
       "<Figure size 432x288 with 1 Axes>"
      ]
     },
     "metadata": {
      "needs_background": "light"
     },
     "output_type": "display_data"
    }
   ],
   "source": [
    "from geopandas import GeoDataFrame\n",
    "GeoDataFrame(n.schedule.stop_attribute_data(keys='geometry')).plot()"
   ]
  },
  {
   "cell_type": "code",
   "execution_count": 46,
   "metadata": {
    "ExecuteTime": {
     "end_time": "2021-04-13T15:48:40.806737Z",
     "start_time": "2021-04-13T15:48:40.792917Z"
    }
   },
   "outputs": [
    {
     "data": {
      "text/plain": [
       "{'id': '490000235YB.link:574',\n",
       " 'x': 529570.7813227688,\n",
       " 'y': 181336.2815925331,\n",
       " 'epsg': 'epsg:27700',\n",
       " 'name': 'Oxford Street  Soho Street (Stop YB)',\n",
       " 'lat': -0.13404398709291862,\n",
       " 'lon': 51.51609803324078,\n",
       " 's2_id': 2507584474601580133,\n",
       " 'additional_attributes': {'geometry',\n",
       "  'isBlocking',\n",
       "  'linkRefId',\n",
       "  'new_attribute'},\n",
       " 'linkRefId': '574',\n",
       " 'isBlocking': 'false',\n",
       " 'new_attribute': 'hello!',\n",
       " 'geometry': <shapely.geometry.point.Point at 0x12005a240>}"
      ]
     },
     "execution_count": 46,
     "metadata": {},
     "output_type": "execute_result"
    }
   ],
   "source": [
    "n.schedule.stop('490000235YB.link:574').__dict__"
   ]
  },
  {
   "cell_type": "markdown",
   "metadata": {},
   "source": [
    "For this let's say we want to reduce the number of trips. For simplicity of demonstration we don't have about which trips we delete, but logic around timings of trips can be added in this function, as the trips are saved as one of routes attributes (check out the summary methods)"
   ]
  },
  {
   "cell_type": "code",
   "execution_count": 47,
   "metadata": {
    "ExecuteTime": {
     "end_time": "2021-04-13T15:48:40.850585Z",
     "start_time": "2021-04-13T15:48:40.809382Z"
    }
   },
   "outputs": [
    {
     "data": {
      "text/plain": [
       "1564"
      ]
     },
     "execution_count": 47,
     "metadata": {},
     "output_type": "execute_result"
    }
   ],
   "source": [
    "# before\n",
    "len(n.schedule.route_trips_to_dataframe())"
   ]
  },
  {
   "cell_type": "code",
   "execution_count": 48,
   "metadata": {
    "ExecuteTime": {
     "end_time": "2021-04-13T15:48:40.886280Z",
     "start_time": "2021-04-13T15:48:40.855990Z"
    }
   },
   "outputs": [
    {
     "name": "stderr",
     "output_type": "stream",
     "text": [
      "2021-04-13 16:48:40,884 - Changed Route attributes for 69 routes\n"
     ]
    }
   ],
   "source": [
    "def reduce_trips(attribs):\n",
    "    # just delete any other trip\n",
    "    attribs['trips']['trip_id'] = attribs['trips']['trip_id'][::2]\n",
    "    attribs['trips']['trip_departure_time'] = attribs['trips']['trip_departure_time'][::2]\n",
    "    attribs['trips']['vehicle_id'] = attribs['trips']['vehicle_id'][::2]\n",
    "    return attribs['trips']\n",
    "\n",
    "n.schedule.apply_function_to_routes(reduce_trips, 'trips')"
   ]
  },
  {
   "cell_type": "code",
   "execution_count": 49,
   "metadata": {
    "ExecuteTime": {
     "end_time": "2021-04-13T15:48:40.913447Z",
     "start_time": "2021-04-13T15:48:40.888236Z"
    }
   },
   "outputs": [
    {
     "data": {
      "text/plain": [
       "793"
      ]
     },
     "execution_count": 49,
     "metadata": {},
     "output_type": "execute_result"
    }
   ],
   "source": [
    "# after\n",
    "len(n.schedule.route_trips_to_dataframe())"
   ]
  },
  {
   "cell_type": "markdown",
   "metadata": {},
   "source": [
    "Note, this could also be done using the `route_trips_to_dataframe` and `set_route_trips_dataframe` mentioned above.\n",
    "\n",
    "Let's give an example of using a mapping. We can re-use the service name DataFrame we generated above."
   ]
  },
  {
   "cell_type": "code",
   "execution_count": 50,
   "metadata": {
    "ExecuteTime": {
     "end_time": "2021-04-13T15:48:40.926054Z",
     "start_time": "2021-04-13T15:48:40.914955Z"
    }
   },
   "outputs": [
    {
     "data": {
      "text/html": [
       "<div>\n",
       "<style scoped>\n",
       "    .dataframe tbody tr th:only-of-type {\n",
       "        vertical-align: middle;\n",
       "    }\n",
       "\n",
       "    .dataframe tbody tr th {\n",
       "        vertical-align: top;\n",
       "    }\n",
       "\n",
       "    .dataframe thead th {\n",
       "        text-align: right;\n",
       "    }\n",
       "</style>\n",
       "<table border=\"1\" class=\"dataframe\">\n",
       "  <thead>\n",
       "    <tr style=\"text-align: right;\">\n",
       "      <th></th>\n",
       "      <th>name</th>\n",
       "      <th>new_name</th>\n",
       "    </tr>\n",
       "  </thead>\n",
       "  <tbody>\n",
       "    <tr>\n",
       "      <th>12430</th>\n",
       "      <td>Service_205</td>\n",
       "      <td>Brand_new_nameService_205</td>\n",
       "    </tr>\n",
       "    <tr>\n",
       "      <th>15234</th>\n",
       "      <td>Service_134</td>\n",
       "      <td>Brand_new_nameService_134</td>\n",
       "    </tr>\n",
       "    <tr>\n",
       "      <th>15660</th>\n",
       "      <td>Service_113</td>\n",
       "      <td>Brand_new_nameService_113</td>\n",
       "    </tr>\n",
       "    <tr>\n",
       "      <th>20274</th>\n",
       "      <td>Service_N55</td>\n",
       "      <td>Brand_new_nameService_N55</td>\n",
       "    </tr>\n",
       "    <tr>\n",
       "      <th>14073</th>\n",
       "      <td>Service_94</td>\n",
       "      <td>Brand_new_nameService_94</td>\n",
       "    </tr>\n",
       "  </tbody>\n",
       "</table>\n",
       "</div>"
      ],
      "text/plain": [
       "              name                   new_name\n",
       "12430  Service_205  Brand_new_nameService_205\n",
       "15234  Service_134  Brand_new_nameService_134\n",
       "15660  Service_113  Brand_new_nameService_113\n",
       "20274  Service_N55  Brand_new_nameService_N55\n",
       "14073   Service_94   Brand_new_nameService_94"
      ]
     },
     "execution_count": 50,
     "metadata": {},
     "output_type": "execute_result"
    }
   ],
   "source": [
    "df['new_name'] = 'Brand_new_name' + df['name']\n",
    "df.head()"
   ]
  },
  {
   "cell_type": "code",
   "execution_count": 51,
   "metadata": {
    "ExecuteTime": {
     "end_time": "2021-04-13T15:48:40.936510Z",
     "start_time": "2021-04-13T15:48:40.929015Z"
    }
   },
   "outputs": [
    {
     "data": {
      "text/plain": [
       "{'Service_205': 'Brand_new_nameService_205',\n",
       " 'Service_134': 'Brand_new_nameService_134',\n",
       " 'Service_113': 'Brand_new_nameService_113',\n",
       " 'Service_N55': 'Brand_new_nameService_N55',\n",
       " 'Service_94': 'Brand_new_nameService_94',\n",
       " 'Service_N8': 'Brand_new_nameService_N8',\n",
       " 'Service_N20': 'Brand_new_nameService_N20',\n",
       " 'Service_98': 'Brand_new_nameService_98',\n",
       " 'Service_N5': 'Brand_new_nameService_N5'}"
      ]
     },
     "execution_count": 51,
     "metadata": {},
     "output_type": "execute_result"
    }
   ],
   "source": [
    "name_map = dict(zip(df['name'], df['new_name']))\n",
    "name_map"
   ]
  },
  {
   "cell_type": "markdown",
   "metadata": {},
   "source": [
    "In this case, `location` refers to the attribute to be mapped."
   ]
  },
  {
   "cell_type": "code",
   "execution_count": 52,
   "metadata": {
    "ExecuteTime": {
     "end_time": "2021-04-13T15:48:40.948062Z",
     "start_time": "2021-04-13T15:48:40.939703Z"
    }
   },
   "outputs": [
    {
     "name": "stderr",
     "output_type": "stream",
     "text": [
      "2021-04-13 16:48:40,944 - Changed Service attributes for 9 services\n"
     ]
    }
   ],
   "source": [
    "n.schedule.apply_function_to_services(name_map, location='name')"
   ]
  },
  {
   "cell_type": "code",
   "execution_count": 53,
   "metadata": {
    "ExecuteTime": {
     "end_time": "2021-04-13T15:48:40.971598Z",
     "start_time": "2021-04-13T15:48:40.951045Z"
    }
   },
   "outputs": [
    {
     "data": {
      "text/html": [
       "<div>\n",
       "<style scoped>\n",
       "    .dataframe tbody tr th:only-of-type {\n",
       "        vertical-align: middle;\n",
       "    }\n",
       "\n",
       "    .dataframe tbody tr th {\n",
       "        vertical-align: top;\n",
       "    }\n",
       "\n",
       "    .dataframe thead th {\n",
       "        text-align: right;\n",
       "    }\n",
       "</style>\n",
       "<table border=\"1\" class=\"dataframe\">\n",
       "  <thead>\n",
       "    <tr style=\"text-align: right;\">\n",
       "      <th></th>\n",
       "      <th>timestamp</th>\n",
       "      <th>change_event</th>\n",
       "      <th>object_type</th>\n",
       "      <th>old_id</th>\n",
       "      <th>new_id</th>\n",
       "      <th>old_attributes</th>\n",
       "      <th>new_attributes</th>\n",
       "      <th>diff</th>\n",
       "    </tr>\n",
       "  </thead>\n",
       "  <tbody>\n",
       "    <tr>\n",
       "      <th>288</th>\n",
       "      <td>2021-04-13 16:48:40</td>\n",
       "      <td>modify</td>\n",
       "      <td>service</td>\n",
       "      <td>14073</td>\n",
       "      <td>14073</td>\n",
       "      <td>{'id': '14073', 'name': 'Service_94'}</td>\n",
       "      <td>{'id': '14073', 'name': 'Brand_new_nameService...</td>\n",
       "      <td>[(change, name, (Service_94, Brand_new_nameSer...</td>\n",
       "    </tr>\n",
       "    <tr>\n",
       "      <th>289</th>\n",
       "      <td>2021-04-13 16:48:40</td>\n",
       "      <td>modify</td>\n",
       "      <td>service</td>\n",
       "      <td>18853</td>\n",
       "      <td>18853</td>\n",
       "      <td>{'id': '18853', 'name': 'Service_N8'}</td>\n",
       "      <td>{'id': '18853', 'name': 'Brand_new_nameService...</td>\n",
       "      <td>[(change, name, (Service_N8, Brand_new_nameSer...</td>\n",
       "    </tr>\n",
       "    <tr>\n",
       "      <th>290</th>\n",
       "      <td>2021-04-13 16:48:40</td>\n",
       "      <td>modify</td>\n",
       "      <td>service</td>\n",
       "      <td>17732</td>\n",
       "      <td>17732</td>\n",
       "      <td>{'id': '17732', 'name': 'Service_N20'}</td>\n",
       "      <td>{'id': '17732', 'name': 'Brand_new_nameService...</td>\n",
       "      <td>[(change, name, (Service_N20, Brand_new_nameSe...</td>\n",
       "    </tr>\n",
       "    <tr>\n",
       "      <th>291</th>\n",
       "      <td>2021-04-13 16:48:40</td>\n",
       "      <td>modify</td>\n",
       "      <td>service</td>\n",
       "      <td>14134</td>\n",
       "      <td>14134</td>\n",
       "      <td>{'id': '14134', 'name': 'Service_98'}</td>\n",
       "      <td>{'id': '14134', 'name': 'Brand_new_nameService...</td>\n",
       "      <td>[(change, name, (Service_98, Brand_new_nameSer...</td>\n",
       "    </tr>\n",
       "    <tr>\n",
       "      <th>292</th>\n",
       "      <td>2021-04-13 16:48:40</td>\n",
       "      <td>modify</td>\n",
       "      <td>service</td>\n",
       "      <td>18915</td>\n",
       "      <td>18915</td>\n",
       "      <td>{'id': '18915', 'name': 'Service_N5'}</td>\n",
       "      <td>{'id': '18915', 'name': 'Brand_new_nameService...</td>\n",
       "      <td>[(change, name, (Service_N5, Brand_new_nameSer...</td>\n",
       "    </tr>\n",
       "  </tbody>\n",
       "</table>\n",
       "</div>"
      ],
      "text/plain": [
       "               timestamp change_event object_type old_id new_id  \\\n",
       "288  2021-04-13 16:48:40       modify     service  14073  14073   \n",
       "289  2021-04-13 16:48:40       modify     service  18853  18853   \n",
       "290  2021-04-13 16:48:40       modify     service  17732  17732   \n",
       "291  2021-04-13 16:48:40       modify     service  14134  14134   \n",
       "292  2021-04-13 16:48:40       modify     service  18915  18915   \n",
       "\n",
       "                             old_attributes  \\\n",
       "288   {'id': '14073', 'name': 'Service_94'}   \n",
       "289   {'id': '18853', 'name': 'Service_N8'}   \n",
       "290  {'id': '17732', 'name': 'Service_N20'}   \n",
       "291   {'id': '14134', 'name': 'Service_98'}   \n",
       "292   {'id': '18915', 'name': 'Service_N5'}   \n",
       "\n",
       "                                        new_attributes  \\\n",
       "288  {'id': '14073', 'name': 'Brand_new_nameService...   \n",
       "289  {'id': '18853', 'name': 'Brand_new_nameService...   \n",
       "290  {'id': '17732', 'name': 'Brand_new_nameService...   \n",
       "291  {'id': '14134', 'name': 'Brand_new_nameService...   \n",
       "292  {'id': '18915', 'name': 'Brand_new_nameService...   \n",
       "\n",
       "                                                  diff  \n",
       "288  [(change, name, (Service_94, Brand_new_nameSer...  \n",
       "289  [(change, name, (Service_N8, Brand_new_nameSer...  \n",
       "290  [(change, name, (Service_N20, Brand_new_nameSe...  \n",
       "291  [(change, name, (Service_98, Brand_new_nameSer...  \n",
       "292  [(change, name, (Service_N5, Brand_new_nameSer...  "
      ]
     },
     "execution_count": 53,
     "metadata": {},
     "output_type": "execute_result"
    }
   ],
   "source": [
    "n.schedule.change_log().tail()"
   ]
  }
 ],
 "metadata": {
  "kernelspec": {
   "display_name": "genet",
   "language": "python",
   "name": "genet"
  },
  "language_info": {
   "codemirror_mode": {
    "name": "ipython",
    "version": 3
   },
   "file_extension": ".py",
   "mimetype": "text/x-python",
   "name": "python",
   "nbconvert_exporter": "python",
   "pygments_lexer": "ipython3",
   "version": "3.7.0"
  },
  "latex_envs": {
   "LaTeX_envs_menu_present": true,
   "autoclose": true,
   "autocomplete": true,
   "bibliofile": "biblio.bib",
   "cite_by": "apalike",
   "current_citInitial": 1,
   "eqLabelWithNumbers": true,
   "eqNumInitial": 1,
   "hotkeys": {
    "equation": "Ctrl-E",
    "itemize": "Ctrl-I"
   },
   "labels_anchors": false,
   "latex_user_defs": false,
   "report_style_numbering": false,
   "user_envs_cfg": false
  },
  "toc": {
   "base_numbering": 1,
   "nav_menu": {},
   "number_sections": true,
   "sideBar": true,
   "skip_h1_title": false,
   "title_cell": "Table of Contents",
   "title_sidebar": "Contents",
   "toc_cell": false,
   "toc_position": {},
   "toc_section_display": true,
   "toc_window_display": false
  },
  "varInspector": {
   "cols": {
    "lenName": 16,
    "lenType": 16,
    "lenVar": 40
   },
   "kernels_config": {
    "python": {
     "delete_cmd_postfix": "",
     "delete_cmd_prefix": "del ",
     "library": "var_list.py",
     "varRefreshCmd": "print(var_dic_list())"
    },
    "r": {
     "delete_cmd_postfix": ") ",
     "delete_cmd_prefix": "rm(",
     "library": "var_list.r",
     "varRefreshCmd": "cat(var_dic_list()) "
    }
   },
   "types_to_exclude": [
    "module",
    "function",
    "builtin_function_or_method",
    "instance",
    "_Feature"
   ],
   "window_display": false
  }
 },
 "nbformat": 4,
 "nbformat_minor": 2
}
