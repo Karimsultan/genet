{
 "cells": [
  {
   "cell_type": "markdown",
   "metadata": {},
   "source": [
    "# Modifying the `Schedule` object\n",
    "\n",
    "GeNet has a number of methods to change the Schedule objects. Make sure you validate the end result."
   ]
  },
  {
   "cell_type": "code",
   "execution_count": 1,
   "metadata": {
    "ExecuteTime": {
     "end_time": "2021-04-03T08:51:01.425737Z",
     "start_time": "2021-04-03T08:50:57.278376Z"
    }
   },
   "outputs": [
    {
     "data": {
      "text/plain": [
       "<Network instance at 4554791400: with \n",
       "graph: Name: Network graph\n",
       "Type: MultiDiGraph\n",
       "Number of nodes: 1662\n",
       "Number of edges: 3166\n",
       "Average in degree:   1.9049\n",
       "Average out degree:   1.9049 and \n",
       "schedule Schedule:\n",
       "Number of services: 9\n",
       "Number of routes: 68\n",
       "Number of stops: 45"
      ]
     },
     "execution_count": 1,
     "metadata": {},
     "output_type": "execute_result"
    }
   ],
   "source": [
    "# read example network\n",
    "import pandas as pd\n",
    "from genet import Network, Stop, Route, Service\n",
    "import os\n",
    "\n",
    "n = Network('epsg:27700')\n",
    "path_to_matsim_network = '../example_data/pt2matsim_network'\n",
    "n.read_matsim_network(os.path.join(path_to_matsim_network, 'network.xml'))\n",
    "# you don't need to read the vehicles file, but doing so ensures all vehicles\n",
    "# in the schedule are of the expected type and the definition of the vehicle\n",
    "# is preserved\n",
    "n.read_matsim_schedule(\n",
    "    os.path.join(path_to_matsim_network, 'schedule.xml'),\n",
    "    os.path.join(path_to_matsim_network, 'vehicles.xml')\n",
    ")\n",
    "n"
   ]
  },
  {
   "cell_type": "markdown",
   "metadata": {},
   "source": [
    "## Adding Routes, Services\n",
    "\n",
    "You can add `Route`s and `Service`s. To add a `Route`, you need to identify which existing `Service` it should come under."
   ]
  },
  {
   "cell_type": "code",
   "execution_count": 2,
   "metadata": {
    "ExecuteTime": {
     "end_time": "2021-04-03T08:51:01.834708Z",
     "start_time": "2021-04-03T08:51:01.427620Z"
    }
   },
   "outputs": [
    {
     "name": "stderr",
     "output_type": "stream",
     "text": [
      "2021-04-03 09:51:01,826 - Added Route with index `new_route`, data={'route_short_name': 'N55', 'mode': 'bus', 'trips': {'trip_id': ['fun_trip_1', 'fun_trip_2'], 'trip_departure_time': ['03:53:00', '16:23:00'], 'vehicle_id': ['fun_bus_1', 'fun_bus_2']}, 'arrival_offsets': ['00:00:00', '00:02:00', '00:04:00', '00:06:00'], 'departure_offsets': ['00:00:00', '00:02:00', '00:04:00', '00:06:00'], 'route_long_name': '', 'id': 'new_route', 'route': [], 'await_departure': [True, True, True, True], 'ordered_stops': ['490000235X.link:834', 'new_stop', 'other_new_stop', '490010689KB.link:981']} to Service `20274` within the Schedule\n"
     ]
    },
    {
     "data": {
      "text/plain": [
       "<Route instance at 4821145416: with 4 stops and 2 trips>"
      ]
     },
     "execution_count": 2,
     "metadata": {},
     "output_type": "execute_result"
    }
   ],
   "source": [
    "route = Route(\n",
    "    route_short_name='N55',\n",
    "    mode='bus',\n",
    "    trips={'trip_id': ['fun_trip_1', 'fun_trip_2'], \n",
    "           'trip_departure_time': ['03:53:00', '16:23:00'], \n",
    "           'vehicle_id': ['fun_bus_1', 'fun_bus_2']},\n",
    "   arrival_offsets=['00:00:00', '00:02:00', '00:04:00', '00:06:00'],\n",
    "   departure_offsets=['00:00:00', '00:02:00', '00:04:00', '00:06:00'],\n",
    "   id='new_route',\n",
    "#    route= ['834', '1573', '3139', '3141', '574', '3154', '979', '980', '981'],\n",
    "   await_departure= [True, True, True, True],\n",
    "   stops=[n.schedule.stop('490000235X.link:834'),\n",
    "          Stop(id='new_stop', x=529500, y=181300,\n",
    "            name='New Stop', epsg='epsg:27700'),\n",
    "          Stop(id='other_new_stop', x=529502, y=181302,\n",
    "            name='Other New Stop', epsg='epsg:27700'),\n",
    "          n.schedule.stop('490010689KB.link:981')]\n",
    ")\n",
    "\n",
    "n.schedule.add_route('20274', route)"
   ]
  },
  {
   "cell_type": "markdown",
   "metadata": {},
   "source": [
    "Alternatively, you can create and add a new `Service`."
   ]
  },
  {
   "cell_type": "code",
   "execution_count": 3,
   "metadata": {
    "ExecuteTime": {
     "end_time": "2021-04-03T08:51:01.870584Z",
     "start_time": "2021-04-03T08:51:01.836713Z"
    }
   },
   "outputs": [
    {
     "name": "stderr",
     "output_type": "stream",
     "text": [
      "2021-04-03 09:51:01,849 - Route with ID `new_route` within this Service `new_service` already exists in the Schedule. This Route will be reindexed to `new_service_new_route`\n",
      "2021-04-03 09:51:01,854 - Reindexed Route from new_route to new_service_new_route\n",
      "2021-04-03 09:51:01,867 - Added Service with index `new_service`, data={'id': 'new_service', 'name': 'N55'} and Routes: ['new_service_new_route']\n"
     ]
    },
    {
     "data": {
      "text/plain": [
       "<Service instance at 4554790672: with 1 routes>"
      ]
     },
     "execution_count": 3,
     "metadata": {},
     "output_type": "execute_result"
    }
   ],
   "source": [
    "n.schedule.add_service(Service(id='new_service', routes=[route]))"
   ]
  },
  {
   "cell_type": "markdown",
   "metadata": {},
   "source": [
    "You can also refer to existing stops in the `Schedule` when creating a`Route` to be added. You can either just pass Stop IDs as strings or use a stop method on the schedule to take and use that stop object. Note that in the case of the former (passing ID strings), the route will not have the spatial information for those stops until it is added to the Schedule."
   ]
  },
  {
   "cell_type": "code",
   "execution_count": 4,
   "metadata": {
    "ExecuteTime": {
     "end_time": "2021-04-03T08:51:01.886425Z",
     "start_time": "2021-04-03T08:51:01.872704Z"
    }
   },
   "outputs": [],
   "source": [
    "r = Route(\n",
    "    route_short_name='N55',\n",
    "    mode='bus',\n",
    "    trips={'trip_id': ['some_trip_1'], \n",
    "           'trip_departure_time': ['16:23:00'], \n",
    "           'vehicle_id': ['some_bus_2']},\n",
    "   arrival_offsets=['00:00:00', '00:06:00'],\n",
    "   departure_offsets=['00:00:00', '00:06:00'],\n",
    "   id='another_new_route',\n",
    "#    route= ['834', '1573', '3139', '3141', '574', '3154', '979', '980', '981'],\n",
    "   await_departure= [True, True],\n",
    "   stops=['490000235X.link:834', \n",
    "          '490010689KB.link:981']\n",
    ")"
   ]
  },
  {
   "cell_type": "code",
   "execution_count": 5,
   "metadata": {
    "ExecuteTime": {
     "end_time": "2021-04-03T08:51:01.899457Z",
     "start_time": "2021-04-03T08:51:01.889913Z"
    }
   },
   "outputs": [
    {
     "data": {
      "text/plain": [
       "{'routes': {'another_new_route'}}"
      ]
     },
     "execution_count": 5,
     "metadata": {},
     "output_type": "execute_result"
    }
   ],
   "source": [
    "r.graph().nodes['490000235X.link:834']"
   ]
  },
  {
   "cell_type": "code",
   "execution_count": 6,
   "metadata": {
    "ExecuteTime": {
     "end_time": "2021-04-03T08:51:01.912577Z",
     "start_time": "2021-04-03T08:51:01.901287Z"
    }
   },
   "outputs": [
    {
     "name": "stderr",
     "output_type": "stream",
     "text": [
      "2021-04-03 09:51:01,908 - Added Route with index `another_new_route`, data={'route_short_name': 'N55', 'mode': 'bus', 'trips': {'trip_id': ['some_trip_1'], 'trip_departure_time': ['16:23:00'], 'vehicle_id': ['some_bus_2']}, 'arrival_offsets': ['00:00:00', '00:06:00'], 'departure_offsets': ['00:00:00', '00:06:00'], 'route_long_name': '', 'id': 'another_new_route', 'route': [], 'await_departure': [True, True], 'ordered_stops': ['490000235X.link:834', '490010689KB.link:981']} to Service `20274` within the Schedule\n"
     ]
    },
    {
     "data": {
      "text/plain": [
       "<Route instance at 4821125888: with 2 stops and 1 trips>"
      ]
     },
     "execution_count": 6,
     "metadata": {},
     "output_type": "execute_result"
    }
   ],
   "source": [
    "n.schedule.add_route('20274', r)"
   ]
  },
  {
   "cell_type": "code",
   "execution_count": 7,
   "metadata": {
    "ExecuteTime": {
     "end_time": "2021-04-03T08:51:01.924359Z",
     "start_time": "2021-04-03T08:51:01.915202Z"
    }
   },
   "outputs": [
    {
     "data": {
      "text/plain": [
       "{'services': {'14134', '18853', '20274'},\n",
       " 'routes': {'VJ12ba6089dfb2733e29c415a1a0015fef30fd5305',\n",
       "  'VJ256e98df611ff48afe737ddc81cbcde82e4e81c8',\n",
       "  'VJ2aba67e3ed98f2ed5f5966c1ac394cbf6d1943d7',\n",
       "  'VJ375a660d47a2aa570aa20a8568012da8497ffecf',\n",
       "  'VJ4e2b897edf0e7b8a8e3b5516ab43ce56f72c5cff',\n",
       "  'VJa7f37392e276aeac26c7e73bbc05e6a71af38dba',\n",
       "  'VJd78967364a302cf232c5139d40622dcb6c238c9e',\n",
       "  'VJdf3936da1a51eb33db594ef99738802c14b19995',\n",
       "  'VJf3e316e5e605bb512147dee2a989be5a82ef1b5f',\n",
       "  'VJf9a22035ae6f25bb420df833474943ad76065c89',\n",
       "  'another_new_route',\n",
       "  'new_route'},\n",
       " 'id': '490000235X.link:834',\n",
       " 'x': 529981.7958802709,\n",
       " 'y': 181412.0975758662,\n",
       " 'epsg': 'epsg:27700',\n",
       " 'name': 'Tottenham Court Road Station (Stop X)',\n",
       " 'lon': 51.51668503324075,\n",
       " 'lat': -0.12809598708996447,\n",
       " 's2_id': 2507584377443783851,\n",
       " 'additional_attributes': {'isBlocking', 'linkRefId', 'name'},\n",
       " 'linkRefId': '834',\n",
       " 'isBlocking': 'false'}"
      ]
     },
     "execution_count": 7,
     "metadata": {},
     "output_type": "execute_result"
    }
   ],
   "source": [
    "r.graph().nodes['490000235X.link:834']"
   ]
  },
  {
   "cell_type": "code",
   "execution_count": 8,
   "metadata": {
    "ExecuteTime": {
     "end_time": "2021-04-03T08:51:01.951435Z",
     "start_time": "2021-04-03T08:51:01.930187Z"
    }
   },
   "outputs": [
    {
     "name": "stderr",
     "output_type": "stream",
     "text": [
      "2021-04-03 09:51:01,943 - Added Route with index `another_new_route_2`, data={'route_short_name': 'N55', 'mode': 'bus', 'trips': {'trip_id': ['some_trip_1'], 'trip_departure_time': ['16:23:00'], 'vehicle_id': ['some_bus_2']}, 'arrival_offsets': ['00:00:00', '00:06:00'], 'departure_offsets': ['00:00:00', '00:06:00'], 'route_long_name': '', 'id': 'another_new_route_2', 'route': [], 'await_departure': [True, True], 'ordered_stops': ['490000235X.link:834', '490010689KB.link:981']} to Service `20274` within the Schedule\n"
     ]
    },
    {
     "data": {
      "text/plain": [
       "<Route instance at 4821060688: with 2 stops and 1 trips>"
      ]
     },
     "execution_count": 8,
     "metadata": {},
     "output_type": "execute_result"
    }
   ],
   "source": [
    "r = Route(\n",
    "    route_short_name='N55',\n",
    "    mode='bus',\n",
    "    trips={'trip_id': ['some_trip_1'], \n",
    "           'trip_departure_time': ['16:23:00'], \n",
    "           'vehicle_id': ['some_bus_2']},\n",
    "   arrival_offsets=['00:00:00', '00:06:00'],\n",
    "   departure_offsets=['00:00:00', '00:06:00'],\n",
    "   id='another_new_route_2',\n",
    "#    route= ['834', '1573', '3139', '3141', '574', '3154', '979', '980', '981'],\n",
    "   await_departure= [True, True],\n",
    "   stops=[n.schedule.stop('490000235X.link:834'), \n",
    "          n.schedule.stop('490010689KB.link:981')]\n",
    ")\n",
    "n.schedule.add_route('20274', r)"
   ]
  },
  {
   "cell_type": "markdown",
   "metadata": {},
   "source": [
    "Note that for a Schedule to be a valid MATSim network, each stop referred to by a route needs a `linkRefId` attribute which links the stop to the `Network`.\n",
    "\n",
    "Trying to add Stops with IDs already in the Schedule will result in an error, unless the `force=True` is set. The added route/service will inherit the data stored under those stops. The idea is that you can either specify the Stops in the route/service to be added correctly, or if they are to be changed, you use a dedicated method - check section 'Modifying data' below."
   ]
  },
  {
   "cell_type": "code",
   "execution_count": 9,
   "metadata": {
    "ExecuteTime": {
     "end_time": "2021-04-03T08:51:02.752594Z",
     "start_time": "2021-04-03T08:51:01.954560Z"
    }
   },
   "outputs": [
    {
     "name": "stderr",
     "output_type": "stream",
     "text": [
      "2021-04-03 09:51:02,741 - The following stops will inherit the data currently stored under those Stop IDs in the Schedule: ['490000235X.link:834', '490010689KB.link:981'].\n",
      "2021-04-03 09:51:02,747 - Added Route with index `another_new_route_3`, data={'route_short_name': 'N55', 'mode': 'bus', 'trips': {'trip_id': ['fun_trip_1', 'fun_trip_2'], 'trip_departure_time': ['03:53:00', '16:23:00'], 'vehicle_id': ['fun_bus_1', 'fun_bus_2']}, 'arrival_offsets': ['00:00:00', '00:02:00', '00:04:00', '00:06:00'], 'departure_offsets': ['00:00:00', '00:02:00', '00:04:00', '00:06:00'], 'route_long_name': '', 'id': 'another_new_route_3', 'route': [], 'await_departure': [True, True, True, True], 'ordered_stops': ['490000235X.link:834', 'new_stop', 'other_new_stop', '490010689KB.link:981']} to Service `20274` within the Schedule\n"
     ]
    },
    {
     "data": {
      "text/plain": [
       "<Route instance at 4821039256: with 4 stops and 2 trips>"
      ]
     },
     "execution_count": 9,
     "metadata": {},
     "output_type": "execute_result"
    }
   ],
   "source": [
    "route = Route(\n",
    "    route_short_name='N55',\n",
    "    mode='bus',\n",
    "    trips={'trip_id': ['fun_trip_1', 'fun_trip_2'], \n",
    "           'trip_departure_time': ['03:53:00', '16:23:00'], \n",
    "           'vehicle_id': ['fun_bus_1', 'fun_bus_2']},\n",
    "   arrival_offsets=['00:00:00', '00:02:00', '00:04:00', '00:06:00'],\n",
    "   departure_offsets=['00:00:00', '00:02:00', '00:04:00', '00:06:00'],\n",
    "   id='another_new_route_3',\n",
    "#    route= ['834', '1573', '3139', '3141', '574', '3154', '979', '980', '981'],\n",
    "   await_departure= [True, True, True, True],\n",
    "   stops=[\n",
    "       Stop(id='490000235X.link:834', x=529981, y=181412, epsg='epsg:27700'),\n",
    "       Stop(id='new_stop', x=529500, y=181300, epsg='epsg:27700', name='New Stop'),\n",
    "       Stop(id='other_new_stop', x=529502, y=181302, epsg='epsg:27700', name='Other New Stop'),\n",
    "       Stop(id='490010689KB.link:981', x=529166, y=181256, epsg='epsg:27700')\n",
    "   ]\n",
    ")\n",
    "\n",
    "n.schedule.add_route('20274', route, force=True)"
   ]
  },
  {
   "cell_type": "markdown",
   "metadata": {},
   "source": [
    "Note the message above: `The following stops will inherit the data currently stored under those Stop IDs in the Schedule: ['490000235X.link:834', '490010689KB.link:981'].`\n",
    "\n",
    "NOTE: adding routes and services results in new vehicles (unless you reuse the ones already in the Schedule---beware that the same vehicle cannot service multiple trips at the same time, genet does not currently have checks for this, the user needs to be mindful of the physics of shared vehicles). New vehicles need definitions, you can add them yourself to `schedule.vehicles['vehicle_id'] = {'type': 'bus'}` ensuring this vehicle type is defined in `schedule.vehicle_types['bus']`, or you can use a genet method to generate those vehicles, the type will be derived from the mode of the route. Then you can check if all of the types that vehicles are referring to have definitions."
   ]
  },
  {
   "cell_type": "code",
   "execution_count": 10,
   "metadata": {
    "ExecuteTime": {
     "end_time": "2021-04-03T08:51:02.762946Z",
     "start_time": "2021-04-03T08:51:02.754879Z"
    }
   },
   "outputs": [
    {
     "data": {
      "text/plain": [
       "13290"
      ]
     },
     "execution_count": 10,
     "metadata": {},
     "output_type": "execute_result"
    }
   ],
   "source": [
    "len(n.schedule.vehicles)"
   ]
  },
  {
   "cell_type": "code",
   "execution_count": 11,
   "metadata": {
    "ExecuteTime": {
     "end_time": "2021-04-03T08:51:03.123783Z",
     "start_time": "2021-04-03T08:51:02.765118Z"
    }
   },
   "outputs": [
    {
     "name": "stderr",
     "output_type": "stream",
     "text": [
      "/Users/kasia.kozlowska/PycharmProjects/ABM/genet/genet/schedule_elements.py:1232: UserWarning: DataFrame columns are not unique, some columns will be omitted.\n",
      "  self.vehicles = {**df.T.to_dict(), **self.vehicles}\n"
     ]
    },
    {
     "data": {
      "text/plain": [
       "True"
      ]
     },
     "execution_count": 11,
     "metadata": {},
     "output_type": "execute_result"
    }
   ],
   "source": [
    "n.schedule.generate_vehicles()\n",
    "n.schedule.validate_vehicle_definitions()"
   ]
  },
  {
   "cell_type": "code",
   "execution_count": 12,
   "metadata": {
    "ExecuteTime": {
     "end_time": "2021-04-03T08:51:03.136063Z",
     "start_time": "2021-04-03T08:51:03.127555Z"
    }
   },
   "outputs": [
    {
     "data": {
      "text/plain": [
       "13293"
      ]
     },
     "execution_count": 12,
     "metadata": {},
     "output_type": "execute_result"
    }
   ],
   "source": [
    "len(n.schedule.vehicles)"
   ]
  },
  {
   "cell_type": "code",
   "execution_count": 13,
   "metadata": {
    "ExecuteTime": {
     "end_time": "2021-04-03T08:51:03.159721Z",
     "start_time": "2021-04-03T08:51:03.137698Z"
    }
   },
   "outputs": [
    {
     "data": {
      "text/html": [
       "<div>\n",
       "<style scoped>\n",
       "    .dataframe tbody tr th:only-of-type {\n",
       "        vertical-align: middle;\n",
       "    }\n",
       "\n",
       "    .dataframe tbody tr th {\n",
       "        vertical-align: top;\n",
       "    }\n",
       "\n",
       "    .dataframe thead th {\n",
       "        text-align: right;\n",
       "    }\n",
       "</style>\n",
       "<table border=\"1\" class=\"dataframe\">\n",
       "  <thead>\n",
       "    <tr style=\"text-align: right;\">\n",
       "      <th></th>\n",
       "      <th>timestamp</th>\n",
       "      <th>change_event</th>\n",
       "      <th>object_type</th>\n",
       "      <th>old_id</th>\n",
       "      <th>new_id</th>\n",
       "      <th>old_attributes</th>\n",
       "      <th>new_attributes</th>\n",
       "      <th>diff</th>\n",
       "    </tr>\n",
       "  </thead>\n",
       "  <tbody>\n",
       "    <tr>\n",
       "      <th>0</th>\n",
       "      <td>2021-04-03 09:51:01</td>\n",
       "      <td>add</td>\n",
       "      <td>route</td>\n",
       "      <td>None</td>\n",
       "      <td>new_route</td>\n",
       "      <td>None</td>\n",
       "      <td>{'route_short_name': 'N55', 'mode': 'bus', 'tr...</td>\n",
       "      <td>[(add, , [('route_short_name', 'N55'), ('mode'...</td>\n",
       "    </tr>\n",
       "    <tr>\n",
       "      <th>1</th>\n",
       "      <td>2021-04-03 09:51:01</td>\n",
       "      <td>add</td>\n",
       "      <td>service</td>\n",
       "      <td>None</td>\n",
       "      <td>new_service</td>\n",
       "      <td>None</td>\n",
       "      <td>{'id': 'new_service', 'name': 'N55'}</td>\n",
       "      <td>[(add, , [('id', 'new_service'), ('name', 'N55...</td>\n",
       "    </tr>\n",
       "    <tr>\n",
       "      <th>2</th>\n",
       "      <td>2021-04-03 09:51:01</td>\n",
       "      <td>add</td>\n",
       "      <td>route</td>\n",
       "      <td>None</td>\n",
       "      <td>another_new_route</td>\n",
       "      <td>None</td>\n",
       "      <td>{'route_short_name': 'N55', 'mode': 'bus', 'tr...</td>\n",
       "      <td>[(add, , [('route_short_name', 'N55'), ('mode'...</td>\n",
       "    </tr>\n",
       "    <tr>\n",
       "      <th>3</th>\n",
       "      <td>2021-04-03 09:51:01</td>\n",
       "      <td>add</td>\n",
       "      <td>route</td>\n",
       "      <td>None</td>\n",
       "      <td>another_new_route_2</td>\n",
       "      <td>None</td>\n",
       "      <td>{'route_short_name': 'N55', 'mode': 'bus', 'tr...</td>\n",
       "      <td>[(add, , [('route_short_name', 'N55'), ('mode'...</td>\n",
       "    </tr>\n",
       "    <tr>\n",
       "      <th>4</th>\n",
       "      <td>2021-04-03 09:51:02</td>\n",
       "      <td>add</td>\n",
       "      <td>route</td>\n",
       "      <td>None</td>\n",
       "      <td>another_new_route_3</td>\n",
       "      <td>None</td>\n",
       "      <td>{'route_short_name': 'N55', 'mode': 'bus', 'tr...</td>\n",
       "      <td>[(add, , [('route_short_name', 'N55'), ('mode'...</td>\n",
       "    </tr>\n",
       "  </tbody>\n",
       "</table>\n",
       "</div>"
      ],
      "text/plain": [
       "             timestamp change_event object_type old_id               new_id  \\\n",
       "0  2021-04-03 09:51:01          add       route   None            new_route   \n",
       "1  2021-04-03 09:51:01          add     service   None          new_service   \n",
       "2  2021-04-03 09:51:01          add       route   None    another_new_route   \n",
       "3  2021-04-03 09:51:01          add       route   None  another_new_route_2   \n",
       "4  2021-04-03 09:51:02          add       route   None  another_new_route_3   \n",
       "\n",
       "  old_attributes                                     new_attributes  \\\n",
       "0           None  {'route_short_name': 'N55', 'mode': 'bus', 'tr...   \n",
       "1           None               {'id': 'new_service', 'name': 'N55'}   \n",
       "2           None  {'route_short_name': 'N55', 'mode': 'bus', 'tr...   \n",
       "3           None  {'route_short_name': 'N55', 'mode': 'bus', 'tr...   \n",
       "4           None  {'route_short_name': 'N55', 'mode': 'bus', 'tr...   \n",
       "\n",
       "                                                diff  \n",
       "0  [(add, , [('route_short_name', 'N55'), ('mode'...  \n",
       "1  [(add, , [('id', 'new_service'), ('name', 'N55...  \n",
       "2  [(add, , [('route_short_name', 'N55'), ('mode'...  \n",
       "3  [(add, , [('route_short_name', 'N55'), ('mode'...  \n",
       "4  [(add, , [('route_short_name', 'N55'), ('mode'...  "
      ]
     },
     "execution_count": 13,
     "metadata": {},
     "output_type": "execute_result"
    }
   ],
   "source": [
    "n.schedule.change_log().tail()"
   ]
  },
  {
   "cell_type": "markdown",
   "metadata": {},
   "source": [
    "There are no methods to add `Stop` objects on their own. They are added to the Schedule with `Route` and `Service` objects."
   ]
  },
  {
   "cell_type": "markdown",
   "metadata": {},
   "source": [
    "## Reindexing"
   ]
  },
  {
   "cell_type": "code",
   "execution_count": 14,
   "metadata": {
    "ExecuteTime": {
     "end_time": "2021-04-03T08:51:03.188089Z",
     "start_time": "2021-04-03T08:51:03.168444Z"
    }
   },
   "outputs": [
    {
     "name": "stderr",
     "output_type": "stream",
     "text": [
      "2021-04-03 09:51:03,183 - Reindexed Service from new_service to more_appropriate_id\n"
     ]
    }
   ],
   "source": [
    "n.schedule['new_service'].reindex(new_id='more_appropriate_id')"
   ]
  },
  {
   "cell_type": "code",
   "execution_count": 15,
   "metadata": {
    "ExecuteTime": {
     "end_time": "2021-04-03T08:51:03.206410Z",
     "start_time": "2021-04-03T08:51:03.190800Z"
    }
   },
   "outputs": [
    {
     "name": "stderr",
     "output_type": "stream",
     "text": [
      "2021-04-03 09:51:03,203 - Reindexed Route from new_route to more_appropriate_route_id\n"
     ]
    }
   ],
   "source": [
    "n.schedule.route('new_route').reindex(new_id='more_appropriate_route_id')"
   ]
  },
  {
   "cell_type": "code",
   "execution_count": 16,
   "metadata": {
    "ExecuteTime": {
     "end_time": "2021-04-03T08:51:03.249386Z",
     "start_time": "2021-04-03T08:51:03.217198Z"
    }
   },
   "outputs": [
    {
     "data": {
      "text/html": [
       "<div>\n",
       "<style scoped>\n",
       "    .dataframe tbody tr th:only-of-type {\n",
       "        vertical-align: middle;\n",
       "    }\n",
       "\n",
       "    .dataframe tbody tr th {\n",
       "        vertical-align: top;\n",
       "    }\n",
       "\n",
       "    .dataframe thead th {\n",
       "        text-align: right;\n",
       "    }\n",
       "</style>\n",
       "<table border=\"1\" class=\"dataframe\">\n",
       "  <thead>\n",
       "    <tr style=\"text-align: right;\">\n",
       "      <th></th>\n",
       "      <th>timestamp</th>\n",
       "      <th>change_event</th>\n",
       "      <th>object_type</th>\n",
       "      <th>old_id</th>\n",
       "      <th>new_id</th>\n",
       "      <th>old_attributes</th>\n",
       "      <th>new_attributes</th>\n",
       "      <th>diff</th>\n",
       "    </tr>\n",
       "  </thead>\n",
       "  <tbody>\n",
       "    <tr>\n",
       "      <th>2</th>\n",
       "      <td>2021-04-03 09:51:01</td>\n",
       "      <td>add</td>\n",
       "      <td>route</td>\n",
       "      <td>None</td>\n",
       "      <td>another_new_route</td>\n",
       "      <td>None</td>\n",
       "      <td>{'route_short_name': 'N55', 'mode': 'bus', 'tr...</td>\n",
       "      <td>[(add, , [('route_short_name', 'N55'), ('mode'...</td>\n",
       "    </tr>\n",
       "    <tr>\n",
       "      <th>3</th>\n",
       "      <td>2021-04-03 09:51:01</td>\n",
       "      <td>add</td>\n",
       "      <td>route</td>\n",
       "      <td>None</td>\n",
       "      <td>another_new_route_2</td>\n",
       "      <td>None</td>\n",
       "      <td>{'route_short_name': 'N55', 'mode': 'bus', 'tr...</td>\n",
       "      <td>[(add, , [('route_short_name', 'N55'), ('mode'...</td>\n",
       "    </tr>\n",
       "    <tr>\n",
       "      <th>4</th>\n",
       "      <td>2021-04-03 09:51:02</td>\n",
       "      <td>add</td>\n",
       "      <td>route</td>\n",
       "      <td>None</td>\n",
       "      <td>another_new_route_3</td>\n",
       "      <td>None</td>\n",
       "      <td>{'route_short_name': 'N55', 'mode': 'bus', 'tr...</td>\n",
       "      <td>[(add, , [('route_short_name', 'N55'), ('mode'...</td>\n",
       "    </tr>\n",
       "    <tr>\n",
       "      <th>5</th>\n",
       "      <td>2021-04-03 09:51:03</td>\n",
       "      <td>modify</td>\n",
       "      <td>service</td>\n",
       "      <td>new_service</td>\n",
       "      <td>more_appropriate_id</td>\n",
       "      <td>{'id': 'new_service'}</td>\n",
       "      <td>{'id': 'more_appropriate_id'}</td>\n",
       "      <td>[(change, id, (new_service, more_appropriate_i...</td>\n",
       "    </tr>\n",
       "    <tr>\n",
       "      <th>6</th>\n",
       "      <td>2021-04-03 09:51:03</td>\n",
       "      <td>modify</td>\n",
       "      <td>route</td>\n",
       "      <td>new_route</td>\n",
       "      <td>more_appropriate_route_id</td>\n",
       "      <td>{'id': 'new_route'}</td>\n",
       "      <td>{'id': 'more_appropriate_route_id'}</td>\n",
       "      <td>[(change, id, (new_route, more_appropriate_rou...</td>\n",
       "    </tr>\n",
       "  </tbody>\n",
       "</table>\n",
       "</div>"
      ],
      "text/plain": [
       "             timestamp change_event object_type       old_id  \\\n",
       "2  2021-04-03 09:51:01          add       route         None   \n",
       "3  2021-04-03 09:51:01          add       route         None   \n",
       "4  2021-04-03 09:51:02          add       route         None   \n",
       "5  2021-04-03 09:51:03       modify     service  new_service   \n",
       "6  2021-04-03 09:51:03       modify       route    new_route   \n",
       "\n",
       "                      new_id         old_attributes  \\\n",
       "2          another_new_route                   None   \n",
       "3        another_new_route_2                   None   \n",
       "4        another_new_route_3                   None   \n",
       "5        more_appropriate_id  {'id': 'new_service'}   \n",
       "6  more_appropriate_route_id    {'id': 'new_route'}   \n",
       "\n",
       "                                      new_attributes  \\\n",
       "2  {'route_short_name': 'N55', 'mode': 'bus', 'tr...   \n",
       "3  {'route_short_name': 'N55', 'mode': 'bus', 'tr...   \n",
       "4  {'route_short_name': 'N55', 'mode': 'bus', 'tr...   \n",
       "5                      {'id': 'more_appropriate_id'}   \n",
       "6                {'id': 'more_appropriate_route_id'}   \n",
       "\n",
       "                                                diff  \n",
       "2  [(add, , [('route_short_name', 'N55'), ('mode'...  \n",
       "3  [(add, , [('route_short_name', 'N55'), ('mode'...  \n",
       "4  [(add, , [('route_short_name', 'N55'), ('mode'...  \n",
       "5  [(change, id, (new_service, more_appropriate_i...  \n",
       "6  [(change, id, (new_route, more_appropriate_rou...  "
      ]
     },
     "execution_count": 16,
     "metadata": {},
     "output_type": "execute_result"
    }
   ],
   "source": [
    "n.schedule.change_log().tail()"
   ]
  },
  {
   "cell_type": "markdown",
   "metadata": {},
   "source": [
    "## Removing Stops, Routes, Services"
   ]
  },
  {
   "cell_type": "code",
   "execution_count": 17,
   "metadata": {
    "ExecuteTime": {
     "end_time": "2021-04-03T08:51:03.272369Z",
     "start_time": "2021-04-03T08:51:03.250956Z"
    }
   },
   "outputs": [
    {
     "name": "stderr",
     "output_type": "stream",
     "text": [
      "2021-04-03 09:51:03,268 - Removed Service with index `more_appropriate_id`, data={'id': 'more_appropriate_id', 'name': 'N55'} and Routes: {'new_service_new_route'}\n"
     ]
    }
   ],
   "source": [
    "n.schedule.remove_service('more_appropriate_id')"
   ]
  },
  {
   "cell_type": "code",
   "execution_count": 18,
   "metadata": {
    "ExecuteTime": {
     "end_time": "2021-04-03T08:51:03.288830Z",
     "start_time": "2021-04-03T08:51:03.274158Z"
    }
   },
   "outputs": [
    {
     "name": "stderr",
     "output_type": "stream",
     "text": [
      "2021-04-03 09:51:03,286 - Removed Route with index `more_appropriate_route_id`, data={'route_short_name': 'N55', 'mode': 'bus', 'trips': {'trip_id': ['fun_trip_1', 'fun_trip_2'], 'trip_departure_time': ['03:53:00', '16:23:00'], 'vehicle_id': ['fun_bus_1', 'fun_bus_2']}, 'arrival_offsets': ['00:00:00', '00:02:00', '00:04:00', '00:06:00'], 'departure_offsets': ['00:00:00', '00:02:00', '00:04:00', '00:06:00'], 'route_long_name': '', 'id': 'more_appropriate_route_id', 'route': [], 'await_departure': [True, True, True, True], 'ordered_stops': ['490000235X.link:834', 'new_stop', 'other_new_stop', '490010689KB.link:981']}. It was linked to Service `20274`.\n"
     ]
    }
   ],
   "source": [
    "n.schedule.remove_route('more_appropriate_route_id')"
   ]
  },
  {
   "cell_type": "code",
   "execution_count": 19,
   "metadata": {
    "ExecuteTime": {
     "end_time": "2021-04-03T08:51:03.313639Z",
     "start_time": "2021-04-03T08:51:03.291008Z"
    }
   },
   "outputs": [
    {
     "name": "stderr",
     "output_type": "stream",
     "text": [
      "2021-04-03 09:51:03,299 - Removed Route with index `another_new_route`, data={'route_short_name': 'N55', 'mode': 'bus', 'trips': {'trip_id': ['some_trip_1'], 'trip_departure_time': ['16:23:00'], 'vehicle_id': ['some_bus_2']}, 'arrival_offsets': ['00:00:00', '00:06:00'], 'departure_offsets': ['00:00:00', '00:06:00'], 'route_long_name': '', 'id': 'another_new_route', 'route': [], 'await_departure': [True, True], 'ordered_stops': ['490000235X.link:834', '490010689KB.link:981']}. It was linked to Service `20274`.\n",
      "2021-04-03 09:51:03,305 - Removed Route with index `another_new_route_2`, data={'route_short_name': 'N55', 'mode': 'bus', 'trips': {'trip_id': ['some_trip_1'], 'trip_departure_time': ['16:23:00'], 'vehicle_id': ['some_bus_2']}, 'arrival_offsets': ['00:00:00', '00:06:00'], 'departure_offsets': ['00:00:00', '00:06:00'], 'route_long_name': '', 'id': 'another_new_route_2', 'route': [], 'await_departure': [True, True], 'ordered_stops': ['490000235X.link:834', '490010689KB.link:981']}. It was linked to Service `20274`.\n",
      "2021-04-03 09:51:03,311 - Removed Route with index `another_new_route_3`, data={'route_short_name': 'N55', 'mode': 'bus', 'trips': {'trip_id': ['fun_trip_1', 'fun_trip_2'], 'trip_departure_time': ['03:53:00', '16:23:00'], 'vehicle_id': ['fun_bus_1', 'fun_bus_2']}, 'arrival_offsets': ['00:00:00', '00:02:00', '00:04:00', '00:06:00'], 'departure_offsets': ['00:00:00', '00:02:00', '00:04:00', '00:06:00'], 'route_long_name': '', 'id': 'another_new_route_3', 'route': [], 'await_departure': [True, True, True, True], 'ordered_stops': ['490000235X.link:834', 'new_stop', 'other_new_stop', '490010689KB.link:981']}. It was linked to Service `20274`.\n"
     ]
    }
   ],
   "source": [
    "for route_id in {'another_new_route', 'another_new_route_2', 'another_new_route_3'}:\n",
    "    n.schedule.remove_route(route_id)"
   ]
  },
  {
   "cell_type": "code",
   "execution_count": 20,
   "metadata": {
    "ExecuteTime": {
     "end_time": "2021-04-03T08:51:03.346543Z",
     "start_time": "2021-04-03T08:51:03.317307Z"
    }
   },
   "outputs": [
    {
     "data": {
      "text/html": [
       "<div>\n",
       "<style scoped>\n",
       "    .dataframe tbody tr th:only-of-type {\n",
       "        vertical-align: middle;\n",
       "    }\n",
       "\n",
       "    .dataframe tbody tr th {\n",
       "        vertical-align: top;\n",
       "    }\n",
       "\n",
       "    .dataframe thead th {\n",
       "        text-align: right;\n",
       "    }\n",
       "</style>\n",
       "<table border=\"1\" class=\"dataframe\">\n",
       "  <thead>\n",
       "    <tr style=\"text-align: right;\">\n",
       "      <th></th>\n",
       "      <th>timestamp</th>\n",
       "      <th>change_event</th>\n",
       "      <th>object_type</th>\n",
       "      <th>old_id</th>\n",
       "      <th>new_id</th>\n",
       "      <th>old_attributes</th>\n",
       "      <th>new_attributes</th>\n",
       "      <th>diff</th>\n",
       "    </tr>\n",
       "  </thead>\n",
       "  <tbody>\n",
       "    <tr>\n",
       "      <th>7</th>\n",
       "      <td>2021-04-03 09:51:03</td>\n",
       "      <td>remove</td>\n",
       "      <td>service</td>\n",
       "      <td>more_appropriate_id</td>\n",
       "      <td>None</td>\n",
       "      <td>{'id': 'more_appropriate_id', 'name': 'N55'}</td>\n",
       "      <td>None</td>\n",
       "      <td>[(remove, , [('id', 'more_appropriate_id'), ('...</td>\n",
       "    </tr>\n",
       "    <tr>\n",
       "      <th>8</th>\n",
       "      <td>2021-04-03 09:51:03</td>\n",
       "      <td>remove</td>\n",
       "      <td>route</td>\n",
       "      <td>more_appropriate_route_id</td>\n",
       "      <td>None</td>\n",
       "      <td>{'route_short_name': 'N55', 'mode': 'bus', 'tr...</td>\n",
       "      <td>None</td>\n",
       "      <td>[(remove, , [('route_short_name', 'N55'), ('mo...</td>\n",
       "    </tr>\n",
       "    <tr>\n",
       "      <th>9</th>\n",
       "      <td>2021-04-03 09:51:03</td>\n",
       "      <td>remove</td>\n",
       "      <td>route</td>\n",
       "      <td>another_new_route</td>\n",
       "      <td>None</td>\n",
       "      <td>{'route_short_name': 'N55', 'mode': 'bus', 'tr...</td>\n",
       "      <td>None</td>\n",
       "      <td>[(remove, , [('route_short_name', 'N55'), ('mo...</td>\n",
       "    </tr>\n",
       "    <tr>\n",
       "      <th>10</th>\n",
       "      <td>2021-04-03 09:51:03</td>\n",
       "      <td>remove</td>\n",
       "      <td>route</td>\n",
       "      <td>another_new_route_2</td>\n",
       "      <td>None</td>\n",
       "      <td>{'route_short_name': 'N55', 'mode': 'bus', 'tr...</td>\n",
       "      <td>None</td>\n",
       "      <td>[(remove, , [('route_short_name', 'N55'), ('mo...</td>\n",
       "    </tr>\n",
       "    <tr>\n",
       "      <th>11</th>\n",
       "      <td>2021-04-03 09:51:03</td>\n",
       "      <td>remove</td>\n",
       "      <td>route</td>\n",
       "      <td>another_new_route_3</td>\n",
       "      <td>None</td>\n",
       "      <td>{'route_short_name': 'N55', 'mode': 'bus', 'tr...</td>\n",
       "      <td>None</td>\n",
       "      <td>[(remove, , [('route_short_name', 'N55'), ('mo...</td>\n",
       "    </tr>\n",
       "  </tbody>\n",
       "</table>\n",
       "</div>"
      ],
      "text/plain": [
       "              timestamp change_event object_type                     old_id  \\\n",
       "7   2021-04-03 09:51:03       remove     service        more_appropriate_id   \n",
       "8   2021-04-03 09:51:03       remove       route  more_appropriate_route_id   \n",
       "9   2021-04-03 09:51:03       remove       route          another_new_route   \n",
       "10  2021-04-03 09:51:03       remove       route        another_new_route_2   \n",
       "11  2021-04-03 09:51:03       remove       route        another_new_route_3   \n",
       "\n",
       "   new_id                                     old_attributes new_attributes  \\\n",
       "7    None       {'id': 'more_appropriate_id', 'name': 'N55'}           None   \n",
       "8    None  {'route_short_name': 'N55', 'mode': 'bus', 'tr...           None   \n",
       "9    None  {'route_short_name': 'N55', 'mode': 'bus', 'tr...           None   \n",
       "10   None  {'route_short_name': 'N55', 'mode': 'bus', 'tr...           None   \n",
       "11   None  {'route_short_name': 'N55', 'mode': 'bus', 'tr...           None   \n",
       "\n",
       "                                                 diff  \n",
       "7   [(remove, , [('id', 'more_appropriate_id'), ('...  \n",
       "8   [(remove, , [('route_short_name', 'N55'), ('mo...  \n",
       "9   [(remove, , [('route_short_name', 'N55'), ('mo...  \n",
       "10  [(remove, , [('route_short_name', 'N55'), ('mo...  \n",
       "11  [(remove, , [('route_short_name', 'N55'), ('mo...  "
      ]
     },
     "execution_count": 20,
     "metadata": {},
     "output_type": "execute_result"
    }
   ],
   "source": [
    "n.schedule.change_log().tail()"
   ]
  },
  {
   "cell_type": "markdown",
   "metadata": {},
   "source": [
    "You can also remove `Stop`s. This will disconnect `Route`s and `Service`s using that `Stop`s and likely render them invalid. The method will warn you which `Route`s and `Servce`s are affected."
   ]
  },
  {
   "cell_type": "code",
   "execution_count": 21,
   "metadata": {
    "ExecuteTime": {
     "end_time": "2021-04-03T08:51:03.358441Z",
     "start_time": "2021-04-03T08:51:03.348128Z"
    }
   },
   "outputs": [
    {
     "name": "stderr",
     "output_type": "stream",
     "text": [
      "2021-04-03 09:51:03,356 - Removed Stop with index `new_stop`, data={'id': 'new_stop', 'x': 529500.0, 'y': 181300.0, 'epsg': 'epsg:27700', 'name': 'New Stop', 'lon': -0.1350768098744082, 'lat': 51.51578819710296, 's2_id': 5221390696585158415, 'additional_attributes': set()}. Routes affected: set(). Services affected: set().\n"
     ]
    }
   ],
   "source": [
    "n.schedule.remove_stop('new_stop')"
   ]
  },
  {
   "cell_type": "markdown",
   "metadata": {},
   "source": [
    "You can also remove `Stop`s. This will disconnect `Route`s and `Service`s using that `Stop`s and likely render them invalid. The method will warn you which `Route`s and `Servce`s are affected."
   ]
  },
  {
   "cell_type": "code",
   "execution_count": 22,
   "metadata": {
    "ExecuteTime": {
     "end_time": "2021-04-03T08:51:03.372664Z",
     "start_time": "2021-04-03T08:51:03.359812Z"
    }
   },
   "outputs": [
    {
     "name": "stderr",
     "output_type": "stream",
     "text": [
      "2021-04-03 09:51:03,368 - Removed Stop with index `other_new_stop`, data={'id': 'other_new_stop', 'x': 529502.0, 'y': 181302.0, 'epsg': 'epsg:27700', 'name': 'Other New Stop', 'lon': -0.1350472687576662, 'lat': 51.515805712413496, 's2_id': 5221390696583632715, 'additional_attributes': set()}. Routes affected: set(). Services affected: set().\n",
      "2021-04-03 09:51:03,370 - Removed Stops with indecies `{'other_new_stop'}` which were not used by any Routes or part of minimal transfer times.\n"
     ]
    }
   ],
   "source": [
    "n.schedule.remove_unsused_stops()"
   ]
  },
  {
   "cell_type": "markdown",
   "metadata": {},
   "source": [
    "## Modifying data stored for Stops, Routes, Services\n",
    "\n",
    "### Applying known or pre-computed changes\n",
    "Applying changes or new attributes to Services, Routes and Stops can be done via Schedule level methods. They all work with a dictionary where the keys are the object IDs and the values are dictionaries holding attribute names and values. The method to extract a DataFrame on attributes comes in handy here. E.g."
   ]
  },
  {
   "cell_type": "code",
   "execution_count": 23,
   "metadata": {
    "ExecuteTime": {
     "end_time": "2021-04-03T08:51:03.387455Z",
     "start_time": "2021-04-03T08:51:03.377332Z"
    }
   },
   "outputs": [
    {
     "data": {
      "text/html": [
       "<div>\n",
       "<style scoped>\n",
       "    .dataframe tbody tr th:only-of-type {\n",
       "        vertical-align: middle;\n",
       "    }\n",
       "\n",
       "    .dataframe tbody tr th {\n",
       "        vertical-align: top;\n",
       "    }\n",
       "\n",
       "    .dataframe thead th {\n",
       "        text-align: right;\n",
       "    }\n",
       "</style>\n",
       "<table border=\"1\" class=\"dataframe\">\n",
       "  <thead>\n",
       "    <tr style=\"text-align: right;\">\n",
       "      <th></th>\n",
       "      <th>name</th>\n",
       "    </tr>\n",
       "  </thead>\n",
       "  <tbody>\n",
       "    <tr>\n",
       "      <th>14073</th>\n",
       "      <td>94</td>\n",
       "    </tr>\n",
       "    <tr>\n",
       "      <th>18915</th>\n",
       "      <td>N5</td>\n",
       "    </tr>\n",
       "    <tr>\n",
       "      <th>14134</th>\n",
       "      <td>98</td>\n",
       "    </tr>\n",
       "    <tr>\n",
       "      <th>15660</th>\n",
       "      <td>113</td>\n",
       "    </tr>\n",
       "    <tr>\n",
       "      <th>12430</th>\n",
       "      <td>205</td>\n",
       "    </tr>\n",
       "  </tbody>\n",
       "</table>\n",
       "</div>"
      ],
      "text/plain": [
       "      name\n",
       "14073   94\n",
       "18915   N5\n",
       "14134   98\n",
       "15660  113\n",
       "12430  205"
      ]
     },
     "execution_count": 23,
     "metadata": {},
     "output_type": "execute_result"
    }
   ],
   "source": [
    "df = n.schedule.service_attribute_data(keys='name')\n",
    "df.head()"
   ]
  },
  {
   "cell_type": "markdown",
   "metadata": {},
   "source": [
    "DataFrames are easy to work with. Youcould for exmaple manipulate the names or use other data to change these. For demonstration here, let's just set the names to something easy."
   ]
  },
  {
   "cell_type": "code",
   "execution_count": 24,
   "metadata": {
    "ExecuteTime": {
     "end_time": "2021-04-03T08:51:03.404780Z",
     "start_time": "2021-04-03T08:51:03.393910Z"
    }
   },
   "outputs": [
    {
     "data": {
      "text/html": [
       "<div>\n",
       "<style scoped>\n",
       "    .dataframe tbody tr th:only-of-type {\n",
       "        vertical-align: middle;\n",
       "    }\n",
       "\n",
       "    .dataframe tbody tr th {\n",
       "        vertical-align: top;\n",
       "    }\n",
       "\n",
       "    .dataframe thead th {\n",
       "        text-align: right;\n",
       "    }\n",
       "</style>\n",
       "<table border=\"1\" class=\"dataframe\">\n",
       "  <thead>\n",
       "    <tr style=\"text-align: right;\">\n",
       "      <th></th>\n",
       "      <th>name</th>\n",
       "    </tr>\n",
       "  </thead>\n",
       "  <tbody>\n",
       "    <tr>\n",
       "      <th>14073</th>\n",
       "      <td>Service_94</td>\n",
       "    </tr>\n",
       "    <tr>\n",
       "      <th>18915</th>\n",
       "      <td>Service_N5</td>\n",
       "    </tr>\n",
       "    <tr>\n",
       "      <th>14134</th>\n",
       "      <td>Service_98</td>\n",
       "    </tr>\n",
       "    <tr>\n",
       "      <th>15660</th>\n",
       "      <td>Service_113</td>\n",
       "    </tr>\n",
       "    <tr>\n",
       "      <th>12430</th>\n",
       "      <td>Service_205</td>\n",
       "    </tr>\n",
       "  </tbody>\n",
       "</table>\n",
       "</div>"
      ],
      "text/plain": [
       "              name\n",
       "14073   Service_94\n",
       "18915   Service_N5\n",
       "14134   Service_98\n",
       "15660  Service_113\n",
       "12430  Service_205"
      ]
     },
     "execution_count": 24,
     "metadata": {},
     "output_type": "execute_result"
    }
   ],
   "source": [
    "df['name'] = df['name'].apply(lambda x: f'Service_{x}')\n",
    "df.head()"
   ]
  },
  {
   "cell_type": "markdown",
   "metadata": {},
   "source": [
    "You can then convert this to a dictionary and pass it to the `apply_attributes_to_services` method."
   ]
  },
  {
   "cell_type": "code",
   "execution_count": 25,
   "metadata": {
    "ExecuteTime": {
     "end_time": "2021-04-03T08:51:03.420595Z",
     "start_time": "2021-04-03T08:51:03.406930Z"
    }
   },
   "outputs": [
    {
     "name": "stderr",
     "output_type": "stream",
     "text": [
      "2021-04-03 09:51:03,415 - Changed Service attributes for 9 services\n"
     ]
    }
   ],
   "source": [
    "n.schedule.apply_attributes_to_services(df.T.to_dict())"
   ]
  },
  {
   "cell_type": "code",
   "execution_count": 26,
   "metadata": {
    "ExecuteTime": {
     "end_time": "2021-04-03T08:51:03.438828Z",
     "start_time": "2021-04-03T08:51:03.422116Z"
    }
   },
   "outputs": [
    {
     "data": {
      "text/html": [
       "<div>\n",
       "<style scoped>\n",
       "    .dataframe tbody tr th:only-of-type {\n",
       "        vertical-align: middle;\n",
       "    }\n",
       "\n",
       "    .dataframe tbody tr th {\n",
       "        vertical-align: top;\n",
       "    }\n",
       "\n",
       "    .dataframe thead th {\n",
       "        text-align: right;\n",
       "    }\n",
       "</style>\n",
       "<table border=\"1\" class=\"dataframe\">\n",
       "  <thead>\n",
       "    <tr style=\"text-align: right;\">\n",
       "      <th></th>\n",
       "      <th>timestamp</th>\n",
       "      <th>change_event</th>\n",
       "      <th>object_type</th>\n",
       "      <th>old_id</th>\n",
       "      <th>new_id</th>\n",
       "      <th>old_attributes</th>\n",
       "      <th>new_attributes</th>\n",
       "      <th>diff</th>\n",
       "    </tr>\n",
       "  </thead>\n",
       "  <tbody>\n",
       "    <tr>\n",
       "      <th>18</th>\n",
       "      <td>2021-04-03 09:51:03</td>\n",
       "      <td>modify</td>\n",
       "      <td>service</td>\n",
       "      <td>12430</td>\n",
       "      <td>12430</td>\n",
       "      <td>{'id': '12430', 'name': '205'}</td>\n",
       "      <td>{'id': '12430', 'name': 'Service_205'}</td>\n",
       "      <td>[(change, name, (205, Service_205))]</td>\n",
       "    </tr>\n",
       "    <tr>\n",
       "      <th>19</th>\n",
       "      <td>2021-04-03 09:51:03</td>\n",
       "      <td>modify</td>\n",
       "      <td>service</td>\n",
       "      <td>18853</td>\n",
       "      <td>18853</td>\n",
       "      <td>{'id': '18853', 'name': 'N8'}</td>\n",
       "      <td>{'id': '18853', 'name': 'Service_N8'}</td>\n",
       "      <td>[(change, name, (N8, Service_N8))]</td>\n",
       "    </tr>\n",
       "    <tr>\n",
       "      <th>20</th>\n",
       "      <td>2021-04-03 09:51:03</td>\n",
       "      <td>modify</td>\n",
       "      <td>service</td>\n",
       "      <td>15234</td>\n",
       "      <td>15234</td>\n",
       "      <td>{'id': '15234', 'name': '134'}</td>\n",
       "      <td>{'id': '15234', 'name': 'Service_134'}</td>\n",
       "      <td>[(change, name, (134, Service_134))]</td>\n",
       "    </tr>\n",
       "    <tr>\n",
       "      <th>21</th>\n",
       "      <td>2021-04-03 09:51:03</td>\n",
       "      <td>modify</td>\n",
       "      <td>service</td>\n",
       "      <td>17732</td>\n",
       "      <td>17732</td>\n",
       "      <td>{'id': '17732', 'name': 'N20'}</td>\n",
       "      <td>{'id': '17732', 'name': 'Service_N20'}</td>\n",
       "      <td>[(change, name, (N20, Service_N20))]</td>\n",
       "    </tr>\n",
       "    <tr>\n",
       "      <th>22</th>\n",
       "      <td>2021-04-03 09:51:03</td>\n",
       "      <td>modify</td>\n",
       "      <td>service</td>\n",
       "      <td>20274</td>\n",
       "      <td>20274</td>\n",
       "      <td>{'id': '20274', 'name': 'N55'}</td>\n",
       "      <td>{'id': '20274', 'name': 'Service_N55'}</td>\n",
       "      <td>[(change, name, (N55, Service_N55))]</td>\n",
       "    </tr>\n",
       "  </tbody>\n",
       "</table>\n",
       "</div>"
      ],
      "text/plain": [
       "              timestamp change_event object_type old_id new_id  \\\n",
       "18  2021-04-03 09:51:03       modify     service  12430  12430   \n",
       "19  2021-04-03 09:51:03       modify     service  18853  18853   \n",
       "20  2021-04-03 09:51:03       modify     service  15234  15234   \n",
       "21  2021-04-03 09:51:03       modify     service  17732  17732   \n",
       "22  2021-04-03 09:51:03       modify     service  20274  20274   \n",
       "\n",
       "                    old_attributes                          new_attributes  \\\n",
       "18  {'id': '12430', 'name': '205'}  {'id': '12430', 'name': 'Service_205'}   \n",
       "19   {'id': '18853', 'name': 'N8'}   {'id': '18853', 'name': 'Service_N8'}   \n",
       "20  {'id': '15234', 'name': '134'}  {'id': '15234', 'name': 'Service_134'}   \n",
       "21  {'id': '17732', 'name': 'N20'}  {'id': '17732', 'name': 'Service_N20'}   \n",
       "22  {'id': '20274', 'name': 'N55'}  {'id': '20274', 'name': 'Service_N55'}   \n",
       "\n",
       "                                    diff  \n",
       "18  [(change, name, (205, Service_205))]  \n",
       "19    [(change, name, (N8, Service_N8))]  \n",
       "20  [(change, name, (134, Service_134))]  \n",
       "21  [(change, name, (N20, Service_N20))]  \n",
       "22  [(change, name, (N55, Service_N55))]  "
      ]
     },
     "execution_count": 26,
     "metadata": {},
     "output_type": "execute_result"
    }
   ],
   "source": [
    "n.schedule.change_log().tail()"
   ]
  },
  {
   "cell_type": "markdown",
   "metadata": {},
   "source": [
    "You can do the same for `Routes` and `Stops`. Your dictionaries cannot however hold changes to indices. You will encounter an error and should use `reindex` methods for such operations."
   ]
  },
  {
   "cell_type": "code",
   "execution_count": 27,
   "metadata": {
    "ExecuteTime": {
     "end_time": "2021-04-03T08:51:03.448421Z",
     "start_time": "2021-04-03T08:51:03.440256Z"
    }
   },
   "outputs": [
    {
     "name": "stderr",
     "output_type": "stream",
     "text": [
      "2021-04-03 09:51:03,445 - Changed Route attributes for 1 routes\n"
     ]
    }
   ],
   "source": [
    "n.schedule.apply_attributes_to_routes(\n",
    "    {'VJ375a660d47a2aa570aa20a8568012da8497ffecf': {\n",
    "        'name': 'my_favourite_route', \n",
    "        'mode': 'piggyback'\n",
    "    }}\n",
    ")"
   ]
  },
  {
   "cell_type": "code",
   "execution_count": 28,
   "metadata": {
    "ExecuteTime": {
     "end_time": "2021-04-03T08:51:03.457618Z",
     "start_time": "2021-04-03T08:51:03.449778Z"
    }
   },
   "outputs": [
    {
     "name": "stderr",
     "output_type": "stream",
     "text": [
      "2021-04-03 09:51:03,454 - Changed Stop attributes for 1 stops\n"
     ]
    }
   ],
   "source": [
    "n.schedule.apply_attributes_to_stops(\n",
    "    {'490000235YB.link:574': {'new_attribute': 'hello!'}}\n",
    ")"
   ]
  },
  {
   "cell_type": "code",
   "execution_count": 29,
   "metadata": {
    "ExecuteTime": {
     "end_time": "2021-04-03T08:51:03.488393Z",
     "start_time": "2021-04-03T08:51:03.459426Z"
    }
   },
   "outputs": [
    {
     "data": {
      "text/html": [
       "<div>\n",
       "<style scoped>\n",
       "    .dataframe tbody tr th:only-of-type {\n",
       "        vertical-align: middle;\n",
       "    }\n",
       "\n",
       "    .dataframe tbody tr th {\n",
       "        vertical-align: top;\n",
       "    }\n",
       "\n",
       "    .dataframe thead th {\n",
       "        text-align: right;\n",
       "    }\n",
       "</style>\n",
       "<table border=\"1\" class=\"dataframe\">\n",
       "  <thead>\n",
       "    <tr style=\"text-align: right;\">\n",
       "      <th></th>\n",
       "      <th>timestamp</th>\n",
       "      <th>change_event</th>\n",
       "      <th>object_type</th>\n",
       "      <th>old_id</th>\n",
       "      <th>new_id</th>\n",
       "      <th>old_attributes</th>\n",
       "      <th>new_attributes</th>\n",
       "      <th>diff</th>\n",
       "    </tr>\n",
       "  </thead>\n",
       "  <tbody>\n",
       "    <tr>\n",
       "      <th>20</th>\n",
       "      <td>2021-04-03 09:51:03</td>\n",
       "      <td>modify</td>\n",
       "      <td>service</td>\n",
       "      <td>15234</td>\n",
       "      <td>15234</td>\n",
       "      <td>{'id': '15234', 'name': '134'}</td>\n",
       "      <td>{'id': '15234', 'name': 'Service_134'}</td>\n",
       "      <td>[(change, name, (134, Service_134))]</td>\n",
       "    </tr>\n",
       "    <tr>\n",
       "      <th>21</th>\n",
       "      <td>2021-04-03 09:51:03</td>\n",
       "      <td>modify</td>\n",
       "      <td>service</td>\n",
       "      <td>17732</td>\n",
       "      <td>17732</td>\n",
       "      <td>{'id': '17732', 'name': 'N20'}</td>\n",
       "      <td>{'id': '17732', 'name': 'Service_N20'}</td>\n",
       "      <td>[(change, name, (N20, Service_N20))]</td>\n",
       "    </tr>\n",
       "    <tr>\n",
       "      <th>22</th>\n",
       "      <td>2021-04-03 09:51:03</td>\n",
       "      <td>modify</td>\n",
       "      <td>service</td>\n",
       "      <td>20274</td>\n",
       "      <td>20274</td>\n",
       "      <td>{'id': '20274', 'name': 'N55'}</td>\n",
       "      <td>{'id': '20274', 'name': 'Service_N55'}</td>\n",
       "      <td>[(change, name, (N55, Service_N55))]</td>\n",
       "    </tr>\n",
       "    <tr>\n",
       "      <th>23</th>\n",
       "      <td>2021-04-03 09:51:03</td>\n",
       "      <td>modify</td>\n",
       "      <td>route</td>\n",
       "      <td>VJ375a660d47a2aa570aa20a8568012da8497ffecf</td>\n",
       "      <td>VJ375a660d47a2aa570aa20a8568012da8497ffecf</td>\n",
       "      <td>{'route_short_name': 'N55', 'mode': 'bus', 'tr...</td>\n",
       "      <td>{'route_short_name': 'N55', 'mode': 'piggyback...</td>\n",
       "      <td>[(change, mode, (bus, piggyback)), (add, , [('...</td>\n",
       "    </tr>\n",
       "    <tr>\n",
       "      <th>24</th>\n",
       "      <td>2021-04-03 09:51:03</td>\n",
       "      <td>modify</td>\n",
       "      <td>stop</td>\n",
       "      <td>490000235YB.link:574</td>\n",
       "      <td>490000235YB.link:574</td>\n",
       "      <td>{'services': {'18853', '20274', '14134'}, 'rou...</td>\n",
       "      <td>{'services': {'18853', '20274', '14134'}, 'rou...</td>\n",
       "      <td>[(add, , [('new_attribute', 'hello!')])]</td>\n",
       "    </tr>\n",
       "  </tbody>\n",
       "</table>\n",
       "</div>"
      ],
      "text/plain": [
       "              timestamp change_event object_type  \\\n",
       "20  2021-04-03 09:51:03       modify     service   \n",
       "21  2021-04-03 09:51:03       modify     service   \n",
       "22  2021-04-03 09:51:03       modify     service   \n",
       "23  2021-04-03 09:51:03       modify       route   \n",
       "24  2021-04-03 09:51:03       modify        stop   \n",
       "\n",
       "                                        old_id  \\\n",
       "20                                       15234   \n",
       "21                                       17732   \n",
       "22                                       20274   \n",
       "23  VJ375a660d47a2aa570aa20a8568012da8497ffecf   \n",
       "24                        490000235YB.link:574   \n",
       "\n",
       "                                        new_id  \\\n",
       "20                                       15234   \n",
       "21                                       17732   \n",
       "22                                       20274   \n",
       "23  VJ375a660d47a2aa570aa20a8568012da8497ffecf   \n",
       "24                        490000235YB.link:574   \n",
       "\n",
       "                                       old_attributes  \\\n",
       "20                     {'id': '15234', 'name': '134'}   \n",
       "21                     {'id': '17732', 'name': 'N20'}   \n",
       "22                     {'id': '20274', 'name': 'N55'}   \n",
       "23  {'route_short_name': 'N55', 'mode': 'bus', 'tr...   \n",
       "24  {'services': {'18853', '20274', '14134'}, 'rou...   \n",
       "\n",
       "                                       new_attributes  \\\n",
       "20             {'id': '15234', 'name': 'Service_134'}   \n",
       "21             {'id': '17732', 'name': 'Service_N20'}   \n",
       "22             {'id': '20274', 'name': 'Service_N55'}   \n",
       "23  {'route_short_name': 'N55', 'mode': 'piggyback...   \n",
       "24  {'services': {'18853', '20274', '14134'}, 'rou...   \n",
       "\n",
       "                                                 diff  \n",
       "20               [(change, name, (134, Service_134))]  \n",
       "21               [(change, name, (N20, Service_N20))]  \n",
       "22               [(change, name, (N55, Service_N55))]  \n",
       "23  [(change, mode, (bus, piggyback)), (add, , [('...  \n",
       "24           [(add, , [('new_attribute', 'hello!')])]  "
      ]
     },
     "execution_count": 29,
     "metadata": {},
     "output_type": "execute_result"
    }
   ],
   "source": [
    "n.schedule.change_log().tail()"
   ]
  },
  {
   "cell_type": "markdown",
   "metadata": {},
   "source": [
    "You can use `route_trips_to_dataframe` to extract all of the trips, their departures and vehicle IDs associated with the trips in the schedule. Trip ids need not be unique, route IDs provide a secondary index. Associated service IDs are also given for convenience."
   ]
  },
  {
   "cell_type": "code",
   "execution_count": 30,
   "metadata": {
    "ExecuteTime": {
     "end_time": "2021-04-03T08:51:03.523436Z",
     "start_time": "2021-04-03T08:51:03.490233Z"
    }
   },
   "outputs": [],
   "source": [
    "trips = n.schedule.route_trips_to_dataframe(gtfs_day='20210101')"
   ]
  },
  {
   "cell_type": "code",
   "execution_count": 31,
   "metadata": {
    "ExecuteTime": {
     "end_time": "2021-04-03T08:51:03.535854Z",
     "start_time": "2021-04-03T08:51:03.525421Z"
    }
   },
   "outputs": [
    {
     "data": {
      "text/html": [
       "<div>\n",
       "<style scoped>\n",
       "    .dataframe tbody tr th:only-of-type {\n",
       "        vertical-align: middle;\n",
       "    }\n",
       "\n",
       "    .dataframe tbody tr th {\n",
       "        vertical-align: top;\n",
       "    }\n",
       "\n",
       "    .dataframe thead th {\n",
       "        text-align: right;\n",
       "    }\n",
       "</style>\n",
       "<table border=\"1\" class=\"dataframe\">\n",
       "  <thead>\n",
       "    <tr style=\"text-align: right;\">\n",
       "      <th></th>\n",
       "      <th>route_id</th>\n",
       "      <th>service_id</th>\n",
       "      <th>trip_id</th>\n",
       "      <th>trip_departure_time</th>\n",
       "      <th>vehicle_id</th>\n",
       "    </tr>\n",
       "  </thead>\n",
       "  <tbody>\n",
       "    <tr>\n",
       "      <th>0</th>\n",
       "      <td>VJ9b58a59e3d74941586a5bca7726a8aa624da67fc</td>\n",
       "      <td>15234</td>\n",
       "      <td>VJf1fd730e1388509b1d4b3f12597f454cef74149d_07:...</td>\n",
       "      <td>2021-01-01 22:08:00</td>\n",
       "      <td>veh_1566_bus</td>\n",
       "    </tr>\n",
       "    <tr>\n",
       "      <th>1</th>\n",
       "      <td>VJ9b58a59e3d74941586a5bca7726a8aa624da67fc</td>\n",
       "      <td>15234</td>\n",
       "      <td>VJ41d633d88089b08fd88bad0f922c8498d53a1303_10:...</td>\n",
       "      <td>2021-01-01 08:45:00</td>\n",
       "      <td>veh_1574_bus</td>\n",
       "    </tr>\n",
       "    <tr>\n",
       "      <th>2</th>\n",
       "      <td>VJ9b58a59e3d74941586a5bca7726a8aa624da67fc</td>\n",
       "      <td>15234</td>\n",
       "      <td>VJ937a671e443d98fc082e801bb4362a18c027ab14_16:...</td>\n",
       "      <td>2021-01-01 08:33:00</td>\n",
       "      <td>veh_1689_bus</td>\n",
       "    </tr>\n",
       "    <tr>\n",
       "      <th>3</th>\n",
       "      <td>VJ9b58a59e3d74941586a5bca7726a8aa624da67fc</td>\n",
       "      <td>15234</td>\n",
       "      <td>VJ945a9172a58baebf81678f7d41787db472f9afb9_08:...</td>\n",
       "      <td>2021-01-01 19:02:00</td>\n",
       "      <td>veh_1536_bus</td>\n",
       "    </tr>\n",
       "    <tr>\n",
       "      <th>4</th>\n",
       "      <td>VJ9b58a59e3d74941586a5bca7726a8aa624da67fc</td>\n",
       "      <td>15234</td>\n",
       "      <td>VJ4acc2ac798c698b0e707c6e77de634fe66faa367_08:...</td>\n",
       "      <td>2021-01-01 14:47:00</td>\n",
       "      <td>veh_1664_bus</td>\n",
       "    </tr>\n",
       "  </tbody>\n",
       "</table>\n",
       "</div>"
      ],
      "text/plain": [
       "                                     route_id service_id  \\\n",
       "0  VJ9b58a59e3d74941586a5bca7726a8aa624da67fc      15234   \n",
       "1  VJ9b58a59e3d74941586a5bca7726a8aa624da67fc      15234   \n",
       "2  VJ9b58a59e3d74941586a5bca7726a8aa624da67fc      15234   \n",
       "3  VJ9b58a59e3d74941586a5bca7726a8aa624da67fc      15234   \n",
       "4  VJ9b58a59e3d74941586a5bca7726a8aa624da67fc      15234   \n",
       "\n",
       "                                             trip_id trip_departure_time  \\\n",
       "0  VJf1fd730e1388509b1d4b3f12597f454cef74149d_07:... 2021-01-01 22:08:00   \n",
       "1  VJ41d633d88089b08fd88bad0f922c8498d53a1303_10:... 2021-01-01 08:45:00   \n",
       "2  VJ937a671e443d98fc082e801bb4362a18c027ab14_16:... 2021-01-01 08:33:00   \n",
       "3  VJ945a9172a58baebf81678f7d41787db472f9afb9_08:... 2021-01-01 19:02:00   \n",
       "4  VJ4acc2ac798c698b0e707c6e77de634fe66faa367_08:... 2021-01-01 14:47:00   \n",
       "\n",
       "     vehicle_id  \n",
       "0  veh_1566_bus  \n",
       "1  veh_1574_bus  \n",
       "2  veh_1689_bus  \n",
       "3  veh_1536_bus  \n",
       "4  veh_1664_bus  "
      ]
     },
     "execution_count": 31,
     "metadata": {},
     "output_type": "execute_result"
    }
   ],
   "source": [
    "trips.head()"
   ]
  },
  {
   "cell_type": "markdown",
   "metadata": {},
   "source": [
    "Let's change all of the trip ids to something shorter"
   ]
  },
  {
   "cell_type": "code",
   "execution_count": 32,
   "metadata": {
    "ExecuteTime": {
     "end_time": "2021-04-03T08:51:03.559156Z",
     "start_time": "2021-04-03T08:51:03.537852Z"
    }
   },
   "outputs": [
    {
     "data": {
      "text/html": [
       "<div>\n",
       "<style scoped>\n",
       "    .dataframe tbody tr th:only-of-type {\n",
       "        vertical-align: middle;\n",
       "    }\n",
       "\n",
       "    .dataframe tbody tr th {\n",
       "        vertical-align: top;\n",
       "    }\n",
       "\n",
       "    .dataframe thead th {\n",
       "        text-align: right;\n",
       "    }\n",
       "</style>\n",
       "<table border=\"1\" class=\"dataframe\">\n",
       "  <thead>\n",
       "    <tr style=\"text-align: right;\">\n",
       "      <th></th>\n",
       "      <th>route_id</th>\n",
       "      <th>service_id</th>\n",
       "      <th>trip_id</th>\n",
       "      <th>trip_departure_time</th>\n",
       "      <th>vehicle_id</th>\n",
       "    </tr>\n",
       "  </thead>\n",
       "  <tbody>\n",
       "    <tr>\n",
       "      <th>0</th>\n",
       "      <td>VJ9b58a59e3d74941586a5bca7726a8aa624da67fc</td>\n",
       "      <td>15234</td>\n",
       "      <td>trip_0</td>\n",
       "      <td>2021-01-01 22:08:00</td>\n",
       "      <td>veh_1566_bus</td>\n",
       "    </tr>\n",
       "    <tr>\n",
       "      <th>1</th>\n",
       "      <td>VJ9b58a59e3d74941586a5bca7726a8aa624da67fc</td>\n",
       "      <td>15234</td>\n",
       "      <td>trip_1</td>\n",
       "      <td>2021-01-01 08:45:00</td>\n",
       "      <td>veh_1574_bus</td>\n",
       "    </tr>\n",
       "    <tr>\n",
       "      <th>2</th>\n",
       "      <td>VJ9b58a59e3d74941586a5bca7726a8aa624da67fc</td>\n",
       "      <td>15234</td>\n",
       "      <td>trip_2</td>\n",
       "      <td>2021-01-01 08:33:00</td>\n",
       "      <td>veh_1689_bus</td>\n",
       "    </tr>\n",
       "    <tr>\n",
       "      <th>3</th>\n",
       "      <td>VJ9b58a59e3d74941586a5bca7726a8aa624da67fc</td>\n",
       "      <td>15234</td>\n",
       "      <td>trip_3</td>\n",
       "      <td>2021-01-01 19:02:00</td>\n",
       "      <td>veh_1536_bus</td>\n",
       "    </tr>\n",
       "    <tr>\n",
       "      <th>4</th>\n",
       "      <td>VJ9b58a59e3d74941586a5bca7726a8aa624da67fc</td>\n",
       "      <td>15234</td>\n",
       "      <td>trip_4</td>\n",
       "      <td>2021-01-01 14:47:00</td>\n",
       "      <td>veh_1664_bus</td>\n",
       "    </tr>\n",
       "  </tbody>\n",
       "</table>\n",
       "</div>"
      ],
      "text/plain": [
       "                                     route_id service_id trip_id  \\\n",
       "0  VJ9b58a59e3d74941586a5bca7726a8aa624da67fc      15234  trip_0   \n",
       "1  VJ9b58a59e3d74941586a5bca7726a8aa624da67fc      15234  trip_1   \n",
       "2  VJ9b58a59e3d74941586a5bca7726a8aa624da67fc      15234  trip_2   \n",
       "3  VJ9b58a59e3d74941586a5bca7726a8aa624da67fc      15234  trip_3   \n",
       "4  VJ9b58a59e3d74941586a5bca7726a8aa624da67fc      15234  trip_4   \n",
       "\n",
       "  trip_departure_time    vehicle_id  \n",
       "0 2021-01-01 22:08:00  veh_1566_bus  \n",
       "1 2021-01-01 08:45:00  veh_1574_bus  \n",
       "2 2021-01-01 08:33:00  veh_1689_bus  \n",
       "3 2021-01-01 19:02:00  veh_1536_bus  \n",
       "4 2021-01-01 14:47:00  veh_1664_bus  "
      ]
     },
     "execution_count": 32,
     "metadata": {},
     "output_type": "execute_result"
    }
   ],
   "source": [
    "trips['trip_id'] = 'trip_' + trips.index.to_series().astype(str)\n",
    "trips.head()"
   ]
  },
  {
   "cell_type": "markdown",
   "metadata": {},
   "source": [
    "You can `set_route_trips_dataframe` which takes this dataframe and applies changes to all route trips based on the data in the dataframe. This means you can generate this DataFrame as shown below, manipulate trips (delete them, add new ones), change their departure times or change their vehicle ids to be shared for differnt trips, perhaps on some temporal logic and as long as the dataframe has the same schema, you can use it to set new trips in the schedule. This will appear in the changelog as a route level modify event.\n",
    "\n",
    "Nb removing all trips of the same route from the dataframe will have no effect when being applied. If there is data in the dataframe for a route, all of its trips will be replaced by the data in the dataframe, and if there is no data for a route in the frame, no changes will be applied to that route (i.e. the trips attribute for routes missing from the dataframe will not be set as empty)."
   ]
  },
  {
   "cell_type": "code",
   "execution_count": 33,
   "metadata": {
    "ExecuteTime": {
     "end_time": "2021-04-03T08:51:03.689805Z",
     "start_time": "2021-04-03T08:51:03.562042Z"
    }
   },
   "outputs": [
    {
     "name": "stderr",
     "output_type": "stream",
     "text": [
      "2021-04-03 09:51:03,676 - Changed Route attributes for 68 routes\n"
     ]
    },
    {
     "data": {
      "text/html": [
       "<div>\n",
       "<style scoped>\n",
       "    .dataframe tbody tr th:only-of-type {\n",
       "        vertical-align: middle;\n",
       "    }\n",
       "\n",
       "    .dataframe tbody tr th {\n",
       "        vertical-align: top;\n",
       "    }\n",
       "\n",
       "    .dataframe thead th {\n",
       "        text-align: right;\n",
       "    }\n",
       "</style>\n",
       "<table border=\"1\" class=\"dataframe\">\n",
       "  <thead>\n",
       "    <tr style=\"text-align: right;\">\n",
       "      <th></th>\n",
       "      <th>trips::trip_id</th>\n",
       "    </tr>\n",
       "  </thead>\n",
       "  <tbody>\n",
       "    <tr>\n",
       "      <th>VJ9b58a59e3d74941586a5bca7726a8aa624da67fc</th>\n",
       "      <td>[trip_0, trip_1, trip_2, trip_3, trip_4, trip_...</td>\n",
       "    </tr>\n",
       "    <tr>\n",
       "      <th>VJ0f3c08222de16c2e278be0a1bf0f9ea47370774e</th>\n",
       "      <td>[trip_159, trip_160, trip_161, trip_162, trip_...</td>\n",
       "    </tr>\n",
       "    <tr>\n",
       "      <th>VJeb72539d69ddf8e29f1adf74d43953def196ae41</th>\n",
       "      <td>[trip_206, trip_207, trip_208, trip_209, trip_...</td>\n",
       "    </tr>\n",
       "    <tr>\n",
       "      <th>VJ812fad65e7fa418645b57b446f00cba573f2cdaf</th>\n",
       "      <td>[trip_218, trip_219, trip_220, trip_221]</td>\n",
       "    </tr>\n",
       "    <tr>\n",
       "      <th>VJ4c6fa387b0d4be94a6c3679b94790b183e2558ca</th>\n",
       "      <td>[trip_222, trip_223, trip_224]</td>\n",
       "    </tr>\n",
       "    <tr>\n",
       "      <th>...</th>\n",
       "      <td>...</td>\n",
       "    </tr>\n",
       "    <tr>\n",
       "      <th>VJ3716910ec59c370d9f5c69137df7276b68cf0a08</th>\n",
       "      <td>[trip_1381, trip_1382, trip_1383, trip_1384, t...</td>\n",
       "    </tr>\n",
       "    <tr>\n",
       "      <th>VJ4e311a625836374adf4cfaa841224840dbeb7619</th>\n",
       "      <td>[trip_1485, trip_1486, trip_1487, trip_1488]</td>\n",
       "    </tr>\n",
       "    <tr>\n",
       "      <th>VJb4309b7a9598539ab9942ea1bcadc60a91b978ba</th>\n",
       "      <td>[trip_1489, trip_1490, trip_1491, trip_1492, t...</td>\n",
       "    </tr>\n",
       "    <tr>\n",
       "      <th>VJdbc280077e505b4f8d66586ca51751a125cb4ef0</th>\n",
       "      <td>[trip_1521, trip_1522, trip_1523, trip_1524, t...</td>\n",
       "    </tr>\n",
       "    <tr>\n",
       "      <th>VJ0cb60de3ed229c1413abac506e770b6ab8a7c49a</th>\n",
       "      <td>[trip_1550, trip_1551, trip_1552, trip_1553, t...</td>\n",
       "    </tr>\n",
       "  </tbody>\n",
       "</table>\n",
       "<p>68 rows × 1 columns</p>\n",
       "</div>"
      ],
      "text/plain": [
       "                                                                               trips::trip_id\n",
       "VJ9b58a59e3d74941586a5bca7726a8aa624da67fc  [trip_0, trip_1, trip_2, trip_3, trip_4, trip_...\n",
       "VJ0f3c08222de16c2e278be0a1bf0f9ea47370774e  [trip_159, trip_160, trip_161, trip_162, trip_...\n",
       "VJeb72539d69ddf8e29f1adf74d43953def196ae41  [trip_206, trip_207, trip_208, trip_209, trip_...\n",
       "VJ812fad65e7fa418645b57b446f00cba573f2cdaf           [trip_218, trip_219, trip_220, trip_221]\n",
       "VJ4c6fa387b0d4be94a6c3679b94790b183e2558ca                     [trip_222, trip_223, trip_224]\n",
       "...                                                                                       ...\n",
       "VJ3716910ec59c370d9f5c69137df7276b68cf0a08  [trip_1381, trip_1382, trip_1383, trip_1384, t...\n",
       "VJ4e311a625836374adf4cfaa841224840dbeb7619       [trip_1485, trip_1486, trip_1487, trip_1488]\n",
       "VJb4309b7a9598539ab9942ea1bcadc60a91b978ba  [trip_1489, trip_1490, trip_1491, trip_1492, t...\n",
       "VJdbc280077e505b4f8d66586ca51751a125cb4ef0  [trip_1521, trip_1522, trip_1523, trip_1524, t...\n",
       "VJ0cb60de3ed229c1413abac506e770b6ab8a7c49a  [trip_1550, trip_1551, trip_1552, trip_1553, t...\n",
       "\n",
       "[68 rows x 1 columns]"
      ]
     },
     "execution_count": 33,
     "metadata": {},
     "output_type": "execute_result"
    }
   ],
   "source": [
    "n.schedule.set_route_trips_dataframe(trips)\n",
    "n.schedule.route_attribute_data(keys=[{'trips': 'trip_id'}])"
   ]
  },
  {
   "cell_type": "markdown",
   "metadata": {},
   "source": [
    "### Applying changes using functions or dictionary mappings\n",
    "\n",
    "If you have some logic that can be written into a function of object's attributes, you can pass this to `apply_function_to_x` methods. You need to select `location`, which refers to the name of the attribute the result should be stored under. It can already exist and be overwritten. The function passed, is not expected to work with all objects. It will fail silently, only evaluating and generating outputs where possible."
   ]
  },
  {
   "cell_type": "code",
   "execution_count": 34,
   "metadata": {
    "ExecuteTime": {
     "end_time": "2021-04-03T08:51:03.708808Z",
     "start_time": "2021-04-03T08:51:03.692928Z"
    }
   },
   "outputs": [
    {
     "name": "stderr",
     "output_type": "stream",
     "text": [
      "2021-04-03 09:51:03,705 - Changed Stop attributes for 45 stops\n"
     ]
    }
   ],
   "source": [
    "from shapely.geometry import Point\n",
    "\n",
    "def add_shapely_geometry_points(stop_attribs):\n",
    "    return Point(stop_attribs['x'], stop_attribs['y'])\n",
    "\n",
    "n.schedule.apply_function_to_stops(add_shapely_geometry_points, location='geometry')"
   ]
  },
  {
   "cell_type": "code",
   "execution_count": 35,
   "metadata": {
    "ExecuteTime": {
     "end_time": "2021-04-03T08:51:03.729692Z",
     "start_time": "2021-04-03T08:51:03.710205Z"
    }
   },
   "outputs": [
    {
     "data": {
      "text/html": [
       "<div>\n",
       "<style scoped>\n",
       "    .dataframe tbody tr th:only-of-type {\n",
       "        vertical-align: middle;\n",
       "    }\n",
       "\n",
       "    .dataframe tbody tr th {\n",
       "        vertical-align: top;\n",
       "    }\n",
       "\n",
       "    .dataframe thead th {\n",
       "        text-align: right;\n",
       "    }\n",
       "</style>\n",
       "<table border=\"1\" class=\"dataframe\">\n",
       "  <thead>\n",
       "    <tr style=\"text-align: right;\">\n",
       "      <th></th>\n",
       "      <th>timestamp</th>\n",
       "      <th>change_event</th>\n",
       "      <th>object_type</th>\n",
       "      <th>old_id</th>\n",
       "      <th>new_id</th>\n",
       "      <th>old_attributes</th>\n",
       "      <th>new_attributes</th>\n",
       "      <th>diff</th>\n",
       "    </tr>\n",
       "  </thead>\n",
       "  <tbody>\n",
       "    <tr>\n",
       "      <th>136</th>\n",
       "      <td>2021-04-03 09:51:03</td>\n",
       "      <td>modify</td>\n",
       "      <td>stop</td>\n",
       "      <td>490000252V.link:1182</td>\n",
       "      <td>490000252V.link:1182</td>\n",
       "      <td>{'services': {'12430'}, 'routes': {'VJeb72539d...</td>\n",
       "      <td>{'services': {'12430'}, 'routes': {'VJeb72539d...</td>\n",
       "      <td>[(add, , [('geometry', &lt;shapely.geometry.point...</td>\n",
       "    </tr>\n",
       "    <tr>\n",
       "      <th>137</th>\n",
       "      <td>2021-04-03 09:51:03</td>\n",
       "      <td>modify</td>\n",
       "      <td>stop</td>\n",
       "      <td>490015042T.link:622</td>\n",
       "      <td>490015042T.link:622</td>\n",
       "      <td>{'services': {'15234'}, 'routes': {'VJ8ccf92aa...</td>\n",
       "      <td>{'services': {'15234'}, 'routes': {'VJ8ccf92aa...</td>\n",
       "      <td>[(add, , [('geometry', &lt;shapely.geometry.point...</td>\n",
       "    </tr>\n",
       "  </tbody>\n",
       "</table>\n",
       "</div>"
      ],
      "text/plain": [
       "               timestamp change_event object_type                old_id  \\\n",
       "136  2021-04-03 09:51:03       modify        stop  490000252V.link:1182   \n",
       "137  2021-04-03 09:51:03       modify        stop   490015042T.link:622   \n",
       "\n",
       "                   new_id                                     old_attributes  \\\n",
       "136  490000252V.link:1182  {'services': {'12430'}, 'routes': {'VJeb72539d...   \n",
       "137   490015042T.link:622  {'services': {'15234'}, 'routes': {'VJ8ccf92aa...   \n",
       "\n",
       "                                        new_attributes  \\\n",
       "136  {'services': {'12430'}, 'routes': {'VJeb72539d...   \n",
       "137  {'services': {'15234'}, 'routes': {'VJ8ccf92aa...   \n",
       "\n",
       "                                                  diff  \n",
       "136  [(add, , [('geometry', <shapely.geometry.point...  \n",
       "137  [(add, , [('geometry', <shapely.geometry.point...  "
      ]
     },
     "execution_count": 35,
     "metadata": {},
     "output_type": "execute_result"
    }
   ],
   "source": [
    "n.schedule.change_log().tail(2)"
   ]
  },
  {
   "cell_type": "code",
   "execution_count": 36,
   "metadata": {
    "ExecuteTime": {
     "end_time": "2021-04-03T08:51:03.753160Z",
     "start_time": "2021-04-03T08:51:03.733635Z"
    }
   },
   "outputs": [
    {
     "data": {
      "text/html": [
       "<div>\n",
       "<style scoped>\n",
       "    .dataframe tbody tr th:only-of-type {\n",
       "        vertical-align: middle;\n",
       "    }\n",
       "\n",
       "    .dataframe tbody tr th {\n",
       "        vertical-align: top;\n",
       "    }\n",
       "\n",
       "    .dataframe thead th {\n",
       "        text-align: right;\n",
       "    }\n",
       "</style>\n",
       "<table border=\"1\" class=\"dataframe\">\n",
       "  <thead>\n",
       "    <tr style=\"text-align: right;\">\n",
       "      <th></th>\n",
       "      <th>name</th>\n",
       "      <th>x</th>\n",
       "      <th>y</th>\n",
       "      <th>geometry</th>\n",
       "    </tr>\n",
       "  </thead>\n",
       "  <tbody>\n",
       "    <tr>\n",
       "      <th>490000235X.link:834</th>\n",
       "      <td>Tottenham Court Road Station (Stop X)</td>\n",
       "      <td>529981.795880</td>\n",
       "      <td>181412.097576</td>\n",
       "      <td>POINT (529981.7958802709 181412.0975758662)</td>\n",
       "    </tr>\n",
       "    <tr>\n",
       "      <th>490000235YB.link:574</th>\n",
       "      <td>Oxford Street  Soho Street (Stop YB)</td>\n",
       "      <td>529570.781323</td>\n",
       "      <td>181336.281593</td>\n",
       "      <td>POINT (529570.7813227688 181336.2815925331)</td>\n",
       "    </tr>\n",
       "    <tr>\n",
       "      <th>490014214HE.link:3154</th>\n",
       "      <td>Wardour Street (Stop OM)</td>\n",
       "      <td>529477.750156</td>\n",
       "      <td>181314.437043</td>\n",
       "      <td>POINT (529477.7501560802 181314.4370430721)</td>\n",
       "    </tr>\n",
       "    <tr>\n",
       "      <th>490010689KB.link:981</th>\n",
       "      <td>Great Titchfield Street  Oxford Circus Station...</td>\n",
       "      <td>529166.734973</td>\n",
       "      <td>181256.336723</td>\n",
       "      <td>POINT (529166.7349732723 181256.3367228433)</td>\n",
       "    </tr>\n",
       "    <tr>\n",
       "      <th>490000235V.link:3140</th>\n",
       "      <td>Tottenham Court Road Station (Stop V)</td>\n",
       "      <td>529716.723832</td>\n",
       "      <td>181371.384818</td>\n",
       "      <td>POINT (529716.7238324936 181371.3848181052)</td>\n",
       "    </tr>\n",
       "  </tbody>\n",
       "</table>\n",
       "</div>"
      ],
      "text/plain": [
       "                                                                    name  \\\n",
       "490000235X.link:834                Tottenham Court Road Station (Stop X)   \n",
       "490000235YB.link:574                Oxford Street  Soho Street (Stop YB)   \n",
       "490014214HE.link:3154                           Wardour Street (Stop OM)   \n",
       "490010689KB.link:981   Great Titchfield Street  Oxford Circus Station...   \n",
       "490000235V.link:3140               Tottenham Court Road Station (Stop V)   \n",
       "\n",
       "                                   x              y  \\\n",
       "490000235X.link:834    529981.795880  181412.097576   \n",
       "490000235YB.link:574   529570.781323  181336.281593   \n",
       "490014214HE.link:3154  529477.750156  181314.437043   \n",
       "490010689KB.link:981   529166.734973  181256.336723   \n",
       "490000235V.link:3140   529716.723832  181371.384818   \n",
       "\n",
       "                                                          geometry  \n",
       "490000235X.link:834    POINT (529981.7958802709 181412.0975758662)  \n",
       "490000235YB.link:574   POINT (529570.7813227688 181336.2815925331)  \n",
       "490014214HE.link:3154  POINT (529477.7501560802 181314.4370430721)  \n",
       "490010689KB.link:981   POINT (529166.7349732723 181256.3367228433)  \n",
       "490000235V.link:3140   POINT (529716.7238324936 181371.3848181052)  "
      ]
     },
     "execution_count": 36,
     "metadata": {},
     "output_type": "execute_result"
    }
   ],
   "source": [
    "n.schedule.stop_attribute_data(keys=['name', 'x', 'y', 'geometry']).head()"
   ]
  },
  {
   "cell_type": "code",
   "execution_count": 37,
   "metadata": {
    "ExecuteTime": {
     "end_time": "2021-04-03T08:51:03.972243Z",
     "start_time": "2021-04-03T08:51:03.754502Z"
    }
   },
   "outputs": [
    {
     "data": {
      "text/plain": [
       "<matplotlib.axes._subplots.AxesSubplot at 0x11f5b86d8>"
      ]
     },
     "execution_count": 37,
     "metadata": {},
     "output_type": "execute_result"
    },
    {
     "data": {
      "image/png": "[encoded data removed]",
      "text/plain": [
       "<Figure size 432x288 with 1 Axes>"
      ]
     },
     "metadata": {
      "needs_background": "light"
     },
     "output_type": "display_data"
    }
   ],
   "source": [
    "from geopandas import GeoDataFrame\n",
    "GeoDataFrame(n.schedule.stop_attribute_data(keys='geometry')).plot()"
   ]
  },
  {
   "cell_type": "code",
   "execution_count": 38,
   "metadata": {
    "ExecuteTime": {
     "end_time": "2021-04-03T08:51:03.982525Z",
     "start_time": "2021-04-03T08:51:03.973660Z"
    }
   },
   "outputs": [
    {
     "data": {
      "text/plain": [
       "{'id': '490000235YB.link:574',\n",
       " 'x': 529570.7813227688,\n",
       " 'y': 181336.2815925331,\n",
       " 'epsg': 'epsg:27700',\n",
       " 'name': 'Oxford Street  Soho Street (Stop YB)',\n",
       " 'lat': -0.13404398709291862,\n",
       " 'lon': 51.51609803324078,\n",
       " 's2_id': 2507584474601580133,\n",
       " 'additional_attributes': {'geometry',\n",
       "  'isBlocking',\n",
       "  'linkRefId',\n",
       "  'new_attribute'},\n",
       " 'linkRefId': '574',\n",
       " 'isBlocking': 'false',\n",
       " 'new_attribute': 'hello!',\n",
       " 'geometry': <shapely.geometry.point.Point at 0x11f56f6a0>}"
      ]
     },
     "execution_count": 38,
     "metadata": {},
     "output_type": "execute_result"
    }
   ],
   "source": [
    "n.schedule.stop('490000235YB.link:574').__dict__"
   ]
  },
  {
   "cell_type": "markdown",
   "metadata": {},
   "source": [
    "For this let's say we want to reduce the number of trips. For simplicity of demonstration we don't have about which trips we delete, but logic around timings of trips can be added in this function, as the trips are saved as one of routes attributes (check out the summary methods)"
   ]
  },
  {
   "cell_type": "code",
   "execution_count": 39,
   "metadata": {
    "ExecuteTime": {
     "end_time": "2021-04-03T08:51:04.043584Z",
     "start_time": "2021-04-03T08:51:03.985220Z"
    }
   },
   "outputs": [
    {
     "data": {
      "text/plain": [
       "1562"
      ]
     },
     "execution_count": 39,
     "metadata": {},
     "output_type": "execute_result"
    }
   ],
   "source": [
    "# before\n",
    "len(n.schedule.route_trips_to_dataframe())"
   ]
  },
  {
   "cell_type": "code",
   "execution_count": 40,
   "metadata": {
    "ExecuteTime": {
     "end_time": "2021-04-03T08:51:04.104849Z",
     "start_time": "2021-04-03T08:51:04.050236Z"
    }
   },
   "outputs": [
    {
     "name": "stderr",
     "output_type": "stream",
     "text": [
      "2021-04-03 09:51:04,093 - Changed Route attributes for 68 routes\n"
     ]
    }
   ],
   "source": [
    "def reduce_trips(attribs):\n",
    "    # just delete any other trip\n",
    "    attribs['trips']['trip_id'] = attribs['trips']['trip_id'][::2]\n",
    "    attribs['trips']['trip_departure_time'] = attribs['trips']['trip_departure_time'][::2]\n",
    "    attribs['trips']['vehicle_id'] = attribs['trips']['vehicle_id'][::2]\n",
    "    return attribs['trips']\n",
    "\n",
    "n.schedule.apply_function_to_routes(reduce_trips, 'trips')"
   ]
  },
  {
   "cell_type": "code",
   "execution_count": 41,
   "metadata": {
    "ExecuteTime": {
     "end_time": "2021-04-03T08:51:04.141712Z",
     "start_time": "2021-04-03T08:51:04.106820Z"
    }
   },
   "outputs": [
    {
     "data": {
      "text/plain": [
       "792"
      ]
     },
     "execution_count": 41,
     "metadata": {},
     "output_type": "execute_result"
    }
   ],
   "source": [
    "# after\n",
    "len(n.schedule.route_trips_to_dataframe())"
   ]
  },
  {
   "cell_type": "markdown",
   "metadata": {},
   "source": [
    "Note, this could also be done using the `route_trips_to_dataframe` and `set_route_trips_dataframe` mentioned above.\n",
    "\n",
    "Let's give an example of using a mapping. We can re-use the service name DataFrame we generated above."
   ]
  },
  {
   "cell_type": "code",
   "execution_count": 42,
   "metadata": {
    "ExecuteTime": {
     "end_time": "2021-04-03T08:51:04.161492Z",
     "start_time": "2021-04-03T08:51:04.143705Z"
    }
   },
   "outputs": [
    {
     "data": {
      "text/html": [
       "<div>\n",
       "<style scoped>\n",
       "    .dataframe tbody tr th:only-of-type {\n",
       "        vertical-align: middle;\n",
       "    }\n",
       "\n",
       "    .dataframe tbody tr th {\n",
       "        vertical-align: top;\n",
       "    }\n",
       "\n",
       "    .dataframe thead th {\n",
       "        text-align: right;\n",
       "    }\n",
       "</style>\n",
       "<table border=\"1\" class=\"dataframe\">\n",
       "  <thead>\n",
       "    <tr style=\"text-align: right;\">\n",
       "      <th></th>\n",
       "      <th>name</th>\n",
       "      <th>new_name</th>\n",
       "    </tr>\n",
       "  </thead>\n",
       "  <tbody>\n",
       "    <tr>\n",
       "      <th>14073</th>\n",
       "      <td>Service_94</td>\n",
       "      <td>Brand_new_nameService_94</td>\n",
       "    </tr>\n",
       "    <tr>\n",
       "      <th>18915</th>\n",
       "      <td>Service_N5</td>\n",
       "      <td>Brand_new_nameService_N5</td>\n",
       "    </tr>\n",
       "    <tr>\n",
       "      <th>14134</th>\n",
       "      <td>Service_98</td>\n",
       "      <td>Brand_new_nameService_98</td>\n",
       "    </tr>\n",
       "    <tr>\n",
       "      <th>15660</th>\n",
       "      <td>Service_113</td>\n",
       "      <td>Brand_new_nameService_113</td>\n",
       "    </tr>\n",
       "    <tr>\n",
       "      <th>12430</th>\n",
       "      <td>Service_205</td>\n",
       "      <td>Brand_new_nameService_205</td>\n",
       "    </tr>\n",
       "  </tbody>\n",
       "</table>\n",
       "</div>"
      ],
      "text/plain": [
       "              name                   new_name\n",
       "14073   Service_94   Brand_new_nameService_94\n",
       "18915   Service_N5   Brand_new_nameService_N5\n",
       "14134   Service_98   Brand_new_nameService_98\n",
       "15660  Service_113  Brand_new_nameService_113\n",
       "12430  Service_205  Brand_new_nameService_205"
      ]
     },
     "execution_count": 42,
     "metadata": {},
     "output_type": "execute_result"
    }
   ],
   "source": [
    "df['new_name'] = 'Brand_new_name' + df['name']\n",
    "df.head()"
   ]
  },
  {
   "cell_type": "code",
   "execution_count": 43,
   "metadata": {
    "ExecuteTime": {
     "end_time": "2021-04-03T08:51:04.171614Z",
     "start_time": "2021-04-03T08:51:04.164529Z"
    }
   },
   "outputs": [
    {
     "data": {
      "text/plain": [
       "{'Service_94': 'Brand_new_nameService_94',\n",
       " 'Service_N5': 'Brand_new_nameService_N5',\n",
       " 'Service_98': 'Brand_new_nameService_98',\n",
       " 'Service_113': 'Brand_new_nameService_113',\n",
       " 'Service_205': 'Brand_new_nameService_205',\n",
       " 'Service_N8': 'Brand_new_nameService_N8',\n",
       " 'Service_134': 'Brand_new_nameService_134',\n",
       " 'Service_N20': 'Brand_new_nameService_N20',\n",
       " 'Service_N55': 'Brand_new_nameService_N55'}"
      ]
     },
     "execution_count": 43,
     "metadata": {},
     "output_type": "execute_result"
    }
   ],
   "source": [
    "name_map = dict(zip(df['name'], df['new_name']))\n",
    "name_map"
   ]
  },
  {
   "cell_type": "markdown",
   "metadata": {},
   "source": [
    "In this case, `location` refers to the attribute to be mapped."
   ]
  },
  {
   "cell_type": "code",
   "execution_count": 44,
   "metadata": {
    "ExecuteTime": {
     "end_time": "2021-04-03T08:51:04.182784Z",
     "start_time": "2021-04-03T08:51:04.173246Z"
    }
   },
   "outputs": [
    {
     "name": "stderr",
     "output_type": "stream",
     "text": [
      "2021-04-03 09:51:04,177 - Changed Service attributes for 9 services\n"
     ]
    }
   ],
   "source": [
    "n.schedule.apply_function_to_services(name_map, location='name')"
   ]
  },
  {
   "cell_type": "code",
   "execution_count": 45,
   "metadata": {
    "ExecuteTime": {
     "end_time": "2021-04-03T08:51:04.204036Z",
     "start_time": "2021-04-03T08:51:04.185641Z"
    }
   },
   "outputs": [
    {
     "data": {
      "text/html": [
       "<div>\n",
       "<style scoped>\n",
       "    .dataframe tbody tr th:only-of-type {\n",
       "        vertical-align: middle;\n",
       "    }\n",
       "\n",
       "    .dataframe tbody tr th {\n",
       "        vertical-align: top;\n",
       "    }\n",
       "\n",
       "    .dataframe thead th {\n",
       "        text-align: right;\n",
       "    }\n",
       "</style>\n",
       "<table border=\"1\" class=\"dataframe\">\n",
       "  <thead>\n",
       "    <tr style=\"text-align: right;\">\n",
       "      <th></th>\n",
       "      <th>timestamp</th>\n",
       "      <th>change_event</th>\n",
       "      <th>object_type</th>\n",
       "      <th>old_id</th>\n",
       "      <th>new_id</th>\n",
       "      <th>old_attributes</th>\n",
       "      <th>new_attributes</th>\n",
       "      <th>diff</th>\n",
       "    </tr>\n",
       "  </thead>\n",
       "  <tbody>\n",
       "    <tr>\n",
       "      <th>210</th>\n",
       "      <td>2021-04-03 09:51:04</td>\n",
       "      <td>modify</td>\n",
       "      <td>service</td>\n",
       "      <td>12430</td>\n",
       "      <td>12430</td>\n",
       "      <td>{'id': '12430', 'name': 'Service_205'}</td>\n",
       "      <td>{'id': '12430', 'name': 'Brand_new_nameService...</td>\n",
       "      <td>[(change, name, (Service_205, Brand_new_nameSe...</td>\n",
       "    </tr>\n",
       "    <tr>\n",
       "      <th>211</th>\n",
       "      <td>2021-04-03 09:51:04</td>\n",
       "      <td>modify</td>\n",
       "      <td>service</td>\n",
       "      <td>18853</td>\n",
       "      <td>18853</td>\n",
       "      <td>{'id': '18853', 'name': 'Service_N8'}</td>\n",
       "      <td>{'id': '18853', 'name': 'Brand_new_nameService...</td>\n",
       "      <td>[(change, name, (Service_N8, Brand_new_nameSer...</td>\n",
       "    </tr>\n",
       "    <tr>\n",
       "      <th>212</th>\n",
       "      <td>2021-04-03 09:51:04</td>\n",
       "      <td>modify</td>\n",
       "      <td>service</td>\n",
       "      <td>15234</td>\n",
       "      <td>15234</td>\n",
       "      <td>{'id': '15234', 'name': 'Service_134'}</td>\n",
       "      <td>{'id': '15234', 'name': 'Brand_new_nameService...</td>\n",
       "      <td>[(change, name, (Service_134, Brand_new_nameSe...</td>\n",
       "    </tr>\n",
       "    <tr>\n",
       "      <th>213</th>\n",
       "      <td>2021-04-03 09:51:04</td>\n",
       "      <td>modify</td>\n",
       "      <td>service</td>\n",
       "      <td>17732</td>\n",
       "      <td>17732</td>\n",
       "      <td>{'id': '17732', 'name': 'Service_N20'}</td>\n",
       "      <td>{'id': '17732', 'name': 'Brand_new_nameService...</td>\n",
       "      <td>[(change, name, (Service_N20, Brand_new_nameSe...</td>\n",
       "    </tr>\n",
       "    <tr>\n",
       "      <th>214</th>\n",
       "      <td>2021-04-03 09:51:04</td>\n",
       "      <td>modify</td>\n",
       "      <td>service</td>\n",
       "      <td>20274</td>\n",
       "      <td>20274</td>\n",
       "      <td>{'id': '20274', 'name': 'Service_N55'}</td>\n",
       "      <td>{'id': '20274', 'name': 'Brand_new_nameService...</td>\n",
       "      <td>[(change, name, (Service_N55, Brand_new_nameSe...</td>\n",
       "    </tr>\n",
       "  </tbody>\n",
       "</table>\n",
       "</div>"
      ],
      "text/plain": [
       "               timestamp change_event object_type old_id new_id  \\\n",
       "210  2021-04-03 09:51:04       modify     service  12430  12430   \n",
       "211  2021-04-03 09:51:04       modify     service  18853  18853   \n",
       "212  2021-04-03 09:51:04       modify     service  15234  15234   \n",
       "213  2021-04-03 09:51:04       modify     service  17732  17732   \n",
       "214  2021-04-03 09:51:04       modify     service  20274  20274   \n",
       "\n",
       "                             old_attributes  \\\n",
       "210  {'id': '12430', 'name': 'Service_205'}   \n",
       "211   {'id': '18853', 'name': 'Service_N8'}   \n",
       "212  {'id': '15234', 'name': 'Service_134'}   \n",
       "213  {'id': '17732', 'name': 'Service_N20'}   \n",
       "214  {'id': '20274', 'name': 'Service_N55'}   \n",
       "\n",
       "                                        new_attributes  \\\n",
       "210  {'id': '12430', 'name': 'Brand_new_nameService...   \n",
       "211  {'id': '18853', 'name': 'Brand_new_nameService...   \n",
       "212  {'id': '15234', 'name': 'Brand_new_nameService...   \n",
       "213  {'id': '17732', 'name': 'Brand_new_nameService...   \n",
       "214  {'id': '20274', 'name': 'Brand_new_nameService...   \n",
       "\n",
       "                                                  diff  \n",
       "210  [(change, name, (Service_205, Brand_new_nameSe...  \n",
       "211  [(change, name, (Service_N8, Brand_new_nameSer...  \n",
       "212  [(change, name, (Service_134, Brand_new_nameSe...  \n",
       "213  [(change, name, (Service_N20, Brand_new_nameSe...  \n",
       "214  [(change, name, (Service_N55, Brand_new_nameSe...  "
      ]
     },
     "execution_count": 45,
     "metadata": {},
     "output_type": "execute_result"
    }
   ],
   "source": [
    "n.schedule.change_log().tail()"
   ]
  }
 ],
 "metadata": {
  "kernelspec": {
   "display_name": "genet",
   "language": "python",
   "name": "genet"
  },
  "language_info": {
   "codemirror_mode": {
    "name": "ipython",
    "version": 3
   },
   "file_extension": ".py",
   "mimetype": "text/x-python",
   "name": "python",
   "nbconvert_exporter": "python",
   "pygments_lexer": "ipython3",
   "version": "3.7.0"
  },
  "latex_envs": {
   "LaTeX_envs_menu_present": true,
   "autoclose": true,
   "autocomplete": true,
   "bibliofile": "biblio.bib",
   "cite_by": "apalike",
   "current_citInitial": 1,
   "eqLabelWithNumbers": true,
   "eqNumInitial": 1,
   "hotkeys": {
    "equation": "Ctrl-E",
    "itemize": "Ctrl-I"
   },
   "labels_anchors": false,
   "latex_user_defs": false,
   "report_style_numbering": false,
   "user_envs_cfg": false
  },
  "toc": {
   "base_numbering": 1,
   "nav_menu": {},
   "number_sections": true,
   "sideBar": true,
   "skip_h1_title": false,
   "title_cell": "Table of Contents",
   "title_sidebar": "Contents",
   "toc_cell": false,
   "toc_position": {},
   "toc_section_display": true,
   "toc_window_display": false
  },
  "varInspector": {
   "cols": {
    "lenName": 16,
    "lenType": 16,
    "lenVar": 40
   },
   "kernels_config": {
    "python": {
     "delete_cmd_postfix": "",
     "delete_cmd_prefix": "del ",
     "library": "var_list.py",
     "varRefreshCmd": "print(var_dic_list())"
    },
    "r": {
     "delete_cmd_postfix": ") ",
     "delete_cmd_prefix": "rm(",
     "library": "var_list.r",
     "varRefreshCmd": "cat(var_dic_list()) "
    }
   },
   "types_to_exclude": [
    "module",
    "function",
    "builtin_function_or_method",
    "instance",
    "_Feature"
   ],
   "window_display": false
  }
 },
 "nbformat": 4,
 "nbformat_minor": 2
}
