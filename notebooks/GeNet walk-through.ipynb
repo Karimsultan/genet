{
 "cells": [
  {
   "cell_type": "markdown",
   "metadata": {},
   "source": [
    "# GeNet walk-through"
   ]
  },
  {
   "cell_type": "markdown",
   "metadata": {},
   "source": [
    "## Reading in a network"
   ]
  },
  {
   "cell_type": "code",
   "execution_count": 195,
   "metadata": {
    "ExecuteTime": {
     "end_time": "2020-06-08T18:27:03.014043Z",
     "start_time": "2020-06-08T18:27:03.007969Z"
    }
   },
   "outputs": [],
   "source": [
    "import genet as gn\n",
    "import pandas as pd\n",
    "import os"
   ]
  },
  {
   "cell_type": "code",
   "execution_count": 196,
   "metadata": {
    "ExecuteTime": {
     "end_time": "2020-06-08T18:27:03.986561Z",
     "start_time": "2020-06-08T18:27:03.977899Z"
    }
   },
   "outputs": [],
   "source": [
    "path_to_matsim_network = '/Users/kasia.kozlowska/PycharmProjects/ABM/genet/example_data/pt2matsim_network'"
   ]
  },
  {
   "cell_type": "code",
   "execution_count": 197,
   "metadata": {
    "ExecuteTime": {
     "end_time": "2020-06-08T18:27:04.986636Z",
     "start_time": "2020-06-08T18:27:04.972345Z"
    }
   },
   "outputs": [],
   "source": [
    "n = gn.Network()"
   ]
  },
  {
   "cell_type": "code",
   "execution_count": 198,
   "metadata": {
    "ExecuteTime": {
     "end_time": "2020-06-08T18:27:05.848394Z",
     "start_time": "2020-06-08T18:27:05.838717Z"
    }
   },
   "outputs": [
    {
     "data": {
      "text/plain": [
       "<Network instance at 4864833936: with \n",
       "graph: Name: \n",
       "Type: MultiDiGraph\n",
       "Number of nodes: 0\n",
       "Number of edges: 0\n",
       " and \n",
       "schedule Number of services: 0\n",
       "Number of unique routes: 0"
      ]
     },
     "execution_count": 198,
     "metadata": {},
     "output_type": "execute_result"
    }
   ],
   "source": [
    "n"
   ]
  },
  {
   "cell_type": "code",
   "execution_count": 199,
   "metadata": {
    "ExecuteTime": {
     "end_time": "2020-06-08T18:27:06.702393Z",
     "start_time": "2020-06-08T18:27:06.694402Z"
    }
   },
   "outputs": [],
   "source": [
    "network = os.path.join(path_to_matsim_network, 'network.xml')\n",
    "schedule = os.path.join(path_to_matsim_network, 'schedule.xml')"
   ]
  },
  {
   "cell_type": "code",
   "execution_count": 200,
   "metadata": {
    "ExecuteTime": {
     "end_time": "2020-06-08T18:27:09.460982Z",
     "start_time": "2020-06-08T18:27:07.765188Z"
    }
   },
   "outputs": [
    {
     "name": "stderr",
     "output_type": "stream",
     "text": [
      "/Users/kasia.kozlowska/pycharm_venvs/genet/lib/python3.7/site-packages/pyproj/crs/crs.py:53: FutureWarning: '+init=<authority>:<code>' syntax is deprecated. '<authority>:<code>' is the preferred initialization method. When making the change, be mindful of axis order changes: https://pyproj4.github.io/pyproj/stable/gotchas.html#axis-order-changes-in-proj-6\n",
      "  return _prepare_from_string(\" \".join(pjargs))\n",
      "/Users/kasia.kozlowska/pycharm_venvs/genet/lib/python3.7/site-packages/pyproj/crs/crs.py:294: FutureWarning: '+init=<authority>:<code>' syntax is deprecated. '<authority>:<code>' is the preferred initialization method. When making the change, be mindful of axis order changes: https://pyproj4.github.io/pyproj/stable/gotchas.html#axis-order-changes-in-proj-6\n",
      "  projstring = _prepare_from_string(\" \".join((projstring, projkwargs)))\n",
      "/Users/kasia.kozlowska/pycharm_venvs/genet/lib/python3.7/site-packages/pyproj/crs/crs.py:53: FutureWarning: '+init=<authority>:<code>' syntax is deprecated. '<authority>:<code>' is the preferred initialization method. When making the change, be mindful of axis order changes: https://pyproj4.github.io/pyproj/stable/gotchas.html#axis-order-changes-in-proj-6\n",
      "  return _prepare_from_string(\" \".join(pjargs))\n",
      "/Users/kasia.kozlowska/pycharm_venvs/genet/lib/python3.7/site-packages/pyproj/crs/crs.py:294: FutureWarning: '+init=<authority>:<code>' syntax is deprecated. '<authority>:<code>' is the preferred initialization method. When making the change, be mindful of axis order changes: https://pyproj4.github.io/pyproj/stable/gotchas.html#axis-order-changes-in-proj-6\n",
      "  projstring = _prepare_from_string(\" \".join((projstring, projkwargs)))\n"
     ]
    }
   ],
   "source": [
    "n.read_matsim_network(network, epsg='epsg:27700')"
   ]
  },
  {
   "cell_type": "code",
   "execution_count": 201,
   "metadata": {
    "ExecuteTime": {
     "end_time": "2020-06-08T18:27:12.085481Z",
     "start_time": "2020-06-08T18:27:10.835817Z"
    }
   },
   "outputs": [
    {
     "name": "stderr",
     "output_type": "stream",
     "text": [
      "/Users/kasia.kozlowska/pycharm_venvs/genet/lib/python3.7/site-packages/pyproj/crs/crs.py:53: FutureWarning: '+init=<authority>:<code>' syntax is deprecated. '<authority>:<code>' is the preferred initialization method. When making the change, be mindful of axis order changes: https://pyproj4.github.io/pyproj/stable/gotchas.html#axis-order-changes-in-proj-6\n",
      "  return _prepare_from_string(\" \".join(pjargs))\n",
      "/Users/kasia.kozlowska/pycharm_venvs/genet/lib/python3.7/site-packages/pyproj/crs/crs.py:294: FutureWarning: '+init=<authority>:<code>' syntax is deprecated. '<authority>:<code>' is the preferred initialization method. When making the change, be mindful of axis order changes: https://pyproj4.github.io/pyproj/stable/gotchas.html#axis-order-changes-in-proj-6\n",
      "  projstring = _prepare_from_string(\" \".join((projstring, projkwargs)))\n",
      "/Users/kasia.kozlowska/pycharm_venvs/genet/lib/python3.7/site-packages/pyproj/crs/crs.py:53: FutureWarning: '+init=<authority>:<code>' syntax is deprecated. '<authority>:<code>' is the preferred initialization method. When making the change, be mindful of axis order changes: https://pyproj4.github.io/pyproj/stable/gotchas.html#axis-order-changes-in-proj-6\n",
      "  return _prepare_from_string(\" \".join(pjargs))\n",
      "/Users/kasia.kozlowska/pycharm_venvs/genet/lib/python3.7/site-packages/pyproj/crs/crs.py:294: FutureWarning: '+init=<authority>:<code>' syntax is deprecated. '<authority>:<code>' is the preferred initialization method. When making the change, be mindful of axis order changes: https://pyproj4.github.io/pyproj/stable/gotchas.html#axis-order-changes-in-proj-6\n",
      "  projstring = _prepare_from_string(\" \".join((projstring, projkwargs)))\n",
      "/Users/kasia.kozlowska/pycharm_venvs/genet/lib/python3.7/site-packages/pyproj/crs/crs.py:53: FutureWarning: '+init=<authority>:<code>' syntax is deprecated. '<authority>:<code>' is the preferred initialization method. When making the change, be mindful of axis order changes: https://pyproj4.github.io/pyproj/stable/gotchas.html#axis-order-changes-in-proj-6\n",
      "  return _prepare_from_string(\" \".join(pjargs))\n",
      "/Users/kasia.kozlowska/pycharm_venvs/genet/lib/python3.7/site-packages/pyproj/crs/crs.py:294: FutureWarning: '+init=<authority>:<code>' syntax is deprecated. '<authority>:<code>' is the preferred initialization method. When making the change, be mindful of axis order changes: https://pyproj4.github.io/pyproj/stable/gotchas.html#axis-order-changes-in-proj-6\n",
      "  projstring = _prepare_from_string(\" \".join((projstring, projkwargs)))\n",
      "/Users/kasia.kozlowska/pycharm_venvs/genet/lib/python3.7/site-packages/pyproj/crs/crs.py:53: FutureWarning: '+init=<authority>:<code>' syntax is deprecated. '<authority>:<code>' is the preferred initialization method. When making the change, be mindful of axis order changes: https://pyproj4.github.io/pyproj/stable/gotchas.html#axis-order-changes-in-proj-6\n",
      "  return _prepare_from_string(\" \".join(pjargs))\n",
      "/Users/kasia.kozlowska/pycharm_venvs/genet/lib/python3.7/site-packages/pyproj/crs/crs.py:294: FutureWarning: '+init=<authority>:<code>' syntax is deprecated. '<authority>:<code>' is the preferred initialization method. When making the change, be mindful of axis order changes: https://pyproj4.github.io/pyproj/stable/gotchas.html#axis-order-changes-in-proj-6\n",
      "  projstring = _prepare_from_string(\" \".join((projstring, projkwargs)))\n",
      "/Users/kasia.kozlowska/pycharm_venvs/genet/lib/python3.7/site-packages/pyproj/crs/crs.py:53: FutureWarning: '+init=<authority>:<code>' syntax is deprecated. '<authority>:<code>' is the preferred initialization method. When making the change, be mindful of axis order changes: https://pyproj4.github.io/pyproj/stable/gotchas.html#axis-order-changes-in-proj-6\n",
      "  return _prepare_from_string(\" \".join(pjargs))\n",
      "/Users/kasia.kozlowska/pycharm_venvs/genet/lib/python3.7/site-packages/pyproj/crs/crs.py:294: FutureWarning: '+init=<authority>:<code>' syntax is deprecated. '<authority>:<code>' is the preferred initialization method. When making the change, be mindful of axis order changes: https://pyproj4.github.io/pyproj/stable/gotchas.html#axis-order-changes-in-proj-6\n",
      "  projstring = _prepare_from_string(\" \".join((projstring, projkwargs)))\n",
      "/Users/kasia.kozlowska/pycharm_venvs/genet/lib/python3.7/site-packages/pyproj/crs/crs.py:53: FutureWarning: '+init=<authority>:<code>' syntax is deprecated. '<authority>:<code>' is the preferred initialization method. When making the change, be mindful of axis order changes: https://pyproj4.github.io/pyproj/stable/gotchas.html#axis-order-changes-in-proj-6\n",
      "  return _prepare_from_string(\" \".join(pjargs))\n",
      "/Users/kasia.kozlowska/pycharm_venvs/genet/lib/python3.7/site-packages/pyproj/crs/crs.py:294: FutureWarning: '+init=<authority>:<code>' syntax is deprecated. '<authority>:<code>' is the preferred initialization method. When making the change, be mindful of axis order changes: https://pyproj4.github.io/pyproj/stable/gotchas.html#axis-order-changes-in-proj-6\n",
      "  projstring = _prepare_from_string(\" \".join((projstring, projkwargs)))\n"
     ]
    }
   ],
   "source": [
    "n.read_matsim_schedule(schedule, epsg='epsg:27700')"
   ]
  },
  {
   "cell_type": "code",
   "execution_count": 202,
   "metadata": {
    "ExecuteTime": {
     "end_time": "2020-06-08T18:27:13.452276Z",
     "start_time": "2020-06-08T18:27:13.421541Z"
    }
   },
   "outputs": [
    {
     "data": {
      "text/plain": [
       "<Network instance at 4864833936: with \n",
       "graph: Name: \n",
       "Type: MultiDiGraph\n",
       "Number of nodes: 1662\n",
       "Number of edges: 3166\n",
       "Average in degree:   1.9049\n",
       "Average out degree:   1.9049 and \n",
       "schedule Number of services: 62\n",
       "Number of unique routes: 520"
      ]
     },
     "execution_count": 202,
     "metadata": {},
     "output_type": "execute_result"
    }
   ],
   "source": [
    "n"
   ]
  },
  {
   "cell_type": "code",
   "execution_count": 203,
   "metadata": {
    "ExecuteTime": {
     "end_time": "2020-06-08T18:27:14.687432Z",
     "start_time": "2020-06-08T18:27:14.679729Z"
    }
   },
   "outputs": [
    {
     "data": {
      "text/plain": [
       "('101982',\n",
       " {'id': '101982',\n",
       "  'x': '528704.1425925883',\n",
       "  'y': '182068.78193707118',\n",
       "  'lon': -0.14625948709424305,\n",
       "  'lat': 51.52287873323954,\n",
       "  's2_id': 5221390329378179879})"
      ]
     },
     "execution_count": 203,
     "metadata": {},
     "output_type": "execute_result"
    }
   ],
   "source": [
    "list(n.nodes())[0]"
   ]
  },
  {
   "cell_type": "code",
   "execution_count": 207,
   "metadata": {
    "ExecuteTime": {
     "end_time": "2020-06-08T18:27:43.392464Z",
     "start_time": "2020-06-08T18:27:41.212917Z"
    }
   },
   "outputs": [
    {
     "name": "stdout",
     "output_type": "stream",
     "text": [
      "265 µs ± 71.2 µs per loop (mean ± std. dev. of 7 runs, 1000 loops each)\n"
     ]
    }
   ],
   "source": [
    "timeit len(dict(n.nodes()))"
   ]
  },
  {
   "cell_type": "code",
   "execution_count": 208,
   "metadata": {
    "ExecuteTime": {
     "end_time": "2020-06-08T18:27:49.247905Z",
     "start_time": "2020-06-08T18:27:47.633103Z"
    }
   },
   "outputs": [
    {
     "name": "stdout",
     "output_type": "stream",
     "text": [
      "193 µs ± 42.5 µs per loop (mean ± std. dev. of 7 runs, 1000 loops each)\n"
     ]
    }
   ],
   "source": [
    "timeit len(list(n.nodes()))"
   ]
  },
  {
   "cell_type": "code",
   "execution_count": 188,
   "metadata": {
    "ExecuteTime": {
     "end_time": "2020-06-08T15:28:42.947944Z",
     "start_time": "2020-06-08T15:28:42.920268Z"
    }
   },
   "outputs": [
    {
     "data": {
      "text/plain": [
       "('1',\n",
       " {'id': '1',\n",
       "  'from': '25508485',\n",
       "  'to': '21667818',\n",
       "  'freespeed': 4.166666666666667,\n",
       "  'capacity': 600.0,\n",
       "  'permlanes': 1.0,\n",
       "  'oneway': '1',\n",
       "  'modes': ['car'],\n",
       "  's2_from': 5221390301001263407,\n",
       "  's2_to': 5221390302696205321,\n",
       "  'length': 52.765151087870265,\n",
       "  'attributes': {'osm:way:access': {'name': 'osm:way:access',\n",
       "    'class': 'java.lang.String',\n",
       "    'text': 'permissive'},\n",
       "   'osm:way:highway': {'name': 'osm:way:highway',\n",
       "    'class': 'java.lang.String',\n",
       "    'text': 'unclassified'},\n",
       "   'osm:way:id': {'name': 'osm:way:id',\n",
       "    'class': 'java.lang.Long',\n",
       "    'text': '26997928'},\n",
       "   'osm:way:name': {'name': 'osm:way:name',\n",
       "    'class': 'java.lang.String',\n",
       "    'text': 'Brunswick Place'}}})"
      ]
     },
     "execution_count": 188,
     "metadata": {},
     "output_type": "execute_result"
    }
   ],
   "source": [
    "list(n.links())[0]"
   ]
  },
  {
   "cell_type": "code",
   "execution_count": 189,
   "metadata": {
    "ExecuteTime": {
     "end_time": "2020-06-08T15:28:44.142617Z",
     "start_time": "2020-06-08T15:28:43.887942Z"
    }
   },
   "outputs": [
    {
     "name": "stderr",
     "output_type": "stream",
     "text": [
      "/Users/kasia.kozlowska/pycharm_venvs/genet/lib/python3.7/site-packages/pyproj/crs/crs.py:53: FutureWarning: '+init=<authority>:<code>' syntax is deprecated. '<authority>:<code>' is the preferred initialization method. When making the change, be mindful of axis order changes: https://pyproj4.github.io/pyproj/stable/gotchas.html#axis-order-changes-in-proj-6\n",
      "  return _prepare_from_string(\" \".join(pjargs))\n",
      "/Users/kasia.kozlowska/pycharm_venvs/genet/lib/python3.7/site-packages/pyproj/crs/crs.py:294: FutureWarning: '+init=<authority>:<code>' syntax is deprecated. '<authority>:<code>' is the preferred initialization method. When making the change, be mindful of axis order changes: https://pyproj4.github.io/pyproj/stable/gotchas.html#axis-order-changes-in-proj-6\n",
      "  projstring = _prepare_from_string(\" \".join((projstring, projkwargs)))\n",
      "/Users/kasia.kozlowska/pycharm_venvs/genet/lib/python3.7/site-packages/pyproj/crs/crs.py:53: FutureWarning: '+init=<authority>:<code>' syntax is deprecated. '<authority>:<code>' is the preferred initialization method. When making the change, be mindful of axis order changes: https://pyproj4.github.io/pyproj/stable/gotchas.html#axis-order-changes-in-proj-6\n",
      "  return _prepare_from_string(\" \".join(pjargs))\n",
      "/Users/kasia.kozlowska/pycharm_venvs/genet/lib/python3.7/site-packages/pyproj/crs/crs.py:294: FutureWarning: '+init=<authority>:<code>' syntax is deprecated. '<authority>:<code>' is the preferred initialization method. When making the change, be mindful of axis order changes: https://pyproj4.github.io/pyproj/stable/gotchas.html#axis-order-changes-in-proj-6\n",
      "  projstring = _prepare_from_string(\" \".join((projstring, projkwargs)))\n"
     ]
    }
   ],
   "source": [
    "from pyproj import Proj, Transformer\n",
    "n = list(n.nodes())[0][1]\n",
    "transformer = Transformer.from_proj(Proj(init='epsg:27700'), Proj(init='epsg:4326'))\n",
    "x, y = gn.utils.spatial.change_proj(n['x'], n['y'], transformer)"
   ]
  },
  {
   "cell_type": "code",
   "execution_count": 190,
   "metadata": {
    "ExecuteTime": {
     "end_time": "2020-06-08T15:28:44.875814Z",
     "start_time": "2020-06-08T15:28:44.871549Z"
    }
   },
   "outputs": [
    {
     "data": {
      "text/plain": [
       "(-0.14625948709424305, 51.52287873323954)"
      ]
     },
     "execution_count": 190,
     "metadata": {},
     "output_type": "execute_result"
    }
   ],
   "source": [
    "x, y"
   ]
  },
  {
   "cell_type": "code",
   "execution_count": 191,
   "metadata": {
    "ExecuteTime": {
     "end_time": "2020-06-08T15:28:45.663300Z",
     "start_time": "2020-06-08T15:28:45.652283Z"
    }
   },
   "outputs": [],
   "source": [
    "m = gn.Network()"
   ]
  },
  {
   "cell_type": "code",
   "execution_count": 192,
   "metadata": {
    "ExecuteTime": {
     "end_time": "2020-06-08T15:28:46.584344Z",
     "start_time": "2020-06-08T15:28:46.551048Z"
    }
   },
   "outputs": [],
   "source": [
    "m.add_node('101982', {'id': '101982',\n",
    "  'x': '1',\n",
    "  'y': '2',\n",
    "  'lon': -0.14625948709424305,\n",
    "  'lat': 51.52287873323954,\n",
    "  's2_id': 5221390329378179879})"
   ]
  },
  {
   "cell_type": "code",
   "execution_count": 193,
   "metadata": {
    "ExecuteTime": {
     "end_time": "2020-06-08T15:28:47.487475Z",
     "start_time": "2020-06-08T15:28:47.476509Z"
    }
   },
   "outputs": [
    {
     "ename": "KeyError",
     "evalue": "'101981'",
     "output_type": "error",
     "traceback": [
      "\u001b[0;31m---------------------------------------------------------------------------\u001b[0m",
      "\u001b[0;31mKeyError\u001b[0m                                  Traceback (most recent call last)",
      "\u001b[0;32m<ipython-input-193-9a32ca750ac4>\u001b[0m in \u001b[0;36m<module>\u001b[0;34m\u001b[0m\n\u001b[0;32m----> 1\u001b[0;31m \u001b[0mm\u001b[0m\u001b[0;34m.\u001b[0m\u001b[0mgraph\u001b[0m\u001b[0;34m.\u001b[0m\u001b[0mnodes\u001b[0m\u001b[0;34m[\u001b[0m\u001b[0;34m'101981'\u001b[0m\u001b[0;34m]\u001b[0m\u001b[0;34m\u001b[0m\u001b[0;34m\u001b[0m\u001b[0m\n\u001b[0m",
      "\u001b[0;32m~/pycharm_venvs/genet/lib/python3.7/site-packages/networkx/classes/reportviews.py\u001b[0m in \u001b[0;36m__getitem__\u001b[0;34m(self, n)\u001b[0m\n\u001b[1;32m    176\u001b[0m \u001b[0;34m\u001b[0m\u001b[0m\n\u001b[1;32m    177\u001b[0m     \u001b[0;32mdef\u001b[0m \u001b[0m__getitem__\u001b[0m\u001b[0;34m(\u001b[0m\u001b[0mself\u001b[0m\u001b[0;34m,\u001b[0m \u001b[0mn\u001b[0m\u001b[0;34m)\u001b[0m\u001b[0;34m:\u001b[0m\u001b[0;34m\u001b[0m\u001b[0;34m\u001b[0m\u001b[0m\n\u001b[0;32m--> 178\u001b[0;31m         \u001b[0;32mreturn\u001b[0m \u001b[0mself\u001b[0m\u001b[0;34m.\u001b[0m\u001b[0m_nodes\u001b[0m\u001b[0;34m[\u001b[0m\u001b[0mn\u001b[0m\u001b[0;34m]\u001b[0m\u001b[0;34m\u001b[0m\u001b[0;34m\u001b[0m\u001b[0m\n\u001b[0m\u001b[1;32m    179\u001b[0m \u001b[0;34m\u001b[0m\u001b[0m\n\u001b[1;32m    180\u001b[0m     \u001b[0;31m# Set methods\u001b[0m\u001b[0;34m\u001b[0m\u001b[0;34m\u001b[0m\u001b[0;34m\u001b[0m\u001b[0m\n",
      "\u001b[0;31mKeyError\u001b[0m: '101981'"
     ]
    }
   ],
   "source": [
    "m.graph.nodes['101981']"
   ]
  },
  {
   "cell_type": "code",
   "execution_count": 51,
   "metadata": {
    "ExecuteTime": {
     "end_time": "2020-06-04T14:04:25.542104Z",
     "start_time": "2020-06-04T14:04:25.538537Z"
    }
   },
   "outputs": [],
   "source": [
    "import networkx as nx"
   ]
  },
  {
   "cell_type": "code",
   "execution_count": 67,
   "metadata": {
    "ExecuteTime": {
     "end_time": "2020-06-04T14:06:57.030225Z",
     "start_time": "2020-06-04T14:06:56.987516Z"
    }
   },
   "outputs": [],
   "source": [
    "x = nx.compose(n.graph, m.graph)"
   ]
  },
  {
   "cell_type": "code",
   "execution_count": 68,
   "metadata": {
    "ExecuteTime": {
     "end_time": "2020-06-04T14:06:58.249503Z",
     "start_time": "2020-06-04T14:06:58.243477Z"
    }
   },
   "outputs": [
    {
     "data": {
      "text/plain": [
       "{'id': '101982',\n",
       " 'x': '1',\n",
       " 'y': '2',\n",
       " 'lon': -0.14625948709424305,\n",
       " 'lat': 51.52287873323954,\n",
       " 's2_id': 5221390329378179879}"
      ]
     },
     "execution_count": 68,
     "metadata": {},
     "output_type": "execute_result"
    }
   ],
   "source": [
    "x.nodes['101982']"
   ]
  },
  {
   "cell_type": "code",
   "execution_count": 72,
   "metadata": {
    "ExecuteTime": {
     "end_time": "2020-06-04T14:20:26.009853Z",
     "start_time": "2020-06-04T14:20:26.003292Z"
    }
   },
   "outputs": [],
   "source": [
    "nodes = gn.graph_operations.extract_nodes_on_node_attributes(\n",
    "    n,\n",
    "    conditions= {'s2_id': 5221390328605860387},\n",
    ")"
   ]
  },
  {
   "cell_type": "code",
   "execution_count": 73,
   "metadata": {
    "ExecuteTime": {
     "end_time": "2020-06-04T14:20:26.607849Z",
     "start_time": "2020-06-04T14:20:26.601972Z"
    }
   },
   "outputs": [
    {
     "data": {
      "text/plain": [
       "['101986']"
      ]
     },
     "execution_count": 73,
     "metadata": {},
     "output_type": "execute_result"
    }
   ],
   "source": [
    "nodes"
   ]
  },
  {
   "cell_type": "code",
   "execution_count": 155,
   "metadata": {
    "ExecuteTime": {
     "end_time": "2020-06-08T14:17:07.273600Z",
     "start_time": "2020-06-08T14:17:07.261514Z"
    }
   },
   "outputs": [],
   "source": [
    "s2_ids = n.node_attribute_data_under_key('s2_id')\n",
    "s2_ids.name = 's2_id'\n",
    "s2_ids.index = s2_ids.index.set_names(['other'])"
   ]
  },
  {
   "cell_type": "code",
   "execution_count": 145,
   "metadata": {
    "ExecuteTime": {
     "end_time": "2020-06-08T13:07:41.709167Z",
     "start_time": "2020-06-08T13:07:41.694094Z"
    }
   },
   "outputs": [
    {
     "data": {
      "text/html": [
       "<div>\n",
       "<style scoped>\n",
       "    .dataframe tbody tr th:only-of-type {\n",
       "        vertical-align: middle;\n",
       "    }\n",
       "\n",
       "    .dataframe tbody tr th {\n",
       "        vertical-align: top;\n",
       "    }\n",
       "\n",
       "    .dataframe thead th {\n",
       "        text-align: right;\n",
       "    }\n",
       "</style>\n",
       "<table border=\"1\" class=\"dataframe\">\n",
       "  <thead>\n",
       "    <tr style=\"text-align: right;\">\n",
       "      <th></th>\n",
       "      <th>other</th>\n",
       "      <th>s2_id</th>\n",
       "    </tr>\n",
       "  </thead>\n",
       "  <tbody>\n",
       "    <tr>\n",
       "      <th>0</th>\n",
       "      <td>101982</td>\n",
       "      <td>5221390329378179879</td>\n",
       "    </tr>\n",
       "    <tr>\n",
       "      <th>1</th>\n",
       "      <td>101986</td>\n",
       "      <td>5221390328605860387</td>\n",
       "    </tr>\n",
       "    <tr>\n",
       "      <th>2</th>\n",
       "      <td>101990</td>\n",
       "      <td>5221390304444511271</td>\n",
       "    </tr>\n",
       "    <tr>\n",
       "      <th>3</th>\n",
       "      <td>101991</td>\n",
       "      <td>5221390303978897267</td>\n",
       "    </tr>\n",
       "    <tr>\n",
       "      <th>4</th>\n",
       "      <td>101992</td>\n",
       "      <td>5221390304897644929</td>\n",
       "    </tr>\n",
       "    <tr>\n",
       "      <th>...</th>\n",
       "      <td>...</td>\n",
       "      <td>...</td>\n",
       "    </tr>\n",
       "    <tr>\n",
       "      <th>1657</th>\n",
       "      <td>983839058</td>\n",
       "      <td>5221390693831817171</td>\n",
       "    </tr>\n",
       "    <tr>\n",
       "      <th>1658</th>\n",
       "      <td>99936</td>\n",
       "      <td>5221390297975475113</td>\n",
       "    </tr>\n",
       "    <tr>\n",
       "      <th>1659</th>\n",
       "      <td>99937</td>\n",
       "      <td>5221390299484831045</td>\n",
       "    </tr>\n",
       "    <tr>\n",
       "      <th>1660</th>\n",
       "      <td>99940</td>\n",
       "      <td>5221390294354743413</td>\n",
       "    </tr>\n",
       "    <tr>\n",
       "      <th>1661</th>\n",
       "      <td>99943</td>\n",
       "      <td>5221390298004852605</td>\n",
       "    </tr>\n",
       "  </tbody>\n",
       "</table>\n",
       "<p>1662 rows × 2 columns</p>\n",
       "</div>"
      ],
      "text/plain": [
       "          other                s2_id\n",
       "0        101982  5221390329378179879\n",
       "1        101986  5221390328605860387\n",
       "2        101990  5221390304444511271\n",
       "3        101991  5221390303978897267\n",
       "4        101992  5221390304897644929\n",
       "...         ...                  ...\n",
       "1657  983839058  5221390693831817171\n",
       "1658      99936  5221390297975475113\n",
       "1659      99937  5221390299484831045\n",
       "1660      99940  5221390294354743413\n",
       "1661      99943  5221390298004852605\n",
       "\n",
       "[1662 rows x 2 columns]"
      ]
     },
     "execution_count": 145,
     "metadata": {},
     "output_type": "execute_result"
    }
   ],
   "source": [
    "pd.DataFrame(s2_ids).reset_index()"
   ]
  },
  {
   "cell_type": "code",
   "execution_count": 156,
   "metadata": {
    "ExecuteTime": {
     "end_time": "2020-06-08T14:17:15.433397Z",
     "start_time": "2020-06-08T14:17:15.419485Z"
    }
   },
   "outputs": [],
   "source": [
    "df = pd.DataFrame(s2_ids).reset_index().merge(pd.DataFrame(s2_ids).reset_index(), on='s2_id')"
   ]
  },
  {
   "cell_type": "code",
   "execution_count": 157,
   "metadata": {
    "ExecuteTime": {
     "end_time": "2020-06-08T14:17:27.732220Z",
     "start_time": "2020-06-08T14:17:27.717676Z"
    }
   },
   "outputs": [
    {
     "data": {
      "text/html": [
       "<div>\n",
       "<style scoped>\n",
       "    .dataframe tbody tr th:only-of-type {\n",
       "        vertical-align: middle;\n",
       "    }\n",
       "\n",
       "    .dataframe tbody tr th {\n",
       "        vertical-align: top;\n",
       "    }\n",
       "\n",
       "    .dataframe thead th {\n",
       "        text-align: right;\n",
       "    }\n",
       "</style>\n",
       "<table border=\"1\" class=\"dataframe\">\n",
       "  <thead>\n",
       "    <tr style=\"text-align: right;\">\n",
       "      <th></th>\n",
       "      <th>other_x</th>\n",
       "      <th>s2_id</th>\n",
       "      <th>other_y</th>\n",
       "    </tr>\n",
       "  </thead>\n",
       "  <tbody>\n",
       "    <tr>\n",
       "      <th>0</th>\n",
       "      <td>101982</td>\n",
       "      <td>5221390329378179879</td>\n",
       "      <td>101982</td>\n",
       "    </tr>\n",
       "    <tr>\n",
       "      <th>1</th>\n",
       "      <td>101986</td>\n",
       "      <td>5221390328605860387</td>\n",
       "      <td>101986</td>\n",
       "    </tr>\n",
       "    <tr>\n",
       "      <th>2</th>\n",
       "      <td>101990</td>\n",
       "      <td>5221390304444511271</td>\n",
       "      <td>101990</td>\n",
       "    </tr>\n",
       "    <tr>\n",
       "      <th>3</th>\n",
       "      <td>101991</td>\n",
       "      <td>5221390303978897267</td>\n",
       "      <td>101991</td>\n",
       "    </tr>\n",
       "    <tr>\n",
       "      <th>4</th>\n",
       "      <td>101992</td>\n",
       "      <td>5221390304897644929</td>\n",
       "      <td>101992</td>\n",
       "    </tr>\n",
       "    <tr>\n",
       "      <th>...</th>\n",
       "      <td>...</td>\n",
       "      <td>...</td>\n",
       "      <td>...</td>\n",
       "    </tr>\n",
       "    <tr>\n",
       "      <th>1657</th>\n",
       "      <td>983839058</td>\n",
       "      <td>5221390693831817171</td>\n",
       "      <td>983839058</td>\n",
       "    </tr>\n",
       "    <tr>\n",
       "      <th>1658</th>\n",
       "      <td>99936</td>\n",
       "      <td>5221390297975475113</td>\n",
       "      <td>99936</td>\n",
       "    </tr>\n",
       "    <tr>\n",
       "      <th>1659</th>\n",
       "      <td>99937</td>\n",
       "      <td>5221390299484831045</td>\n",
       "      <td>99937</td>\n",
       "    </tr>\n",
       "    <tr>\n",
       "      <th>1660</th>\n",
       "      <td>99940</td>\n",
       "      <td>5221390294354743413</td>\n",
       "      <td>99940</td>\n",
       "    </tr>\n",
       "    <tr>\n",
       "      <th>1661</th>\n",
       "      <td>99943</td>\n",
       "      <td>5221390298004852605</td>\n",
       "      <td>99943</td>\n",
       "    </tr>\n",
       "  </tbody>\n",
       "</table>\n",
       "<p>1662 rows × 3 columns</p>\n",
       "</div>"
      ],
      "text/plain": [
       "        other_x                s2_id    other_y\n",
       "0        101982  5221390329378179879     101982\n",
       "1        101986  5221390328605860387     101986\n",
       "2        101990  5221390304444511271     101990\n",
       "3        101991  5221390303978897267     101991\n",
       "4        101992  5221390304897644929     101992\n",
       "...         ...                  ...        ...\n",
       "1657  983839058  5221390693831817171  983839058\n",
       "1658      99936  5221390297975475113      99936\n",
       "1659      99937  5221390299484831045      99937\n",
       "1660      99940  5221390294354743413      99940\n",
       "1661      99943  5221390298004852605      99943\n",
       "\n",
       "[1662 rows x 3 columns]"
      ]
     },
     "execution_count": 157,
     "metadata": {},
     "output_type": "execute_result"
    }
   ],
   "source": [
    "df"
   ]
  },
  {
   "cell_type": "code",
   "execution_count": 166,
   "metadata": {
    "ExecuteTime": {
     "end_time": "2020-06-08T14:25:14.005530Z",
     "start_time": "2020-06-08T14:25:13.992435Z"
    }
   },
   "outputs": [
    {
     "data": {
      "text/plain": [
       "1    101986\n",
       "Name: other_x, dtype: object"
      ]
     },
     "execution_count": 166,
     "metadata": {},
     "output_type": "execute_result"
    }
   ],
   "source": [
    "df[df['s2_id'] == 5221390328605860387]['other_x']"
   ]
  },
  {
   "cell_type": "code",
   "execution_count": 163,
   "metadata": {
    "ExecuteTime": {
     "end_time": "2020-06-08T14:21:34.859831Z",
     "start_time": "2020-06-08T14:21:34.712607Z"
    }
   },
   "outputs": [
    {
     "name": "stdout",
     "output_type": "stream",
     "text": [
      "5221390329378179879\n",
      "5221390328605860387\n",
      "5221390304444511271\n",
      "5221390303978897267\n",
      "5221390304897644929\n",
      "5221390305030527673\n",
      "5221390307703020221\n",
      "5221390314764785007\n",
      "5221390315669151227\n",
      "5221390316426622139\n",
      "5221390323861404459\n",
      "5221390309039202091\n",
      "5221390324059289805\n",
      "5221390309826243757\n",
      "5221390287912569565\n",
      "5221390285765973431\n",
      "5221390286728906435\n",
      "5221390282267671337\n",
      "5221390283850985563\n",
      "5221390281443592785\n",
      "5221390278852564403\n",
      "5221390277859256917\n",
      "5221390270221533161\n",
      "5221366535974762955\n",
      "5221366541407503331\n",
      "5221366536274112575\n",
      "5221366541534487607\n",
      "5221366536002310705\n",
      "5221390668024400277\n",
      "5221390669210740033\n",
      "5221390669876753843\n",
      "5221390669632582939\n",
      "5221390669309377079\n",
      "5221390669945276619\n",
      "5221390668211344839\n",
      "5221390663886903641\n",
      "5221390341196261805\n",
      "5221390702524488473\n",
      "5221390741226535699\n",
      "5221390815387631207\n",
      "5221390818322750479\n",
      "5221390820127771991\n",
      "5221390833257356601\n",
      "5221390323720041047\n",
      "5221366087782929397\n",
      "5221390723075322255\n",
      "5221390735798392371\n",
      "5221390340180380499\n",
      "5221390340853388827\n",
      "5221390680362107915\n",
      "5221390333648185813\n",
      "5221390749344814639\n",
      "5221390749413773875\n",
      "5221390810783255057\n",
      "5221390806149566647\n",
      "5221390692824430165\n",
      "5221390693005250301\n",
      "5221390693243044213\n",
      "5221390693512237449\n",
      "5221390694308637381\n",
      "5221390697488578159\n",
      "5221390697431132835\n",
      "5221390697258754733\n",
      "5221390697304494135\n",
      "5221366123013836073\n",
      "5221366122986932183\n",
      "5221390321431540079\n",
      "5221390687276894025\n",
      "5221390686232080973\n",
      "5221390322535354489\n",
      "5221390322718236117\n",
      "5221390685575515773\n",
      "5221390685356930065\n",
      "5221390683049429613\n",
      "5221390683274543981\n",
      "5221366099100256737\n",
      "5221366098144185973\n",
      "5221366120076525353\n",
      "5221366120379712953\n",
      "5221366122079979203\n",
      "5221366119441812527\n",
      "5221390699851893495\n",
      "5221390725618420663\n",
      "5221390730436006449\n",
      "5221390735293729969\n",
      "5221390723752611975\n",
      "5221390728234513275\n",
      "5221390727998011311\n",
      "5221390727931164629\n",
      "5221390727810148023\n",
      "5221390717432129497\n",
      "5221390702256103647\n",
      "5221390719594778311\n",
      "5221390702417469607\n",
      "5221390701409839275\n",
      "5221390719758694127\n",
      "5221390726834813617\n",
      "5221390721126435997\n",
      "5221390736076660391\n",
      "5221390736753079301\n",
      "5221390739891716613\n",
      "5221390728650038919\n",
      "5221390716457603569\n",
      "5221390715644839313\n",
      "5221390745522076279\n",
      "5221390747176396349\n",
      "5221390746710609673\n",
      "5221390752028469383\n",
      "5221390751830675205\n",
      "5221390752084640727\n",
      "5221390753539226305\n",
      "5221390752730725571\n",
      "5221390752994862117\n",
      "5221390754930610347\n",
      "5221390755591153773\n",
      "5221390755908436573\n",
      "5221390712489752749\n",
      "5221390752216326341\n",
      "5221390749409916645\n",
      "5221390811099343221\n",
      "5221390810793737689\n",
      "5221390810042219867\n",
      "5221390749084609523\n",
      "5221390760896518147\n",
      "5221390758635115303\n",
      "5221390757750558233\n",
      "5221390756799244779\n",
      "5221390710817161743\n",
      "5221390665551717485\n",
      "5221390666348573313\n",
      "5221390709013656915\n",
      "5221390710358066403\n",
      "5221390711371177737\n",
      "5221390710015643649\n",
      "5221390709283468559\n",
      "5221390666108118565\n",
      "5221390664664419195\n",
      "5221390718174548165\n",
      "5221390718593131341\n",
      "5221390703761278603\n",
      "5221390707627857469\n",
      "5221390707941022243\n",
      "5221390717852326699\n",
      "5221390702739232833\n",
      "5221390679482136251\n",
      "5221390680042178459\n",
      "5221390704659738507\n",
      "5221390701812340941\n",
      "5221390704011812329\n",
      "5221390704106073521\n",
      "5221390706591787681\n",
      "5221390706222619635\n",
      "5221390680592525103\n",
      "5221390679689468613\n",
      "5221390682143981563\n",
      "5221390705315156445\n",
      "5221390677523371287\n",
      "5221366498689885293\n",
      "5221366132529122985\n",
      "5221390690610008339\n",
      "5221366097629257009\n",
      "5221366130376888905\n",
      "5221366129075301723\n",
      "5221390299722399499\n",
      "5221390301002736651\n",
      "5221390299883106043\n",
      "5221390302479890955\n",
      "5221390290123976625\n",
      "5221390292162745915\n",
      "5221390290565749737\n",
      "5221390288283104649\n",
      "5221390306962235877\n",
      "5221390288916111403\n",
      "5221390289452039073\n",
      "5221390289271999289\n",
      "5221390308732184313\n",
      "5221390317863473255\n",
      "5221390320040783993\n",
      "5221390318237125079\n",
      "5221366507372621811\n",
      "5221366500350297403\n",
      "5221366508699993695\n",
      "5221366509347561463\n",
      "5221366509149383343\n",
      "5221366509234791593\n",
      "5221390822383659091\n",
      "5221390729058153905\n",
      "5221366085191159719\n",
      "5221366085848708263\n",
      "5221366086381328463\n",
      "5221390735129343543\n",
      "5221390824308864091\n",
      "5221390829872042537\n",
      "5221390739236081673\n",
      "5221390697162401921\n",
      "5221390696778787059\n",
      "5221390737883395595\n",
      "5221390815830873343\n",
      "5221390742332365091\n",
      "5221390742034218987\n",
      "5221390806689693167\n",
      "5221390669056029011\n",
      "5221390812309195619\n",
      "5221390811990847599\n",
      "5221366120662224841\n",
      "5221390814884796593\n",
      "5221390814612014795\n",
      "5221390744721750293\n",
      "5221390761203398159\n",
      "5221390754870778637\n",
      "5221366088164108415\n",
      "5221390266660803889\n",
      "5221390266799611357\n",
      "5221390295285964029\n",
      "5221390294452689121\n",
      "5221390268184729965\n",
      "5221390269111888441\n",
      "5221390267866603955\n",
      "5221390267627131097\n",
      "5221390295025209251\n",
      "5221390269530875887\n",
      "5221390269792414681\n",
      "5221390269937552635\n",
      "5221390292694281737\n",
      "5221390292582438733\n",
      "5221390293324304081\n",
      "5221390293894083017\n",
      "5221390270505183315\n",
      "5221366535147267529\n",
      "5221366533445038275\n",
      "5221366532835809319\n",
      "5221366510397942075\n",
      "5221366510018079593\n",
      "5221390664192920825\n",
      "5221390663056414901\n",
      "5221390667681191543\n",
      "5221390664105989037\n",
      "5221390664110179815\n",
      "5221390664403146047\n",
      "5221390757492612999\n",
      "5221390666178268349\n",
      "5221390331747204009\n",
      "5221390817519414017\n",
      "5221390818098154123\n",
      "5221390753663627325\n",
      "5221390753418200931\n",
      "5221390742452031737\n",
      "5221390753960449075\n",
      "5221366120607009175\n",
      "5221366098126320279\n",
      "5221390288563243059\n",
      "5221390729076270971\n",
      "5221390729140796281\n",
      "5221390735925525265\n",
      "5221390735945915255\n",
      "5221390735900969623\n",
      "5221390735131517715\n",
      "5221390728998201799\n",
      "5221390735869298135\n",
      "5221366500137334337\n",
      "5221390688414895623\n",
      "5221390747093099723\n",
      "5221390818461519281\n",
      "5221390821228326645\n",
      "5221390818353379149\n",
      "5221390818657403695\n",
      "5221390822022304619\n",
      "5221390815702121537\n",
      "5221390734949315055\n",
      "5221390822845221703\n",
      "5221390736370443877\n",
      "5221390734870625323\n",
      "5221390821979314935\n",
      "5221390809942665229\n",
      "5221366542569290579\n",
      "5221390295644878585\n",
      "5221390267182719205\n",
      "5221390295637984263\n",
      "5221390827224405873\n",
      "5221366499647600681\n",
      "5221390739628678297\n",
      "5221390739253689511\n",
      "5221390821911803415\n",
      "5221390705062924073\n",
      "5221390694591612535\n",
      "5221390745394166365\n",
      "5221390745606038107\n",
      "5221390715291547327\n",
      "5221390744151380989\n",
      "5221390737636495337\n",
      "5221390737739254255\n",
      "5221390714762992739\n",
      "5221390747038210073\n",
      "5221390745269356171\n",
      "5221390744987245921\n",
      "5221390756500259651\n",
      "5221390758777331407\n",
      "5221390712542571775\n",
      "5221390714184634739\n",
      "5221390713056824987\n",
      "5221366509803379783\n",
      "5221366533441388987\n",
      "5221366508016548109\n",
      "5221366533447193353\n",
      "5221366510019794795\n",
      "5221366510015889819\n",
      "5221366508039686533\n",
      "5221366535144309307\n",
      "5221366535152245923\n",
      "5221366509450159259\n",
      "5221366509056790627\n",
      "5221390820248570313\n",
      "5221390814399658039\n",
      "5221390811375560233\n",
      "5221390811621969451\n",
      "5221390748040016191\n",
      "5221390748467188643\n",
      "5221390811652423011\n",
      "5221390748031303473\n",
      "5221390748455210845\n",
      "5221390715857507823\n",
      "5221390714727666013\n",
      "5221390715035197979\n",
      "5221390713080803247\n",
      "5221390820817484221\n",
      "5221390821671958297\n",
      "5221390814791905927\n",
      "5221390755323925103\n",
      "5221390754258364819\n",
      "5221366130273248031\n",
      "5221390760998674099\n",
      "5221390722164232445\n",
      "5221366128748681455\n",
      "5221366536217593667\n",
      "5221366536322914693\n",
      "5221390730982656409\n",
      "5221390735700730083\n",
      "5221390684670121453\n",
      "5221390323211934173\n",
      "5221390758632827027\n",
      "5221390758607791639\n",
      "5221390725431660609\n",
      "5221390330168693233\n",
      "5221390329064376797\n",
      "5221390330294158299\n",
      "5221390339866299845\n",
      "5221390339912772159\n",
      "5221390361766483889\n",
      "5221390706586208813\n",
      "5221390758627377337\n",
      "5221390758599520829\n",
      "5221390705628500317\n",
      "5221390726772939157\n",
      "5221390726277243771\n",
      "5221390821609178203\n",
      "5221390714619718565\n",
      "5221390806172845595\n",
      "5221390814335879953\n",
      "5221390813333107441\n",
      "5221390746559350293\n",
      "5221390700610070415\n",
      "5221390721388319341\n",
      "5221390700697310031\n",
      "5221390695061285969\n",
      "5221390701130112993\n",
      "5221390700753881239\n",
      "5221390700104152667\n",
      "5221390695174678577\n",
      "5221390700972773503\n",
      "5221390758769324295\n",
      "5221390756381832085\n",
      "5221390757087069011\n",
      "5221390757267437869\n",
      "5221390757293025443\n",
      "5221390664492901293\n",
      "5221390664938463693\n",
      "5221390757688116695\n",
      "5221390308908765053\n",
      "5221390327711965701\n",
      "5221390806728403333\n",
      "5221390806723805811\n",
      "5221390298557819243\n",
      "5221390284260607353\n",
      "5221390721285041961\n",
      "5221390283932604769\n",
      "5221390285836034839\n",
      "5221390290279649659\n",
      "5221390291298414493\n",
      "5221390290389603189\n",
      "5221390290435036245\n",
      "5221390290874710339\n",
      "5221390316085777143\n",
      "5221390316225753963\n",
      "5221390327344336777\n",
      "5221390327332261917\n",
      "5221390327330385585\n",
      "5221390328748112421\n",
      "5221390329370119703\n",
      "5221390318583020631\n",
      "5221390319062365185\n",
      "5221390318333844073\n",
      "5221390319884366911\n",
      "5221390285767474699\n",
      "5221390283122999103\n",
      "5221390827952046287\n",
      "5221390827480114367\n",
      "5221390827762737029\n",
      "5221390292684187507\n",
      "5221390292260740289\n",
      "5221390293270505815\n",
      "5221390294136234499\n",
      "5221366086080004175\n",
      "5221366089430864747\n",
      "5221366087093919867\n",
      "5221366089364790235\n",
      "5221366095060325771\n",
      "5221366089201230689\n",
      "5221390730697063957\n",
      "5221390725512062991\n",
      "5221390725307886037\n",
      "5221390732826561719\n",
      "5221390813120194965\n",
      "5221390809940439297\n",
      "5221390811715454771\n",
      "5221366095442058899\n",
      "5221366095163572235\n",
      "5221366095264680241\n",
      "5221366095610187091\n",
      "5221390723177925925\n",
      "5221390290097378251\n",
      "5221390307137976967\n",
      "5221390305464309995\n",
      "5221390308421767287\n",
      "5221390307779844937\n",
      "5221390309094337971\n",
      "5221390308280182701\n",
      "5221390314959073189\n",
      "5221390308247163657\n",
      "5221390308030861151\n",
      "5221390307984319255\n",
      "5221390307705499233\n",
      "5221390307895254399\n",
      "5221390307932431103\n",
      "5221390308953911399\n",
      "5221390308943559463\n",
      "5221390308982961073\n",
      "5221390308991970271\n",
      "5221390309894795609\n",
      "5221390703681286039\n",
      "5221390810274100565\n",
      "5221390810243523117\n",
      "5221390809334009833\n",
      "5221390809302820495\n",
      "5221390278273309863\n",
      "5221390278948651779\n",
      "5221390278877980975\n",
      "5221390277554157537\n",
      "5221390277485895303\n",
      "5221390279037988911\n",
      "5221390279819782569\n",
      "5221390280187604615\n",
      "5221390280232649645\n",
      "5221390280546905465\n",
      "5221390281091016927\n",
      "5221390278378613431\n",
      "5221390278357770441\n",
      "5221390278351176821\n",
      "5221390277497023703\n",
      "5221390810044181233\n",
      "5221390286677660225\n",
      "5221390287086600557\n",
      "5221390309995720539\n",
      "5221390284694033567\n",
      "5221390310473183493\n",
      "5221390312062650089\n",
      "5221390287555647711\n",
      "5221390287435213603\n",
      "5221390309598828305\n",
      "5221390287822918325\n",
      "5221390309436185693\n",
      "5221390287794148753\n",
      "5221390288383359331\n",
      "5221390281843392129\n",
      "5221390281952282797\n",
      "5221390292996741963\n",
      "5221390288063344735\n",
      "5221390288088100033\n",
      "5221390289968073013\n",
      "5221390289937065515\n",
      "5221390307342398539\n",
      "5221390307340392479\n",
      "5221390307211372903\n",
      "5221390290310340771\n",
      "5221390305511133717\n",
      "5221390306706117091\n",
      "5221390305986768509\n",
      "5221390305972016967\n",
      "5221390300016040507\n",
      "5221390310984666069\n",
      "5221390311898177595\n",
      "5221390313232721707\n",
      "5221390311615126683\n",
      "5221390311283142569\n",
      "5221390311631017985\n",
      "5221390314367946753\n",
      "5221390308844176613\n",
      "5221390314410237847\n",
      "5221390323450668703\n",
      "5221366097525616997\n",
      "5221366097081019293\n",
      "5221366097522418513\n",
      "5221366097087157369\n",
      "5221366097518820059\n",
      "5221366097517917213\n",
      "5221366502048599203\n",
      "5221366507557485065\n",
      "5221390318688722029\n",
      "5221390312401307271\n",
      "5221390320989388025\n",
      "5221390312352842479\n",
      "5221390312432500411\n",
      "5221390312863352989\n",
      "5221390313000927569\n",
      "5221390313028379241\n",
      "5221390321104789449\n",
      "5221390687988587907\n",
      "5221390321306988799\n",
      "5221390688330837093\n",
      "5221390688347236079\n",
      "5221390320526434247\n",
      "5221390320462881671\n",
      "5221390321912057755\n",
      "5221390320339192111\n",
      "5221390322186281703\n",
      "5221390687483616257\n",
      "5221390317320133333\n",
      "5221390323017007647\n",
      "5221390317578415189\n",
      "5221390317122358613\n",
      "5221390317096453441\n",
      "5221390316950976813\n",
      "5221390316746279787\n",
      "5221390811371929761\n",
      "5221390810099693365\n",
      "5221390681522021369\n",
      "5221390681583087567\n",
      "5221390681609040623\n",
      "5221390705947269631\n",
      "5221390707360065483\n",
      "5221390320311510221\n",
      "5221390696090786615\n",
      "5221390322904911305\n",
      "5221390323054415665\n",
      "5221390695843997787\n",
      "5221390323041468889\n",
      "5221390691761446881\n",
      "5221390317109707093\n",
      "5221390327585388529\n",
      "5221390326952602885\n",
      "5221390326050242169\n",
      "5221390326122671999\n",
      "5221390332056885813\n",
      "5221390332389575847\n",
      "5221390677184361425\n",
      "5221390677636644481\n",
      "5221390678375246173\n",
      "5221390331126739669\n",
      "5221390316134734783\n",
      "5221390316861903025\n",
      "5221390316643008533\n",
      "5221390323424969925\n",
      "5221366095707196599\n",
      "5221390698826543099\n",
      "5221390698716937211\n",
      "5221390325909544093\n",
      "5221390820779550051\n",
      "5221390820976572651\n",
      "5221390821463330897\n",
      "5221390821369525577\n",
      "5221390815287467105\n",
      "5221390717109404247\n",
      "5221366095438361791\n",
      "5221390823578329457\n",
      "5221390326541090419\n",
      "5221390326574091281\n",
      "5221390706261472865\n",
      "5221390709747389573\n",
      "5221390681517842421\n",
      "5221390747824265625\n",
      "5221390748554037047\n",
      "5221390690764157735\n",
      "5221390711472636541\n",
      "5221366120489684277\n",
      "5221390695766759843\n",
      "5221390682848994417\n",
      "5221390678815751665\n",
      "5221390668675725887\n",
      "5221390668533257019\n",
      "5221390297780365589\n",
      "5221390295278686319\n",
      "5221390267155630135\n",
      "5221390757689498433\n",
      "5221390711272384753\n",
      "5221390711266578933\n",
      "5221390729343036449\n",
      "5221390729045641629\n",
      "5221390314187356333\n",
      "5221390300934021143\n",
      "5221390268790075963\n",
      "5221390269578210363\n",
      "5221390754110138779\n",
      "5221390293490702647\n",
      "5221390293750131325\n",
      "5221390299373213491\n",
      "5221390299873156021\n",
      "5221390300011726755\n",
      "5221390302495572761\n",
      "5221390329027832661\n",
      "5221390331425409703\n",
      "5221390301190804233\n",
      "5221390327280665357\n",
      "5221390327304710909\n",
      "5221390327304474177\n",
      "5221390327307441347\n",
      "5221390321388532831\n",
      "5221390688018024529\n",
      "5221366498642314865\n",
      "5221390688134197581\n",
      "5221366498878348449\n",
      "5221366498685025769\n",
      "5221390672727704343\n",
      "5221390723533502793\n",
      "5221390735164964311\n",
      "5221390668042266269\n",
      "5221390252517831471\n",
      "5221390729562983229\n",
      "5221390729922683055\n",
      "5221366508477440003\n",
      "5221366507789142883\n",
      "5221366497583897173\n",
      "5221390299293224159\n",
      "5221390297994711623\n",
      "5221390299376006541\n",
      "5221390297274942743\n",
      "5221390687086800335\n",
      "5221390685481291641\n",
      "5221390685162546295\n",
      "5221390684681451475\n",
      "5221390324574760757\n",
      "5221390324719810083\n",
      "5221390684935805017\n",
      "5221390685765915311\n",
      "5221390325581327891\n",
      "5221390677304794501\n",
      "5221390698918410399\n",
      "5221366097703769069\n",
      "5221366096998658775\n",
      "5221390723916403203\n",
      "5221390734265750463\n",
      "5221390826751213191\n",
      "5221365994114320893\n",
      "5221365992655724095\n",
      "5221390827158195863\n",
      "5221390829766868693\n",
      "5221390732867379235\n",
      "5221390732489007725\n",
      "5221366120674765775\n",
      "5221390306943766029\n",
      "5221390306271091653\n",
      "5221390314918515165\n",
      "5221366508946808435\n",
      "5221366506388265781\n",
      "5221366532884281773\n",
      "5221366121662204553\n",
      "5221366121437291763\n",
      "5221366120998694885\n",
      "5221366120536743571\n",
      "5221366120879167821\n",
      "5221366122656637073\n",
      "5221366120641750521\n",
      "5221390722676562545\n",
      "5221390722911295821\n",
      "5221390722378849465\n",
      "5221390722322074373\n",
      "5221390723843963943\n",
      "5221390726667371585\n",
      "5221366123532027863\n",
      "5221366119484405137\n",
      "5221366119631609145\n",
      "5221366123466820463\n",
      "5221366122155050093\n",
      "5221366122036344487\n",
      "5221366098110902829\n",
      "5221366120313971737\n",
      "5221390696959029761\n",
      "5221390723204000715\n",
      "5221390699368543337\n",
      "5221390724033489607\n",
      "5221390688613602227\n",
      "5221390696778650367\n",
      "5221366131645336277\n",
      "5221366132147097251\n",
      "5221366129108254385\n",
      "5221366129281409481\n",
      "5221366129930783907\n",
      "5221390302696205321\n",
      "5221366088798146355\n",
      "5221366087203774685\n",
      "5221390331876112483\n",
      "5221390330626562471\n",
      "5221390675138302033\n",
      "5221390675358845591\n",
      "5221390672382205293\n",
      "5221390321385645427\n",
      "5221390321340812033\n",
      "5221390321345860927\n",
      "5221390321429307973\n",
      "5221390321395417599\n",
      "5221390321436229103\n",
      "5221390321393256771\n",
      "5221390321428569427\n",
      "5221390321397132259\n",
      "5221390321390653273\n",
      "5221366086989254711\n",
      "5221366095487924093\n",
      "5221390806353148089\n",
      "5221390676465185011\n",
      "5221390268895215323\n",
      "5221390672765061799\n",
      "5221390672932138955\n",
      "5221390672898418013\n",
      "5221390675674735643\n",
      "5221366542582977683\n",
      "5221390810104145693\n",
      "5221390747956783455\n",
      "5221390319657777011\n",
      "5221390281332177791\n",
      "5221390281629023483\n",
      "5221390270013229041\n",
      "5221390269939376475\n",
      "5221390281401555773\n",
      "5221390269397508563\n",
      "5221366510300664501\n",
      "5221390269116957841\n",
      "5221390699395148369\n",
      "5221390299545332503\n",
      "5221390299896417023\n",
      "5221390300003545809\n",
      "5221390299998260359\n",
      "5221390302469611565\n",
      "5221390291429415167\n",
      "5221390301904299567\n",
      "5221390330495272429\n",
      "5221390329631942943\n",
      "5221390758451384365\n",
      "5221390760992609685\n",
      "5221390746414367511\n",
      "5221390755907323231\n",
      "5221390683309839747\n",
      "5221390316547415717\n",
      "5221390667920450889\n",
      "5221390667707796589\n",
      "5221366088800848757\n",
      "5221390709674202637\n",
      "5221390709740209857\n",
      "5221390299465590483\n",
      "5221366097510336675\n",
      "5221366096997702819\n",
      "5221366097008160545\n",
      "5221366097001182787\n",
      "5221390711482520863\n",
      "5221366088007222865\n",
      "5221366088061039275\n",
      "5221366511083193773\n",
      "5221390666426430087\n",
      "5221390269642299639\n",
      "5221366099278040865\n",
      "5221366498691549737\n",
      "5221366132401717869\n",
      "5221390823470483737\n",
      "5221390328092312799\n",
      "5221390677963231377\n",
      "5221366121391752301\n",
      "5221390690116745325\n",
      "5221390690763205239\n",
      "5221390661918274333\n",
      "5221390660894733401\n",
      "5221366533334054143\n",
      "5221390285022233735\n",
      "5221366535079135459\n",
      "5221366534559262691\n",
      "5221366531650994967\n",
      "5221366536500988999\n",
      "5221366537268604457\n",
      "5221366510701671525\n",
      "5221366510520488949\n",
      "5221366509154049591\n",
      "5221366506157705863\n",
      "5221366508496559735\n",
      "5221366507777864919\n",
      "5221366502217184039\n",
      "5221366506879814133\n",
      "5221366499431226723\n",
      "5221366499637057361\n",
      "5221366499699266275\n",
      "5221366499967138945\n",
      "5221366501757979855\n",
      "5221366501399657503\n",
      "5221366498918824473\n",
      "5221366501739076595\n",
      "5221366507224534467\n",
      "5221366500007457873\n",
      "5221366498026037675\n",
      "5221390721910490937\n",
      "5221390699704637465\n",
      "5221390723522171881\n",
      "5221390721201469065\n",
      "5221390723684953093\n",
      "5221390723371153667\n",
      "5221390809728655757\n",
      "5221390806953230063\n",
      "5221390812533351237\n",
      "5221390731850228007\n",
      "5221390732242483879\n",
      "5221390731042670265\n",
      "5221390732047736815\n",
      "5221390725313626625\n",
      "5221390731354291609\n",
      "5221390270449919153\n",
      "5221390288710091113\n",
      "5221390297885660235\n",
      "5221390328895036131\n",
      "5221390726260242873\n",
      "5221390726346733735\n",
      "5221390326435180991\n",
      "5221366087980449821\n",
      "5221366090559758785\n",
      "5221390709732143123\n",
      "5221390709951873513\n",
      "5221390710340581651\n",
      "5221366536636944289\n",
      "5221366087563837175\n",
      "5221366089659419981\n",
      "5221366088837942539\n",
      "5221390694617936311\n",
      "5221390701598538245\n",
      "5221366532558823735\n",
      "5221366511507754315\n",
      "5221366510705426347\n",
      "5221366509052819647\n",
      "5221390321208568073\n",
      "5221366532547005455\n",
      "5221366510872667365\n",
      "5221366509107671879\n",
      "5221366510404100819\n",
      "5221390663891163945\n",
      "5221366510626699355\n",
      "5221366509945575007\n",
      "5221366508317388907\n",
      "5221390720911068757\n",
      "5221390720975505167\n",
      "5221366509795635859\n",
      "5221390721057152397\n",
      "5221366509294883167\n",
      "5221390723721704489\n",
      "5221366508816749211\n",
      "5221366508471637097\n",
      "5221390729993313741\n",
      "5221390732290972535\n",
      "5221390725984961329\n",
      "5221390730232658999\n",
      "5221390730164922713\n",
      "5221390729871245273\n",
      "5221390730308635433\n",
      "5221366507105452317\n",
      "5221366506711632093\n",
      "5221390738565591881\n",
      "5221390736220581917\n",
      "5221390738952906137\n",
      "5221390822730108923\n",
      "5221390735593959903\n",
      "5221390739156202941\n",
      "5221390806810951451\n",
      "5221390807042978857\n",
      "5221390807174835439\n",
      "5221390806602117243\n",
      "5221390807002314017\n",
      "5221390806760030881\n",
      "5221390807212992275\n",
      "5221390806708520151\n",
      "5221366501927037447\n",
      "5221366501847582649\n",
      "5221366129058672609\n",
      "5221366132585981305\n",
      "5221366132449400337\n",
      "5221366128945177931\n",
      "5221366122461137623\n",
      "5221390280755820519\n",
      "5221390281142098261\n",
      "5221390283650858837\n",
      "5221390282725405977\n",
      "5221390284897948029\n",
      "5221390758878066811\n",
      "5221390758185544885\n",
      "5221390755763501011\n",
      "5221390761147742763\n",
      "5221390663668629681\n",
      "5221390663689000321\n",
      "5221390807799885281\n",
      "5221390755839977355\n",
      "5221390713662004417\n",
      "5221390808182607561\n",
      "5221390744086615769\n",
      "5221390744141968489\n",
      "5221390743992334281\n",
      "5221390737047612921\n",
      "5221366535935986999\n",
      "5221390308123489337\n",
      "5221390319550394771\n",
      "5221390305986718043\n",
      "5221390327683910141\n",
      "5221390316454712119\n",
      "5221390331497297037\n",
      "5221390686501263913\n",
      "5221390686193519377\n",
      "5221390695467312331\n",
      "5221390687105595291\n",
      "5221390685911702957\n",
      "5221390324190363297\n",
      "5221390331611094585\n",
      "5221390332156208193\n",
      "5221390321342829243\n",
      "5221390320340292543\n",
      "5221390320271578957\n",
      "5221390313516667433\n",
      "5221366098569463283\n",
      "5221366096751789013\n",
      "5221390286148598133\n",
      "5221365994881401245\n",
      "5221390697909606923\n",
      "5221390746569356971\n",
      "5221390746941852811\n",
      "5221390761534749297\n",
      "5221390751867182449\n",
      "5221390751650222487\n",
      "5221390751559109803\n",
      "5221390752281070945\n",
      "5221390761674623301\n",
      "5221390700987319759\n",
      "5221390693594315347\n",
      "5221390282846059399\n",
      "5221390306841487121\n",
      "5221390316255787497\n",
      "5221390682596933659\n",
      "5221390749343840911\n",
      "5221390693306417329\n",
      "5221390705230466325\n",
      "5221366123700849937\n",
      "5221366123072693899\n",
      "5221366129715620219\n",
      "5221366129354774283\n",
      "5221366130569555887\n",
      "5221390754588641655\n",
      "5221390751944108349\n",
      "5221390678423451345\n",
      "5221366132269862403\n",
      "5221390688128881939\n",
      "5221390761781645523\n",
      "5221390684099765269\n",
      "5221390325337935355\n",
      "5221390325115287889\n",
      "5221366123765146261\n",
      "5221390687240530511\n",
      "5221390687735364939\n",
      "5221390688149351835\n",
      "5221390823593926991\n",
      "5221390823497862477\n",
      "5221390823547584337\n",
      "5221390824006482311\n",
      "5221390694132604609\n",
      "5221390823148541325\n",
      "5221390735447707293\n",
      "5221390729529319149\n",
      "5221390686935845675\n",
      "5221390685539304499\n",
      "5221390747455890499\n",
      "5221390301001263407\n",
      "5221390339786678801\n",
      "5221390339868276947\n",
      "5221390333590696517\n",
      "5221390333730130269\n",
      "5221390674606427383\n",
      "5221390675271984305\n",
      "5221390674385287683\n",
      "5221390672372453817\n",
      "5221390673921809903\n",
      "5221390335556264435\n",
      "5221390335584407043\n",
      "5221390672710948425\n",
      "5221390669400779003\n",
      "5221390668413200083\n",
      "5221390331520430839\n",
      "5221390328858015501\n",
      "5221366498990989979\n",
      "5221366097819271315\n",
      "5221366098019003793\n",
      "5221366097857481791\n",
      "5221390722437576481\n",
      "5221366097921150783\n",
      "5221366120755716085\n",
      "5221390753654033141\n",
      "5221366132886950113\n",
      "5221390310636758343\n",
      "5221390310216790923\n",
      "5221390310699051953\n",
      "5221390310674413257\n",
      "5221366510099298161\n",
      "5221390286643334337\n",
      "5221366089657737685\n",
      "5221366096276018975\n",
      "5221366096085147137\n",
      "5221366096348175571\n",
      "5221366098274414813\n",
      "5221390321785979001\n",
      "5221390687567583651\n",
      "5221390687877434163\n",
      "5221390688019159091\n",
      "5221390697184739263\n",
      "5221390691565123853\n",
      "5221390681700194761\n",
      "5221365994777835829\n",
      "5221365994779230477\n",
      "5221366535357227263\n",
      "5221366535213302331\n",
      "5221366533836851215\n",
      "5221390678936421177\n",
      "5221366535356844647\n",
      "5221390717019202581\n",
      "5221390820777223283\n",
      "5221390737159805999\n",
      "5221390744060105163\n",
      "5221390821661960313\n",
      "5221390818413450013\n",
      "5221390735140426189\n",
      "5221390337352222947\n",
      "5221390331342867009\n",
      "5221366542011520133\n",
      "5221366122776228267\n",
      "5221366122403717109\n",
      "5221390724487223619\n",
      "5221390723303977989\n",
      "5221390724856035499\n",
      "5221390724325960029\n",
      "5221390723189332593\n",
      "5221390682396808719\n",
      "5221390682447745919\n",
      "5221390682007338227\n",
      "5221390267903341543\n",
      "5221390295066488997\n",
      "5221390267441903829\n",
      "5221390809934205095\n",
      "5221390809971049449\n",
      "5221390731829739155\n",
      "5221366124345059401\n",
      "5221366124360455035\n",
      "5221366124411836407\n",
      "5221366096712095987\n",
      "5221390723452038827\n",
      "5221390725671640679\n",
      "5221366542375789391\n",
      "5221366541353851855\n",
      "5221366541857301213\n",
      "5221390279660363999\n",
      "5221390280882287141\n",
      "5221390281656108361\n",
      "5221366086215777767\n",
      "5221366086639721451\n",
      "5221390741245808983\n",
      "5221390724057551417\n",
      "5221390674087450451\n",
      "5221390645248810121\n",
      "5221366121438875591\n",
      "5221366121390886435\n",
      "5221390678900766269\n",
      "5221390678893957021\n",
      "5221390678884822431\n",
      "5221390678874757099\n",
      "5221390678690443065\n",
      "5221390678812566345\n",
      "5221390678630700895\n",
      "5221390678715422009\n",
      "5221390678770786233\n",
      "5221390678729160021\n",
      "5221390678736665001\n",
      "5221390812728850999\n",
      "5221390678767042281\n",
      "5221390332463494951\n",
      "5221390678765430697\n",
      "5221390668125402747\n",
      "5221390340012234365\n",
      "5221390678674781793\n",
      "5221390678683615875\n",
      "5221390336967752161\n",
      "5221390336854457739\n",
      "5221390336704051851\n",
      "5221390336500236685\n",
      "5221390335733389239\n",
      "5221390337922214609\n",
      "5221390330661806665\n",
      "5221390330701476817\n",
      "5221390331285167897\n",
      "5221390333509837691\n",
      "5221390333388604637\n",
      "5221390675233632751\n",
      "5221390675054055789\n",
      "5221390333272767357\n",
      "5221390334081164113\n",
      "5221390334685312489\n",
      "5221390334756341545\n",
      "5221390334719872211\n",
      "5221390337076237323\n",
      "5221390728908135003\n",
      "5221390337351379383\n",
      "5221390340076749129\n",
      "5221390340082636137\n",
      "5221390330745408105\n",
      "5221390664105112489\n",
      "5221390656786624075\n",
      "5221390714172793093\n",
      "5221390714145895833\n",
      "5221366534118136227\n",
      "5221366534484156985\n",
      "5221366535845356221\n",
      "5221390284602527331\n",
      "5221390284430404159\n",
      "5221390280371947871\n",
      "5221390267122707971\n",
      "5221390295650937305\n",
      "5221390299830573099\n",
      "5221390302523677883\n",
      "5221390303335508701\n",
      "5221390256367141849\n",
      "5221390256377530965\n",
      "5221390758593938511\n",
      "5221390295602313463\n",
      "5221390267021192921\n",
      "5221390699241622259\n",
      "5221390364557891371\n",
      "5221390364839445463\n",
      "5221390283033654075\n",
      "5221390281752107491\n",
      "5221390281495423445\n",
      "5221390270349470397\n",
      "5221390270163193727\n",
      "5221390280995060143\n",
      "5221390281238414357\n",
      "5221390677633462919\n",
      "5221366508012672557\n",
      "5221390302656623943\n",
      "5221390301934535751\n",
      "5221390337863745429\n",
      "5221390677596388677\n",
      "5221390821926499691\n",
      "5221390821917598129\n",
      "5221390321192895849\n",
      "5221390321208220187\n",
      "5221390742060118677\n",
      "5221390741976307405\n",
      "5221366499705939031\n",
      "5221366500746136467\n",
      "5221366499688927525\n",
      "5221390324528006325\n",
      "5221390324522659589\n",
      "5221390705400284529\n",
      "5221390684128680965\n",
      "5221390681267311645\n",
      "5221390683832633551\n",
      "5221390680321260759\n",
      "5221390730304368187\n",
      "5221390726010167589\n",
      "5221390726061658755\n",
      "5221390806063867087\n",
      "5221390806464305045\n",
      "5221390811981782925\n",
      "5221390678001199189\n",
      "5221390711081212937\n",
      "5221390711535081769\n",
      "5221390323612338369\n",
      "5221390324044305141\n",
      "5221390754215269083\n",
      "5221390755829696797\n",
      "5221390827608205121\n",
      "5221390826261881737\n",
      "5221390733868110541\n",
      "5221390826056818867\n",
      "5221390664747702111\n",
      "5221390664097399835\n",
      "5221390664730021351\n",
      "5221390734905440297\n",
      "5221390823406679517\n",
      "5221390321031425523\n",
      "5221390806127398079\n",
      "5221390664564455493\n",
      "5221366535431318697\n",
      "5221390827223369959\n",
      "5221366536361365895\n",
      "5221390304322666321\n",
      "5221390327275538021\n",
      "5221366129057488577\n",
      "5221390694841978745\n",
      "5221390319117928147\n",
      "5221366500959737545\n",
      "5221390693168246513\n",
      "5221390693439689615\n",
      "5221390704936401511\n",
      "5221390694535656025\n",
      "5221390692576170519\n",
      "5221390325115253309\n",
      "5221390684473521739\n",
      "5221390332272555129\n",
      "5221390810938986763\n",
      "5221390824550592355\n",
      "5221390827278829141\n",
      "5221390827246431043\n",
      "5221390826370893715\n",
      "5221390302315692903\n",
      "5221390329042916453\n",
      "5221390329013704649\n",
      "5221390331449723771\n",
      "5221390331859642999\n",
      "5221390332597665247\n",
      "5221390348951651307\n",
      "5221366085944030445\n",
      "5221366090777507125\n",
      "5221366089140130631\n",
      "5221390701004470057\n",
      "5221390362134273183\n",
      "5221390278394476585\n",
      "5221366541889353481\n",
      "5221366542426001563\n",
      "5221366542321196285\n",
      "5221390337536074389\n",
      "5221390337254191211\n",
      "5221390706548270333\n",
      "5221366542578056527\n",
      "5221390739334920333\n",
      "5221390700828054945\n",
      "5221390742618102563\n",
      "5221390753426396681\n",
      "5221366501949677437\n",
      "5221390268902399197\n",
      "5221390294259327617\n",
      "5221390302352649963\n",
      "5221390286193795661\n",
      "5221390288621670331\n",
      "5221390282283349681\n",
      "5221390816019862211\n",
      "5221390689090025291\n",
      "5221390688835991425\n",
      "5221390817795841467\n",
      "5221390749344454395\n",
      "5221390733693924439\n",
      "5221390699386847651\n",
      "5221390741138110379\n",
      "5221390741548489905\n",
      "5221390681579790691\n",
      "5221366086007410637\n",
      "5221390709712527811\n",
      "5221390710417226423\n",
      "5221390709661992679\n",
      "5221390823545213973\n",
      "5221390721258924815\n",
      "5221390721409749371\n",
      "5221390695177790227\n",
      "5221390695168036061\n",
      "5221390700974061477\n",
      "5221390700988427331\n",
      "5221390686974756787\n",
      "5221366532812969309\n",
      "5221366532841219855\n",
      "5221366132526926529\n",
      "5221390723045407809\n",
      "5221390723200859627\n",
      "5221390724501967751\n",
      "5221390732239102041\n",
      "5221390726012106407\n",
      "5221390729893349123\n",
      "5221390727815058581\n",
      "5221390716991983545\n",
      "5221390717112846245\n",
      "5221390715204116529\n",
      "5221390682395766015\n",
      "5221390682855138763\n",
      "5221366095665993083\n",
      "5221366095571272685\n",
      "5221390722263867179\n",
      "5221390723325834137\n",
      "5221390722009126389\n",
      "5221390278009134657\n",
      "5221390284298658147\n",
      "5221390278603806409\n",
      "5221390278623297703\n",
      "5221366499195889959\n",
      "5221366499807272563\n",
      "5221366507470314813\n",
      "5221366500745498935\n",
      "5221366094895935055\n",
      "5221366089500926033\n",
      "5221366533408293517\n",
      "5221390295132575055\n",
      "5221390294274925725\n",
      "5221390680674884983\n",
      "5221390679263486713\n",
      "5221390298096612289\n",
      "5221390339148582197\n",
      "5221366535614627027\n",
      "5221390733336448579\n",
      "5221390732834770327\n",
      "5221390732896622915\n",
      "5221390729565900759\n",
      "5221390729450650095\n",
      "5221390730393058911\n",
      "5221390730355838403\n",
      "5221390319315366691\n",
      "5221390688150646773\n",
      "5221390319263010995\n",
      "5221390725964216941\n",
      "5221390339866024575\n",
      "5221366509808378731\n",
      "5221390320827830443\n",
      "5221390320705808537\n",
      "5221390321039066419\n",
      "5221390716553081885\n",
      "5221390690115083853\n",
      "5221390666270622533\n",
      "5221390721979501095\n",
      "5221390722505738799\n",
      "5221390678513818787\n",
      "5221390682013665025\n",
      "5221390275664587909\n",
      "5221390696683448049\n",
      "5221390678868592225\n",
      "5221390713295602771\n",
      "5221390712508958235\n",
      "5221390812841259367\n",
      "5221390812924659173\n",
      "5221390702249476679\n",
      "5221390753540674923\n",
      "5221390752665898509\n",
      "5221390746585752893\n",
      "5221390746704558877\n",
      "5221366097914336669\n",
      "5221365994718838929\n",
      "5221390722859006513\n",
      "5221390732043858933\n",
      "5221390756499977381\n",
      "5221390756139679137\n",
      "5221390756139743121\n",
      "5221390691403760121\n",
      "5221390687686689747\n",
      "5221390677967037159\n",
      "5221390681581781819\n",
      "5221390683257458789\n",
      "5221366131399062787\n",
      "5221366121295239109\n",
      "5221390705868879921\n",
      "5221390682229773005\n",
      "5221390681256755119\n",
      "5221390668050397659\n",
      "5221390678708363359\n",
      "5221366121020340639\n",
      "5221390336964980901\n",
      "5221390330764991885\n",
      "5221390330752229687\n",
      "5221366508939978133\n",
      "5221366508826127635\n",
      "5221366508940400711\n",
      "5221390313032990707\n",
      "5221390313026954187\n",
      "5221390298177256085\n",
      "5221390345346257215\n",
      "5221390752655250041\n",
      "5221366542810436289\n",
      "5221366533722538453\n",
      "5221390302657223539\n",
      "5221390697487459199\n",
      "5221366126210572285\n",
      "5221390672719886867\n",
      "5221390740841185297\n",
      "5221390740836059349\n",
      "5221390740846702735\n",
      "5221390326036762793\n",
      "5221390726052267233\n",
      "5221390726346304275\n",
      "5221390731200544285\n",
      "5221390732065794293\n",
      "5221390731871262563\n",
      "5221390727790029405\n",
      "5221366119441079683\n",
      "5221390758613628049\n",
      "5221366095460615369\n",
      "5221390700071769747\n",
      "5221390700884791935\n",
      "5221366124102005843\n",
      "5221390729905032183\n",
      "5221390729238103889\n",
      "5221390735784214737\n",
      "5221390718209738139\n",
      "5221390717129262347\n",
      "5221366509578814701\n",
      "5221390736465548935\n",
      "5221390736133572979\n",
      "5221390306965404305\n",
      "5221390306829957347\n",
      "5221390306832055475\n",
      "5221390328585973847\n",
      "5221390325916784077\n",
      "5221390676904922037\n",
      "5221390755908836627\n",
      "5221390681712624347\n",
      "5221390316460699951\n",
      "5221390749192707929\n",
      "5221390680662909543\n",
      "5221390681681214159\n",
      "5221390698248222323\n",
      "5221390723895889843\n",
      "5221390723297804391\n",
      "5221390723177202295\n",
      "5221390724445062781\n",
      "5221390723438002621\n",
      "5221390709050488207\n",
      "5221390675888857145\n",
      "5221390816210265389\n",
      "5221390816211751551\n",
      "5221390694531902751\n",
      "5221390704982875883\n",
      "5221390828159359173\n",
      "5221390723040504387\n",
      "5221390325337673347\n",
      "5221390684761675839\n",
      "5221390267412239745\n",
      "5221390267422478563\n",
      "5221390697483151217\n",
      "5221390267411260445\n",
      "5221390682006293031\n",
      "5221390682369738101\n",
      "5221390693216949583\n",
      "5221390323073382069\n",
      "5221390813139658087\n",
      "5221366122025879899\n",
      "5221366122041774433\n",
      "5221366122158119749\n",
      "5221366122154508143\n",
      "5221366120412765577\n",
      "5221366120424936157\n",
      "5221366120677038761\n",
      "5221390735293346133\n",
      "5221390742020738093\n",
      "5221390742025021247\n",
      "5221390742017931799\n",
      "5221390267310274651\n",
      "5221390295608083367\n",
      "5221390661903883629\n",
      "5221390669707593619\n",
      "5221390735089840629\n",
      "5221390661183538867\n",
      "5221390822555060915\n",
      "5221390737181565283\n",
      "5221390822126415441\n",
      "5221390323619288559\n",
      "5221390326559277251\n",
      "5221390326549640231\n",
      "5221390267238082745\n",
      "5221390267247990583\n",
      "5221390267306532501\n",
      "5221390724089833453\n",
      "5221390286647558929\n",
      "5221366533691982233\n",
      "5221366499186714439\n",
      "5221366499094084245\n",
      "5221366499807039323\n",
      "5221366499700129841\n",
      "5221390681263502047\n",
      "5221390681269832187\n",
      "5221390682825037243\n",
      "5221390327235189553\n",
      "5221390315846718045\n",
      "5221366501413655443\n",
      "5221366500861930955\n",
      "5221390295245023963\n",
      "5221390295592591187\n",
      "5221390292665312693\n",
      "5221390292570549499\n",
      "5221390295590341211\n",
      "5221390330400609927\n",
      "5221366124975968739\n",
      "5221390295657854297\n",
      "5221390269120988293\n",
      "5221390291490013397\n",
      "5221390291461705405\n",
      "5221390723309048933\n",
      "5221390723389143759\n",
      "5221390290102351695\n",
      "5221390726809477545\n",
      "5221390681767533215\n",
      "5221390680382533581\n",
      "5221390681513779115\n",
      "5221390681789972473\n",
      "5221390278117486883\n",
      "5221390278126619959\n",
      "5221390278113758287\n",
      "5221390284270645327\n",
      "5221390278731009019\n",
      "5221390705625595063\n",
      "5221390705646422047\n",
      "5221390705755621963\n",
      "5221390681541113739\n",
      "5221390730166410185\n",
      "5221390268311944429\n",
      "5221390681883636039\n",
      "5221390701411356359\n",
      "5221390698231233691\n",
      "5221390723581248721\n",
      "5221390721145895637\n",
      "5221390707623132405\n",
      "5221390679417820299\n",
      "5221390702222432219\n",
      "5221390721280643867\n",
      "5221390702558475805\n",
      "5221390703938388917\n",
      "5221390706612840707\n",
      "5221390704122631157\n",
      "5221390706554963313\n",
      "5221390723579771133\n",
      "5221390694250114333\n",
      "5221390306894779031\n",
      "5221390668476513759\n",
      "5221366541461693131\n",
      "5221366541450919549\n",
      "5221366541545540289\n",
      "5221366541443332277\n",
      "5221390269904174447\n",
      "5221390690438199851\n",
      "5221390690086832623\n",
      "5221390287537871233\n",
      "5221366497056720769\n",
      "5221390308941639553\n",
      "5221390322304011699\n",
      "5221390686849553065\n",
      "5221390687274919821\n",
      "5221390686852533049\n",
      "5221390332465198413\n",
      "5221390332479691965\n",
      "5221390821980844459\n",
      "5221390746308644211\n",
      "5221390746538526553\n",
      "5221390669943567899\n",
      "5221390256224014067\n",
      "5221390255739023903\n",
      "5221390267129471181\n",
      "5221390697169498651\n",
      "5221390737821635267\n",
      "5221390730110533179\n",
      "5221390727946282885\n",
      "5221390728372375749\n",
      "5221390728461892545\n",
      "5221390719710386021\n",
      "5221390747646368193\n",
      "5221390746926256111\n",
      "5221390747961549849\n",
      "5221390811848021393\n",
      "5221390339783540647\n",
      "5221390810057097733\n",
      "5221390810071252053\n",
      "5221390688181149535\n",
      "5221390663351913693\n",
      "5221390681200904889\n",
      "5221390682699431741\n",
      "5221390678054244017\n",
      "5221390680952215521\n",
      "5221390677881557387\n",
      "5221390756429657841\n",
      "5221390294032502831\n",
      "5221390292427986801\n",
      "5221390292739993477\n",
      "5221390292798613523\n",
      "5221390281508110799\n",
      "5221390292889697787\n",
      "5221390280923756157\n",
      "5221390280958985881\n",
      "5221390683833606523\n",
      "5221390684503967457\n",
      "5221390328818504945\n",
      "5221390325857124155\n",
      "5221390324852285785\n",
      "5221390326290002341\n",
      "5221390331967274041\n",
      "5221390684347750875\n",
      "5221390681268296149\n",
      "5221390684147711509\n",
      "5221390684817914073\n",
      "5221390677117968615\n",
      "5221390673077660201\n",
      "5221390723921193213\n",
      "5221390332478152949\n",
      "5221390302848919595\n",
      "5221390735151174777\n",
      "5221390268049475683\n",
      "5221390744318365301\n",
      "5221366087338381093\n",
      "5221390826664769803\n",
      "5221390734242839323\n",
      "5221390731773561451\n",
      "5221390735533170085\n",
      "5221390736492636443\n",
      "5221390814396075283\n",
      "5221390815104300829\n",
      "5221366125157988035\n",
      "5221366122418970319\n",
      "5221366123796061747\n",
      "5221366129256446369\n",
      "5221366122840187135\n",
      "5221366122219569361\n",
      "5221366121979731677\n",
      "5221366120483224131\n",
      "5221366096762925653\n",
      "5221390328892347167\n",
      "5221390689925443309\n",
      "5221390689507035725\n",
      "5221390690935282037\n",
      "5221366130002946545\n",
      "5221390690440295037\n",
      "5221390690114981297\n",
      "5221390692544257005\n",
      "5221390686737620795\n",
      "5221390696523210103\n",
      "5221390824194706351\n",
      "5221390732646410681\n",
      "5221390824760806877\n",
      "5221390824787549153\n",
      "5221390329053619549\n",
      "5221390301936293077\n",
      "5221366129549288395\n",
      "5221366129425516263\n",
      "5221390687685187495\n",
      "5221390698286195309\n",
      "5221390695021371877\n",
      "5221390693850369395\n",
      "5221390682291777543\n",
      "5221390682074967269\n",
      "5221366132009954023\n",
      "5221366498646050691\n",
      "5221390319364292319\n",
      "5221390319091334983\n",
      "5221366500899576075\n",
      "5221366509608678675\n",
      "5221390719347477101\n",
      "5221390693831817171\n",
      "5221390297975475113\n",
      "5221390299484831045\n",
      "5221390294354743413\n",
      "5221390298004852605\n"
     ]
    }
   ],
   "source": [
    "for s2_id in df['s2_id']: print(s2_id)"
   ]
  },
  {
   "cell_type": "code",
   "execution_count": null,
   "metadata": {},
   "outputs": [],
   "source": []
  },
  {
   "cell_type": "markdown",
   "metadata": {},
   "source": [
    "## Using the `Network` object"
   ]
  },
  {
   "cell_type": "markdown",
   "metadata": {},
   "source": [
    "### Summary\n",
    "\n",
    "The data saved on the edges or nodes of the graph can be nested. There are a couple of convenient methods that summarise the schema of the data found on the nodes and links. If `data=True`, the output also shows up to 5 unique values stored in that location."
   ]
  },
  {
   "cell_type": "code",
   "execution_count": 9,
   "metadata": {
    "ExecuteTime": {
     "end_time": "2020-06-04T12:35:55.998228Z",
     "start_time": "2020-06-04T12:35:55.707184Z"
    }
   },
   "outputs": [
    {
     "name": "stdout",
     "output_type": "stream",
     "text": [
      "attribute\n",
      "├── id: ['1678452814', '25530033', '973525143', '25471116', '25626799']\n",
      "├── x: ['529261.8422926142', '529097.9813724858', '530601.735635728', '529217.4618553725', '528344.7036729204']\n",
      "├── y: ['181968.63530631427', '181032.36566110572', '181461.5153686754', '181254.60994444933', '182787.3799727923']\n",
      "├── lon: [-0.15178558709839862, -0.15872448710537235, -0.13569068709168342, -0.13766218709633904, -0.13543658708819173]\n",
      "├── lat: [51.51609983324067, 51.5182034332405, 51.51504733324089, 51.522253033239515, 51.522948433239556]\n",
      "└── s2_id: [5221390710015643649, 5221390314367946753, 5221366508477440003, 5221390682291777543, 5221390739236081673]\n"
     ]
    }
   ],
   "source": [
    "n.node_attribute_summary(data=True)"
   ]
  },
  {
   "cell_type": "code",
   "execution_count": 10,
   "metadata": {
    "ExecuteTime": {
     "end_time": "2020-06-04T12:35:56.895255Z",
     "start_time": "2020-06-04T12:35:56.004949Z"
    }
   },
   "outputs": [
    {
     "name": "stdout",
     "output_type": "stream",
     "text": [
      "attribute\n",
      "├── id: ['1797', '1778', '2816', '429', '3273']\n",
      "├── from: ['1678452814', '25530033', '973525143', '25471116', '25626799']\n",
      "├── to: ['1678452814', '25530033', '973525143', '25471116', '25626799']\n",
      "├── freespeed: [2.7777777777777777, 4.166666666666667, 5.0, 6.944444444444445, 8.333333333333334]\n",
      "├── capacity: [4000.0, 8000.0, 12000.0, 1000.0, 1800.0]\n",
      "├── permlanes: [1.0, 2.0, 3.0, 4.0, 5.0]\n",
      "├── oneway: ['1']\n",
      "├── modes: ['pt', 'bus', 'artificial', 'car']\n",
      "├── s2_from: [5221390710015643649, 5221390314367946753, 5221366508477440003, 5221390682291777543, 5221390739236081673]\n",
      "├── s2_to: [5221390710015643649, 5221390314367946753, 5221366508477440003, 5221390682291777543, 5221390739236081673]\n",
      "├── length: [2.6358639819628706, 3.5904978805887175, 4.599609949197294, 4.620218895820138, 5.8016284584454105]\n",
      "└── attributes\n",
      "    ├── osm:way:access\n",
      "    │   ├── name: ['osm:way:access']\n",
      "    │   ├── class: ['java.lang.String']\n",
      "    │   └── text: ['permissive', 'destination', 'yes', 'no', 'private']\n",
      "    ├── osm:way:highway\n",
      "    │   ├── name: ['osm:way:highway']\n",
      "    │   ├── class: ['java.lang.String']\n",
      "    │   └── text: ['residential', 'tertiary_link', 'secondary_link', 'trunk', 'tertiary']\n",
      "    ├── osm:way:id\n",
      "    │   ├── name: ['osm:way:id']\n",
      "    │   ├── class: ['java.lang.Long']\n",
      "    │   └── text: ['35065682', '649705347', '17929789', '587548552', '52918815']\n",
      "    ├── osm:way:name\n",
      "    │   ├── name: ['osm:way:name']\n",
      "    │   ├── class: ['java.lang.String']\n",
      "    │   └── text: ['New Quebec Street', 'Starcross Street', 'Holborn Place', 'Peter Street', 'University Street']\n",
      "    ├── osm:relation:route\n",
      "    │   ├── name: ['osm:relation:route']\n",
      "    │   ├── class: ['java.lang.String']\n",
      "    │   └── text: ['bus,bicycle,road', 'bicycle', 'road', 'bus,historic,bicycle', 'bus']\n",
      "    ├── osm:way:lanes\n",
      "    │   ├── name: ['osm:way:lanes']\n",
      "    │   ├── class: ['java.lang.String']\n",
      "    │   └── text: [None, '1', '2', '6', '4']\n",
      "    ├── osm:way:oneway\n",
      "    │   ├── name: ['osm:way:oneway']\n",
      "    │   ├── class: ['java.lang.String']\n",
      "    │   └── text: ['yes', 'no']\n",
      "    ├── osm:way:tunnel\n",
      "    │   ├── name: ['osm:way:tunnel']\n",
      "    │   ├── class: ['java.lang.String']\n",
      "    │   └── text: ['building_passage', 'yes']\n",
      "    ├── osm:way:psv\n",
      "    │   ├── name: ['osm:way:psv']\n",
      "    │   ├── class: ['java.lang.String']\n",
      "    │   └── text: ['destination', 'yes']\n",
      "    ├── osm:way:vehicle\n",
      "    │   ├── name: ['osm:way:vehicle']\n",
      "    │   ├── class: ['java.lang.String']\n",
      "    │   └── text: ['private', 'no']\n",
      "    ├── osm:way:traffic_calming\n",
      "    │   ├── name: ['osm:way:traffic_calming']\n",
      "    │   ├── class: ['java.lang.String']\n",
      "    │   └── text: ['hump', 'choker', 'table', 'cushion']\n",
      "    ├── osm:way:junction\n",
      "    │   ├── name: ['osm:way:junction']\n",
      "    │   ├── class: ['java.lang.String']\n",
      "    │   └── text: ['roundabout']\n",
      "    └── osm:way:service\n",
      "        ├── name: ['osm:way:service']\n",
      "        ├── class: ['java.lang.String']\n",
      "        └── text: ['bus']\n"
     ]
    }
   ],
   "source": [
    "n.link_attribute_summary(data=True)"
   ]
  },
  {
   "cell_type": "markdown",
   "metadata": {},
   "source": [
    "Once you see the general schema for the data stored on nodes and links, you may decide to look at or perform analysis \n",
    "on all of the data stored in the netowrk under a particular key. A GeNet network has two methods which generate a\n",
    "`pandas.Series` object, which stores the nodes or links data present at the specified key, indexed by the same index \n",
    "as the nodes or links."
   ]
  },
  {
   "cell_type": "code",
   "execution_count": 11,
   "metadata": {
    "ExecuteTime": {
     "end_time": "2020-06-04T12:35:56.921133Z",
     "start_time": "2020-06-04T12:35:56.898204Z"
    }
   },
   "outputs": [],
   "source": [
    "lat = n.node_attribute_data_under_key('lat')\n",
    "lat.name = 'lat'\n",
    "lon = n.node_attribute_data_under_key('lon')\n",
    "lon.name = 'lon'"
   ]
  },
  {
   "cell_type": "code",
   "execution_count": 12,
   "metadata": {
    "ExecuteTime": {
     "end_time": "2020-06-04T12:35:56.964258Z",
     "start_time": "2020-06-04T12:35:56.926261Z"
    }
   },
   "outputs": [
    {
     "data": {
      "text/html": [
       "<div>\n",
       "<style scoped>\n",
       "    .dataframe tbody tr th:only-of-type {\n",
       "        vertical-align: middle;\n",
       "    }\n",
       "\n",
       "    .dataframe tbody tr th {\n",
       "        vertical-align: top;\n",
       "    }\n",
       "\n",
       "    .dataframe thead th {\n",
       "        text-align: right;\n",
       "    }\n",
       "</style>\n",
       "<table border=\"1\" class=\"dataframe\">\n",
       "  <thead>\n",
       "    <tr style=\"text-align: right;\">\n",
       "      <th></th>\n",
       "      <th>lat</th>\n",
       "      <th>lon</th>\n",
       "    </tr>\n",
       "  </thead>\n",
       "  <tbody>\n",
       "    <tr>\n",
       "      <th>101982</th>\n",
       "      <td>51.522879</td>\n",
       "      <td>-0.146259</td>\n",
       "    </tr>\n",
       "    <tr>\n",
       "      <th>101986</th>\n",
       "      <td>51.522287</td>\n",
       "      <td>-0.144394</td>\n",
       "    </tr>\n",
       "    <tr>\n",
       "      <th>101990</th>\n",
       "      <td>51.520573</td>\n",
       "      <td>-0.147702</td>\n",
       "    </tr>\n",
       "    <tr>\n",
       "      <th>101991</th>\n",
       "      <td>51.521654</td>\n",
       "      <td>-0.148189</td>\n",
       "    </tr>\n",
       "    <tr>\n",
       "      <th>101992</th>\n",
       "      <td>51.521395</td>\n",
       "      <td>-0.149695</td>\n",
       "    </tr>\n",
       "  </tbody>\n",
       "</table>\n",
       "</div>"
      ],
      "text/plain": [
       "              lat       lon\n",
       "101982  51.522879 -0.146259\n",
       "101986  51.522287 -0.144394\n",
       "101990  51.520573 -0.147702\n",
       "101991  51.521654 -0.148189\n",
       "101992  51.521395 -0.149695"
      ]
     },
     "execution_count": 12,
     "metadata": {},
     "output_type": "execute_result"
    }
   ],
   "source": [
    "df_lat_lon = lat.to_frame().join(lon)\n",
    "df_lat_lon.head()"
   ]
  },
  {
   "cell_type": "code",
   "execution_count": 13,
   "metadata": {
    "ExecuteTime": {
     "end_time": "2020-06-04T12:35:57.020758Z",
     "start_time": "2020-06-04T12:35:56.978291Z"
    }
   },
   "outputs": [
    {
     "data": {
      "text/plain": [
       "1       4.166667\n",
       "10      4.166667\n",
       "100     4.166667\n",
       "1000    4.166667\n",
       "1001    4.166667\n",
       "dtype: float64"
      ]
     },
     "execution_count": 13,
     "metadata": {},
     "output_type": "execute_result"
    }
   ],
   "source": [
    "n.link_attribute_data_under_key('freespeed').head()"
   ]
  },
  {
   "cell_type": "markdown",
   "metadata": {},
   "source": [
    "Or you can access nested data,"
   ]
  },
  {
   "cell_type": "code",
   "execution_count": 14,
   "metadata": {
    "ExecuteTime": {
     "end_time": "2020-06-04T12:35:57.064414Z",
     "start_time": "2020-06-04T12:35:57.023976Z"
    }
   },
   "outputs": [
    {
     "data": {
      "text/plain": [
       "1007    2\n",
       "1008    2\n",
       "1037    2\n",
       "1038    2\n",
       "1039    2\n",
       "dtype: object"
      ]
     },
     "execution_count": 14,
     "metadata": {},
     "output_type": "execute_result"
    }
   ],
   "source": [
    "n.link_attribute_data_under_key({'attributes': {'osm:way:lanes': 'text'}}).head()"
   ]
  },
  {
   "cell_type": "markdown",
   "metadata": {},
   "source": [
    "### Extracting links of interest\n",
    "\n",
    "The function below gathers link ids which satisfy conditions \n",
    "to arbitrary level of nested-ness. It also allows quite flexible conditions---below we require that the link value\n",
    "at `data['attributes']['osm:way:highway']['text'] == 'primary'`, where data is the data dictionary stored on that link."
   ]
  },
  {
   "cell_type": "code",
   "execution_count": 15,
   "metadata": {
    "ExecuteTime": {
     "end_time": "2020-06-04T12:35:57.115186Z",
     "start_time": "2020-06-04T12:35:57.066287Z"
    }
   },
   "outputs": [],
   "source": [
    "links = gn.graph_operations.extract_links_on_edge_attributes(\n",
    "    n,\n",
    "    conditions= {'attributes': {'osm:way:highway': {'text': 'primary'}}},\n",
    ")"
   ]
  },
  {
   "cell_type": "code",
   "execution_count": 16,
   "metadata": {
    "ExecuteTime": {
     "end_time": "2020-06-04T12:35:57.123176Z",
     "start_time": "2020-06-04T12:35:57.116741Z"
    }
   },
   "outputs": [
    {
     "data": {
      "text/plain": [
       "['1007', '1008', '1023', '1024', '103']"
      ]
     },
     "execution_count": 16,
     "metadata": {},
     "output_type": "execute_result"
    }
   ],
   "source": [
    "links[:5]"
   ]
  },
  {
   "cell_type": "code",
   "execution_count": 17,
   "metadata": {
    "ExecuteTime": {
     "end_time": "2020-06-04T12:35:57.219645Z",
     "start_time": "2020-06-04T12:35:57.197762Z"
    }
   },
   "outputs": [
    {
     "data": {
      "text/plain": [
       "619"
      ]
     },
     "execution_count": 17,
     "metadata": {},
     "output_type": "execute_result"
    }
   ],
   "source": [
    "len(links)"
   ]
  },
  {
   "cell_type": "markdown",
   "metadata": {},
   "source": [
    "Below we now require that the link value\n",
    "at `data['attributes']['osm:way:highway']['text'] in ['primary', 'something else']`. There is nothing in the data that has such tags, so the output is the same."
   ]
  },
  {
   "cell_type": "code",
   "execution_count": 18,
   "metadata": {
    "ExecuteTime": {
     "end_time": "2020-06-04T12:35:57.285062Z",
     "start_time": "2020-06-04T12:35:57.227462Z"
    }
   },
   "outputs": [],
   "source": [
    "links = gn.graph_operations.extract_links_on_edge_attributes(\n",
    "    n,\n",
    "    conditions= {'attributes': {'osm:way:highway': {'text': ['primary', 'something else']}}},\n",
    ")"
   ]
  },
  {
   "cell_type": "code",
   "execution_count": 19,
   "metadata": {
    "ExecuteTime": {
     "end_time": "2020-06-04T12:35:57.300300Z",
     "start_time": "2020-06-04T12:35:57.288161Z"
    }
   },
   "outputs": [
    {
     "data": {
      "text/plain": [
       "['1007', '1008', '1023', '1024', '103']"
      ]
     },
     "execution_count": 19,
     "metadata": {},
     "output_type": "execute_result"
    }
   ],
   "source": [
    "links[:5]"
   ]
  },
  {
   "cell_type": "code",
   "execution_count": 20,
   "metadata": {
    "ExecuteTime": {
     "end_time": "2020-06-04T12:35:57.307753Z",
     "start_time": "2020-06-04T12:35:57.302215Z"
    }
   },
   "outputs": [
    {
     "data": {
      "text/plain": [
       "619"
      ]
     },
     "execution_count": 20,
     "metadata": {},
     "output_type": "execute_result"
    }
   ],
   "source": [
    "len(links)"
   ]
  },
  {
   "cell_type": "markdown",
   "metadata": {},
   "source": [
    "We can also pass a list of conditions. In this case it makes sense for us to specify how multiple conditions should be handled. We can do it via \n",
    "- `how=all` - all conditions need to be met\n",
    "- `how=any` - at least one condition needs to be met\n",
    "\n",
    "It is set to `any` as default."
   ]
  },
  {
   "cell_type": "code",
   "execution_count": 21,
   "metadata": {
    "ExecuteTime": {
     "end_time": "2020-06-04T12:35:57.371908Z",
     "start_time": "2020-06-04T12:35:57.309619Z"
    }
   },
   "outputs": [],
   "source": [
    "links = gn.graph_operations.extract_links_on_edge_attributes(\n",
    "    n,\n",
    "    conditions= [{'attributes': {'osm:way:highway': {'text': 'primary'}}},\n",
    "                 {'attributes': {'osm:way:highway': {'text': 'something else'}}}],\n",
    "    how=any\n",
    ")"
   ]
  },
  {
   "cell_type": "code",
   "execution_count": 22,
   "metadata": {
    "ExecuteTime": {
     "end_time": "2020-06-04T12:35:57.380979Z",
     "start_time": "2020-06-04T12:35:57.374899Z"
    }
   },
   "outputs": [
    {
     "data": {
      "text/plain": [
       "['1007', '1008', '1023', '1024', '103']"
      ]
     },
     "execution_count": 22,
     "metadata": {},
     "output_type": "execute_result"
    }
   ],
   "source": [
    "links[:5]"
   ]
  },
  {
   "cell_type": "code",
   "execution_count": 23,
   "metadata": {
    "ExecuteTime": {
     "end_time": "2020-06-04T12:35:57.399698Z",
     "start_time": "2020-06-04T12:35:57.390922Z"
    }
   },
   "outputs": [
    {
     "data": {
      "text/plain": [
       "619"
      ]
     },
     "execution_count": 23,
     "metadata": {},
     "output_type": "execute_result"
    }
   ],
   "source": [
    "len(links)"
   ]
  },
  {
   "cell_type": "code",
   "execution_count": 24,
   "metadata": {
    "ExecuteTime": {
     "end_time": "2020-06-04T12:35:57.488248Z",
     "start_time": "2020-06-04T12:35:57.403727Z"
    }
   },
   "outputs": [],
   "source": [
    "links = gn.graph_operations.extract_links_on_edge_attributes(\n",
    "    n,\n",
    "    conditions= [{'attributes': {'osm:way:highway': {'text': 'primary'}}},\n",
    "                 {'attributes': {'osm:way:highway': {'text': 'something else'}}}],\n",
    "    how=all\n",
    ")"
   ]
  },
  {
   "cell_type": "code",
   "execution_count": 25,
   "metadata": {
    "ExecuteTime": {
     "end_time": "2020-06-04T12:35:57.497152Z",
     "start_time": "2020-06-04T12:35:57.490487Z"
    }
   },
   "outputs": [
    {
     "data": {
      "text/plain": [
       "[]"
      ]
     },
     "execution_count": 25,
     "metadata": {},
     "output_type": "execute_result"
    }
   ],
   "source": [
    "links[:5]"
   ]
  },
  {
   "cell_type": "markdown",
   "metadata": {},
   "source": [
    "As expected, no links satisfy both `data['attributes']['osm:way:highway']['text'] == 'primary'` and `data['attributes']['osm:way:highway']['text'] == 'something else'`."
   ]
  },
  {
   "cell_type": "markdown",
   "metadata": {},
   "source": [
    "Below, we give an example of subsetting a numeric boundary. We find links where `0 <= 'freespeed'  <= 20`."
   ]
  },
  {
   "cell_type": "code",
   "execution_count": 26,
   "metadata": {
    "ExecuteTime": {
     "end_time": "2020-06-04T12:35:57.582260Z",
     "start_time": "2020-06-04T12:35:57.500396Z"
    }
   },
   "outputs": [],
   "source": [
    "links = gn.graph_operations.extract_links_on_edge_attributes(\n",
    "    n,\n",
    "    conditions = {'freespeed': (0,20)},\n",
    ")"
   ]
  },
  {
   "cell_type": "code",
   "execution_count": 27,
   "metadata": {
    "ExecuteTime": {
     "end_time": "2020-06-04T12:35:57.589687Z",
     "start_time": "2020-06-04T12:35:57.583975Z"
    }
   },
   "outputs": [
    {
     "data": {
      "text/plain": [
       "['1', '10', '100', '1000', '1001']"
      ]
     },
     "execution_count": 27,
     "metadata": {},
     "output_type": "execute_result"
    }
   ],
   "source": [
    "links[:5]"
   ]
  },
  {
   "cell_type": "code",
   "execution_count": 28,
   "metadata": {
    "ExecuteTime": {
     "end_time": "2020-06-04T12:35:57.598394Z",
     "start_time": "2020-06-04T12:35:57.591552Z"
    }
   },
   "outputs": [
    {
     "data": {
      "text/plain": [
       "2334"
      ]
     },
     "execution_count": 28,
     "metadata": {},
     "output_type": "execute_result"
    }
   ],
   "source": [
    "len(links)"
   ]
  },
  {
   "cell_type": "markdown",
   "metadata": {},
   "source": [
    "Finally, we can define a function that will handle the condition for us. The function should take the value expected at the key in the data dictionary and return either `True` or `False`.\n",
    "\n",
    "For example, below we give an example equivalent to our first example of `data['attributes']['osm:way:highway']['text'] == 'primary'` but using a function we defined ourselves to handle the condition."
   ]
  },
  {
   "cell_type": "code",
   "execution_count": 29,
   "metadata": {
    "ExecuteTime": {
     "end_time": "2020-06-04T12:35:57.659403Z",
     "start_time": "2020-06-04T12:35:57.600206Z"
    }
   },
   "outputs": [],
   "source": [
    "def highway_primary(value):\n",
    "    return value == 'primary'\n",
    "\n",
    "links = gn.graph_operations.extract_links_on_edge_attributes(\n",
    "    n,\n",
    "    conditions= {'attributes': {'osm:way:highway': {'text': highway_primary}}},\n",
    ")"
   ]
  },
  {
   "cell_type": "code",
   "execution_count": 30,
   "metadata": {
    "ExecuteTime": {
     "end_time": "2020-06-04T12:35:57.671517Z",
     "start_time": "2020-06-04T12:35:57.664334Z"
    }
   },
   "outputs": [
    {
     "data": {
      "text/plain": [
       "['1007', '1008', '1023', '1024', '103']"
      ]
     },
     "execution_count": 30,
     "metadata": {},
     "output_type": "execute_result"
    }
   ],
   "source": [
    "links[:5]"
   ]
  },
  {
   "cell_type": "code",
   "execution_count": 31,
   "metadata": {
    "ExecuteTime": {
     "end_time": "2020-06-04T12:35:57.681476Z",
     "start_time": "2020-06-04T12:35:57.673870Z"
    }
   },
   "outputs": [
    {
     "data": {
      "text/plain": [
       "619"
      ]
     },
     "execution_count": 31,
     "metadata": {},
     "output_type": "execute_result"
    }
   ],
   "source": [
    "len(links)"
   ]
  },
  {
   "cell_type": "markdown",
   "metadata": {},
   "source": [
    "This allows for really flexible subsetting of the network based on data stored on the edges. Another example, similar to the numeric boundary, but this time we only care about the upper bound and we make it a strict inequality."
   ]
  },
  {
   "cell_type": "code",
   "execution_count": 32,
   "metadata": {
    "ExecuteTime": {
     "end_time": "2020-06-04T12:35:57.737098Z",
     "start_time": "2020-06-04T12:35:57.683630Z"
    }
   },
   "outputs": [],
   "source": [
    "def below_20(value):\n",
    "    return value < 20\n",
    "\n",
    "links = gn.graph_operations.extract_links_on_edge_attributes(\n",
    "    n,\n",
    "    conditions= {'freespeed': below_20},\n",
    ")"
   ]
  },
  {
   "cell_type": "code",
   "execution_count": 33,
   "metadata": {
    "ExecuteTime": {
     "end_time": "2020-06-04T12:35:57.746904Z",
     "start_time": "2020-06-04T12:35:57.740498Z"
    }
   },
   "outputs": [
    {
     "data": {
      "text/plain": [
       "['1', '10', '100', '1000', '1001']"
      ]
     },
     "execution_count": 33,
     "metadata": {},
     "output_type": "execute_result"
    }
   ],
   "source": [
    "links[:5]"
   ]
  },
  {
   "cell_type": "code",
   "execution_count": 34,
   "metadata": {
    "ExecuteTime": {
     "end_time": "2020-06-04T12:35:57.753801Z",
     "start_time": "2020-06-04T12:35:57.748901Z"
    }
   },
   "outputs": [
    {
     "data": {
      "text/plain": [
       "2334"
      ]
     },
     "execution_count": 34,
     "metadata": {},
     "output_type": "execute_result"
    }
   ],
   "source": [
    "len(links)"
   ]
  },
  {
   "cell_type": "markdown",
   "metadata": {},
   "source": [
    "## Using the `Schedule` object"
   ]
  },
  {
   "cell_type": "code",
   "execution_count": 119,
   "metadata": {
    "ExecuteTime": {
     "end_time": "2020-06-05T15:40:31.381548Z",
     "start_time": "2020-06-05T15:40:31.371569Z"
    }
   },
   "outputs": [
    {
     "data": {
      "text/plain": [
       "529737.7933655808"
      ]
     },
     "execution_count": 119,
     "metadata": {},
     "output_type": "execute_result"
    }
   ],
   "source": [
    "n.schedule['15003'].routes[0].stops[0].x"
   ]
  },
  {
   "cell_type": "code",
   "execution_count": null,
   "metadata": {},
   "outputs": [],
   "source": []
  },
  {
   "cell_type": "code",
   "execution_count": null,
   "metadata": {},
   "outputs": [],
   "source": []
  },
  {
   "cell_type": "markdown",
   "metadata": {},
   "source": [
    "## Modifying the `Network` object"
   ]
  },
  {
   "cell_type": "markdown",
   "metadata": {},
   "source": [
    "Let's say you have extracted `genet.Network` link ids of interest and now you want to make changes to the network. Let's make changes to the nested OSM data stored on the links. We will replace the highway tags from `'primary'` to `'SOMETHING'`."
   ]
  },
  {
   "cell_type": "code",
   "execution_count": 35,
   "metadata": {
    "ExecuteTime": {
     "end_time": "2020-06-04T12:35:57.802065Z",
     "start_time": "2020-06-04T12:35:57.755897Z"
    }
   },
   "outputs": [
    {
     "data": {
      "text/plain": [
       "['1007', '1008', '1023', '1024', '103']"
      ]
     },
     "execution_count": 35,
     "metadata": {},
     "output_type": "execute_result"
    }
   ],
   "source": [
    "links = gn.graph_operations.extract_links_on_edge_attributes(\n",
    "    n,\n",
    "    conditions= {'attributes': {'osm:way:highway': {'text': 'primary'}}},\n",
    ")\n",
    "\n",
    "links[:5]"
   ]
  },
  {
   "cell_type": "code",
   "execution_count": 36,
   "metadata": {
    "ExecuteTime": {
     "end_time": "2020-06-04T12:35:57.815882Z",
     "start_time": "2020-06-04T12:35:57.805726Z"
    }
   },
   "outputs": [
    {
     "data": {
      "text/plain": [
       "{'id': '1007',\n",
       " 'from': '4356572310',\n",
       " 'to': '5811263955',\n",
       " 'freespeed': 22.22222222222222,\n",
       " 'capacity': 3000.0,\n",
       " 'permlanes': 2.0,\n",
       " 'oneway': '1',\n",
       " 'modes': ['car'],\n",
       " 's2_from': 5221390723045407809,\n",
       " 's2_to': 5221390723040504387,\n",
       " 'length': 13.941905154249884,\n",
       " 'attributes': {'osm:way:highway': {'name': 'osm:way:highway',\n",
       "   'class': 'java.lang.String',\n",
       "   'text': 'primary'},\n",
       "  'osm:way:id': {'name': 'osm:way:id',\n",
       "   'class': 'java.lang.Long',\n",
       "   'text': '589660342'},\n",
       "  'osm:way:lanes': {'name': 'osm:way:lanes',\n",
       "   'class': 'java.lang.String',\n",
       "   'text': '2'},\n",
       "  'osm:way:name': {'name': 'osm:way:name',\n",
       "   'class': 'java.lang.String',\n",
       "   'text': 'Shaftesbury Avenue'},\n",
       "  'osm:way:oneway': {'name': 'osm:way:oneway',\n",
       "   'class': 'java.lang.String',\n",
       "   'text': 'yes'}}}"
      ]
     },
     "execution_count": 36,
     "metadata": {},
     "output_type": "execute_result"
    }
   ],
   "source": [
    "n.link(links[0])"
   ]
  },
  {
   "cell_type": "code",
   "execution_count": 37,
   "metadata": {
    "ExecuteTime": {
     "end_time": "2020-06-04T12:36:00.305714Z",
     "start_time": "2020-06-04T12:35:57.818019Z"
    }
   },
   "outputs": [],
   "source": [
    "n.apply_attributes_to_links(links, {'attributes': {'osm:way:highway': {'text': 'SOMETHING'}}})"
   ]
  },
  {
   "cell_type": "code",
   "execution_count": 38,
   "metadata": {
    "ExecuteTime": {
     "end_time": "2020-06-04T12:36:00.319961Z",
     "start_time": "2020-06-04T12:36:00.307209Z"
    }
   },
   "outputs": [
    {
     "data": {
      "text/plain": [
       "{'id': '1007',\n",
       " 'from': '4356572310',\n",
       " 'to': '5811263955',\n",
       " 'freespeed': 22.22222222222222,\n",
       " 'capacity': 3000.0,\n",
       " 'permlanes': 2.0,\n",
       " 'oneway': '1',\n",
       " 'modes': ['car'],\n",
       " 's2_from': 5221390723045407809,\n",
       " 's2_to': 5221390723040504387,\n",
       " 'length': 13.941905154249884,\n",
       " 'attributes': {'osm:way:highway': {'name': 'osm:way:highway',\n",
       "   'class': 'java.lang.String',\n",
       "   'text': 'SOMETHING'},\n",
       "  'osm:way:id': {'name': 'osm:way:id',\n",
       "   'class': 'java.lang.Long',\n",
       "   'text': '589660342'},\n",
       "  'osm:way:lanes': {'name': 'osm:way:lanes',\n",
       "   'class': 'java.lang.String',\n",
       "   'text': '2'},\n",
       "  'osm:way:name': {'name': 'osm:way:name',\n",
       "   'class': 'java.lang.String',\n",
       "   'text': 'Shaftesbury Avenue'},\n",
       "  'osm:way:oneway': {'name': 'osm:way:oneway',\n",
       "   'class': 'java.lang.String',\n",
       "   'text': 'yes'}}}"
      ]
     },
     "execution_count": 38,
     "metadata": {},
     "output_type": "execute_result"
    }
   ],
   "source": [
    "n.link(links[0])"
   ]
  },
  {
   "cell_type": "code",
   "execution_count": 39,
   "metadata": {
    "ExecuteTime": {
     "end_time": "2020-06-04T12:36:00.359419Z",
     "start_time": "2020-06-04T12:36:00.324550Z"
    },
    "scrolled": true
   },
   "outputs": [
    {
     "data": {
      "text/html": [
       "<div>\n",
       "<style scoped>\n",
       "    .dataframe tbody tr th:only-of-type {\n",
       "        vertical-align: middle;\n",
       "    }\n",
       "\n",
       "    .dataframe tbody tr th {\n",
       "        vertical-align: top;\n",
       "    }\n",
       "\n",
       "    .dataframe thead th {\n",
       "        text-align: right;\n",
       "    }\n",
       "</style>\n",
       "<table border=\"1\" class=\"dataframe\">\n",
       "  <thead>\n",
       "    <tr style=\"text-align: right;\">\n",
       "      <th></th>\n",
       "      <th>timestamp</th>\n",
       "      <th>change_event</th>\n",
       "      <th>object_type</th>\n",
       "      <th>old_id</th>\n",
       "      <th>new_id</th>\n",
       "      <th>old_attributes</th>\n",
       "      <th>new_attributes</th>\n",
       "      <th>diff</th>\n",
       "    </tr>\n",
       "  </thead>\n",
       "  <tbody>\n",
       "    <tr>\n",
       "      <th>0</th>\n",
       "      <td>2020-06-04 13:35:57</td>\n",
       "      <td>modify</td>\n",
       "      <td>link</td>\n",
       "      <td>1007</td>\n",
       "      <td>1007</td>\n",
       "      <td>{'id': '1007', 'from': '4356572310', 'to': '58...</td>\n",
       "      <td>{'id': '1007', 'from': '4356572310', 'to': '58...</td>\n",
       "      <td>[(change, attributes.osm:way:highway.text, (pr...</td>\n",
       "    </tr>\n",
       "    <tr>\n",
       "      <th>1</th>\n",
       "      <td>2020-06-04 13:35:57</td>\n",
       "      <td>modify</td>\n",
       "      <td>link</td>\n",
       "      <td>1008</td>\n",
       "      <td>1008</td>\n",
       "      <td>{'id': '1008', 'from': '5811263955', 'to': '21...</td>\n",
       "      <td>{'id': '1008', 'from': '5811263955', 'to': '21...</td>\n",
       "      <td>[(change, attributes.osm:way:highway.text, (pr...</td>\n",
       "    </tr>\n",
       "    <tr>\n",
       "      <th>2</th>\n",
       "      <td>2020-06-04 13:35:57</td>\n",
       "      <td>modify</td>\n",
       "      <td>link</td>\n",
       "      <td>1023</td>\n",
       "      <td>1023</td>\n",
       "      <td>{'id': '1023', 'from': '1611125463', 'to': '10...</td>\n",
       "      <td>{'id': '1023', 'from': '1611125463', 'to': '10...</td>\n",
       "      <td>[(change, attributes.osm:way:highway.text, (pr...</td>\n",
       "    </tr>\n",
       "    <tr>\n",
       "      <th>3</th>\n",
       "      <td>2020-06-04 13:35:57</td>\n",
       "      <td>modify</td>\n",
       "      <td>link</td>\n",
       "      <td>1024</td>\n",
       "      <td>1024</td>\n",
       "      <td>{'id': '1024', 'from': '108234', 'to': '254965...</td>\n",
       "      <td>{'id': '1024', 'from': '108234', 'to': '254965...</td>\n",
       "      <td>[(change, attributes.osm:way:highway.text, (pr...</td>\n",
       "    </tr>\n",
       "    <tr>\n",
       "      <th>4</th>\n",
       "      <td>2020-06-04 13:35:57</td>\n",
       "      <td>modify</td>\n",
       "      <td>link</td>\n",
       "      <td>103</td>\n",
       "      <td>103</td>\n",
       "      <td>{'id': '103', 'from': '5244680786', 'to': '951...</td>\n",
       "      <td>{'id': '103', 'from': '5244680786', 'to': '951...</td>\n",
       "      <td>[(change, attributes.osm:way:highway.text, (pr...</td>\n",
       "    </tr>\n",
       "  </tbody>\n",
       "</table>\n",
       "</div>"
      ],
      "text/plain": [
       "             timestamp change_event object_type old_id new_id  \\\n",
       "0  2020-06-04 13:35:57       modify        link   1007   1007   \n",
       "1  2020-06-04 13:35:57       modify        link   1008   1008   \n",
       "2  2020-06-04 13:35:57       modify        link   1023   1023   \n",
       "3  2020-06-04 13:35:57       modify        link   1024   1024   \n",
       "4  2020-06-04 13:35:57       modify        link    103    103   \n",
       "\n",
       "                                      old_attributes  \\\n",
       "0  {'id': '1007', 'from': '4356572310', 'to': '58...   \n",
       "1  {'id': '1008', 'from': '5811263955', 'to': '21...   \n",
       "2  {'id': '1023', 'from': '1611125463', 'to': '10...   \n",
       "3  {'id': '1024', 'from': '108234', 'to': '254965...   \n",
       "4  {'id': '103', 'from': '5244680786', 'to': '951...   \n",
       "\n",
       "                                      new_attributes  \\\n",
       "0  {'id': '1007', 'from': '4356572310', 'to': '58...   \n",
       "1  {'id': '1008', 'from': '5811263955', 'to': '21...   \n",
       "2  {'id': '1023', 'from': '1611125463', 'to': '10...   \n",
       "3  {'id': '1024', 'from': '108234', 'to': '254965...   \n",
       "4  {'id': '103', 'from': '5244680786', 'to': '951...   \n",
       "\n",
       "                                                diff  \n",
       "0  [(change, attributes.osm:way:highway.text, (pr...  \n",
       "1  [(change, attributes.osm:way:highway.text, (pr...  \n",
       "2  [(change, attributes.osm:way:highway.text, (pr...  \n",
       "3  [(change, attributes.osm:way:highway.text, (pr...  \n",
       "4  [(change, attributes.osm:way:highway.text, (pr...  "
      ]
     },
     "execution_count": 39,
     "metadata": {},
     "output_type": "execute_result"
    }
   ],
   "source": [
    "n.change_log.log.head()"
   ]
  },
  {
   "cell_type": "code",
   "execution_count": 40,
   "metadata": {
    "ExecuteTime": {
     "end_time": "2020-06-04T12:36:00.397023Z",
     "start_time": "2020-06-04T12:36:00.369384Z"
    }
   },
   "outputs": [
    {
     "data": {
      "text/plain": [
       "\"{'id': '987', 'from': '5630766895', 'to': '26699560', 'freespeed': 22.22222222222222, 'capacity': 3000.0, 'permlanes': 2.0, 'oneway': '1', 'modes': ['car'], 's2_from': 5221390723297804391, 's2_to': 5221390723303977989, 'length': 18.844372120776608, 'attributes': {'osm:relation:route': {'name': 'osm:relation:route', 'class': 'java.lang.String', 'text': 'bicycle'}, 'osm:way:highway': {'name': 'osm:way:highway', 'class': 'java.lang.String', 'text': 'primary'}, 'osm:way:id': {'name': 'osm:way:id', 'class': 'java.lang.Long', 'text': '589659240'}, 'osm:way:lanes': {'name': 'osm:way:lanes', 'class': 'java.lang.String', 'text': '2'}, 'osm:way:name': {'name': 'osm:way:name', 'class': 'java.lang.String', 'text': 'Shaftesbury Avenue'}, 'osm:way:oneway': {'name': 'osm:way:oneway', 'class': 'java.lang.String', 'text': 'yes'}}}\""
      ]
     },
     "execution_count": 40,
     "metadata": {},
     "output_type": "execute_result"
    }
   ],
   "source": [
    "n.change_log.log.loc[618, :]['old_attributes']"
   ]
  },
  {
   "cell_type": "code",
   "execution_count": 41,
   "metadata": {
    "ExecuteTime": {
     "end_time": "2020-06-04T12:36:00.435604Z",
     "start_time": "2020-06-04T12:36:00.405896Z"
    }
   },
   "outputs": [
    {
     "data": {
      "text/plain": [
       "\"{'id': '987', 'from': '5630766895', 'to': '26699560', 'freespeed': 22.22222222222222, 'capacity': 3000.0, 'permlanes': 2.0, 'oneway': '1', 'modes': ['car'], 's2_from': 5221390723297804391, 's2_to': 5221390723303977989, 'length': 18.844372120776608, 'attributes': {'osm:relation:route': {'name': 'osm:relation:route', 'class': 'java.lang.String', 'text': 'bicycle'}, 'osm:way:highway': {'name': 'osm:way:highway', 'class': 'java.lang.String', 'text': 'SOMETHING'}, 'osm:way:id': {'name': 'osm:way:id', 'class': 'java.lang.Long', 'text': '589659240'}, 'osm:way:lanes': {'name': 'osm:way:lanes', 'class': 'java.lang.String', 'text': '2'}, 'osm:way:name': {'name': 'osm:way:name', 'class': 'java.lang.String', 'text': 'Shaftesbury Avenue'}, 'osm:way:oneway': {'name': 'osm:way:oneway', 'class': 'java.lang.String', 'text': 'yes'}}}\""
      ]
     },
     "execution_count": 41,
     "metadata": {},
     "output_type": "execute_result"
    }
   ],
   "source": [
    "n.change_log.log.loc[618, :]['new_attributes']"
   ]
  },
  {
   "cell_type": "code",
   "execution_count": 42,
   "metadata": {
    "ExecuteTime": {
     "end_time": "2020-06-04T12:36:00.448599Z",
     "start_time": "2020-06-04T12:36:00.438704Z"
    }
   },
   "outputs": [
    {
     "data": {
      "text/plain": [
       "[('change', 'attributes.osm:way:highway.text', ('primary', 'SOMETHING'))]"
      ]
     },
     "execution_count": 42,
     "metadata": {},
     "output_type": "execute_result"
    }
   ],
   "source": [
    "n.change_log.log.loc[618, :]['diff']"
   ]
  },
  {
   "cell_type": "markdown",
   "metadata": {},
   "source": [
    "## Modifying the `Schedule` object"
   ]
  },
  {
   "cell_type": "code",
   "execution_count": null,
   "metadata": {},
   "outputs": [],
   "source": []
  },
  {
   "cell_type": "code",
   "execution_count": null,
   "metadata": {},
   "outputs": [],
   "source": []
  },
  {
   "cell_type": "code",
   "execution_count": null,
   "metadata": {},
   "outputs": [],
   "source": []
  },
  {
   "cell_type": "code",
   "execution_count": null,
   "metadata": {},
   "outputs": [],
   "source": []
  },
  {
   "cell_type": "code",
   "execution_count": null,
   "metadata": {},
   "outputs": [],
   "source": []
  },
  {
   "cell_type": "code",
   "execution_count": null,
   "metadata": {},
   "outputs": [],
   "source": []
  },
  {
   "cell_type": "code",
   "execution_count": null,
   "metadata": {},
   "outputs": [],
   "source": []
  },
  {
   "cell_type": "markdown",
   "metadata": {},
   "source": [
    "## Validation"
   ]
  },
  {
   "cell_type": "code",
   "execution_count": null,
   "metadata": {},
   "outputs": [],
   "source": []
  },
  {
   "cell_type": "code",
   "execution_count": null,
   "metadata": {},
   "outputs": [],
   "source": []
  },
  {
   "cell_type": "code",
   "execution_count": null,
   "metadata": {},
   "outputs": [],
   "source": []
  },
  {
   "cell_type": "code",
   "execution_count": null,
   "metadata": {},
   "outputs": [],
   "source": []
  },
  {
   "cell_type": "code",
   "execution_count": null,
   "metadata": {},
   "outputs": [],
   "source": []
  },
  {
   "cell_type": "code",
   "execution_count": null,
   "metadata": {},
   "outputs": [],
   "source": []
  },
  {
   "cell_type": "code",
   "execution_count": null,
   "metadata": {},
   "outputs": [],
   "source": []
  },
  {
   "cell_type": "markdown",
   "metadata": {},
   "source": [
    "## Writing results"
   ]
  },
  {
   "cell_type": "code",
   "execution_count": 43,
   "metadata": {
    "ExecuteTime": {
     "end_time": "2020-06-04T12:36:02.815560Z",
     "start_time": "2020-06-04T12:36:00.451072Z"
    }
   },
   "outputs": [
    {
     "name": "stderr",
     "output_type": "stream",
     "text": [
      "/Users/kasia.kozlowska/pycharm_venvs/genet/lib/python3.7/site-packages/pyproj/crs/crs.py:53: FutureWarning: '+init=<authority>:<code>' syntax is deprecated. '<authority>:<code>' is the preferred initialization method. When making the change, be mindful of axis order changes: https://pyproj4.github.io/pyproj/stable/gotchas.html#axis-order-changes-in-proj-6\n",
      "  return _prepare_from_string(\" \".join(pjargs))\n",
      "/Users/kasia.kozlowska/pycharm_venvs/genet/lib/python3.7/site-packages/pyproj/crs/crs.py:294: FutureWarning: '+init=<authority>:<code>' syntax is deprecated. '<authority>:<code>' is the preferred initialization method. When making the change, be mindful of axis order changes: https://pyproj4.github.io/pyproj/stable/gotchas.html#axis-order-changes-in-proj-6\n",
      "  projstring = _prepare_from_string(\" \".join((projstring, projkwargs)))\n",
      "/Users/kasia.kozlowska/pycharm_venvs/genet/lib/python3.7/site-packages/pyproj/crs/crs.py:53: FutureWarning: '+init=<authority>:<code>' syntax is deprecated. '<authority>:<code>' is the preferred initialization method. When making the change, be mindful of axis order changes: https://pyproj4.github.io/pyproj/stable/gotchas.html#axis-order-changes-in-proj-6\n",
      "  return _prepare_from_string(\" \".join(pjargs))\n",
      "/Users/kasia.kozlowska/pycharm_venvs/genet/lib/python3.7/site-packages/pyproj/crs/crs.py:294: FutureWarning: '+init=<authority>:<code>' syntax is deprecated. '<authority>:<code>' is the preferred initialization method. When making the change, be mindful of axis order changes: https://pyproj4.github.io/pyproj/stable/gotchas.html#axis-order-changes-in-proj-6\n",
      "  projstring = _prepare_from_string(\" \".join((projstring, projkwargs)))\n",
      "WARNING:root:The stop(s) along your route don't have arrival and departure offsets. This is likely a route with one stop - consider validating your schedule.\n",
      "WARNING:root:Route needs to have a network route composed of a list of network links that the vehicle on this route traverses. If read the Schedule from GTFS, the resulting Route objects will not have reference to the network route taken.\n",
      "WARNING:root:Route needs to have a network route composed of a list of network links that the vehicle on this route traverses. If read the Schedule from GTFS, the resulting Route objects will not have reference to the network route taken.\n",
      "WARNING:root:Route needs to have a network route composed of a list of network links that the vehicle on this route traverses. If read the Schedule from GTFS, the resulting Route objects will not have reference to the network route taken.\n",
      "WARNING:root:Route needs to have a network route composed of a list of network links that the vehicle on this route traverses. If read the Schedule from GTFS, the resulting Route objects will not have reference to the network route taken.\n",
      "WARNING:root:Route needs to have a network route composed of a list of network links that the vehicle on this route traverses. If read the Schedule from GTFS, the resulting Route objects will not have reference to the network route taken.\n",
      "WARNING:root:Route needs to have a network route composed of a list of network links that the vehicle on this route traverses. If read the Schedule from GTFS, the resulting Route objects will not have reference to the network route taken.\n",
      "WARNING:root:Route needs to have a network route composed of a list of network links that the vehicle on this route traverses. If read the Schedule from GTFS, the resulting Route objects will not have reference to the network route taken.\n",
      "WARNING:root:Route needs to have a network route composed of a list of network links that the vehicle on this route traverses. If read the Schedule from GTFS, the resulting Route objects will not have reference to the network route taken.\n",
      "WARNING:root:Route needs to have a network route composed of a list of network links that the vehicle on this route traverses. If read the Schedule from GTFS, the resulting Route objects will not have reference to the network route taken.\n",
      "WARNING:root:Route needs to have a network route composed of a list of network links that the vehicle on this route traverses. If read the Schedule from GTFS, the resulting Route objects will not have reference to the network route taken.\n",
      "WARNING:root:Route needs to have a network route composed of a list of network links that the vehicle on this route traverses. If read the Schedule from GTFS, the resulting Route objects will not have reference to the network route taken.\n",
      "WARNING:root:Route needs to have a network route composed of a list of network links that the vehicle on this route traverses. If read the Schedule from GTFS, the resulting Route objects will not have reference to the network route taken.\n",
      "WARNING:root:Route needs to have a network route composed of a list of network links that the vehicle on this route traverses. If read the Schedule from GTFS, the resulting Route objects will not have reference to the network route taken.\n",
      "WARNING:root:Route needs to have a network route composed of a list of network links that the vehicle on this route traverses. If read the Schedule from GTFS, the resulting Route objects will not have reference to the network route taken.\n",
      "WARNING:root:Route needs to have a network route composed of a list of network links that the vehicle on this route traverses. If read the Schedule from GTFS, the resulting Route objects will not have reference to the network route taken.\n",
      "WARNING:root:Route needs to have a network route composed of a list of network links that the vehicle on this route traverses. If read the Schedule from GTFS, the resulting Route objects will not have reference to the network route taken.\n",
      "WARNING:root:Route needs to have a network route composed of a list of network links that the vehicle on this route traverses. If read the Schedule from GTFS, the resulting Route objects will not have reference to the network route taken.\n",
      "WARNING:root:Route needs to have a network route composed of a list of network links that the vehicle on this route traverses. If read the Schedule from GTFS, the resulting Route objects will not have reference to the network route taken.\n",
      "WARNING:root:Route needs to have a network route composed of a list of network links that the vehicle on this route traverses. If read the Schedule from GTFS, the resulting Route objects will not have reference to the network route taken.\n",
      "WARNING:root:Route needs to have a network route composed of a list of network links that the vehicle on this route traverses. If read the Schedule from GTFS, the resulting Route objects will not have reference to the network route taken.\n",
      "WARNING:root:Route needs to have a network route composed of a list of network links that the vehicle on this route traverses. If read the Schedule from GTFS, the resulting Route objects will not have reference to the network route taken.\n",
      "WARNING:root:Route needs to have a network route composed of a list of network links that the vehicle on this route traverses. If read the Schedule from GTFS, the resulting Route objects will not have reference to the network route taken.\n",
      "WARNING:root:Route needs to have a network route composed of a list of network links that the vehicle on this route traverses. If read the Schedule from GTFS, the resulting Route objects will not have reference to the network route taken.\n",
      "WARNING:root:Route needs to have a network route composed of a list of network links that the vehicle on this route traverses. If read the Schedule from GTFS, the resulting Route objects will not have reference to the network route taken.\n",
      "WARNING:root:Route needs to have a network route composed of a list of network links that the vehicle on this route traverses. If read the Schedule from GTFS, the resulting Route objects will not have reference to the network route taken.\n",
      "WARNING:root:Route needs to have a network route composed of a list of network links that the vehicle on this route traverses. If read the Schedule from GTFS, the resulting Route objects will not have reference to the network route taken.\n",
      "WARNING:root:Route needs to have a network route composed of a list of network links that the vehicle on this route traverses. If read the Schedule from GTFS, the resulting Route objects will not have reference to the network route taken.\n"
     ]
    },
    {
     "name": "stderr",
     "output_type": "stream",
     "text": [
      "WARNING:root:Route needs to have a network route composed of a list of network links that the vehicle on this route traverses. If read the Schedule from GTFS, the resulting Route objects will not have reference to the network route taken.\n",
      "WARNING:root:Route needs to have a network route composed of a list of network links that the vehicle on this route traverses. If read the Schedule from GTFS, the resulting Route objects will not have reference to the network route taken.\n",
      "WARNING:root:Route needs to have a network route composed of a list of network links that the vehicle on this route traverses. If read the Schedule from GTFS, the resulting Route objects will not have reference to the network route taken.\n",
      "WARNING:root:Route needs to have a network route composed of a list of network links that the vehicle on this route traverses. If read the Schedule from GTFS, the resulting Route objects will not have reference to the network route taken.\n",
      "WARNING:root:Route needs to have a network route composed of a list of network links that the vehicle on this route traverses. If read the Schedule from GTFS, the resulting Route objects will not have reference to the network route taken.\n",
      "WARNING:root:Route needs to have a network route composed of a list of network links that the vehicle on this route traverses. If read the Schedule from GTFS, the resulting Route objects will not have reference to the network route taken.\n",
      "WARNING:root:Route needs to have a network route composed of a list of network links that the vehicle on this route traverses. If read the Schedule from GTFS, the resulting Route objects will not have reference to the network route taken.\n",
      "WARNING:root:Route needs to have a network route composed of a list of network links that the vehicle on this route traverses. If read the Schedule from GTFS, the resulting Route objects will not have reference to the network route taken.\n",
      "WARNING:root:Route needs to have a network route composed of a list of network links that the vehicle on this route traverses. If read the Schedule from GTFS, the resulting Route objects will not have reference to the network route taken.\n",
      "WARNING:root:Route needs to have a network route composed of a list of network links that the vehicle on this route traverses. If read the Schedule from GTFS, the resulting Route objects will not have reference to the network route taken.\n",
      "WARNING:root:Route needs to have a network route composed of a list of network links that the vehicle on this route traverses. If read the Schedule from GTFS, the resulting Route objects will not have reference to the network route taken.\n",
      "WARNING:root:Route needs to have a network route composed of a list of network links that the vehicle on this route traverses. If read the Schedule from GTFS, the resulting Route objects will not have reference to the network route taken.\n",
      "WARNING:root:Route needs to have a network route composed of a list of network links that the vehicle on this route traverses. If read the Schedule from GTFS, the resulting Route objects will not have reference to the network route taken.\n",
      "WARNING:root:Route needs to have a network route composed of a list of network links that the vehicle on this route traverses. If read the Schedule from GTFS, the resulting Route objects will not have reference to the network route taken.\n",
      "WARNING:root:Route needs to have a network route composed of a list of network links that the vehicle on this route traverses. If read the Schedule from GTFS, the resulting Route objects will not have reference to the network route taken.\n",
      "WARNING:root:Route needs to have a network route composed of a list of network links that the vehicle on this route traverses. If read the Schedule from GTFS, the resulting Route objects will not have reference to the network route taken.\n",
      "WARNING:root:Route needs to have a network route composed of a list of network links that the vehicle on this route traverses. If read the Schedule from GTFS, the resulting Route objects will not have reference to the network route taken.\n",
      "WARNING:root:Route needs to have a network route composed of a list of network links that the vehicle on this route traverses. If read the Schedule from GTFS, the resulting Route objects will not have reference to the network route taken.\n",
      "WARNING:root:Route needs to have a network route composed of a list of network links that the vehicle on this route traverses. If read the Schedule from GTFS, the resulting Route objects will not have reference to the network route taken.\n",
      "WARNING:root:Route needs to have a network route composed of a list of network links that the vehicle on this route traverses. If read the Schedule from GTFS, the resulting Route objects will not have reference to the network route taken.\n",
      "WARNING:root:Route needs to have a network route composed of a list of network links that the vehicle on this route traverses. If read the Schedule from GTFS, the resulting Route objects will not have reference to the network route taken.\n",
      "WARNING:root:Route needs to have a network route composed of a list of network links that the vehicle on this route traverses. If read the Schedule from GTFS, the resulting Route objects will not have reference to the network route taken.\n",
      "WARNING:root:Route needs to have a network route composed of a list of network links that the vehicle on this route traverses. If read the Schedule from GTFS, the resulting Route objects will not have reference to the network route taken.\n",
      "WARNING:root:The stop(s) along your route don't have arrival and departure offsets. This is likely a route with one stop - consider validating your schedule.\n",
      "WARNING:root:Route needs to have a network route composed of a list of network links that the vehicle on this route traverses. If read the Schedule from GTFS, the resulting Route objects will not have reference to the network route taken.\n",
      "WARNING:root:Route needs to have a network route composed of a list of network links that the vehicle on this route traverses. If read the Schedule from GTFS, the resulting Route objects will not have reference to the network route taken.\n",
      "WARNING:root:The stop(s) along your route don't have arrival and departure offsets. This is likely a route with one stop - consider validating your schedule.\n",
      "WARNING:root:Route needs to have a network route composed of a list of network links that the vehicle on this route traverses. If read the Schedule from GTFS, the resulting Route objects will not have reference to the network route taken.\n",
      "WARNING:root:The stop(s) along your route don't have arrival and departure offsets. This is likely a route with one stop - consider validating your schedule.\n",
      "WARNING:root:Route needs to have a network route composed of a list of network links that the vehicle on this route traverses. If read the Schedule from GTFS, the resulting Route objects will not have reference to the network route taken.\n",
      "WARNING:root:Route needs to have a network route composed of a list of network links that the vehicle on this route traverses. If read the Schedule from GTFS, the resulting Route objects will not have reference to the network route taken.\n",
      "WARNING:root:Route needs to have a network route composed of a list of network links that the vehicle on this route traverses. If read the Schedule from GTFS, the resulting Route objects will not have reference to the network route taken.\n",
      "WARNING:root:Route needs to have a network route composed of a list of network links that the vehicle on this route traverses. If read the Schedule from GTFS, the resulting Route objects will not have reference to the network route taken.\n",
      "WARNING:root:Route needs to have a network route composed of a list of network links that the vehicle on this route traverses. If read the Schedule from GTFS, the resulting Route objects will not have reference to the network route taken.\n",
      "WARNING:root:Route needs to have a network route composed of a list of network links that the vehicle on this route traverses. If read the Schedule from GTFS, the resulting Route objects will not have reference to the network route taken.\n",
      "WARNING:root:The stop(s) along your route don't have arrival and departure offsets. This is likely a route with one stop - consider validating your schedule.\n"
     ]
    },
    {
     "name": "stderr",
     "output_type": "stream",
     "text": [
      "WARNING:root:Route needs to have a network route composed of a list of network links that the vehicle on this route traverses. If read the Schedule from GTFS, the resulting Route objects will not have reference to the network route taken.\n",
      "WARNING:root:Route needs to have a network route composed of a list of network links that the vehicle on this route traverses. If read the Schedule from GTFS, the resulting Route objects will not have reference to the network route taken.\n",
      "WARNING:root:Route needs to have a network route composed of a list of network links that the vehicle on this route traverses. If read the Schedule from GTFS, the resulting Route objects will not have reference to the network route taken.\n",
      "WARNING:root:Route needs to have a network route composed of a list of network links that the vehicle on this route traverses. If read the Schedule from GTFS, the resulting Route objects will not have reference to the network route taken.\n",
      "WARNING:root:Route needs to have a network route composed of a list of network links that the vehicle on this route traverses. If read the Schedule from GTFS, the resulting Route objects will not have reference to the network route taken.\n",
      "WARNING:root:Route needs to have a network route composed of a list of network links that the vehicle on this route traverses. If read the Schedule from GTFS, the resulting Route objects will not have reference to the network route taken.\n",
      "WARNING:root:Route needs to have a network route composed of a list of network links that the vehicle on this route traverses. If read the Schedule from GTFS, the resulting Route objects will not have reference to the network route taken.\n",
      "WARNING:root:Route needs to have a network route composed of a list of network links that the vehicle on this route traverses. If read the Schedule from GTFS, the resulting Route objects will not have reference to the network route taken.\n",
      "WARNING:root:The stop(s) along your route don't have arrival and departure offsets. This is likely a route with one stop - consider validating your schedule.\n",
      "WARNING:root:Route needs to have a network route composed of a list of network links that the vehicle on this route traverses. If read the Schedule from GTFS, the resulting Route objects will not have reference to the network route taken.\n",
      "WARNING:root:The stop(s) along your route don't have arrival and departure offsets. This is likely a route with one stop - consider validating your schedule.\n",
      "WARNING:root:Route needs to have a network route composed of a list of network links that the vehicle on this route traverses. If read the Schedule from GTFS, the resulting Route objects will not have reference to the network route taken.\n",
      "WARNING:root:Route needs to have a network route composed of a list of network links that the vehicle on this route traverses. If read the Schedule from GTFS, the resulting Route objects will not have reference to the network route taken.\n",
      "WARNING:root:Route needs to have a network route composed of a list of network links that the vehicle on this route traverses. If read the Schedule from GTFS, the resulting Route objects will not have reference to the network route taken.\n",
      "WARNING:root:Route needs to have a network route composed of a list of network links that the vehicle on this route traverses. If read the Schedule from GTFS, the resulting Route objects will not have reference to the network route taken.\n",
      "WARNING:root:Route needs to have a network route composed of a list of network links that the vehicle on this route traverses. If read the Schedule from GTFS, the resulting Route objects will not have reference to the network route taken.\n",
      "WARNING:root:The stop(s) along your route don't have arrival and departure offsets. This is likely a route with one stop - consider validating your schedule.\n",
      "WARNING:root:Route needs to have a network route composed of a list of network links that the vehicle on this route traverses. If read the Schedule from GTFS, the resulting Route objects will not have reference to the network route taken.\n",
      "WARNING:root:Route needs to have a network route composed of a list of network links that the vehicle on this route traverses. If read the Schedule from GTFS, the resulting Route objects will not have reference to the network route taken.\n",
      "WARNING:root:Route needs to have a network route composed of a list of network links that the vehicle on this route traverses. If read the Schedule from GTFS, the resulting Route objects will not have reference to the network route taken.\n",
      "WARNING:root:Route needs to have a network route composed of a list of network links that the vehicle on this route traverses. If read the Schedule from GTFS, the resulting Route objects will not have reference to the network route taken.\n",
      "WARNING:root:Route needs to have a network route composed of a list of network links that the vehicle on this route traverses. If read the Schedule from GTFS, the resulting Route objects will not have reference to the network route taken.\n",
      "WARNING:root:Route needs to have a network route composed of a list of network links that the vehicle on this route traverses. If read the Schedule from GTFS, the resulting Route objects will not have reference to the network route taken.\n",
      "WARNING:root:Route needs to have a network route composed of a list of network links that the vehicle on this route traverses. If read the Schedule from GTFS, the resulting Route objects will not have reference to the network route taken.\n",
      "WARNING:root:Route needs to have a network route composed of a list of network links that the vehicle on this route traverses. If read the Schedule from GTFS, the resulting Route objects will not have reference to the network route taken.\n",
      "WARNING:root:Route needs to have a network route composed of a list of network links that the vehicle on this route traverses. If read the Schedule from GTFS, the resulting Route objects will not have reference to the network route taken.\n",
      "WARNING:root:Route needs to have a network route composed of a list of network links that the vehicle on this route traverses. If read the Schedule from GTFS, the resulting Route objects will not have reference to the network route taken.\n",
      "WARNING:root:Route needs to have a network route composed of a list of network links that the vehicle on this route traverses. If read the Schedule from GTFS, the resulting Route objects will not have reference to the network route taken.\n",
      "WARNING:root:Route needs to have a network route composed of a list of network links that the vehicle on this route traverses. If read the Schedule from GTFS, the resulting Route objects will not have reference to the network route taken.\n",
      "WARNING:root:Route needs to have a network route composed of a list of network links that the vehicle on this route traverses. If read the Schedule from GTFS, the resulting Route objects will not have reference to the network route taken.\n",
      "WARNING:root:Route needs to have a network route composed of a list of network links that the vehicle on this route traverses. If read the Schedule from GTFS, the resulting Route objects will not have reference to the network route taken.\n",
      "WARNING:root:Route needs to have a network route composed of a list of network links that the vehicle on this route traverses. If read the Schedule from GTFS, the resulting Route objects will not have reference to the network route taken.\n",
      "WARNING:root:Route needs to have a network route composed of a list of network links that the vehicle on this route traverses. If read the Schedule from GTFS, the resulting Route objects will not have reference to the network route taken.\n",
      "WARNING:root:Route needs to have a network route composed of a list of network links that the vehicle on this route traverses. If read the Schedule from GTFS, the resulting Route objects will not have reference to the network route taken.\n",
      "WARNING:root:Route needs to have a network route composed of a list of network links that the vehicle on this route traverses. If read the Schedule from GTFS, the resulting Route objects will not have reference to the network route taken.\n",
      "WARNING:root:Route needs to have a network route composed of a list of network links that the vehicle on this route traverses. If read the Schedule from GTFS, the resulting Route objects will not have reference to the network route taken.\n"
     ]
    },
    {
     "name": "stderr",
     "output_type": "stream",
     "text": [
      "WARNING:root:Route needs to have a network route composed of a list of network links that the vehicle on this route traverses. If read the Schedule from GTFS, the resulting Route objects will not have reference to the network route taken.\n",
      "WARNING:root:Route needs to have a network route composed of a list of network links that the vehicle on this route traverses. If read the Schedule from GTFS, the resulting Route objects will not have reference to the network route taken.\n",
      "WARNING:root:Route needs to have a network route composed of a list of network links that the vehicle on this route traverses. If read the Schedule from GTFS, the resulting Route objects will not have reference to the network route taken.\n",
      "WARNING:root:Route needs to have a network route composed of a list of network links that the vehicle on this route traverses. If read the Schedule from GTFS, the resulting Route objects will not have reference to the network route taken.\n",
      "WARNING:root:Route needs to have a network route composed of a list of network links that the vehicle on this route traverses. If read the Schedule from GTFS, the resulting Route objects will not have reference to the network route taken.\n",
      "WARNING:root:Route needs to have a network route composed of a list of network links that the vehicle on this route traverses. If read the Schedule from GTFS, the resulting Route objects will not have reference to the network route taken.\n",
      "WARNING:root:Route needs to have a network route composed of a list of network links that the vehicle on this route traverses. If read the Schedule from GTFS, the resulting Route objects will not have reference to the network route taken.\n",
      "WARNING:root:Route needs to have a network route composed of a list of network links that the vehicle on this route traverses. If read the Schedule from GTFS, the resulting Route objects will not have reference to the network route taken.\n",
      "WARNING:root:Route needs to have a network route composed of a list of network links that the vehicle on this route traverses. If read the Schedule from GTFS, the resulting Route objects will not have reference to the network route taken.\n",
      "WARNING:root:Route needs to have a network route composed of a list of network links that the vehicle on this route traverses. If read the Schedule from GTFS, the resulting Route objects will not have reference to the network route taken.\n",
      "WARNING:root:Route needs to have a network route composed of a list of network links that the vehicle on this route traverses. If read the Schedule from GTFS, the resulting Route objects will not have reference to the network route taken.\n",
      "WARNING:root:Route needs to have a network route composed of a list of network links that the vehicle on this route traverses. If read the Schedule from GTFS, the resulting Route objects will not have reference to the network route taken.\n",
      "WARNING:root:Route needs to have a network route composed of a list of network links that the vehicle on this route traverses. If read the Schedule from GTFS, the resulting Route objects will not have reference to the network route taken.\n",
      "WARNING:root:Route needs to have a network route composed of a list of network links that the vehicle on this route traverses. If read the Schedule from GTFS, the resulting Route objects will not have reference to the network route taken.\n",
      "WARNING:root:Route needs to have a network route composed of a list of network links that the vehicle on this route traverses. If read the Schedule from GTFS, the resulting Route objects will not have reference to the network route taken.\n",
      "WARNING:root:Route needs to have a network route composed of a list of network links that the vehicle on this route traverses. If read the Schedule from GTFS, the resulting Route objects will not have reference to the network route taken.\n",
      "WARNING:root:Route needs to have a network route composed of a list of network links that the vehicle on this route traverses. If read the Schedule from GTFS, the resulting Route objects will not have reference to the network route taken.\n",
      "WARNING:root:Route needs to have a network route composed of a list of network links that the vehicle on this route traverses. If read the Schedule from GTFS, the resulting Route objects will not have reference to the network route taken.\n",
      "WARNING:root:Route needs to have a network route composed of a list of network links that the vehicle on this route traverses. If read the Schedule from GTFS, the resulting Route objects will not have reference to the network route taken.\n",
      "WARNING:root:Route needs to have a network route composed of a list of network links that the vehicle on this route traverses. If read the Schedule from GTFS, the resulting Route objects will not have reference to the network route taken.\n",
      "WARNING:root:Route needs to have a network route composed of a list of network links that the vehicle on this route traverses. If read the Schedule from GTFS, the resulting Route objects will not have reference to the network route taken.\n",
      "WARNING:root:Route needs to have a network route composed of a list of network links that the vehicle on this route traverses. If read the Schedule from GTFS, the resulting Route objects will not have reference to the network route taken.\n",
      "WARNING:root:Route needs to have a network route composed of a list of network links that the vehicle on this route traverses. If read the Schedule from GTFS, the resulting Route objects will not have reference to the network route taken.\n",
      "WARNING:root:Route needs to have a network route composed of a list of network links that the vehicle on this route traverses. If read the Schedule from GTFS, the resulting Route objects will not have reference to the network route taken.\n",
      "WARNING:root:Route needs to have a network route composed of a list of network links that the vehicle on this route traverses. If read the Schedule from GTFS, the resulting Route objects will not have reference to the network route taken.\n",
      "WARNING:root:Route needs to have a network route composed of a list of network links that the vehicle on this route traverses. If read the Schedule from GTFS, the resulting Route objects will not have reference to the network route taken.\n",
      "WARNING:root:Route needs to have a network route composed of a list of network links that the vehicle on this route traverses. If read the Schedule from GTFS, the resulting Route objects will not have reference to the network route taken.\n",
      "WARNING:root:Route needs to have a network route composed of a list of network links that the vehicle on this route traverses. If read the Schedule from GTFS, the resulting Route objects will not have reference to the network route taken.\n",
      "WARNING:root:Route needs to have a network route composed of a list of network links that the vehicle on this route traverses. If read the Schedule from GTFS, the resulting Route objects will not have reference to the network route taken.\n",
      "WARNING:root:Route needs to have a network route composed of a list of network links that the vehicle on this route traverses. If read the Schedule from GTFS, the resulting Route objects will not have reference to the network route taken.\n",
      "WARNING:root:The stop(s) along your route don't have arrival and departure offsets. This is likely a route with one stop - consider validating your schedule.\n",
      "WARNING:root:Route needs to have a network route composed of a list of network links that the vehicle on this route traverses. If read the Schedule from GTFS, the resulting Route objects will not have reference to the network route taken.\n",
      "WARNING:root:Route needs to have a network route composed of a list of network links that the vehicle on this route traverses. If read the Schedule from GTFS, the resulting Route objects will not have reference to the network route taken.\n",
      "WARNING:root:Route needs to have a network route composed of a list of network links that the vehicle on this route traverses. If read the Schedule from GTFS, the resulting Route objects will not have reference to the network route taken.\n",
      "WARNING:root:Route needs to have a network route composed of a list of network links that the vehicle on this route traverses. If read the Schedule from GTFS, the resulting Route objects will not have reference to the network route taken.\n"
     ]
    },
    {
     "name": "stderr",
     "output_type": "stream",
     "text": [
      "WARNING:root:Route needs to have a network route composed of a list of network links that the vehicle on this route traverses. If read the Schedule from GTFS, the resulting Route objects will not have reference to the network route taken.\n",
      "WARNING:root:Route needs to have a network route composed of a list of network links that the vehicle on this route traverses. If read the Schedule from GTFS, the resulting Route objects will not have reference to the network route taken.\n",
      "WARNING:root:The stop(s) along your route don't have arrival and departure offsets. This is likely a route with one stop - consider validating your schedule.\n",
      "WARNING:root:Route needs to have a network route composed of a list of network links that the vehicle on this route traverses. If read the Schedule from GTFS, the resulting Route objects will not have reference to the network route taken.\n",
      "WARNING:root:Route needs to have a network route composed of a list of network links that the vehicle on this route traverses. If read the Schedule from GTFS, the resulting Route objects will not have reference to the network route taken.\n",
      "WARNING:root:Route needs to have a network route composed of a list of network links that the vehicle on this route traverses. If read the Schedule from GTFS, the resulting Route objects will not have reference to the network route taken.\n",
      "WARNING:root:Route needs to have a network route composed of a list of network links that the vehicle on this route traverses. If read the Schedule from GTFS, the resulting Route objects will not have reference to the network route taken.\n",
      "WARNING:root:Route needs to have a network route composed of a list of network links that the vehicle on this route traverses. If read the Schedule from GTFS, the resulting Route objects will not have reference to the network route taken.\n",
      "WARNING:root:Route needs to have a network route composed of a list of network links that the vehicle on this route traverses. If read the Schedule from GTFS, the resulting Route objects will not have reference to the network route taken.\n",
      "WARNING:root:Route needs to have a network route composed of a list of network links that the vehicle on this route traverses. If read the Schedule from GTFS, the resulting Route objects will not have reference to the network route taken.\n",
      "WARNING:root:Route needs to have a network route composed of a list of network links that the vehicle on this route traverses. If read the Schedule from GTFS, the resulting Route objects will not have reference to the network route taken.\n",
      "WARNING:root:Route needs to have a network route composed of a list of network links that the vehicle on this route traverses. If read the Schedule from GTFS, the resulting Route objects will not have reference to the network route taken.\n",
      "WARNING:root:Route needs to have a network route composed of a list of network links that the vehicle on this route traverses. If read the Schedule from GTFS, the resulting Route objects will not have reference to the network route taken.\n",
      "WARNING:root:The stop(s) along your route don't have arrival and departure offsets. This is likely a route with one stop - consider validating your schedule.\n",
      "WARNING:root:Route needs to have a network route composed of a list of network links that the vehicle on this route traverses. If read the Schedule from GTFS, the resulting Route objects will not have reference to the network route taken.\n",
      "WARNING:root:Route needs to have a network route composed of a list of network links that the vehicle on this route traverses. If read the Schedule from GTFS, the resulting Route objects will not have reference to the network route taken.\n",
      "WARNING:root:Route needs to have a network route composed of a list of network links that the vehicle on this route traverses. If read the Schedule from GTFS, the resulting Route objects will not have reference to the network route taken.\n",
      "WARNING:root:Route needs to have a network route composed of a list of network links that the vehicle on this route traverses. If read the Schedule from GTFS, the resulting Route objects will not have reference to the network route taken.\n",
      "WARNING:root:Route needs to have a network route composed of a list of network links that the vehicle on this route traverses. If read the Schedule from GTFS, the resulting Route objects will not have reference to the network route taken.\n",
      "WARNING:root:Route needs to have a network route composed of a list of network links that the vehicle on this route traverses. If read the Schedule from GTFS, the resulting Route objects will not have reference to the network route taken.\n",
      "WARNING:root:Route needs to have a network route composed of a list of network links that the vehicle on this route traverses. If read the Schedule from GTFS, the resulting Route objects will not have reference to the network route taken.\n",
      "WARNING:root:Route needs to have a network route composed of a list of network links that the vehicle on this route traverses. If read the Schedule from GTFS, the resulting Route objects will not have reference to the network route taken.\n",
      "WARNING:root:Route needs to have a network route composed of a list of network links that the vehicle on this route traverses. If read the Schedule from GTFS, the resulting Route objects will not have reference to the network route taken.\n",
      "WARNING:root:Route needs to have a network route composed of a list of network links that the vehicle on this route traverses. If read the Schedule from GTFS, the resulting Route objects will not have reference to the network route taken.\n",
      "WARNING:root:Route needs to have a network route composed of a list of network links that the vehicle on this route traverses. If read the Schedule from GTFS, the resulting Route objects will not have reference to the network route taken.\n",
      "WARNING:root:Route needs to have a network route composed of a list of network links that the vehicle on this route traverses. If read the Schedule from GTFS, the resulting Route objects will not have reference to the network route taken.\n",
      "WARNING:root:Route needs to have a network route composed of a list of network links that the vehicle on this route traverses. If read the Schedule from GTFS, the resulting Route objects will not have reference to the network route taken.\n",
      "WARNING:root:Route needs to have a network route composed of a list of network links that the vehicle on this route traverses. If read the Schedule from GTFS, the resulting Route objects will not have reference to the network route taken.\n",
      "WARNING:root:Route needs to have a network route composed of a list of network links that the vehicle on this route traverses. If read the Schedule from GTFS, the resulting Route objects will not have reference to the network route taken.\n",
      "WARNING:root:Route needs to have a network route composed of a list of network links that the vehicle on this route traverses. If read the Schedule from GTFS, the resulting Route objects will not have reference to the network route taken.\n",
      "WARNING:root:Route needs to have a network route composed of a list of network links that the vehicle on this route traverses. If read the Schedule from GTFS, the resulting Route objects will not have reference to the network route taken.\n",
      "WARNING:root:Route needs to have a network route composed of a list of network links that the vehicle on this route traverses. If read the Schedule from GTFS, the resulting Route objects will not have reference to the network route taken.\n",
      "WARNING:root:The stop(s) along your route don't have arrival and departure offsets. This is likely a route with one stop - consider validating your schedule.\n",
      "WARNING:root:Route needs to have a network route composed of a list of network links that the vehicle on this route traverses. If read the Schedule from GTFS, the resulting Route objects will not have reference to the network route taken.\n",
      "WARNING:root:The stop(s) along your route don't have arrival and departure offsets. This is likely a route with one stop - consider validating your schedule.\n",
      "WARNING:root:Route needs to have a network route composed of a list of network links that the vehicle on this route traverses. If read the Schedule from GTFS, the resulting Route objects will not have reference to the network route taken.\n"
     ]
    },
    {
     "name": "stderr",
     "output_type": "stream",
     "text": [
      "WARNING:root:Route needs to have a network route composed of a list of network links that the vehicle on this route traverses. If read the Schedule from GTFS, the resulting Route objects will not have reference to the network route taken.\n",
      "WARNING:root:Route needs to have a network route composed of a list of network links that the vehicle on this route traverses. If read the Schedule from GTFS, the resulting Route objects will not have reference to the network route taken.\n",
      "WARNING:root:Route needs to have a network route composed of a list of network links that the vehicle on this route traverses. If read the Schedule from GTFS, the resulting Route objects will not have reference to the network route taken.\n",
      "WARNING:root:Route needs to have a network route composed of a list of network links that the vehicle on this route traverses. If read the Schedule from GTFS, the resulting Route objects will not have reference to the network route taken.\n",
      "WARNING:root:Route needs to have a network route composed of a list of network links that the vehicle on this route traverses. If read the Schedule from GTFS, the resulting Route objects will not have reference to the network route taken.\n",
      "WARNING:root:Route needs to have a network route composed of a list of network links that the vehicle on this route traverses. If read the Schedule from GTFS, the resulting Route objects will not have reference to the network route taken.\n",
      "WARNING:root:Route needs to have a network route composed of a list of network links that the vehicle on this route traverses. If read the Schedule from GTFS, the resulting Route objects will not have reference to the network route taken.\n",
      "WARNING:root:Route needs to have a network route composed of a list of network links that the vehicle on this route traverses. If read the Schedule from GTFS, the resulting Route objects will not have reference to the network route taken.\n",
      "WARNING:root:Route needs to have a network route composed of a list of network links that the vehicle on this route traverses. If read the Schedule from GTFS, the resulting Route objects will not have reference to the network route taken.\n",
      "WARNING:root:Route needs to have a network route composed of a list of network links that the vehicle on this route traverses. If read the Schedule from GTFS, the resulting Route objects will not have reference to the network route taken.\n",
      "WARNING:root:Route needs to have a network route composed of a list of network links that the vehicle on this route traverses. If read the Schedule from GTFS, the resulting Route objects will not have reference to the network route taken.\n",
      "WARNING:root:Route needs to have a network route composed of a list of network links that the vehicle on this route traverses. If read the Schedule from GTFS, the resulting Route objects will not have reference to the network route taken.\n",
      "WARNING:root:Route needs to have a network route composed of a list of network links that the vehicle on this route traverses. If read the Schedule from GTFS, the resulting Route objects will not have reference to the network route taken.\n",
      "WARNING:root:Route needs to have a network route composed of a list of network links that the vehicle on this route traverses. If read the Schedule from GTFS, the resulting Route objects will not have reference to the network route taken.\n",
      "WARNING:root:Route needs to have a network route composed of a list of network links that the vehicle on this route traverses. If read the Schedule from GTFS, the resulting Route objects will not have reference to the network route taken.\n",
      "WARNING:root:Route needs to have a network route composed of a list of network links that the vehicle on this route traverses. If read the Schedule from GTFS, the resulting Route objects will not have reference to the network route taken.\n",
      "WARNING:root:Route needs to have a network route composed of a list of network links that the vehicle on this route traverses. If read the Schedule from GTFS, the resulting Route objects will not have reference to the network route taken.\n",
      "WARNING:root:Route needs to have a network route composed of a list of network links that the vehicle on this route traverses. If read the Schedule from GTFS, the resulting Route objects will not have reference to the network route taken.\n",
      "WARNING:root:Route needs to have a network route composed of a list of network links that the vehicle on this route traverses. If read the Schedule from GTFS, the resulting Route objects will not have reference to the network route taken.\n",
      "WARNING:root:Route needs to have a network route composed of a list of network links that the vehicle on this route traverses. If read the Schedule from GTFS, the resulting Route objects will not have reference to the network route taken.\n",
      "WARNING:root:Route needs to have a network route composed of a list of network links that the vehicle on this route traverses. If read the Schedule from GTFS, the resulting Route objects will not have reference to the network route taken.\n",
      "WARNING:root:Route needs to have a network route composed of a list of network links that the vehicle on this route traverses. If read the Schedule from GTFS, the resulting Route objects will not have reference to the network route taken.\n",
      "WARNING:root:Route needs to have a network route composed of a list of network links that the vehicle on this route traverses. If read the Schedule from GTFS, the resulting Route objects will not have reference to the network route taken.\n",
      "WARNING:root:Route needs to have a network route composed of a list of network links that the vehicle on this route traverses. If read the Schedule from GTFS, the resulting Route objects will not have reference to the network route taken.\n",
      "WARNING:root:Route needs to have a network route composed of a list of network links that the vehicle on this route traverses. If read the Schedule from GTFS, the resulting Route objects will not have reference to the network route taken.\n",
      "WARNING:root:Route needs to have a network route composed of a list of network links that the vehicle on this route traverses. If read the Schedule from GTFS, the resulting Route objects will not have reference to the network route taken.\n",
      "WARNING:root:Route needs to have a network route composed of a list of network links that the vehicle on this route traverses. If read the Schedule from GTFS, the resulting Route objects will not have reference to the network route taken.\n",
      "WARNING:root:Route needs to have a network route composed of a list of network links that the vehicle on this route traverses. If read the Schedule from GTFS, the resulting Route objects will not have reference to the network route taken.\n",
      "WARNING:root:Route needs to have a network route composed of a list of network links that the vehicle on this route traverses. If read the Schedule from GTFS, the resulting Route objects will not have reference to the network route taken.\n",
      "WARNING:root:Route needs to have a network route composed of a list of network links that the vehicle on this route traverses. If read the Schedule from GTFS, the resulting Route objects will not have reference to the network route taken.\n",
      "WARNING:root:Route needs to have a network route composed of a list of network links that the vehicle on this route traverses. If read the Schedule from GTFS, the resulting Route objects will not have reference to the network route taken.\n",
      "WARNING:root:Route needs to have a network route composed of a list of network links that the vehicle on this route traverses. If read the Schedule from GTFS, the resulting Route objects will not have reference to the network route taken.\n",
      "WARNING:root:Route needs to have a network route composed of a list of network links that the vehicle on this route traverses. If read the Schedule from GTFS, the resulting Route objects will not have reference to the network route taken.\n",
      "WARNING:root:Route needs to have a network route composed of a list of network links that the vehicle on this route traverses. If read the Schedule from GTFS, the resulting Route objects will not have reference to the network route taken.\n",
      "WARNING:root:Route needs to have a network route composed of a list of network links that the vehicle on this route traverses. If read the Schedule from GTFS, the resulting Route objects will not have reference to the network route taken.\n"
     ]
    },
    {
     "name": "stderr",
     "output_type": "stream",
     "text": [
      "WARNING:root:Route needs to have a network route composed of a list of network links that the vehicle on this route traverses. If read the Schedule from GTFS, the resulting Route objects will not have reference to the network route taken.\n",
      "WARNING:root:Route needs to have a network route composed of a list of network links that the vehicle on this route traverses. If read the Schedule from GTFS, the resulting Route objects will not have reference to the network route taken.\n",
      "WARNING:root:The stop(s) along your route don't have arrival and departure offsets. This is likely a route with one stop - consider validating your schedule.\n",
      "WARNING:root:Route needs to have a network route composed of a list of network links that the vehicle on this route traverses. If read the Schedule from GTFS, the resulting Route objects will not have reference to the network route taken.\n",
      "WARNING:root:Route needs to have a network route composed of a list of network links that the vehicle on this route traverses. If read the Schedule from GTFS, the resulting Route objects will not have reference to the network route taken.\n",
      "WARNING:root:Route needs to have a network route composed of a list of network links that the vehicle on this route traverses. If read the Schedule from GTFS, the resulting Route objects will not have reference to the network route taken.\n",
      "WARNING:root:Route needs to have a network route composed of a list of network links that the vehicle on this route traverses. If read the Schedule from GTFS, the resulting Route objects will not have reference to the network route taken.\n",
      "WARNING:root:Route needs to have a network route composed of a list of network links that the vehicle on this route traverses. If read the Schedule from GTFS, the resulting Route objects will not have reference to the network route taken.\n",
      "WARNING:root:Route needs to have a network route composed of a list of network links that the vehicle on this route traverses. If read the Schedule from GTFS, the resulting Route objects will not have reference to the network route taken.\n",
      "WARNING:root:Route needs to have a network route composed of a list of network links that the vehicle on this route traverses. If read the Schedule from GTFS, the resulting Route objects will not have reference to the network route taken.\n",
      "WARNING:root:Route needs to have a network route composed of a list of network links that the vehicle on this route traverses. If read the Schedule from GTFS, the resulting Route objects will not have reference to the network route taken.\n",
      "WARNING:root:Route needs to have a network route composed of a list of network links that the vehicle on this route traverses. If read the Schedule from GTFS, the resulting Route objects will not have reference to the network route taken.\n",
      "WARNING:root:Route needs to have a network route composed of a list of network links that the vehicle on this route traverses. If read the Schedule from GTFS, the resulting Route objects will not have reference to the network route taken.\n",
      "WARNING:root:Route needs to have a network route composed of a list of network links that the vehicle on this route traverses. If read the Schedule from GTFS, the resulting Route objects will not have reference to the network route taken.\n",
      "WARNING:root:Route needs to have a network route composed of a list of network links that the vehicle on this route traverses. If read the Schedule from GTFS, the resulting Route objects will not have reference to the network route taken.\n",
      "WARNING:root:Route needs to have a network route composed of a list of network links that the vehicle on this route traverses. If read the Schedule from GTFS, the resulting Route objects will not have reference to the network route taken.\n",
      "WARNING:root:Route needs to have a network route composed of a list of network links that the vehicle on this route traverses. If read the Schedule from GTFS, the resulting Route objects will not have reference to the network route taken.\n",
      "WARNING:root:The stop(s) along your route don't have arrival and departure offsets. This is likely a route with one stop - consider validating your schedule.\n",
      "WARNING:root:Route needs to have a network route composed of a list of network links that the vehicle on this route traverses. If read the Schedule from GTFS, the resulting Route objects will not have reference to the network route taken.\n",
      "WARNING:root:The stop(s) along your route don't have arrival and departure offsets. This is likely a route with one stop - consider validating your schedule.\n",
      "WARNING:root:Route needs to have a network route composed of a list of network links that the vehicle on this route traverses. If read the Schedule from GTFS, the resulting Route objects will not have reference to the network route taken.\n",
      "WARNING:root:The stop(s) along your route don't have arrival and departure offsets. This is likely a route with one stop - consider validating your schedule.\n",
      "WARNING:root:Route needs to have a network route composed of a list of network links that the vehicle on this route traverses. If read the Schedule from GTFS, the resulting Route objects will not have reference to the network route taken.\n",
      "WARNING:root:Route needs to have a network route composed of a list of network links that the vehicle on this route traverses. If read the Schedule from GTFS, the resulting Route objects will not have reference to the network route taken.\n",
      "WARNING:root:Route needs to have a network route composed of a list of network links that the vehicle on this route traverses. If read the Schedule from GTFS, the resulting Route objects will not have reference to the network route taken.\n",
      "WARNING:root:Route needs to have a network route composed of a list of network links that the vehicle on this route traverses. If read the Schedule from GTFS, the resulting Route objects will not have reference to the network route taken.\n",
      "WARNING:root:Route needs to have a network route composed of a list of network links that the vehicle on this route traverses. If read the Schedule from GTFS, the resulting Route objects will not have reference to the network route taken.\n",
      "WARNING:root:Route needs to have a network route composed of a list of network links that the vehicle on this route traverses. If read the Schedule from GTFS, the resulting Route objects will not have reference to the network route taken.\n",
      "WARNING:root:Route needs to have a network route composed of a list of network links that the vehicle on this route traverses. If read the Schedule from GTFS, the resulting Route objects will not have reference to the network route taken.\n",
      "WARNING:root:Route needs to have a network route composed of a list of network links that the vehicle on this route traverses. If read the Schedule from GTFS, the resulting Route objects will not have reference to the network route taken.\n",
      "WARNING:root:Route needs to have a network route composed of a list of network links that the vehicle on this route traverses. If read the Schedule from GTFS, the resulting Route objects will not have reference to the network route taken.\n",
      "WARNING:root:Route needs to have a network route composed of a list of network links that the vehicle on this route traverses. If read the Schedule from GTFS, the resulting Route objects will not have reference to the network route taken.\n",
      "WARNING:root:Route needs to have a network route composed of a list of network links that the vehicle on this route traverses. If read the Schedule from GTFS, the resulting Route objects will not have reference to the network route taken.\n",
      "WARNING:root:Route needs to have a network route composed of a list of network links that the vehicle on this route traverses. If read the Schedule from GTFS, the resulting Route objects will not have reference to the network route taken.\n",
      "WARNING:root:Route needs to have a network route composed of a list of network links that the vehicle on this route traverses. If read the Schedule from GTFS, the resulting Route objects will not have reference to the network route taken.\n",
      "WARNING:root:Route needs to have a network route composed of a list of network links that the vehicle on this route traverses. If read the Schedule from GTFS, the resulting Route objects will not have reference to the network route taken.\n"
     ]
    },
    {
     "name": "stderr",
     "output_type": "stream",
     "text": [
      "WARNING:root:Route needs to have a network route composed of a list of network links that the vehicle on this route traverses. If read the Schedule from GTFS, the resulting Route objects will not have reference to the network route taken.\n",
      "WARNING:root:Route needs to have a network route composed of a list of network links that the vehicle on this route traverses. If read the Schedule from GTFS, the resulting Route objects will not have reference to the network route taken.\n",
      "WARNING:root:Route needs to have a network route composed of a list of network links that the vehicle on this route traverses. If read the Schedule from GTFS, the resulting Route objects will not have reference to the network route taken.\n",
      "WARNING:root:Route needs to have a network route composed of a list of network links that the vehicle on this route traverses. If read the Schedule from GTFS, the resulting Route objects will not have reference to the network route taken.\n",
      "WARNING:root:Route needs to have a network route composed of a list of network links that the vehicle on this route traverses. If read the Schedule from GTFS, the resulting Route objects will not have reference to the network route taken.\n",
      "WARNING:root:Route needs to have a network route composed of a list of network links that the vehicle on this route traverses. If read the Schedule from GTFS, the resulting Route objects will not have reference to the network route taken.\n",
      "WARNING:root:Route needs to have a network route composed of a list of network links that the vehicle on this route traverses. If read the Schedule from GTFS, the resulting Route objects will not have reference to the network route taken.\n",
      "WARNING:root:Route needs to have a network route composed of a list of network links that the vehicle on this route traverses. If read the Schedule from GTFS, the resulting Route objects will not have reference to the network route taken.\n",
      "WARNING:root:Route needs to have a network route composed of a list of network links that the vehicle on this route traverses. If read the Schedule from GTFS, the resulting Route objects will not have reference to the network route taken.\n",
      "WARNING:root:Route needs to have a network route composed of a list of network links that the vehicle on this route traverses. If read the Schedule from GTFS, the resulting Route objects will not have reference to the network route taken.\n",
      "WARNING:root:Route needs to have a network route composed of a list of network links that the vehicle on this route traverses. If read the Schedule from GTFS, the resulting Route objects will not have reference to the network route taken.\n",
      "WARNING:root:Route needs to have a network route composed of a list of network links that the vehicle on this route traverses. If read the Schedule from GTFS, the resulting Route objects will not have reference to the network route taken.\n",
      "WARNING:root:Route needs to have a network route composed of a list of network links that the vehicle on this route traverses. If read the Schedule from GTFS, the resulting Route objects will not have reference to the network route taken.\n",
      "WARNING:root:Route needs to have a network route composed of a list of network links that the vehicle on this route traverses. If read the Schedule from GTFS, the resulting Route objects will not have reference to the network route taken.\n",
      "WARNING:root:Route needs to have a network route composed of a list of network links that the vehicle on this route traverses. If read the Schedule from GTFS, the resulting Route objects will not have reference to the network route taken.\n",
      "WARNING:root:Route needs to have a network route composed of a list of network links that the vehicle on this route traverses. If read the Schedule from GTFS, the resulting Route objects will not have reference to the network route taken.\n",
      "WARNING:root:Route needs to have a network route composed of a list of network links that the vehicle on this route traverses. If read the Schedule from GTFS, the resulting Route objects will not have reference to the network route taken.\n",
      "WARNING:root:Route needs to have a network route composed of a list of network links that the vehicle on this route traverses. If read the Schedule from GTFS, the resulting Route objects will not have reference to the network route taken.\n",
      "WARNING:root:Route needs to have a network route composed of a list of network links that the vehicle on this route traverses. If read the Schedule from GTFS, the resulting Route objects will not have reference to the network route taken.\n",
      "WARNING:root:Route needs to have a network route composed of a list of network links that the vehicle on this route traverses. If read the Schedule from GTFS, the resulting Route objects will not have reference to the network route taken.\n",
      "WARNING:root:Route needs to have a network route composed of a list of network links that the vehicle on this route traverses. If read the Schedule from GTFS, the resulting Route objects will not have reference to the network route taken.\n",
      "WARNING:root:Route needs to have a network route composed of a list of network links that the vehicle on this route traverses. If read the Schedule from GTFS, the resulting Route objects will not have reference to the network route taken.\n",
      "WARNING:root:Route needs to have a network route composed of a list of network links that the vehicle on this route traverses. If read the Schedule from GTFS, the resulting Route objects will not have reference to the network route taken.\n",
      "WARNING:root:Route needs to have a network route composed of a list of network links that the vehicle on this route traverses. If read the Schedule from GTFS, the resulting Route objects will not have reference to the network route taken.\n",
      "WARNING:root:Route needs to have a network route composed of a list of network links that the vehicle on this route traverses. If read the Schedule from GTFS, the resulting Route objects will not have reference to the network route taken.\n",
      "WARNING:root:Route needs to have a network route composed of a list of network links that the vehicle on this route traverses. If read the Schedule from GTFS, the resulting Route objects will not have reference to the network route taken.\n",
      "WARNING:root:Route needs to have a network route composed of a list of network links that the vehicle on this route traverses. If read the Schedule from GTFS, the resulting Route objects will not have reference to the network route taken.\n",
      "WARNING:root:Route needs to have a network route composed of a list of network links that the vehicle on this route traverses. If read the Schedule from GTFS, the resulting Route objects will not have reference to the network route taken.\n",
      "WARNING:root:Route needs to have a network route composed of a list of network links that the vehicle on this route traverses. If read the Schedule from GTFS, the resulting Route objects will not have reference to the network route taken.\n",
      "WARNING:root:Route needs to have a network route composed of a list of network links that the vehicle on this route traverses. If read the Schedule from GTFS, the resulting Route objects will not have reference to the network route taken.\n",
      "WARNING:root:Route needs to have a network route composed of a list of network links that the vehicle on this route traverses. If read the Schedule from GTFS, the resulting Route objects will not have reference to the network route taken.\n",
      "WARNING:root:Route needs to have a network route composed of a list of network links that the vehicle on this route traverses. If read the Schedule from GTFS, the resulting Route objects will not have reference to the network route taken.\n",
      "WARNING:root:Route needs to have a network route composed of a list of network links that the vehicle on this route traverses. If read the Schedule from GTFS, the resulting Route objects will not have reference to the network route taken.\n",
      "WARNING:root:Route needs to have a network route composed of a list of network links that the vehicle on this route traverses. If read the Schedule from GTFS, the resulting Route objects will not have reference to the network route taken.\n",
      "WARNING:root:Route needs to have a network route composed of a list of network links that the vehicle on this route traverses. If read the Schedule from GTFS, the resulting Route objects will not have reference to the network route taken.\n"
     ]
    },
    {
     "name": "stderr",
     "output_type": "stream",
     "text": [
      "WARNING:root:Route needs to have a network route composed of a list of network links that the vehicle on this route traverses. If read the Schedule from GTFS, the resulting Route objects will not have reference to the network route taken.\n",
      "WARNING:root:Route needs to have a network route composed of a list of network links that the vehicle on this route traverses. If read the Schedule from GTFS, the resulting Route objects will not have reference to the network route taken.\n",
      "WARNING:root:Route needs to have a network route composed of a list of network links that the vehicle on this route traverses. If read the Schedule from GTFS, the resulting Route objects will not have reference to the network route taken.\n",
      "WARNING:root:Route needs to have a network route composed of a list of network links that the vehicle on this route traverses. If read the Schedule from GTFS, the resulting Route objects will not have reference to the network route taken.\n",
      "WARNING:root:Route needs to have a network route composed of a list of network links that the vehicle on this route traverses. If read the Schedule from GTFS, the resulting Route objects will not have reference to the network route taken.\n",
      "WARNING:root:Route needs to have a network route composed of a list of network links that the vehicle on this route traverses. If read the Schedule from GTFS, the resulting Route objects will not have reference to the network route taken.\n",
      "WARNING:root:Route needs to have a network route composed of a list of network links that the vehicle on this route traverses. If read the Schedule from GTFS, the resulting Route objects will not have reference to the network route taken.\n",
      "WARNING:root:Route needs to have a network route composed of a list of network links that the vehicle on this route traverses. If read the Schedule from GTFS, the resulting Route objects will not have reference to the network route taken.\n",
      "WARNING:root:Route needs to have a network route composed of a list of network links that the vehicle on this route traverses. If read the Schedule from GTFS, the resulting Route objects will not have reference to the network route taken.\n",
      "WARNING:root:Route needs to have a network route composed of a list of network links that the vehicle on this route traverses. If read the Schedule from GTFS, the resulting Route objects will not have reference to the network route taken.\n",
      "WARNING:root:Route needs to have a network route composed of a list of network links that the vehicle on this route traverses. If read the Schedule from GTFS, the resulting Route objects will not have reference to the network route taken.\n",
      "WARNING:root:Route needs to have a network route composed of a list of network links that the vehicle on this route traverses. If read the Schedule from GTFS, the resulting Route objects will not have reference to the network route taken.\n",
      "WARNING:root:Route needs to have a network route composed of a list of network links that the vehicle on this route traverses. If read the Schedule from GTFS, the resulting Route objects will not have reference to the network route taken.\n",
      "WARNING:root:Route needs to have a network route composed of a list of network links that the vehicle on this route traverses. If read the Schedule from GTFS, the resulting Route objects will not have reference to the network route taken.\n",
      "WARNING:root:Route needs to have a network route composed of a list of network links that the vehicle on this route traverses. If read the Schedule from GTFS, the resulting Route objects will not have reference to the network route taken.\n",
      "WARNING:root:Route needs to have a network route composed of a list of network links that the vehicle on this route traverses. If read the Schedule from GTFS, the resulting Route objects will not have reference to the network route taken.\n",
      "WARNING:root:Route needs to have a network route composed of a list of network links that the vehicle on this route traverses. If read the Schedule from GTFS, the resulting Route objects will not have reference to the network route taken.\n",
      "WARNING:root:Route needs to have a network route composed of a list of network links that the vehicle on this route traverses. If read the Schedule from GTFS, the resulting Route objects will not have reference to the network route taken.\n",
      "WARNING:root:Route needs to have a network route composed of a list of network links that the vehicle on this route traverses. If read the Schedule from GTFS, the resulting Route objects will not have reference to the network route taken.\n",
      "WARNING:root:Route needs to have a network route composed of a list of network links that the vehicle on this route traverses. If read the Schedule from GTFS, the resulting Route objects will not have reference to the network route taken.\n",
      "WARNING:root:Route needs to have a network route composed of a list of network links that the vehicle on this route traverses. If read the Schedule from GTFS, the resulting Route objects will not have reference to the network route taken.\n",
      "WARNING:root:Route needs to have a network route composed of a list of network links that the vehicle on this route traverses. If read the Schedule from GTFS, the resulting Route objects will not have reference to the network route taken.\n",
      "WARNING:root:Route needs to have a network route composed of a list of network links that the vehicle on this route traverses. If read the Schedule from GTFS, the resulting Route objects will not have reference to the network route taken.\n",
      "WARNING:root:Route needs to have a network route composed of a list of network links that the vehicle on this route traverses. If read the Schedule from GTFS, the resulting Route objects will not have reference to the network route taken.\n",
      "WARNING:root:Route needs to have a network route composed of a list of network links that the vehicle on this route traverses. If read the Schedule from GTFS, the resulting Route objects will not have reference to the network route taken.\n",
      "WARNING:root:Route needs to have a network route composed of a list of network links that the vehicle on this route traverses. If read the Schedule from GTFS, the resulting Route objects will not have reference to the network route taken.\n",
      "WARNING:root:Route needs to have a network route composed of a list of network links that the vehicle on this route traverses. If read the Schedule from GTFS, the resulting Route objects will not have reference to the network route taken.\n",
      "WARNING:root:Route needs to have a network route composed of a list of network links that the vehicle on this route traverses. If read the Schedule from GTFS, the resulting Route objects will not have reference to the network route taken.\n",
      "WARNING:root:Route needs to have a network route composed of a list of network links that the vehicle on this route traverses. If read the Schedule from GTFS, the resulting Route objects will not have reference to the network route taken.\n",
      "WARNING:root:Route needs to have a network route composed of a list of network links that the vehicle on this route traverses. If read the Schedule from GTFS, the resulting Route objects will not have reference to the network route taken.\n",
      "WARNING:root:Route needs to have a network route composed of a list of network links that the vehicle on this route traverses. If read the Schedule from GTFS, the resulting Route objects will not have reference to the network route taken.\n",
      "WARNING:root:Route needs to have a network route composed of a list of network links that the vehicle on this route traverses. If read the Schedule from GTFS, the resulting Route objects will not have reference to the network route taken.\n",
      "WARNING:root:Route needs to have a network route composed of a list of network links that the vehicle on this route traverses. If read the Schedule from GTFS, the resulting Route objects will not have reference to the network route taken.\n",
      "WARNING:root:Route needs to have a network route composed of a list of network links that the vehicle on this route traverses. If read the Schedule from GTFS, the resulting Route objects will not have reference to the network route taken.\n",
      "WARNING:root:Route needs to have a network route composed of a list of network links that the vehicle on this route traverses. If read the Schedule from GTFS, the resulting Route objects will not have reference to the network route taken.\n"
     ]
    },
    {
     "name": "stderr",
     "output_type": "stream",
     "text": [
      "WARNING:root:Route needs to have a network route composed of a list of network links that the vehicle on this route traverses. If read the Schedule from GTFS, the resulting Route objects will not have reference to the network route taken.\n",
      "WARNING:root:Route needs to have a network route composed of a list of network links that the vehicle on this route traverses. If read the Schedule from GTFS, the resulting Route objects will not have reference to the network route taken.\n",
      "WARNING:root:Route needs to have a network route composed of a list of network links that the vehicle on this route traverses. If read the Schedule from GTFS, the resulting Route objects will not have reference to the network route taken.\n",
      "WARNING:root:Route needs to have a network route composed of a list of network links that the vehicle on this route traverses. If read the Schedule from GTFS, the resulting Route objects will not have reference to the network route taken.\n",
      "WARNING:root:Route needs to have a network route composed of a list of network links that the vehicle on this route traverses. If read the Schedule from GTFS, the resulting Route objects will not have reference to the network route taken.\n",
      "WARNING:root:The stop(s) along your route don't have arrival and departure offsets. This is likely a route with one stop - consider validating your schedule.\n",
      "WARNING:root:Route needs to have a network route composed of a list of network links that the vehicle on this route traverses. If read the Schedule from GTFS, the resulting Route objects will not have reference to the network route taken.\n",
      "WARNING:root:Route needs to have a network route composed of a list of network links that the vehicle on this route traverses. If read the Schedule from GTFS, the resulting Route objects will not have reference to the network route taken.\n",
      "WARNING:root:Route needs to have a network route composed of a list of network links that the vehicle on this route traverses. If read the Schedule from GTFS, the resulting Route objects will not have reference to the network route taken.\n",
      "WARNING:root:Route needs to have a network route composed of a list of network links that the vehicle on this route traverses. If read the Schedule from GTFS, the resulting Route objects will not have reference to the network route taken.\n",
      "WARNING:root:Route needs to have a network route composed of a list of network links that the vehicle on this route traverses. If read the Schedule from GTFS, the resulting Route objects will not have reference to the network route taken.\n",
      "WARNING:root:Route needs to have a network route composed of a list of network links that the vehicle on this route traverses. If read the Schedule from GTFS, the resulting Route objects will not have reference to the network route taken.\n",
      "WARNING:root:Route needs to have a network route composed of a list of network links that the vehicle on this route traverses. If read the Schedule from GTFS, the resulting Route objects will not have reference to the network route taken.\n",
      "WARNING:root:Route needs to have a network route composed of a list of network links that the vehicle on this route traverses. If read the Schedule from GTFS, the resulting Route objects will not have reference to the network route taken.\n",
      "WARNING:root:Route needs to have a network route composed of a list of network links that the vehicle on this route traverses. If read the Schedule from GTFS, the resulting Route objects will not have reference to the network route taken.\n",
      "WARNING:root:Route needs to have a network route composed of a list of network links that the vehicle on this route traverses. If read the Schedule from GTFS, the resulting Route objects will not have reference to the network route taken.\n",
      "WARNING:root:Route needs to have a network route composed of a list of network links that the vehicle on this route traverses. If read the Schedule from GTFS, the resulting Route objects will not have reference to the network route taken.\n",
      "WARNING:root:Route needs to have a network route composed of a list of network links that the vehicle on this route traverses. If read the Schedule from GTFS, the resulting Route objects will not have reference to the network route taken.\n",
      "WARNING:root:Route needs to have a network route composed of a list of network links that the vehicle on this route traverses. If read the Schedule from GTFS, the resulting Route objects will not have reference to the network route taken.\n",
      "WARNING:root:Route needs to have a network route composed of a list of network links that the vehicle on this route traverses. If read the Schedule from GTFS, the resulting Route objects will not have reference to the network route taken.\n",
      "WARNING:root:Route needs to have a network route composed of a list of network links that the vehicle on this route traverses. If read the Schedule from GTFS, the resulting Route objects will not have reference to the network route taken.\n",
      "WARNING:root:Route needs to have a network route composed of a list of network links that the vehicle on this route traverses. If read the Schedule from GTFS, the resulting Route objects will not have reference to the network route taken.\n",
      "WARNING:root:Route needs to have a network route composed of a list of network links that the vehicle on this route traverses. If read the Schedule from GTFS, the resulting Route objects will not have reference to the network route taken.\n",
      "WARNING:root:Route needs to have a network route composed of a list of network links that the vehicle on this route traverses. If read the Schedule from GTFS, the resulting Route objects will not have reference to the network route taken.\n",
      "WARNING:root:Route needs to have a network route composed of a list of network links that the vehicle on this route traverses. If read the Schedule from GTFS, the resulting Route objects will not have reference to the network route taken.\n",
      "WARNING:root:Route needs to have a network route composed of a list of network links that the vehicle on this route traverses. If read the Schedule from GTFS, the resulting Route objects will not have reference to the network route taken.\n",
      "WARNING:root:Route needs to have a network route composed of a list of network links that the vehicle on this route traverses. If read the Schedule from GTFS, the resulting Route objects will not have reference to the network route taken.\n",
      "WARNING:root:Route needs to have a network route composed of a list of network links that the vehicle on this route traverses. If read the Schedule from GTFS, the resulting Route objects will not have reference to the network route taken.\n",
      "WARNING:root:Route needs to have a network route composed of a list of network links that the vehicle on this route traverses. If read the Schedule from GTFS, the resulting Route objects will not have reference to the network route taken.\n",
      "WARNING:root:Route needs to have a network route composed of a list of network links that the vehicle on this route traverses. If read the Schedule from GTFS, the resulting Route objects will not have reference to the network route taken.\n",
      "WARNING:root:Route needs to have a network route composed of a list of network links that the vehicle on this route traverses. If read the Schedule from GTFS, the resulting Route objects will not have reference to the network route taken.\n",
      "WARNING:root:Route needs to have a network route composed of a list of network links that the vehicle on this route traverses. If read the Schedule from GTFS, the resulting Route objects will not have reference to the network route taken.\n",
      "WARNING:root:Route needs to have a network route composed of a list of network links that the vehicle on this route traverses. If read the Schedule from GTFS, the resulting Route objects will not have reference to the network route taken.\n",
      "WARNING:root:The stop(s) along your route don't have arrival and departure offsets. This is likely a route with one stop - consider validating your schedule.\n",
      "WARNING:root:Route needs to have a network route composed of a list of network links that the vehicle on this route traverses. If read the Schedule from GTFS, the resulting Route objects will not have reference to the network route taken.\n"
     ]
    },
    {
     "name": "stderr",
     "output_type": "stream",
     "text": [
      "WARNING:root:The stop(s) along your route don't have arrival and departure offsets. This is likely a route with one stop - consider validating your schedule.\n",
      "WARNING:root:Route needs to have a network route composed of a list of network links that the vehicle on this route traverses. If read the Schedule from GTFS, the resulting Route objects will not have reference to the network route taken.\n",
      "WARNING:root:The stop(s) along your route don't have arrival and departure offsets. This is likely a route with one stop - consider validating your schedule.\n",
      "WARNING:root:Route needs to have a network route composed of a list of network links that the vehicle on this route traverses. If read the Schedule from GTFS, the resulting Route objects will not have reference to the network route taken.\n",
      "WARNING:root:Route needs to have a network route composed of a list of network links that the vehicle on this route traverses. If read the Schedule from GTFS, the resulting Route objects will not have reference to the network route taken.\n",
      "WARNING:root:Route needs to have a network route composed of a list of network links that the vehicle on this route traverses. If read the Schedule from GTFS, the resulting Route objects will not have reference to the network route taken.\n",
      "WARNING:root:Route needs to have a network route composed of a list of network links that the vehicle on this route traverses. If read the Schedule from GTFS, the resulting Route objects will not have reference to the network route taken.\n",
      "WARNING:root:Route needs to have a network route composed of a list of network links that the vehicle on this route traverses. If read the Schedule from GTFS, the resulting Route objects will not have reference to the network route taken.\n",
      "WARNING:root:Route needs to have a network route composed of a list of network links that the vehicle on this route traverses. If read the Schedule from GTFS, the resulting Route objects will not have reference to the network route taken.\n",
      "WARNING:root:Route needs to have a network route composed of a list of network links that the vehicle on this route traverses. If read the Schedule from GTFS, the resulting Route objects will not have reference to the network route taken.\n",
      "WARNING:root:Route needs to have a network route composed of a list of network links that the vehicle on this route traverses. If read the Schedule from GTFS, the resulting Route objects will not have reference to the network route taken.\n",
      "WARNING:root:Route needs to have a network route composed of a list of network links that the vehicle on this route traverses. If read the Schedule from GTFS, the resulting Route objects will not have reference to the network route taken.\n",
      "WARNING:root:Route needs to have a network route composed of a list of network links that the vehicle on this route traverses. If read the Schedule from GTFS, the resulting Route objects will not have reference to the network route taken.\n",
      "WARNING:root:Route needs to have a network route composed of a list of network links that the vehicle on this route traverses. If read the Schedule from GTFS, the resulting Route objects will not have reference to the network route taken.\n",
      "WARNING:root:Route needs to have a network route composed of a list of network links that the vehicle on this route traverses. If read the Schedule from GTFS, the resulting Route objects will not have reference to the network route taken.\n",
      "WARNING:root:Route needs to have a network route composed of a list of network links that the vehicle on this route traverses. If read the Schedule from GTFS, the resulting Route objects will not have reference to the network route taken.\n",
      "WARNING:root:Route needs to have a network route composed of a list of network links that the vehicle on this route traverses. If read the Schedule from GTFS, the resulting Route objects will not have reference to the network route taken.\n",
      "WARNING:root:Route needs to have a network route composed of a list of network links that the vehicle on this route traverses. If read the Schedule from GTFS, the resulting Route objects will not have reference to the network route taken.\n",
      "WARNING:root:Route needs to have a network route composed of a list of network links that the vehicle on this route traverses. If read the Schedule from GTFS, the resulting Route objects will not have reference to the network route taken.\n",
      "WARNING:root:Route needs to have a network route composed of a list of network links that the vehicle on this route traverses. If read the Schedule from GTFS, the resulting Route objects will not have reference to the network route taken.\n",
      "WARNING:root:Route needs to have a network route composed of a list of network links that the vehicle on this route traverses. If read the Schedule from GTFS, the resulting Route objects will not have reference to the network route taken.\n",
      "WARNING:root:Route needs to have a network route composed of a list of network links that the vehicle on this route traverses. If read the Schedule from GTFS, the resulting Route objects will not have reference to the network route taken.\n",
      "WARNING:root:Route needs to have a network route composed of a list of network links that the vehicle on this route traverses. If read the Schedule from GTFS, the resulting Route objects will not have reference to the network route taken.\n",
      "WARNING:root:Route needs to have a network route composed of a list of network links that the vehicle on this route traverses. If read the Schedule from GTFS, the resulting Route objects will not have reference to the network route taken.\n",
      "WARNING:root:Route needs to have a network route composed of a list of network links that the vehicle on this route traverses. If read the Schedule from GTFS, the resulting Route objects will not have reference to the network route taken.\n",
      "WARNING:root:Route needs to have a network route composed of a list of network links that the vehicle on this route traverses. If read the Schedule from GTFS, the resulting Route objects will not have reference to the network route taken.\n",
      "WARNING:root:The stop(s) along your route don't have arrival and departure offsets. This is likely a route with one stop - consider validating your schedule.\n",
      "WARNING:root:Route needs to have a network route composed of a list of network links that the vehicle on this route traverses. If read the Schedule from GTFS, the resulting Route objects will not have reference to the network route taken.\n",
      "WARNING:root:Route needs to have a network route composed of a list of network links that the vehicle on this route traverses. If read the Schedule from GTFS, the resulting Route objects will not have reference to the network route taken.\n",
      "WARNING:root:Route needs to have a network route composed of a list of network links that the vehicle on this route traverses. If read the Schedule from GTFS, the resulting Route objects will not have reference to the network route taken.\n",
      "WARNING:root:Route needs to have a network route composed of a list of network links that the vehicle on this route traverses. If read the Schedule from GTFS, the resulting Route objects will not have reference to the network route taken.\n",
      "WARNING:root:Route needs to have a network route composed of a list of network links that the vehicle on this route traverses. If read the Schedule from GTFS, the resulting Route objects will not have reference to the network route taken.\n",
      "WARNING:root:Route needs to have a network route composed of a list of network links that the vehicle on this route traverses. If read the Schedule from GTFS, the resulting Route objects will not have reference to the network route taken.\n",
      "WARNING:root:Route needs to have a network route composed of a list of network links that the vehicle on this route traverses. If read the Schedule from GTFS, the resulting Route objects will not have reference to the network route taken.\n",
      "WARNING:root:Route needs to have a network route composed of a list of network links that the vehicle on this route traverses. If read the Schedule from GTFS, the resulting Route objects will not have reference to the network route taken.\n",
      "WARNING:root:Route needs to have a network route composed of a list of network links that the vehicle on this route traverses. If read the Schedule from GTFS, the resulting Route objects will not have reference to the network route taken.\n"
     ]
    },
    {
     "name": "stderr",
     "output_type": "stream",
     "text": [
      "WARNING:root:Route needs to have a network route composed of a list of network links that the vehicle on this route traverses. If read the Schedule from GTFS, the resulting Route objects will not have reference to the network route taken.\n",
      "WARNING:root:Route needs to have a network route composed of a list of network links that the vehicle on this route traverses. If read the Schedule from GTFS, the resulting Route objects will not have reference to the network route taken.\n",
      "WARNING:root:Route needs to have a network route composed of a list of network links that the vehicle on this route traverses. If read the Schedule from GTFS, the resulting Route objects will not have reference to the network route taken.\n",
      "WARNING:root:Route needs to have a network route composed of a list of network links that the vehicle on this route traverses. If read the Schedule from GTFS, the resulting Route objects will not have reference to the network route taken.\n",
      "WARNING:root:Route needs to have a network route composed of a list of network links that the vehicle on this route traverses. If read the Schedule from GTFS, the resulting Route objects will not have reference to the network route taken.\n",
      "WARNING:root:Route needs to have a network route composed of a list of network links that the vehicle on this route traverses. If read the Schedule from GTFS, the resulting Route objects will not have reference to the network route taken.\n",
      "WARNING:root:Route needs to have a network route composed of a list of network links that the vehicle on this route traverses. If read the Schedule from GTFS, the resulting Route objects will not have reference to the network route taken.\n",
      "WARNING:root:Route needs to have a network route composed of a list of network links that the vehicle on this route traverses. If read the Schedule from GTFS, the resulting Route objects will not have reference to the network route taken.\n",
      "WARNING:root:Route needs to have a network route composed of a list of network links that the vehicle on this route traverses. If read the Schedule from GTFS, the resulting Route objects will not have reference to the network route taken.\n",
      "WARNING:root:Route needs to have a network route composed of a list of network links that the vehicle on this route traverses. If read the Schedule from GTFS, the resulting Route objects will not have reference to the network route taken.\n",
      "WARNING:root:Route needs to have a network route composed of a list of network links that the vehicle on this route traverses. If read the Schedule from GTFS, the resulting Route objects will not have reference to the network route taken.\n",
      "WARNING:root:Route needs to have a network route composed of a list of network links that the vehicle on this route traverses. If read the Schedule from GTFS, the resulting Route objects will not have reference to the network route taken.\n",
      "WARNING:root:Route needs to have a network route composed of a list of network links that the vehicle on this route traverses. If read the Schedule from GTFS, the resulting Route objects will not have reference to the network route taken.\n",
      "WARNING:root:Route needs to have a network route composed of a list of network links that the vehicle on this route traverses. If read the Schedule from GTFS, the resulting Route objects will not have reference to the network route taken.\n",
      "WARNING:root:Route needs to have a network route composed of a list of network links that the vehicle on this route traverses. If read the Schedule from GTFS, the resulting Route objects will not have reference to the network route taken.\n",
      "WARNING:root:Route needs to have a network route composed of a list of network links that the vehicle on this route traverses. If read the Schedule from GTFS, the resulting Route objects will not have reference to the network route taken.\n",
      "WARNING:root:Route needs to have a network route composed of a list of network links that the vehicle on this route traverses. If read the Schedule from GTFS, the resulting Route objects will not have reference to the network route taken.\n",
      "WARNING:root:Route needs to have a network route composed of a list of network links that the vehicle on this route traverses. If read the Schedule from GTFS, the resulting Route objects will not have reference to the network route taken.\n",
      "WARNING:root:Route needs to have a network route composed of a list of network links that the vehicle on this route traverses. If read the Schedule from GTFS, the resulting Route objects will not have reference to the network route taken.\n",
      "WARNING:root:Route needs to have a network route composed of a list of network links that the vehicle on this route traverses. If read the Schedule from GTFS, the resulting Route objects will not have reference to the network route taken.\n",
      "WARNING:root:Route needs to have a network route composed of a list of network links that the vehicle on this route traverses. If read the Schedule from GTFS, the resulting Route objects will not have reference to the network route taken.\n",
      "WARNING:root:Route needs to have a network route composed of a list of network links that the vehicle on this route traverses. If read the Schedule from GTFS, the resulting Route objects will not have reference to the network route taken.\n",
      "WARNING:root:Route needs to have a network route composed of a list of network links that the vehicle on this route traverses. If read the Schedule from GTFS, the resulting Route objects will not have reference to the network route taken.\n",
      "WARNING:root:Route needs to have a network route composed of a list of network links that the vehicle on this route traverses. If read the Schedule from GTFS, the resulting Route objects will not have reference to the network route taken.\n",
      "WARNING:root:Route needs to have a network route composed of a list of network links that the vehicle on this route traverses. If read the Schedule from GTFS, the resulting Route objects will not have reference to the network route taken.\n",
      "WARNING:root:Route needs to have a network route composed of a list of network links that the vehicle on this route traverses. If read the Schedule from GTFS, the resulting Route objects will not have reference to the network route taken.\n",
      "WARNING:root:Route needs to have a network route composed of a list of network links that the vehicle on this route traverses. If read the Schedule from GTFS, the resulting Route objects will not have reference to the network route taken.\n",
      "WARNING:root:Route needs to have a network route composed of a list of network links that the vehicle on this route traverses. If read the Schedule from GTFS, the resulting Route objects will not have reference to the network route taken.\n",
      "WARNING:root:Route needs to have a network route composed of a list of network links that the vehicle on this route traverses. If read the Schedule from GTFS, the resulting Route objects will not have reference to the network route taken.\n",
      "WARNING:root:Route needs to have a network route composed of a list of network links that the vehicle on this route traverses. If read the Schedule from GTFS, the resulting Route objects will not have reference to the network route taken.\n",
      "WARNING:root:Route needs to have a network route composed of a list of network links that the vehicle on this route traverses. If read the Schedule from GTFS, the resulting Route objects will not have reference to the network route taken.\n",
      "WARNING:root:Route needs to have a network route composed of a list of network links that the vehicle on this route traverses. If read the Schedule from GTFS, the resulting Route objects will not have reference to the network route taken.\n",
      "WARNING:root:Route needs to have a network route composed of a list of network links that the vehicle on this route traverses. If read the Schedule from GTFS, the resulting Route objects will not have reference to the network route taken.\n",
      "WARNING:root:Route needs to have a network route composed of a list of network links that the vehicle on this route traverses. If read the Schedule from GTFS, the resulting Route objects will not have reference to the network route taken.\n",
      "WARNING:root:Route needs to have a network route composed of a list of network links that the vehicle on this route traverses. If read the Schedule from GTFS, the resulting Route objects will not have reference to the network route taken.\n"
     ]
    },
    {
     "name": "stderr",
     "output_type": "stream",
     "text": [
      "WARNING:root:Route needs to have a network route composed of a list of network links that the vehicle on this route traverses. If read the Schedule from GTFS, the resulting Route objects will not have reference to the network route taken.\n",
      "WARNING:root:Route needs to have a network route composed of a list of network links that the vehicle on this route traverses. If read the Schedule from GTFS, the resulting Route objects will not have reference to the network route taken.\n",
      "WARNING:root:Route needs to have a network route composed of a list of network links that the vehicle on this route traverses. If read the Schedule from GTFS, the resulting Route objects will not have reference to the network route taken.\n",
      "WARNING:root:Route needs to have a network route composed of a list of network links that the vehicle on this route traverses. If read the Schedule from GTFS, the resulting Route objects will not have reference to the network route taken.\n",
      "WARNING:root:Route needs to have a network route composed of a list of network links that the vehicle on this route traverses. If read the Schedule from GTFS, the resulting Route objects will not have reference to the network route taken.\n",
      "WARNING:root:Route needs to have a network route composed of a list of network links that the vehicle on this route traverses. If read the Schedule from GTFS, the resulting Route objects will not have reference to the network route taken.\n",
      "WARNING:root:Route needs to have a network route composed of a list of network links that the vehicle on this route traverses. If read the Schedule from GTFS, the resulting Route objects will not have reference to the network route taken.\n",
      "WARNING:root:The stop(s) along your route don't have arrival and departure offsets. This is likely a route with one stop - consider validating your schedule.\n",
      "WARNING:root:Route needs to have a network route composed of a list of network links that the vehicle on this route traverses. If read the Schedule from GTFS, the resulting Route objects will not have reference to the network route taken.\n",
      "WARNING:root:The stop(s) along your route don't have arrival and departure offsets. This is likely a route with one stop - consider validating your schedule.\n",
      "WARNING:root:Route needs to have a network route composed of a list of network links that the vehicle on this route traverses. If read the Schedule from GTFS, the resulting Route objects will not have reference to the network route taken.\n",
      "WARNING:root:The stop(s) along your route don't have arrival and departure offsets. This is likely a route with one stop - consider validating your schedule.\n",
      "WARNING:root:Route needs to have a network route composed of a list of network links that the vehicle on this route traverses. If read the Schedule from GTFS, the resulting Route objects will not have reference to the network route taken.\n",
      "WARNING:root:Route needs to have a network route composed of a list of network links that the vehicle on this route traverses. If read the Schedule from GTFS, the resulting Route objects will not have reference to the network route taken.\n",
      "WARNING:root:Route needs to have a network route composed of a list of network links that the vehicle on this route traverses. If read the Schedule from GTFS, the resulting Route objects will not have reference to the network route taken.\n",
      "WARNING:root:Route needs to have a network route composed of a list of network links that the vehicle on this route traverses. If read the Schedule from GTFS, the resulting Route objects will not have reference to the network route taken.\n",
      "WARNING:root:Route needs to have a network route composed of a list of network links that the vehicle on this route traverses. If read the Schedule from GTFS, the resulting Route objects will not have reference to the network route taken.\n",
      "WARNING:root:Route needs to have a network route composed of a list of network links that the vehicle on this route traverses. If read the Schedule from GTFS, the resulting Route objects will not have reference to the network route taken.\n",
      "WARNING:root:Route needs to have a network route composed of a list of network links that the vehicle on this route traverses. If read the Schedule from GTFS, the resulting Route objects will not have reference to the network route taken.\n",
      "WARNING:root:Route needs to have a network route composed of a list of network links that the vehicle on this route traverses. If read the Schedule from GTFS, the resulting Route objects will not have reference to the network route taken.\n",
      "WARNING:root:Route needs to have a network route composed of a list of network links that the vehicle on this route traverses. If read the Schedule from GTFS, the resulting Route objects will not have reference to the network route taken.\n",
      "WARNING:root:Route needs to have a network route composed of a list of network links that the vehicle on this route traverses. If read the Schedule from GTFS, the resulting Route objects will not have reference to the network route taken.\n",
      "WARNING:root:Route needs to have a network route composed of a list of network links that the vehicle on this route traverses. If read the Schedule from GTFS, the resulting Route objects will not have reference to the network route taken.\n",
      "WARNING:root:Route needs to have a network route composed of a list of network links that the vehicle on this route traverses. If read the Schedule from GTFS, the resulting Route objects will not have reference to the network route taken.\n",
      "WARNING:root:Route needs to have a network route composed of a list of network links that the vehicle on this route traverses. If read the Schedule from GTFS, the resulting Route objects will not have reference to the network route taken.\n",
      "WARNING:root:Route needs to have a network route composed of a list of network links that the vehicle on this route traverses. If read the Schedule from GTFS, the resulting Route objects will not have reference to the network route taken.\n",
      "WARNING:root:Route needs to have a network route composed of a list of network links that the vehicle on this route traverses. If read the Schedule from GTFS, the resulting Route objects will not have reference to the network route taken.\n",
      "WARNING:root:Route needs to have a network route composed of a list of network links that the vehicle on this route traverses. If read the Schedule from GTFS, the resulting Route objects will not have reference to the network route taken.\n",
      "WARNING:root:Route needs to have a network route composed of a list of network links that the vehicle on this route traverses. If read the Schedule from GTFS, the resulting Route objects will not have reference to the network route taken.\n",
      "WARNING:root:Route needs to have a network route composed of a list of network links that the vehicle on this route traverses. If read the Schedule from GTFS, the resulting Route objects will not have reference to the network route taken.\n",
      "WARNING:root:Route needs to have a network route composed of a list of network links that the vehicle on this route traverses. If read the Schedule from GTFS, the resulting Route objects will not have reference to the network route taken.\n",
      "WARNING:root:Route needs to have a network route composed of a list of network links that the vehicle on this route traverses. If read the Schedule from GTFS, the resulting Route objects will not have reference to the network route taken.\n",
      "WARNING:root:Route needs to have a network route composed of a list of network links that the vehicle on this route traverses. If read the Schedule from GTFS, the resulting Route objects will not have reference to the network route taken.\n",
      "WARNING:root:Route needs to have a network route composed of a list of network links that the vehicle on this route traverses. If read the Schedule from GTFS, the resulting Route objects will not have reference to the network route taken.\n",
      "WARNING:root:Route needs to have a network route composed of a list of network links that the vehicle on this route traverses. If read the Schedule from GTFS, the resulting Route objects will not have reference to the network route taken.\n",
      "WARNING:root:Route needs to have a network route composed of a list of network links that the vehicle on this route traverses. If read the Schedule from GTFS, the resulting Route objects will not have reference to the network route taken.\n"
     ]
    },
    {
     "name": "stderr",
     "output_type": "stream",
     "text": [
      "WARNING:root:Route needs to have a network route composed of a list of network links that the vehicle on this route traverses. If read the Schedule from GTFS, the resulting Route objects will not have reference to the network route taken.\n",
      "WARNING:root:Route needs to have a network route composed of a list of network links that the vehicle on this route traverses. If read the Schedule from GTFS, the resulting Route objects will not have reference to the network route taken.\n",
      "WARNING:root:Route needs to have a network route composed of a list of network links that the vehicle on this route traverses. If read the Schedule from GTFS, the resulting Route objects will not have reference to the network route taken.\n",
      "WARNING:root:Route needs to have a network route composed of a list of network links that the vehicle on this route traverses. If read the Schedule from GTFS, the resulting Route objects will not have reference to the network route taken.\n",
      "WARNING:root:Route needs to have a network route composed of a list of network links that the vehicle on this route traverses. If read the Schedule from GTFS, the resulting Route objects will not have reference to the network route taken.\n",
      "WARNING:root:Route needs to have a network route composed of a list of network links that the vehicle on this route traverses. If read the Schedule from GTFS, the resulting Route objects will not have reference to the network route taken.\n",
      "WARNING:root:Route needs to have a network route composed of a list of network links that the vehicle on this route traverses. If read the Schedule from GTFS, the resulting Route objects will not have reference to the network route taken.\n",
      "WARNING:root:Route needs to have a network route composed of a list of network links that the vehicle on this route traverses. If read the Schedule from GTFS, the resulting Route objects will not have reference to the network route taken.\n",
      "WARNING:root:Route needs to have a network route composed of a list of network links that the vehicle on this route traverses. If read the Schedule from GTFS, the resulting Route objects will not have reference to the network route taken.\n",
      "WARNING:root:Route needs to have a network route composed of a list of network links that the vehicle on this route traverses. If read the Schedule from GTFS, the resulting Route objects will not have reference to the network route taken.\n",
      "WARNING:root:Route needs to have a network route composed of a list of network links that the vehicle on this route traverses. If read the Schedule from GTFS, the resulting Route objects will not have reference to the network route taken.\n",
      "WARNING:root:Route needs to have a network route composed of a list of network links that the vehicle on this route traverses. If read the Schedule from GTFS, the resulting Route objects will not have reference to the network route taken.\n",
      "WARNING:root:Route needs to have a network route composed of a list of network links that the vehicle on this route traverses. If read the Schedule from GTFS, the resulting Route objects will not have reference to the network route taken.\n",
      "WARNING:root:Route needs to have a network route composed of a list of network links that the vehicle on this route traverses. If read the Schedule from GTFS, the resulting Route objects will not have reference to the network route taken.\n",
      "WARNING:root:Route needs to have a network route composed of a list of network links that the vehicle on this route traverses. If read the Schedule from GTFS, the resulting Route objects will not have reference to the network route taken.\n",
      "WARNING:root:Route needs to have a network route composed of a list of network links that the vehicle on this route traverses. If read the Schedule from GTFS, the resulting Route objects will not have reference to the network route taken.\n",
      "WARNING:root:Route needs to have a network route composed of a list of network links that the vehicle on this route traverses. If read the Schedule from GTFS, the resulting Route objects will not have reference to the network route taken.\n",
      "WARNING:root:Route needs to have a network route composed of a list of network links that the vehicle on this route traverses. If read the Schedule from GTFS, the resulting Route objects will not have reference to the network route taken.\n",
      "WARNING:root:Route needs to have a network route composed of a list of network links that the vehicle on this route traverses. If read the Schedule from GTFS, the resulting Route objects will not have reference to the network route taken.\n",
      "WARNING:root:Route needs to have a network route composed of a list of network links that the vehicle on this route traverses. If read the Schedule from GTFS, the resulting Route objects will not have reference to the network route taken.\n",
      "WARNING:root:Route needs to have a network route composed of a list of network links that the vehicle on this route traverses. If read the Schedule from GTFS, the resulting Route objects will not have reference to the network route taken.\n"
     ]
    }
   ],
   "source": [
    "n.write_to_matsim(os.path.join(path_to_matsim_network, 'genet_output'))"
   ]
  },
  {
   "cell_type": "markdown",
   "metadata": {},
   "source": [
    "You can check that a `Network` that had been read in from MATSim files results in semantically equal xml files \n",
    "(if not changes were applied to the `Network` of course)"
   ]
  },
  {
   "cell_type": "code",
   "execution_count": 44,
   "metadata": {
    "ExecuteTime": {
     "end_time": "2020-06-04T12:36:02.829988Z",
     "start_time": "2020-06-04T12:36:02.817742Z"
    }
   },
   "outputs": [],
   "source": [
    "from tests.xml_diff import assert_semantically_equal"
   ]
  },
  {
   "cell_type": "code",
   "execution_count": 45,
   "metadata": {
    "ExecuteTime": {
     "end_time": "2020-06-04T12:36:04.608895Z",
     "start_time": "2020-06-04T12:36:02.832066Z"
    }
   },
   "outputs": [
    {
     "name": "stdout",
     "output_type": "stream",
     "text": [
      "/Users/kasia.kozlowska/PycharmProjects/ABM/genet/example_data/pt2matsim_network/schedule.xml and /Users/kasia.kozlowska/PycharmProjects/ABM/genet/example_data/pt2matsim_network/schedule.xml are semantically equal\n"
     ]
    },
    {
     "data": {
      "text/plain": [
       "True"
      ]
     },
     "execution_count": 45,
     "metadata": {},
     "output_type": "execute_result"
    }
   ],
   "source": [
    "assert_semantically_equal(schedule, os.path.join(path_to_matsim_network, 'schedule.xml'))"
   ]
  },
  {
   "cell_type": "code",
   "execution_count": null,
   "metadata": {},
   "outputs": [],
   "source": []
  }
 ],
 "metadata": {
  "kernelspec": {
   "display_name": "Python (genet)",
   "language": "python",
   "name": "genet"
  },
  "language_info": {
   "codemirror_mode": {
    "name": "ipython",
    "version": 3
   },
   "file_extension": ".py",
   "mimetype": "text/x-python",
   "name": "python",
   "nbconvert_exporter": "python",
   "pygments_lexer": "ipython3",
   "version": "3.7.5"
  },
  "latex_envs": {
   "LaTeX_envs_menu_present": true,
   "autoclose": true,
   "autocomplete": true,
   "bibliofile": "biblio.bib",
   "cite_by": "apalike",
   "current_citInitial": 1,
   "eqLabelWithNumbers": true,
   "eqNumInitial": 1,
   "hotkeys": {
    "equation": "Ctrl-E",
    "itemize": "Ctrl-I"
   },
   "labels_anchors": false,
   "latex_user_defs": false,
   "report_style_numbering": false,
   "user_envs_cfg": false
  },
  "toc": {
   "base_numbering": 1,
   "nav_menu": {},
   "number_sections": true,
   "sideBar": true,
   "skip_h1_title": false,
   "title_cell": "Table of Contents",
   "title_sidebar": "Contents",
   "toc_cell": false,
   "toc_position": {},
   "toc_section_display": true,
   "toc_window_display": false
  },
  "varInspector": {
   "cols": {
    "lenName": 16,
    "lenType": 16,
    "lenVar": 40
   },
   "kernels_config": {
    "python": {
     "delete_cmd_postfix": "",
     "delete_cmd_prefix": "del ",
     "library": "var_list.py",
     "varRefreshCmd": "print(var_dic_list())"
    },
    "r": {
     "delete_cmd_postfix": ") ",
     "delete_cmd_prefix": "rm(",
     "library": "var_list.r",
     "varRefreshCmd": "cat(var_dic_list()) "
    }
   },
   "types_to_exclude": [
    "module",
    "function",
    "builtin_function_or_method",
    "instance",
    "_Feature"
   ],
   "window_display": false
  }
 },
 "nbformat": 4,
 "nbformat_minor": 2
}
