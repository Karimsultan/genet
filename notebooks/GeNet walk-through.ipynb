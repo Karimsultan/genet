{
 "cells": [
  {
   "cell_type": "markdown",
   "metadata": {},
   "source": [
    "# GeNet walk-through"
   ]
  },
  {
   "cell_type": "markdown",
   "metadata": {},
   "source": [
    "## Reading in a network"
   ]
  },
  {
   "cell_type": "code",
   "execution_count": 1,
   "metadata": {
    "ExecuteTime": {
     "end_time": "2020-06-04T12:35:53.257629Z",
     "start_time": "2020-06-04T12:35:52.256124Z"
    }
   },
   "outputs": [],
   "source": [
    "import genet as gn\n",
    "import pandas as pd\n",
    "import os"
   ]
  },
  {
   "cell_type": "code",
   "execution_count": 46,
   "metadata": {
    "ExecuteTime": {
     "end_time": "2020-06-04T12:36:15.303152Z",
     "start_time": "2020-06-04T12:36:15.298196Z"
    }
   },
   "outputs": [],
   "source": [
    "path_to_matsim_network = '.../pt2matsim_network'"
   ]
  },
  {
   "cell_type": "code",
   "execution_count": 3,
   "metadata": {
    "ExecuteTime": {
     "end_time": "2020-06-04T12:35:53.296554Z",
     "start_time": "2020-06-04T12:35:53.268218Z"
    }
   },
   "outputs": [],
   "source": [
    "n = gn.Network()"
   ]
  },
  {
   "cell_type": "code",
   "execution_count": 4,
   "metadata": {
    "ExecuteTime": {
     "end_time": "2020-06-04T12:35:53.316067Z",
     "start_time": "2020-06-04T12:35:53.301628Z"
    }
   },
   "outputs": [
    {
     "data": {
      "text/plain": [
       "<Network instance at 4671690384: with \n",
       "graph: Name: \n",
       "Type: MultiDiGraph\n",
       "Number of nodes: 0\n",
       "Number of edges: 0\n",
       " and \n",
       "schedule Number of services: 0\n",
       "Number of unique routes: 0"
      ]
     },
     "execution_count": 4,
     "metadata": {},
     "output_type": "execute_result"
    }
   ],
   "source": [
    "n"
   ]
  },
  {
   "cell_type": "code",
   "execution_count": 5,
   "metadata": {
    "ExecuteTime": {
     "end_time": "2020-06-04T12:35:53.322409Z",
     "start_time": "2020-06-04T12:35:53.317901Z"
    }
   },
   "outputs": [],
   "source": [
    "network = os.path.join(path_to_matsim_network, 'network.xml')\n",
    "schedule = os.path.join(path_to_matsim_network, 'schedule.xml')"
   ]
  },
  {
   "cell_type": "code",
   "execution_count": 6,
   "metadata": {
    "ExecuteTime": {
     "end_time": "2020-06-04T12:35:54.584377Z",
     "start_time": "2020-06-04T12:35:53.328354Z"
    }
   },
   "outputs": [
    {
     "name": "stderr",
     "output_type": "stream",
     "text": [
      "/Users/kasia.kozlowska/pycharm_venvs/genet/lib/python3.7/site-packages/pyproj/crs/crs.py:53: FutureWarning: '+init=<authority>:<code>' syntax is deprecated. '<authority>:<code>' is the preferred initialization method. When making the change, be mindful of axis order changes: https://pyproj4.github.io/pyproj/stable/gotchas.html#axis-order-changes-in-proj-6\n",
      "  return _prepare_from_string(\" \".join(pjargs))\n",
      "/Users/kasia.kozlowska/pycharm_venvs/genet/lib/python3.7/site-packages/pyproj/crs/crs.py:294: FutureWarning: '+init=<authority>:<code>' syntax is deprecated. '<authority>:<code>' is the preferred initialization method. When making the change, be mindful of axis order changes: https://pyproj4.github.io/pyproj/stable/gotchas.html#axis-order-changes-in-proj-6\n",
      "  projstring = _prepare_from_string(\" \".join((projstring, projkwargs)))\n",
      "/Users/kasia.kozlowska/pycharm_venvs/genet/lib/python3.7/site-packages/pyproj/crs/crs.py:53: FutureWarning: '+init=<authority>:<code>' syntax is deprecated. '<authority>:<code>' is the preferred initialization method. When making the change, be mindful of axis order changes: https://pyproj4.github.io/pyproj/stable/gotchas.html#axis-order-changes-in-proj-6\n",
      "  return _prepare_from_string(\" \".join(pjargs))\n",
      "/Users/kasia.kozlowska/pycharm_venvs/genet/lib/python3.7/site-packages/pyproj/crs/crs.py:294: FutureWarning: '+init=<authority>:<code>' syntax is deprecated. '<authority>:<code>' is the preferred initialization method. When making the change, be mindful of axis order changes: https://pyproj4.github.io/pyproj/stable/gotchas.html#axis-order-changes-in-proj-6\n",
      "  projstring = _prepare_from_string(\" \".join((projstring, projkwargs)))\n"
     ]
    }
   ],
   "source": [
    "n.read_matsim_network(network, epsg='epsg:27700')"
   ]
  },
  {
   "cell_type": "code",
   "execution_count": 7,
   "metadata": {
    "ExecuteTime": {
     "end_time": "2020-06-04T12:35:55.666503Z",
     "start_time": "2020-06-04T12:35:54.589292Z"
    }
   },
   "outputs": [
    {
     "name": "stderr",
     "output_type": "stream",
     "text": [
      "/Users/kasia.kozlowska/pycharm_venvs/genet/lib/python3.7/site-packages/pyproj/crs/crs.py:53: FutureWarning: '+init=<authority>:<code>' syntax is deprecated. '<authority>:<code>' is the preferred initialization method. When making the change, be mindful of axis order changes: https://pyproj4.github.io/pyproj/stable/gotchas.html#axis-order-changes-in-proj-6\n",
      "  return _prepare_from_string(\" \".join(pjargs))\n",
      "/Users/kasia.kozlowska/pycharm_venvs/genet/lib/python3.7/site-packages/pyproj/crs/crs.py:294: FutureWarning: '+init=<authority>:<code>' syntax is deprecated. '<authority>:<code>' is the preferred initialization method. When making the change, be mindful of axis order changes: https://pyproj4.github.io/pyproj/stable/gotchas.html#axis-order-changes-in-proj-6\n",
      "  projstring = _prepare_from_string(\" \".join((projstring, projkwargs)))\n",
      "/Users/kasia.kozlowska/pycharm_venvs/genet/lib/python3.7/site-packages/pyproj/crs/crs.py:53: FutureWarning: '+init=<authority>:<code>' syntax is deprecated. '<authority>:<code>' is the preferred initialization method. When making the change, be mindful of axis order changes: https://pyproj4.github.io/pyproj/stable/gotchas.html#axis-order-changes-in-proj-6\n",
      "  return _prepare_from_string(\" \".join(pjargs))\n",
      "/Users/kasia.kozlowska/pycharm_venvs/genet/lib/python3.7/site-packages/pyproj/crs/crs.py:294: FutureWarning: '+init=<authority>:<code>' syntax is deprecated. '<authority>:<code>' is the preferred initialization method. When making the change, be mindful of axis order changes: https://pyproj4.github.io/pyproj/stable/gotchas.html#axis-order-changes-in-proj-6\n",
      "  projstring = _prepare_from_string(\" \".join((projstring, projkwargs)))\n",
      "/Users/kasia.kozlowska/pycharm_venvs/genet/lib/python3.7/site-packages/pyproj/crs/crs.py:53: FutureWarning: '+init=<authority>:<code>' syntax is deprecated. '<authority>:<code>' is the preferred initialization method. When making the change, be mindful of axis order changes: https://pyproj4.github.io/pyproj/stable/gotchas.html#axis-order-changes-in-proj-6\n",
      "  return _prepare_from_string(\" \".join(pjargs))\n",
      "/Users/kasia.kozlowska/pycharm_venvs/genet/lib/python3.7/site-packages/pyproj/crs/crs.py:294: FutureWarning: '+init=<authority>:<code>' syntax is deprecated. '<authority>:<code>' is the preferred initialization method. When making the change, be mindful of axis order changes: https://pyproj4.github.io/pyproj/stable/gotchas.html#axis-order-changes-in-proj-6\n",
      "  projstring = _prepare_from_string(\" \".join((projstring, projkwargs)))\n",
      "/Users/kasia.kozlowska/pycharm_venvs/genet/lib/python3.7/site-packages/pyproj/crs/crs.py:53: FutureWarning: '+init=<authority>:<code>' syntax is deprecated. '<authority>:<code>' is the preferred initialization method. When making the change, be mindful of axis order changes: https://pyproj4.github.io/pyproj/stable/gotchas.html#axis-order-changes-in-proj-6\n",
      "  return _prepare_from_string(\" \".join(pjargs))\n",
      "/Users/kasia.kozlowska/pycharm_venvs/genet/lib/python3.7/site-packages/pyproj/crs/crs.py:294: FutureWarning: '+init=<authority>:<code>' syntax is deprecated. '<authority>:<code>' is the preferred initialization method. When making the change, be mindful of axis order changes: https://pyproj4.github.io/pyproj/stable/gotchas.html#axis-order-changes-in-proj-6\n",
      "  projstring = _prepare_from_string(\" \".join((projstring, projkwargs)))\n",
      "/Users/kasia.kozlowska/pycharm_venvs/genet/lib/python3.7/site-packages/pyproj/crs/crs.py:53: FutureWarning: '+init=<authority>:<code>' syntax is deprecated. '<authority>:<code>' is the preferred initialization method. When making the change, be mindful of axis order changes: https://pyproj4.github.io/pyproj/stable/gotchas.html#axis-order-changes-in-proj-6\n",
      "  return _prepare_from_string(\" \".join(pjargs))\n",
      "/Users/kasia.kozlowska/pycharm_venvs/genet/lib/python3.7/site-packages/pyproj/crs/crs.py:294: FutureWarning: '+init=<authority>:<code>' syntax is deprecated. '<authority>:<code>' is the preferred initialization method. When making the change, be mindful of axis order changes: https://pyproj4.github.io/pyproj/stable/gotchas.html#axis-order-changes-in-proj-6\n",
      "  projstring = _prepare_from_string(\" \".join((projstring, projkwargs)))\n",
      "/Users/kasia.kozlowska/pycharm_venvs/genet/lib/python3.7/site-packages/pyproj/crs/crs.py:53: FutureWarning: '+init=<authority>:<code>' syntax is deprecated. '<authority>:<code>' is the preferred initialization method. When making the change, be mindful of axis order changes: https://pyproj4.github.io/pyproj/stable/gotchas.html#axis-order-changes-in-proj-6\n",
      "  return _prepare_from_string(\" \".join(pjargs))\n",
      "/Users/kasia.kozlowska/pycharm_venvs/genet/lib/python3.7/site-packages/pyproj/crs/crs.py:294: FutureWarning: '+init=<authority>:<code>' syntax is deprecated. '<authority>:<code>' is the preferred initialization method. When making the change, be mindful of axis order changes: https://pyproj4.github.io/pyproj/stable/gotchas.html#axis-order-changes-in-proj-6\n",
      "  projstring = _prepare_from_string(\" \".join((projstring, projkwargs)))\n"
     ]
    }
   ],
   "source": [
    "n.read_matsim_schedule(schedule, epsg='epsg:27700')"
   ]
  },
  {
   "cell_type": "code",
   "execution_count": 8,
   "metadata": {
    "ExecuteTime": {
     "end_time": "2020-06-04T12:35:55.698201Z",
     "start_time": "2020-06-04T12:35:55.670455Z"
    }
   },
   "outputs": [
    {
     "data": {
      "text/plain": [
       "<Network instance at 4671690384: with \n",
       "graph: Name: \n",
       "Type: MultiDiGraph\n",
       "Number of nodes: 1662\n",
       "Number of edges: 3166\n",
       "Average in degree:   1.9049\n",
       "Average out degree:   1.9049 and \n",
       "schedule Number of services: 62\n",
       "Number of unique routes: 520"
      ]
     },
     "execution_count": 8,
     "metadata": {},
     "output_type": "execute_result"
    }
   ],
   "source": [
    "n"
   ]
  },
  {
   "cell_type": "markdown",
   "metadata": {},
   "source": [
    "## Using the `Network` object"
   ]
  },
  {
   "cell_type": "markdown",
   "metadata": {},
   "source": [
    "### Summary\n",
    "\n",
    "The data saved on the edges or nodes of the graph can be nested. There are a couple of convenient methods that summarise the schema of the data found on the nodes and links. If `data=True`, the output also shows up to 5 unique values stored in that location."
   ]
  },
  {
   "cell_type": "code",
   "execution_count": 9,
   "metadata": {
    "ExecuteTime": {
     "end_time": "2020-06-04T12:35:55.998228Z",
     "start_time": "2020-06-04T12:35:55.707184Z"
    }
   },
   "outputs": [
    {
     "name": "stdout",
     "output_type": "stream",
     "text": [
      "attribute\n",
      "├── id: ['1678452814', '25530033', '973525143', '25471116', '25626799']\n",
      "├── x: ['529261.8422926142', '529097.9813724858', '530601.735635728', '529217.4618553725', '528344.7036729204']\n",
      "├── y: ['181968.63530631427', '181032.36566110572', '181461.5153686754', '181254.60994444933', '182787.3799727923']\n",
      "├── lon: [-0.15178558709839862, -0.15872448710537235, -0.13569068709168342, -0.13766218709633904, -0.13543658708819173]\n",
      "├── lat: [51.51609983324067, 51.5182034332405, 51.51504733324089, 51.522253033239515, 51.522948433239556]\n",
      "└── s2_id: [5221390710015643649, 5221390314367946753, 5221366508477440003, 5221390682291777543, 5221390739236081673]\n"
     ]
    }
   ],
   "source": [
    "n.node_attribute_summary(data=True)"
   ]
  },
  {
   "cell_type": "code",
   "execution_count": 10,
   "metadata": {
    "ExecuteTime": {
     "end_time": "2020-06-04T12:35:56.895255Z",
     "start_time": "2020-06-04T12:35:56.004949Z"
    }
   },
   "outputs": [
    {
     "name": "stdout",
     "output_type": "stream",
     "text": [
      "attribute\n",
      "├── id: ['1797', '1778', '2816', '429', '3273']\n",
      "├── from: ['1678452814', '25530033', '973525143', '25471116', '25626799']\n",
      "├── to: ['1678452814', '25530033', '973525143', '25471116', '25626799']\n",
      "├── freespeed: [2.7777777777777777, 4.166666666666667, 5.0, 6.944444444444445, 8.333333333333334]\n",
      "├── capacity: [4000.0, 8000.0, 12000.0, 1000.0, 1800.0]\n",
      "├── permlanes: [1.0, 2.0, 3.0, 4.0, 5.0]\n",
      "├── oneway: ['1']\n",
      "├── modes: ['pt', 'bus', 'artificial', 'car']\n",
      "├── s2_from: [5221390710015643649, 5221390314367946753, 5221366508477440003, 5221390682291777543, 5221390739236081673]\n",
      "├── s2_to: [5221390710015643649, 5221390314367946753, 5221366508477440003, 5221390682291777543, 5221390739236081673]\n",
      "├── length: [2.6358639819628706, 3.5904978805887175, 4.599609949197294, 4.620218895820138, 5.8016284584454105]\n",
      "└── attributes\n",
      "    ├── osm:way:access\n",
      "    │   ├── name: ['osm:way:access']\n",
      "    │   ├── class: ['java.lang.String']\n",
      "    │   └── text: ['permissive', 'destination', 'yes', 'no', 'private']\n",
      "    ├── osm:way:highway\n",
      "    │   ├── name: ['osm:way:highway']\n",
      "    │   ├── class: ['java.lang.String']\n",
      "    │   └── text: ['residential', 'tertiary_link', 'secondary_link', 'trunk', 'tertiary']\n",
      "    ├── osm:way:id\n",
      "    │   ├── name: ['osm:way:id']\n",
      "    │   ├── class: ['java.lang.Long']\n",
      "    │   └── text: ['35065682', '649705347', '17929789', '587548552', '52918815']\n",
      "    ├── osm:way:name\n",
      "    │   ├── name: ['osm:way:name']\n",
      "    │   ├── class: ['java.lang.String']\n",
      "    │   └── text: ['New Quebec Street', 'Starcross Street', 'Holborn Place', 'Peter Street', 'University Street']\n",
      "    ├── osm:relation:route\n",
      "    │   ├── name: ['osm:relation:route']\n",
      "    │   ├── class: ['java.lang.String']\n",
      "    │   └── text: ['bus,bicycle,road', 'bicycle', 'road', 'bus,historic,bicycle', 'bus']\n",
      "    ├── osm:way:lanes\n",
      "    │   ├── name: ['osm:way:lanes']\n",
      "    │   ├── class: ['java.lang.String']\n",
      "    │   └── text: [None, '1', '2', '6', '4']\n",
      "    ├── osm:way:oneway\n",
      "    │   ├── name: ['osm:way:oneway']\n",
      "    │   ├── class: ['java.lang.String']\n",
      "    │   └── text: ['yes', 'no']\n",
      "    ├── osm:way:tunnel\n",
      "    │   ├── name: ['osm:way:tunnel']\n",
      "    │   ├── class: ['java.lang.String']\n",
      "    │   └── text: ['building_passage', 'yes']\n",
      "    ├── osm:way:psv\n",
      "    │   ├── name: ['osm:way:psv']\n",
      "    │   ├── class: ['java.lang.String']\n",
      "    │   └── text: ['destination', 'yes']\n",
      "    ├── osm:way:vehicle\n",
      "    │   ├── name: ['osm:way:vehicle']\n",
      "    │   ├── class: ['java.lang.String']\n",
      "    │   └── text: ['private', 'no']\n",
      "    ├── osm:way:traffic_calming\n",
      "    │   ├── name: ['osm:way:traffic_calming']\n",
      "    │   ├── class: ['java.lang.String']\n",
      "    │   └── text: ['hump', 'choker', 'table', 'cushion']\n",
      "    ├── osm:way:junction\n",
      "    │   ├── name: ['osm:way:junction']\n",
      "    │   ├── class: ['java.lang.String']\n",
      "    │   └── text: ['roundabout']\n",
      "    └── osm:way:service\n",
      "        ├── name: ['osm:way:service']\n",
      "        ├── class: ['java.lang.String']\n",
      "        └── text: ['bus']\n"
     ]
    }
   ],
   "source": [
    "n.link_attribute_summary(data=True)"
   ]
  },
  {
   "cell_type": "markdown",
   "metadata": {},
   "source": [
    "Once you see the general schema for the data stored on nodes and links, you may decide to look at or perform analysis \n",
    "on all of the data stored in the netowrk under a particular key. A GeNet network has two methods which generate a\n",
    "`pandas.Series` object, which stores the nodes or links data present at the specified key, indexed by the same index \n",
    "as the nodes or links."
   ]
  },
  {
   "cell_type": "code",
   "execution_count": 11,
   "metadata": {
    "ExecuteTime": {
     "end_time": "2020-06-04T12:35:56.921133Z",
     "start_time": "2020-06-04T12:35:56.898204Z"
    }
   },
   "outputs": [],
   "source": [
    "lat = n.node_attribute_data_under_key('lat')\n",
    "lat.name = 'lat'\n",
    "lon = n.node_attribute_data_under_key('lon')\n",
    "lon.name = 'lon'"
   ]
  },
  {
   "cell_type": "code",
   "execution_count": 12,
   "metadata": {
    "ExecuteTime": {
     "end_time": "2020-06-04T12:35:56.964258Z",
     "start_time": "2020-06-04T12:35:56.926261Z"
    }
   },
   "outputs": [
    {
     "data": {
      "text/html": [
       "<div>\n",
       "<style scoped>\n",
       "    .dataframe tbody tr th:only-of-type {\n",
       "        vertical-align: middle;\n",
       "    }\n",
       "\n",
       "    .dataframe tbody tr th {\n",
       "        vertical-align: top;\n",
       "    }\n",
       "\n",
       "    .dataframe thead th {\n",
       "        text-align: right;\n",
       "    }\n",
       "</style>\n",
       "<table border=\"1\" class=\"dataframe\">\n",
       "  <thead>\n",
       "    <tr style=\"text-align: right;\">\n",
       "      <th></th>\n",
       "      <th>lat</th>\n",
       "      <th>lon</th>\n",
       "    </tr>\n",
       "  </thead>\n",
       "  <tbody>\n",
       "    <tr>\n",
       "      <th>101982</th>\n",
       "      <td>51.522879</td>\n",
       "      <td>-0.146259</td>\n",
       "    </tr>\n",
       "    <tr>\n",
       "      <th>101986</th>\n",
       "      <td>51.522287</td>\n",
       "      <td>-0.144394</td>\n",
       "    </tr>\n",
       "    <tr>\n",
       "      <th>101990</th>\n",
       "      <td>51.520573</td>\n",
       "      <td>-0.147702</td>\n",
       "    </tr>\n",
       "    <tr>\n",
       "      <th>101991</th>\n",
       "      <td>51.521654</td>\n",
       "      <td>-0.148189</td>\n",
       "    </tr>\n",
       "    <tr>\n",
       "      <th>101992</th>\n",
       "      <td>51.521395</td>\n",
       "      <td>-0.149695</td>\n",
       "    </tr>\n",
       "  </tbody>\n",
       "</table>\n",
       "</div>"
      ],
      "text/plain": [
       "              lat       lon\n",
       "101982  51.522879 -0.146259\n",
       "101986  51.522287 -0.144394\n",
       "101990  51.520573 -0.147702\n",
       "101991  51.521654 -0.148189\n",
       "101992  51.521395 -0.149695"
      ]
     },
     "execution_count": 12,
     "metadata": {},
     "output_type": "execute_result"
    }
   ],
   "source": [
    "df_lat_lon = lat.to_frame().join(lon)\n",
    "df_lat_lon.head()"
   ]
  },
  {
   "cell_type": "code",
   "execution_count": 13,
   "metadata": {
    "ExecuteTime": {
     "end_time": "2020-06-04T12:35:57.020758Z",
     "start_time": "2020-06-04T12:35:56.978291Z"
    }
   },
   "outputs": [
    {
     "data": {
      "text/plain": [
       "1       4.166667\n",
       "10      4.166667\n",
       "100     4.166667\n",
       "1000    4.166667\n",
       "1001    4.166667\n",
       "dtype: float64"
      ]
     },
     "execution_count": 13,
     "metadata": {},
     "output_type": "execute_result"
    }
   ],
   "source": [
    "n.link_attribute_data_under_key('freespeed').head()"
   ]
  },
  {
   "cell_type": "markdown",
   "metadata": {},
   "source": [
    "Or you can access nested data,"
   ]
  },
  {
   "cell_type": "code",
   "execution_count": 14,
   "metadata": {
    "ExecuteTime": {
     "end_time": "2020-06-04T12:35:57.064414Z",
     "start_time": "2020-06-04T12:35:57.023976Z"
    }
   },
   "outputs": [
    {
     "data": {
      "text/plain": [
       "1007    2\n",
       "1008    2\n",
       "1037    2\n",
       "1038    2\n",
       "1039    2\n",
       "dtype: object"
      ]
     },
     "execution_count": 14,
     "metadata": {},
     "output_type": "execute_result"
    }
   ],
   "source": [
    "n.link_attribute_data_under_key({'attributes': {'osm:way:lanes': 'text'}}).head()"
   ]
  },
  {
   "cell_type": "markdown",
   "metadata": {},
   "source": [
    "### Extracting links of interest\n",
    "\n",
    "The function below gathers link ids which satisfy conditions \n",
    "to arbitrary level of nested-ness. It also allows quite flexible conditions---below we require that the link value\n",
    "at `data['attributes']['osm:way:highway']['text'] == 'primary'`, where data is the data dictionary stored on that link."
   ]
  },
  {
   "cell_type": "code",
   "execution_count": 15,
   "metadata": {
    "ExecuteTime": {
     "end_time": "2020-06-04T12:35:57.115186Z",
     "start_time": "2020-06-04T12:35:57.066287Z"
    }
   },
   "outputs": [],
   "source": [
    "links = gn.graph_operations.extract_links_on_edge_attributes(\n",
    "    n,\n",
    "    conditions= {'attributes': {'osm:way:highway': {'text': 'primary'}}},\n",
    ")"
   ]
  },
  {
   "cell_type": "code",
   "execution_count": 16,
   "metadata": {
    "ExecuteTime": {
     "end_time": "2020-06-04T12:35:57.123176Z",
     "start_time": "2020-06-04T12:35:57.116741Z"
    }
   },
   "outputs": [
    {
     "data": {
      "text/plain": [
       "['1007', '1008', '1023', '1024', '103']"
      ]
     },
     "execution_count": 16,
     "metadata": {},
     "output_type": "execute_result"
    }
   ],
   "source": [
    "links[:5]"
   ]
  },
  {
   "cell_type": "code",
   "execution_count": 17,
   "metadata": {
    "ExecuteTime": {
     "end_time": "2020-06-04T12:35:57.219645Z",
     "start_time": "2020-06-04T12:35:57.197762Z"
    }
   },
   "outputs": [
    {
     "data": {
      "text/plain": [
       "619"
      ]
     },
     "execution_count": 17,
     "metadata": {},
     "output_type": "execute_result"
    }
   ],
   "source": [
    "len(links)"
   ]
  },
  {
   "cell_type": "markdown",
   "metadata": {},
   "source": [
    "Below we now require that the link value\n",
    "at `data['attributes']['osm:way:highway']['text'] in ['primary', 'something else']`. There is nothing in the data that has such tags, so the output is the same."
   ]
  },
  {
   "cell_type": "code",
   "execution_count": 18,
   "metadata": {
    "ExecuteTime": {
     "end_time": "2020-06-04T12:35:57.285062Z",
     "start_time": "2020-06-04T12:35:57.227462Z"
    }
   },
   "outputs": [],
   "source": [
    "links = gn.graph_operations.extract_links_on_edge_attributes(\n",
    "    n,\n",
    "    conditions= {'attributes': {'osm:way:highway': {'text': ['primary', 'something else']}}},\n",
    ")"
   ]
  },
  {
   "cell_type": "code",
   "execution_count": 19,
   "metadata": {
    "ExecuteTime": {
     "end_time": "2020-06-04T12:35:57.300300Z",
     "start_time": "2020-06-04T12:35:57.288161Z"
    }
   },
   "outputs": [
    {
     "data": {
      "text/plain": [
       "['1007', '1008', '1023', '1024', '103']"
      ]
     },
     "execution_count": 19,
     "metadata": {},
     "output_type": "execute_result"
    }
   ],
   "source": [
    "links[:5]"
   ]
  },
  {
   "cell_type": "code",
   "execution_count": 20,
   "metadata": {
    "ExecuteTime": {
     "end_time": "2020-06-04T12:35:57.307753Z",
     "start_time": "2020-06-04T12:35:57.302215Z"
    }
   },
   "outputs": [
    {
     "data": {
      "text/plain": [
       "619"
      ]
     },
     "execution_count": 20,
     "metadata": {},
     "output_type": "execute_result"
    }
   ],
   "source": [
    "len(links)"
   ]
  },
  {
   "cell_type": "markdown",
   "metadata": {},
   "source": [
    "We can also pass a list of conditions. In this case it makes sense for us to specify how multiple conditions should be handled. We can do it via \n",
    "- `how=all` - all conditions need to be met\n",
    "- `how=any` - at least one condition needs to be met\n",
    "\n",
    "It is set to `any` as default."
   ]
  },
  {
   "cell_type": "code",
   "execution_count": 21,
   "metadata": {
    "ExecuteTime": {
     "end_time": "2020-06-04T12:35:57.371908Z",
     "start_time": "2020-06-04T12:35:57.309619Z"
    }
   },
   "outputs": [],
   "source": [
    "links = gn.graph_operations.extract_links_on_edge_attributes(\n",
    "    n,\n",
    "    conditions= [{'attributes': {'osm:way:highway': {'text': 'primary'}}},\n",
    "                 {'attributes': {'osm:way:highway': {'text': 'something else'}}}],\n",
    "    how=any\n",
    ")"
   ]
  },
  {
   "cell_type": "code",
   "execution_count": 22,
   "metadata": {
    "ExecuteTime": {
     "end_time": "2020-06-04T12:35:57.380979Z",
     "start_time": "2020-06-04T12:35:57.374899Z"
    }
   },
   "outputs": [
    {
     "data": {
      "text/plain": [
       "['1007', '1008', '1023', '1024', '103']"
      ]
     },
     "execution_count": 22,
     "metadata": {},
     "output_type": "execute_result"
    }
   ],
   "source": [
    "links[:5]"
   ]
  },
  {
   "cell_type": "code",
   "execution_count": 23,
   "metadata": {
    "ExecuteTime": {
     "end_time": "2020-06-04T12:35:57.399698Z",
     "start_time": "2020-06-04T12:35:57.390922Z"
    }
   },
   "outputs": [
    {
     "data": {
      "text/plain": [
       "619"
      ]
     },
     "execution_count": 23,
     "metadata": {},
     "output_type": "execute_result"
    }
   ],
   "source": [
    "len(links)"
   ]
  },
  {
   "cell_type": "code",
   "execution_count": 24,
   "metadata": {
    "ExecuteTime": {
     "end_time": "2020-06-04T12:35:57.488248Z",
     "start_time": "2020-06-04T12:35:57.403727Z"
    }
   },
   "outputs": [],
   "source": [
    "links = gn.graph_operations.extract_links_on_edge_attributes(\n",
    "    n,\n",
    "    conditions= [{'attributes': {'osm:way:highway': {'text': 'primary'}}},\n",
    "                 {'attributes': {'osm:way:highway': {'text': 'something else'}}}],\n",
    "    how=all\n",
    ")"
   ]
  },
  {
   "cell_type": "code",
   "execution_count": 25,
   "metadata": {
    "ExecuteTime": {
     "end_time": "2020-06-04T12:35:57.497152Z",
     "start_time": "2020-06-04T12:35:57.490487Z"
    }
   },
   "outputs": [
    {
     "data": {
      "text/plain": [
       "[]"
      ]
     },
     "execution_count": 25,
     "metadata": {},
     "output_type": "execute_result"
    }
   ],
   "source": [
    "links[:5]"
   ]
  },
  {
   "cell_type": "markdown",
   "metadata": {},
   "source": [
    "As expected, no links satisfy both `data['attributes']['osm:way:highway']['text'] == 'primary'` and `data['attributes']['osm:way:highway']['text'] == 'something else'`."
   ]
  },
  {
   "cell_type": "markdown",
   "metadata": {},
   "source": [
    "Below, we give an example of subsetting a numeric boundary. We find links where `0 <= 'freespeed'  <= 20`."
   ]
  },
  {
   "cell_type": "code",
   "execution_count": 26,
   "metadata": {
    "ExecuteTime": {
     "end_time": "2020-06-04T12:35:57.582260Z",
     "start_time": "2020-06-04T12:35:57.500396Z"
    }
   },
   "outputs": [],
   "source": [
    "links = gn.graph_operations.extract_links_on_edge_attributes(\n",
    "    n,\n",
    "    conditions = {'freespeed': (0,20)},\n",
    ")"
   ]
  },
  {
   "cell_type": "code",
   "execution_count": 27,
   "metadata": {
    "ExecuteTime": {
     "end_time": "2020-06-04T12:35:57.589687Z",
     "start_time": "2020-06-04T12:35:57.583975Z"
    }
   },
   "outputs": [
    {
     "data": {
      "text/plain": [
       "['1', '10', '100', '1000', '1001']"
      ]
     },
     "execution_count": 27,
     "metadata": {},
     "output_type": "execute_result"
    }
   ],
   "source": [
    "links[:5]"
   ]
  },
  {
   "cell_type": "code",
   "execution_count": 28,
   "metadata": {
    "ExecuteTime": {
     "end_time": "2020-06-04T12:35:57.598394Z",
     "start_time": "2020-06-04T12:35:57.591552Z"
    }
   },
   "outputs": [
    {
     "data": {
      "text/plain": [
       "2334"
      ]
     },
     "execution_count": 28,
     "metadata": {},
     "output_type": "execute_result"
    }
   ],
   "source": [
    "len(links)"
   ]
  },
  {
   "cell_type": "markdown",
   "metadata": {},
   "source": [
    "Finally, we can define a function that will handle the condition for us. The function should take the value expected at the key in the data dictionary and return either `True` or `False`.\n",
    "\n",
    "For example, below we give an example equivalent to our first example of `data['attributes']['osm:way:highway']['text'] == 'primary'` but using a function we defined ourselves to handle the condition."
   ]
  },
  {
   "cell_type": "code",
   "execution_count": 29,
   "metadata": {
    "ExecuteTime": {
     "end_time": "2020-06-04T12:35:57.659403Z",
     "start_time": "2020-06-04T12:35:57.600206Z"
    }
   },
   "outputs": [],
   "source": [
    "def highway_primary(value):\n",
    "    return value == 'primary'\n",
    "\n",
    "links = gn.graph_operations.extract_links_on_edge_attributes(\n",
    "    n,\n",
    "    conditions= {'attributes': {'osm:way:highway': {'text': highway_primary}}},\n",
    ")"
   ]
  },
  {
   "cell_type": "code",
   "execution_count": 30,
   "metadata": {
    "ExecuteTime": {
     "end_time": "2020-06-04T12:35:57.671517Z",
     "start_time": "2020-06-04T12:35:57.664334Z"
    }
   },
   "outputs": [
    {
     "data": {
      "text/plain": [
       "['1007', '1008', '1023', '1024', '103']"
      ]
     },
     "execution_count": 30,
     "metadata": {},
     "output_type": "execute_result"
    }
   ],
   "source": [
    "links[:5]"
   ]
  },
  {
   "cell_type": "code",
   "execution_count": 31,
   "metadata": {
    "ExecuteTime": {
     "end_time": "2020-06-04T12:35:57.681476Z",
     "start_time": "2020-06-04T12:35:57.673870Z"
    }
   },
   "outputs": [
    {
     "data": {
      "text/plain": [
       "619"
      ]
     },
     "execution_count": 31,
     "metadata": {},
     "output_type": "execute_result"
    }
   ],
   "source": [
    "len(links)"
   ]
  },
  {
   "cell_type": "markdown",
   "metadata": {},
   "source": [
    "This allows for really flexible subsetting of the network based on data stored on the edges. Another example, similar to the numeric boundary, but this time we only care about the upper bound and we make it a strict inequality."
   ]
  },
  {
   "cell_type": "code",
   "execution_count": 32,
   "metadata": {
    "ExecuteTime": {
     "end_time": "2020-06-04T12:35:57.737098Z",
     "start_time": "2020-06-04T12:35:57.683630Z"
    }
   },
   "outputs": [],
   "source": [
    "def below_20(value):\n",
    "    return value < 20\n",
    "\n",
    "links = gn.graph_operations.extract_links_on_edge_attributes(\n",
    "    n,\n",
    "    conditions= {'freespeed': below_20},\n",
    ")"
   ]
  },
  {
   "cell_type": "code",
   "execution_count": 33,
   "metadata": {
    "ExecuteTime": {
     "end_time": "2020-06-04T12:35:57.746904Z",
     "start_time": "2020-06-04T12:35:57.740498Z"
    }
   },
   "outputs": [
    {
     "data": {
      "text/plain": [
       "['1', '10', '100', '1000', '1001']"
      ]
     },
     "execution_count": 33,
     "metadata": {},
     "output_type": "execute_result"
    }
   ],
   "source": [
    "links[:5]"
   ]
  },
  {
   "cell_type": "code",
   "execution_count": 34,
   "metadata": {
    "ExecuteTime": {
     "end_time": "2020-06-04T12:35:57.753801Z",
     "start_time": "2020-06-04T12:35:57.748901Z"
    }
   },
   "outputs": [
    {
     "data": {
      "text/plain": [
       "2334"
      ]
     },
     "execution_count": 34,
     "metadata": {},
     "output_type": "execute_result"
    }
   ],
   "source": [
    "len(links)"
   ]
  },
  {
   "cell_type": "markdown",
   "metadata": {},
   "source": [
    "## Using the `Schedule` object"
   ]
  },
  {
   "cell_type": "code",
   "execution_count": null,
   "metadata": {},
   "outputs": [],
   "source": []
  },
  {
   "cell_type": "code",
   "execution_count": null,
   "metadata": {},
   "outputs": [],
   "source": []
  },
  {
   "cell_type": "code",
   "execution_count": null,
   "metadata": {},
   "outputs": [],
   "source": []
  },
  {
   "cell_type": "code",
   "execution_count": null,
   "metadata": {},
   "outputs": [],
   "source": []
  },
  {
   "cell_type": "markdown",
   "metadata": {},
   "source": [
    "## Modifying the `Network` object"
   ]
  },
  {
   "cell_type": "markdown",
   "metadata": {},
   "source": [
    "Let's say you have extracted `genet.Network` link ids of interest and now you want to make changes to the network. Let's make changes to the nested OSM data stored on the links. We will replace the highway tags from `'primary'` to `'SOMETHING'`."
   ]
  },
  {
   "cell_type": "code",
   "execution_count": 35,
   "metadata": {
    "ExecuteTime": {
     "end_time": "2020-06-04T12:35:57.802065Z",
     "start_time": "2020-06-04T12:35:57.755897Z"
    }
   },
   "outputs": [
    {
     "data": {
      "text/plain": [
       "['1007', '1008', '1023', '1024', '103']"
      ]
     },
     "execution_count": 35,
     "metadata": {},
     "output_type": "execute_result"
    }
   ],
   "source": [
    "links = gn.graph_operations.extract_links_on_edge_attributes(\n",
    "    n,\n",
    "    conditions= {'attributes': {'osm:way:highway': {'text': 'primary'}}},\n",
    ")\n",
    "\n",
    "links[:5]"
   ]
  },
  {
   "cell_type": "code",
   "execution_count": 36,
   "metadata": {
    "ExecuteTime": {
     "end_time": "2020-06-04T12:35:57.815882Z",
     "start_time": "2020-06-04T12:35:57.805726Z"
    }
   },
   "outputs": [
    {
     "data": {
      "text/plain": [
       "{'id': '1007',\n",
       " 'from': '4356572310',\n",
       " 'to': '5811263955',\n",
       " 'freespeed': 22.22222222222222,\n",
       " 'capacity': 3000.0,\n",
       " 'permlanes': 2.0,\n",
       " 'oneway': '1',\n",
       " 'modes': ['car'],\n",
       " 's2_from': 5221390723045407809,\n",
       " 's2_to': 5221390723040504387,\n",
       " 'length': 13.941905154249884,\n",
       " 'attributes': {'osm:way:highway': {'name': 'osm:way:highway',\n",
       "   'class': 'java.lang.String',\n",
       "   'text': 'primary'},\n",
       "  'osm:way:id': {'name': 'osm:way:id',\n",
       "   'class': 'java.lang.Long',\n",
       "   'text': '589660342'},\n",
       "  'osm:way:lanes': {'name': 'osm:way:lanes',\n",
       "   'class': 'java.lang.String',\n",
       "   'text': '2'},\n",
       "  'osm:way:name': {'name': 'osm:way:name',\n",
       "   'class': 'java.lang.String',\n",
       "   'text': 'Shaftesbury Avenue'},\n",
       "  'osm:way:oneway': {'name': 'osm:way:oneway',\n",
       "   'class': 'java.lang.String',\n",
       "   'text': 'yes'}}}"
      ]
     },
     "execution_count": 36,
     "metadata": {},
     "output_type": "execute_result"
    }
   ],
   "source": [
    "n.link(links[0])"
   ]
  },
  {
   "cell_type": "code",
   "execution_count": 37,
   "metadata": {
    "ExecuteTime": {
     "end_time": "2020-06-04T12:36:00.305714Z",
     "start_time": "2020-06-04T12:35:57.818019Z"
    }
   },
   "outputs": [],
   "source": [
    "n.apply_attributes_to_links(links, {'attributes': {'osm:way:highway': {'text': 'SOMETHING'}}})"
   ]
  },
  {
   "cell_type": "code",
   "execution_count": 38,
   "metadata": {
    "ExecuteTime": {
     "end_time": "2020-06-04T12:36:00.319961Z",
     "start_time": "2020-06-04T12:36:00.307209Z"
    }
   },
   "outputs": [
    {
     "data": {
      "text/plain": [
       "{'id': '1007',\n",
       " 'from': '4356572310',\n",
       " 'to': '5811263955',\n",
       " 'freespeed': 22.22222222222222,\n",
       " 'capacity': 3000.0,\n",
       " 'permlanes': 2.0,\n",
       " 'oneway': '1',\n",
       " 'modes': ['car'],\n",
       " 's2_from': 5221390723045407809,\n",
       " 's2_to': 5221390723040504387,\n",
       " 'length': 13.941905154249884,\n",
       " 'attributes': {'osm:way:highway': {'name': 'osm:way:highway',\n",
       "   'class': 'java.lang.String',\n",
       "   'text': 'SOMETHING'},\n",
       "  'osm:way:id': {'name': 'osm:way:id',\n",
       "   'class': 'java.lang.Long',\n",
       "   'text': '589660342'},\n",
       "  'osm:way:lanes': {'name': 'osm:way:lanes',\n",
       "   'class': 'java.lang.String',\n",
       "   'text': '2'},\n",
       "  'osm:way:name': {'name': 'osm:way:name',\n",
       "   'class': 'java.lang.String',\n",
       "   'text': 'Shaftesbury Avenue'},\n",
       "  'osm:way:oneway': {'name': 'osm:way:oneway',\n",
       "   'class': 'java.lang.String',\n",
       "   'text': 'yes'}}}"
      ]
     },
     "execution_count": 38,
     "metadata": {},
     "output_type": "execute_result"
    }
   ],
   "source": [
    "n.link(links[0])"
   ]
  },
  {
   "cell_type": "code",
   "execution_count": 39,
   "metadata": {
    "ExecuteTime": {
     "end_time": "2020-06-04T12:36:00.359419Z",
     "start_time": "2020-06-04T12:36:00.324550Z"
    },
    "scrolled": true
   },
   "outputs": [
    {
     "data": {
      "text/html": [
       "<div>\n",
       "<style scoped>\n",
       "    .dataframe tbody tr th:only-of-type {\n",
       "        vertical-align: middle;\n",
       "    }\n",
       "\n",
       "    .dataframe tbody tr th {\n",
       "        vertical-align: top;\n",
       "    }\n",
       "\n",
       "    .dataframe thead th {\n",
       "        text-align: right;\n",
       "    }\n",
       "</style>\n",
       "<table border=\"1\" class=\"dataframe\">\n",
       "  <thead>\n",
       "    <tr style=\"text-align: right;\">\n",
       "      <th></th>\n",
       "      <th>timestamp</th>\n",
       "      <th>change_event</th>\n",
       "      <th>object_type</th>\n",
       "      <th>old_id</th>\n",
       "      <th>new_id</th>\n",
       "      <th>old_attributes</th>\n",
       "      <th>new_attributes</th>\n",
       "      <th>diff</th>\n",
       "    </tr>\n",
       "  </thead>\n",
       "  <tbody>\n",
       "    <tr>\n",
       "      <th>0</th>\n",
       "      <td>2020-06-04 13:35:57</td>\n",
       "      <td>modify</td>\n",
       "      <td>link</td>\n",
       "      <td>1007</td>\n",
       "      <td>1007</td>\n",
       "      <td>{'id': '1007', 'from': '4356572310', 'to': '58...</td>\n",
       "      <td>{'id': '1007', 'from': '4356572310', 'to': '58...</td>\n",
       "      <td>[(change, attributes.osm:way:highway.text, (pr...</td>\n",
       "    </tr>\n",
       "    <tr>\n",
       "      <th>1</th>\n",
       "      <td>2020-06-04 13:35:57</td>\n",
       "      <td>modify</td>\n",
       "      <td>link</td>\n",
       "      <td>1008</td>\n",
       "      <td>1008</td>\n",
       "      <td>{'id': '1008', 'from': '5811263955', 'to': '21...</td>\n",
       "      <td>{'id': '1008', 'from': '5811263955', 'to': '21...</td>\n",
       "      <td>[(change, attributes.osm:way:highway.text, (pr...</td>\n",
       "    </tr>\n",
       "    <tr>\n",
       "      <th>2</th>\n",
       "      <td>2020-06-04 13:35:57</td>\n",
       "      <td>modify</td>\n",
       "      <td>link</td>\n",
       "      <td>1023</td>\n",
       "      <td>1023</td>\n",
       "      <td>{'id': '1023', 'from': '1611125463', 'to': '10...</td>\n",
       "      <td>{'id': '1023', 'from': '1611125463', 'to': '10...</td>\n",
       "      <td>[(change, attributes.osm:way:highway.text, (pr...</td>\n",
       "    </tr>\n",
       "    <tr>\n",
       "      <th>3</th>\n",
       "      <td>2020-06-04 13:35:57</td>\n",
       "      <td>modify</td>\n",
       "      <td>link</td>\n",
       "      <td>1024</td>\n",
       "      <td>1024</td>\n",
       "      <td>{'id': '1024', 'from': '108234', 'to': '254965...</td>\n",
       "      <td>{'id': '1024', 'from': '108234', 'to': '254965...</td>\n",
       "      <td>[(change, attributes.osm:way:highway.text, (pr...</td>\n",
       "    </tr>\n",
       "    <tr>\n",
       "      <th>4</th>\n",
       "      <td>2020-06-04 13:35:57</td>\n",
       "      <td>modify</td>\n",
       "      <td>link</td>\n",
       "      <td>103</td>\n",
       "      <td>103</td>\n",
       "      <td>{'id': '103', 'from': '5244680786', 'to': '951...</td>\n",
       "      <td>{'id': '103', 'from': '5244680786', 'to': '951...</td>\n",
       "      <td>[(change, attributes.osm:way:highway.text, (pr...</td>\n",
       "    </tr>\n",
       "  </tbody>\n",
       "</table>\n",
       "</div>"
      ],
      "text/plain": [
       "             timestamp change_event object_type old_id new_id  \\\n",
       "0  2020-06-04 13:35:57       modify        link   1007   1007   \n",
       "1  2020-06-04 13:35:57       modify        link   1008   1008   \n",
       "2  2020-06-04 13:35:57       modify        link   1023   1023   \n",
       "3  2020-06-04 13:35:57       modify        link   1024   1024   \n",
       "4  2020-06-04 13:35:57       modify        link    103    103   \n",
       "\n",
       "                                      old_attributes  \\\n",
       "0  {'id': '1007', 'from': '4356572310', 'to': '58...   \n",
       "1  {'id': '1008', 'from': '5811263955', 'to': '21...   \n",
       "2  {'id': '1023', 'from': '1611125463', 'to': '10...   \n",
       "3  {'id': '1024', 'from': '108234', 'to': '254965...   \n",
       "4  {'id': '103', 'from': '5244680786', 'to': '951...   \n",
       "\n",
       "                                      new_attributes  \\\n",
       "0  {'id': '1007', 'from': '4356572310', 'to': '58...   \n",
       "1  {'id': '1008', 'from': '5811263955', 'to': '21...   \n",
       "2  {'id': '1023', 'from': '1611125463', 'to': '10...   \n",
       "3  {'id': '1024', 'from': '108234', 'to': '254965...   \n",
       "4  {'id': '103', 'from': '5244680786', 'to': '951...   \n",
       "\n",
       "                                                diff  \n",
       "0  [(change, attributes.osm:way:highway.text, (pr...  \n",
       "1  [(change, attributes.osm:way:highway.text, (pr...  \n",
       "2  [(change, attributes.osm:way:highway.text, (pr...  \n",
       "3  [(change, attributes.osm:way:highway.text, (pr...  \n",
       "4  [(change, attributes.osm:way:highway.text, (pr...  "
      ]
     },
     "execution_count": 39,
     "metadata": {},
     "output_type": "execute_result"
    }
   ],
   "source": [
    "n.change_log.log.head()"
   ]
  },
  {
   "cell_type": "code",
   "execution_count": 40,
   "metadata": {
    "ExecuteTime": {
     "end_time": "2020-06-04T12:36:00.397023Z",
     "start_time": "2020-06-04T12:36:00.369384Z"
    }
   },
   "outputs": [
    {
     "data": {
      "text/plain": [
       "\"{'id': '987', 'from': '5630766895', 'to': '26699560', 'freespeed': 22.22222222222222, 'capacity': 3000.0, 'permlanes': 2.0, 'oneway': '1', 'modes': ['car'], 's2_from': 5221390723297804391, 's2_to': 5221390723303977989, 'length': 18.844372120776608, 'attributes': {'osm:relation:route': {'name': 'osm:relation:route', 'class': 'java.lang.String', 'text': 'bicycle'}, 'osm:way:highway': {'name': 'osm:way:highway', 'class': 'java.lang.String', 'text': 'primary'}, 'osm:way:id': {'name': 'osm:way:id', 'class': 'java.lang.Long', 'text': '589659240'}, 'osm:way:lanes': {'name': 'osm:way:lanes', 'class': 'java.lang.String', 'text': '2'}, 'osm:way:name': {'name': 'osm:way:name', 'class': 'java.lang.String', 'text': 'Shaftesbury Avenue'}, 'osm:way:oneway': {'name': 'osm:way:oneway', 'class': 'java.lang.String', 'text': 'yes'}}}\""
      ]
     },
     "execution_count": 40,
     "metadata": {},
     "output_type": "execute_result"
    }
   ],
   "source": [
    "n.change_log.log.loc[618, :]['old_attributes']"
   ]
  },
  {
   "cell_type": "code",
   "execution_count": 41,
   "metadata": {
    "ExecuteTime": {
     "end_time": "2020-06-04T12:36:00.435604Z",
     "start_time": "2020-06-04T12:36:00.405896Z"
    }
   },
   "outputs": [
    {
     "data": {
      "text/plain": [
       "\"{'id': '987', 'from': '5630766895', 'to': '26699560', 'freespeed': 22.22222222222222, 'capacity': 3000.0, 'permlanes': 2.0, 'oneway': '1', 'modes': ['car'], 's2_from': 5221390723297804391, 's2_to': 5221390723303977989, 'length': 18.844372120776608, 'attributes': {'osm:relation:route': {'name': 'osm:relation:route', 'class': 'java.lang.String', 'text': 'bicycle'}, 'osm:way:highway': {'name': 'osm:way:highway', 'class': 'java.lang.String', 'text': 'SOMETHING'}, 'osm:way:id': {'name': 'osm:way:id', 'class': 'java.lang.Long', 'text': '589659240'}, 'osm:way:lanes': {'name': 'osm:way:lanes', 'class': 'java.lang.String', 'text': '2'}, 'osm:way:name': {'name': 'osm:way:name', 'class': 'java.lang.String', 'text': 'Shaftesbury Avenue'}, 'osm:way:oneway': {'name': 'osm:way:oneway', 'class': 'java.lang.String', 'text': 'yes'}}}\""
      ]
     },
     "execution_count": 41,
     "metadata": {},
     "output_type": "execute_result"
    }
   ],
   "source": [
    "n.change_log.log.loc[618, :]['new_attributes']"
   ]
  },
  {
   "cell_type": "code",
   "execution_count": 42,
   "metadata": {
    "ExecuteTime": {
     "end_time": "2020-06-04T12:36:00.448599Z",
     "start_time": "2020-06-04T12:36:00.438704Z"
    }
   },
   "outputs": [
    {
     "data": {
      "text/plain": [
       "[('change', 'attributes.osm:way:highway.text', ('primary', 'SOMETHING'))]"
      ]
     },
     "execution_count": 42,
     "metadata": {},
     "output_type": "execute_result"
    }
   ],
   "source": [
    "n.change_log.log.loc[618, :]['diff']"
   ]
  },
  {
   "cell_type": "markdown",
   "metadata": {},
   "source": [
    "## Modifying the `Schedule` object"
   ]
  },
  {
   "cell_type": "code",
   "execution_count": null,
   "metadata": {},
   "outputs": [],
   "source": []
  },
  {
   "cell_type": "code",
   "execution_count": null,
   "metadata": {},
   "outputs": [],
   "source": []
  },
  {
   "cell_type": "code",
   "execution_count": null,
   "metadata": {},
   "outputs": [],
   "source": []
  },
  {
   "cell_type": "code",
   "execution_count": null,
   "metadata": {},
   "outputs": [],
   "source": []
  },
  {
   "cell_type": "code",
   "execution_count": null,
   "metadata": {},
   "outputs": [],
   "source": []
  },
  {
   "cell_type": "code",
   "execution_count": null,
   "metadata": {},
   "outputs": [],
   "source": []
  },
  {
   "cell_type": "code",
   "execution_count": null,
   "metadata": {},
   "outputs": [],
   "source": []
  },
  {
   "cell_type": "markdown",
   "metadata": {},
   "source": [
    "## Validation"
   ]
  },
  {
   "cell_type": "code",
   "execution_count": null,
   "metadata": {},
   "outputs": [],
   "source": []
  },
  {
   "cell_type": "code",
   "execution_count": null,
   "metadata": {},
   "outputs": [],
   "source": []
  },
  {
   "cell_type": "code",
   "execution_count": null,
   "metadata": {},
   "outputs": [],
   "source": []
  },
  {
   "cell_type": "code",
   "execution_count": null,
   "metadata": {},
   "outputs": [],
   "source": []
  },
  {
   "cell_type": "code",
   "execution_count": null,
   "metadata": {},
   "outputs": [],
   "source": []
  },
  {
   "cell_type": "code",
   "execution_count": null,
   "metadata": {},
   "outputs": [],
   "source": []
  },
  {
   "cell_type": "code",
   "execution_count": null,
   "metadata": {},
   "outputs": [],
   "source": []
  },
  {
   "cell_type": "markdown",
   "metadata": {},
   "source": [
    "## Writing results"
   ]
  },
  {
   "cell_type": "code",
   "execution_count": 43,
   "metadata": {
    "ExecuteTime": {
     "end_time": "2020-06-04T12:36:02.815560Z",
     "start_time": "2020-06-04T12:36:00.451072Z"
    }
   },
   "outputs": [
    {
     "name": "stderr",
     "output_type": "stream",
     "text": [
      "/Users/kasia.kozlowska/pycharm_venvs/genet/lib/python3.7/site-packages/pyproj/crs/crs.py:53: FutureWarning: '+init=<authority>:<code>' syntax is deprecated. '<authority>:<code>' is the preferred initialization method. When making the change, be mindful of axis order changes: https://pyproj4.github.io/pyproj/stable/gotchas.html#axis-order-changes-in-proj-6\n",
      "  return _prepare_from_string(\" \".join(pjargs))\n",
      "/Users/kasia.kozlowska/pycharm_venvs/genet/lib/python3.7/site-packages/pyproj/crs/crs.py:294: FutureWarning: '+init=<authority>:<code>' syntax is deprecated. '<authority>:<code>' is the preferred initialization method. When making the change, be mindful of axis order changes: https://pyproj4.github.io/pyproj/stable/gotchas.html#axis-order-changes-in-proj-6\n",
      "  projstring = _prepare_from_string(\" \".join((projstring, projkwargs)))\n",
      "/Users/kasia.kozlowska/pycharm_venvs/genet/lib/python3.7/site-packages/pyproj/crs/crs.py:53: FutureWarning: '+init=<authority>:<code>' syntax is deprecated. '<authority>:<code>' is the preferred initialization method. When making the change, be mindful of axis order changes: https://pyproj4.github.io/pyproj/stable/gotchas.html#axis-order-changes-in-proj-6\n",
      "  return _prepare_from_string(\" \".join(pjargs))\n",
      "/Users/kasia.kozlowska/pycharm_venvs/genet/lib/python3.7/site-packages/pyproj/crs/crs.py:294: FutureWarning: '+init=<authority>:<code>' syntax is deprecated. '<authority>:<code>' is the preferred initialization method. When making the change, be mindful of axis order changes: https://pyproj4.github.io/pyproj/stable/gotchas.html#axis-order-changes-in-proj-6\n",
      "  projstring = _prepare_from_string(\" \".join((projstring, projkwargs)))\n",
      "WARNING:root:The stop(s) along your route don't have arrival and departure offsets. This is likely a route with one stop - consider validating your schedule.\n",
      "WARNING:root:Route needs to have a network route composed of a list of network links that the vehicle on this route traverses. If read the Schedule from GTFS, the resulting Route objects will not have reference to the network route taken.\n",
      "WARNING:root:Route needs to have a network route composed of a list of network links that the vehicle on this route traverses. If read the Schedule from GTFS, the resulting Route objects will not have reference to the network route taken.\n",
      "WARNING:root:Route needs to have a network route composed of a list of network links that the vehicle on this route traverses. If read the Schedule from GTFS, the resulting Route objects will not have reference to the network route taken.\n",
      "WARNING:root:Route needs to have a network route composed of a list of network links that the vehicle on this route traverses. If read the Schedule from GTFS, the resulting Route objects will not have reference to the network route taken.\n",
      "WARNING:root:Route needs to have a network route composed of a list of network links that the vehicle on this route traverses. If read the Schedule from GTFS, the resulting Route objects will not have reference to the network route taken.\n",
      "WARNING:root:Route needs to have a network route composed of a list of network links that the vehicle on this route traverses. If read the Schedule from GTFS, the resulting Route objects will not have reference to the network route taken.\n",
      "WARNING:root:Route needs to have a network route composed of a list of network links that the vehicle on this route traverses. If read the Schedule from GTFS, the resulting Route objects will not have reference to the network route taken.\n",
      "WARNING:root:Route needs to have a network route composed of a list of network links that the vehicle on this route traverses. If read the Schedule from GTFS, the resulting Route objects will not have reference to the network route taken.\n",
      "WARNING:root:Route needs to have a network route composed of a list of network links that the vehicle on this route traverses. If read the Schedule from GTFS, the resulting Route objects will not have reference to the network route taken.\n",
      "WARNING:root:Route needs to have a network route composed of a list of network links that the vehicle on this route traverses. If read the Schedule from GTFS, the resulting Route objects will not have reference to the network route taken.\n",
      "WARNING:root:Route needs to have a network route composed of a list of network links that the vehicle on this route traverses. If read the Schedule from GTFS, the resulting Route objects will not have reference to the network route taken.\n",
      "WARNING:root:Route needs to have a network route composed of a list of network links that the vehicle on this route traverses. If read the Schedule from GTFS, the resulting Route objects will not have reference to the network route taken.\n",
      "WARNING:root:Route needs to have a network route composed of a list of network links that the vehicle on this route traverses. If read the Schedule from GTFS, the resulting Route objects will not have reference to the network route taken.\n",
      "WARNING:root:Route needs to have a network route composed of a list of network links that the vehicle on this route traverses. If read the Schedule from GTFS, the resulting Route objects will not have reference to the network route taken.\n",
      "WARNING:root:Route needs to have a network route composed of a list of network links that the vehicle on this route traverses. If read the Schedule from GTFS, the resulting Route objects will not have reference to the network route taken.\n",
      "WARNING:root:Route needs to have a network route composed of a list of network links that the vehicle on this route traverses. If read the Schedule from GTFS, the resulting Route objects will not have reference to the network route taken.\n",
      "WARNING:root:Route needs to have a network route composed of a list of network links that the vehicle on this route traverses. If read the Schedule from GTFS, the resulting Route objects will not have reference to the network route taken.\n",
      "WARNING:root:Route needs to have a network route composed of a list of network links that the vehicle on this route traverses. If read the Schedule from GTFS, the resulting Route objects will not have reference to the network route taken.\n",
      "WARNING:root:Route needs to have a network route composed of a list of network links that the vehicle on this route traverses. If read the Schedule from GTFS, the resulting Route objects will not have reference to the network route taken.\n",
      "WARNING:root:Route needs to have a network route composed of a list of network links that the vehicle on this route traverses. If read the Schedule from GTFS, the resulting Route objects will not have reference to the network route taken.\n",
      "WARNING:root:Route needs to have a network route composed of a list of network links that the vehicle on this route traverses. If read the Schedule from GTFS, the resulting Route objects will not have reference to the network route taken.\n",
      "WARNING:root:Route needs to have a network route composed of a list of network links that the vehicle on this route traverses. If read the Schedule from GTFS, the resulting Route objects will not have reference to the network route taken.\n",
      "WARNING:root:Route needs to have a network route composed of a list of network links that the vehicle on this route traverses. If read the Schedule from GTFS, the resulting Route objects will not have reference to the network route taken.\n",
      "WARNING:root:Route needs to have a network route composed of a list of network links that the vehicle on this route traverses. If read the Schedule from GTFS, the resulting Route objects will not have reference to the network route taken.\n",
      "WARNING:root:Route needs to have a network route composed of a list of network links that the vehicle on this route traverses. If read the Schedule from GTFS, the resulting Route objects will not have reference to the network route taken.\n",
      "WARNING:root:Route needs to have a network route composed of a list of network links that the vehicle on this route traverses. If read the Schedule from GTFS, the resulting Route objects will not have reference to the network route taken.\n",
      "WARNING:root:Route needs to have a network route composed of a list of network links that the vehicle on this route traverses. If read the Schedule from GTFS, the resulting Route objects will not have reference to the network route taken.\n"
     ]
    },
    {
     "name": "stderr",
     "output_type": "stream",
     "text": [
      "WARNING:root:Route needs to have a network route composed of a list of network links that the vehicle on this route traverses. If read the Schedule from GTFS, the resulting Route objects will not have reference to the network route taken.\n",
      "WARNING:root:Route needs to have a network route composed of a list of network links that the vehicle on this route traverses. If read the Schedule from GTFS, the resulting Route objects will not have reference to the network route taken.\n",
      "WARNING:root:Route needs to have a network route composed of a list of network links that the vehicle on this route traverses. If read the Schedule from GTFS, the resulting Route objects will not have reference to the network route taken.\n",
      "WARNING:root:Route needs to have a network route composed of a list of network links that the vehicle on this route traverses. If read the Schedule from GTFS, the resulting Route objects will not have reference to the network route taken.\n",
      "WARNING:root:Route needs to have a network route composed of a list of network links that the vehicle on this route traverses. If read the Schedule from GTFS, the resulting Route objects will not have reference to the network route taken.\n",
      "WARNING:root:Route needs to have a network route composed of a list of network links that the vehicle on this route traverses. If read the Schedule from GTFS, the resulting Route objects will not have reference to the network route taken.\n",
      "WARNING:root:Route needs to have a network route composed of a list of network links that the vehicle on this route traverses. If read the Schedule from GTFS, the resulting Route objects will not have reference to the network route taken.\n",
      "WARNING:root:Route needs to have a network route composed of a list of network links that the vehicle on this route traverses. If read the Schedule from GTFS, the resulting Route objects will not have reference to the network route taken.\n",
      "WARNING:root:Route needs to have a network route composed of a list of network links that the vehicle on this route traverses. If read the Schedule from GTFS, the resulting Route objects will not have reference to the network route taken.\n",
      "WARNING:root:Route needs to have a network route composed of a list of network links that the vehicle on this route traverses. If read the Schedule from GTFS, the resulting Route objects will not have reference to the network route taken.\n",
      "WARNING:root:Route needs to have a network route composed of a list of network links that the vehicle on this route traverses. If read the Schedule from GTFS, the resulting Route objects will not have reference to the network route taken.\n",
      "WARNING:root:Route needs to have a network route composed of a list of network links that the vehicle on this route traverses. If read the Schedule from GTFS, the resulting Route objects will not have reference to the network route taken.\n",
      "WARNING:root:Route needs to have a network route composed of a list of network links that the vehicle on this route traverses. If read the Schedule from GTFS, the resulting Route objects will not have reference to the network route taken.\n",
      "WARNING:root:Route needs to have a network route composed of a list of network links that the vehicle on this route traverses. If read the Schedule from GTFS, the resulting Route objects will not have reference to the network route taken.\n",
      "WARNING:root:Route needs to have a network route composed of a list of network links that the vehicle on this route traverses. If read the Schedule from GTFS, the resulting Route objects will not have reference to the network route taken.\n",
      "WARNING:root:Route needs to have a network route composed of a list of network links that the vehicle on this route traverses. If read the Schedule from GTFS, the resulting Route objects will not have reference to the network route taken.\n",
      "WARNING:root:Route needs to have a network route composed of a list of network links that the vehicle on this route traverses. If read the Schedule from GTFS, the resulting Route objects will not have reference to the network route taken.\n",
      "WARNING:root:Route needs to have a network route composed of a list of network links that the vehicle on this route traverses. If read the Schedule from GTFS, the resulting Route objects will not have reference to the network route taken.\n",
      "WARNING:root:Route needs to have a network route composed of a list of network links that the vehicle on this route traverses. If read the Schedule from GTFS, the resulting Route objects will not have reference to the network route taken.\n",
      "WARNING:root:Route needs to have a network route composed of a list of network links that the vehicle on this route traverses. If read the Schedule from GTFS, the resulting Route objects will not have reference to the network route taken.\n",
      "WARNING:root:Route needs to have a network route composed of a list of network links that the vehicle on this route traverses. If read the Schedule from GTFS, the resulting Route objects will not have reference to the network route taken.\n",
      "WARNING:root:Route needs to have a network route composed of a list of network links that the vehicle on this route traverses. If read the Schedule from GTFS, the resulting Route objects will not have reference to the network route taken.\n",
      "WARNING:root:Route needs to have a network route composed of a list of network links that the vehicle on this route traverses. If read the Schedule from GTFS, the resulting Route objects will not have reference to the network route taken.\n",
      "WARNING:root:The stop(s) along your route don't have arrival and departure offsets. This is likely a route with one stop - consider validating your schedule.\n",
      "WARNING:root:Route needs to have a network route composed of a list of network links that the vehicle on this route traverses. If read the Schedule from GTFS, the resulting Route objects will not have reference to the network route taken.\n",
      "WARNING:root:Route needs to have a network route composed of a list of network links that the vehicle on this route traverses. If read the Schedule from GTFS, the resulting Route objects will not have reference to the network route taken.\n",
      "WARNING:root:The stop(s) along your route don't have arrival and departure offsets. This is likely a route with one stop - consider validating your schedule.\n",
      "WARNING:root:Route needs to have a network route composed of a list of network links that the vehicle on this route traverses. If read the Schedule from GTFS, the resulting Route objects will not have reference to the network route taken.\n",
      "WARNING:root:The stop(s) along your route don't have arrival and departure offsets. This is likely a route with one stop - consider validating your schedule.\n",
      "WARNING:root:Route needs to have a network route composed of a list of network links that the vehicle on this route traverses. If read the Schedule from GTFS, the resulting Route objects will not have reference to the network route taken.\n",
      "WARNING:root:Route needs to have a network route composed of a list of network links that the vehicle on this route traverses. If read the Schedule from GTFS, the resulting Route objects will not have reference to the network route taken.\n",
      "WARNING:root:Route needs to have a network route composed of a list of network links that the vehicle on this route traverses. If read the Schedule from GTFS, the resulting Route objects will not have reference to the network route taken.\n",
      "WARNING:root:Route needs to have a network route composed of a list of network links that the vehicle on this route traverses. If read the Schedule from GTFS, the resulting Route objects will not have reference to the network route taken.\n",
      "WARNING:root:Route needs to have a network route composed of a list of network links that the vehicle on this route traverses. If read the Schedule from GTFS, the resulting Route objects will not have reference to the network route taken.\n",
      "WARNING:root:Route needs to have a network route composed of a list of network links that the vehicle on this route traverses. If read the Schedule from GTFS, the resulting Route objects will not have reference to the network route taken.\n",
      "WARNING:root:The stop(s) along your route don't have arrival and departure offsets. This is likely a route with one stop - consider validating your schedule.\n"
     ]
    },
    {
     "name": "stderr",
     "output_type": "stream",
     "text": [
      "WARNING:root:Route needs to have a network route composed of a list of network links that the vehicle on this route traverses. If read the Schedule from GTFS, the resulting Route objects will not have reference to the network route taken.\n",
      "WARNING:root:Route needs to have a network route composed of a list of network links that the vehicle on this route traverses. If read the Schedule from GTFS, the resulting Route objects will not have reference to the network route taken.\n",
      "WARNING:root:Route needs to have a network route composed of a list of network links that the vehicle on this route traverses. If read the Schedule from GTFS, the resulting Route objects will not have reference to the network route taken.\n",
      "WARNING:root:Route needs to have a network route composed of a list of network links that the vehicle on this route traverses. If read the Schedule from GTFS, the resulting Route objects will not have reference to the network route taken.\n",
      "WARNING:root:Route needs to have a network route composed of a list of network links that the vehicle on this route traverses. If read the Schedule from GTFS, the resulting Route objects will not have reference to the network route taken.\n",
      "WARNING:root:Route needs to have a network route composed of a list of network links that the vehicle on this route traverses. If read the Schedule from GTFS, the resulting Route objects will not have reference to the network route taken.\n",
      "WARNING:root:Route needs to have a network route composed of a list of network links that the vehicle on this route traverses. If read the Schedule from GTFS, the resulting Route objects will not have reference to the network route taken.\n",
      "WARNING:root:Route needs to have a network route composed of a list of network links that the vehicle on this route traverses. If read the Schedule from GTFS, the resulting Route objects will not have reference to the network route taken.\n",
      "WARNING:root:The stop(s) along your route don't have arrival and departure offsets. This is likely a route with one stop - consider validating your schedule.\n",
      "WARNING:root:Route needs to have a network route composed of a list of network links that the vehicle on this route traverses. If read the Schedule from GTFS, the resulting Route objects will not have reference to the network route taken.\n",
      "WARNING:root:The stop(s) along your route don't have arrival and departure offsets. This is likely a route with one stop - consider validating your schedule.\n",
      "WARNING:root:Route needs to have a network route composed of a list of network links that the vehicle on this route traverses. If read the Schedule from GTFS, the resulting Route objects will not have reference to the network route taken.\n",
      "WARNING:root:Route needs to have a network route composed of a list of network links that the vehicle on this route traverses. If read the Schedule from GTFS, the resulting Route objects will not have reference to the network route taken.\n",
      "WARNING:root:Route needs to have a network route composed of a list of network links that the vehicle on this route traverses. If read the Schedule from GTFS, the resulting Route objects will not have reference to the network route taken.\n",
      "WARNING:root:Route needs to have a network route composed of a list of network links that the vehicle on this route traverses. If read the Schedule from GTFS, the resulting Route objects will not have reference to the network route taken.\n",
      "WARNING:root:Route needs to have a network route composed of a list of network links that the vehicle on this route traverses. If read the Schedule from GTFS, the resulting Route objects will not have reference to the network route taken.\n",
      "WARNING:root:The stop(s) along your route don't have arrival and departure offsets. This is likely a route with one stop - consider validating your schedule.\n",
      "WARNING:root:Route needs to have a network route composed of a list of network links that the vehicle on this route traverses. If read the Schedule from GTFS, the resulting Route objects will not have reference to the network route taken.\n",
      "WARNING:root:Route needs to have a network route composed of a list of network links that the vehicle on this route traverses. If read the Schedule from GTFS, the resulting Route objects will not have reference to the network route taken.\n",
      "WARNING:root:Route needs to have a network route composed of a list of network links that the vehicle on this route traverses. If read the Schedule from GTFS, the resulting Route objects will not have reference to the network route taken.\n",
      "WARNING:root:Route needs to have a network route composed of a list of network links that the vehicle on this route traverses. If read the Schedule from GTFS, the resulting Route objects will not have reference to the network route taken.\n",
      "WARNING:root:Route needs to have a network route composed of a list of network links that the vehicle on this route traverses. If read the Schedule from GTFS, the resulting Route objects will not have reference to the network route taken.\n",
      "WARNING:root:Route needs to have a network route composed of a list of network links that the vehicle on this route traverses. If read the Schedule from GTFS, the resulting Route objects will not have reference to the network route taken.\n",
      "WARNING:root:Route needs to have a network route composed of a list of network links that the vehicle on this route traverses. If read the Schedule from GTFS, the resulting Route objects will not have reference to the network route taken.\n",
      "WARNING:root:Route needs to have a network route composed of a list of network links that the vehicle on this route traverses. If read the Schedule from GTFS, the resulting Route objects will not have reference to the network route taken.\n",
      "WARNING:root:Route needs to have a network route composed of a list of network links that the vehicle on this route traverses. If read the Schedule from GTFS, the resulting Route objects will not have reference to the network route taken.\n",
      "WARNING:root:Route needs to have a network route composed of a list of network links that the vehicle on this route traverses. If read the Schedule from GTFS, the resulting Route objects will not have reference to the network route taken.\n",
      "WARNING:root:Route needs to have a network route composed of a list of network links that the vehicle on this route traverses. If read the Schedule from GTFS, the resulting Route objects will not have reference to the network route taken.\n",
      "WARNING:root:Route needs to have a network route composed of a list of network links that the vehicle on this route traverses. If read the Schedule from GTFS, the resulting Route objects will not have reference to the network route taken.\n",
      "WARNING:root:Route needs to have a network route composed of a list of network links that the vehicle on this route traverses. If read the Schedule from GTFS, the resulting Route objects will not have reference to the network route taken.\n",
      "WARNING:root:Route needs to have a network route composed of a list of network links that the vehicle on this route traverses. If read the Schedule from GTFS, the resulting Route objects will not have reference to the network route taken.\n",
      "WARNING:root:Route needs to have a network route composed of a list of network links that the vehicle on this route traverses. If read the Schedule from GTFS, the resulting Route objects will not have reference to the network route taken.\n",
      "WARNING:root:Route needs to have a network route composed of a list of network links that the vehicle on this route traverses. If read the Schedule from GTFS, the resulting Route objects will not have reference to the network route taken.\n",
      "WARNING:root:Route needs to have a network route composed of a list of network links that the vehicle on this route traverses. If read the Schedule from GTFS, the resulting Route objects will not have reference to the network route taken.\n",
      "WARNING:root:Route needs to have a network route composed of a list of network links that the vehicle on this route traverses. If read the Schedule from GTFS, the resulting Route objects will not have reference to the network route taken.\n",
      "WARNING:root:Route needs to have a network route composed of a list of network links that the vehicle on this route traverses. If read the Schedule from GTFS, the resulting Route objects will not have reference to the network route taken.\n"
     ]
    },
    {
     "name": "stderr",
     "output_type": "stream",
     "text": [
      "WARNING:root:Route needs to have a network route composed of a list of network links that the vehicle on this route traverses. If read the Schedule from GTFS, the resulting Route objects will not have reference to the network route taken.\n",
      "WARNING:root:Route needs to have a network route composed of a list of network links that the vehicle on this route traverses. If read the Schedule from GTFS, the resulting Route objects will not have reference to the network route taken.\n",
      "WARNING:root:Route needs to have a network route composed of a list of network links that the vehicle on this route traverses. If read the Schedule from GTFS, the resulting Route objects will not have reference to the network route taken.\n",
      "WARNING:root:Route needs to have a network route composed of a list of network links that the vehicle on this route traverses. If read the Schedule from GTFS, the resulting Route objects will not have reference to the network route taken.\n",
      "WARNING:root:Route needs to have a network route composed of a list of network links that the vehicle on this route traverses. If read the Schedule from GTFS, the resulting Route objects will not have reference to the network route taken.\n",
      "WARNING:root:Route needs to have a network route composed of a list of network links that the vehicle on this route traverses. If read the Schedule from GTFS, the resulting Route objects will not have reference to the network route taken.\n",
      "WARNING:root:Route needs to have a network route composed of a list of network links that the vehicle on this route traverses. If read the Schedule from GTFS, the resulting Route objects will not have reference to the network route taken.\n",
      "WARNING:root:Route needs to have a network route composed of a list of network links that the vehicle on this route traverses. If read the Schedule from GTFS, the resulting Route objects will not have reference to the network route taken.\n",
      "WARNING:root:Route needs to have a network route composed of a list of network links that the vehicle on this route traverses. If read the Schedule from GTFS, the resulting Route objects will not have reference to the network route taken.\n",
      "WARNING:root:Route needs to have a network route composed of a list of network links that the vehicle on this route traverses. If read the Schedule from GTFS, the resulting Route objects will not have reference to the network route taken.\n",
      "WARNING:root:Route needs to have a network route composed of a list of network links that the vehicle on this route traverses. If read the Schedule from GTFS, the resulting Route objects will not have reference to the network route taken.\n",
      "WARNING:root:Route needs to have a network route composed of a list of network links that the vehicle on this route traverses. If read the Schedule from GTFS, the resulting Route objects will not have reference to the network route taken.\n",
      "WARNING:root:Route needs to have a network route composed of a list of network links that the vehicle on this route traverses. If read the Schedule from GTFS, the resulting Route objects will not have reference to the network route taken.\n",
      "WARNING:root:Route needs to have a network route composed of a list of network links that the vehicle on this route traverses. If read the Schedule from GTFS, the resulting Route objects will not have reference to the network route taken.\n",
      "WARNING:root:Route needs to have a network route composed of a list of network links that the vehicle on this route traverses. If read the Schedule from GTFS, the resulting Route objects will not have reference to the network route taken.\n",
      "WARNING:root:Route needs to have a network route composed of a list of network links that the vehicle on this route traverses. If read the Schedule from GTFS, the resulting Route objects will not have reference to the network route taken.\n",
      "WARNING:root:Route needs to have a network route composed of a list of network links that the vehicle on this route traverses. If read the Schedule from GTFS, the resulting Route objects will not have reference to the network route taken.\n",
      "WARNING:root:Route needs to have a network route composed of a list of network links that the vehicle on this route traverses. If read the Schedule from GTFS, the resulting Route objects will not have reference to the network route taken.\n",
      "WARNING:root:Route needs to have a network route composed of a list of network links that the vehicle on this route traverses. If read the Schedule from GTFS, the resulting Route objects will not have reference to the network route taken.\n",
      "WARNING:root:Route needs to have a network route composed of a list of network links that the vehicle on this route traverses. If read the Schedule from GTFS, the resulting Route objects will not have reference to the network route taken.\n",
      "WARNING:root:Route needs to have a network route composed of a list of network links that the vehicle on this route traverses. If read the Schedule from GTFS, the resulting Route objects will not have reference to the network route taken.\n",
      "WARNING:root:Route needs to have a network route composed of a list of network links that the vehicle on this route traverses. If read the Schedule from GTFS, the resulting Route objects will not have reference to the network route taken.\n",
      "WARNING:root:Route needs to have a network route composed of a list of network links that the vehicle on this route traverses. If read the Schedule from GTFS, the resulting Route objects will not have reference to the network route taken.\n",
      "WARNING:root:Route needs to have a network route composed of a list of network links that the vehicle on this route traverses. If read the Schedule from GTFS, the resulting Route objects will not have reference to the network route taken.\n",
      "WARNING:root:Route needs to have a network route composed of a list of network links that the vehicle on this route traverses. If read the Schedule from GTFS, the resulting Route objects will not have reference to the network route taken.\n",
      "WARNING:root:Route needs to have a network route composed of a list of network links that the vehicle on this route traverses. If read the Schedule from GTFS, the resulting Route objects will not have reference to the network route taken.\n",
      "WARNING:root:Route needs to have a network route composed of a list of network links that the vehicle on this route traverses. If read the Schedule from GTFS, the resulting Route objects will not have reference to the network route taken.\n",
      "WARNING:root:Route needs to have a network route composed of a list of network links that the vehicle on this route traverses. If read the Schedule from GTFS, the resulting Route objects will not have reference to the network route taken.\n",
      "WARNING:root:Route needs to have a network route composed of a list of network links that the vehicle on this route traverses. If read the Schedule from GTFS, the resulting Route objects will not have reference to the network route taken.\n",
      "WARNING:root:Route needs to have a network route composed of a list of network links that the vehicle on this route traverses. If read the Schedule from GTFS, the resulting Route objects will not have reference to the network route taken.\n",
      "WARNING:root:The stop(s) along your route don't have arrival and departure offsets. This is likely a route with one stop - consider validating your schedule.\n",
      "WARNING:root:Route needs to have a network route composed of a list of network links that the vehicle on this route traverses. If read the Schedule from GTFS, the resulting Route objects will not have reference to the network route taken.\n",
      "WARNING:root:Route needs to have a network route composed of a list of network links that the vehicle on this route traverses. If read the Schedule from GTFS, the resulting Route objects will not have reference to the network route taken.\n",
      "WARNING:root:Route needs to have a network route composed of a list of network links that the vehicle on this route traverses. If read the Schedule from GTFS, the resulting Route objects will not have reference to the network route taken.\n",
      "WARNING:root:Route needs to have a network route composed of a list of network links that the vehicle on this route traverses. If read the Schedule from GTFS, the resulting Route objects will not have reference to the network route taken.\n"
     ]
    },
    {
     "name": "stderr",
     "output_type": "stream",
     "text": [
      "WARNING:root:Route needs to have a network route composed of a list of network links that the vehicle on this route traverses. If read the Schedule from GTFS, the resulting Route objects will not have reference to the network route taken.\n",
      "WARNING:root:Route needs to have a network route composed of a list of network links that the vehicle on this route traverses. If read the Schedule from GTFS, the resulting Route objects will not have reference to the network route taken.\n",
      "WARNING:root:The stop(s) along your route don't have arrival and departure offsets. This is likely a route with one stop - consider validating your schedule.\n",
      "WARNING:root:Route needs to have a network route composed of a list of network links that the vehicle on this route traverses. If read the Schedule from GTFS, the resulting Route objects will not have reference to the network route taken.\n",
      "WARNING:root:Route needs to have a network route composed of a list of network links that the vehicle on this route traverses. If read the Schedule from GTFS, the resulting Route objects will not have reference to the network route taken.\n",
      "WARNING:root:Route needs to have a network route composed of a list of network links that the vehicle on this route traverses. If read the Schedule from GTFS, the resulting Route objects will not have reference to the network route taken.\n",
      "WARNING:root:Route needs to have a network route composed of a list of network links that the vehicle on this route traverses. If read the Schedule from GTFS, the resulting Route objects will not have reference to the network route taken.\n",
      "WARNING:root:Route needs to have a network route composed of a list of network links that the vehicle on this route traverses. If read the Schedule from GTFS, the resulting Route objects will not have reference to the network route taken.\n",
      "WARNING:root:Route needs to have a network route composed of a list of network links that the vehicle on this route traverses. If read the Schedule from GTFS, the resulting Route objects will not have reference to the network route taken.\n",
      "WARNING:root:Route needs to have a network route composed of a list of network links that the vehicle on this route traverses. If read the Schedule from GTFS, the resulting Route objects will not have reference to the network route taken.\n",
      "WARNING:root:Route needs to have a network route composed of a list of network links that the vehicle on this route traverses. If read the Schedule from GTFS, the resulting Route objects will not have reference to the network route taken.\n",
      "WARNING:root:Route needs to have a network route composed of a list of network links that the vehicle on this route traverses. If read the Schedule from GTFS, the resulting Route objects will not have reference to the network route taken.\n",
      "WARNING:root:Route needs to have a network route composed of a list of network links that the vehicle on this route traverses. If read the Schedule from GTFS, the resulting Route objects will not have reference to the network route taken.\n",
      "WARNING:root:The stop(s) along your route don't have arrival and departure offsets. This is likely a route with one stop - consider validating your schedule.\n",
      "WARNING:root:Route needs to have a network route composed of a list of network links that the vehicle on this route traverses. If read the Schedule from GTFS, the resulting Route objects will not have reference to the network route taken.\n",
      "WARNING:root:Route needs to have a network route composed of a list of network links that the vehicle on this route traverses. If read the Schedule from GTFS, the resulting Route objects will not have reference to the network route taken.\n",
      "WARNING:root:Route needs to have a network route composed of a list of network links that the vehicle on this route traverses. If read the Schedule from GTFS, the resulting Route objects will not have reference to the network route taken.\n",
      "WARNING:root:Route needs to have a network route composed of a list of network links that the vehicle on this route traverses. If read the Schedule from GTFS, the resulting Route objects will not have reference to the network route taken.\n",
      "WARNING:root:Route needs to have a network route composed of a list of network links that the vehicle on this route traverses. If read the Schedule from GTFS, the resulting Route objects will not have reference to the network route taken.\n",
      "WARNING:root:Route needs to have a network route composed of a list of network links that the vehicle on this route traverses. If read the Schedule from GTFS, the resulting Route objects will not have reference to the network route taken.\n",
      "WARNING:root:Route needs to have a network route composed of a list of network links that the vehicle on this route traverses. If read the Schedule from GTFS, the resulting Route objects will not have reference to the network route taken.\n",
      "WARNING:root:Route needs to have a network route composed of a list of network links that the vehicle on this route traverses. If read the Schedule from GTFS, the resulting Route objects will not have reference to the network route taken.\n",
      "WARNING:root:Route needs to have a network route composed of a list of network links that the vehicle on this route traverses. If read the Schedule from GTFS, the resulting Route objects will not have reference to the network route taken.\n",
      "WARNING:root:Route needs to have a network route composed of a list of network links that the vehicle on this route traverses. If read the Schedule from GTFS, the resulting Route objects will not have reference to the network route taken.\n",
      "WARNING:root:Route needs to have a network route composed of a list of network links that the vehicle on this route traverses. If read the Schedule from GTFS, the resulting Route objects will not have reference to the network route taken.\n",
      "WARNING:root:Route needs to have a network route composed of a list of network links that the vehicle on this route traverses. If read the Schedule from GTFS, the resulting Route objects will not have reference to the network route taken.\n",
      "WARNING:root:Route needs to have a network route composed of a list of network links that the vehicle on this route traverses. If read the Schedule from GTFS, the resulting Route objects will not have reference to the network route taken.\n",
      "WARNING:root:Route needs to have a network route composed of a list of network links that the vehicle on this route traverses. If read the Schedule from GTFS, the resulting Route objects will not have reference to the network route taken.\n",
      "WARNING:root:Route needs to have a network route composed of a list of network links that the vehicle on this route traverses. If read the Schedule from GTFS, the resulting Route objects will not have reference to the network route taken.\n",
      "WARNING:root:Route needs to have a network route composed of a list of network links that the vehicle on this route traverses. If read the Schedule from GTFS, the resulting Route objects will not have reference to the network route taken.\n",
      "WARNING:root:Route needs to have a network route composed of a list of network links that the vehicle on this route traverses. If read the Schedule from GTFS, the resulting Route objects will not have reference to the network route taken.\n",
      "WARNING:root:Route needs to have a network route composed of a list of network links that the vehicle on this route traverses. If read the Schedule from GTFS, the resulting Route objects will not have reference to the network route taken.\n",
      "WARNING:root:The stop(s) along your route don't have arrival and departure offsets. This is likely a route with one stop - consider validating your schedule.\n",
      "WARNING:root:Route needs to have a network route composed of a list of network links that the vehicle on this route traverses. If read the Schedule from GTFS, the resulting Route objects will not have reference to the network route taken.\n",
      "WARNING:root:The stop(s) along your route don't have arrival and departure offsets. This is likely a route with one stop - consider validating your schedule.\n",
      "WARNING:root:Route needs to have a network route composed of a list of network links that the vehicle on this route traverses. If read the Schedule from GTFS, the resulting Route objects will not have reference to the network route taken.\n"
     ]
    },
    {
     "name": "stderr",
     "output_type": "stream",
     "text": [
      "WARNING:root:Route needs to have a network route composed of a list of network links that the vehicle on this route traverses. If read the Schedule from GTFS, the resulting Route objects will not have reference to the network route taken.\n",
      "WARNING:root:Route needs to have a network route composed of a list of network links that the vehicle on this route traverses. If read the Schedule from GTFS, the resulting Route objects will not have reference to the network route taken.\n",
      "WARNING:root:Route needs to have a network route composed of a list of network links that the vehicle on this route traverses. If read the Schedule from GTFS, the resulting Route objects will not have reference to the network route taken.\n",
      "WARNING:root:Route needs to have a network route composed of a list of network links that the vehicle on this route traverses. If read the Schedule from GTFS, the resulting Route objects will not have reference to the network route taken.\n",
      "WARNING:root:Route needs to have a network route composed of a list of network links that the vehicle on this route traverses. If read the Schedule from GTFS, the resulting Route objects will not have reference to the network route taken.\n",
      "WARNING:root:Route needs to have a network route composed of a list of network links that the vehicle on this route traverses. If read the Schedule from GTFS, the resulting Route objects will not have reference to the network route taken.\n",
      "WARNING:root:Route needs to have a network route composed of a list of network links that the vehicle on this route traverses. If read the Schedule from GTFS, the resulting Route objects will not have reference to the network route taken.\n",
      "WARNING:root:Route needs to have a network route composed of a list of network links that the vehicle on this route traverses. If read the Schedule from GTFS, the resulting Route objects will not have reference to the network route taken.\n",
      "WARNING:root:Route needs to have a network route composed of a list of network links that the vehicle on this route traverses. If read the Schedule from GTFS, the resulting Route objects will not have reference to the network route taken.\n",
      "WARNING:root:Route needs to have a network route composed of a list of network links that the vehicle on this route traverses. If read the Schedule from GTFS, the resulting Route objects will not have reference to the network route taken.\n",
      "WARNING:root:Route needs to have a network route composed of a list of network links that the vehicle on this route traverses. If read the Schedule from GTFS, the resulting Route objects will not have reference to the network route taken.\n",
      "WARNING:root:Route needs to have a network route composed of a list of network links that the vehicle on this route traverses. If read the Schedule from GTFS, the resulting Route objects will not have reference to the network route taken.\n",
      "WARNING:root:Route needs to have a network route composed of a list of network links that the vehicle on this route traverses. If read the Schedule from GTFS, the resulting Route objects will not have reference to the network route taken.\n",
      "WARNING:root:Route needs to have a network route composed of a list of network links that the vehicle on this route traverses. If read the Schedule from GTFS, the resulting Route objects will not have reference to the network route taken.\n",
      "WARNING:root:Route needs to have a network route composed of a list of network links that the vehicle on this route traverses. If read the Schedule from GTFS, the resulting Route objects will not have reference to the network route taken.\n",
      "WARNING:root:Route needs to have a network route composed of a list of network links that the vehicle on this route traverses. If read the Schedule from GTFS, the resulting Route objects will not have reference to the network route taken.\n",
      "WARNING:root:Route needs to have a network route composed of a list of network links that the vehicle on this route traverses. If read the Schedule from GTFS, the resulting Route objects will not have reference to the network route taken.\n",
      "WARNING:root:Route needs to have a network route composed of a list of network links that the vehicle on this route traverses. If read the Schedule from GTFS, the resulting Route objects will not have reference to the network route taken.\n",
      "WARNING:root:Route needs to have a network route composed of a list of network links that the vehicle on this route traverses. If read the Schedule from GTFS, the resulting Route objects will not have reference to the network route taken.\n",
      "WARNING:root:Route needs to have a network route composed of a list of network links that the vehicle on this route traverses. If read the Schedule from GTFS, the resulting Route objects will not have reference to the network route taken.\n",
      "WARNING:root:Route needs to have a network route composed of a list of network links that the vehicle on this route traverses. If read the Schedule from GTFS, the resulting Route objects will not have reference to the network route taken.\n",
      "WARNING:root:Route needs to have a network route composed of a list of network links that the vehicle on this route traverses. If read the Schedule from GTFS, the resulting Route objects will not have reference to the network route taken.\n",
      "WARNING:root:Route needs to have a network route composed of a list of network links that the vehicle on this route traverses. If read the Schedule from GTFS, the resulting Route objects will not have reference to the network route taken.\n",
      "WARNING:root:Route needs to have a network route composed of a list of network links that the vehicle on this route traverses. If read the Schedule from GTFS, the resulting Route objects will not have reference to the network route taken.\n",
      "WARNING:root:Route needs to have a network route composed of a list of network links that the vehicle on this route traverses. If read the Schedule from GTFS, the resulting Route objects will not have reference to the network route taken.\n",
      "WARNING:root:Route needs to have a network route composed of a list of network links that the vehicle on this route traverses. If read the Schedule from GTFS, the resulting Route objects will not have reference to the network route taken.\n",
      "WARNING:root:Route needs to have a network route composed of a list of network links that the vehicle on this route traverses. If read the Schedule from GTFS, the resulting Route objects will not have reference to the network route taken.\n",
      "WARNING:root:Route needs to have a network route composed of a list of network links that the vehicle on this route traverses. If read the Schedule from GTFS, the resulting Route objects will not have reference to the network route taken.\n",
      "WARNING:root:Route needs to have a network route composed of a list of network links that the vehicle on this route traverses. If read the Schedule from GTFS, the resulting Route objects will not have reference to the network route taken.\n",
      "WARNING:root:Route needs to have a network route composed of a list of network links that the vehicle on this route traverses. If read the Schedule from GTFS, the resulting Route objects will not have reference to the network route taken.\n",
      "WARNING:root:Route needs to have a network route composed of a list of network links that the vehicle on this route traverses. If read the Schedule from GTFS, the resulting Route objects will not have reference to the network route taken.\n",
      "WARNING:root:Route needs to have a network route composed of a list of network links that the vehicle on this route traverses. If read the Schedule from GTFS, the resulting Route objects will not have reference to the network route taken.\n",
      "WARNING:root:Route needs to have a network route composed of a list of network links that the vehicle on this route traverses. If read the Schedule from GTFS, the resulting Route objects will not have reference to the network route taken.\n",
      "WARNING:root:Route needs to have a network route composed of a list of network links that the vehicle on this route traverses. If read the Schedule from GTFS, the resulting Route objects will not have reference to the network route taken.\n",
      "WARNING:root:Route needs to have a network route composed of a list of network links that the vehicle on this route traverses. If read the Schedule from GTFS, the resulting Route objects will not have reference to the network route taken.\n"
     ]
    },
    {
     "name": "stderr",
     "output_type": "stream",
     "text": [
      "WARNING:root:Route needs to have a network route composed of a list of network links that the vehicle on this route traverses. If read the Schedule from GTFS, the resulting Route objects will not have reference to the network route taken.\n",
      "WARNING:root:Route needs to have a network route composed of a list of network links that the vehicle on this route traverses. If read the Schedule from GTFS, the resulting Route objects will not have reference to the network route taken.\n",
      "WARNING:root:The stop(s) along your route don't have arrival and departure offsets. This is likely a route with one stop - consider validating your schedule.\n",
      "WARNING:root:Route needs to have a network route composed of a list of network links that the vehicle on this route traverses. If read the Schedule from GTFS, the resulting Route objects will not have reference to the network route taken.\n",
      "WARNING:root:Route needs to have a network route composed of a list of network links that the vehicle on this route traverses. If read the Schedule from GTFS, the resulting Route objects will not have reference to the network route taken.\n",
      "WARNING:root:Route needs to have a network route composed of a list of network links that the vehicle on this route traverses. If read the Schedule from GTFS, the resulting Route objects will not have reference to the network route taken.\n",
      "WARNING:root:Route needs to have a network route composed of a list of network links that the vehicle on this route traverses. If read the Schedule from GTFS, the resulting Route objects will not have reference to the network route taken.\n",
      "WARNING:root:Route needs to have a network route composed of a list of network links that the vehicle on this route traverses. If read the Schedule from GTFS, the resulting Route objects will not have reference to the network route taken.\n",
      "WARNING:root:Route needs to have a network route composed of a list of network links that the vehicle on this route traverses. If read the Schedule from GTFS, the resulting Route objects will not have reference to the network route taken.\n",
      "WARNING:root:Route needs to have a network route composed of a list of network links that the vehicle on this route traverses. If read the Schedule from GTFS, the resulting Route objects will not have reference to the network route taken.\n",
      "WARNING:root:Route needs to have a network route composed of a list of network links that the vehicle on this route traverses. If read the Schedule from GTFS, the resulting Route objects will not have reference to the network route taken.\n",
      "WARNING:root:Route needs to have a network route composed of a list of network links that the vehicle on this route traverses. If read the Schedule from GTFS, the resulting Route objects will not have reference to the network route taken.\n",
      "WARNING:root:Route needs to have a network route composed of a list of network links that the vehicle on this route traverses. If read the Schedule from GTFS, the resulting Route objects will not have reference to the network route taken.\n",
      "WARNING:root:Route needs to have a network route composed of a list of network links that the vehicle on this route traverses. If read the Schedule from GTFS, the resulting Route objects will not have reference to the network route taken.\n",
      "WARNING:root:Route needs to have a network route composed of a list of network links that the vehicle on this route traverses. If read the Schedule from GTFS, the resulting Route objects will not have reference to the network route taken.\n",
      "WARNING:root:Route needs to have a network route composed of a list of network links that the vehicle on this route traverses. If read the Schedule from GTFS, the resulting Route objects will not have reference to the network route taken.\n",
      "WARNING:root:Route needs to have a network route composed of a list of network links that the vehicle on this route traverses. If read the Schedule from GTFS, the resulting Route objects will not have reference to the network route taken.\n",
      "WARNING:root:The stop(s) along your route don't have arrival and departure offsets. This is likely a route with one stop - consider validating your schedule.\n",
      "WARNING:root:Route needs to have a network route composed of a list of network links that the vehicle on this route traverses. If read the Schedule from GTFS, the resulting Route objects will not have reference to the network route taken.\n",
      "WARNING:root:The stop(s) along your route don't have arrival and departure offsets. This is likely a route with one stop - consider validating your schedule.\n",
      "WARNING:root:Route needs to have a network route composed of a list of network links that the vehicle on this route traverses. If read the Schedule from GTFS, the resulting Route objects will not have reference to the network route taken.\n",
      "WARNING:root:The stop(s) along your route don't have arrival and departure offsets. This is likely a route with one stop - consider validating your schedule.\n",
      "WARNING:root:Route needs to have a network route composed of a list of network links that the vehicle on this route traverses. If read the Schedule from GTFS, the resulting Route objects will not have reference to the network route taken.\n",
      "WARNING:root:Route needs to have a network route composed of a list of network links that the vehicle on this route traverses. If read the Schedule from GTFS, the resulting Route objects will not have reference to the network route taken.\n",
      "WARNING:root:Route needs to have a network route composed of a list of network links that the vehicle on this route traverses. If read the Schedule from GTFS, the resulting Route objects will not have reference to the network route taken.\n",
      "WARNING:root:Route needs to have a network route composed of a list of network links that the vehicle on this route traverses. If read the Schedule from GTFS, the resulting Route objects will not have reference to the network route taken.\n",
      "WARNING:root:Route needs to have a network route composed of a list of network links that the vehicle on this route traverses. If read the Schedule from GTFS, the resulting Route objects will not have reference to the network route taken.\n",
      "WARNING:root:Route needs to have a network route composed of a list of network links that the vehicle on this route traverses. If read the Schedule from GTFS, the resulting Route objects will not have reference to the network route taken.\n",
      "WARNING:root:Route needs to have a network route composed of a list of network links that the vehicle on this route traverses. If read the Schedule from GTFS, the resulting Route objects will not have reference to the network route taken.\n",
      "WARNING:root:Route needs to have a network route composed of a list of network links that the vehicle on this route traverses. If read the Schedule from GTFS, the resulting Route objects will not have reference to the network route taken.\n",
      "WARNING:root:Route needs to have a network route composed of a list of network links that the vehicle on this route traverses. If read the Schedule from GTFS, the resulting Route objects will not have reference to the network route taken.\n",
      "WARNING:root:Route needs to have a network route composed of a list of network links that the vehicle on this route traverses. If read the Schedule from GTFS, the resulting Route objects will not have reference to the network route taken.\n",
      "WARNING:root:Route needs to have a network route composed of a list of network links that the vehicle on this route traverses. If read the Schedule from GTFS, the resulting Route objects will not have reference to the network route taken.\n",
      "WARNING:root:Route needs to have a network route composed of a list of network links that the vehicle on this route traverses. If read the Schedule from GTFS, the resulting Route objects will not have reference to the network route taken.\n",
      "WARNING:root:Route needs to have a network route composed of a list of network links that the vehicle on this route traverses. If read the Schedule from GTFS, the resulting Route objects will not have reference to the network route taken.\n",
      "WARNING:root:Route needs to have a network route composed of a list of network links that the vehicle on this route traverses. If read the Schedule from GTFS, the resulting Route objects will not have reference to the network route taken.\n"
     ]
    },
    {
     "name": "stderr",
     "output_type": "stream",
     "text": [
      "WARNING:root:Route needs to have a network route composed of a list of network links that the vehicle on this route traverses. If read the Schedule from GTFS, the resulting Route objects will not have reference to the network route taken.\n",
      "WARNING:root:Route needs to have a network route composed of a list of network links that the vehicle on this route traverses. If read the Schedule from GTFS, the resulting Route objects will not have reference to the network route taken.\n",
      "WARNING:root:Route needs to have a network route composed of a list of network links that the vehicle on this route traverses. If read the Schedule from GTFS, the resulting Route objects will not have reference to the network route taken.\n",
      "WARNING:root:Route needs to have a network route composed of a list of network links that the vehicle on this route traverses. If read the Schedule from GTFS, the resulting Route objects will not have reference to the network route taken.\n",
      "WARNING:root:Route needs to have a network route composed of a list of network links that the vehicle on this route traverses. If read the Schedule from GTFS, the resulting Route objects will not have reference to the network route taken.\n",
      "WARNING:root:Route needs to have a network route composed of a list of network links that the vehicle on this route traverses. If read the Schedule from GTFS, the resulting Route objects will not have reference to the network route taken.\n",
      "WARNING:root:Route needs to have a network route composed of a list of network links that the vehicle on this route traverses. If read the Schedule from GTFS, the resulting Route objects will not have reference to the network route taken.\n",
      "WARNING:root:Route needs to have a network route composed of a list of network links that the vehicle on this route traverses. If read the Schedule from GTFS, the resulting Route objects will not have reference to the network route taken.\n",
      "WARNING:root:Route needs to have a network route composed of a list of network links that the vehicle on this route traverses. If read the Schedule from GTFS, the resulting Route objects will not have reference to the network route taken.\n",
      "WARNING:root:Route needs to have a network route composed of a list of network links that the vehicle on this route traverses. If read the Schedule from GTFS, the resulting Route objects will not have reference to the network route taken.\n",
      "WARNING:root:Route needs to have a network route composed of a list of network links that the vehicle on this route traverses. If read the Schedule from GTFS, the resulting Route objects will not have reference to the network route taken.\n",
      "WARNING:root:Route needs to have a network route composed of a list of network links that the vehicle on this route traverses. If read the Schedule from GTFS, the resulting Route objects will not have reference to the network route taken.\n",
      "WARNING:root:Route needs to have a network route composed of a list of network links that the vehicle on this route traverses. If read the Schedule from GTFS, the resulting Route objects will not have reference to the network route taken.\n",
      "WARNING:root:Route needs to have a network route composed of a list of network links that the vehicle on this route traverses. If read the Schedule from GTFS, the resulting Route objects will not have reference to the network route taken.\n",
      "WARNING:root:Route needs to have a network route composed of a list of network links that the vehicle on this route traverses. If read the Schedule from GTFS, the resulting Route objects will not have reference to the network route taken.\n",
      "WARNING:root:Route needs to have a network route composed of a list of network links that the vehicle on this route traverses. If read the Schedule from GTFS, the resulting Route objects will not have reference to the network route taken.\n",
      "WARNING:root:Route needs to have a network route composed of a list of network links that the vehicle on this route traverses. If read the Schedule from GTFS, the resulting Route objects will not have reference to the network route taken.\n",
      "WARNING:root:Route needs to have a network route composed of a list of network links that the vehicle on this route traverses. If read the Schedule from GTFS, the resulting Route objects will not have reference to the network route taken.\n",
      "WARNING:root:Route needs to have a network route composed of a list of network links that the vehicle on this route traverses. If read the Schedule from GTFS, the resulting Route objects will not have reference to the network route taken.\n",
      "WARNING:root:Route needs to have a network route composed of a list of network links that the vehicle on this route traverses. If read the Schedule from GTFS, the resulting Route objects will not have reference to the network route taken.\n",
      "WARNING:root:Route needs to have a network route composed of a list of network links that the vehicle on this route traverses. If read the Schedule from GTFS, the resulting Route objects will not have reference to the network route taken.\n",
      "WARNING:root:Route needs to have a network route composed of a list of network links that the vehicle on this route traverses. If read the Schedule from GTFS, the resulting Route objects will not have reference to the network route taken.\n",
      "WARNING:root:Route needs to have a network route composed of a list of network links that the vehicle on this route traverses. If read the Schedule from GTFS, the resulting Route objects will not have reference to the network route taken.\n",
      "WARNING:root:Route needs to have a network route composed of a list of network links that the vehicle on this route traverses. If read the Schedule from GTFS, the resulting Route objects will not have reference to the network route taken.\n",
      "WARNING:root:Route needs to have a network route composed of a list of network links that the vehicle on this route traverses. If read the Schedule from GTFS, the resulting Route objects will not have reference to the network route taken.\n",
      "WARNING:root:Route needs to have a network route composed of a list of network links that the vehicle on this route traverses. If read the Schedule from GTFS, the resulting Route objects will not have reference to the network route taken.\n",
      "WARNING:root:Route needs to have a network route composed of a list of network links that the vehicle on this route traverses. If read the Schedule from GTFS, the resulting Route objects will not have reference to the network route taken.\n",
      "WARNING:root:Route needs to have a network route composed of a list of network links that the vehicle on this route traverses. If read the Schedule from GTFS, the resulting Route objects will not have reference to the network route taken.\n",
      "WARNING:root:Route needs to have a network route composed of a list of network links that the vehicle on this route traverses. If read the Schedule from GTFS, the resulting Route objects will not have reference to the network route taken.\n",
      "WARNING:root:Route needs to have a network route composed of a list of network links that the vehicle on this route traverses. If read the Schedule from GTFS, the resulting Route objects will not have reference to the network route taken.\n",
      "WARNING:root:Route needs to have a network route composed of a list of network links that the vehicle on this route traverses. If read the Schedule from GTFS, the resulting Route objects will not have reference to the network route taken.\n",
      "WARNING:root:Route needs to have a network route composed of a list of network links that the vehicle on this route traverses. If read the Schedule from GTFS, the resulting Route objects will not have reference to the network route taken.\n",
      "WARNING:root:Route needs to have a network route composed of a list of network links that the vehicle on this route traverses. If read the Schedule from GTFS, the resulting Route objects will not have reference to the network route taken.\n",
      "WARNING:root:Route needs to have a network route composed of a list of network links that the vehicle on this route traverses. If read the Schedule from GTFS, the resulting Route objects will not have reference to the network route taken.\n",
      "WARNING:root:Route needs to have a network route composed of a list of network links that the vehicle on this route traverses. If read the Schedule from GTFS, the resulting Route objects will not have reference to the network route taken.\n"
     ]
    },
    {
     "name": "stderr",
     "output_type": "stream",
     "text": [
      "WARNING:root:Route needs to have a network route composed of a list of network links that the vehicle on this route traverses. If read the Schedule from GTFS, the resulting Route objects will not have reference to the network route taken.\n",
      "WARNING:root:Route needs to have a network route composed of a list of network links that the vehicle on this route traverses. If read the Schedule from GTFS, the resulting Route objects will not have reference to the network route taken.\n",
      "WARNING:root:Route needs to have a network route composed of a list of network links that the vehicle on this route traverses. If read the Schedule from GTFS, the resulting Route objects will not have reference to the network route taken.\n",
      "WARNING:root:Route needs to have a network route composed of a list of network links that the vehicle on this route traverses. If read the Schedule from GTFS, the resulting Route objects will not have reference to the network route taken.\n",
      "WARNING:root:Route needs to have a network route composed of a list of network links that the vehicle on this route traverses. If read the Schedule from GTFS, the resulting Route objects will not have reference to the network route taken.\n",
      "WARNING:root:Route needs to have a network route composed of a list of network links that the vehicle on this route traverses. If read the Schedule from GTFS, the resulting Route objects will not have reference to the network route taken.\n",
      "WARNING:root:Route needs to have a network route composed of a list of network links that the vehicle on this route traverses. If read the Schedule from GTFS, the resulting Route objects will not have reference to the network route taken.\n",
      "WARNING:root:Route needs to have a network route composed of a list of network links that the vehicle on this route traverses. If read the Schedule from GTFS, the resulting Route objects will not have reference to the network route taken.\n",
      "WARNING:root:Route needs to have a network route composed of a list of network links that the vehicle on this route traverses. If read the Schedule from GTFS, the resulting Route objects will not have reference to the network route taken.\n",
      "WARNING:root:Route needs to have a network route composed of a list of network links that the vehicle on this route traverses. If read the Schedule from GTFS, the resulting Route objects will not have reference to the network route taken.\n",
      "WARNING:root:Route needs to have a network route composed of a list of network links that the vehicle on this route traverses. If read the Schedule from GTFS, the resulting Route objects will not have reference to the network route taken.\n",
      "WARNING:root:Route needs to have a network route composed of a list of network links that the vehicle on this route traverses. If read the Schedule from GTFS, the resulting Route objects will not have reference to the network route taken.\n",
      "WARNING:root:Route needs to have a network route composed of a list of network links that the vehicle on this route traverses. If read the Schedule from GTFS, the resulting Route objects will not have reference to the network route taken.\n",
      "WARNING:root:Route needs to have a network route composed of a list of network links that the vehicle on this route traverses. If read the Schedule from GTFS, the resulting Route objects will not have reference to the network route taken.\n",
      "WARNING:root:Route needs to have a network route composed of a list of network links that the vehicle on this route traverses. If read the Schedule from GTFS, the resulting Route objects will not have reference to the network route taken.\n",
      "WARNING:root:Route needs to have a network route composed of a list of network links that the vehicle on this route traverses. If read the Schedule from GTFS, the resulting Route objects will not have reference to the network route taken.\n",
      "WARNING:root:Route needs to have a network route composed of a list of network links that the vehicle on this route traverses. If read the Schedule from GTFS, the resulting Route objects will not have reference to the network route taken.\n",
      "WARNING:root:Route needs to have a network route composed of a list of network links that the vehicle on this route traverses. If read the Schedule from GTFS, the resulting Route objects will not have reference to the network route taken.\n",
      "WARNING:root:Route needs to have a network route composed of a list of network links that the vehicle on this route traverses. If read the Schedule from GTFS, the resulting Route objects will not have reference to the network route taken.\n",
      "WARNING:root:Route needs to have a network route composed of a list of network links that the vehicle on this route traverses. If read the Schedule from GTFS, the resulting Route objects will not have reference to the network route taken.\n",
      "WARNING:root:Route needs to have a network route composed of a list of network links that the vehicle on this route traverses. If read the Schedule from GTFS, the resulting Route objects will not have reference to the network route taken.\n",
      "WARNING:root:Route needs to have a network route composed of a list of network links that the vehicle on this route traverses. If read the Schedule from GTFS, the resulting Route objects will not have reference to the network route taken.\n",
      "WARNING:root:Route needs to have a network route composed of a list of network links that the vehicle on this route traverses. If read the Schedule from GTFS, the resulting Route objects will not have reference to the network route taken.\n",
      "WARNING:root:Route needs to have a network route composed of a list of network links that the vehicle on this route traverses. If read the Schedule from GTFS, the resulting Route objects will not have reference to the network route taken.\n",
      "WARNING:root:Route needs to have a network route composed of a list of network links that the vehicle on this route traverses. If read the Schedule from GTFS, the resulting Route objects will not have reference to the network route taken.\n",
      "WARNING:root:Route needs to have a network route composed of a list of network links that the vehicle on this route traverses. If read the Schedule from GTFS, the resulting Route objects will not have reference to the network route taken.\n",
      "WARNING:root:Route needs to have a network route composed of a list of network links that the vehicle on this route traverses. If read the Schedule from GTFS, the resulting Route objects will not have reference to the network route taken.\n",
      "WARNING:root:Route needs to have a network route composed of a list of network links that the vehicle on this route traverses. If read the Schedule from GTFS, the resulting Route objects will not have reference to the network route taken.\n",
      "WARNING:root:Route needs to have a network route composed of a list of network links that the vehicle on this route traverses. If read the Schedule from GTFS, the resulting Route objects will not have reference to the network route taken.\n",
      "WARNING:root:Route needs to have a network route composed of a list of network links that the vehicle on this route traverses. If read the Schedule from GTFS, the resulting Route objects will not have reference to the network route taken.\n",
      "WARNING:root:Route needs to have a network route composed of a list of network links that the vehicle on this route traverses. If read the Schedule from GTFS, the resulting Route objects will not have reference to the network route taken.\n",
      "WARNING:root:Route needs to have a network route composed of a list of network links that the vehicle on this route traverses. If read the Schedule from GTFS, the resulting Route objects will not have reference to the network route taken.\n",
      "WARNING:root:Route needs to have a network route composed of a list of network links that the vehicle on this route traverses. If read the Schedule from GTFS, the resulting Route objects will not have reference to the network route taken.\n",
      "WARNING:root:Route needs to have a network route composed of a list of network links that the vehicle on this route traverses. If read the Schedule from GTFS, the resulting Route objects will not have reference to the network route taken.\n",
      "WARNING:root:Route needs to have a network route composed of a list of network links that the vehicle on this route traverses. If read the Schedule from GTFS, the resulting Route objects will not have reference to the network route taken.\n"
     ]
    },
    {
     "name": "stderr",
     "output_type": "stream",
     "text": [
      "WARNING:root:Route needs to have a network route composed of a list of network links that the vehicle on this route traverses. If read the Schedule from GTFS, the resulting Route objects will not have reference to the network route taken.\n",
      "WARNING:root:Route needs to have a network route composed of a list of network links that the vehicle on this route traverses. If read the Schedule from GTFS, the resulting Route objects will not have reference to the network route taken.\n",
      "WARNING:root:Route needs to have a network route composed of a list of network links that the vehicle on this route traverses. If read the Schedule from GTFS, the resulting Route objects will not have reference to the network route taken.\n",
      "WARNING:root:Route needs to have a network route composed of a list of network links that the vehicle on this route traverses. If read the Schedule from GTFS, the resulting Route objects will not have reference to the network route taken.\n",
      "WARNING:root:Route needs to have a network route composed of a list of network links that the vehicle on this route traverses. If read the Schedule from GTFS, the resulting Route objects will not have reference to the network route taken.\n",
      "WARNING:root:The stop(s) along your route don't have arrival and departure offsets. This is likely a route with one stop - consider validating your schedule.\n",
      "WARNING:root:Route needs to have a network route composed of a list of network links that the vehicle on this route traverses. If read the Schedule from GTFS, the resulting Route objects will not have reference to the network route taken.\n",
      "WARNING:root:Route needs to have a network route composed of a list of network links that the vehicle on this route traverses. If read the Schedule from GTFS, the resulting Route objects will not have reference to the network route taken.\n",
      "WARNING:root:Route needs to have a network route composed of a list of network links that the vehicle on this route traverses. If read the Schedule from GTFS, the resulting Route objects will not have reference to the network route taken.\n",
      "WARNING:root:Route needs to have a network route composed of a list of network links that the vehicle on this route traverses. If read the Schedule from GTFS, the resulting Route objects will not have reference to the network route taken.\n",
      "WARNING:root:Route needs to have a network route composed of a list of network links that the vehicle on this route traverses. If read the Schedule from GTFS, the resulting Route objects will not have reference to the network route taken.\n",
      "WARNING:root:Route needs to have a network route composed of a list of network links that the vehicle on this route traverses. If read the Schedule from GTFS, the resulting Route objects will not have reference to the network route taken.\n",
      "WARNING:root:Route needs to have a network route composed of a list of network links that the vehicle on this route traverses. If read the Schedule from GTFS, the resulting Route objects will not have reference to the network route taken.\n",
      "WARNING:root:Route needs to have a network route composed of a list of network links that the vehicle on this route traverses. If read the Schedule from GTFS, the resulting Route objects will not have reference to the network route taken.\n",
      "WARNING:root:Route needs to have a network route composed of a list of network links that the vehicle on this route traverses. If read the Schedule from GTFS, the resulting Route objects will not have reference to the network route taken.\n",
      "WARNING:root:Route needs to have a network route composed of a list of network links that the vehicle on this route traverses. If read the Schedule from GTFS, the resulting Route objects will not have reference to the network route taken.\n",
      "WARNING:root:Route needs to have a network route composed of a list of network links that the vehicle on this route traverses. If read the Schedule from GTFS, the resulting Route objects will not have reference to the network route taken.\n",
      "WARNING:root:Route needs to have a network route composed of a list of network links that the vehicle on this route traverses. If read the Schedule from GTFS, the resulting Route objects will not have reference to the network route taken.\n",
      "WARNING:root:Route needs to have a network route composed of a list of network links that the vehicle on this route traverses. If read the Schedule from GTFS, the resulting Route objects will not have reference to the network route taken.\n",
      "WARNING:root:Route needs to have a network route composed of a list of network links that the vehicle on this route traverses. If read the Schedule from GTFS, the resulting Route objects will not have reference to the network route taken.\n",
      "WARNING:root:Route needs to have a network route composed of a list of network links that the vehicle on this route traverses. If read the Schedule from GTFS, the resulting Route objects will not have reference to the network route taken.\n",
      "WARNING:root:Route needs to have a network route composed of a list of network links that the vehicle on this route traverses. If read the Schedule from GTFS, the resulting Route objects will not have reference to the network route taken.\n",
      "WARNING:root:Route needs to have a network route composed of a list of network links that the vehicle on this route traverses. If read the Schedule from GTFS, the resulting Route objects will not have reference to the network route taken.\n",
      "WARNING:root:Route needs to have a network route composed of a list of network links that the vehicle on this route traverses. If read the Schedule from GTFS, the resulting Route objects will not have reference to the network route taken.\n",
      "WARNING:root:Route needs to have a network route composed of a list of network links that the vehicle on this route traverses. If read the Schedule from GTFS, the resulting Route objects will not have reference to the network route taken.\n",
      "WARNING:root:Route needs to have a network route composed of a list of network links that the vehicle on this route traverses. If read the Schedule from GTFS, the resulting Route objects will not have reference to the network route taken.\n",
      "WARNING:root:Route needs to have a network route composed of a list of network links that the vehicle on this route traverses. If read the Schedule from GTFS, the resulting Route objects will not have reference to the network route taken.\n",
      "WARNING:root:Route needs to have a network route composed of a list of network links that the vehicle on this route traverses. If read the Schedule from GTFS, the resulting Route objects will not have reference to the network route taken.\n",
      "WARNING:root:Route needs to have a network route composed of a list of network links that the vehicle on this route traverses. If read the Schedule from GTFS, the resulting Route objects will not have reference to the network route taken.\n",
      "WARNING:root:Route needs to have a network route composed of a list of network links that the vehicle on this route traverses. If read the Schedule from GTFS, the resulting Route objects will not have reference to the network route taken.\n",
      "WARNING:root:Route needs to have a network route composed of a list of network links that the vehicle on this route traverses. If read the Schedule from GTFS, the resulting Route objects will not have reference to the network route taken.\n",
      "WARNING:root:Route needs to have a network route composed of a list of network links that the vehicle on this route traverses. If read the Schedule from GTFS, the resulting Route objects will not have reference to the network route taken.\n",
      "WARNING:root:Route needs to have a network route composed of a list of network links that the vehicle on this route traverses. If read the Schedule from GTFS, the resulting Route objects will not have reference to the network route taken.\n",
      "WARNING:root:The stop(s) along your route don't have arrival and departure offsets. This is likely a route with one stop - consider validating your schedule.\n",
      "WARNING:root:Route needs to have a network route composed of a list of network links that the vehicle on this route traverses. If read the Schedule from GTFS, the resulting Route objects will not have reference to the network route taken.\n"
     ]
    },
    {
     "name": "stderr",
     "output_type": "stream",
     "text": [
      "WARNING:root:The stop(s) along your route don't have arrival and departure offsets. This is likely a route with one stop - consider validating your schedule.\n",
      "WARNING:root:Route needs to have a network route composed of a list of network links that the vehicle on this route traverses. If read the Schedule from GTFS, the resulting Route objects will not have reference to the network route taken.\n",
      "WARNING:root:The stop(s) along your route don't have arrival and departure offsets. This is likely a route with one stop - consider validating your schedule.\n",
      "WARNING:root:Route needs to have a network route composed of a list of network links that the vehicle on this route traverses. If read the Schedule from GTFS, the resulting Route objects will not have reference to the network route taken.\n",
      "WARNING:root:Route needs to have a network route composed of a list of network links that the vehicle on this route traverses. If read the Schedule from GTFS, the resulting Route objects will not have reference to the network route taken.\n",
      "WARNING:root:Route needs to have a network route composed of a list of network links that the vehicle on this route traverses. If read the Schedule from GTFS, the resulting Route objects will not have reference to the network route taken.\n",
      "WARNING:root:Route needs to have a network route composed of a list of network links that the vehicle on this route traverses. If read the Schedule from GTFS, the resulting Route objects will not have reference to the network route taken.\n",
      "WARNING:root:Route needs to have a network route composed of a list of network links that the vehicle on this route traverses. If read the Schedule from GTFS, the resulting Route objects will not have reference to the network route taken.\n",
      "WARNING:root:Route needs to have a network route composed of a list of network links that the vehicle on this route traverses. If read the Schedule from GTFS, the resulting Route objects will not have reference to the network route taken.\n",
      "WARNING:root:Route needs to have a network route composed of a list of network links that the vehicle on this route traverses. If read the Schedule from GTFS, the resulting Route objects will not have reference to the network route taken.\n",
      "WARNING:root:Route needs to have a network route composed of a list of network links that the vehicle on this route traverses. If read the Schedule from GTFS, the resulting Route objects will not have reference to the network route taken.\n",
      "WARNING:root:Route needs to have a network route composed of a list of network links that the vehicle on this route traverses. If read the Schedule from GTFS, the resulting Route objects will not have reference to the network route taken.\n",
      "WARNING:root:Route needs to have a network route composed of a list of network links that the vehicle on this route traverses. If read the Schedule from GTFS, the resulting Route objects will not have reference to the network route taken.\n",
      "WARNING:root:Route needs to have a network route composed of a list of network links that the vehicle on this route traverses. If read the Schedule from GTFS, the resulting Route objects will not have reference to the network route taken.\n",
      "WARNING:root:Route needs to have a network route composed of a list of network links that the vehicle on this route traverses. If read the Schedule from GTFS, the resulting Route objects will not have reference to the network route taken.\n",
      "WARNING:root:Route needs to have a network route composed of a list of network links that the vehicle on this route traverses. If read the Schedule from GTFS, the resulting Route objects will not have reference to the network route taken.\n",
      "WARNING:root:Route needs to have a network route composed of a list of network links that the vehicle on this route traverses. If read the Schedule from GTFS, the resulting Route objects will not have reference to the network route taken.\n",
      "WARNING:root:Route needs to have a network route composed of a list of network links that the vehicle on this route traverses. If read the Schedule from GTFS, the resulting Route objects will not have reference to the network route taken.\n",
      "WARNING:root:Route needs to have a network route composed of a list of network links that the vehicle on this route traverses. If read the Schedule from GTFS, the resulting Route objects will not have reference to the network route taken.\n",
      "WARNING:root:Route needs to have a network route composed of a list of network links that the vehicle on this route traverses. If read the Schedule from GTFS, the resulting Route objects will not have reference to the network route taken.\n",
      "WARNING:root:Route needs to have a network route composed of a list of network links that the vehicle on this route traverses. If read the Schedule from GTFS, the resulting Route objects will not have reference to the network route taken.\n",
      "WARNING:root:Route needs to have a network route composed of a list of network links that the vehicle on this route traverses. If read the Schedule from GTFS, the resulting Route objects will not have reference to the network route taken.\n",
      "WARNING:root:Route needs to have a network route composed of a list of network links that the vehicle on this route traverses. If read the Schedule from GTFS, the resulting Route objects will not have reference to the network route taken.\n",
      "WARNING:root:Route needs to have a network route composed of a list of network links that the vehicle on this route traverses. If read the Schedule from GTFS, the resulting Route objects will not have reference to the network route taken.\n",
      "WARNING:root:Route needs to have a network route composed of a list of network links that the vehicle on this route traverses. If read the Schedule from GTFS, the resulting Route objects will not have reference to the network route taken.\n",
      "WARNING:root:Route needs to have a network route composed of a list of network links that the vehicle on this route traverses. If read the Schedule from GTFS, the resulting Route objects will not have reference to the network route taken.\n",
      "WARNING:root:The stop(s) along your route don't have arrival and departure offsets. This is likely a route with one stop - consider validating your schedule.\n",
      "WARNING:root:Route needs to have a network route composed of a list of network links that the vehicle on this route traverses. If read the Schedule from GTFS, the resulting Route objects will not have reference to the network route taken.\n",
      "WARNING:root:Route needs to have a network route composed of a list of network links that the vehicle on this route traverses. If read the Schedule from GTFS, the resulting Route objects will not have reference to the network route taken.\n",
      "WARNING:root:Route needs to have a network route composed of a list of network links that the vehicle on this route traverses. If read the Schedule from GTFS, the resulting Route objects will not have reference to the network route taken.\n",
      "WARNING:root:Route needs to have a network route composed of a list of network links that the vehicle on this route traverses. If read the Schedule from GTFS, the resulting Route objects will not have reference to the network route taken.\n",
      "WARNING:root:Route needs to have a network route composed of a list of network links that the vehicle on this route traverses. If read the Schedule from GTFS, the resulting Route objects will not have reference to the network route taken.\n",
      "WARNING:root:Route needs to have a network route composed of a list of network links that the vehicle on this route traverses. If read the Schedule from GTFS, the resulting Route objects will not have reference to the network route taken.\n",
      "WARNING:root:Route needs to have a network route composed of a list of network links that the vehicle on this route traverses. If read the Schedule from GTFS, the resulting Route objects will not have reference to the network route taken.\n",
      "WARNING:root:Route needs to have a network route composed of a list of network links that the vehicle on this route traverses. If read the Schedule from GTFS, the resulting Route objects will not have reference to the network route taken.\n",
      "WARNING:root:Route needs to have a network route composed of a list of network links that the vehicle on this route traverses. If read the Schedule from GTFS, the resulting Route objects will not have reference to the network route taken.\n"
     ]
    },
    {
     "name": "stderr",
     "output_type": "stream",
     "text": [
      "WARNING:root:Route needs to have a network route composed of a list of network links that the vehicle on this route traverses. If read the Schedule from GTFS, the resulting Route objects will not have reference to the network route taken.\n",
      "WARNING:root:Route needs to have a network route composed of a list of network links that the vehicle on this route traverses. If read the Schedule from GTFS, the resulting Route objects will not have reference to the network route taken.\n",
      "WARNING:root:Route needs to have a network route composed of a list of network links that the vehicle on this route traverses. If read the Schedule from GTFS, the resulting Route objects will not have reference to the network route taken.\n",
      "WARNING:root:Route needs to have a network route composed of a list of network links that the vehicle on this route traverses. If read the Schedule from GTFS, the resulting Route objects will not have reference to the network route taken.\n",
      "WARNING:root:Route needs to have a network route composed of a list of network links that the vehicle on this route traverses. If read the Schedule from GTFS, the resulting Route objects will not have reference to the network route taken.\n",
      "WARNING:root:Route needs to have a network route composed of a list of network links that the vehicle on this route traverses. If read the Schedule from GTFS, the resulting Route objects will not have reference to the network route taken.\n",
      "WARNING:root:Route needs to have a network route composed of a list of network links that the vehicle on this route traverses. If read the Schedule from GTFS, the resulting Route objects will not have reference to the network route taken.\n",
      "WARNING:root:Route needs to have a network route composed of a list of network links that the vehicle on this route traverses. If read the Schedule from GTFS, the resulting Route objects will not have reference to the network route taken.\n",
      "WARNING:root:Route needs to have a network route composed of a list of network links that the vehicle on this route traverses. If read the Schedule from GTFS, the resulting Route objects will not have reference to the network route taken.\n",
      "WARNING:root:Route needs to have a network route composed of a list of network links that the vehicle on this route traverses. If read the Schedule from GTFS, the resulting Route objects will not have reference to the network route taken.\n",
      "WARNING:root:Route needs to have a network route composed of a list of network links that the vehicle on this route traverses. If read the Schedule from GTFS, the resulting Route objects will not have reference to the network route taken.\n",
      "WARNING:root:Route needs to have a network route composed of a list of network links that the vehicle on this route traverses. If read the Schedule from GTFS, the resulting Route objects will not have reference to the network route taken.\n",
      "WARNING:root:Route needs to have a network route composed of a list of network links that the vehicle on this route traverses. If read the Schedule from GTFS, the resulting Route objects will not have reference to the network route taken.\n",
      "WARNING:root:Route needs to have a network route composed of a list of network links that the vehicle on this route traverses. If read the Schedule from GTFS, the resulting Route objects will not have reference to the network route taken.\n",
      "WARNING:root:Route needs to have a network route composed of a list of network links that the vehicle on this route traverses. If read the Schedule from GTFS, the resulting Route objects will not have reference to the network route taken.\n",
      "WARNING:root:Route needs to have a network route composed of a list of network links that the vehicle on this route traverses. If read the Schedule from GTFS, the resulting Route objects will not have reference to the network route taken.\n",
      "WARNING:root:Route needs to have a network route composed of a list of network links that the vehicle on this route traverses. If read the Schedule from GTFS, the resulting Route objects will not have reference to the network route taken.\n",
      "WARNING:root:Route needs to have a network route composed of a list of network links that the vehicle on this route traverses. If read the Schedule from GTFS, the resulting Route objects will not have reference to the network route taken.\n",
      "WARNING:root:Route needs to have a network route composed of a list of network links that the vehicle on this route traverses. If read the Schedule from GTFS, the resulting Route objects will not have reference to the network route taken.\n",
      "WARNING:root:Route needs to have a network route composed of a list of network links that the vehicle on this route traverses. If read the Schedule from GTFS, the resulting Route objects will not have reference to the network route taken.\n",
      "WARNING:root:Route needs to have a network route composed of a list of network links that the vehicle on this route traverses. If read the Schedule from GTFS, the resulting Route objects will not have reference to the network route taken.\n",
      "WARNING:root:Route needs to have a network route composed of a list of network links that the vehicle on this route traverses. If read the Schedule from GTFS, the resulting Route objects will not have reference to the network route taken.\n",
      "WARNING:root:Route needs to have a network route composed of a list of network links that the vehicle on this route traverses. If read the Schedule from GTFS, the resulting Route objects will not have reference to the network route taken.\n",
      "WARNING:root:Route needs to have a network route composed of a list of network links that the vehicle on this route traverses. If read the Schedule from GTFS, the resulting Route objects will not have reference to the network route taken.\n",
      "WARNING:root:Route needs to have a network route composed of a list of network links that the vehicle on this route traverses. If read the Schedule from GTFS, the resulting Route objects will not have reference to the network route taken.\n",
      "WARNING:root:Route needs to have a network route composed of a list of network links that the vehicle on this route traverses. If read the Schedule from GTFS, the resulting Route objects will not have reference to the network route taken.\n",
      "WARNING:root:Route needs to have a network route composed of a list of network links that the vehicle on this route traverses. If read the Schedule from GTFS, the resulting Route objects will not have reference to the network route taken.\n",
      "WARNING:root:Route needs to have a network route composed of a list of network links that the vehicle on this route traverses. If read the Schedule from GTFS, the resulting Route objects will not have reference to the network route taken.\n",
      "WARNING:root:Route needs to have a network route composed of a list of network links that the vehicle on this route traverses. If read the Schedule from GTFS, the resulting Route objects will not have reference to the network route taken.\n",
      "WARNING:root:Route needs to have a network route composed of a list of network links that the vehicle on this route traverses. If read the Schedule from GTFS, the resulting Route objects will not have reference to the network route taken.\n",
      "WARNING:root:Route needs to have a network route composed of a list of network links that the vehicle on this route traverses. If read the Schedule from GTFS, the resulting Route objects will not have reference to the network route taken.\n",
      "WARNING:root:Route needs to have a network route composed of a list of network links that the vehicle on this route traverses. If read the Schedule from GTFS, the resulting Route objects will not have reference to the network route taken.\n",
      "WARNING:root:Route needs to have a network route composed of a list of network links that the vehicle on this route traverses. If read the Schedule from GTFS, the resulting Route objects will not have reference to the network route taken.\n",
      "WARNING:root:Route needs to have a network route composed of a list of network links that the vehicle on this route traverses. If read the Schedule from GTFS, the resulting Route objects will not have reference to the network route taken.\n",
      "WARNING:root:Route needs to have a network route composed of a list of network links that the vehicle on this route traverses. If read the Schedule from GTFS, the resulting Route objects will not have reference to the network route taken.\n"
     ]
    },
    {
     "name": "stderr",
     "output_type": "stream",
     "text": [
      "WARNING:root:Route needs to have a network route composed of a list of network links that the vehicle on this route traverses. If read the Schedule from GTFS, the resulting Route objects will not have reference to the network route taken.\n",
      "WARNING:root:Route needs to have a network route composed of a list of network links that the vehicle on this route traverses. If read the Schedule from GTFS, the resulting Route objects will not have reference to the network route taken.\n",
      "WARNING:root:Route needs to have a network route composed of a list of network links that the vehicle on this route traverses. If read the Schedule from GTFS, the resulting Route objects will not have reference to the network route taken.\n",
      "WARNING:root:Route needs to have a network route composed of a list of network links that the vehicle on this route traverses. If read the Schedule from GTFS, the resulting Route objects will not have reference to the network route taken.\n",
      "WARNING:root:Route needs to have a network route composed of a list of network links that the vehicle on this route traverses. If read the Schedule from GTFS, the resulting Route objects will not have reference to the network route taken.\n",
      "WARNING:root:Route needs to have a network route composed of a list of network links that the vehicle on this route traverses. If read the Schedule from GTFS, the resulting Route objects will not have reference to the network route taken.\n",
      "WARNING:root:Route needs to have a network route composed of a list of network links that the vehicle on this route traverses. If read the Schedule from GTFS, the resulting Route objects will not have reference to the network route taken.\n",
      "WARNING:root:The stop(s) along your route don't have arrival and departure offsets. This is likely a route with one stop - consider validating your schedule.\n",
      "WARNING:root:Route needs to have a network route composed of a list of network links that the vehicle on this route traverses. If read the Schedule from GTFS, the resulting Route objects will not have reference to the network route taken.\n",
      "WARNING:root:The stop(s) along your route don't have arrival and departure offsets. This is likely a route with one stop - consider validating your schedule.\n",
      "WARNING:root:Route needs to have a network route composed of a list of network links that the vehicle on this route traverses. If read the Schedule from GTFS, the resulting Route objects will not have reference to the network route taken.\n",
      "WARNING:root:The stop(s) along your route don't have arrival and departure offsets. This is likely a route with one stop - consider validating your schedule.\n",
      "WARNING:root:Route needs to have a network route composed of a list of network links that the vehicle on this route traverses. If read the Schedule from GTFS, the resulting Route objects will not have reference to the network route taken.\n",
      "WARNING:root:Route needs to have a network route composed of a list of network links that the vehicle on this route traverses. If read the Schedule from GTFS, the resulting Route objects will not have reference to the network route taken.\n",
      "WARNING:root:Route needs to have a network route composed of a list of network links that the vehicle on this route traverses. If read the Schedule from GTFS, the resulting Route objects will not have reference to the network route taken.\n",
      "WARNING:root:Route needs to have a network route composed of a list of network links that the vehicle on this route traverses. If read the Schedule from GTFS, the resulting Route objects will not have reference to the network route taken.\n",
      "WARNING:root:Route needs to have a network route composed of a list of network links that the vehicle on this route traverses. If read the Schedule from GTFS, the resulting Route objects will not have reference to the network route taken.\n",
      "WARNING:root:Route needs to have a network route composed of a list of network links that the vehicle on this route traverses. If read the Schedule from GTFS, the resulting Route objects will not have reference to the network route taken.\n",
      "WARNING:root:Route needs to have a network route composed of a list of network links that the vehicle on this route traverses. If read the Schedule from GTFS, the resulting Route objects will not have reference to the network route taken.\n",
      "WARNING:root:Route needs to have a network route composed of a list of network links that the vehicle on this route traverses. If read the Schedule from GTFS, the resulting Route objects will not have reference to the network route taken.\n",
      "WARNING:root:Route needs to have a network route composed of a list of network links that the vehicle on this route traverses. If read the Schedule from GTFS, the resulting Route objects will not have reference to the network route taken.\n",
      "WARNING:root:Route needs to have a network route composed of a list of network links that the vehicle on this route traverses. If read the Schedule from GTFS, the resulting Route objects will not have reference to the network route taken.\n",
      "WARNING:root:Route needs to have a network route composed of a list of network links that the vehicle on this route traverses. If read the Schedule from GTFS, the resulting Route objects will not have reference to the network route taken.\n",
      "WARNING:root:Route needs to have a network route composed of a list of network links that the vehicle on this route traverses. If read the Schedule from GTFS, the resulting Route objects will not have reference to the network route taken.\n",
      "WARNING:root:Route needs to have a network route composed of a list of network links that the vehicle on this route traverses. If read the Schedule from GTFS, the resulting Route objects will not have reference to the network route taken.\n",
      "WARNING:root:Route needs to have a network route composed of a list of network links that the vehicle on this route traverses. If read the Schedule from GTFS, the resulting Route objects will not have reference to the network route taken.\n",
      "WARNING:root:Route needs to have a network route composed of a list of network links that the vehicle on this route traverses. If read the Schedule from GTFS, the resulting Route objects will not have reference to the network route taken.\n",
      "WARNING:root:Route needs to have a network route composed of a list of network links that the vehicle on this route traverses. If read the Schedule from GTFS, the resulting Route objects will not have reference to the network route taken.\n",
      "WARNING:root:Route needs to have a network route composed of a list of network links that the vehicle on this route traverses. If read the Schedule from GTFS, the resulting Route objects will not have reference to the network route taken.\n",
      "WARNING:root:Route needs to have a network route composed of a list of network links that the vehicle on this route traverses. If read the Schedule from GTFS, the resulting Route objects will not have reference to the network route taken.\n",
      "WARNING:root:Route needs to have a network route composed of a list of network links that the vehicle on this route traverses. If read the Schedule from GTFS, the resulting Route objects will not have reference to the network route taken.\n",
      "WARNING:root:Route needs to have a network route composed of a list of network links that the vehicle on this route traverses. If read the Schedule from GTFS, the resulting Route objects will not have reference to the network route taken.\n",
      "WARNING:root:Route needs to have a network route composed of a list of network links that the vehicle on this route traverses. If read the Schedule from GTFS, the resulting Route objects will not have reference to the network route taken.\n",
      "WARNING:root:Route needs to have a network route composed of a list of network links that the vehicle on this route traverses. If read the Schedule from GTFS, the resulting Route objects will not have reference to the network route taken.\n",
      "WARNING:root:Route needs to have a network route composed of a list of network links that the vehicle on this route traverses. If read the Schedule from GTFS, the resulting Route objects will not have reference to the network route taken.\n",
      "WARNING:root:Route needs to have a network route composed of a list of network links that the vehicle on this route traverses. If read the Schedule from GTFS, the resulting Route objects will not have reference to the network route taken.\n"
     ]
    },
    {
     "name": "stderr",
     "output_type": "stream",
     "text": [
      "WARNING:root:Route needs to have a network route composed of a list of network links that the vehicle on this route traverses. If read the Schedule from GTFS, the resulting Route objects will not have reference to the network route taken.\n",
      "WARNING:root:Route needs to have a network route composed of a list of network links that the vehicle on this route traverses. If read the Schedule from GTFS, the resulting Route objects will not have reference to the network route taken.\n",
      "WARNING:root:Route needs to have a network route composed of a list of network links that the vehicle on this route traverses. If read the Schedule from GTFS, the resulting Route objects will not have reference to the network route taken.\n",
      "WARNING:root:Route needs to have a network route composed of a list of network links that the vehicle on this route traverses. If read the Schedule from GTFS, the resulting Route objects will not have reference to the network route taken.\n",
      "WARNING:root:Route needs to have a network route composed of a list of network links that the vehicle on this route traverses. If read the Schedule from GTFS, the resulting Route objects will not have reference to the network route taken.\n",
      "WARNING:root:Route needs to have a network route composed of a list of network links that the vehicle on this route traverses. If read the Schedule from GTFS, the resulting Route objects will not have reference to the network route taken.\n",
      "WARNING:root:Route needs to have a network route composed of a list of network links that the vehicle on this route traverses. If read the Schedule from GTFS, the resulting Route objects will not have reference to the network route taken.\n",
      "WARNING:root:Route needs to have a network route composed of a list of network links that the vehicle on this route traverses. If read the Schedule from GTFS, the resulting Route objects will not have reference to the network route taken.\n",
      "WARNING:root:Route needs to have a network route composed of a list of network links that the vehicle on this route traverses. If read the Schedule from GTFS, the resulting Route objects will not have reference to the network route taken.\n",
      "WARNING:root:Route needs to have a network route composed of a list of network links that the vehicle on this route traverses. If read the Schedule from GTFS, the resulting Route objects will not have reference to the network route taken.\n",
      "WARNING:root:Route needs to have a network route composed of a list of network links that the vehicle on this route traverses. If read the Schedule from GTFS, the resulting Route objects will not have reference to the network route taken.\n",
      "WARNING:root:Route needs to have a network route composed of a list of network links that the vehicle on this route traverses. If read the Schedule from GTFS, the resulting Route objects will not have reference to the network route taken.\n",
      "WARNING:root:Route needs to have a network route composed of a list of network links that the vehicle on this route traverses. If read the Schedule from GTFS, the resulting Route objects will not have reference to the network route taken.\n",
      "WARNING:root:Route needs to have a network route composed of a list of network links that the vehicle on this route traverses. If read the Schedule from GTFS, the resulting Route objects will not have reference to the network route taken.\n",
      "WARNING:root:Route needs to have a network route composed of a list of network links that the vehicle on this route traverses. If read the Schedule from GTFS, the resulting Route objects will not have reference to the network route taken.\n",
      "WARNING:root:Route needs to have a network route composed of a list of network links that the vehicle on this route traverses. If read the Schedule from GTFS, the resulting Route objects will not have reference to the network route taken.\n",
      "WARNING:root:Route needs to have a network route composed of a list of network links that the vehicle on this route traverses. If read the Schedule from GTFS, the resulting Route objects will not have reference to the network route taken.\n",
      "WARNING:root:Route needs to have a network route composed of a list of network links that the vehicle on this route traverses. If read the Schedule from GTFS, the resulting Route objects will not have reference to the network route taken.\n",
      "WARNING:root:Route needs to have a network route composed of a list of network links that the vehicle on this route traverses. If read the Schedule from GTFS, the resulting Route objects will not have reference to the network route taken.\n",
      "WARNING:root:Route needs to have a network route composed of a list of network links that the vehicle on this route traverses. If read the Schedule from GTFS, the resulting Route objects will not have reference to the network route taken.\n",
      "WARNING:root:Route needs to have a network route composed of a list of network links that the vehicle on this route traverses. If read the Schedule from GTFS, the resulting Route objects will not have reference to the network route taken.\n"
     ]
    }
   ],
   "source": [
    "n.write_to_matsim(os.path.join(path_to_matsim_network, 'genet_output'))"
   ]
  },
  {
   "cell_type": "markdown",
   "metadata": {},
   "source": [
    "You can check that a `Network` that had been read in from MATSim files results in semantically equal xml files \n",
    "(if not changes were applied to the `Network` of course)"
   ]
  },
  {
   "cell_type": "code",
   "execution_count": 44,
   "metadata": {
    "ExecuteTime": {
     "end_time": "2020-06-04T12:36:02.829988Z",
     "start_time": "2020-06-04T12:36:02.817742Z"
    }
   },
   "outputs": [],
   "source": [
    "from tests.xml_diff import assert_semantically_equal"
   ]
  },
  {
   "cell_type": "code",
   "execution_count": 45,
   "metadata": {
    "ExecuteTime": {
     "end_time": "2020-06-04T12:36:04.608895Z",
     "start_time": "2020-06-04T12:36:02.832066Z"
    }
   },
   "outputs": [
    {
     "name": "stdout",
     "output_type": "stream",
     "text": [
      "/Users/kasia.kozlowska/PycharmProjects/ABM/genet/example_data/pt2matsim_network/schedule.xml and /Users/kasia.kozlowska/PycharmProjects/ABM/genet/example_data/pt2matsim_network/schedule.xml are semantically equal\n"
     ]
    },
    {
     "data": {
      "text/plain": [
       "True"
      ]
     },
     "execution_count": 45,
     "metadata": {},
     "output_type": "execute_result"
    }
   ],
   "source": [
    "assert_semantically_equal(schedule, os.path.join(path_to_matsim_network, 'schedule.xml'))"
   ]
  },
  {
   "cell_type": "code",
   "execution_count": null,
   "metadata": {},
   "outputs": [],
   "source": []
  }
 ],
 "metadata": {
  "kernelspec": {
   "display_name": "Python (genet)",
   "language": "python",
   "name": "genet"
  },
  "language_info": {
   "codemirror_mode": {
    "name": "ipython",
    "version": 3
   },
   "file_extension": ".py",
   "mimetype": "text/x-python",
   "name": "python",
   "nbconvert_exporter": "python",
   "pygments_lexer": "ipython3",
   "version": "3.7.5"
  },
  "latex_envs": {
   "LaTeX_envs_menu_present": true,
   "autoclose": true,
   "autocomplete": true,
   "bibliofile": "biblio.bib",
   "cite_by": "apalike",
   "current_citInitial": 1,
   "eqLabelWithNumbers": true,
   "eqNumInitial": 1,
   "hotkeys": {
    "equation": "Ctrl-E",
    "itemize": "Ctrl-I"
   },
   "labels_anchors": false,
   "latex_user_defs": false,
   "report_style_numbering": false,
   "user_envs_cfg": false
  },
  "toc": {
   "base_numbering": 1,
   "nav_menu": {},
   "number_sections": true,
   "sideBar": true,
   "skip_h1_title": false,
   "title_cell": "Table of Contents",
   "title_sidebar": "Contents",
   "toc_cell": false,
   "toc_position": {},
   "toc_section_display": true,
   "toc_window_display": false
  },
  "varInspector": {
   "cols": {
    "lenName": 16,
    "lenType": 16,
    "lenVar": 40
   },
   "kernels_config": {
    "python": {
     "delete_cmd_postfix": "",
     "delete_cmd_prefix": "del ",
     "library": "var_list.py",
     "varRefreshCmd": "print(var_dic_list())"
    },
    "r": {
     "delete_cmd_postfix": ") ",
     "delete_cmd_prefix": "rm(",
     "library": "var_list.r",
     "varRefreshCmd": "cat(var_dic_list()) "
    }
   },
   "types_to_exclude": [
    "module",
    "function",
    "builtin_function_or_method",
    "instance",
    "_Feature"
   ],
   "window_display": false
  }
 },
 "nbformat": 4,
 "nbformat_minor": 2
}
